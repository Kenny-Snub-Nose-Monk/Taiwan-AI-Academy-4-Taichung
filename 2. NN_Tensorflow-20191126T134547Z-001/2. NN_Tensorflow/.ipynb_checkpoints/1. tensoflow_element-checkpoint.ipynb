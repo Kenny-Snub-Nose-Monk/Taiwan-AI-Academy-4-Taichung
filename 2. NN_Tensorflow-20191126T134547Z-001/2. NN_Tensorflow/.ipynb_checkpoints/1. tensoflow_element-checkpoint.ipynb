{
 "cells": [
  {
   "cell_type": "markdown",
   "metadata": {
    "colab_type": "text",
    "id": "7GrW9v4hVHhE"
   },
   "source": [
    "# Elements in Tensorflow"
   ]
  },
  {
   "cell_type": "code",
   "execution_count": 0,
   "metadata": {
    "colab": {},
    "colab_type": "code",
    "id": "mP0d7Jn_VHhH"
   },
   "outputs": [],
   "source": [
    "import tensorflow as tf\n",
    "import numpy as np"
   ]
  },
  {
   "cell_type": "markdown",
   "metadata": {
    "colab_type": "text",
    "id": "HaJIrrBhVHhS"
   },
   "source": [
    "### How does Tensorflow work?"
   ]
  },
  {
   "cell_type": "markdown",
   "metadata": {
    "colab_type": "text",
    "id": "qUOOXNxiVHha"
   },
   "source": [
    "![flow](pics/tensors_flowing.gif)"
   ]
  },
  {
   "cell_type": "markdown",
   "metadata": {
    "colab_type": "text",
    "id": "y31Ah4m-VHhe"
   },
   "source": [
    "### Think of TensorFlow Core programs as consisting of two discrete sections:\n",
    "\n",
    "1. Building the computational graph (a tf.Graph).\n",
    "2. Running the computational graph (using a tf.Session)."
   ]
  },
  {
   "cell_type": "markdown",
   "metadata": {
    "colab_type": "text",
    "id": "o0soGXbvVHhj"
   },
   "source": [
    "## tf.constant\n",
    "Return a constant tensor. <br>\n",
    "Can't be modified after created."
   ]
  },
  {
   "cell_type": "code",
   "execution_count": 0,
   "metadata": {
    "colab": {},
    "colab_type": "code",
    "id": "M7V2WRRVVHhm"
   },
   "outputs": [],
   "source": [
    "# define graph\n",
    "a = tf.constant([1., 0.], dtype=tf.float32, name='const_a')\n",
    "print(a)"
   ]
  },
  {
   "cell_type": "code",
   "execution_count": 0,
   "metadata": {
    "colab": {},
    "colab_type": "code",
    "id": "P3LjUdU0VHhu"
   },
   "outputs": [],
   "source": [
    "# create a session\n",
    "sess = tf.Session()\n",
    "print(sess.run(a))\n",
    "sess.close()"
   ]
  },
  {
   "cell_type": "markdown",
   "metadata": {
    "colab_type": "text",
    "id": "M6vPHVgZVHh6"
   },
   "source": [
    "![alt text](pics/ex1.PNG)"
   ]
  },
  {
   "cell_type": "markdown",
   "metadata": {
    "colab_type": "text",
    "id": "i96_FiwbVHh9"
   },
   "source": [
    "## Some simple operations\n",
    ">`tf.add, tf.subtract, tf.multiply, tf.divide -> +, -, *, /`"
   ]
  },
  {
   "cell_type": "code",
   "execution_count": 0,
   "metadata": {
    "colab": {},
    "colab_type": "code",
    "id": "wB_ybjtqVHh_",
    "scrolled": true
   },
   "outputs": [],
   "source": [
    "# define graph\n",
    "x = tf.constant([3., 0.], name='x')\n",
    "y = tf.constant([1., 1.], name='y')\n",
    "\n",
    "z_1 = tf.add(x, y)  # z_1 = x + y \n",
    "z_2 = tf.multiply(x, y)  # z_2 = x * y \n",
    "\n",
    "print(z_1)\n",
    "print('---')\n",
    "print(z_2)"
   ]
  },
  {
   "cell_type": "code",
   "execution_count": 0,
   "metadata": {
    "colab": {},
    "colab_type": "code",
    "id": "rJzQYZj6VHiS",
    "scrolled": true
   },
   "outputs": [],
   "source": [
    "# create a session\n",
    "with tf.Session() as sess:\n",
    "    output1, output2 = sess.run([z_1, z_2])  # output1, output2 = sess.run(z_1), sess.run(z_2)\n",
    "    print(output1)\n",
    "    print('---')\n",
    "    print(output2)"
   ]
  },
  {
   "cell_type": "markdown",
   "metadata": {
    "colab_type": "text",
    "id": "49su4riRVHia"
   },
   "source": [
    "![alt text](pics/ex2.PNG)"
   ]
  },
  {
   "cell_type": "markdown",
   "metadata": {
    "colab_type": "text",
    "id": "G3rb9yyeVHid"
   },
   "source": [
    "## tf.placeholder\n",
    "A Tensor that may be used as a handle for *feeding* a value, but not evaluated directly."
   ]
  },
  {
   "cell_type": "code",
   "execution_count": 0,
   "metadata": {
    "colab": {},
    "colab_type": "code",
    "id": "_6M5WsKTVHil"
   },
   "outputs": [],
   "source": [
    "# define graph\n",
    "X = tf.placeholder(dtype=tf.float32, shape=[2, 2], name='Input')  # have to give the right shape\n",
    "ones = tf.constant([[1, 1], [1, 1]], dtype=tf.float32, name='one')\n",
    "\n",
    "result = X + ones\n",
    "print(X)"
   ]
  },
  {
   "cell_type": "code",
   "execution_count": 0,
   "metadata": {
    "colab": {},
    "colab_type": "code",
    "id": "oNF5TwWEVHi5"
   },
   "outputs": [],
   "source": [
    "# create a session\n",
    "sess = tf.Session()\n",
    "print(sess.run(result, feed_dict={X: [[0, -1], [0, 1]]}))\n",
    "# print(sess.run(result, feed_dict={X: [0, -1]}))  # wrong shape!\n",
    "sess.close()"
   ]
  },
  {
   "cell_type": "markdown",
   "metadata": {
    "colab_type": "text",
    "id": "DFCk7hBYVHjB"
   },
   "source": [
    "![alt text](pics/ex3.PNG)"
   ]
  },
  {
   "cell_type": "markdown",
   "metadata": {
    "colab_type": "text",
    "id": "gDHEgFaMVHjE"
   },
   "source": [
    "## tf.Variable\n",
    "A tensor that its value can be updated(unlike tf.constant). <br>\n",
    "- __Always initialize variables before using their values.__"
   ]
  },
  {
   "cell_type": "code",
   "execution_count": 0,
   "metadata": {
    "colab": {},
    "colab_type": "code",
    "id": "0SLkcKInVHjG"
   },
   "outputs": [],
   "source": [
    "# define graph\n",
    "a = tf.Variable(0., name='var_a')\n",
    "b = tf.Variable(2., name='var_b')\n",
    "\n",
    "Sum = tf.add(a, b, name='addab')\n",
    "init = tf.global_variables_initializer()\n",
    "print(a)"
   ]
  },
  {
   "cell_type": "code",
   "execution_count": 0,
   "metadata": {
    "colab": {},
    "colab_type": "code",
    "id": "ET-25EfwVHjO"
   },
   "outputs": [],
   "source": [
    "# create a session\n",
    "sess = tf.Session()\n",
    "sess.run(init)  # initialize variables\n",
    "print(sess.run(Sum))\n",
    "sess.close()"
   ]
  },
  {
   "cell_type": "markdown",
   "metadata": {
    "colab_type": "text",
    "id": "saffxhQuVHj-"
   },
   "source": [
    "![alt text](pics/ex4.PNG)"
   ]
  },
  {
   "cell_type": "markdown",
   "metadata": {
    "colab_type": "text",
    "id": "ckdB9evEVHkF"
   },
   "source": [
    "## tf.assign\n"
   ]
  },
  {
   "cell_type": "code",
   "execution_count": 0,
   "metadata": {
    "colab": {},
    "colab_type": "code",
    "id": "BzEhhuwWVHkH"
   },
   "outputs": [],
   "source": [
    "# define graph\n",
    "c = tf.Variable(0., name='var_c')\n",
    "d = tf.constant(2., name='const_d')\n",
    "\n",
    "Sum = tf.add(c, d, name='addcd')\n",
    "assign_c = tf.assign(c, Sum)  # update c by assign Sum's value to it\n",
    "init = tf.global_variables_initializer()\n",
    "\n",
    "# create a session\n",
    "sess = tf.Session()\n",
    "sess.run(init)\n",
    "for _ in range(3):\n",
    "    print('var_c =', sess.run(c))\n",
    "    print('addcd =', sess.run(Sum))\n",
    "    print('---')\n",
    "    sess.run(assign_c)\n",
    "    \n",
    "sess.close()"
   ]
  },
  {
   "cell_type": "markdown",
   "metadata": {
    "colab_type": "text",
    "id": "bfey2ZPOVHkU"
   },
   "source": [
    "<font color=red>__The connections between tensors are what make Tensorflow special.__<font>\n",
    "![alt text](pics/ex5.PNG)"
   ]
  },
  {
   "cell_type": "markdown",
   "metadata": {
    "colab_type": "text",
    "id": "RVkc-TCwVHkX"
   },
   "source": [
    "### In numpy case..."
   ]
  },
  {
   "cell_type": "code",
   "execution_count": 0,
   "metadata": {
    "colab": {},
    "colab_type": "code",
    "id": "dNzuY3IjVHka"
   },
   "outputs": [],
   "source": [
    "c = np.array(0.)\n",
    "d = np.array(2.)\n",
    "Sum = c + d\n",
    "for _ in range(3):\n",
    "    print('c =', c)\n",
    "    print('Sum =', Sum)\n",
    "    print('---')\n",
    "    c = Sum\n",
    "    Sum = c + d"
   ]
  },
  {
   "cell_type": "code",
   "execution_count": 0,
   "metadata": {
    "colab": {},
    "colab_type": "code",
    "id": "SAnp7Xp5VHlV"
   },
   "outputs": [],
   "source": []
  }
 ],
 "metadata": {
  "colab": {
   "name": "1. tensoflow_element.ipynb",
   "provenance": [],
   "version": "0.3.2"
  },
  "kernelspec": {
   "display_name": "Python [default]",
   "language": "python",
   "name": "python3"
  },
  "language_info": {
   "codemirror_mode": {
    "name": "ipython",
    "version": 3
   },
   "file_extension": ".py",
   "mimetype": "text/x-python",
   "name": "python",
   "nbconvert_exporter": "python",
   "pygments_lexer": "ipython3",
   "version": "3.6.6"
  }
 },
 "nbformat": 4,
 "nbformat_minor": 1
}
