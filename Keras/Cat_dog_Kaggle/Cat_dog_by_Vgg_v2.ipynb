{
 "cells": [
  {
   "cell_type": "code",
   "execution_count": 9,
   "metadata": {},
   "outputs": [
    {
     "name": "stdout",
     "output_type": "stream",
     "text": [
      "Found 2000 images belonging to 2 classes.\n",
      "1 2 3 4 5 6 7 8 9 10 11 12 13 14 15 16 17 18 19 20 21 22 23 24 25 26 27 28 29 30 31 32 33 34 35 36 37 38 39 40 41 42 43 44 45 46 47 48 49 50 51 52 53 54 55 56 57 58 59 60 61 62 63 64 65 66 67 68 69 70 71 72 73 74 75 76 77 78 79 80 81 82 83 84 85 86 87 88 89 90 91 92 93 94 95 96 97 98 99 100 Found 1000 images belonging to 2 classes.\n",
      "1 2 3 4 5 6 7 8 9 10 11 12 13 14 15 16 17 18 19 20 21 22 23 24 25 26 27 28 29 30 31 32 33 34 35 36 37 38 39 40 41 42 43 44 45 46 47 48 49 50 Found 1000 images belonging to 2 classes.\n",
      "1 2 3 4 5 6 7 8 9 10 11 12 13 14 15 16 17 18 19 20 21 22 23 24 25 26 27 28 29 30 31 32 33 34 35 36 37 38 39 40 41 42 43 44 45 46 47 48 49 50 "
     ]
    }
   ],
   "source": [
    "import os\n",
    "import numpy as np\n",
    "from tensorflow.keras.preprocessing.image import ImageDataGenerator\n",
    "\n",
    "base_dir = './cats_and_dogs_small'\n",
    "\n",
    "train_dir = os.path.join(base_dir, 'train')\n",
    "validation_dir = os.path.join(base_dir, 'validation')\n",
    "test_dir = os.path.join(base_dir, 'test')\n",
    "\n",
    "datagen = ImageDataGenerator(rescale = 1./255)\n",
    "batch_size = 20\n",
    "\n",
    "def extract_features(directory, sample_count):\n",
    "    features = np.zeros(shape = (sample_count, 4, 4, 512)) # VGG 捲基層的輸出為(4,4,512)\n",
    "    labels = np.zeros(shape = (sample_count))\n",
    "    generator = datagen.flow_from_directory(directory,\n",
    "                                            target_size = (150, 150),\n",
    "                                           batch_size = batch_size,\n",
    "                                           class_mode = 'binary')\n",
    "    i = 0\n",
    "    for inputs_batch, labels_batch in generator:\n",
    "        features_batch = conv_base.predict(inputs_batch)\n",
    "        features[i * batch_size : (i + 1)* batch_size] = features_batch\n",
    "        labels[i * batch_size : (i + 1) * batch_size] = labels_batch\n",
    "        i += 1\n",
    "        print(i, end = ' ') #萃取時間較久, 所以印出i 來察看進度\n",
    "        \n",
    "        if i * batch_size >= sample_count:\n",
    "            break #產生器會無限產生影像資料,所以在每個影像被萃取過特徵後,就執行break\n",
    "    \n",
    "    return features, labels\n",
    "\n",
    "train_feautres, train_labels = extract_features(train_dir, 2000) #樣本數\n",
    "validation_features, valiation_labels = extract_features(validation_dir, 1000)\n",
    "test_features, test_labels = extract_features(test_dir, 1000)"
   ]
  },
  {
   "cell_type": "code",
   "execution_count": 10,
   "metadata": {},
   "outputs": [
    {
     "name": "stdout",
     "output_type": "stream",
     "text": [
      "before:train_feautres (2000, 4, 4, 512)\n",
      "after:train_feautres (2000, 8192)\n"
     ]
    }
   ],
   "source": [
    "print('before:train_feautres', train_feautres.shape)\n",
    "\n",
    "train_feautres = np.reshape(train_feautres, (2000, 4 * 4 * 512))\n",
    "validation_features = np.reshape(validation_features, (1000, 4 * 4 * 512))\n",
    "test_feautres = np.reshape(test_features, (1000, 4*4*512))\n",
    "\n",
    "print('after:train_feautres', train_feautres.shape)"
   ]
  },
  {
   "cell_type": "code",
   "execution_count": 11,
   "metadata": {},
   "outputs": [],
   "source": [
    "from tensorflow.keras import models\n",
    "from tensorflow.keras import layers\n",
    "from tensorflow.keras.applications import VGG16\n",
    "\n",
    "conv_base = VGG16(weights = 'imagenet',\n",
    "                 include_top = False,\n",
    "                 input_shape = (150,150,3))\n",
    "\n",
    "model = models.Sequential()\n",
    "model.add(conv_base) #將捲積基底視為層加入Sequential 模型中\n",
    "model.add(layers.Flatten())\n",
    "model.add(layers.Dense(256, activation = 'relu'))\n",
    "model.add(layers.Dense(1, activation = 'sigmoid'))"
   ]
  },
  {
   "cell_type": "code",
   "execution_count": 12,
   "metadata": {},
   "outputs": [
    {
     "name": "stdout",
     "output_type": "stream",
     "text": [
      "Model: \"sequential_1\"\n",
      "_________________________________________________________________\n",
      "Layer (type)                 Output Shape              Param #   \n",
      "=================================================================\n",
      "vgg16 (Model)                (None, 4, 4, 512)         14714688  \n",
      "_________________________________________________________________\n",
      "flatten_1 (Flatten)          (None, 8192)              0         \n",
      "_________________________________________________________________\n",
      "dense_2 (Dense)              (None, 256)               2097408   \n",
      "_________________________________________________________________\n",
      "dense_3 (Dense)              (None, 1)                 257       \n",
      "=================================================================\n",
      "Total params: 16,812,353\n",
      "Trainable params: 16,812,353\n",
      "Non-trainable params: 0\n",
      "_________________________________________________________________\n"
     ]
    }
   ],
   "source": [
    "model.summary()"
   ]
  },
  {
   "cell_type": "code",
   "execution_count": 13,
   "metadata": {},
   "outputs": [
    {
     "name": "stdout",
     "output_type": "stream",
     "text": [
      "This is the number of trainable weightsbefore freezing the conv base: 30\n",
      "This is the number of trainable weightsafter freezing the conv base: 4\n"
     ]
    }
   ],
   "source": [
    "#凍結convolutional base 卷積基底,避免訓練其中更新權重,導致140萬個參數要填整\n",
    "\n",
    "print('This is the number of trainable weights'\n",
    "     'before freezing the conv base:', len(model.trainable_weights)) #30個weights哪裡來的?\n",
    "\n",
    "conv_base.trainable = False\n",
    "\n",
    "print('This is the number of trainable weights'\n",
    "     'after freezing the conv base:', len(model.trainable_weights))#為什麼變成4個?"
   ]
  },
  {
   "cell_type": "code",
   "execution_count": 15,
   "metadata": {},
   "outputs": [
    {
     "name": "stdout",
     "output_type": "stream",
     "text": [
      "Found 2000 images belonging to 2 classes.\n",
      "Found 1000 images belonging to 2 classes.\n",
      "Epoch 1/30\n",
      "100/100 [==============================] - 15s 154ms/step - loss: 0.6091 - acc: 0.6600 - val_loss: 0.4575 - val_acc: 0.8220\n",
      "Epoch 2/30\n",
      "100/100 [==============================] - 15s 153ms/step - loss: 0.4898 - acc: 0.7760 - val_loss: 0.3814 - val_acc: 0.8360\n",
      "Epoch 3/30\n",
      "100/100 [==============================] - 15s 152ms/step - loss: 0.4286 - acc: 0.8100 - val_loss: 0.3578 - val_acc: 0.8480\n",
      "Epoch 4/30\n",
      "100/100 [==============================] - 15s 153ms/step - loss: 0.3999 - acc: 0.8205 - val_loss: 0.3088 - val_acc: 0.8790\n",
      "Epoch 5/30\n",
      "100/100 [==============================] - 15s 153ms/step - loss: 0.3824 - acc: 0.8290 - val_loss: 0.3064 - val_acc: 0.8650\n",
      "Epoch 6/30\n",
      "100/100 [==============================] - 15s 153ms/step - loss: 0.3757 - acc: 0.8390 - val_loss: 0.2892 - val_acc: 0.8770\n",
      "Epoch 7/30\n",
      "100/100 [==============================] - 16s 156ms/step - loss: 0.3720 - acc: 0.8275 - val_loss: 0.2803 - val_acc: 0.8890\n",
      "Epoch 8/30\n",
      "100/100 [==============================] - 15s 154ms/step - loss: 0.3445 - acc: 0.8500 - val_loss: 0.2664 - val_acc: 0.8930\n",
      "Epoch 9/30\n",
      "100/100 [==============================] - 16s 156ms/step - loss: 0.3408 - acc: 0.8455 - val_loss: 0.2642 - val_acc: 0.8910\n",
      "Epoch 10/30\n",
      "100/100 [==============================] - 16s 155ms/step - loss: 0.3404 - acc: 0.8510 - val_loss: 0.2602 - val_acc: 0.8940\n",
      "Epoch 11/30\n",
      "100/100 [==============================] - 16s 155ms/step - loss: 0.3257 - acc: 0.8600 - val_loss: 0.2606 - val_acc: 0.8970\n",
      "Epoch 12/30\n",
      "100/100 [==============================] - 16s 156ms/step - loss: 0.3283 - acc: 0.8525 - val_loss: 0.2595 - val_acc: 0.8980\n",
      "Epoch 13/30\n",
      "100/100 [==============================] - 15s 155ms/step - loss: 0.3330 - acc: 0.8505 - val_loss: 0.2567 - val_acc: 0.8980\n",
      "Epoch 14/30\n",
      "100/100 [==============================] - 15s 154ms/step - loss: 0.3109 - acc: 0.8650 - val_loss: 0.2589 - val_acc: 0.8910\n",
      "Epoch 15/30\n",
      "100/100 [==============================] - 15s 155ms/step - loss: 0.3139 - acc: 0.8700 - val_loss: 0.2538 - val_acc: 0.8960\n",
      "Epoch 16/30\n",
      "100/100 [==============================] - 15s 155ms/step - loss: 0.3094 - acc: 0.8685 - val_loss: 0.2519 - val_acc: 0.8920\n",
      "Epoch 17/30\n",
      "100/100 [==============================] - 16s 156ms/step - loss: 0.3049 - acc: 0.8610 - val_loss: 0.2494 - val_acc: 0.9000\n",
      "Epoch 18/30\n",
      "100/100 [==============================] - 16s 157ms/step - loss: 0.3075 - acc: 0.8665 - val_loss: 0.2479 - val_acc: 0.9020\n",
      "Epoch 19/30\n",
      "100/100 [==============================] - 15s 155ms/step - loss: 0.3061 - acc: 0.8610 - val_loss: 0.2505 - val_acc: 0.8990\n",
      "Epoch 20/30\n",
      "100/100 [==============================] - 16s 156ms/step - loss: 0.3011 - acc: 0.8695 - val_loss: 0.2476 - val_acc: 0.9020\n",
      "Epoch 21/30\n",
      "100/100 [==============================] - 15s 154ms/step - loss: 0.3002 - acc: 0.8720 - val_loss: 0.2509 - val_acc: 0.8960\n",
      "Epoch 22/30\n",
      "100/100 [==============================] - 15s 154ms/step - loss: 0.2958 - acc: 0.8705 - val_loss: 0.2510 - val_acc: 0.8910\n",
      "Epoch 23/30\n",
      "100/100 [==============================] - 16s 156ms/step - loss: 0.3002 - acc: 0.8670 - val_loss: 0.2434 - val_acc: 0.8990\n",
      "Epoch 24/30\n",
      "100/100 [==============================] - 15s 154ms/step - loss: 0.2893 - acc: 0.8745 - val_loss: 0.2417 - val_acc: 0.9030\n",
      "Epoch 25/30\n",
      "100/100 [==============================] - 15s 153ms/step - loss: 0.3017 - acc: 0.8640 - val_loss: 0.2424 - val_acc: 0.9060\n",
      "Epoch 26/30\n",
      "100/100 [==============================] - 15s 154ms/step - loss: 0.2953 - acc: 0.8755 - val_loss: 0.2419 - val_acc: 0.9000\n",
      "Epoch 27/30\n",
      "100/100 [==============================] - 16s 156ms/step - loss: 0.2874 - acc: 0.8785 - val_loss: 0.2443 - val_acc: 0.9000\n",
      "Epoch 28/30\n",
      "100/100 [==============================] - 16s 156ms/step - loss: 0.2875 - acc: 0.8715 - val_loss: 0.2453 - val_acc: 0.9040\n",
      "Epoch 29/30\n",
      "100/100 [==============================] - 16s 155ms/step - loss: 0.2872 - acc: 0.8755 - val_loss: 0.2433 - val_acc: 0.9040\n",
      "Epoch 30/30\n",
      "100/100 [==============================] - 16s 155ms/step - loss: 0.2675 - acc: 0.8910 - val_loss: 0.2469 - val_acc: 0.9020\n"
     ]
    }
   ],
   "source": [
    "from tensorflow.keras.preprocessing.image import  ImageDataGenerator\n",
    "from tensorflow.keras import optimizers\n",
    "\n",
    "train_datagen = ImageDataGenerator(\n",
    "            rescale = 1./255,\n",
    "            rotation_range = 40,\n",
    "            width_shift_range =0.2,\n",
    "            height_shift_range = 0.2,\n",
    "            shear_range = 0.2,\n",
    "            zoom_range = 0.2,\n",
    "            horizontal_flip = True,\n",
    "            fill_mode = 'nearest')\n",
    "\n",
    "test_datagen = ImageDataGenerator(rescale = 1./255) #為什麼test不做 normalization\n",
    "\n",
    "\n",
    "train_generator = train_datagen.flow_from_directory(\n",
    "                train_dir,\n",
    "                target_size = (150,150),\n",
    "                batch_size = 20,\n",
    "                class_mode = 'binary')\n",
    "\n",
    "\n",
    "validation_generator = test_datagen.flow_from_directory(\n",
    "                    validation_dir,\n",
    "                    target_size = (150,150),\n",
    "                    batch_size = 20,\n",
    "                    class_mode = 'binary')\n",
    "\n",
    "model.compile(loss = 'binary_crossentropy',\n",
    "              optimizer = optimizers.RMSprop(lr = 2e-5),\n",
    "             metrics = ['acc'])\n",
    "\n",
    "\n",
    "history = model.fit_generator(\n",
    "            train_generator,\n",
    "            steps_per_epoch = 100,\n",
    "            epochs = 30,\n",
    "            validation_data = validation_generator,\n",
    "            validation_steps = 50)"
   ]
  },
  {
   "cell_type": "code",
   "execution_count": 16,
   "metadata": {},
   "outputs": [
    {
     "data": {
      "image/png": "[encoded data removed]",
      "text/plain": [
       "<Figure size 432x288 with 1 Axes>"
      ]
     },
     "metadata": {
      "needs_background": "light"
     },
     "output_type": "display_data"
    },
    {
     "data": {
      "image/png": "[encoded data removed]",
      "text/plain": [
       "<Figure size 432x288 with 1 Axes>"
      ]
     },
     "metadata": {
      "needs_background": "light"
     },
     "output_type": "display_data"
    }
   ],
   "source": [
    "import matplotlib.pyplot as plt\n",
    "%matplotlib inline\n",
    "acc = history.history['acc']\n",
    "val_acc = history.history['val_acc']\n",
    "loss = history.history['loss']\n",
    "val_loss = history.history['val_loss']\n",
    "\n",
    "epochs = range(1, len(acc)+1)\n",
    "\n",
    "\n",
    "plt.plot(epochs, acc, 'bo', label = 'Training acc')\n",
    "plt.plot(epochs, val_acc, 'b',label = 'Validation acc')\n",
    "plt.title('Training and validation accuracy')\n",
    "plt.legend()\n",
    "\n",
    "plt.figure()\n",
    "\n",
    "\n",
    "plt.plot(epochs, loss, 'bo', label = 'Training loss')\n",
    "plt.plot(epochs, val_loss, 'b', label = 'Validation loss')\n",
    "plt.title('Training and validation loss')\n",
    "\n",
    "plt.show()"
   ]
  },
  {
   "cell_type": "code",
   "execution_count": null,
   "metadata": {},
   "outputs": [],
   "source": []
  }
 ],
 "metadata": {
  "kernelspec": {
   "display_name": "Python 3",
   "language": "python",
   "name": "python3"
  },
  "language_info": {
   "codemirror_mode": {
    "name": "ipython",
    "version": 3
   },
   "file_extension": ".py",
   "mimetype": "text/x-python",
   "name": "python",
   "nbconvert_exporter": "python",
   "pygments_lexer": "ipython3",
   "version": "3.7.3"
  }
 },
 "nbformat": 4,
 "nbformat_minor": 2
}
