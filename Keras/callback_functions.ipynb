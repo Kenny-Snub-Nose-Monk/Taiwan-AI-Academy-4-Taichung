{
 "cells": [
  {
   "cell_type": "markdown",
   "metadata": {},
   "source": [
    "# **Callback functions**"
   ]
  },
  {
   "cell_type": "markdown",
   "metadata": {},
   "source": [
    "* ## **Early Stopping** (使用方法請查看 overfitting.ipynb)\n",
    "* ## [**Checkpoint**](#Callbacks-—-Checkpoints)\n",
    "* ## [**Learning Rate Scheduler**](#Callbacks-—-LearningRateScheduler)\n",
    "* ## [**TensorBoard**](#Callbacks-—-TensorBoard)"
   ]
  },
  {
   "cell_type": "markdown",
   "metadata": {},
   "source": [
    "### **匯入所需的函式庫**"
   ]
  },
  {
   "cell_type": "code",
   "execution_count": 1,
   "metadata": {},
   "outputs": [],
   "source": [
    "from sklearn.model_selection import train_test_split\n",
    "import numpy as np\n",
    "import pandas as pd\n",
    "import cv2\n",
    "import os\n",
    "import tensorflow as tf\n",
    "from tensorflow import keras\n",
    "from tensorflow.keras import layers\n",
    "from tensorflow.keras import callbacks\n",
    "from tensorflow.keras.utils import plot_model\n",
    "from tensorflow.keras.utils import to_categorical\n",
    "\n",
    "from tqdm import tqdm_notebook\n",
    "import matplotlib.pyplot as plt"
   ]
  },
  {
   "cell_type": "markdown",
   "metadata": {},
   "source": [
    "### **準備資料**"
   ]
  },
  {
   "cell_type": "code",
   "execution_count": 2,
   "metadata": {},
   "outputs": [],
   "source": [
    "pkgo = pd.read_csv('./Data/pkgo_nyc_class5.csv')"
   ]
  },
  {
   "cell_type": "code",
   "execution_count": 3,
   "metadata": {},
   "outputs": [],
   "source": [
    "X_ = pkgo.iloc[:, :-1]\n",
    "X = X_.values  # 將 dataframe 轉換成 ndarray 的資料型態"
   ]
  },
  {
   "cell_type": "code",
   "execution_count": 4,
   "metadata": {},
   "outputs": [],
   "source": [
    "# 做 One-hot encoding\n",
    "y = pkgo['class']\n",
    "y = to_categorical(y)"
   ]
  },
  {
   "cell_type": "code",
   "execution_count": 5,
   "metadata": {},
   "outputs": [],
   "source": [
    "# 將資料切分為訓練集和測試集\n",
    "X_train, X_valid, y_train, y_valid \\\n",
    "    = train_test_split(X, y, test_size=0.1, random_state=40)"
   ]
  },
  {
   "cell_type": "code",
   "execution_count": 6,
   "metadata": {},
   "outputs": [
    {
     "name": "stdout",
     "output_type": "stream",
     "text": [
      "X_train shape: (1652, 200)\n",
      "y_train shape: (1652, 5)\n"
     ]
    }
   ],
   "source": [
    "print('X_train shape:', X_train.shape)\n",
    "print('y_train shape:', y_train.shape)"
   ]
  },
  {
   "cell_type": "markdown",
   "metadata": {},
   "source": [
    "### **建構模型**"
   ]
  },
  {
   "cell_type": "code",
   "execution_count": 7,
   "metadata": {},
   "outputs": [],
   "source": [
    "def build_model(X):\n",
    "    model = keras.Sequential()\n",
    "\n",
    "    model.add(layers.Dense(128, input_dim=X.shape[1]))\n",
    "    model.add(layers.Activation('relu'))\n",
    "\n",
    "    model.add(layers.Dense(256))\n",
    "    model.add(layers.Activation('relu'))\n",
    "\n",
    "    model.add(layers.Dense(5))\n",
    "    model.add(layers.Activation('softmax'))\n",
    "\n",
    "    return model"
   ]
  },
  {
   "cell_type": "markdown",
   "metadata": {},
   "source": [
    "* ## **Callbacks — Checkpoints**"
   ]
  },
  {
   "cell_type": "code",
   "execution_count": 8,
   "metadata": {},
   "outputs": [],
   "source": [
    "model_path = './Data/callbacks_model.h5'  # 模型儲存的位置\n",
    "\n",
    "# 建立 Checkpoint\n",
    "checkpoint = \\\n",
    "    callbacks.ModelCheckpoint(model_path,\n",
    "                              verbose=1,\n",
    "                              monitor='val_acc',    # 儲存模型的指標\n",
    "                              save_best_only=True,  # 是否只儲存最好的\n",
    "                              mode='max')           # 與指標搭配模式"
   ]
  },
  {
   "cell_type": "code",
   "execution_count": 9,
   "metadata": {},
   "outputs": [],
   "source": [
    "model = build_model(X)\n",
    "\n",
    "# 編譯模型用以訓練 (設定 optimizer, loss function, metrics, 等等)\n",
    "model.compile(loss='categorical_crossentropy',\n",
    "              optimizer=keras.optimizers.Adam(lr=0.001),\n",
    "              metrics=['acc'])"
   ]
  },
  {
   "cell_type": "code",
   "execution_count": 10,
   "metadata": {},
   "outputs": [],
   "source": [
    "# 設定訓練參數\n",
    "batch_size = 16\n",
    "epochs = 50"
   ]
  },
  {
   "cell_type": "code",
   "execution_count": 11,
   "metadata": {},
   "outputs": [
    {
     "name": "stdout",
     "output_type": "stream",
     "text": [
      "Train on 1652 samples, validate on 184 samples\n",
      "Epoch 1/50\n",
      "1472/1652 [=========================>....] - ETA: 0s - loss: 1.5517 - acc: 0.4701\n",
      "Epoch 00001: val_acc improved from -inf to 0.54891, saving model to ./Data/callbacks_model.h5\n",
      "1652/1652 [==============================] - 1s 534us/sample - loss: 1.5258 - acc: 0.4728 - val_loss: 1.3211 - val_acc: 0.5489\n",
      "Epoch 2/50\n",
      "1520/1652 [==========================>...] - ETA: 0s - loss: 1.1984 - acc: 0.5711\n",
      "Epoch 00002: val_acc improved from 0.54891 to 0.62500, saving model to ./Data/callbacks_model.h5\n",
      "1652/1652 [==============================] - 0s 127us/sample - loss: 1.2083 - acc: 0.5696 - val_loss: 1.2052 - val_acc: 0.6250\n",
      "Epoch 3/50\n",
      "1552/1652 [===========================>..] - ETA: 0s - loss: 1.1347 - acc: 0.5896\n",
      "Epoch 00003: val_acc did not improve from 0.62500\n",
      "1652/1652 [==============================] - 0s 115us/sample - loss: 1.1394 - acc: 0.5872 - val_loss: 1.1021 - val_acc: 0.5978\n",
      "Epoch 4/50\n",
      "1536/1652 [==========================>...] - ETA: 0s - loss: 1.0401 - acc: 0.6224\n",
      "Epoch 00004: val_acc did not improve from 0.62500\n",
      "1652/1652 [==============================] - 0s 115us/sample - loss: 1.0458 - acc: 0.6199 - val_loss: 1.1339 - val_acc: 0.6250\n",
      "Epoch 5/50\n",
      "1520/1652 [==========================>...] - ETA: 0s - loss: 0.9871 - acc: 0.6388\n",
      "Epoch 00005: val_acc improved from 0.62500 to 0.64674, saving model to ./Data/callbacks_model.h5\n",
      "1652/1652 [==============================] - 0s 126us/sample - loss: 0.9829 - acc: 0.6435 - val_loss: 0.9958 - val_acc: 0.6467\n",
      "Epoch 6/50\n",
      "1536/1652 [==========================>...] - ETA: 0s - loss: 0.9490 - acc: 0.6634\n",
      "Epoch 00006: val_acc improved from 0.64674 to 0.67935, saving model to ./Data/callbacks_model.h5\n",
      "1652/1652 [==============================] - 0s 126us/sample - loss: 0.9432 - acc: 0.6646 - val_loss: 0.9808 - val_acc: 0.6793\n",
      "Epoch 7/50\n",
      "1568/1652 [===========================>..] - ETA: 0s - loss: 0.9505 - acc: 0.6716\n",
      "Epoch 00007: val_acc did not improve from 0.67935\n",
      "1652/1652 [==============================] - 0s 113us/sample - loss: 0.9501 - acc: 0.6731 - val_loss: 0.9464 - val_acc: 0.6630\n",
      "Epoch 8/50\n",
      "1504/1652 [==========================>...] - ETA: 0s - loss: 0.8652 - acc: 0.6809\n",
      "Epoch 00008: val_acc did not improve from 0.67935\n",
      "1652/1652 [==============================] - 0s 117us/sample - loss: 0.8836 - acc: 0.6768 - val_loss: 1.0508 - val_acc: 0.5924\n",
      "Epoch 9/50\n",
      "1504/1652 [==========================>...] - ETA: 0s - loss: 0.8956 - acc: 0.6789\n",
      "Epoch 00009: val_acc did not improve from 0.67935\n",
      "1652/1652 [==============================] - 0s 116us/sample - loss: 0.8935 - acc: 0.6828 - val_loss: 1.0261 - val_acc: 0.6793\n",
      "Epoch 10/50\n",
      "1520/1652 [==========================>...] - ETA: 0s - loss: 0.8526 - acc: 0.7013\n",
      "Epoch 00010: val_acc did not improve from 0.67935\n",
      "1652/1652 [==============================] - 0s 116us/sample - loss: 0.8562 - acc: 0.6985 - val_loss: 0.9697 - val_acc: 0.6522\n",
      "Epoch 11/50\n",
      "1504/1652 [==========================>...] - ETA: 0s - loss: 0.8269 - acc: 0.7114\n",
      "Epoch 00011: val_acc did not improve from 0.67935\n",
      "1652/1652 [==============================] - 0s 119us/sample - loss: 0.8220 - acc: 0.7107 - val_loss: 1.0219 - val_acc: 0.6304\n",
      "Epoch 12/50\n",
      "1520/1652 [==========================>...] - ETA: 0s - loss: 0.8266 - acc: 0.7138\n",
      "Epoch 00012: val_acc did not improve from 0.67935\n",
      "1652/1652 [==============================] - 0s 116us/sample - loss: 0.8128 - acc: 0.7228 - val_loss: 0.9828 - val_acc: 0.6685\n",
      "Epoch 13/50\n",
      "1520/1652 [==========================>...] - ETA: 0s - loss: 0.7785 - acc: 0.7296\n",
      "Epoch 00013: val_acc did not improve from 0.67935\n",
      "1652/1652 [==============================] - 0s 117us/sample - loss: 0.7873 - acc: 0.7252 - val_loss: 0.9990 - val_acc: 0.6304\n",
      "Epoch 14/50\n",
      "1504/1652 [==========================>...] - ETA: 0s - loss: 0.7702 - acc: 0.7267\n",
      "Epoch 00014: val_acc did not improve from 0.67935\n",
      "1652/1652 [==============================] - 0s 118us/sample - loss: 0.7642 - acc: 0.7252 - val_loss: 0.9648 - val_acc: 0.6739\n",
      "Epoch 15/50\n",
      "1472/1652 [=========================>....] - ETA: 0s - loss: 0.7492 - acc: 0.7391\n",
      "Epoch 00015: val_acc did not improve from 0.67935\n",
      "1652/1652 [==============================] - 0s 129us/sample - loss: 0.7481 - acc: 0.7367 - val_loss: 0.9541 - val_acc: 0.6685\n",
      "Epoch 16/50\n",
      "1344/1652 [=======================>......] - ETA: 0s - loss: 0.7631 - acc: 0.7254\n",
      "Epoch 00016: val_acc improved from 0.67935 to 0.68478, saving model to ./Data/callbacks_model.h5\n",
      "1652/1652 [==============================] - 0s 144us/sample - loss: 0.7572 - acc: 0.7300 - val_loss: 0.9883 - val_acc: 0.6848\n",
      "Epoch 17/50\n",
      "1472/1652 [=========================>....] - ETA: 0s - loss: 0.7486 - acc: 0.7269\n",
      "Epoch 00017: val_acc did not improve from 0.68478\n",
      "1652/1652 [==============================] - 0s 120us/sample - loss: 0.7444 - acc: 0.7312 - val_loss: 0.9190 - val_acc: 0.6848\n",
      "Epoch 18/50\n",
      "1536/1652 [==========================>...] - ETA: 0s - loss: 0.6914 - acc: 0.7487\n",
      "Epoch 00018: val_acc did not improve from 0.68478\n",
      "1652/1652 [==============================] - 0s 116us/sample - loss: 0.6981 - acc: 0.7470 - val_loss: 1.0108 - val_acc: 0.6630\n",
      "Epoch 19/50\n",
      "1520/1652 [==========================>...] - ETA: 0s - loss: 0.6960 - acc: 0.7592\n",
      "Epoch 00019: val_acc improved from 0.68478 to 0.69022, saving model to ./Data/callbacks_model.h5\n",
      "1652/1652 [==============================] - 0s 127us/sample - loss: 0.7118 - acc: 0.7548 - val_loss: 0.9580 - val_acc: 0.6902\n",
      "Epoch 20/50\n",
      "1520/1652 [==========================>...] - ETA: 0s - loss: 0.6927 - acc: 0.7507\n",
      "Epoch 00020: val_acc improved from 0.69022 to 0.69565, saving model to ./Data/callbacks_model.h5\n",
      "1652/1652 [==============================] - 0s 126us/sample - loss: 0.6959 - acc: 0.7512 - val_loss: 0.9466 - val_acc: 0.6957\n",
      "Epoch 21/50\n",
      "1552/1652 [===========================>..] - ETA: 0s - loss: 0.6614 - acc: 0.7577\n",
      "Epoch 00021: val_acc did not improve from 0.69565\n",
      "1652/1652 [==============================] - 0s 115us/sample - loss: 0.6557 - acc: 0.7579 - val_loss: 0.9805 - val_acc: 0.6522\n",
      "Epoch 22/50\n",
      "1488/1652 [==========================>...] - ETA: 0s - loss: 0.6631 - acc: 0.7655\n",
      "Epoch 00022: val_acc did not improve from 0.69565\n",
      "1652/1652 [==============================] - 0s 118us/sample - loss: 0.6667 - acc: 0.7639 - val_loss: 0.9516 - val_acc: 0.6848\n",
      "Epoch 23/50\n",
      "1536/1652 [==========================>...] - ETA: 0s - loss: 0.6257 - acc: 0.7676\n",
      "Epoch 00023: val_acc did not improve from 0.69565\n",
      "1652/1652 [==============================] - 0s 116us/sample - loss: 0.6207 - acc: 0.7700 - val_loss: 1.0044 - val_acc: 0.6957\n",
      "Epoch 24/50\n",
      "1520/1652 [==========================>...] - ETA: 0s - loss: 0.6191 - acc: 0.7691\n",
      "Epoch 00024: val_acc did not improve from 0.69565\n",
      "1652/1652 [==============================] - 0s 115us/sample - loss: 0.6217 - acc: 0.7669 - val_loss: 1.0405 - val_acc: 0.6685\n",
      "Epoch 25/50\n",
      "1552/1652 [===========================>..] - ETA: 0s - loss: 0.6123 - acc: 0.7861\n",
      "Epoch 00025: val_acc did not improve from 0.69565\n",
      "1652/1652 [==============================] - 0s 115us/sample - loss: 0.6079 - acc: 0.7887 - val_loss: 1.0312 - val_acc: 0.6685\n",
      "Epoch 26/50\n",
      "1520/1652 [==========================>...] - ETA: 0s - loss: 0.5864 - acc: 0.7914\n",
      "Epoch 00026: val_acc did not improve from 0.69565\n",
      "1652/1652 [==============================] - 0s 116us/sample - loss: 0.5864 - acc: 0.7906 - val_loss: 1.0899 - val_acc: 0.6848\n",
      "Epoch 27/50\n",
      "1472/1652 [=========================>....] - ETA: 0s - loss: 0.5997 - acc: 0.7799\n",
      "Epoch 00027: val_acc improved from 0.69565 to 0.70652, saving model to ./Data/callbacks_model.h5\n",
      "1652/1652 [==============================] - 0s 130us/sample - loss: 0.5943 - acc: 0.7803 - val_loss: 1.0364 - val_acc: 0.7065\n",
      "Epoch 28/50\n",
      "1520/1652 [==========================>...] - ETA: 0s - loss: 0.5527 - acc: 0.7993\n",
      "Epoch 00028: val_acc did not improve from 0.70652\n",
      "1652/1652 [==============================] - 0s 117us/sample - loss: 0.5548 - acc: 0.7996 - val_loss: 1.1060 - val_acc: 0.6685\n",
      "Epoch 29/50\n",
      "1504/1652 [==========================>...] - ETA: 0s - loss: 0.5375 - acc: 0.8019\n",
      "Epoch 00029: val_acc did not improve from 0.70652\n",
      "1652/1652 [==============================] - 0s 118us/sample - loss: 0.5464 - acc: 0.7978 - val_loss: 1.0536 - val_acc: 0.6793\n",
      "Epoch 30/50\n",
      "1488/1652 [==========================>...] - ETA: 0s - loss: 0.5253 - acc: 0.8024\n",
      "Epoch 00030: val_acc did not improve from 0.70652\n",
      "1652/1652 [==============================] - 0s 118us/sample - loss: 0.5374 - acc: 0.8002 - val_loss: 1.1132 - val_acc: 0.6739\n",
      "Epoch 31/50\n",
      "1552/1652 [===========================>..] - ETA: 0s - loss: 0.5419 - acc: 0.8022\n",
      "Epoch 00031: val_acc did not improve from 0.70652\n",
      "1652/1652 [==============================] - 0s 115us/sample - loss: 0.5422 - acc: 0.8027 - val_loss: 1.1770 - val_acc: 0.6467\n",
      "Epoch 32/50\n",
      "1472/1652 [=========================>....] - ETA: 0s - loss: 0.5155 - acc: 0.8145\n",
      "Epoch 00032: val_acc did not improve from 0.70652\n",
      "1652/1652 [==============================] - 0s 120us/sample - loss: 0.5128 - acc: 0.8172 - val_loss: 1.1020 - val_acc: 0.6848\n",
      "Epoch 33/50\n",
      "1536/1652 [==========================>...] - ETA: 0s - loss: 0.4835 - acc: 0.8268\n",
      "Epoch 00033: val_acc did not improve from 0.70652\n",
      "1652/1652 [==============================] - 0s 117us/sample - loss: 0.4882 - acc: 0.8232 - val_loss: 1.1443 - val_acc: 0.6630\n",
      "Epoch 34/50\n",
      "1536/1652 [==========================>...] - ETA: 0s - loss: 0.4931 - acc: 0.8145\n",
      "Epoch 00034: val_acc improved from 0.70652 to 0.71739, saving model to ./Data/callbacks_model.h5\n",
      "1652/1652 [==============================] - 0s 125us/sample - loss: 0.4976 - acc: 0.8130 - val_loss: 1.0763 - val_acc: 0.7174\n",
      "Epoch 35/50\n",
      "1552/1652 [===========================>..] - ETA: 0s - loss: 0.4483 - acc: 0.8402\n",
      "Epoch 00035: val_acc did not improve from 0.71739\n",
      "1652/1652 [==============================] - 0s 116us/sample - loss: 0.4512 - acc: 0.8384 - val_loss: 1.0850 - val_acc: 0.6522\n",
      "Epoch 36/50\n",
      "1552/1652 [===========================>..] - ETA: 0s - loss: 0.4761 - acc: 0.8228\n",
      "Epoch 00036: val_acc did not improve from 0.71739\n",
      "1652/1652 [==============================] - 0s 115us/sample - loss: 0.4851 - acc: 0.8196 - val_loss: 1.1229 - val_acc: 0.6848\n",
      "Epoch 37/50\n",
      "1472/1652 [=========================>....] - ETA: 0s - loss: 0.4477 - acc: 0.8383\n",
      "Epoch 00037: val_acc did not improve from 0.71739\n",
      "1652/1652 [==============================] - 0s 120us/sample - loss: 0.4323 - acc: 0.8450 - val_loss: 1.3172 - val_acc: 0.6467\n",
      "Epoch 38/50\n",
      "1552/1652 [===========================>..] - ETA: 0s - loss: 0.4423 - acc: 0.8363\n",
      "Epoch 00038: val_acc did not improve from 0.71739\n",
      "1652/1652 [==============================] - 0s 115us/sample - loss: 0.4375 - acc: 0.8402 - val_loss: 1.1610 - val_acc: 0.6957\n",
      "Epoch 39/50\n",
      "1536/1652 [==========================>...] - ETA: 0s - loss: 0.4081 - acc: 0.8522\n",
      "Epoch 00039: val_acc did not improve from 0.71739\n",
      "1652/1652 [==============================] - 0s 116us/sample - loss: 0.4177 - acc: 0.8487 - val_loss: 1.2000 - val_acc: 0.6685\n",
      "Epoch 40/50\n",
      "1504/1652 [==========================>...] - ETA: 0s - loss: 0.3948 - acc: 0.8584\n",
      "Epoch 00040: val_acc did not improve from 0.71739\n",
      "1652/1652 [==============================] - 0s 118us/sample - loss: 0.3989 - acc: 0.8547 - val_loss: 1.2828 - val_acc: 0.6793\n",
      "Epoch 41/50\n",
      "1552/1652 [===========================>..] - ETA: 0s - loss: 0.4199 - acc: 0.8351\n",
      "Epoch 00041: val_acc did not improve from 0.71739\n",
      "1652/1652 [==============================] - 0s 115us/sample - loss: 0.4210 - acc: 0.8347 - val_loss: 1.2651 - val_acc: 0.6576\n",
      "Epoch 42/50\n",
      "1488/1652 [==========================>...] - ETA: 0s - loss: 0.3735 - acc: 0.8515\n",
      "Epoch 00042: val_acc did not improve from 0.71739\n",
      "1652/1652 [==============================] - 0s 120us/sample - loss: 0.3747 - acc: 0.8529 - val_loss: 1.3111 - val_acc: 0.6739\n",
      "Epoch 43/50\n",
      "1504/1652 [==========================>...] - ETA: 0s - loss: 0.3415 - acc: 0.8763\n",
      "Epoch 00043: val_acc did not improve from 0.71739\n",
      "1652/1652 [==============================] - 0s 118us/sample - loss: 0.3478 - acc: 0.8692 - val_loss: 1.2633 - val_acc: 0.7011\n",
      "Epoch 44/50\n",
      "1536/1652 [==========================>...] - ETA: 0s - loss: 0.3429 - acc: 0.8724\n",
      "Epoch 00044: val_acc did not improve from 0.71739\n",
      "1652/1652 [==============================] - 0s 116us/sample - loss: 0.3529 - acc: 0.8680 - val_loss: 1.2548 - val_acc: 0.6630\n",
      "Epoch 45/50\n",
      "1488/1652 [==========================>...] - ETA: 0s - loss: 0.3368 - acc: 0.8723\n",
      "Epoch 00045: val_acc did not improve from 0.71739\n",
      "1652/1652 [==============================] - 0s 119us/sample - loss: 0.3338 - acc: 0.8729 - val_loss: 1.2685 - val_acc: 0.7065\n",
      "Epoch 46/50\n",
      "1520/1652 [==========================>...] - ETA: 0s - loss: 0.3227 - acc: 0.8796\n",
      "Epoch 00046: val_acc did not improve from 0.71739\n",
      "1652/1652 [==============================] - 0s 117us/sample - loss: 0.3208 - acc: 0.8826 - val_loss: 1.4422 - val_acc: 0.6902\n",
      "Epoch 47/50\n",
      "1536/1652 [==========================>...] - ETA: 0s - loss: 0.2978 - acc: 0.8926\n",
      "Epoch 00047: val_acc did not improve from 0.71739\n",
      "1652/1652 [==============================] - 0s 115us/sample - loss: 0.2989 - acc: 0.8904 - val_loss: 1.4026 - val_acc: 0.6848\n",
      "Epoch 48/50\n",
      "1504/1652 [==========================>...] - ETA: 0s - loss: 0.2956 - acc: 0.8850\n",
      "Epoch 00048: val_acc did not improve from 0.71739\n",
      "1652/1652 [==============================] - 0s 118us/sample - loss: 0.2983 - acc: 0.8832 - val_loss: 1.3245 - val_acc: 0.6576\n",
      "Epoch 49/50\n",
      "1536/1652 [==========================>...] - ETA: 0s - loss: 0.2878 - acc: 0.8900\n",
      "Epoch 00049: val_acc did not improve from 0.71739\n",
      "1652/1652 [==============================] - 0s 117us/sample - loss: 0.2887 - acc: 0.8880 - val_loss: 1.4231 - val_acc: 0.6250\n",
      "Epoch 50/50\n",
      "1520/1652 [==========================>...] - ETA: 0s - loss: 0.2549 - acc: 0.9125\n",
      "Epoch 00050: val_acc did not improve from 0.71739\n",
      "1652/1652 [==============================] - 0s 117us/sample - loss: 0.2550 - acc: 0.9110 - val_loss: 1.3897 - val_acc: 0.6848\n"
     ]
    }
   ],
   "source": [
    "# 訓練模型\n",
    "fitting_history \\\n",
    "    = model.fit(X_train, y_train,\n",
    "                batch_size=batch_size,\n",
    "                epochs=epochs,\n",
    "                validation_data=(X_valid, y_valid),\n",
    "                verbose=1,\n",
    "                shuffle=True,\n",
    "                callbacks=[checkpoint])  # 將 checkpoint 放在 callbacks"
   ]
  },
  {
   "cell_type": "code",
   "execution_count": 12,
   "metadata": {},
   "outputs": [],
   "source": [
    "# 載入儲存的模型\n",
    "new_model = tf.keras.models.load_model(model_path)"
   ]
  },
  {
   "cell_type": "code",
   "execution_count": 13,
   "metadata": {},
   "outputs": [
    {
     "name": "stdout",
     "output_type": "stream",
     "text": [
      "validation loss: 1.0763153563375059 \n",
      "validation accuracy: 0.7173913\n"
     ]
    }
   ],
   "source": [
    "# 檢驗儲存的模型為 validation accuracy 最高的模型\n",
    "valid_loss, valid_acc = new_model.evaluate(X_valid, y_valid, verbose=0)\n",
    "print('validation loss:', valid_loss, '\\nvalidation accuracy:', valid_acc)"
   ]
  },
  {
   "cell_type": "markdown",
   "metadata": {},
   "source": [
    "[(Back to Callbacks)](#Callback-functions)"
   ]
  },
  {
   "cell_type": "markdown",
   "metadata": {},
   "source": [
    "* ## **Callbacks — LearningRateScheduler**"
   ]
  },
  {
   "cell_type": "code",
   "execution_count": 14,
   "metadata": {},
   "outputs": [],
   "source": [
    "def schedule(epoch):  # 定義 learning rate 根據 epoch 要如何變動\n",
    "    if epoch < 20:\n",
    "        return 0.01\n",
    "    elif epoch < 40:\n",
    "        return 0.001\n",
    "    else:\n",
    "        return 0.0001"
   ]
  },
  {
   "cell_type": "code",
   "execution_count": 15,
   "metadata": {},
   "outputs": [],
   "source": [
    "# 建立 LearningRateScheduler\n",
    "lr_schedule = callbacks.LearningRateScheduler(schedule, verbose=1)"
   ]
  },
  {
   "cell_type": "code",
   "execution_count": 16,
   "metadata": {},
   "outputs": [],
   "source": [
    "model = build_model(X)\n",
    "\n",
    "# 編譯模型用以訓練 (設定 optimizer, loss function, metrics, 等等)\n",
    "model.compile(loss='categorical_crossentropy',\n",
    "              optimizer=keras.optimizers.Adam(lr=0.001),\n",
    "              metrics=['acc'])"
   ]
  },
  {
   "cell_type": "code",
   "execution_count": 17,
   "metadata": {},
   "outputs": [],
   "source": [
    "# 設定訓練參數\n",
    "batch_size = 16\n",
    "epochs = 50"
   ]
  },
  {
   "cell_type": "code",
   "execution_count": 18,
   "metadata": {},
   "outputs": [
    {
     "name": "stdout",
     "output_type": "stream",
     "text": [
      "Train on 1652 samples, validate on 184 samples\n",
      "\n",
      "Epoch 00001: LearningRateScheduler reducing learning rate to 0.01.\n",
      "Epoch 1/50\n",
      "1652/1652 [==============================] - 1s 325us/sample - loss: 1.9820 - acc: 0.5006 - val_loss: 1.2211 - val_acc: 0.6033\n",
      "\n",
      "Epoch 00002: LearningRateScheduler reducing learning rate to 0.01.\n",
      "Epoch 2/50\n",
      "1652/1652 [==============================] - 0s 117us/sample - loss: 1.1346 - acc: 0.5805 - val_loss: 1.0308 - val_acc: 0.6522\n",
      "\n",
      "Epoch 00003: LearningRateScheduler reducing learning rate to 0.01.\n",
      "Epoch 3/50\n",
      "1652/1652 [==============================] - 0s 118us/sample - loss: 1.0539 - acc: 0.6029 - val_loss: 0.9700 - val_acc: 0.6576\n",
      "\n",
      "Epoch 00004: LearningRateScheduler reducing learning rate to 0.01.\n",
      "Epoch 4/50\n",
      "1652/1652 [==============================] - 0s 117us/sample - loss: 1.0614 - acc: 0.6077 - val_loss: 0.9987 - val_acc: 0.6359\n",
      "\n",
      "Epoch 00005: LearningRateScheduler reducing learning rate to 0.01.\n",
      "Epoch 5/50\n",
      "1652/1652 [==============================] - 0s 119us/sample - loss: 1.0381 - acc: 0.6162 - val_loss: 0.9562 - val_acc: 0.6848\n",
      "\n",
      "Epoch 00006: LearningRateScheduler reducing learning rate to 0.01.\n",
      "Epoch 6/50\n",
      "1652/1652 [==============================] - 0s 119us/sample - loss: 1.0256 - acc: 0.6168 - val_loss: 1.0714 - val_acc: 0.6304\n",
      "\n",
      "Epoch 00007: LearningRateScheduler reducing learning rate to 0.01.\n",
      "Epoch 7/50\n",
      "1652/1652 [==============================] - 0s 116us/sample - loss: 0.9952 - acc: 0.6368 - val_loss: 1.0559 - val_acc: 0.5598\n",
      "\n",
      "Epoch 00008: LearningRateScheduler reducing learning rate to 0.01.\n",
      "Epoch 8/50\n",
      "1652/1652 [==============================] - 0s 116us/sample - loss: 1.0105 - acc: 0.6205 - val_loss: 0.9412 - val_acc: 0.6685\n",
      "\n",
      "Epoch 00009: LearningRateScheduler reducing learning rate to 0.01.\n",
      "Epoch 9/50\n",
      "1652/1652 [==============================] - 0s 115us/sample - loss: 0.9662 - acc: 0.6525 - val_loss: 0.9948 - val_acc: 0.6630\n",
      "\n",
      "Epoch 00010: LearningRateScheduler reducing learning rate to 0.01.\n",
      "Epoch 10/50\n",
      "1652/1652 [==============================] - 0s 121us/sample - loss: 0.9715 - acc: 0.6386 - val_loss: 0.9523 - val_acc: 0.6576\n",
      "\n",
      "Epoch 00011: LearningRateScheduler reducing learning rate to 0.01.\n",
      "Epoch 11/50\n",
      "1652/1652 [==============================] - 0s 118us/sample - loss: 0.9608 - acc: 0.6471 - val_loss: 1.0276 - val_acc: 0.6250\n",
      "\n",
      "Epoch 00012: LearningRateScheduler reducing learning rate to 0.01.\n",
      "Epoch 12/50\n",
      "1652/1652 [==============================] - 0s 117us/sample - loss: 0.9438 - acc: 0.6416 - val_loss: 1.0207 - val_acc: 0.5924\n",
      "\n",
      "Epoch 00013: LearningRateScheduler reducing learning rate to 0.01.\n",
      "Epoch 13/50\n",
      "1652/1652 [==============================] - 0s 118us/sample - loss: 0.9714 - acc: 0.6386 - val_loss: 0.9622 - val_acc: 0.6250\n",
      "\n",
      "Epoch 00014: LearningRateScheduler reducing learning rate to 0.01.\n",
      "Epoch 14/50\n",
      "1652/1652 [==============================] - 0s 117us/sample - loss: 0.9548 - acc: 0.6598 - val_loss: 0.9995 - val_acc: 0.6413\n",
      "\n",
      "Epoch 00015: LearningRateScheduler reducing learning rate to 0.01.\n",
      "Epoch 15/50\n",
      "1652/1652 [==============================] - 0s 118us/sample - loss: 0.9574 - acc: 0.6574 - val_loss: 1.0179 - val_acc: 0.6141\n",
      "\n",
      "Epoch 00016: LearningRateScheduler reducing learning rate to 0.01.\n",
      "Epoch 16/50\n",
      "1652/1652 [==============================] - 0s 117us/sample - loss: 0.9726 - acc: 0.6429 - val_loss: 1.0993 - val_acc: 0.5978\n",
      "\n",
      "Epoch 00017: LearningRateScheduler reducing learning rate to 0.01.\n",
      "Epoch 17/50\n",
      "1652/1652 [==============================] - 0s 115us/sample - loss: 0.9438 - acc: 0.6489 - val_loss: 0.9639 - val_acc: 0.6576\n",
      "\n",
      "Epoch 00018: LearningRateScheduler reducing learning rate to 0.01.\n",
      "Epoch 18/50\n",
      "1652/1652 [==============================] - 0s 117us/sample - loss: 0.9215 - acc: 0.6568 - val_loss: 0.9884 - val_acc: 0.6739\n",
      "\n",
      "Epoch 00019: LearningRateScheduler reducing learning rate to 0.01.\n",
      "Epoch 19/50\n",
      "1652/1652 [==============================] - 0s 118us/sample - loss: 0.9396 - acc: 0.6616 - val_loss: 1.0494 - val_acc: 0.6576\n",
      "\n",
      "Epoch 00020: LearningRateScheduler reducing learning rate to 0.01.\n",
      "Epoch 20/50\n",
      "1652/1652 [==============================] - 0s 116us/sample - loss: 0.9355 - acc: 0.6604 - val_loss: 0.9981 - val_acc: 0.6304\n",
      "\n",
      "Epoch 00021: LearningRateScheduler reducing learning rate to 0.001.\n",
      "Epoch 21/50\n",
      "1652/1652 [==============================] - 0s 116us/sample - loss: 0.8852 - acc: 0.6743 - val_loss: 0.9376 - val_acc: 0.6467\n",
      "\n",
      "Epoch 00022: LearningRateScheduler reducing learning rate to 0.001.\n",
      "Epoch 22/50\n",
      "1652/1652 [==============================] - 0s 117us/sample - loss: 0.8701 - acc: 0.6780 - val_loss: 0.9399 - val_acc: 0.6576\n",
      "\n",
      "Epoch 00023: LearningRateScheduler reducing learning rate to 0.001.\n",
      "Epoch 23/50\n",
      "1652/1652 [==============================] - 0s 115us/sample - loss: 0.8651 - acc: 0.6804 - val_loss: 0.9441 - val_acc: 0.6739\n",
      "\n",
      "Epoch 00024: LearningRateScheduler reducing learning rate to 0.001.\n",
      "Epoch 24/50\n",
      "1652/1652 [==============================] - 0s 116us/sample - loss: 0.8606 - acc: 0.6786 - val_loss: 0.9360 - val_acc: 0.6576\n",
      "\n",
      "Epoch 00025: LearningRateScheduler reducing learning rate to 0.001.\n",
      "Epoch 25/50\n",
      "1652/1652 [==============================] - 0s 120us/sample - loss: 0.8622 - acc: 0.6846 - val_loss: 0.9364 - val_acc: 0.6467\n",
      "\n",
      "Epoch 00026: LearningRateScheduler reducing learning rate to 0.001.\n",
      "Epoch 26/50\n",
      "1652/1652 [==============================] - 0s 117us/sample - loss: 0.8603 - acc: 0.6810 - val_loss: 0.9349 - val_acc: 0.6793\n",
      "\n",
      "Epoch 00027: LearningRateScheduler reducing learning rate to 0.001.\n",
      "Epoch 27/50\n",
      "1652/1652 [==============================] - 0s 115us/sample - loss: 0.8598 - acc: 0.6864 - val_loss: 0.9354 - val_acc: 0.6685\n",
      "\n",
      "Epoch 00028: LearningRateScheduler reducing learning rate to 0.001.\n",
      "Epoch 28/50\n",
      "1652/1652 [==============================] - 0s 116us/sample - loss: 0.8613 - acc: 0.6828 - val_loss: 0.9317 - val_acc: 0.6685\n",
      "\n",
      "Epoch 00029: LearningRateScheduler reducing learning rate to 0.001.\n",
      "Epoch 29/50\n",
      "1652/1652 [==============================] - 0s 116us/sample - loss: 0.8562 - acc: 0.6816 - val_loss: 0.9383 - val_acc: 0.6793\n",
      "\n",
      "Epoch 00030: LearningRateScheduler reducing learning rate to 0.001.\n",
      "Epoch 30/50\n",
      "1652/1652 [==============================] - 0s 115us/sample - loss: 0.8537 - acc: 0.6846 - val_loss: 0.9364 - val_acc: 0.6739\n",
      "\n",
      "Epoch 00031: LearningRateScheduler reducing learning rate to 0.001.\n",
      "Epoch 31/50\n",
      "1652/1652 [==============================] - 0s 115us/sample - loss: 0.8542 - acc: 0.6858 - val_loss: 0.9391 - val_acc: 0.6630\n",
      "\n",
      "Epoch 00032: LearningRateScheduler reducing learning rate to 0.001.\n",
      "Epoch 32/50\n",
      "1652/1652 [==============================] - 0s 114us/sample - loss: 0.8490 - acc: 0.6883 - val_loss: 0.9354 - val_acc: 0.6848\n",
      "\n",
      "Epoch 00033: LearningRateScheduler reducing learning rate to 0.001.\n",
      "Epoch 33/50\n",
      "1652/1652 [==============================] - 0s 116us/sample - loss: 0.8504 - acc: 0.6883 - val_loss: 0.9360 - val_acc: 0.6793\n",
      "\n",
      "Epoch 00034: LearningRateScheduler reducing learning rate to 0.001.\n",
      "Epoch 34/50\n",
      "1652/1652 [==============================] - 0s 114us/sample - loss: 0.8526 - acc: 0.6846 - val_loss: 0.9279 - val_acc: 0.6902\n",
      "\n",
      "Epoch 00035: LearningRateScheduler reducing learning rate to 0.001.\n",
      "Epoch 35/50\n",
      "1652/1652 [==============================] - 0s 116us/sample - loss: 0.8508 - acc: 0.6870 - val_loss: 0.9410 - val_acc: 0.6739\n",
      "\n",
      "Epoch 00036: LearningRateScheduler reducing learning rate to 0.001.\n",
      "Epoch 36/50\n",
      "1652/1652 [==============================] - 0s 119us/sample - loss: 0.8457 - acc: 0.6901 - val_loss: 0.9323 - val_acc: 0.6848\n",
      "\n",
      "Epoch 00037: LearningRateScheduler reducing learning rate to 0.001.\n",
      "Epoch 37/50\n",
      "1652/1652 [==============================] - 0s 115us/sample - loss: 0.8444 - acc: 0.6864 - val_loss: 0.9353 - val_acc: 0.6739\n",
      "\n",
      "Epoch 00038: LearningRateScheduler reducing learning rate to 0.001.\n",
      "Epoch 38/50\n",
      "1652/1652 [==============================] - 0s 115us/sample - loss: 0.8483 - acc: 0.6973 - val_loss: 0.9364 - val_acc: 0.6576\n",
      "\n",
      "Epoch 00039: LearningRateScheduler reducing learning rate to 0.001.\n",
      "Epoch 39/50\n",
      "1652/1652 [==============================] - 0s 115us/sample - loss: 0.8446 - acc: 0.6925 - val_loss: 0.9282 - val_acc: 0.6739\n",
      "\n",
      "Epoch 00040: LearningRateScheduler reducing learning rate to 0.001.\n",
      "Epoch 40/50\n",
      "1652/1652 [==============================] - 0s 115us/sample - loss: 0.8445 - acc: 0.6937 - val_loss: 0.9317 - val_acc: 0.6685\n",
      "\n",
      "Epoch 00041: LearningRateScheduler reducing learning rate to 0.0001.\n",
      "Epoch 41/50\n",
      "1652/1652 [==============================] - 0s 116us/sample - loss: 0.8346 - acc: 0.6919 - val_loss: 0.9286 - val_acc: 0.6739\n",
      "\n",
      "Epoch 00042: LearningRateScheduler reducing learning rate to 0.0001.\n",
      "Epoch 42/50\n",
      "1652/1652 [==============================] - 0s 115us/sample - loss: 0.8342 - acc: 0.6925 - val_loss: 0.9312 - val_acc: 0.6685\n",
      "\n",
      "Epoch 00043: LearningRateScheduler reducing learning rate to 0.0001.\n",
      "Epoch 43/50\n",
      "1652/1652 [==============================] - 0s 116us/sample - loss: 0.8335 - acc: 0.6967 - val_loss: 0.9328 - val_acc: 0.6630\n",
      "\n",
      "Epoch 00044: LearningRateScheduler reducing learning rate to 0.0001.\n",
      "Epoch 44/50\n",
      "1652/1652 [==============================] - 0s 117us/sample - loss: 0.8331 - acc: 0.6949 - val_loss: 0.9303 - val_acc: 0.6685\n",
      "\n",
      "Epoch 00045: LearningRateScheduler reducing learning rate to 0.0001.\n",
      "Epoch 45/50\n",
      "1652/1652 [==============================] - 0s 114us/sample - loss: 0.8328 - acc: 0.6961 - val_loss: 0.9317 - val_acc: 0.6739\n",
      "\n",
      "Epoch 00046: LearningRateScheduler reducing learning rate to 0.0001.\n",
      "Epoch 46/50\n",
      "1652/1652 [==============================] - 0s 117us/sample - loss: 0.8325 - acc: 0.6979 - val_loss: 0.9309 - val_acc: 0.6685\n",
      "\n",
      "Epoch 00047: LearningRateScheduler reducing learning rate to 0.0001.\n",
      "Epoch 47/50\n",
      "1652/1652 [==============================] - 0s 118us/sample - loss: 0.8320 - acc: 0.6961 - val_loss: 0.9315 - val_acc: 0.6739\n",
      "\n",
      "Epoch 00048: LearningRateScheduler reducing learning rate to 0.0001.\n",
      "Epoch 48/50\n",
      "1652/1652 [==============================] - 0s 115us/sample - loss: 0.8317 - acc: 0.6961 - val_loss: 0.9326 - val_acc: 0.6685\n",
      "\n",
      "Epoch 00049: LearningRateScheduler reducing learning rate to 0.0001.\n",
      "Epoch 49/50\n",
      "1652/1652 [==============================] - 0s 114us/sample - loss: 0.8318 - acc: 0.6949 - val_loss: 0.9305 - val_acc: 0.6685\n",
      "\n",
      "Epoch 00050: LearningRateScheduler reducing learning rate to 0.0001.\n",
      "Epoch 50/50\n",
      "1652/1652 [==============================] - 0s 116us/sample - loss: 0.8316 - acc: 0.6967 - val_loss: 0.9317 - val_acc: 0.6793\n"
     ]
    }
   ],
   "source": [
    "# 訓練模型\n",
    "fitting_history \\\n",
    "    = model.fit(X_train, y_train,\n",
    "                batch_size=batch_size,\n",
    "                epochs=epochs,\n",
    "                validation_data=(X_valid, y_valid),\n",
    "                verbose=1,\n",
    "                shuffle=True,\n",
    "                callbacks=[lr_schedule])  # 將 lr_schedule 放在 callbacks"
   ]
  },
  {
   "cell_type": "markdown",
   "metadata": {},
   "source": [
    "[(Back to Callbacks)](#Callback-functions)"
   ]
  },
  {
   "cell_type": "markdown",
   "metadata": {},
   "source": [
    "* ## **Callbacks — TensorBoard**"
   ]
  },
  {
   "cell_type": "code",
   "execution_count": 19,
   "metadata": {},
   "outputs": [],
   "source": [
    "tensorboard = callbacks.TensorBoard(log_dir='./Data/logs')"
   ]
  },
  {
   "cell_type": "code",
   "execution_count": 20,
   "metadata": {},
   "outputs": [],
   "source": [
    "model = build_model(X)\n",
    "\n",
    "# 編譯模型用以訓練 (設定 optimizer, loss function, metrics, 等等)\n",
    "model.compile(loss='categorical_crossentropy',\n",
    "              optimizer=keras.optimizers.Adam(lr=0.001),\n",
    "              metrics=['acc'])"
   ]
  },
  {
   "cell_type": "code",
   "execution_count": 21,
   "metadata": {},
   "outputs": [],
   "source": [
    "# 設定訓練參數\n",
    "batch_size = 16\n",
    "epochs = 50"
   ]
  },
  {
   "cell_type": "code",
   "execution_count": 22,
   "metadata": {},
   "outputs": [
    {
     "name": "stdout",
     "output_type": "stream",
     "text": [
      "Train on 1652 samples, validate on 184 samples\n",
      "Epoch 1/50\n",
      "1652/1652 [==============================] - 1s 413us/sample - loss: 1.5599 - acc: 0.4915 - val_loss: 1.3367 - val_acc: 0.5380\n",
      "Epoch 2/50\n",
      "1652/1652 [==============================] - 0s 118us/sample - loss: 1.1688 - acc: 0.5757 - val_loss: 1.2510 - val_acc: 0.5870\n",
      "Epoch 3/50\n",
      "1652/1652 [==============================] - 0s 116us/sample - loss: 1.0941 - acc: 0.6120 - val_loss: 1.0558 - val_acc: 0.6250\n",
      "Epoch 4/50\n",
      "1652/1652 [==============================] - 0s 118us/sample - loss: 1.0390 - acc: 0.6235 - val_loss: 1.0183 - val_acc: 0.6576\n",
      "Epoch 5/50\n",
      "1652/1652 [==============================] - 0s 118us/sample - loss: 0.9855 - acc: 0.6344 - val_loss: 1.2220 - val_acc: 0.5489\n",
      "Epoch 6/50\n",
      "1652/1652 [==============================] - 0s 116us/sample - loss: 0.9419 - acc: 0.6713 - val_loss: 0.9961 - val_acc: 0.6685\n",
      "Epoch 7/50\n",
      "1652/1652 [==============================] - 0s 114us/sample - loss: 0.9023 - acc: 0.6870 - val_loss: 0.9710 - val_acc: 0.6848\n",
      "Epoch 8/50\n",
      "1652/1652 [==============================] - 0s 240us/sample - loss: 0.8600 - acc: 0.6949 - val_loss: 1.0765 - val_acc: 0.6304\n",
      "Epoch 9/50\n",
      "1652/1652 [==============================] - 0s 116us/sample - loss: 0.8496 - acc: 0.6895 - val_loss: 1.0271 - val_acc: 0.6359\n",
      "Epoch 10/50\n",
      "1652/1652 [==============================] - 0s 118us/sample - loss: 0.8493 - acc: 0.7107 - val_loss: 0.9212 - val_acc: 0.6957\n",
      "Epoch 11/50\n",
      "1652/1652 [==============================] - 0s 118us/sample - loss: 0.8008 - acc: 0.7046 - val_loss: 0.9215 - val_acc: 0.7120\n",
      "Epoch 12/50\n",
      "1652/1652 [==============================] - 0s 119us/sample - loss: 0.7874 - acc: 0.7300 - val_loss: 1.0106 - val_acc: 0.6522\n",
      "Epoch 13/50\n",
      "1652/1652 [==============================] - 0s 118us/sample - loss: 0.7673 - acc: 0.7318 - val_loss: 0.9877 - val_acc: 0.6902\n",
      "Epoch 14/50\n",
      "1652/1652 [==============================] - 0s 118us/sample - loss: 0.7489 - acc: 0.7397 - val_loss: 0.9934 - val_acc: 0.6957\n",
      "Epoch 15/50\n",
      "1652/1652 [==============================] - 0s 119us/sample - loss: 0.7562 - acc: 0.7306 - val_loss: 0.9752 - val_acc: 0.6739\n",
      "Epoch 16/50\n",
      "1652/1652 [==============================] - 0s 118us/sample - loss: 0.7039 - acc: 0.7476 - val_loss: 0.9671 - val_acc: 0.6685\n",
      "Epoch 17/50\n",
      "1652/1652 [==============================] - 0s 117us/sample - loss: 0.6828 - acc: 0.7585 - val_loss: 1.0006 - val_acc: 0.6522\n",
      "Epoch 18/50\n",
      "1652/1652 [==============================] - 0s 119us/sample - loss: 0.6665 - acc: 0.7663 - val_loss: 0.9788 - val_acc: 0.7120\n",
      "Epoch 19/50\n",
      "1652/1652 [==============================] - 0s 117us/sample - loss: 0.6826 - acc: 0.7609 - val_loss: 0.9806 - val_acc: 0.6902\n",
      "Epoch 20/50\n",
      "1652/1652 [==============================] - 0s 119us/sample - loss: 0.6425 - acc: 0.7621 - val_loss: 1.0096 - val_acc: 0.6902\n",
      "Epoch 21/50\n",
      "1652/1652 [==============================] - 0s 118us/sample - loss: 0.6179 - acc: 0.7833 - val_loss: 1.0147 - val_acc: 0.6576\n",
      "Epoch 22/50\n",
      "1652/1652 [==============================] - 0s 119us/sample - loss: 0.6151 - acc: 0.7881 - val_loss: 1.0850 - val_acc: 0.6467\n",
      "Epoch 23/50\n",
      "1652/1652 [==============================] - 0s 121us/sample - loss: 0.5922 - acc: 0.7821 - val_loss: 1.0306 - val_acc: 0.6739\n",
      "Epoch 24/50\n",
      "1652/1652 [==============================] - 0s 122us/sample - loss: 0.5891 - acc: 0.7845 - val_loss: 1.0962 - val_acc: 0.6630\n",
      "Epoch 25/50\n",
      "1652/1652 [==============================] - 0s 119us/sample - loss: 0.5581 - acc: 0.7930 - val_loss: 1.0895 - val_acc: 0.6793\n",
      "Epoch 26/50\n",
      "1652/1652 [==============================] - 0s 119us/sample - loss: 0.5629 - acc: 0.8093 - val_loss: 1.0171 - val_acc: 0.6793\n",
      "Epoch 27/50\n",
      "1652/1652 [==============================] - 0s 117us/sample - loss: 0.5335 - acc: 0.8069 - val_loss: 1.2165 - val_acc: 0.5707\n",
      "Epoch 28/50\n",
      "1652/1652 [==============================] - 0s 117us/sample - loss: 0.5237 - acc: 0.8154 - val_loss: 1.0635 - val_acc: 0.6793\n",
      "Epoch 29/50\n",
      "1652/1652 [==============================] - 0s 117us/sample - loss: 0.4736 - acc: 0.8317 - val_loss: 1.1244 - val_acc: 0.6848\n",
      "Epoch 30/50\n",
      "1652/1652 [==============================] - 0s 122us/sample - loss: 0.4601 - acc: 0.8396 - val_loss: 1.1538 - val_acc: 0.6413\n",
      "Epoch 31/50\n",
      "1652/1652 [==============================] - 0s 119us/sample - loss: 0.4341 - acc: 0.8493 - val_loss: 1.1581 - val_acc: 0.6685\n",
      "Epoch 32/50\n",
      "1652/1652 [==============================] - 0s 119us/sample - loss: 0.4381 - acc: 0.8456 - val_loss: 1.1827 - val_acc: 0.7011\n",
      "Epoch 33/50\n",
      "1652/1652 [==============================] - 0s 120us/sample - loss: 0.4146 - acc: 0.8414 - val_loss: 1.2203 - val_acc: 0.6793\n",
      "Epoch 34/50\n",
      "1652/1652 [==============================] - 0s 117us/sample - loss: 0.4103 - acc: 0.8481 - val_loss: 1.1750 - val_acc: 0.6630\n",
      "Epoch 35/50\n",
      "1652/1652 [==============================] - 0s 121us/sample - loss: 0.3999 - acc: 0.8614 - val_loss: 1.2734 - val_acc: 0.6739\n",
      "Epoch 36/50\n",
      "1652/1652 [==============================] - 0s 118us/sample - loss: 0.3587 - acc: 0.8692 - val_loss: 1.2442 - val_acc: 0.6413\n",
      "Epoch 37/50\n",
      "1652/1652 [==============================] - 0s 117us/sample - loss: 0.3648 - acc: 0.8680 - val_loss: 1.2357 - val_acc: 0.6902\n",
      "Epoch 38/50\n",
      "1652/1652 [==============================] - 0s 117us/sample - loss: 0.3422 - acc: 0.8735 - val_loss: 1.3130 - val_acc: 0.6467\n",
      "Epoch 39/50\n",
      "1652/1652 [==============================] - 0s 118us/sample - loss: 0.3135 - acc: 0.8808 - val_loss: 1.3606 - val_acc: 0.6467\n",
      "Epoch 40/50\n",
      "1652/1652 [==============================] - 0s 121us/sample - loss: 0.3108 - acc: 0.8910 - val_loss: 1.3848 - val_acc: 0.6685\n",
      "Epoch 41/50\n",
      "1652/1652 [==============================] - 0s 118us/sample - loss: 0.3228 - acc: 0.8838 - val_loss: 1.4117 - val_acc: 0.6522\n",
      "Epoch 42/50\n",
      "1652/1652 [==============================] - 0s 118us/sample - loss: 0.3053 - acc: 0.8850 - val_loss: 1.6546 - val_acc: 0.6739\n",
      "Epoch 43/50\n",
      "1652/1652 [==============================] - 0s 117us/sample - loss: 0.2935 - acc: 0.8959 - val_loss: 1.3912 - val_acc: 0.6467\n",
      "Epoch 44/50\n",
      "1652/1652 [==============================] - 0s 115us/sample - loss: 0.2552 - acc: 0.9098 - val_loss: 1.4471 - val_acc: 0.7011\n",
      "Epoch 45/50\n",
      "1652/1652 [==============================] - 0s 117us/sample - loss: 0.2452 - acc: 0.9122 - val_loss: 1.3692 - val_acc: 0.6739\n",
      "Epoch 46/50\n",
      "1652/1652 [==============================] - 0s 117us/sample - loss: 0.2328 - acc: 0.9153 - val_loss: 1.4884 - val_acc: 0.6359\n",
      "Epoch 47/50\n",
      "1652/1652 [==============================] - 0s 118us/sample - loss: 0.2461 - acc: 0.9128 - val_loss: 1.4197 - val_acc: 0.6576\n",
      "Epoch 48/50\n",
      "1652/1652 [==============================] - 0s 117us/sample - loss: 0.2071 - acc: 0.9304 - val_loss: 1.5442 - val_acc: 0.6739\n",
      "Epoch 49/50\n",
      "1652/1652 [==============================] - 0s 120us/sample - loss: 0.2014 - acc: 0.9316 - val_loss: 1.6278 - val_acc: 0.6359\n",
      "Epoch 50/50\n",
      "1652/1652 [==============================] - 0s 117us/sample - loss: 0.1920 - acc: 0.9358 - val_loss: 1.5528 - val_acc: 0.6467\n"
     ]
    }
   ],
   "source": [
    "# 訓練模型\n",
    "fitting_history \\\n",
    "    = model.fit(X_train, y_train,\n",
    "                batch_size=batch_size,\n",
    "                epochs=epochs,\n",
    "                validation_data=(X_valid, y_valid),\n",
    "                verbose=1,\n",
    "                shuffle=True,\n",
    "                callbacks=[tensorboard])  # 將 tensorboard 放在 callbacks"
   ]
  },
  {
   "cell_type": "markdown",
   "metadata": {},
   "source": [
    "## **TensorBoard 視覺化工具**"
   ]
  },
  {
   "cell_type": "markdown",
   "metadata": {},
   "source": [
    "### 新增(New Launcher) → Other → Tensorboard\n",
    "![title](./Slides_image/launch_tensorboard.png)"
   ]
  },
  {
   "cell_type": "markdown",
   "metadata": {},
   "source": [
    "* ### **Scalars**"
   ]
  },
  {
   "cell_type": "markdown",
   "metadata": {},
   "source": [
    "![title](./Slides_image/Tensorboard_scalars.PNG)"
   ]
  },
  {
   "cell_type": "markdown",
   "metadata": {},
   "source": [
    "* ### **Graphs**"
   ]
  },
  {
   "cell_type": "markdown",
   "metadata": {},
   "source": [
    "![title](./Slides_image/Tensorboard_graph.PNG)"
   ]
  },
  {
   "cell_type": "markdown",
   "metadata": {},
   "source": [
    "[(Back to Callbacks)](#Callback-functions)"
   ]
  },
  {
   "cell_type": "code",
   "execution_count": null,
   "metadata": {},
   "outputs": [],
   "source": []
  }
 ],
 "metadata": {
  "kernelspec": {
   "display_name": "Python 3",
   "language": "python",
   "name": "python3"
  },
  "language_info": {
   "codemirror_mode": {
    "name": "ipython",
    "version": 3
   },
   "file_extension": ".py",
   "mimetype": "text/x-python",
   "name": "python",
   "nbconvert_exporter": "python",
   "pygments_lexer": "ipython3",
   "version": "3.7.3"
  }
 },
 "nbformat": 4,
 "nbformat_minor": 4
}
