{
 "cells": [
  {
   "cell_type": "markdown",
   "metadata": {},
   "source": [
    "# 場景理解 (可把playerID輸入至官網尋找薪資答案)"
   ]
  },
  {
   "cell_type": "markdown",
   "metadata": {},
   "source": [
    "![MLB](./MLB.png)"
   ]
  },
  {
   "cell_type": "markdown",
   "metadata": {},
   "source": [
    "# 資料讀取"
   ]
  },
  {
   "cell_type": "code",
   "execution_count": 75,
   "metadata": {},
   "outputs": [],
   "source": [
    "import numpy as np\n",
    "import pandas as pd\n",
    "%matplotlib inline\n",
    "import matplotlib.pyplot as plt\n",
    "import seaborn as sns\n",
    "color = sns.color_palette()\n",
    "sns.set_style('darkgrid')\n",
    "import warnings\n",
    "def ignore_warn(*args, **kwargs):\n",
    "    pass\n",
    "\n",
    "warnings.warn = ignore_warn\n",
    "\n",
    "from scipy import stats\n",
    "from scipy.stats import norm, skew\n",
    "\n",
    "pd.set_option('display.float_format',lambda x:'{:.3f}'.format(x))"
   ]
  },
  {
   "cell_type": "code",
   "execution_count": 76,
   "metadata": {
    "scrolled": true
   },
   "outputs": [],
   "source": [
    "train_data = pd.read_csv('train.csv')"
   ]
  },
  {
   "cell_type": "code",
   "execution_count": 77,
   "metadata": {},
   "outputs": [],
   "source": [
    "test_data = pd.read_csv('test.csv')"
   ]
  },
  {
   "cell_type": "markdown",
   "metadata": {},
   "source": [
    "# 初步評估資料"
   ]
  },
  {
   "cell_type": "code",
   "execution_count": 78,
   "metadata": {},
   "outputs": [
    {
     "data": {
      "text/html": [
       "<div>\n",
       "<style scoped>\n",
       "    .dataframe tbody tr th:only-of-type {\n",
       "        vertical-align: middle;\n",
       "    }\n",
       "\n",
       "    .dataframe tbody tr th {\n",
       "        vertical-align: top;\n",
       "    }\n",
       "\n",
       "    .dataframe thead th {\n",
       "        text-align: right;\n",
       "    }\n",
       "</style>\n",
       "<table border=\"1\" class=\"dataframe\">\n",
       "  <thead>\n",
       "    <tr style=\"text-align: right;\">\n",
       "      <th></th>\n",
       "      <th>id</th>\n",
       "      <th>playerID</th>\n",
       "      <th>yearID</th>\n",
       "      <th>stint</th>\n",
       "      <th>teamID</th>\n",
       "      <th>lgID</th>\n",
       "      <th>W</th>\n",
       "      <th>L</th>\n",
       "      <th>G</th>\n",
       "      <th>GS</th>\n",
       "      <th>...</th>\n",
       "      <th>WP</th>\n",
       "      <th>HBP</th>\n",
       "      <th>BK</th>\n",
       "      <th>BFP</th>\n",
       "      <th>GF</th>\n",
       "      <th>R</th>\n",
       "      <th>SH</th>\n",
       "      <th>SF</th>\n",
       "      <th>GIDP</th>\n",
       "      <th>salary_next_year</th>\n",
       "    </tr>\n",
       "  </thead>\n",
       "  <tbody>\n",
       "    <tr>\n",
       "      <th>0</th>\n",
       "      <td>0</td>\n",
       "      <td>nelsoge01</td>\n",
       "      <td>1986</td>\n",
       "      <td>1</td>\n",
       "      <td>CHA</td>\n",
       "      <td>AL</td>\n",
       "      <td>6</td>\n",
       "      <td>6</td>\n",
       "      <td>54</td>\n",
       "      <td>1</td>\n",
       "      <td>...</td>\n",
       "      <td>3.000</td>\n",
       "      <td>3.000</td>\n",
       "      <td>0.000</td>\n",
       "      <td>488.000</td>\n",
       "      <td>26.000</td>\n",
       "      <td>52</td>\n",
       "      <td>nan</td>\n",
       "      <td>nan</td>\n",
       "      <td>nan</td>\n",
       "      <td>365000.000</td>\n",
       "    </tr>\n",
       "    <tr>\n",
       "      <th>1</th>\n",
       "      <td>1</td>\n",
       "      <td>moyerja01</td>\n",
       "      <td>1997</td>\n",
       "      <td>1</td>\n",
       "      <td>SEA</td>\n",
       "      <td>AL</td>\n",
       "      <td>17</td>\n",
       "      <td>5</td>\n",
       "      <td>30</td>\n",
       "      <td>30</td>\n",
       "      <td>...</td>\n",
       "      <td>3.000</td>\n",
       "      <td>7.000</td>\n",
       "      <td>0.000</td>\n",
       "      <td>787.000</td>\n",
       "      <td>0.000</td>\n",
       "      <td>82</td>\n",
       "      <td>nan</td>\n",
       "      <td>nan</td>\n",
       "      <td>nan</td>\n",
       "      <td>2000000.000</td>\n",
       "    </tr>\n",
       "    <tr>\n",
       "      <th>2</th>\n",
       "      <td>2</td>\n",
       "      <td>thompbr01</td>\n",
       "      <td>2008</td>\n",
       "      <td>1</td>\n",
       "      <td>SLN</td>\n",
       "      <td>NL</td>\n",
       "      <td>6</td>\n",
       "      <td>3</td>\n",
       "      <td>26</td>\n",
       "      <td>6</td>\n",
       "      <td>...</td>\n",
       "      <td>2.000</td>\n",
       "      <td>3.000</td>\n",
       "      <td>0.000</td>\n",
       "      <td>273.000</td>\n",
       "      <td>10.000</td>\n",
       "      <td>38</td>\n",
       "      <td>nan</td>\n",
       "      <td>nan</td>\n",
       "      <td>nan</td>\n",
       "      <td>650000.000</td>\n",
       "    </tr>\n",
       "    <tr>\n",
       "      <th>3</th>\n",
       "      <td>3</td>\n",
       "      <td>powerte01</td>\n",
       "      <td>1986</td>\n",
       "      <td>1</td>\n",
       "      <td>CIN</td>\n",
       "      <td>NL</td>\n",
       "      <td>10</td>\n",
       "      <td>6</td>\n",
       "      <td>56</td>\n",
       "      <td>10</td>\n",
       "      <td>...</td>\n",
       "      <td>5.000</td>\n",
       "      <td>1.000</td>\n",
       "      <td>1.000</td>\n",
       "      <td>537.000</td>\n",
       "      <td>30.000</td>\n",
       "      <td>59</td>\n",
       "      <td>nan</td>\n",
       "      <td>nan</td>\n",
       "      <td>nan</td>\n",
       "      <td>500000.000</td>\n",
       "    </tr>\n",
       "    <tr>\n",
       "      <th>4</th>\n",
       "      <td>4</td>\n",
       "      <td>osunaan01</td>\n",
       "      <td>2003</td>\n",
       "      <td>1</td>\n",
       "      <td>NYA</td>\n",
       "      <td>AL</td>\n",
       "      <td>2</td>\n",
       "      <td>5</td>\n",
       "      <td>48</td>\n",
       "      <td>0</td>\n",
       "      <td>...</td>\n",
       "      <td>3.000</td>\n",
       "      <td>2.000</td>\n",
       "      <td>0.000</td>\n",
       "      <td>232.000</td>\n",
       "      <td>16.000</td>\n",
       "      <td>22</td>\n",
       "      <td>nan</td>\n",
       "      <td>nan</td>\n",
       "      <td>nan</td>\n",
       "      <td>750000.000</td>\n",
       "    </tr>\n",
       "  </tbody>\n",
       "</table>\n",
       "<p>5 rows × 32 columns</p>\n",
       "</div>"
      ],
      "text/plain": [
       "   id   playerID  yearID  stint teamID lgID   W  L   G  GS        ...         \\\n",
       "0   0  nelsoge01    1986      1    CHA   AL   6  6  54   1        ...          \n",
       "1   1  moyerja01    1997      1    SEA   AL  17  5  30  30        ...          \n",
       "2   2  thompbr01    2008      1    SLN   NL   6  3  26   6        ...          \n",
       "3   3  powerte01    1986      1    CIN   NL  10  6  56  10        ...          \n",
       "4   4  osunaan01    2003      1    NYA   AL   2  5  48   0        ...          \n",
       "\n",
       "     WP   HBP    BK     BFP     GF   R  SH  SF  GIDP  salary_next_year  \n",
       "0 3.000 3.000 0.000 488.000 26.000  52 nan nan   nan        365000.000  \n",
       "1 3.000 7.000 0.000 787.000  0.000  82 nan nan   nan       2000000.000  \n",
       "2 2.000 3.000 0.000 273.000 10.000  38 nan nan   nan        650000.000  \n",
       "3 5.000 1.000 1.000 537.000 30.000  59 nan nan   nan        500000.000  \n",
       "4 3.000 2.000 0.000 232.000 16.000  22 nan nan   nan        750000.000  \n",
       "\n",
       "[5 rows x 32 columns]"
      ]
     },
     "execution_count": 78,
     "metadata": {},
     "output_type": "execute_result"
    }
   ],
   "source": [
    "train_data.head()"
   ]
  },
  {
   "cell_type": "code",
   "execution_count": 79,
   "metadata": {},
   "outputs": [
    {
     "data": {
      "text/html": [
       "<div>\n",
       "<style scoped>\n",
       "    .dataframe tbody tr th:only-of-type {\n",
       "        vertical-align: middle;\n",
       "    }\n",
       "\n",
       "    .dataframe tbody tr th {\n",
       "        vertical-align: top;\n",
       "    }\n",
       "\n",
       "    .dataframe thead th {\n",
       "        text-align: right;\n",
       "    }\n",
       "</style>\n",
       "<table border=\"1\" class=\"dataframe\">\n",
       "  <thead>\n",
       "    <tr style=\"text-align: right;\">\n",
       "      <th></th>\n",
       "      <th>id</th>\n",
       "      <th>playerID</th>\n",
       "      <th>yearID</th>\n",
       "      <th>stint</th>\n",
       "      <th>teamID</th>\n",
       "      <th>lgID</th>\n",
       "      <th>W</th>\n",
       "      <th>L</th>\n",
       "      <th>G</th>\n",
       "      <th>GS</th>\n",
       "      <th>...</th>\n",
       "      <th>IBB</th>\n",
       "      <th>WP</th>\n",
       "      <th>HBP</th>\n",
       "      <th>BK</th>\n",
       "      <th>BFP</th>\n",
       "      <th>GF</th>\n",
       "      <th>R</th>\n",
       "      <th>SH</th>\n",
       "      <th>SF</th>\n",
       "      <th>GIDP</th>\n",
       "    </tr>\n",
       "  </thead>\n",
       "  <tbody>\n",
       "    <tr>\n",
       "      <th>0</th>\n",
       "      <td>6284</td>\n",
       "      <td>cormirh01</td>\n",
       "      <td>2000</td>\n",
       "      <td>1</td>\n",
       "      <td>BOS</td>\n",
       "      <td>AL</td>\n",
       "      <td>3</td>\n",
       "      <td>3</td>\n",
       "      <td>64</td>\n",
       "      <td>0</td>\n",
       "      <td>...</td>\n",
       "      <td>2.000</td>\n",
       "      <td>1.000</td>\n",
       "      <td>0.000</td>\n",
       "      <td>0.000</td>\n",
       "      <td>293.000</td>\n",
       "      <td>12.000</td>\n",
       "      <td>40</td>\n",
       "      <td>nan</td>\n",
       "      <td>nan</td>\n",
       "      <td>nan</td>\n",
       "    </tr>\n",
       "    <tr>\n",
       "      <th>1</th>\n",
       "      <td>6285</td>\n",
       "      <td>reyesde01</td>\n",
       "      <td>2003</td>\n",
       "      <td>1</td>\n",
       "      <td>PIT</td>\n",
       "      <td>NL</td>\n",
       "      <td>0</td>\n",
       "      <td>0</td>\n",
       "      <td>12</td>\n",
       "      <td>0</td>\n",
       "      <td>...</td>\n",
       "      <td>1.000</td>\n",
       "      <td>5.000</td>\n",
       "      <td>0.000</td>\n",
       "      <td>0.000</td>\n",
       "      <td>50.000</td>\n",
       "      <td>4.000</td>\n",
       "      <td>13</td>\n",
       "      <td>nan</td>\n",
       "      <td>nan</td>\n",
       "      <td>nan</td>\n",
       "    </tr>\n",
       "    <tr>\n",
       "      <th>2</th>\n",
       "      <td>6286</td>\n",
       "      <td>runyase01</td>\n",
       "      <td>1999</td>\n",
       "      <td>1</td>\n",
       "      <td>DET</td>\n",
       "      <td>AL</td>\n",
       "      <td>0</td>\n",
       "      <td>1</td>\n",
       "      <td>12</td>\n",
       "      <td>0</td>\n",
       "      <td>...</td>\n",
       "      <td>1.000</td>\n",
       "      <td>2.000</td>\n",
       "      <td>1.000</td>\n",
       "      <td>0.000</td>\n",
       "      <td>45.000</td>\n",
       "      <td>2.000</td>\n",
       "      <td>4</td>\n",
       "      <td>nan</td>\n",
       "      <td>nan</td>\n",
       "      <td>nan</td>\n",
       "    </tr>\n",
       "    <tr>\n",
       "      <th>3</th>\n",
       "      <td>6287</td>\n",
       "      <td>byrdpa01</td>\n",
       "      <td>2002</td>\n",
       "      <td>1</td>\n",
       "      <td>KCA</td>\n",
       "      <td>AL</td>\n",
       "      <td>17</td>\n",
       "      <td>11</td>\n",
       "      <td>33</td>\n",
       "      <td>33</td>\n",
       "      <td>...</td>\n",
       "      <td>1.000</td>\n",
       "      <td>3.000</td>\n",
       "      <td>7.000</td>\n",
       "      <td>1.000</td>\n",
       "      <td>935.000</td>\n",
       "      <td>0.000</td>\n",
       "      <td>111</td>\n",
       "      <td>nan</td>\n",
       "      <td>nan</td>\n",
       "      <td>nan</td>\n",
       "    </tr>\n",
       "    <tr>\n",
       "      <th>4</th>\n",
       "      <td>6288</td>\n",
       "      <td>parkch01</td>\n",
       "      <td>2006</td>\n",
       "      <td>1</td>\n",
       "      <td>SDN</td>\n",
       "      <td>NL</td>\n",
       "      <td>7</td>\n",
       "      <td>7</td>\n",
       "      <td>24</td>\n",
       "      <td>21</td>\n",
       "      <td>...</td>\n",
       "      <td>7.000</td>\n",
       "      <td>5.000</td>\n",
       "      <td>10.000</td>\n",
       "      <td>0.000</td>\n",
       "      <td>606.000</td>\n",
       "      <td>0.000</td>\n",
       "      <td>81</td>\n",
       "      <td>nan</td>\n",
       "      <td>nan</td>\n",
       "      <td>nan</td>\n",
       "    </tr>\n",
       "  </tbody>\n",
       "</table>\n",
       "<p>5 rows × 31 columns</p>\n",
       "</div>"
      ],
      "text/plain": [
       "     id   playerID  yearID  stint teamID lgID   W   L   G  GS  ...    IBB  \\\n",
       "0  6284  cormirh01    2000      1    BOS   AL   3   3  64   0  ...  2.000   \n",
       "1  6285  reyesde01    2003      1    PIT   NL   0   0  12   0  ...  1.000   \n",
       "2  6286  runyase01    1999      1    DET   AL   0   1  12   0  ...  1.000   \n",
       "3  6287   byrdpa01    2002      1    KCA   AL  17  11  33  33  ...  1.000   \n",
       "4  6288   parkch01    2006      1    SDN   NL   7   7  24  21  ...  7.000   \n",
       "\n",
       "     WP    HBP    BK     BFP     GF    R  SH  SF  GIDP  \n",
       "0 1.000  0.000 0.000 293.000 12.000   40 nan nan   nan  \n",
       "1 5.000  0.000 0.000  50.000  4.000   13 nan nan   nan  \n",
       "2 2.000  1.000 0.000  45.000  2.000    4 nan nan   nan  \n",
       "3 3.000  7.000 1.000 935.000  0.000  111 nan nan   nan  \n",
       "4 5.000 10.000 0.000 606.000  0.000   81 nan nan   nan  \n",
       "\n",
       "[5 rows x 31 columns]"
      ]
     },
     "execution_count": 79,
     "metadata": {},
     "output_type": "execute_result"
    }
   ],
   "source": [
    "test_data.head()"
   ]
  },
  {
   "cell_type": "code",
   "execution_count": 80,
   "metadata": {},
   "outputs": [
    {
     "data": {
      "text/plain": [
       "(6284, 32)"
      ]
     },
     "execution_count": 80,
     "metadata": {},
     "output_type": "execute_result"
    }
   ],
   "source": [
    "train_data.shape"
   ]
  },
  {
   "cell_type": "code",
   "execution_count": 81,
   "metadata": {},
   "outputs": [
    {
     "data": {
      "text/plain": [
       "(1109, 31)"
      ]
     },
     "execution_count": 81,
     "metadata": {},
     "output_type": "execute_result"
    }
   ],
   "source": [
    "test_data.shape"
   ]
  },
  {
   "cell_type": "code",
   "execution_count": 82,
   "metadata": {
    "scrolled": true
   },
   "outputs": [
    {
     "name": "stdout",
     "output_type": "stream",
     "text": [
      "<class 'pandas.core.frame.DataFrame'>\n",
      "RangeIndex: 6284 entries, 0 to 6283\n",
      "Data columns (total 32 columns):\n",
      "id                  6284 non-null int64\n",
      "playerID            6284 non-null object\n",
      "yearID              6284 non-null int64\n",
      "stint               6284 non-null int64\n",
      "teamID              6284 non-null object\n",
      "lgID                6284 non-null object\n",
      "W                   6284 non-null int64\n",
      "L                   6284 non-null int64\n",
      "G                   6284 non-null int64\n",
      "GS                  6284 non-null int64\n",
      "CG                  6284 non-null int64\n",
      "SHO                 6284 non-null int64\n",
      "SV                  6284 non-null int64\n",
      "IPouts              6284 non-null int64\n",
      "H                   6284 non-null int64\n",
      "ER                  6284 non-null int64\n",
      "HR                  6284 non-null int64\n",
      "BB                  6284 non-null int64\n",
      "SO                  6284 non-null int64\n",
      "BAOpp               3831 non-null float64\n",
      "ERA                 6284 non-null float64\n",
      "IBB                 6284 non-null float64\n",
      "WP                  6284 non-null float64\n",
      "HBP                 6284 non-null float64\n",
      "BK                  6284 non-null float64\n",
      "BFP                 6284 non-null float64\n",
      "GF                  6284 non-null float64\n",
      "R                   6284 non-null int64\n",
      "SH                  0 non-null float64\n",
      "SF                  0 non-null float64\n",
      "GIDP                0 non-null float64\n",
      "salary_next_year    6284 non-null float64\n",
      "dtypes: float64(12), int64(17), object(3)\n",
      "memory usage: 1.5+ MB\n"
     ]
    }
   ],
   "source": [
    "train_data.info() \n",
    "# BAOpp 有一半都沒有值, SH、SF、GIDP全部都沒有值\n",
    "#直接 drop掉SH、SF、GIDP"
   ]
  },
  {
   "cell_type": "code",
   "execution_count": 83,
   "metadata": {
    "scrolled": true
   },
   "outputs": [
    {
     "name": "stdout",
     "output_type": "stream",
     "text": [
      "<class 'pandas.core.frame.DataFrame'>\n",
      "RangeIndex: 1109 entries, 0 to 1108\n",
      "Data columns (total 31 columns):\n",
      "id          1109 non-null int64\n",
      "playerID    1109 non-null object\n",
      "yearID      1109 non-null int64\n",
      "stint       1109 non-null int64\n",
      "teamID      1109 non-null object\n",
      "lgID        1109 non-null object\n",
      "W           1109 non-null int64\n",
      "L           1109 non-null int64\n",
      "G           1109 non-null int64\n",
      "GS          1109 non-null int64\n",
      "CG          1109 non-null int64\n",
      "SHO         1109 non-null int64\n",
      "SV          1109 non-null int64\n",
      "IPouts      1109 non-null int64\n",
      "H           1109 non-null int64\n",
      "ER          1109 non-null int64\n",
      "HR          1109 non-null int64\n",
      "BB          1109 non-null int64\n",
      "SO          1109 non-null int64\n",
      "BAOpp       675 non-null float64\n",
      "ERA         1109 non-null float64\n",
      "IBB         1108 non-null float64\n",
      "WP          1108 non-null float64\n",
      "HBP         1108 non-null float64\n",
      "BK          1108 non-null float64\n",
      "BFP         1109 non-null float64\n",
      "GF          1109 non-null float64\n",
      "R           1109 non-null int64\n",
      "SH          0 non-null float64\n",
      "SF          0 non-null float64\n",
      "GIDP        0 non-null float64\n",
      "dtypes: float64(11), int64(17), object(3)\n",
      "memory usage: 268.7+ KB\n"
     ]
    }
   ],
   "source": [
    "test_data.info() #測試集的資料缺失跟訓練集資料分不一致"
   ]
  },
  {
   "cell_type": "code",
   "execution_count": 84,
   "metadata": {},
   "outputs": [
    {
     "data": {
      "text/html": [
       "<div>\n",
       "<style scoped>\n",
       "    .dataframe tbody tr th:only-of-type {\n",
       "        vertical-align: middle;\n",
       "    }\n",
       "\n",
       "    .dataframe tbody tr th {\n",
       "        vertical-align: top;\n",
       "    }\n",
       "\n",
       "    .dataframe thead th {\n",
       "        text-align: right;\n",
       "    }\n",
       "</style>\n",
       "<table border=\"1\" class=\"dataframe\">\n",
       "  <thead>\n",
       "    <tr style=\"text-align: right;\">\n",
       "      <th></th>\n",
       "      <th>id</th>\n",
       "      <th>yearID</th>\n",
       "      <th>stint</th>\n",
       "      <th>W</th>\n",
       "      <th>L</th>\n",
       "      <th>G</th>\n",
       "      <th>GS</th>\n",
       "      <th>CG</th>\n",
       "      <th>SHO</th>\n",
       "      <th>SV</th>\n",
       "      <th>...</th>\n",
       "      <th>WP</th>\n",
       "      <th>HBP</th>\n",
       "      <th>BK</th>\n",
       "      <th>BFP</th>\n",
       "      <th>GF</th>\n",
       "      <th>R</th>\n",
       "      <th>SH</th>\n",
       "      <th>SF</th>\n",
       "      <th>GIDP</th>\n",
       "      <th>salary_next_year</th>\n",
       "    </tr>\n",
       "  </thead>\n",
       "  <tbody>\n",
       "    <tr>\n",
       "      <th>count</th>\n",
       "      <td>6284.000</td>\n",
       "      <td>6284.000</td>\n",
       "      <td>6284.000</td>\n",
       "      <td>6284.000</td>\n",
       "      <td>6284.000</td>\n",
       "      <td>6284.000</td>\n",
       "      <td>6284.000</td>\n",
       "      <td>6284.000</td>\n",
       "      <td>6284.000</td>\n",
       "      <td>6284.000</td>\n",
       "      <td>...</td>\n",
       "      <td>6284.000</td>\n",
       "      <td>6284.000</td>\n",
       "      <td>6284.000</td>\n",
       "      <td>6284.000</td>\n",
       "      <td>6284.000</td>\n",
       "      <td>6284.000</td>\n",
       "      <td>0.000</td>\n",
       "      <td>0.000</td>\n",
       "      <td>0.000</td>\n",
       "      <td>6284.000</td>\n",
       "    </tr>\n",
       "    <tr>\n",
       "      <th>mean</th>\n",
       "      <td>3141.500</td>\n",
       "      <td>1998.681</td>\n",
       "      <td>1.004</td>\n",
       "      <td>6.270</td>\n",
       "      <td>5.840</td>\n",
       "      <td>37.204</td>\n",
       "      <td>12.518</td>\n",
       "      <td>0.960</td>\n",
       "      <td>0.305</td>\n",
       "      <td>3.327</td>\n",
       "      <td>...</td>\n",
       "      <td>3.565</td>\n",
       "      <td>3.382</td>\n",
       "      <td>0.579</td>\n",
       "      <td>452.330</td>\n",
       "      <td>10.065</td>\n",
       "      <td>52.188</td>\n",
       "      <td>nan</td>\n",
       "      <td>nan</td>\n",
       "      <td>nan</td>\n",
       "      <td>2153669.017</td>\n",
       "    </tr>\n",
       "    <tr>\n",
       "      <th>std</th>\n",
       "      <td>1814.179</td>\n",
       "      <td>7.293</td>\n",
       "      <td>0.067</td>\n",
       "      <td>5.082</td>\n",
       "      <td>4.151</td>\n",
       "      <td>19.697</td>\n",
       "      <td>13.538</td>\n",
       "      <td>2.051</td>\n",
       "      <td>0.763</td>\n",
       "      <td>8.768</td>\n",
       "      <td>...</td>\n",
       "      <td>3.201</td>\n",
       "      <td>3.159</td>\n",
       "      <td>1.126</td>\n",
       "      <td>288.615</td>\n",
       "      <td>14.960</td>\n",
       "      <td>34.497</td>\n",
       "      <td>nan</td>\n",
       "      <td>nan</td>\n",
       "      <td>nan</td>\n",
       "      <td>2990284.701</td>\n",
       "    </tr>\n",
       "    <tr>\n",
       "      <th>min</th>\n",
       "      <td>0.000</td>\n",
       "      <td>1985.000</td>\n",
       "      <td>1.000</td>\n",
       "      <td>0.000</td>\n",
       "      <td>0.000</td>\n",
       "      <td>1.000</td>\n",
       "      <td>0.000</td>\n",
       "      <td>0.000</td>\n",
       "      <td>0.000</td>\n",
       "      <td>0.000</td>\n",
       "      <td>...</td>\n",
       "      <td>0.000</td>\n",
       "      <td>0.000</td>\n",
       "      <td>0.000</td>\n",
       "      <td>1.000</td>\n",
       "      <td>0.000</td>\n",
       "      <td>0.000</td>\n",
       "      <td>nan</td>\n",
       "      <td>nan</td>\n",
       "      <td>nan</td>\n",
       "      <td>60000.000</td>\n",
       "    </tr>\n",
       "    <tr>\n",
       "      <th>25%</th>\n",
       "      <td>1570.750</td>\n",
       "      <td>1993.000</td>\n",
       "      <td>1.000</td>\n",
       "      <td>2.000</td>\n",
       "      <td>2.000</td>\n",
       "      <td>24.000</td>\n",
       "      <td>0.000</td>\n",
       "      <td>0.000</td>\n",
       "      <td>0.000</td>\n",
       "      <td>0.000</td>\n",
       "      <td>...</td>\n",
       "      <td>1.000</td>\n",
       "      <td>1.000</td>\n",
       "      <td>0.000</td>\n",
       "      <td>229.000</td>\n",
       "      <td>0.000</td>\n",
       "      <td>24.000</td>\n",
       "      <td>nan</td>\n",
       "      <td>nan</td>\n",
       "      <td>nan</td>\n",
       "      <td>350000.000</td>\n",
       "    </tr>\n",
       "    <tr>\n",
       "      <th>50%</th>\n",
       "      <td>3141.500</td>\n",
       "      <td>1999.000</td>\n",
       "      <td>1.000</td>\n",
       "      <td>5.000</td>\n",
       "      <td>5.000</td>\n",
       "      <td>33.000</td>\n",
       "      <td>6.000</td>\n",
       "      <td>0.000</td>\n",
       "      <td>0.000</td>\n",
       "      <td>0.000</td>\n",
       "      <td>...</td>\n",
       "      <td>3.000</td>\n",
       "      <td>3.000</td>\n",
       "      <td>0.000</td>\n",
       "      <td>349.000</td>\n",
       "      <td>3.000</td>\n",
       "      <td>41.000</td>\n",
       "      <td>nan</td>\n",
       "      <td>nan</td>\n",
       "      <td>nan</td>\n",
       "      <td>875000.000</td>\n",
       "    </tr>\n",
       "    <tr>\n",
       "      <th>75%</th>\n",
       "      <td>4712.250</td>\n",
       "      <td>2005.000</td>\n",
       "      <td>1.000</td>\n",
       "      <td>10.000</td>\n",
       "      <td>9.000</td>\n",
       "      <td>52.000</td>\n",
       "      <td>27.000</td>\n",
       "      <td>1.000</td>\n",
       "      <td>0.000</td>\n",
       "      <td>1.000</td>\n",
       "      <td>...</td>\n",
       "      <td>5.000</td>\n",
       "      <td>5.000</td>\n",
       "      <td>1.000</td>\n",
       "      <td>721.000</td>\n",
       "      <td>14.000</td>\n",
       "      <td>82.000</td>\n",
       "      <td>nan</td>\n",
       "      <td>nan</td>\n",
       "      <td>nan</td>\n",
       "      <td>2788541.500</td>\n",
       "    </tr>\n",
       "    <tr>\n",
       "      <th>max</th>\n",
       "      <td>6283.000</td>\n",
       "      <td>2011.000</td>\n",
       "      <td>2.000</td>\n",
       "      <td>27.000</td>\n",
       "      <td>21.000</td>\n",
       "      <td>94.000</td>\n",
       "      <td>39.000</td>\n",
       "      <td>20.000</td>\n",
       "      <td>10.000</td>\n",
       "      <td>62.000</td>\n",
       "      <td>...</td>\n",
       "      <td>26.000</td>\n",
       "      <td>20.000</td>\n",
       "      <td>16.000</td>\n",
       "      <td>1157.000</td>\n",
       "      <td>76.000</td>\n",
       "      <td>160.000</td>\n",
       "      <td>nan</td>\n",
       "      <td>nan</td>\n",
       "      <td>nan</td>\n",
       "      <td>24285714.000</td>\n",
       "    </tr>\n",
       "  </tbody>\n",
       "</table>\n",
       "<p>8 rows × 29 columns</p>\n",
       "</div>"
      ],
      "text/plain": [
       "            id   yearID    stint        W        L        G       GS       CG  \\\n",
       "count 6284.000 6284.000 6284.000 6284.000 6284.000 6284.000 6284.000 6284.000   \n",
       "mean  3141.500 1998.681    1.004    6.270    5.840   37.204   12.518    0.960   \n",
       "std   1814.179    7.293    0.067    5.082    4.151   19.697   13.538    2.051   \n",
       "min      0.000 1985.000    1.000    0.000    0.000    1.000    0.000    0.000   \n",
       "25%   1570.750 1993.000    1.000    2.000    2.000   24.000    0.000    0.000   \n",
       "50%   3141.500 1999.000    1.000    5.000    5.000   33.000    6.000    0.000   \n",
       "75%   4712.250 2005.000    1.000   10.000    9.000   52.000   27.000    1.000   \n",
       "max   6283.000 2011.000    2.000   27.000   21.000   94.000   39.000   20.000   \n",
       "\n",
       "           SHO       SV        ...              WP      HBP       BK      BFP  \\\n",
       "count 6284.000 6284.000        ...        6284.000 6284.000 6284.000 6284.000   \n",
       "mean     0.305    3.327        ...           3.565    3.382    0.579  452.330   \n",
       "std      0.763    8.768        ...           3.201    3.159    1.126  288.615   \n",
       "min      0.000    0.000        ...           0.000    0.000    0.000    1.000   \n",
       "25%      0.000    0.000        ...           1.000    1.000    0.000  229.000   \n",
       "50%      0.000    0.000        ...           3.000    3.000    0.000  349.000   \n",
       "75%      0.000    1.000        ...           5.000    5.000    1.000  721.000   \n",
       "max     10.000   62.000        ...          26.000   20.000   16.000 1157.000   \n",
       "\n",
       "            GF        R    SH    SF  GIDP  salary_next_year  \n",
       "count 6284.000 6284.000 0.000 0.000 0.000          6284.000  \n",
       "mean    10.065   52.188   nan   nan   nan       2153669.017  \n",
       "std     14.960   34.497   nan   nan   nan       2990284.701  \n",
       "min      0.000    0.000   nan   nan   nan         60000.000  \n",
       "25%      0.000   24.000   nan   nan   nan        350000.000  \n",
       "50%      3.000   41.000   nan   nan   nan        875000.000  \n",
       "75%     14.000   82.000   nan   nan   nan       2788541.500  \n",
       "max     76.000  160.000   nan   nan   nan      24285714.000  \n",
       "\n",
       "[8 rows x 29 columns]"
      ]
     },
     "execution_count": 84,
     "metadata": {},
     "output_type": "execute_result"
    }
   ],
   "source": [
    "train_data.describe()"
   ]
  },
  {
   "cell_type": "code",
   "execution_count": 85,
   "metadata": {},
   "outputs": [
    {
     "data": {
      "text/html": [
       "<div>\n",
       "<style scoped>\n",
       "    .dataframe tbody tr th:only-of-type {\n",
       "        vertical-align: middle;\n",
       "    }\n",
       "\n",
       "    .dataframe tbody tr th {\n",
       "        vertical-align: top;\n",
       "    }\n",
       "\n",
       "    .dataframe thead th {\n",
       "        text-align: right;\n",
       "    }\n",
       "</style>\n",
       "<table border=\"1\" class=\"dataframe\">\n",
       "  <thead>\n",
       "    <tr style=\"text-align: right;\">\n",
       "      <th></th>\n",
       "      <th>playerID</th>\n",
       "      <th>teamID</th>\n",
       "      <th>lgID</th>\n",
       "    </tr>\n",
       "  </thead>\n",
       "  <tbody>\n",
       "    <tr>\n",
       "      <th>count</th>\n",
       "      <td>6284</td>\n",
       "      <td>6284</td>\n",
       "      <td>6284</td>\n",
       "    </tr>\n",
       "    <tr>\n",
       "      <th>unique</th>\n",
       "      <td>1246</td>\n",
       "      <td>34</td>\n",
       "      <td>2</td>\n",
       "    </tr>\n",
       "    <tr>\n",
       "      <th>top</th>\n",
       "      <td>moyerja01</td>\n",
       "      <td>SLN</td>\n",
       "      <td>NL</td>\n",
       "    </tr>\n",
       "    <tr>\n",
       "      <th>freq</th>\n",
       "      <td>22</td>\n",
       "      <td>244</td>\n",
       "      <td>3254</td>\n",
       "    </tr>\n",
       "  </tbody>\n",
       "</table>\n",
       "</div>"
      ],
      "text/plain": [
       "         playerID teamID  lgID\n",
       "count        6284   6284  6284\n",
       "unique       1246     34     2\n",
       "top     moyerja01    SLN    NL\n",
       "freq           22    244  3254"
      ]
     },
     "execution_count": 85,
     "metadata": {},
     "output_type": "execute_result"
    }
   ],
   "source": [
    "train_data.describe(include = 'object')"
   ]
  },
  {
   "cell_type": "markdown",
   "metadata": {},
   "source": [
    "> playerID怎麼處理?"
   ]
  },
  {
   "cell_type": "markdown",
   "metadata": {},
   "source": [
    "## 訓練數據跟測試數據結合"
   ]
  },
  {
   "cell_type": "code",
   "execution_count": 86,
   "metadata": {},
   "outputs": [
    {
     "name": "stdout",
     "output_type": "stream",
     "text": [
      "訓練資料集的維度 (6284, 31)\n",
      "測試資料集的維度 (1109, 30)\n"
     ]
    }
   ],
   "source": [
    "train_ID =  train_data['id']\n",
    "test_ID = test_data['id']\n",
    "\n",
    "train_data.drop(['id'], axis = 1,inplace = True)\n",
    "test_data.drop(['id'], axis = 1, inplace = True)\n",
    "\n",
    "print(\"訓練資料集的維度\",train_data.shape)\n",
    "print(\"測試資料集的維度\",test_data.shape)"
   ]
  },
  {
   "cell_type": "markdown",
   "metadata": {},
   "source": [
    "# 探索式數據分析"
   ]
  },
  {
   "cell_type": "markdown",
   "metadata": {},
   "source": [
    "### 前30名薪資球員"
   ]
  },
  {
   "cell_type": "markdown",
   "metadata": {},
   "source": [
    "### 將下一年的薪資 做 log 轉移"
   ]
  },
  {
   "cell_type": "code",
   "execution_count": 87,
   "metadata": {},
   "outputs": [
    {
     "name": "stdout",
     "output_type": "stream",
     "text": [
      "\n",
      " mu = 2153669.02 and sigma = 2990046.76\n",
      "\n"
     ]
    },
    {
     "name": "stderr",
     "output_type": "stream",
     "text": [
      "C:\\Users\\autolab2\\Anaconda3\\lib\\site-packages\\scipy\\stats\\stats.py:1713: FutureWarning: Using a non-tuple sequence for multidimensional indexing is deprecated; use `arr[tuple(seq)]` instead of `arr[seq]`. In the future this will be interpreted as an array index, `arr[np.array(seq)]`, which will result either in an error or a different result.\n",
      "  return np.add.reduce(sorted[indexer] * weights, axis=axis) / sumval\n"
     ]
    },
    {
     "data": {
      "image/png": "[encoded data removed]",
      "text/plain": [
       "<Figure size 432x288 with 1 Axes>"
      ]
     },
     "metadata": {},
     "output_type": "display_data"
    },
    {
     "data": {
      "image/png": "[encoded data removed]",
      "text/plain": [
       "<Figure size 432x288 with 1 Axes>"
      ]
     },
     "metadata": {},
     "output_type": "display_data"
    }
   ],
   "source": [
    "sns.distplot(train_data['salary_next_year'], fit = norm)\n",
    "\n",
    "#擬合正態分布\n",
    "(mu , sigma) = norm.fit(train_data['salary_next_year'])\n",
    "print('\\n mu = {:.2f} and sigma = {:.2f}\\n'.format(mu, sigma))\n",
    "\n",
    "# 繪圖\n",
    "plt.legend(['Normal dist.($\\mu = ${:.2f} and $\\sigma = ${:.2f})'.format(mu,sigma)],loc = 'best')\n",
    "plt.ylabel('Frequency')\n",
    "plt.title('Salary Next Year distribution')\n",
    "\n",
    "#原始數據分布繪圖\n",
    "fig = plt.figure()\n",
    "res = stats.probplot(train_data['salary_next_year'], plot = plt)\n",
    "plt.show()"
   ]
  },
  {
   "cell_type": "markdown",
   "metadata": {},
   "source": [
    "> 此時的正態分布為嚴重右偏態分布，整體峰值向左偏離，並且偏度(skewness)較大，需要對目標值做log轉換，以恢復目標值的正態性。"
   ]
  },
  {
   "cell_type": "code",
   "execution_count": 88,
   "metadata": {},
   "outputs": [
    {
     "name": "stdout",
     "output_type": "stream",
     "text": [
      "\n",
      " mu = 13.79 and sigma = 1.29\n",
      "\n"
     ]
    },
    {
     "data": {
      "image/png": "[encoded data removed]",
      "text/plain": [
       "<Figure size 432x288 with 1 Axes>"
      ]
     },
     "metadata": {},
     "output_type": "display_data"
    },
    {
     "data": {
      "image/png": "[encoded data removed]",
      "text/plain": [
       "<Figure size 432x288 with 1 Axes>"
      ]
     },
     "metadata": {},
     "output_type": "display_data"
    }
   ],
   "source": [
    "#使用log1p函數完成log(1+x)變換\n",
    "train_data['salary_next_year'] = np.log1p(train_data['salary_next_year'])\n",
    "\n",
    "#查看調整後的分布\n",
    "sns.distplot(train_data['salary_next_year'], fit = norm)\n",
    "\n",
    "# 重新擬合\n",
    "(mu, sigma) = norm.fit(train_data['salary_next_year'])\n",
    "print( '\\n mu = {:.2f} and sigma = {:.2f}\\n'.format(mu, sigma))\n",
    "\n",
    "# 重新繪製正态分布\n",
    "plt.legend(['Normal dist. ($\\mu=$ {:.2f} and $\\sigma=$ {:.2f} )'.format(mu, sigma)],\n",
    "            loc='best')\n",
    "plt.ylabel('Frequency')\n",
    "plt.title('Salary Next Year distribution')\n",
    "\n",
    "# 繪製轉變後的分布\n",
    "fig = plt.figure()\n",
    "res = stats.probplot(train_data['salary_next_year'], plot=plt)\n",
    "plt.show()"
   ]
  },
  {
   "cell_type": "markdown",
   "metadata": {},
   "source": [
    "## BAOpp:對手平均打擊率 缺失39%數據"
   ]
  },
  {
   "cell_type": "code",
   "execution_count": 89,
   "metadata": {},
   "outputs": [
    {
     "data": {
      "image/png": "[encoded data removed]",
      "text/plain": [
       "<Figure size 432x288 with 1 Axes>"
      ]
     },
     "metadata": {},
     "output_type": "display_data"
    }
   ],
   "source": [
    "#繪圖\n",
    "fig, ax = plt.subplots()\n",
    "ax.scatter(x = train_data['BAOpp'], y = train_data['salary_next_year'])\n",
    "plt.ylabel('salary_next_year', fontsize = 13)\n",
    "plt.xlabel('BAOpp', fontsize = 13)\n",
    "plt.show()"
   ]
  },
  {
   "cell_type": "markdown",
   "metadata": {},
   "source": [
    "## 觀看所有資料的"
   ]
  },
  {
   "cell_type": "code",
   "execution_count": 90,
   "metadata": {},
   "outputs": [],
   "source": [
    "# pairplot of numerical variables\n",
    "#sns.pairplot(data=all_data)"
   ]
  },
  {
   "cell_type": "markdown",
   "metadata": {},
   "source": [
    "# 畫出熱力圖比較特徵間的相關性"
   ]
  },
  {
   "cell_type": "code",
   "execution_count": 91,
   "metadata": {},
   "outputs": [],
   "source": [
    "# Required parameter: dataframe ... the reference pandas dataframe\n",
    "# Optional parameters: title ... (string) chart title\n",
    "#                      file  ... (string) path+filename if you want to save image\n",
    "def half_masked_corr_heatmap(dataframe, title=None, file=None):\n",
    "    plt.figure(figsize=(15,15))\n",
    "    sns.set(font_scale=1)\n",
    "\n",
    "    mask = np.zeros_like(dataframe.corr())\n",
    "    mask[np.triu_indices_from(mask)] = True\n",
    "\n",
    "    with sns.axes_style(\"white\"):\n",
    "        sns.heatmap(dataframe.corr(), mask=mask, annot=True, cmap='coolwarm')\n",
    "\n",
    "    if title: plt.title(f'\\n{title}\\n', fontsize=18)\n",
    "    plt.xlabel('')    # optional in case you want an x-axis label\n",
    "    plt.ylabel('')    # optional in case you want a  y-axis label\n",
    "    if file: plt.savefig(file, bbox_inches='tight')\n",
    "    plt.show();\n",
    "    \n",
    "    return"
   ]
  },
  {
   "cell_type": "code",
   "execution_count": 92,
   "metadata": {},
   "outputs": [
    {
     "data": {
      "image/png": "[encoded data removed]",
      "text/plain": [
       "<Figure size 1080x1080 with 2 Axes>"
      ]
     },
     "metadata": {},
     "output_type": "display_data"
    }
   ],
   "source": [
    "half_masked_corr_heatmap(train_data.drop(['SH','SF','GIDP'],axis = 1))"
   ]
  },
  {
   "cell_type": "code",
   "execution_count": 93,
   "metadata": {},
   "outputs": [],
   "source": [
    "# Required parameters: dataframe ... the reference pandas dataframe\n",
    "#                      target ... (string) column name of the target variable\n",
    "\n",
    "# Optional parameters: title ... (string) chart title\n",
    "#                      file  ... (string) path+filename if you want to save image\n",
    "\n",
    "def corr_to_target(dataframe, target, title=None, file=None):\n",
    "    plt.figure(figsize=(4,6))\n",
    "    sns.set(font_scale=1)\n",
    "    \n",
    "    sns.heatmap(dataframe.corr()[[target]].sort_values(target,\n",
    "                                                ascending=False)[1:],\n",
    "                annot=True,\n",
    "                cmap='coolwarm')\n",
    "    \n",
    "    if title: plt.title(f'\\n{title}\\n', fontsize=18)\n",
    "    plt.xlabel('')    # optional in case you want an x-axis label\n",
    "    plt.ylabel('')    # optional in case you want a  y-axis label\n",
    "    if file: plt.savefig(file, bbox_inches='tight')\n",
    "    plt.show();\n",
    "    \n",
    "    return"
   ]
  },
  {
   "cell_type": "code",
   "execution_count": 94,
   "metadata": {
    "scrolled": false
   },
   "outputs": [
    {
     "data": {
      "image/png": "[encoded data removed]",
      "text/plain": [
       "<Figure size 288x432 with 2 Axes>"
      ]
     },
     "metadata": {},
     "output_type": "display_data"
    }
   ],
   "source": [
    "corr_to_target(train_data.drop(['SH','SF','GIDP'],axis = 1), 'salary_next_year') #可以看到薪資跟年代高度相關，以前的薪水跟現在的薪水不一樣"
   ]
  },
  {
   "cell_type": "markdown",
   "metadata": {},
   "source": [
    "### 觀察YearID與薪資的趨勢"
   ]
  },
  {
   "cell_type": "markdown",
   "metadata": {},
   "source": [
    "> 1994年聽說罷工所以停止舉辦冠軍賽 感覺與這有關"
   ]
  },
  {
   "cell_type": "code",
   "execution_count": 95,
   "metadata": {},
   "outputs": [
    {
     "data": {
      "text/plain": [
       "<matplotlib.axes._subplots.AxesSubplot at 0x19c16b340b8>"
      ]
     },
     "execution_count": 95,
     "metadata": {},
     "output_type": "execute_result"
    },
    {
     "data": {
      "image/png": "[encoded data removed]",
      "text/plain": [
       "<Figure size 1152x576 with 1 Axes>"
      ]
     },
     "metadata": {},
     "output_type": "display_data"
    }
   ],
   "source": [
    "f, ax = plt.subplots(figsize=(16, 8)) #考慮把1994的數據拿掉\n",
    "sns.lineplot(x='yearID', y='salary_next_year', data=train_data,color = 'red') #可發現從1995年以後薪資是一路成長, 且可以用五年用一個單位"
   ]
  },
  {
   "cell_type": "markdown",
   "metadata": {},
   "source": [
    "### 觀察playID 出現的次數 增加個表現的平均值 等等、同時觀察有無名星球員的可能"
   ]
  },
  {
   "cell_type": "markdown",
   "metadata": {},
   "source": [
    "### 新增選手出現的次數特徵 (訓練集與測試集分開) v2 效果不好 有overfitting的效果"
   ]
  },
  {
   "cell_type": "code",
   "execution_count": 96,
   "metadata": {},
   "outputs": [],
   "source": [
    "#train_data['playerID_count'] = train_data.groupby('playerID')['playerID'].transform(lambda x:x.count())\n",
    "#text = len(list(set(train_data['playerID'].values).intersection(set(test_data['playerID'].values))))\n",
    "#print('訓練集跟測試集 有{}個球員重複'.format(text))\n",
    "#test_data['playerID_count'] = test_data.groupby('playerID')['playerID'].transform(lambda x:x.count()) "
   ]
  },
  {
   "cell_type": "markdown",
   "metadata": {},
   "source": [
    "### 計算年資(資歷)"
   ]
  },
  {
   "cell_type": "markdown",
   "metadata": {},
   "source": [
    "#### 先看一下出現最多次的投手 資歷跟薪水如何"
   ]
  },
  {
   "cell_type": "code",
   "execution_count": 97,
   "metadata": {
    "scrolled": true
   },
   "outputs": [],
   "source": [
    "moyerja01 = train_data.loc[train_data['playerID'] == 'moyerja01',:].copy()"
   ]
  },
  {
   "cell_type": "code",
   "execution_count": 98,
   "metadata": {
    "scrolled": true
   },
   "outputs": [
    {
     "data": {
      "text/plain": [
       "<matplotlib.axes._subplots.AxesSubplot at 0x19c16b347f0>"
      ]
     },
     "execution_count": 98,
     "metadata": {},
     "output_type": "execute_result"
    },
    {
     "data": {
      "image/png": "[encoded data removed]",
      "text/plain": [
       "<Figure size 1152x576 with 1 Axes>"
      ]
     },
     "metadata": {},
     "output_type": "display_data"
    }
   ],
   "source": [
    "f, ax = plt.subplots(figsize=(16, 8)) #會發現年資整體是 隨年資成長, 但最後一年會大幅下降\n",
    "sns.lineplot(x='yearID', y='salary_next_year', data=moyerja01,color = 'red') #可發現從1995年以後薪資是一路成長, 且可以用五年用一個單位"
   ]
  },
  {
   "cell_type": "code",
   "execution_count": 99,
   "metadata": {},
   "outputs": [
    {
     "data": {
      "text/html": [
       "<div>\n",
       "<style scoped>\n",
       "    .dataframe tbody tr th:only-of-type {\n",
       "        vertical-align: middle;\n",
       "    }\n",
       "\n",
       "    .dataframe tbody tr th {\n",
       "        vertical-align: top;\n",
       "    }\n",
       "\n",
       "    .dataframe thead th {\n",
       "        text-align: right;\n",
       "    }\n",
       "</style>\n",
       "<table border=\"1\" class=\"dataframe\">\n",
       "  <thead>\n",
       "    <tr style=\"text-align: right;\">\n",
       "      <th></th>\n",
       "      <th>playerID</th>\n",
       "      <th>yearID</th>\n",
       "      <th>stint</th>\n",
       "      <th>teamID</th>\n",
       "      <th>lgID</th>\n",
       "      <th>W</th>\n",
       "      <th>L</th>\n",
       "      <th>G</th>\n",
       "      <th>GS</th>\n",
       "      <th>CG</th>\n",
       "      <th>...</th>\n",
       "      <th>WP</th>\n",
       "      <th>HBP</th>\n",
       "      <th>BK</th>\n",
       "      <th>BFP</th>\n",
       "      <th>GF</th>\n",
       "      <th>R</th>\n",
       "      <th>SH</th>\n",
       "      <th>SF</th>\n",
       "      <th>GIDP</th>\n",
       "      <th>salary_next_year</th>\n",
       "    </tr>\n",
       "  </thead>\n",
       "  <tbody>\n",
       "    <tr>\n",
       "      <th>0</th>\n",
       "      <td>nelsoge01</td>\n",
       "      <td>1986</td>\n",
       "      <td>1</td>\n",
       "      <td>CHA</td>\n",
       "      <td>AL</td>\n",
       "      <td>6</td>\n",
       "      <td>6</td>\n",
       "      <td>54</td>\n",
       "      <td>1</td>\n",
       "      <td>0</td>\n",
       "      <td>...</td>\n",
       "      <td>3.000</td>\n",
       "      <td>3.000</td>\n",
       "      <td>0.000</td>\n",
       "      <td>488.000</td>\n",
       "      <td>26.000</td>\n",
       "      <td>52</td>\n",
       "      <td>nan</td>\n",
       "      <td>nan</td>\n",
       "      <td>nan</td>\n",
       "      <td>12.808</td>\n",
       "    </tr>\n",
       "    <tr>\n",
       "      <th>1</th>\n",
       "      <td>moyerja01</td>\n",
       "      <td>1997</td>\n",
       "      <td>1</td>\n",
       "      <td>SEA</td>\n",
       "      <td>AL</td>\n",
       "      <td>17</td>\n",
       "      <td>5</td>\n",
       "      <td>30</td>\n",
       "      <td>30</td>\n",
       "      <td>2</td>\n",
       "      <td>...</td>\n",
       "      <td>3.000</td>\n",
       "      <td>7.000</td>\n",
       "      <td>0.000</td>\n",
       "      <td>787.000</td>\n",
       "      <td>0.000</td>\n",
       "      <td>82</td>\n",
       "      <td>nan</td>\n",
       "      <td>nan</td>\n",
       "      <td>nan</td>\n",
       "      <td>14.509</td>\n",
       "    </tr>\n",
       "    <tr>\n",
       "      <th>2</th>\n",
       "      <td>thompbr01</td>\n",
       "      <td>2008</td>\n",
       "      <td>1</td>\n",
       "      <td>SLN</td>\n",
       "      <td>NL</td>\n",
       "      <td>6</td>\n",
       "      <td>3</td>\n",
       "      <td>26</td>\n",
       "      <td>6</td>\n",
       "      <td>0</td>\n",
       "      <td>...</td>\n",
       "      <td>2.000</td>\n",
       "      <td>3.000</td>\n",
       "      <td>0.000</td>\n",
       "      <td>273.000</td>\n",
       "      <td>10.000</td>\n",
       "      <td>38</td>\n",
       "      <td>nan</td>\n",
       "      <td>nan</td>\n",
       "      <td>nan</td>\n",
       "      <td>13.385</td>\n",
       "    </tr>\n",
       "    <tr>\n",
       "      <th>3</th>\n",
       "      <td>powerte01</td>\n",
       "      <td>1986</td>\n",
       "      <td>1</td>\n",
       "      <td>CIN</td>\n",
       "      <td>NL</td>\n",
       "      <td>10</td>\n",
       "      <td>6</td>\n",
       "      <td>56</td>\n",
       "      <td>10</td>\n",
       "      <td>0</td>\n",
       "      <td>...</td>\n",
       "      <td>5.000</td>\n",
       "      <td>1.000</td>\n",
       "      <td>1.000</td>\n",
       "      <td>537.000</td>\n",
       "      <td>30.000</td>\n",
       "      <td>59</td>\n",
       "      <td>nan</td>\n",
       "      <td>nan</td>\n",
       "      <td>nan</td>\n",
       "      <td>13.122</td>\n",
       "    </tr>\n",
       "    <tr>\n",
       "      <th>4</th>\n",
       "      <td>osunaan01</td>\n",
       "      <td>2003</td>\n",
       "      <td>1</td>\n",
       "      <td>NYA</td>\n",
       "      <td>AL</td>\n",
       "      <td>2</td>\n",
       "      <td>5</td>\n",
       "      <td>48</td>\n",
       "      <td>0</td>\n",
       "      <td>0</td>\n",
       "      <td>...</td>\n",
       "      <td>3.000</td>\n",
       "      <td>2.000</td>\n",
       "      <td>0.000</td>\n",
       "      <td>232.000</td>\n",
       "      <td>16.000</td>\n",
       "      <td>22</td>\n",
       "      <td>nan</td>\n",
       "      <td>nan</td>\n",
       "      <td>nan</td>\n",
       "      <td>13.528</td>\n",
       "    </tr>\n",
       "  </tbody>\n",
       "</table>\n",
       "<p>5 rows × 31 columns</p>\n",
       "</div>"
      ],
      "text/plain": [
       "    playerID  yearID  stint teamID lgID   W  L   G  GS  CG        ...         \\\n",
       "0  nelsoge01    1986      1    CHA   AL   6  6  54   1   0        ...          \n",
       "1  moyerja01    1997      1    SEA   AL  17  5  30  30   2        ...          \n",
       "2  thompbr01    2008      1    SLN   NL   6  3  26   6   0        ...          \n",
       "3  powerte01    1986      1    CIN   NL  10  6  56  10   0        ...          \n",
       "4  osunaan01    2003      1    NYA   AL   2  5  48   0   0        ...          \n",
       "\n",
       "     WP   HBP    BK     BFP     GF   R  SH  SF  GIDP  salary_next_year  \n",
       "0 3.000 3.000 0.000 488.000 26.000  52 nan nan   nan            12.808  \n",
       "1 3.000 7.000 0.000 787.000  0.000  82 nan nan   nan            14.509  \n",
       "2 2.000 3.000 0.000 273.000 10.000  38 nan nan   nan            13.385  \n",
       "3 5.000 1.000 1.000 537.000 30.000  59 nan nan   nan            13.122  \n",
       "4 3.000 2.000 0.000 232.000 16.000  22 nan nan   nan            13.528  \n",
       "\n",
       "[5 rows x 31 columns]"
      ]
     },
     "execution_count": 99,
     "metadata": {},
     "output_type": "execute_result"
    }
   ],
   "source": [
    "train_data.head()"
   ]
  },
  {
   "cell_type": "markdown",
   "metadata": {},
   "source": [
    "### 看playerID 平均薪資、續約次數的關係"
   ]
  },
  {
   "cell_type": "code",
   "execution_count": 100,
   "metadata": {},
   "outputs": [
    {
     "data": {
      "text/plain": [
       "\"train_data['salary_mean'] = train_data.groupby('playerID')['salary_next_year'].transform(lambda i :i.mean())\\ntrain_data['salary_max'] = train_data.groupby('playerID')['salary_next_year'].transform(lambda i :i.max())\\ntrain_data['salary_min'] = train_data.groupby('playerID')['salary_next_year'].transform(lambda i :i.min())\\ntrain_data['salary_std'] = train_data.groupby('playerID')['salary_next_year'].transform(lambda i :i.std())\\n\\nsalary_mean = train_data.groupby('playerID')[['playerID','salary_mean']].apply(lambda i : i).drop_duplicates()\\nsalary_max = train_data.groupby('playerID')[['playerID','salary_max']].apply(lambda i : i).drop_duplicates()\\nsalary_min = train_data.groupby('playerID')[['playerID','salary_min']].apply(lambda i : i).drop_duplicates()\\nsalary_std = train_data.groupby('playerID')[['playerID','salary_std']].apply(lambda i : i).drop_duplicates()\\n\\ntest_data['salary_mean'] = test_data['playerID'].map(dict(salary_mean.values))\\ntest_data['salary_max'] = test_data['playerID'].map(dict(salary_max.values))\\ntest_data['salary_min'] = test_data['playerID'].map(dict(salary_min.values))\\ntest_data['salary_std'] = test_data['playerID'].map(dict(salary_std.values))\\n\\nsalary_diff = train_data.groupby('playerID')[['playerID','salary_diff']].apply(lambda i : i).drop_duplicates()\\ntest_data['salary_diff'] = test_data['playerID'].map(dict(salary_diff.values))\\n\""
      ]
     },
     "execution_count": 100,
     "metadata": {},
     "output_type": "execute_result"
    }
   ],
   "source": [
    "'''train_data['salary_mean'] = train_data.groupby('playerID')['salary_next_year'].transform(lambda i :i.mean())\n",
    "train_data['salary_max'] = train_data.groupby('playerID')['salary_next_year'].transform(lambda i :i.max())\n",
    "train_data['salary_min'] = train_data.groupby('playerID')['salary_next_year'].transform(lambda i :i.min())\n",
    "train_data['salary_std'] = train_data.groupby('playerID')['salary_next_year'].transform(lambda i :i.std())\n",
    "\n",
    "salary_mean = train_data.groupby('playerID')[['playerID','salary_mean']].apply(lambda i : i).drop_duplicates()\n",
    "salary_max = train_data.groupby('playerID')[['playerID','salary_max']].apply(lambda i : i).drop_duplicates()\n",
    "salary_min = train_data.groupby('playerID')[['playerID','salary_min']].apply(lambda i : i).drop_duplicates()\n",
    "salary_std = train_data.groupby('playerID')[['playerID','salary_std']].apply(lambda i : i).drop_duplicates()\n",
    "\n",
    "test_data['salary_mean'] = test_data['playerID'].map(dict(salary_mean.values))\n",
    "test_data['salary_max'] = test_data['playerID'].map(dict(salary_max.values))\n",
    "test_data['salary_min'] = test_data['playerID'].map(dict(salary_min.values))\n",
    "test_data['salary_std'] = test_data['playerID'].map(dict(salary_std.values))\n",
    "\n",
    "salary_diff = train_data.groupby('playerID')[['playerID','salary_diff']].apply(lambda i : i).drop_duplicates()\n",
    "test_data['salary_diff'] = test_data['playerID'].map(dict(salary_diff.values))\n",
    "'''"
   ]
  },
  {
   "cell_type": "markdown",
   "metadata": {},
   "source": [
    "### 結合資料"
   ]
  },
  {
   "cell_type": "code",
   "execution_count": 101,
   "metadata": {},
   "outputs": [
    {
     "name": "stdout",
     "output_type": "stream",
     "text": [
      "全部數據集的維度 (7393, 31)\n"
     ]
    }
   ],
   "source": [
    "ntrain = train_data.shape[0] \n",
    "ntest = test_data.shape[0] #方便之後 訓練時資料切割\n",
    "target = train_data.salary_next_year.values\n",
    "\n",
    "all_data = pd.concat([train_data,test_data], ignore_index=True)\n",
    "\n",
    "print(\"全部數據集的維度\",all_data.shape)"
   ]
  },
  {
   "cell_type": "markdown",
   "metadata": {},
   "source": [
    "### 加入薪資特徵"
   ]
  },
  {
   "cell_type": "code",
   "execution_count": 102,
   "metadata": {
    "scrolled": true
   },
   "outputs": [
    {
     "name": "stdout",
     "output_type": "stream",
     "text": [
      "last_year_salary的缺失值 282\n",
      "salary_next_year的缺失值 721\n"
     ]
    }
   ],
   "source": [
    "all_data = all_data.sort_values(by = ['yearID'],ascending=False)\n",
    "\n",
    "all_data['last_year_salary'] = all_data.groupby('playerID')['salary_next_year'].apply(lambda i:i.shift(1).fillna(method='bfill'))\n",
    "#all_data['last_year_salary'] = all_data['last_year_salary'].fillna(method='ffill')\n",
    "\n",
    "# all_data[['last_year_salary','salary_next_year']].loc[all_data['playerID'] == 'tananfr01']\n",
    "\n",
    "all_data = all_data.sort_values(by = ['yearID'])\n",
    "\n",
    "all_data['salary_diff'] = all_data.groupby('playerID')['salary_next_year'].apply(lambda i:i.diff(1).fillna(method='bfill'))\n",
    "#all_data['salary_diff'] = all_data['salary_diff'].fillna(method='ffill')\n",
    "\n",
    "all_data = all_data.sort_index()\n",
    "\n",
    "all_data.drop(['salary_next_year'],axis = 1, inplace = True)\n",
    "\n",
    "print('last_year_salary的缺失值',all_data['last_year_salary'].isnull().sum())\n",
    "print('salary_next_year的缺失值',all_data['salary_diff'].isnull().sum()) "
   ]
  },
  {
   "cell_type": "markdown",
   "metadata": {},
   "source": [
    "\n",
    "> 之後用KNN 填補的方式"
   ]
  },
  {
   "cell_type": "markdown",
   "metadata": {},
   "source": [
    "### 將年份轉變為1985為1 以此後推"
   ]
  },
  {
   "cell_type": "code",
   "execution_count": 103,
   "metadata": {},
   "outputs": [],
   "source": [
    "all_data['player_age'] = all_data['yearID'] - 1984"
   ]
  },
  {
   "cell_type": "markdown",
   "metadata": {},
   "source": [
    "### 什麼樣的情況下, 球團更願意加薪水? - \n",
    "1. 判斷是否為當年的冠軍隊伍\n",
    "2. 誰是明星球員, 他們的分布如何\n",
    "3. 今年的表現決定明年的結果(加熱薪資特徵)"
   ]
  },
  {
   "cell_type": "code",
   "execution_count": 104,
   "metadata": {
    "scrolled": true
   },
   "outputs": [],
   "source": [
    "#train_data['teamID'].value_counts()\n",
    "#champion = pd.read_csv('champion.csv')\n",
    "#champion\n",
    "#all_data.loc[(all_data['yearID'] == 1985) & (all_data['teamID'] == 'KCA'),:]"
   ]
  },
  {
   "cell_type": "markdown",
   "metadata": {},
   "source": [
    "### 看一下資歷跟年薪的關係 並創建特徵"
   ]
  },
  {
   "cell_type": "code",
   "execution_count": 105,
   "metadata": {},
   "outputs": [],
   "source": [
    "all_data['Seniority'] = all_data.groupby('playerID')['yearID'].transform(lambda x: x - x.min()+1)"
   ]
  },
  {
   "cell_type": "code",
   "execution_count": 106,
   "metadata": {},
   "outputs": [],
   "source": [
    "train1 = all_data[:ntrain]\n",
    "train1['target'] = train_data['salary_next_year']"
   ]
  },
  {
   "cell_type": "code",
   "execution_count": 107,
   "metadata": {},
   "outputs": [
    {
     "data": {
      "text/plain": [
       "<matplotlib.axes._subplots.AxesSubplot at 0x19c16b1acf8>"
      ]
     },
     "execution_count": 107,
     "metadata": {},
     "output_type": "execute_result"
    },
    {
     "data": {
      "image/png": "[encoded data removed]",
      "text/plain": [
       "<Figure size 1152x576 with 1 Axes>"
      ]
     },
     "metadata": {},
     "output_type": "display_data"
    }
   ],
   "source": [
    "f, ax = plt.subplots(figsize=(16, 8)) #會發現年資整體是 隨年資成長, 但最後一年會大幅下降\n",
    "sns.lineplot(x='Seniority', y='target', data=train1,color = 'green') #可發現從1995年以後薪資是一路成長, 且可以用五年用一個單位"
   ]
  },
  {
   "cell_type": "markdown",
   "metadata": {},
   "source": [
    "1. 考慮到13-15為一桶\n",
    "2. 0-11 為一桶\n",
    "3. 11-13為一桶\n",
    "4. 15 - 17.5為一桶\n",
    "5. 17.5 - 25為一桶"
   ]
  },
  {
   "cell_type": "code",
   "execution_count": 108,
   "metadata": {
    "scrolled": true
   },
   "outputs": [
    {
     "data": {
      "text/plain": [
       " 4    5260\n",
       " 2    1672\n",
       " 1     420\n",
       "-1      36\n",
       " 3       5\n",
       "Name: Seniority, dtype: int64"
      ]
     },
     "execution_count": 108,
     "metadata": {},
     "output_type": "execute_result"
    }
   ],
   "source": [
    "bin=[0,6,11,16,17,20,24,26]\n",
    "all_data['Seniority'] = pd.cut(all_data['Seniority'],bin)\n",
    "\n",
    "all_data['Seniority'] =all_data['Seniority'].astype('str')\n",
    "\n",
    "all_data['Seniority'] = all_data['Seniority'].apply(lambda x : 4 if x  == '(0, 6]' else x)\n",
    "all_data['Seniority'] = all_data['Seniority'].apply(lambda x : 2 if x  == '(6, 11]' else x)\n",
    "all_data['Seniority'] = all_data['Seniority'].apply(lambda x : 1 if x  == '(11, 16]' else x)\n",
    "all_data['Seniority'] = all_data['Seniority'].apply(lambda x : -1 if x  == '(17, 20]' else x)\n",
    "all_data['Seniority'] = all_data['Seniority'].apply(lambda x : 2 if x  == '(16, 17]' else x)\n",
    "all_data['Seniority'] = all_data['Seniority'].apply(lambda x : 3 if x  == '(20, 24]' else x)\n",
    "all_data['Seniority'] = all_data['Seniority'].apply(lambda x : -1 if x  == '(24, 26]' else x)\n",
    "\n",
    "all_data['Seniority'].value_counts()"
   ]
  },
  {
   "cell_type": "markdown",
   "metadata": {},
   "source": [
    "# 還能做什麼特徵"
   ]
  },
  {
   "cell_type": "markdown",
   "metadata": {},
   "source": [
    "![](feature.png)"
   ]
  },
  {
   "cell_type": "markdown",
   "metadata": {},
   "source": [
    "### 建立是否為冠軍的資料 如果連勝累加"
   ]
  },
  {
   "cell_type": "code",
   "execution_count": 109,
   "metadata": {},
   "outputs": [],
   "source": [
    "champion = pd.read_csv('champion.csv')"
   ]
  },
  {
   "cell_type": "code",
   "execution_count": 110,
   "metadata": {},
   "outputs": [
    {
     "data": {
      "text/html": [
       "<div>\n",
       "<style scoped>\n",
       "    .dataframe tbody tr th:only-of-type {\n",
       "        vertical-align: middle;\n",
       "    }\n",
       "\n",
       "    .dataframe tbody tr th {\n",
       "        vertical-align: top;\n",
       "    }\n",
       "\n",
       "    .dataframe thead th {\n",
       "        text-align: right;\n",
       "    }\n",
       "</style>\n",
       "<table border=\"1\" class=\"dataframe\">\n",
       "  <thead>\n",
       "    <tr style=\"text-align: right;\">\n",
       "      <th></th>\n",
       "      <th>count</th>\n",
       "      <th>mean</th>\n",
       "      <th>std</th>\n",
       "      <th>min</th>\n",
       "      <th>25%</th>\n",
       "      <th>50%</th>\n",
       "      <th>75%</th>\n",
       "      <th>max</th>\n",
       "    </tr>\n",
       "    <tr>\n",
       "      <th>Champion</th>\n",
       "      <th></th>\n",
       "      <th></th>\n",
       "      <th></th>\n",
       "      <th></th>\n",
       "      <th></th>\n",
       "      <th></th>\n",
       "      <th></th>\n",
       "      <th></th>\n",
       "    </tr>\n",
       "  </thead>\n",
       "  <tbody>\n",
       "    <tr>\n",
       "      <th>1.000</th>\n",
       "      <td>6055.000</td>\n",
       "      <td>13.776</td>\n",
       "      <td>1.289</td>\n",
       "      <td>11.002</td>\n",
       "      <td>12.766</td>\n",
       "      <td>13.653</td>\n",
       "      <td>14.827</td>\n",
       "      <td>17.005</td>\n",
       "    </tr>\n",
       "    <tr>\n",
       "      <th>2.000</th>\n",
       "      <td>167.000</td>\n",
       "      <td>14.103</td>\n",
       "      <td>1.271</td>\n",
       "      <td>11.653</td>\n",
       "      <td>13.025</td>\n",
       "      <td>14.097</td>\n",
       "      <td>15.137</td>\n",
       "      <td>17.005</td>\n",
       "    </tr>\n",
       "    <tr>\n",
       "      <th>3.000</th>\n",
       "      <td>35.000</td>\n",
       "      <td>14.144</td>\n",
       "      <td>1.190</td>\n",
       "      <td>11.653</td>\n",
       "      <td>13.250</td>\n",
       "      <td>13.991</td>\n",
       "      <td>15.202</td>\n",
       "      <td>16.300</td>\n",
       "    </tr>\n",
       "    <tr>\n",
       "      <th>4.000</th>\n",
       "      <td>16.000</td>\n",
       "      <td>14.409</td>\n",
       "      <td>1.206</td>\n",
       "      <td>11.626</td>\n",
       "      <td>13.887</td>\n",
       "      <td>14.551</td>\n",
       "      <td>14.990</td>\n",
       "      <td>16.148</td>\n",
       "    </tr>\n",
       "    <tr>\n",
       "      <th>5.000</th>\n",
       "      <td>11.000</td>\n",
       "      <td>14.583</td>\n",
       "      <td>1.490</td>\n",
       "      <td>12.316</td>\n",
       "      <td>13.185</td>\n",
       "      <td>14.771</td>\n",
       "      <td>16.064</td>\n",
       "      <td>16.213</td>\n",
       "    </tr>\n",
       "  </tbody>\n",
       "</table>\n",
       "</div>"
      ],
      "text/plain": [
       "            count   mean   std    min    25%    50%    75%    max\n",
       "Champion                                                         \n",
       "1.000    6055.000 13.776 1.289 11.002 12.766 13.653 14.827 17.005\n",
       "2.000     167.000 14.103 1.271 11.653 13.025 14.097 15.137 17.005\n",
       "3.000      35.000 14.144 1.190 11.653 13.250 13.991 15.202 16.300\n",
       "4.000      16.000 14.409 1.206 11.626 13.887 14.551 14.990 16.148\n",
       "5.000      11.000 14.583 1.490 12.316 13.185 14.771 16.064 16.213"
      ]
     },
     "execution_count": 110,
     "metadata": {},
     "output_type": "execute_result"
    }
   ],
   "source": [
    "train_data = train_data.merge(champion, how='left', on=['teamID','yearID'])\n",
    "train_data['Champion'] = train_data['Champion'].fillna(0) + 1\n",
    "train_data.groupby('Champion')['salary_next_year'].describe()"
   ]
  },
  {
   "cell_type": "code",
   "execution_count": 111,
   "metadata": {},
   "outputs": [
    {
     "data": {
      "image/png": "[encoded data removed]",
      "text/plain": [
       "<Figure size 432x288 with 1 Axes>"
      ]
     },
     "metadata": {},
     "output_type": "display_data"
    }
   ],
   "source": [
    "fig, ax = plt.subplots()\n",
    "ax.scatter(x = train_data['Champion'], y = train_data['salary_next_year'])\n",
    "plt.ylabel('salary_next_year', fontsize = 13)\n",
    "plt.xlabel('Champion', fontsize = 13)\n",
    "plt.show()"
   ]
  },
  {
   "cell_type": "code",
   "execution_count": 112,
   "metadata": {},
   "outputs": [],
   "source": [
    "champion = pd.read_csv('champion.csv')\n",
    "all_data = all_data.merge(champion, how='left', on=['teamID','yearID'])\n",
    "all_data['Champion'] = all_data['Champion'].fillna(0) + 1"
   ]
  },
  {
   "cell_type": "markdown",
   "metadata": {},
   "source": [
    "### 計算轉隊次數"
   ]
  },
  {
   "cell_type": "code",
   "execution_count": 113,
   "metadata": {},
   "outputs": [
    {
     "data": {
      "text/html": [
       "<div>\n",
       "<style scoped>\n",
       "    .dataframe tbody tr th:only-of-type {\n",
       "        vertical-align: middle;\n",
       "    }\n",
       "\n",
       "    .dataframe tbody tr th {\n",
       "        vertical-align: top;\n",
       "    }\n",
       "\n",
       "    .dataframe thead th {\n",
       "        text-align: right;\n",
       "    }\n",
       "</style>\n",
       "<table border=\"1\" class=\"dataframe\">\n",
       "  <thead>\n",
       "    <tr style=\"text-align: right;\">\n",
       "      <th></th>\n",
       "      <th>playerID</th>\n",
       "      <th>yearID</th>\n",
       "      <th>stint</th>\n",
       "      <th>teamID</th>\n",
       "      <th>lgID</th>\n",
       "      <th>W</th>\n",
       "      <th>L</th>\n",
       "      <th>G</th>\n",
       "      <th>GS</th>\n",
       "      <th>CG</th>\n",
       "      <th>...</th>\n",
       "      <th>HBP</th>\n",
       "      <th>BK</th>\n",
       "      <th>BFP</th>\n",
       "      <th>GF</th>\n",
       "      <th>R</th>\n",
       "      <th>SH</th>\n",
       "      <th>SF</th>\n",
       "      <th>GIDP</th>\n",
       "      <th>salary_next_year</th>\n",
       "      <th>Champion</th>\n",
       "    </tr>\n",
       "  </thead>\n",
       "  <tbody>\n",
       "  </tbody>\n",
       "</table>\n",
       "<p>0 rows × 32 columns</p>\n",
       "</div>"
      ],
      "text/plain": [
       "Empty DataFrame\n",
       "Columns: [playerID, yearID, stint, teamID, lgID, W, L, G, GS, CG, SHO, SV, IPouts, H, ER, HR, BB, SO, BAOpp, ERA, IBB, WP, HBP, BK, BFP, GF, R, SH, SF, GIDP, salary_next_year, Champion]\n",
       "Index: []\n",
       "\n",
       "[0 rows x 32 columns]"
      ]
     },
     "execution_count": 113,
     "metadata": {},
     "output_type": "execute_result"
    }
   ],
   "source": [
    "train_data[train_data['salary_next_year'] == 24285714.000]"
   ]
  },
  {
   "cell_type": "code",
   "execution_count": 114,
   "metadata": {},
   "outputs": [
    {
     "data": {
      "text/html": [
       "<div>\n",
       "<style scoped>\n",
       "    .dataframe tbody tr th:only-of-type {\n",
       "        vertical-align: middle;\n",
       "    }\n",
       "\n",
       "    .dataframe tbody tr th {\n",
       "        vertical-align: top;\n",
       "    }\n",
       "\n",
       "    .dataframe thead th {\n",
       "        text-align: right;\n",
       "    }\n",
       "</style>\n",
       "<table border=\"1\" class=\"dataframe\">\n",
       "  <thead>\n",
       "    <tr style=\"text-align: right;\">\n",
       "      <th></th>\n",
       "      <th>count</th>\n",
       "      <th>mean</th>\n",
       "      <th>std</th>\n",
       "      <th>min</th>\n",
       "      <th>25%</th>\n",
       "      <th>50%</th>\n",
       "      <th>75%</th>\n",
       "      <th>max</th>\n",
       "    </tr>\n",
       "    <tr>\n",
       "      <th>teamID</th>\n",
       "      <th></th>\n",
       "      <th></th>\n",
       "      <th></th>\n",
       "      <th></th>\n",
       "      <th></th>\n",
       "      <th></th>\n",
       "      <th></th>\n",
       "      <th></th>\n",
       "    </tr>\n",
       "  </thead>\n",
       "  <tbody>\n",
       "    <tr>\n",
       "      <th>LAA</th>\n",
       "      <td>69.000</td>\n",
       "      <td>14.791</td>\n",
       "      <td>1.250</td>\n",
       "      <td>12.907</td>\n",
       "      <td>13.262</td>\n",
       "      <td>15.151</td>\n",
       "      <td>15.808</td>\n",
       "      <td>16.744</td>\n",
       "    </tr>\n",
       "    <tr>\n",
       "      <th>ARI</th>\n",
       "      <td>104.000</td>\n",
       "      <td>14.381</td>\n",
       "      <td>1.178</td>\n",
       "      <td>12.267</td>\n",
       "      <td>13.283</td>\n",
       "      <td>14.509</td>\n",
       "      <td>15.267</td>\n",
       "      <td>16.588</td>\n",
       "    </tr>\n",
       "    <tr>\n",
       "      <th>NYA</th>\n",
       "      <td>235.000</td>\n",
       "      <td>14.252</td>\n",
       "      <td>1.418</td>\n",
       "      <td>11.127</td>\n",
       "      <td>13.112</td>\n",
       "      <td>14.254</td>\n",
       "      <td>15.425</td>\n",
       "      <td>17.005</td>\n",
       "    </tr>\n",
       "    <tr>\n",
       "      <th>LAN</th>\n",
       "      <td>231.000</td>\n",
       "      <td>14.141</td>\n",
       "      <td>1.311</td>\n",
       "      <td>11.191</td>\n",
       "      <td>13.021</td>\n",
       "      <td>14.286</td>\n",
       "      <td>15.150</td>\n",
       "      <td>16.570</td>\n",
       "    </tr>\n",
       "    <tr>\n",
       "      <th>BOS</th>\n",
       "      <td>220.000</td>\n",
       "      <td>14.131</td>\n",
       "      <td>1.290</td>\n",
       "      <td>11.599</td>\n",
       "      <td>13.110</td>\n",
       "      <td>14.178</td>\n",
       "      <td>15.141</td>\n",
       "      <td>16.678</td>\n",
       "    </tr>\n",
       "    <tr>\n",
       "      <th>MIL</th>\n",
       "      <td>106.000</td>\n",
       "      <td>14.116</td>\n",
       "      <td>1.078</td>\n",
       "      <td>12.255</td>\n",
       "      <td>13.122</td>\n",
       "      <td>14.106</td>\n",
       "      <td>14.853</td>\n",
       "      <td>16.418</td>\n",
       "    </tr>\n",
       "    <tr>\n",
       "      <th>WAS</th>\n",
       "      <td>43.000</td>\n",
       "      <td>14.032</td>\n",
       "      <td>0.898</td>\n",
       "      <td>12.848</td>\n",
       "      <td>13.238</td>\n",
       "      <td>14.039</td>\n",
       "      <td>14.648</td>\n",
       "      <td>15.895</td>\n",
       "    </tr>\n",
       "    <tr>\n",
       "      <th>NYN</th>\n",
       "      <td>230.000</td>\n",
       "      <td>14.027</td>\n",
       "      <td>1.346</td>\n",
       "      <td>11.435</td>\n",
       "      <td>12.935</td>\n",
       "      <td>14.114</td>\n",
       "      <td>15.064</td>\n",
       "      <td>16.753</td>\n",
       "    </tr>\n",
       "    <tr>\n",
       "      <th>CHN</th>\n",
       "      <td>224.000</td>\n",
       "      <td>13.985</td>\n",
       "      <td>1.336</td>\n",
       "      <td>11.127</td>\n",
       "      <td>12.875</td>\n",
       "      <td>14.039</td>\n",
       "      <td>15.072</td>\n",
       "      <td>16.760</td>\n",
       "    </tr>\n",
       "    <tr>\n",
       "      <th>ATL</th>\n",
       "      <td>222.000</td>\n",
       "      <td>13.874</td>\n",
       "      <td>1.447</td>\n",
       "      <td>11.082</td>\n",
       "      <td>12.810</td>\n",
       "      <td>13.626</td>\n",
       "      <td>14.989</td>\n",
       "      <td>16.587</td>\n",
       "    </tr>\n",
       "    <tr>\n",
       "      <th>TEX</th>\n",
       "      <td>215.000</td>\n",
       "      <td>13.851</td>\n",
       "      <td>1.301</td>\n",
       "      <td>11.002</td>\n",
       "      <td>12.838</td>\n",
       "      <td>13.790</td>\n",
       "      <td>14.971</td>\n",
       "      <td>16.557</td>\n",
       "    </tr>\n",
       "    <tr>\n",
       "      <th>SFN</th>\n",
       "      <td>233.000</td>\n",
       "      <td>13.822</td>\n",
       "      <td>1.245</td>\n",
       "      <td>11.127</td>\n",
       "      <td>12.899</td>\n",
       "      <td>13.710</td>\n",
       "      <td>14.790</td>\n",
       "      <td>16.760</td>\n",
       "    </tr>\n",
       "    <tr>\n",
       "      <th>HOU</th>\n",
       "      <td>204.000</td>\n",
       "      <td>13.821</td>\n",
       "      <td>1.321</td>\n",
       "      <td>11.127</td>\n",
       "      <td>12.845</td>\n",
       "      <td>13.727</td>\n",
       "      <td>14.845</td>\n",
       "      <td>16.706</td>\n",
       "    </tr>\n",
       "    <tr>\n",
       "      <th>TOR</th>\n",
       "      <td>237.000</td>\n",
       "      <td>13.809</td>\n",
       "      <td>1.259</td>\n",
       "      <td>11.043</td>\n",
       "      <td>12.794</td>\n",
       "      <td>13.696</td>\n",
       "      <td>14.857</td>\n",
       "      <td>16.619</td>\n",
       "    </tr>\n",
       "    <tr>\n",
       "      <th>SEA</th>\n",
       "      <td>197.000</td>\n",
       "      <td>13.806</td>\n",
       "      <td>1.356</td>\n",
       "      <td>11.599</td>\n",
       "      <td>12.692</td>\n",
       "      <td>13.665</td>\n",
       "      <td>14.994</td>\n",
       "      <td>16.796</td>\n",
       "    </tr>\n",
       "    <tr>\n",
       "      <th>TBA</th>\n",
       "      <td>103.000</td>\n",
       "      <td>13.784</td>\n",
       "      <td>1.038</td>\n",
       "      <td>12.324</td>\n",
       "      <td>12.863</td>\n",
       "      <td>13.611</td>\n",
       "      <td>14.598</td>\n",
       "      <td>16.118</td>\n",
       "    </tr>\n",
       "    <tr>\n",
       "      <th>SLN</th>\n",
       "      <td>244.000</td>\n",
       "      <td>13.776</td>\n",
       "      <td>1.331</td>\n",
       "      <td>11.156</td>\n",
       "      <td>12.762</td>\n",
       "      <td>13.605</td>\n",
       "      <td>14.914</td>\n",
       "      <td>16.341</td>\n",
       "    </tr>\n",
       "    <tr>\n",
       "      <th>ANA</th>\n",
       "      <td>76.000</td>\n",
       "      <td>13.758</td>\n",
       "      <td>1.158</td>\n",
       "      <td>12.243</td>\n",
       "      <td>12.824</td>\n",
       "      <td>13.554</td>\n",
       "      <td>14.558</td>\n",
       "      <td>16.258</td>\n",
       "    </tr>\n",
       "    <tr>\n",
       "      <th>CHA</th>\n",
       "      <td>227.000</td>\n",
       "      <td>13.750</td>\n",
       "      <td>1.383</td>\n",
       "      <td>11.127</td>\n",
       "      <td>12.612</td>\n",
       "      <td>13.592</td>\n",
       "      <td>14.955</td>\n",
       "      <td>16.649</td>\n",
       "    </tr>\n",
       "    <tr>\n",
       "      <th>COL</th>\n",
       "      <td>172.000</td>\n",
       "      <td>13.749</td>\n",
       "      <td>1.228</td>\n",
       "      <td>11.599</td>\n",
       "      <td>12.723</td>\n",
       "      <td>13.576</td>\n",
       "      <td>14.732</td>\n",
       "      <td>16.427</td>\n",
       "    </tr>\n",
       "    <tr>\n",
       "      <th>CIN</th>\n",
       "      <td>209.000</td>\n",
       "      <td>13.739</td>\n",
       "      <td>1.195</td>\n",
       "      <td>11.225</td>\n",
       "      <td>12.848</td>\n",
       "      <td>13.653</td>\n",
       "      <td>14.701</td>\n",
       "      <td>16.455</td>\n",
       "    </tr>\n",
       "    <tr>\n",
       "      <th>BAL</th>\n",
       "      <td>201.000</td>\n",
       "      <td>13.718</td>\n",
       "      <td>1.182</td>\n",
       "      <td>11.350</td>\n",
       "      <td>12.766</td>\n",
       "      <td>13.670</td>\n",
       "      <td>14.827</td>\n",
       "      <td>16.118</td>\n",
       "    </tr>\n",
       "    <tr>\n",
       "      <th>MIN</th>\n",
       "      <td>217.000</td>\n",
       "      <td>13.716</td>\n",
       "      <td>1.286</td>\n",
       "      <td>11.462</td>\n",
       "      <td>12.612</td>\n",
       "      <td>13.605</td>\n",
       "      <td>14.771</td>\n",
       "      <td>16.648</td>\n",
       "    </tr>\n",
       "    <tr>\n",
       "      <th>SDN</th>\n",
       "      <td>224.000</td>\n",
       "      <td>13.698</td>\n",
       "      <td>1.231</td>\n",
       "      <td>11.156</td>\n",
       "      <td>12.766</td>\n",
       "      <td>13.592</td>\n",
       "      <td>14.732</td>\n",
       "      <td>16.524</td>\n",
       "    </tr>\n",
       "    <tr>\n",
       "      <th>DET</th>\n",
       "      <td>207.000</td>\n",
       "      <td>13.697</td>\n",
       "      <td>1.276</td>\n",
       "      <td>11.082</td>\n",
       "      <td>12.711</td>\n",
       "      <td>13.710</td>\n",
       "      <td>14.699</td>\n",
       "      <td>16.816</td>\n",
       "    </tr>\n",
       "    <tr>\n",
       "      <th>PHI</th>\n",
       "      <td>225.000</td>\n",
       "      <td>13.672</td>\n",
       "      <td>1.379</td>\n",
       "      <td>11.043</td>\n",
       "      <td>12.612</td>\n",
       "      <td>13.561</td>\n",
       "      <td>14.790</td>\n",
       "      <td>16.811</td>\n",
       "    </tr>\n",
       "    <tr>\n",
       "      <th>CLE</th>\n",
       "      <td>225.000</td>\n",
       "      <td>13.666</td>\n",
       "      <td>1.294</td>\n",
       "      <td>11.120</td>\n",
       "      <td>12.692</td>\n",
       "      <td>13.641</td>\n",
       "      <td>14.732</td>\n",
       "      <td>16.542</td>\n",
       "    </tr>\n",
       "    <tr>\n",
       "      <th>KCA</th>\n",
       "      <td>190.000</td>\n",
       "      <td>13.642</td>\n",
       "      <td>1.138</td>\n",
       "      <td>11.043</td>\n",
       "      <td>12.722</td>\n",
       "      <td>13.557</td>\n",
       "      <td>14.533</td>\n",
       "      <td>16.418</td>\n",
       "    </tr>\n",
       "    <tr>\n",
       "      <th>OAK</th>\n",
       "      <td>223.000</td>\n",
       "      <td>13.578</td>\n",
       "      <td>1.220</td>\n",
       "      <td>11.002</td>\n",
       "      <td>12.708</td>\n",
       "      <td>13.494</td>\n",
       "      <td>14.626</td>\n",
       "      <td>16.118</td>\n",
       "    </tr>\n",
       "    <tr>\n",
       "      <th>FLO</th>\n",
       "      <td>175.000</td>\n",
       "      <td>13.560</td>\n",
       "      <td>1.223</td>\n",
       "      <td>11.666</td>\n",
       "      <td>12.487</td>\n",
       "      <td>13.400</td>\n",
       "      <td>14.556</td>\n",
       "      <td>16.437</td>\n",
       "    </tr>\n",
       "    <tr>\n",
       "      <th>PIT</th>\n",
       "      <td>244.000</td>\n",
       "      <td>13.401</td>\n",
       "      <td>1.048</td>\n",
       "      <td>11.127</td>\n",
       "      <td>12.612</td>\n",
       "      <td>13.321</td>\n",
       "      <td>14.225</td>\n",
       "      <td>15.632</td>\n",
       "    </tr>\n",
       "    <tr>\n",
       "      <th>MON</th>\n",
       "      <td>164.000</td>\n",
       "      <td>13.296</td>\n",
       "      <td>1.097</td>\n",
       "      <td>11.424</td>\n",
       "      <td>12.383</td>\n",
       "      <td>13.122</td>\n",
       "      <td>14.104</td>\n",
       "      <td>16.013</td>\n",
       "    </tr>\n",
       "    <tr>\n",
       "      <th>CAL</th>\n",
       "      <td>98.000</td>\n",
       "      <td>13.104</td>\n",
       "      <td>1.101</td>\n",
       "      <td>11.258</td>\n",
       "      <td>12.073</td>\n",
       "      <td>13.081</td>\n",
       "      <td>13.744</td>\n",
       "      <td>15.497</td>\n",
       "    </tr>\n",
       "    <tr>\n",
       "      <th>ML4</th>\n",
       "      <td>90.000</td>\n",
       "      <td>12.968</td>\n",
       "      <td>1.108</td>\n",
       "      <td>11.043</td>\n",
       "      <td>11.998</td>\n",
       "      <td>12.972</td>\n",
       "      <td>13.789</td>\n",
       "      <td>15.425</td>\n",
       "    </tr>\n",
       "  </tbody>\n",
       "</table>\n",
       "</div>"
      ],
      "text/plain": [
       "         count   mean   std    min    25%    50%    75%    max\n",
       "teamID                                                        \n",
       "LAA     69.000 14.791 1.250 12.907 13.262 15.151 15.808 16.744\n",
       "ARI    104.000 14.381 1.178 12.267 13.283 14.509 15.267 16.588\n",
       "NYA    235.000 14.252 1.418 11.127 13.112 14.254 15.425 17.005\n",
       "LAN    231.000 14.141 1.311 11.191 13.021 14.286 15.150 16.570\n",
       "BOS    220.000 14.131 1.290 11.599 13.110 14.178 15.141 16.678\n",
       "MIL    106.000 14.116 1.078 12.255 13.122 14.106 14.853 16.418\n",
       "WAS     43.000 14.032 0.898 12.848 13.238 14.039 14.648 15.895\n",
       "NYN    230.000 14.027 1.346 11.435 12.935 14.114 15.064 16.753\n",
       "CHN    224.000 13.985 1.336 11.127 12.875 14.039 15.072 16.760\n",
       "ATL    222.000 13.874 1.447 11.082 12.810 13.626 14.989 16.587\n",
       "TEX    215.000 13.851 1.301 11.002 12.838 13.790 14.971 16.557\n",
       "SFN    233.000 13.822 1.245 11.127 12.899 13.710 14.790 16.760\n",
       "HOU    204.000 13.821 1.321 11.127 12.845 13.727 14.845 16.706\n",
       "TOR    237.000 13.809 1.259 11.043 12.794 13.696 14.857 16.619\n",
       "SEA    197.000 13.806 1.356 11.599 12.692 13.665 14.994 16.796\n",
       "TBA    103.000 13.784 1.038 12.324 12.863 13.611 14.598 16.118\n",
       "SLN    244.000 13.776 1.331 11.156 12.762 13.605 14.914 16.341\n",
       "ANA     76.000 13.758 1.158 12.243 12.824 13.554 14.558 16.258\n",
       "CHA    227.000 13.750 1.383 11.127 12.612 13.592 14.955 16.649\n",
       "COL    172.000 13.749 1.228 11.599 12.723 13.576 14.732 16.427\n",
       "CIN    209.000 13.739 1.195 11.225 12.848 13.653 14.701 16.455\n",
       "BAL    201.000 13.718 1.182 11.350 12.766 13.670 14.827 16.118\n",
       "MIN    217.000 13.716 1.286 11.462 12.612 13.605 14.771 16.648\n",
       "SDN    224.000 13.698 1.231 11.156 12.766 13.592 14.732 16.524\n",
       "DET    207.000 13.697 1.276 11.082 12.711 13.710 14.699 16.816\n",
       "PHI    225.000 13.672 1.379 11.043 12.612 13.561 14.790 16.811\n",
       "CLE    225.000 13.666 1.294 11.120 12.692 13.641 14.732 16.542\n",
       "KCA    190.000 13.642 1.138 11.043 12.722 13.557 14.533 16.418\n",
       "OAK    223.000 13.578 1.220 11.002 12.708 13.494 14.626 16.118\n",
       "FLO    175.000 13.560 1.223 11.666 12.487 13.400 14.556 16.437\n",
       "PIT    244.000 13.401 1.048 11.127 12.612 13.321 14.225 15.632\n",
       "MON    164.000 13.296 1.097 11.424 12.383 13.122 14.104 16.013\n",
       "CAL     98.000 13.104 1.101 11.258 12.073 13.081 13.744 15.497\n",
       "ML4     90.000 12.968 1.108 11.043 11.998 12.972 13.789 15.425"
      ]
     },
     "execution_count": 114,
     "metadata": {},
     "output_type": "execute_result"
    }
   ],
   "source": [
    "train_data.groupby('teamID')['salary_next_year'].describe().sort_values(by = 'mean',ascending = False)"
   ]
  },
  {
   "cell_type": "markdown",
   "metadata": {},
   "source": [
    "# 資料前處理\n",
    "\n",
    "1. 異常值處理\n",
    "2. 填補缺失值\n",
    "3. 資料轉換\n",
    "4. 特徵選擇\n",
    "5. 資料拆分"
   ]
  },
  {
   "cell_type": "markdown",
   "metadata": {},
   "source": [
    "### 1. 缺失值處理"
   ]
  },
  {
   "cell_type": "code",
   "execution_count": 115,
   "metadata": {
    "scrolled": true
   },
   "outputs": [
    {
     "data": {
      "text/plain": [
       "Text(0.5, 1.0, 'Percent missing data by feature')"
      ]
     },
     "execution_count": 115,
     "metadata": {},
     "output_type": "execute_result"
    },
    {
     "data": {
      "image/png": "[encoded data removed]",
      "text/plain": [
       "<Figure size 1080x864 with 1 Axes>"
      ]
     },
     "metadata": {},
     "output_type": "display_data"
    }
   ],
   "source": [
    "all_data_na = (all_data.isnull().sum()/len(all_data)) * 100\n",
    "all_data_na = all_data_na.drop(all_data_na[all_data_na == 0].index).sort_values(ascending = False)\n",
    "missing_data = pd.DataFrame({'Missing Ratio': all_data_na})\n",
    "\n",
    "f, ax = plt.subplots(figsize = (15,12))\n",
    "plt.xticks(rotation = '90',fontsize = 20)\n",
    "plt.yticks(fontsize = 20)\n",
    "sns.barplot(x = all_data_na.index, y = all_data_na)\n",
    "for a,b in enumerate(all_data_na):\n",
    "    plt.text(a, b, '%.4f' % b, ha='center', va= 'bottom',fontsize=20)\n",
    "plt.xlabel('Features', fontsize = 20)\n",
    "plt.ylabel('Percent of missing values', fontsize = 20)\n",
    "plt.title('Percent missing data by feature', fontsize = 20)"
   ]
  },
  {
   "cell_type": "code",
   "execution_count": 116,
   "metadata": {},
   "outputs": [],
   "source": [
    "#all_data.fillna(all_data['BAOpp'].mean(),inplace = True)"
   ]
  },
  {
   "cell_type": "markdown",
   "metadata": {},
   "source": [
    "### 用LinearRegression 填補缺失值 (不用~)"
   ]
  },
  {
   "cell_type": "code",
   "execution_count": 117,
   "metadata": {
    "scrolled": false
   },
   "outputs": [
    {
     "data": {
      "text/plain": [
       "\"from sklearn.linear_model import LinearRegression\\nlinreg = LinearRegression()\\ndata = all_data[['ERA','yearID','G','SO','GF','BB','SV','BAOpp']]\\n#Step-1: Split the dataset that contains the missing values and no missing values are test and train respectively.\\nx_train = data[data['BAOpp'].notnull()].drop(columns='BAOpp')\\ny_train = data[data['BAOpp'].notnull()]['BAOpp']\\nx_test = data[data['BAOpp'].isnull()].drop(columns='BAOpp')\\ny_test = data[data['BAOpp'].isnull()]['BAOpp']\\n#Step-2: Train the machine learning algorithm\\nlinreg.fit(x_train, y_train)\\n#Step-3: Predict the missing values in the attribute of the test data.\\npredicted = linreg.predict(x_test)\\n#Step-4: Let’s obtain the complete dataset by combining with the target attribute.\\nall_data.BAOpp[all_data.BAOpp.isnull()] = predicted\\n\""
      ]
     },
     "execution_count": 117,
     "metadata": {},
     "output_type": "execute_result"
    }
   ],
   "source": [
    "'''from sklearn.linear_model import LinearRegression\n",
    "linreg = LinearRegression()\n",
    "data = all_data[['ERA','yearID','G','SO','GF','BB','SV','BAOpp']]\n",
    "#Step-1: Split the dataset that contains the missing values and no missing values are test and train respectively.\n",
    "x_train = data[data['BAOpp'].notnull()].drop(columns='BAOpp')\n",
    "y_train = data[data['BAOpp'].notnull()]['BAOpp']\n",
    "x_test = data[data['BAOpp'].isnull()].drop(columns='BAOpp')\n",
    "y_test = data[data['BAOpp'].isnull()]['BAOpp']\n",
    "#Step-2: Train the machine learning algorithm\n",
    "linreg.fit(x_train, y_train)\n",
    "#Step-3: Predict the missing values in the attribute of the test data.\n",
    "predicted = linreg.predict(x_test)\n",
    "#Step-4: Let’s obtain the complete dataset by combining with the target attribute.\n",
    "all_data.BAOpp[all_data.BAOpp.isnull()] = predicted\n",
    "'''"
   ]
  },
  {
   "cell_type": "code",
   "execution_count": 118,
   "metadata": {},
   "outputs": [
    {
     "data": {
      "image/png": "[encoded data removed]",
      "text/plain": [
       "<Figure size 288x432 with 2 Axes>"
      ]
     },
     "metadata": {},
     "output_type": "display_data"
    }
   ],
   "source": [
    "corr_to_target(train_data[~train_data['BAOpp'].isnull()].drop(['SH','SF','GIDP'],axis = 1), 'BAOpp') #可以看到薪資跟年代高度相關，以前的薪水跟現在的薪水不一樣"
   ]
  },
  {
   "cell_type": "code",
   "execution_count": 119,
   "metadata": {},
   "outputs": [
    {
     "name": "stdout",
     "output_type": "stream",
     "text": [
      "<class 'pandas.core.frame.DataFrame'>\n",
      "Int64Index: 7393 entries, 0 to 7392\n",
      "Data columns (total 32 columns):\n",
      "BAOpp               7393 non-null float64\n",
      "BB                  7393 non-null int64\n",
      "BFP                 7393 non-null float64\n",
      "BK                  7393 non-null float64\n",
      "CG                  7393 non-null int64\n",
      "ER                  7393 non-null int64\n",
      "ERA                 7393 non-null float64\n",
      "G                   7393 non-null int64\n",
      "GF                  7393 non-null float64\n",
      "GS                  7393 non-null int64\n",
      "H                   7393 non-null int64\n",
      "HBP                 7393 non-null float64\n",
      "HR                  7393 non-null int64\n",
      "IBB                 7393 non-null float64\n",
      "IPouts              7393 non-null int64\n",
      "L                   7393 non-null int64\n",
      "R                   7393 non-null int64\n",
      "SHO                 7393 non-null int64\n",
      "SO                  7393 non-null int64\n",
      "SV                  7393 non-null int64\n",
      "W                   7393 non-null int64\n",
      "WP                  7393 non-null float64\n",
      "lgID                7393 non-null object\n",
      "playerID            7393 non-null object\n",
      "stint               7393 non-null int64\n",
      "teamID              7393 non-null object\n",
      "yearID              7393 non-null int64\n",
      "last_year_salary    7111 non-null float64\n",
      "salary_diff         6672 non-null float64\n",
      "player_age          7393 non-null int64\n",
      "Seniority           7393 non-null int64\n",
      "Champion            7393 non-null float64\n",
      "dtypes: float64(11), int64(18), object(3)\n",
      "memory usage: 1.9+ MB\n"
     ]
    }
   ],
   "source": [
    "all_data['BAOpp'] = all_data['BAOpp'].fillna(0)\n",
    "all_data.drop(['SH','SF','GIDP'], axis = 1, inplace = True) #刪除掉完全沒有值的資料欄位\n",
    "all_data['WP'].fillna(value=all_data['WP'].mean(), inplace=True)\n",
    "all_data['IBB'].fillna(value=all_data['IBB'].mean(), inplace=True)\n",
    "all_data['HBP'].fillna(value=all_data['HBP'].mean(), inplace=True)\n",
    "all_data['BK'].fillna(value=all_data['BK'].mean(), inplace=True)  \n",
    "\n",
    "all_data.info()"
   ]
  },
  {
   "cell_type": "markdown",
   "metadata": {},
   "source": [
    "###  2. Feature Creation"
   ]
  },
  {
   "cell_type": "markdown",
   "metadata": {},
   "source": [
    "* W:勝場次\n",
    "* L:敗場次\n",
    "* G:出場次數\n",
    "* GS:球員是先發投手的次數\n",
    "* CG:投手獨力投完全場的比賽次數\n",
    "* SHO:投完整場比賽，且沒有失去任何分數的次數\n",
    "* SV:救援成功次數(投手沒有搞砸球隊優勢)\n",
    "* IPouts:投球局數*3\n",
    "* H:被安打數\n",
    "* ER:自責分\n",
    "* HR:被全壘打數\n",
    "* BB:四壞保送次數\n",
    "* SO:三振次數\n",
    "* BAOpp:對手平均打擊率\n",
    "* ERA:防禦率\n",
    "* IBB:四壞球次數\n",
    "* WB:暴投次數\n",
    "* HBP:觸身球次數\n",
    "* BK:投手犯規次數\n",
    "* BFP:單一投手面臨多少打者\n",
    "* GF:完成比賽之次數(記於最後一任投手上)\n",
    "* R:打擊分數總計"
   ]
  },
  {
   "cell_type": "markdown",
   "metadata": {},
   "source": [
    "### 投手指標\n",
    "#### 建立WHIP指標  參考資料 https://www.sportsv.net/articles/10241\n",
    "\n",
    "> 算法是保送(BB)+安打(H)/局數(IP)"
   ]
  },
  {
   "cell_type": "code",
   "execution_count": 120,
   "metadata": {},
   "outputs": [],
   "source": [
    "all_data['WHIP'] = (all_data.BB + all_data.H)/ (all_data.IPouts/3)"
   ]
  },
  {
   "cell_type": "markdown",
   "metadata": {},
   "source": [
    "#### 建立FIP指標\n",
    ">FIP = 3 + (3*(BB + HBP) + 13*HR - 2*K) / IP"
   ]
  },
  {
   "cell_type": "code",
   "execution_count": 121,
   "metadata": {},
   "outputs": [],
   "source": [
    "all_data['FIP'] = 3.2 + (3*(all_data.BB + all_data.HBP) + all_data.HR * 13 - 2 * all_data.BB)/(all_data.IPouts/3)"
   ]
  },
  {
   "cell_type": "markdown",
   "metadata": {},
   "source": [
    "#### 建立SO_9指標\n",
    "> 公式很簡單：SO/IP×9，這個定義是「投手每投九局能取得多少三振」。"
   ]
  },
  {
   "cell_type": "code",
   "execution_count": 122,
   "metadata": {},
   "outputs": [],
   "source": [
    "all_data['SO_9'] = all_data.SO / (all_data.IPouts*3)"
   ]
  },
  {
   "cell_type": "markdown",
   "metadata": {},
   "source": [
    "#### 建立BB_9指標\n",
    "> 算法為：(BB+HBP)/IP×9"
   ]
  },
  {
   "cell_type": "code",
   "execution_count": 123,
   "metadata": {},
   "outputs": [],
   "source": [
    "all_data['BB_9'] = (all_data.BB + all_data.HBP) /  (all_data.IPouts*3)"
   ]
  },
  {
   "cell_type": "markdown",
   "metadata": {},
   "source": [
    "#### 建立H9指標"
   ]
  },
  {
   "cell_type": "code",
   "execution_count": 124,
   "metadata": {},
   "outputs": [],
   "source": [
    "all_data['H9'] = all_data.H / (all_data.IPouts*3)"
   ]
  },
  {
   "cell_type": "markdown",
   "metadata": {},
   "source": [
    "#### 建立HR9 指標"
   ]
  },
  {
   "cell_type": "code",
   "execution_count": 125,
   "metadata": {},
   "outputs": [],
   "source": [
    "all_data['HR9'] = all_data.HR / (all_data.IPouts*3)"
   ]
  },
  {
   "cell_type": "markdown",
   "metadata": {},
   "source": [
    "#### 建立BB9v2 指標"
   ]
  },
  {
   "cell_type": "code",
   "execution_count": 126,
   "metadata": {},
   "outputs": [],
   "source": [
    "all_data['BB_9_v2'] = all_data.BB / (all_data.IPouts*3)"
   ]
  },
  {
   "cell_type": "markdown",
   "metadata": {},
   "source": [
    "#### 建立SO/W指標"
   ]
  },
  {
   "cell_type": "code",
   "execution_count": 127,
   "metadata": {},
   "outputs": [],
   "source": [
    "all_data['SO_W'] = all_data.SO / (all_data.W + 1)"
   ]
  },
  {
   "cell_type": "markdown",
   "metadata": {},
   "source": [
    "#### 建立(W-L) % 指標"
   ]
  },
  {
   "cell_type": "code",
   "execution_count": 128,
   "metadata": {},
   "outputs": [],
   "source": [
    "all_data['W_L'] = (all_data.W - all_data.L)/(all_data.W + all_data.L)"
   ]
  },
  {
   "cell_type": "markdown",
   "metadata": {},
   "source": [
    "#### 建立FIP-ERA指標"
   ]
  },
  {
   "cell_type": "code",
   "execution_count": 129,
   "metadata": {},
   "outputs": [],
   "source": [
    "all_data['FIP-ERA'] = all_data.FIP - all_data.ERA"
   ]
  },
  {
   "cell_type": "markdown",
   "metadata": {},
   "source": [
    "#### 建立RA9 指標"
   ]
  },
  {
   "cell_type": "code",
   "execution_count": 130,
   "metadata": {},
   "outputs": [],
   "source": [
    "all_data['RA9'] = all_data.R / (all_data.IPouts*3)"
   ]
  },
  {
   "cell_type": "markdown",
   "metadata": {},
   "source": [
    "### 將前一年的表現減去後一年的表現"
   ]
  },
  {
   "cell_type": "code",
   "execution_count": 131,
   "metadata": {},
   "outputs": [],
   "source": [
    "column = ['W', 'L', 'G', 'GS','CG', 'SHO', 'SV', 'IPouts', 'H', 'ER', 'HR', 'BB', 'SO', 'BAOpp',\n",
    "       'ERA', 'IBB', 'WP', 'HBP', 'BK', 'BFP', 'GF', 'R','WHIP', 'FIP', 'SO_9',\n",
    "       'BB_9','H9','HR9','BB_9_v2','SO_W','W_L','FIP-ERA','RA9']"
   ]
  },
  {
   "cell_type": "code",
   "execution_count": 132,
   "metadata": {
    "scrolled": true
   },
   "outputs": [],
   "source": [
    "all_data = all_data.sort_values(by = 'yearID')\n",
    "\n",
    "for x in column:\n",
    "    all_data[x + '_diff_last_year'] = all_data.groupby('playerID')[x].apply(lambda i:i.diff(1).fillna(method='bfill'))\n",
    "    \n",
    "\n",
    "all_data = all_data.sort_index()"
   ]
  },
  {
   "cell_type": "code",
   "execution_count": 133,
   "metadata": {
    "scrolled": true
   },
   "outputs": [
    {
     "name": "stdout",
     "output_type": "stream",
     "text": [
      "<class 'pandas.core.frame.DataFrame'>\n",
      "Int64Index: 7393 entries, 0 to 7392\n",
      "Data columns (total 76 columns):\n",
      "BAOpp                     7393 non-null float64\n",
      "BB                        7393 non-null int64\n",
      "BFP                       7393 non-null float64\n",
      "BK                        7393 non-null float64\n",
      "CG                        7393 non-null int64\n",
      "ER                        7393 non-null int64\n",
      "ERA                       7393 non-null float64\n",
      "G                         7393 non-null int64\n",
      "GF                        7393 non-null float64\n",
      "GS                        7393 non-null int64\n",
      "H                         7393 non-null int64\n",
      "HBP                       7393 non-null float64\n",
      "HR                        7393 non-null int64\n",
      "IBB                       7393 non-null float64\n",
      "IPouts                    7393 non-null int64\n",
      "L                         7393 non-null int64\n",
      "R                         7393 non-null int64\n",
      "SHO                       7393 non-null int64\n",
      "SO                        7393 non-null int64\n",
      "SV                        7393 non-null int64\n",
      "W                         7393 non-null int64\n",
      "WP                        7393 non-null float64\n",
      "lgID                      7393 non-null object\n",
      "playerID                  7393 non-null object\n",
      "stint                     7393 non-null int64\n",
      "teamID                    7393 non-null object\n",
      "yearID                    7393 non-null int64\n",
      "last_year_salary          7111 non-null float64\n",
      "salary_diff               6672 non-null float64\n",
      "player_age                7393 non-null int64\n",
      "Seniority                 7393 non-null int64\n",
      "Champion                  7393 non-null float64\n",
      "WHIP                      7393 non-null float64\n",
      "FIP                       7393 non-null float64\n",
      "SO_9                      7393 non-null float64\n",
      "BB_9                      7393 non-null float64\n",
      "H9                        7393 non-null float64\n",
      "HR9                       7393 non-null float64\n",
      "BB_9_v2                   7393 non-null float64\n",
      "SO_W                      7393 non-null float64\n",
      "W_L                       7140 non-null float64\n",
      "FIP-ERA                   7393 non-null float64\n",
      "RA9                       7393 non-null float64\n",
      "W_diff_last_year          7393 non-null float64\n",
      "L_diff_last_year          7393 non-null float64\n",
      "G_diff_last_year          7393 non-null float64\n",
      "GS_diff_last_year         7393 non-null float64\n",
      "CG_diff_last_year         7393 non-null float64\n",
      "SHO_diff_last_year        7393 non-null float64\n",
      "SV_diff_last_year         7393 non-null float64\n",
      "IPouts_diff_last_year     7393 non-null float64\n",
      "H_diff_last_year          7393 non-null float64\n",
      "ER_diff_last_year         7393 non-null float64\n",
      "HR_diff_last_year         7393 non-null float64\n",
      "BB_diff_last_year         7393 non-null float64\n",
      "SO_diff_last_year         7393 non-null float64\n",
      "BAOpp_diff_last_year      7393 non-null float64\n",
      "ERA_diff_last_year        7393 non-null float64\n",
      "IBB_diff_last_year        7393 non-null float64\n",
      "WP_diff_last_year         7393 non-null float64\n",
      "HBP_diff_last_year        7393 non-null float64\n",
      "BK_diff_last_year         7393 non-null float64\n",
      "BFP_diff_last_year        7393 non-null float64\n",
      "GF_diff_last_year         7393 non-null float64\n",
      "R_diff_last_year          7393 non-null float64\n",
      "WHIP_diff_last_year       7393 non-null float64\n",
      "FIP_diff_last_year        7393 non-null float64\n",
      "SO_9_diff_last_year       7393 non-null float64\n",
      "BB_9_diff_last_year       7393 non-null float64\n",
      "H9_diff_last_year         7393 non-null float64\n",
      "HR9_diff_last_year        7393 non-null float64\n",
      "BB_9_v2_diff_last_year    7393 non-null float64\n",
      "SO_W_diff_last_year       7393 non-null float64\n",
      "W_L_diff_last_year        7202 non-null float64\n",
      "FIP-ERA_diff_last_year    7393 non-null float64\n",
      "RA9_diff_last_year        7393 non-null float64\n",
      "dtypes: float64(55), int64(18), object(3)\n",
      "memory usage: 4.3+ MB\n"
     ]
    }
   ],
   "source": [
    "all_data.info()"
   ]
  },
  {
   "cell_type": "markdown",
   "metadata": {},
   "source": [
    "### 3. 不符合正態，將其做log轉換"
   ]
  },
  {
   "cell_type": "code",
   "execution_count": 134,
   "metadata": {},
   "outputs": [],
   "source": [
    "col2 = ['W', 'L', 'G', 'GS','CG', 'SHO', 'SV', 'IPouts', 'H', 'ER', 'HR', 'BB', 'SO', 'BAOpp',\n",
    "       'ERA', 'IBB', 'WP', 'HBP', 'BK', 'BFP', 'GF', 'R','Seniority', 'WHIP', 'FIP', 'SO_9',\n",
    "       'BB_9','H9','HR9','BB_9_v2','SO_W','W_L','FIP-ERA','RA9','last_year_salary']"
   ]
  },
  {
   "cell_type": "code",
   "execution_count": 135,
   "metadata": {},
   "outputs": [
    {
     "name": "stdout",
     "output_type": "stream",
     "text": [
      "\n",
      " Skew in numerical features: \n",
      "\n"
     ]
    },
    {
     "data": {
      "text/html": [
       "<div>\n",
       "<style scoped>\n",
       "    .dataframe tbody tr th:only-of-type {\n",
       "        vertical-align: middle;\n",
       "    }\n",
       "\n",
       "    .dataframe tbody tr th {\n",
       "        vertical-align: top;\n",
       "    }\n",
       "\n",
       "    .dataframe thead th {\n",
       "        text-align: right;\n",
       "    }\n",
       "</style>\n",
       "<table border=\"1\" class=\"dataframe\">\n",
       "  <thead>\n",
       "    <tr style=\"text-align: right;\">\n",
       "      <th></th>\n",
       "      <th>Skew</th>\n",
       "    </tr>\n",
       "  </thead>\n",
       "  <tbody>\n",
       "    <tr>\n",
       "      <th>ERA</th>\n",
       "      <td>14.679</td>\n",
       "    </tr>\n",
       "    <tr>\n",
       "      <th>BB_9_v2</th>\n",
       "      <td>13.932</td>\n",
       "    </tr>\n",
       "    <tr>\n",
       "      <th>RA9</th>\n",
       "      <td>13.359</td>\n",
       "    </tr>\n",
       "    <tr>\n",
       "      <th>BB_9</th>\n",
       "      <td>12.383</td>\n",
       "    </tr>\n",
       "    <tr>\n",
       "      <th>WHIP</th>\n",
       "      <td>10.957</td>\n",
       "    </tr>\n",
       "  </tbody>\n",
       "</table>\n",
       "</div>"
      ],
      "text/plain": [
       "          Skew\n",
       "ERA     14.679\n",
       "BB_9_v2 13.932\n",
       "RA9     13.359\n",
       "BB_9    12.383\n",
       "WHIP    10.957"
      ]
     },
     "execution_count": 135,
     "metadata": {},
     "output_type": "execute_result"
    }
   ],
   "source": [
    "log_data = all_data[col2]\n",
    "numeric_feats = log_data.dtypes[log_data.dtypes != 'object'].index\n",
    "\n",
    "#對所有數執行特徵進行skew計算偏度\n",
    "skewed_feats = log_data[numeric_feats].apply(lambda x: skew(x.dropna())).sort_values(ascending = False)\n",
    "print('\\n Skew in numerical features: \\n')\n",
    "skewness = pd.DataFrame({'Skew': skewed_feats})\n",
    "skewness.head()"
   ]
  },
  {
   "cell_type": "code",
   "execution_count": 136,
   "metadata": {},
   "outputs": [
    {
     "name": "stdout",
     "output_type": "stream",
     "text": [
      "總共有35數值型的特徵做轉換\n"
     ]
    }
   ],
   "source": [
    "skewness = skewness[abs(skewness)>0.75]\n",
    "print('總共有{}數值型的特徵做轉換'.format(skewness.shape[0]))\n",
    "\n",
    "from scipy.special import boxcox1p\n",
    "skewed_features = skewness.index\n",
    "lam = 0.15\n",
    "for feat in skewed_features:\n",
    "    all_data[feat] = boxcox1p(all_data[feat],lam)"
   ]
  },
  {
   "cell_type": "markdown",
   "metadata": {},
   "source": [
    "### 4. one-hotencoding "
   ]
  },
  {
   "cell_type": "markdown",
   "metadata": {},
   "source": [
    "#### 年份對下年薪資高度相關，因此對年份進行分桶"
   ]
  },
  {
   "cell_type": "code",
   "execution_count": 137,
   "metadata": {
    "scrolled": true
   },
   "outputs": [],
   "source": [
    "bin=[1984,1990,1995,2000,2005,2010,2013]\n",
    "all_data['yearID'] = pd.cut(all_data['yearID'],bin)"
   ]
  },
  {
   "cell_type": "code",
   "execution_count": 138,
   "metadata": {},
   "outputs": [],
   "source": [
    "from sklearn.preprocessing import LabelEncoder\n",
    "lbl = LabelEncoder()\n",
    "lbl.fit(list(all_data['yearID'].values))\n",
    "all_data['yearID'] = lbl.transform(list(all_data['yearID'].values))"
   ]
  },
  {
   "cell_type": "markdown",
   "metadata": {},
   "source": [
    "#### 對teamID做one-hotencoding"
   ]
  },
  {
   "cell_type": "code",
   "execution_count": 139,
   "metadata": {
    "scrolled": true
   },
   "outputs": [],
   "source": [
    "teamID = pd.get_dummies(all_data['teamID'],prefix= 'team_')#做one-hotecoding\n",
    "all_data = pd.concat([all_data,teamID],axis=1, join_axes=[all_data.index])\n",
    "all_data.drop(['teamID'],axis = 1,inplace = True)"
   ]
  },
  {
   "cell_type": "markdown",
   "metadata": {},
   "source": [
    "#### 對lgID做one-hotencoding"
   ]
  },
  {
   "cell_type": "code",
   "execution_count": 140,
   "metadata": {},
   "outputs": [
    {
     "data": {
      "text/plain": [
       "NL    3822\n",
       "AL    3571\n",
       "Name: lgID, dtype: int64"
      ]
     },
     "execution_count": 140,
     "metadata": {},
     "output_type": "execute_result"
    }
   ],
   "source": [
    "all_data['lgID'].value_counts() #分布平均"
   ]
  },
  {
   "cell_type": "code",
   "execution_count": 141,
   "metadata": {},
   "outputs": [],
   "source": [
    "lgID = pd.get_dummies(all_data['lgID'],prefix= 'lgID_')#做one-hotecoding\n",
    "all_data = pd.concat([all_data,lgID],axis=1, join_axes=[all_data.index])\n",
    "all_data.drop(['lgID'],axis = 1,inplace = True)"
   ]
  },
  {
   "cell_type": "markdown",
   "metadata": {},
   "source": [
    "### 5. 獲得新的訓練與測試集。至此，特徵工程處理完畢。"
   ]
  },
  {
   "cell_type": "code",
   "execution_count": 142,
   "metadata": {},
   "outputs": [],
   "source": [
    "all_data.drop(['playerID', 'stint'],axis = 1,inplace = True) #暫時先刪除 太稀疏的特徵"
   ]
  },
  {
   "cell_type": "code",
   "execution_count": 143,
   "metadata": {
    "scrolled": false
   },
   "outputs": [
    {
     "data": {
      "text/plain": [
       "Index(['BAOpp', 'BB', 'BFP', 'BK', 'CG', 'ER', 'ERA', 'G', 'GF', 'GS',\n",
       "       ...\n",
       "       'team__SDN', 'team__SEA', 'team__SFN', 'team__SLN', 'team__TBA',\n",
       "       'team__TEX', 'team__TOR', 'team__WAS', 'lgID__AL', 'lgID__NL'],\n",
       "      dtype='object', length=108)"
      ]
     },
     "execution_count": 143,
     "metadata": {},
     "output_type": "execute_result"
    }
   ],
   "source": [
    "all_data.columns"
   ]
  },
  {
   "cell_type": "markdown",
   "metadata": {},
   "source": [
    "# 模型訓練"
   ]
  },
  {
   "cell_type": "code",
   "execution_count": 144,
   "metadata": {},
   "outputs": [],
   "source": [
    "from sklearn.linear_model import ElasticNet, Lasso, BayesianRidge, LassoLarsIC\n",
    "from sklearn.ensemble import RandomForestRegressor, GradientBoostingRegressor\n",
    "from sklearn.kernel_ridge import KernelRidge\n",
    "from sklearn.pipeline import make_pipeline\n",
    "from sklearn.preprocessing import RobustScaler,StandardScaler\n",
    "from sklearn.base import BaseEstimator, TransformerMixin, RegressorMixin, clone\n",
    "from sklearn.model_selection import KFold, cross_val_score, train_test_split\n",
    "from sklearn.metrics import mean_absolute_error\n",
    "import xgboost as xgb\n",
    "import lightgbm as lgb"
   ]
  },
  {
   "cell_type": "code",
   "execution_count": 145,
   "metadata": {},
   "outputs": [],
   "source": [
    "train = all_data[:ntrain]\n",
    "test = all_data[ntrain:]"
   ]
  },
  {
   "cell_type": "markdown",
   "metadata": {},
   "source": [
    "## RandomForest剩餘特徵用缺失值填補"
   ]
  },
  {
   "cell_type": "code",
   "execution_count": 146,
   "metadata": {},
   "outputs": [
    {
     "name": "stdout",
     "output_type": "stream",
     "text": [
      "Iteration: 0\n",
      "Iteration: 1\n",
      "Iteration: 2\n",
      "Iteration: 0\n",
      "Iteration: 1\n",
      "Iteration: 2\n",
      "Iteration: 3\n"
     ]
    }
   ],
   "source": [
    "# Let X be an array containing missing values\n",
    "from missingpy import MissForest\n",
    "imputer = MissForest()\n",
    "train = imputer.fit_transform(train.values)\n",
    "test = imputer.fit_transform(test.values)"
   ]
  },
  {
   "cell_type": "code",
   "execution_count": 141,
   "metadata": {},
   "outputs": [],
   "source": [
    "#交叉驗證數\n",
    "n_folds = 5\n",
    "\n",
    "def mae_cv(model):\n",
    "    kf = KFold(n_folds, shuffle=True, random_state=42).get_n_splits(train)\n",
    "    mae= -cross_val_score(model, train, target, scoring=\"neg_mean_absolute_error\"\n",
    "                                   , cv = kf)\n",
    "    return(mae)\n",
    "\n",
    "# def rmse(y, y_pred):\n",
    "#     return np.sqrt(mean_squared_error(np.log(y), y_pred)))"
   ]
  },
  {
   "cell_type": "markdown",
   "metadata": {},
   "source": [
    "# 模型評估"
   ]
  },
  {
   "cell_type": "markdown",
   "metadata": {},
   "source": [
    "1. LASSO Regression: *該模型對異常值很敏感，所以我們在pipeline上使用sklearn的Robustscaler()方法"
   ]
  },
  {
   "cell_type": "code",
   "execution_count": 142,
   "metadata": {},
   "outputs": [],
   "source": [
    "lasso = make_pipeline(RobustScaler(), Lasso(alpha = 0.0005, random_state = 1))"
   ]
  },
  {
   "cell_type": "markdown",
   "metadata": {},
   "source": [
    "2. Elastic Net Regression: 同樣讓他對異常值具有更好的魯棒性"
   ]
  },
  {
   "cell_type": "code",
   "execution_count": 143,
   "metadata": {},
   "outputs": [],
   "source": [
    "ENet = make_pipeline(RobustScaler(), ElasticNet(alpha = 0.0005, l1_ratio = .9, random_state = 3))"
   ]
  },
  {
   "cell_type": "markdown",
   "metadata": {},
   "source": [
    "3. Kernel Ridge Regression:"
   ]
  },
  {
   "cell_type": "code",
   "execution_count": 144,
   "metadata": {},
   "outputs": [],
   "source": [
    "KRR = KernelRidge(alpha = 0.6, kernel = 'polynomial', degree = 2, coef0 = 2.5)"
   ]
  },
  {
   "cell_type": "markdown",
   "metadata": {},
   "source": [
    "4. Gradient Boosting Regression:\n",
    "    * 由於Huber loss使得他對於異常值具有魯棒性"
   ]
  },
  {
   "cell_type": "code",
   "execution_count": 145,
   "metadata": {},
   "outputs": [],
   "source": [
    "GBoost = GradientBoostingRegressor(n_estimators=3000, learning_rate=0.05,\n",
    "                                   max_depth=4, max_features='sqrt',\n",
    "                                   min_samples_leaf=15, min_samples_split=10, \n",
    "                                   loss='huber', random_state =5)"
   ]
  },
  {
   "cell_type": "markdown",
   "metadata": {},
   "source": [
    "5. XGBoost: (已調整參數)"
   ]
  },
  {
   "cell_type": "code",
   "execution_count": 146,
   "metadata": {},
   "outputs": [],
   "source": [
    "model_xgb = xgb.XGBRegressor(\n",
    " learning_rate =0.1,\n",
    " n_estimators=150,\n",
    " max_depth=7,\n",
    " min_child_weight=5,\n",
    " gamma=0.1,\n",
    " subsample=0.8,\n",
    " colsample_bytree=0.8,\n",
    " nthread=4,\n",
    " scale_pos_weight=1,\n",
    " seed=27)"
   ]
  },
  {
   "cell_type": "markdown",
   "metadata": {},
   "source": [
    "6. LightGBM: (已調整參數)"
   ]
  },
  {
   "cell_type": "code",
   "execution_count": 147,
   "metadata": {},
   "outputs": [],
   "source": [
    "model_lgb = lgb.LGBMRegressor(objective='regression',num_leaves=50,\n",
    "                              learning_rate=0.1, n_estimators=144, max_depth=8, feature_fraction = 0.78,\n",
    "                              metric='mae', bagging_fraction = 0.55,reg_alpha = 0,reg_lambda = 0.3)"
   ]
  },
  {
   "cell_type": "markdown",
   "metadata": {},
   "source": [
    "來看看各個模型交叉驗證的得分:"
   ]
  },
  {
   "cell_type": "code",
   "execution_count": 148,
   "metadata": {},
   "outputs": [
    {
     "name": "stdout",
     "output_type": "stream",
     "text": [
      "\n",
      "Lasso 得分: 0.6018 (0.0148)\n",
      "\n"
     ]
    }
   ],
   "source": [
    "score = mae_cv(lasso) #Lasso 得分:  0.5573 (0.0097)\n",
    "print(\"\\nLasso 得分: {:.4f} ({:.4f})\\n\".format(score.mean(), score.std()))"
   ]
  },
  {
   "cell_type": "code",
   "execution_count": 149,
   "metadata": {},
   "outputs": [
    {
     "name": "stdout",
     "output_type": "stream",
     "text": [
      "ElasticNet 得分: 0.6018 (0.0148)\n",
      "\n"
     ]
    }
   ],
   "source": [
    "score = mae_cv(ENet)  # 0.6019 (0.0149)\n",
    "print(\"ElasticNet 得分: {:.4f} ({:.4f})\\n\".format(score.mean(), score.std()))"
   ]
  },
  {
   "cell_type": "code",
   "execution_count": 150,
   "metadata": {},
   "outputs": [
    {
     "name": "stdout",
     "output_type": "stream",
     "text": [
      "Kernel Ridge 得分: 0.5527 (0.0117)\n",
      "\n"
     ]
    }
   ],
   "source": [
    "score = mae_cv(KRR) # 0.5529 (0.0119)\n",
    "print(\"Kernel Ridge 得分: {:.4f} ({:.4f})\\n\".format(score.mean(), score.std()))"
   ]
  },
  {
   "cell_type": "code",
   "execution_count": 151,
   "metadata": {},
   "outputs": [
    {
     "name": "stdout",
     "output_type": "stream",
     "text": [
      "Gradient Boosting 得分: 0.4654 (0.0078)\n",
      "\n"
     ]
    }
   ],
   "source": [
    "score = mae_cv(GBoost) #0.4662 (0.0084)\n",
    "print(\"Gradient Boosting 得分: {:.4f} ({:.4f})\\n\".format(score.mean(), score.std()))"
   ]
  },
  {
   "cell_type": "code",
   "execution_count": 152,
   "metadata": {},
   "outputs": [
    {
     "name": "stdout",
     "output_type": "stream",
     "text": [
      "Xgboost 得分: 0.4534 (0.0128)\n",
      "\n"
     ]
    }
   ],
   "source": [
    "score = mae_cv(model_xgb)  # 0.4536 (0.0102)\n",
    "print(\"Xgboost 得分: {:.4f} ({:.4f})\\n\".format(score.mean(), score.std()))"
   ]
  },
  {
   "cell_type": "code",
   "execution_count": 153,
   "metadata": {},
   "outputs": [
    {
     "name": "stdout",
     "output_type": "stream",
     "text": [
      "LGBM 得分: 0.4448 (0.0109)\n",
      "\n"
     ]
    }
   ],
   "source": [
    "score = mae_cv(model_lgb) #  0.4779 \n",
    "print(\"LGBM 得分: {:.4f} ({:.4f})\\n\" .format(score.mean(), score.std()))"
   ]
  },
  {
   "cell_type": "markdown",
   "metadata": {},
   "source": [
    "# 6. 模型融合"
   ]
  },
  {
   "cell_type": "markdown",
   "metadata": {},
   "source": [
    "Stacking模型融合：Average-Stacking\n",
    "簡單的平均基本模型的方法。"
   ]
  },
  {
   "cell_type": "code",
   "execution_count": 154,
   "metadata": {},
   "outputs": [],
   "source": [
    "class AveragingModels(BaseEstimator, RegressorMixin, TransformerMixin):\n",
    "    def __init__(self, models):\n",
    "        self.models = models\n",
    "        \n",
    "    # 用數據擬合所有的模型\n",
    "    def fit(self, X, y):\n",
    "        self.models_ = [clone(x) for x in self.models]\n",
    "        \n",
    "        for model in self.models_:\n",
    "            model.fit(X, y)\n",
    "\n",
    "        return self\n",
    "    \n",
    "    # 對結果做average\n",
    "    def predict(self, X):\n",
    "        predictions = np.column_stack([\n",
    "            model.predict(X) for model in self.models_\n",
    "        ])\n",
    "        return np.mean(predictions, axis=1)   "
   ]
  },
  {
   "cell_type": "code",
   "execution_count": 155,
   "metadata": {},
   "outputs": [
    {
     "name": "stdout",
     "output_type": "stream",
     "text": [
      " 最集成後的模型的得分: 0.5214 (0.0130)\n",
      "\n"
     ]
    }
   ],
   "source": [
    "averaged_models = AveragingModels(models = (ENet, GBoost, KRR, lasso))\n",
    "\n",
    "score = mae_cv(averaged_models)\n",
    "print(\" 最集成後的模型的得分: {:.4f} ({:.4f})\\n\".format(score.mean(), score.std()))"
   ]
  },
  {
   "cell_type": "markdown",
   "metadata": {},
   "source": [
    "Meta-model Stacking： 在這種方法中，我們在平均基礎模型上添加Meta-model，並使用這些基模型的out-of-folds預測來訓練我們的Meta-model。 訓練部分的步驟如下： 1、將整個訓練集分解成兩個不相交的集合（這裡是train和.holdout）。 2、在第一部分（train）上訓練幾個基本模型。 3、在第二個部分（holdout）上測試這些基本模型。 4、使用(3)中的預測（稱為 out-of-fold 預測）作為輸入，並將正確的標籤（目標變量）作為輸出來訓練更高層次的學習模型稱為元模型。 前三個步驟是迭代完成的。例如，如果我們採取5倍的fold，我們首先將訓練數據分成5次。然後我們會做5次迭代。在每次迭代中，我們訓練每個基礎模型4倍，並預測剩餘的fold（holdout fold）。"
   ]
  },
  {
   "cell_type": "code",
   "execution_count": 156,
   "metadata": {},
   "outputs": [],
   "source": [
    "class StackingAveragedModels(BaseEstimator, RegressorMixin, TransformerMixin):\n",
    "    def __init__(self, base_models, meta_model, n_folds=5):\n",
    "        self.base_models = base_models\n",
    "        self.meta_model = meta_model\n",
    "        self.n_folds = n_folds\n",
    "   \n",
    "    # 用數據擬合所有的模型\n",
    "    def fit(self, X, y):\n",
    "        self.base_models_ = [list() for x in self.base_models]\n",
    "        self.meta_model_ = clone(self.meta_model)\n",
    "        kfold = KFold(n_splits=self.n_folds, shuffle=True, random_state=156)\n",
    "        \n",
    "        # 得到元模型，並用元模型對out_of_fold做预估，為學習stacking的第2層做數據準備\n",
    "        out_of_fold_predictions = np.zeros((X.shape[0], len(self.base_models)))\n",
    "        for i, model in enumerate(self.base_models):\n",
    "            for train_index, holdout_index in kfold.split(X, y):\n",
    "                instance = clone(model)\n",
    "                self.base_models_[i].append(instance)\n",
    "                instance.fit(X[train_index], y[train_index])\n",
    "                y_pred = instance.predict(X[holdout_index])\n",
    "                out_of_fold_predictions[holdout_index, i] = y_pred\n",
    "                \n",
    "        # 學習stacking模型\n",
    "        self.meta_model_.fit(out_of_fold_predictions, y)\n",
    "        return self\n",
    "   \n",
    "    # 做stacking预估\n",
    "    def predict(self, X):\n",
    "        meta_features = np.column_stack([\n",
    "            np.column_stack([model.predict(X) for model in base_models]).mean(axis=1)\n",
    "            for base_models in self.base_models_ ])\n",
    "        return self.meta_model_.predict(meta_features)"
   ]
  },
  {
   "cell_type": "code",
   "execution_count": 157,
   "metadata": {},
   "outputs": [
    {
     "name": "stdout",
     "output_type": "stream",
     "text": [
      "Stacking Averaged models score: 0.4616 (0.0091)\n"
     ]
    }
   ],
   "source": [
    "stacked_averaged_models = StackingAveragedModels(base_models = (ENet, GBoost, KRR),\n",
    "                                                 meta_model = lasso)\n",
    "\n",
    "score = mae_cv(stacked_averaged_models)\n",
    "print(\"Stacking Averaged models score: {:.4f} ({:.4f})\".format(score.mean(), score.std()))"
   ]
  },
  {
   "cell_type": "code",
   "execution_count": 158,
   "metadata": {},
   "outputs": [],
   "source": [
    "def mae(y, y_pred):\n",
    "    return np.sqrt(mean_absolute_error(y, y_pred))"
   ]
  },
  {
   "cell_type": "code",
   "execution_count": 159,
   "metadata": {},
   "outputs": [
    {
     "name": "stdout",
     "output_type": "stream",
     "text": [
      "0.4967991333503569\n"
     ]
    }
   ],
   "source": [
    "#StackedRegressor:\n",
    "stacked_averaged_models.fit(train, target)\n",
    "stacked_train_pred = stacked_averaged_models.predict(train)\n",
    "stacked_pred = np.expm1(stacked_averaged_models.predict(test))\n",
    "print(mae(target, stacked_train_pred))"
   ]
  },
  {
   "cell_type": "code",
   "execution_count": 160,
   "metadata": {},
   "outputs": [
    {
     "name": "stdout",
     "output_type": "stream",
     "text": [
      "0.4599549171289527\n"
     ]
    }
   ],
   "source": [
    "#XGBoost:\n",
    "model_xgb.fit(train, target)\n",
    "xgb_train_pred = model_xgb.predict(train)\n",
    "xgb_pred = np.expm1(model_xgb.predict(test))\n",
    "print(mae(target, xgb_train_pred))"
   ]
  },
  {
   "cell_type": "code",
   "execution_count": 161,
   "metadata": {},
   "outputs": [
    {
     "name": "stdout",
     "output_type": "stream",
     "text": [
      "0.48034390182428566\n"
     ]
    }
   ],
   "source": [
    "#LightGBM:\n",
    "model_lgb.fit(train, target)\n",
    "lgb_train_pred = model_lgb.predict(train)\n",
    "lgb_pred = np.expm1(model_lgb.predict(test))\n",
    "print(mae(target, lgb_train_pred))"
   ]
  },
  {
   "cell_type": "code",
   "execution_count": 162,
   "metadata": {},
   "outputs": [
    {
     "name": "stdout",
     "output_type": "stream",
     "text": [
      "訓練集上的mae得分:\n",
      "0.4839143009258034\n"
     ]
    }
   ],
   "source": [
    "'''RMSE on the entire Train data when averaging'''\n",
    "\n",
    "print('訓練集上的mae得分:')\n",
    "print(mae(target,stacked_train_pred*0.70 +\n",
    "               xgb_train_pred*0.15  + lgb_train_pred*0.15 ))"
   ]
  },
  {
   "cell_type": "markdown",
   "metadata": {},
   "source": [
    "#### 將三者進行融合，然後得到Ensemble prediction："
   ]
  },
  {
   "cell_type": "code",
   "execution_count": 163,
   "metadata": {},
   "outputs": [],
   "source": [
    "ensemble = stacked_pred*0.70 + xgb_pred*0.15 + lgb_pred*0.15"
   ]
  },
  {
   "cell_type": "code",
   "execution_count": 164,
   "metadata": {},
   "outputs": [
    {
     "data": {
      "text/plain": [
       "(1109,)"
      ]
     },
     "execution_count": 164,
     "metadata": {},
     "output_type": "execute_result"
    }
   ],
   "source": [
    "ensemble.shape"
   ]
  },
  {
   "cell_type": "code",
   "execution_count": 165,
   "metadata": {},
   "outputs": [
    {
     "data": {
      "text/plain": [
       "(1109,)"
      ]
     },
     "execution_count": 165,
     "metadata": {},
     "output_type": "execute_result"
    }
   ],
   "source": [
    "test_ID.shape"
   ]
  },
  {
   "cell_type": "code",
   "execution_count": 166,
   "metadata": {},
   "outputs": [],
   "source": [
    "sub = pd.DataFrame()\n",
    "\n",
    "sub['id'] = test_ID\n",
    "sub['salary_next_year'] = ensemble\n",
    "sub.to_csv('submission15.csv',index=False)"
   ]
  },
  {
   "cell_type": "code",
   "execution_count": null,
   "metadata": {},
   "outputs": [],
   "source": []
  }
 ],
 "metadata": {
  "kernelspec": {
   "display_name": "Python 3",
   "language": "python",
   "name": "python3"
  },
  "language_info": {
   "codemirror_mode": {
    "name": "ipython",
    "version": 3
   },
   "file_extension": ".py",
   "mimetype": "text/x-python",
   "name": "python",
   "nbconvert_exporter": "python",
   "pygments_lexer": "ipython3",
   "version": "3.7.1"
  }
 },
 "nbformat": 4,
 "nbformat_minor": 2
}
