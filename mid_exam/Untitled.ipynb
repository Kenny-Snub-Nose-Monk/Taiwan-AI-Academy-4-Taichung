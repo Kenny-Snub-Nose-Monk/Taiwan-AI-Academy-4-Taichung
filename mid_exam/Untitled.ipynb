{
 "cells": [
  {
   "cell_type": "markdown",
   "metadata": {},
   "source": [
    "# 場景理解"
   ]
  },
  {
   "cell_type": "code",
   "execution_count": null,
   "metadata": {},
   "outputs": [],
   "source": []
  },
  {
   "cell_type": "code",
   "execution_count": null,
   "metadata": {},
   "outputs": [],
   "source": []
  },
  {
   "cell_type": "markdown",
   "metadata": {},
   "source": [
    "# 資料讀取"
   ]
  },
  {
   "cell_type": "code",
   "execution_count": 741,
   "metadata": {},
   "outputs": [],
   "source": [
    "import numpy as np\n",
    "import pandas as pd\n",
    "%matplotlib inline\n",
    "import matplotlib.pyplot as plt\n",
    "import seaborn as sns\n",
    "color = sns.color_palette()\n",
    "sns.set_style('darkgrid')\n",
    "import warnings\n",
    "def ignore_warn(*args, **kwargs):\n",
    "    pass\n",
    "\n",
    "warnings.warn = ignore_warn\n",
    "\n",
    "from scipy import stats\n",
    "from scipy.stats import norm, skew\n",
    "\n",
    "pd.set_option('display.float_format',lambda x:'{:.3f}'.format(x))"
   ]
  },
  {
   "cell_type": "code",
   "execution_count": 742,
   "metadata": {
    "scrolled": true
   },
   "outputs": [],
   "source": [
    "train_data = pd.read_csv('train.csv')"
   ]
  },
  {
   "cell_type": "code",
   "execution_count": 743,
   "metadata": {},
   "outputs": [],
   "source": [
    "test_data = pd.read_csv('test.csv')"
   ]
  },
  {
   "cell_type": "markdown",
   "metadata": {},
   "source": [
    "# 初步評估資料"
   ]
  },
  {
   "cell_type": "code",
   "execution_count": 744,
   "metadata": {},
   "outputs": [
    {
     "data": {
      "text/html": [
       "<div>\n",
       "<style scoped>\n",
       "    .dataframe tbody tr th:only-of-type {\n",
       "        vertical-align: middle;\n",
       "    }\n",
       "\n",
       "    .dataframe tbody tr th {\n",
       "        vertical-align: top;\n",
       "    }\n",
       "\n",
       "    .dataframe thead th {\n",
       "        text-align: right;\n",
       "    }\n",
       "</style>\n",
       "<table border=\"1\" class=\"dataframe\">\n",
       "  <thead>\n",
       "    <tr style=\"text-align: right;\">\n",
       "      <th></th>\n",
       "      <th>id</th>\n",
       "      <th>playerID</th>\n",
       "      <th>yearID</th>\n",
       "      <th>stint</th>\n",
       "      <th>teamID</th>\n",
       "      <th>lgID</th>\n",
       "      <th>W</th>\n",
       "      <th>L</th>\n",
       "      <th>G</th>\n",
       "      <th>GS</th>\n",
       "      <th>...</th>\n",
       "      <th>WP</th>\n",
       "      <th>HBP</th>\n",
       "      <th>BK</th>\n",
       "      <th>BFP</th>\n",
       "      <th>GF</th>\n",
       "      <th>R</th>\n",
       "      <th>SH</th>\n",
       "      <th>SF</th>\n",
       "      <th>GIDP</th>\n",
       "      <th>salary_next_year</th>\n",
       "    </tr>\n",
       "  </thead>\n",
       "  <tbody>\n",
       "    <tr>\n",
       "      <th>0</th>\n",
       "      <td>0</td>\n",
       "      <td>nelsoge01</td>\n",
       "      <td>1986</td>\n",
       "      <td>1</td>\n",
       "      <td>CHA</td>\n",
       "      <td>AL</td>\n",
       "      <td>6</td>\n",
       "      <td>6</td>\n",
       "      <td>54</td>\n",
       "      <td>1</td>\n",
       "      <td>...</td>\n",
       "      <td>3.000</td>\n",
       "      <td>3.000</td>\n",
       "      <td>0.000</td>\n",
       "      <td>488.000</td>\n",
       "      <td>26.000</td>\n",
       "      <td>52</td>\n",
       "      <td>nan</td>\n",
       "      <td>nan</td>\n",
       "      <td>nan</td>\n",
       "      <td>365000.000</td>\n",
       "    </tr>\n",
       "    <tr>\n",
       "      <th>1</th>\n",
       "      <td>1</td>\n",
       "      <td>moyerja01</td>\n",
       "      <td>1997</td>\n",
       "      <td>1</td>\n",
       "      <td>SEA</td>\n",
       "      <td>AL</td>\n",
       "      <td>17</td>\n",
       "      <td>5</td>\n",
       "      <td>30</td>\n",
       "      <td>30</td>\n",
       "      <td>...</td>\n",
       "      <td>3.000</td>\n",
       "      <td>7.000</td>\n",
       "      <td>0.000</td>\n",
       "      <td>787.000</td>\n",
       "      <td>0.000</td>\n",
       "      <td>82</td>\n",
       "      <td>nan</td>\n",
       "      <td>nan</td>\n",
       "      <td>nan</td>\n",
       "      <td>2000000.000</td>\n",
       "    </tr>\n",
       "    <tr>\n",
       "      <th>2</th>\n",
       "      <td>2</td>\n",
       "      <td>thompbr01</td>\n",
       "      <td>2008</td>\n",
       "      <td>1</td>\n",
       "      <td>SLN</td>\n",
       "      <td>NL</td>\n",
       "      <td>6</td>\n",
       "      <td>3</td>\n",
       "      <td>26</td>\n",
       "      <td>6</td>\n",
       "      <td>...</td>\n",
       "      <td>2.000</td>\n",
       "      <td>3.000</td>\n",
       "      <td>0.000</td>\n",
       "      <td>273.000</td>\n",
       "      <td>10.000</td>\n",
       "      <td>38</td>\n",
       "      <td>nan</td>\n",
       "      <td>nan</td>\n",
       "      <td>nan</td>\n",
       "      <td>650000.000</td>\n",
       "    </tr>\n",
       "    <tr>\n",
       "      <th>3</th>\n",
       "      <td>3</td>\n",
       "      <td>powerte01</td>\n",
       "      <td>1986</td>\n",
       "      <td>1</td>\n",
       "      <td>CIN</td>\n",
       "      <td>NL</td>\n",
       "      <td>10</td>\n",
       "      <td>6</td>\n",
       "      <td>56</td>\n",
       "      <td>10</td>\n",
       "      <td>...</td>\n",
       "      <td>5.000</td>\n",
       "      <td>1.000</td>\n",
       "      <td>1.000</td>\n",
       "      <td>537.000</td>\n",
       "      <td>30.000</td>\n",
       "      <td>59</td>\n",
       "      <td>nan</td>\n",
       "      <td>nan</td>\n",
       "      <td>nan</td>\n",
       "      <td>500000.000</td>\n",
       "    </tr>\n",
       "    <tr>\n",
       "      <th>4</th>\n",
       "      <td>4</td>\n",
       "      <td>osunaan01</td>\n",
       "      <td>2003</td>\n",
       "      <td>1</td>\n",
       "      <td>NYA</td>\n",
       "      <td>AL</td>\n",
       "      <td>2</td>\n",
       "      <td>5</td>\n",
       "      <td>48</td>\n",
       "      <td>0</td>\n",
       "      <td>...</td>\n",
       "      <td>3.000</td>\n",
       "      <td>2.000</td>\n",
       "      <td>0.000</td>\n",
       "      <td>232.000</td>\n",
       "      <td>16.000</td>\n",
       "      <td>22</td>\n",
       "      <td>nan</td>\n",
       "      <td>nan</td>\n",
       "      <td>nan</td>\n",
       "      <td>750000.000</td>\n",
       "    </tr>\n",
       "  </tbody>\n",
       "</table>\n",
       "<p>5 rows × 32 columns</p>\n",
       "</div>"
      ],
      "text/plain": [
       "   id   playerID  yearID  stint teamID lgID   W  L   G  GS        ...         \\\n",
       "0   0  nelsoge01    1986      1    CHA   AL   6  6  54   1        ...          \n",
       "1   1  moyerja01    1997      1    SEA   AL  17  5  30  30        ...          \n",
       "2   2  thompbr01    2008      1    SLN   NL   6  3  26   6        ...          \n",
       "3   3  powerte01    1986      1    CIN   NL  10  6  56  10        ...          \n",
       "4   4  osunaan01    2003      1    NYA   AL   2  5  48   0        ...          \n",
       "\n",
       "     WP   HBP    BK     BFP     GF   R  SH  SF  GIDP  salary_next_year  \n",
       "0 3.000 3.000 0.000 488.000 26.000  52 nan nan   nan        365000.000  \n",
       "1 3.000 7.000 0.000 787.000  0.000  82 nan nan   nan       2000000.000  \n",
       "2 2.000 3.000 0.000 273.000 10.000  38 nan nan   nan        650000.000  \n",
       "3 5.000 1.000 1.000 537.000 30.000  59 nan nan   nan        500000.000  \n",
       "4 3.000 2.000 0.000 232.000 16.000  22 nan nan   nan        750000.000  \n",
       "\n",
       "[5 rows x 32 columns]"
      ]
     },
     "execution_count": 744,
     "metadata": {},
     "output_type": "execute_result"
    }
   ],
   "source": [
    "train_data.head()"
   ]
  },
  {
   "cell_type": "code",
   "execution_count": 745,
   "metadata": {},
   "outputs": [
    {
     "data": {
      "text/html": [
       "<div>\n",
       "<style scoped>\n",
       "    .dataframe tbody tr th:only-of-type {\n",
       "        vertical-align: middle;\n",
       "    }\n",
       "\n",
       "    .dataframe tbody tr th {\n",
       "        vertical-align: top;\n",
       "    }\n",
       "\n",
       "    .dataframe thead th {\n",
       "        text-align: right;\n",
       "    }\n",
       "</style>\n",
       "<table border=\"1\" class=\"dataframe\">\n",
       "  <thead>\n",
       "    <tr style=\"text-align: right;\">\n",
       "      <th></th>\n",
       "      <th>id</th>\n",
       "      <th>playerID</th>\n",
       "      <th>yearID</th>\n",
       "      <th>stint</th>\n",
       "      <th>teamID</th>\n",
       "      <th>lgID</th>\n",
       "      <th>W</th>\n",
       "      <th>L</th>\n",
       "      <th>G</th>\n",
       "      <th>GS</th>\n",
       "      <th>...</th>\n",
       "      <th>IBB</th>\n",
       "      <th>WP</th>\n",
       "      <th>HBP</th>\n",
       "      <th>BK</th>\n",
       "      <th>BFP</th>\n",
       "      <th>GF</th>\n",
       "      <th>R</th>\n",
       "      <th>SH</th>\n",
       "      <th>SF</th>\n",
       "      <th>GIDP</th>\n",
       "    </tr>\n",
       "  </thead>\n",
       "  <tbody>\n",
       "    <tr>\n",
       "      <th>0</th>\n",
       "      <td>6284</td>\n",
       "      <td>cormirh01</td>\n",
       "      <td>2000</td>\n",
       "      <td>1</td>\n",
       "      <td>BOS</td>\n",
       "      <td>AL</td>\n",
       "      <td>3</td>\n",
       "      <td>3</td>\n",
       "      <td>64</td>\n",
       "      <td>0</td>\n",
       "      <td>...</td>\n",
       "      <td>2.000</td>\n",
       "      <td>1.000</td>\n",
       "      <td>0.000</td>\n",
       "      <td>0.000</td>\n",
       "      <td>293.000</td>\n",
       "      <td>12.000</td>\n",
       "      <td>40</td>\n",
       "      <td>nan</td>\n",
       "      <td>nan</td>\n",
       "      <td>nan</td>\n",
       "    </tr>\n",
       "    <tr>\n",
       "      <th>1</th>\n",
       "      <td>6285</td>\n",
       "      <td>reyesde01</td>\n",
       "      <td>2003</td>\n",
       "      <td>1</td>\n",
       "      <td>PIT</td>\n",
       "      <td>NL</td>\n",
       "      <td>0</td>\n",
       "      <td>0</td>\n",
       "      <td>12</td>\n",
       "      <td>0</td>\n",
       "      <td>...</td>\n",
       "      <td>1.000</td>\n",
       "      <td>5.000</td>\n",
       "      <td>0.000</td>\n",
       "      <td>0.000</td>\n",
       "      <td>50.000</td>\n",
       "      <td>4.000</td>\n",
       "      <td>13</td>\n",
       "      <td>nan</td>\n",
       "      <td>nan</td>\n",
       "      <td>nan</td>\n",
       "    </tr>\n",
       "    <tr>\n",
       "      <th>2</th>\n",
       "      <td>6286</td>\n",
       "      <td>runyase01</td>\n",
       "      <td>1999</td>\n",
       "      <td>1</td>\n",
       "      <td>DET</td>\n",
       "      <td>AL</td>\n",
       "      <td>0</td>\n",
       "      <td>1</td>\n",
       "      <td>12</td>\n",
       "      <td>0</td>\n",
       "      <td>...</td>\n",
       "      <td>1.000</td>\n",
       "      <td>2.000</td>\n",
       "      <td>1.000</td>\n",
       "      <td>0.000</td>\n",
       "      <td>45.000</td>\n",
       "      <td>2.000</td>\n",
       "      <td>4</td>\n",
       "      <td>nan</td>\n",
       "      <td>nan</td>\n",
       "      <td>nan</td>\n",
       "    </tr>\n",
       "    <tr>\n",
       "      <th>3</th>\n",
       "      <td>6287</td>\n",
       "      <td>byrdpa01</td>\n",
       "      <td>2002</td>\n",
       "      <td>1</td>\n",
       "      <td>KCA</td>\n",
       "      <td>AL</td>\n",
       "      <td>17</td>\n",
       "      <td>11</td>\n",
       "      <td>33</td>\n",
       "      <td>33</td>\n",
       "      <td>...</td>\n",
       "      <td>1.000</td>\n",
       "      <td>3.000</td>\n",
       "      <td>7.000</td>\n",
       "      <td>1.000</td>\n",
       "      <td>935.000</td>\n",
       "      <td>0.000</td>\n",
       "      <td>111</td>\n",
       "      <td>nan</td>\n",
       "      <td>nan</td>\n",
       "      <td>nan</td>\n",
       "    </tr>\n",
       "    <tr>\n",
       "      <th>4</th>\n",
       "      <td>6288</td>\n",
       "      <td>parkch01</td>\n",
       "      <td>2006</td>\n",
       "      <td>1</td>\n",
       "      <td>SDN</td>\n",
       "      <td>NL</td>\n",
       "      <td>7</td>\n",
       "      <td>7</td>\n",
       "      <td>24</td>\n",
       "      <td>21</td>\n",
       "      <td>...</td>\n",
       "      <td>7.000</td>\n",
       "      <td>5.000</td>\n",
       "      <td>10.000</td>\n",
       "      <td>0.000</td>\n",
       "      <td>606.000</td>\n",
       "      <td>0.000</td>\n",
       "      <td>81</td>\n",
       "      <td>nan</td>\n",
       "      <td>nan</td>\n",
       "      <td>nan</td>\n",
       "    </tr>\n",
       "  </tbody>\n",
       "</table>\n",
       "<p>5 rows × 31 columns</p>\n",
       "</div>"
      ],
      "text/plain": [
       "     id   playerID  yearID  stint teamID lgID   W   L   G  GS  ...    IBB  \\\n",
       "0  6284  cormirh01    2000      1    BOS   AL   3   3  64   0  ...  2.000   \n",
       "1  6285  reyesde01    2003      1    PIT   NL   0   0  12   0  ...  1.000   \n",
       "2  6286  runyase01    1999      1    DET   AL   0   1  12   0  ...  1.000   \n",
       "3  6287   byrdpa01    2002      1    KCA   AL  17  11  33  33  ...  1.000   \n",
       "4  6288   parkch01    2006      1    SDN   NL   7   7  24  21  ...  7.000   \n",
       "\n",
       "     WP    HBP    BK     BFP     GF    R  SH  SF  GIDP  \n",
       "0 1.000  0.000 0.000 293.000 12.000   40 nan nan   nan  \n",
       "1 5.000  0.000 0.000  50.000  4.000   13 nan nan   nan  \n",
       "2 2.000  1.000 0.000  45.000  2.000    4 nan nan   nan  \n",
       "3 3.000  7.000 1.000 935.000  0.000  111 nan nan   nan  \n",
       "4 5.000 10.000 0.000 606.000  0.000   81 nan nan   nan  \n",
       "\n",
       "[5 rows x 31 columns]"
      ]
     },
     "execution_count": 745,
     "metadata": {},
     "output_type": "execute_result"
    }
   ],
   "source": [
    "test_data.head()"
   ]
  },
  {
   "cell_type": "code",
   "execution_count": 746,
   "metadata": {},
   "outputs": [
    {
     "data": {
      "text/plain": [
       "(6284, 32)"
      ]
     },
     "execution_count": 746,
     "metadata": {},
     "output_type": "execute_result"
    }
   ],
   "source": [
    "train_data.shape"
   ]
  },
  {
   "cell_type": "code",
   "execution_count": 747,
   "metadata": {},
   "outputs": [
    {
     "data": {
      "text/plain": [
       "(1109, 31)"
      ]
     },
     "execution_count": 747,
     "metadata": {},
     "output_type": "execute_result"
    }
   ],
   "source": [
    "test_data.shape"
   ]
  },
  {
   "cell_type": "code",
   "execution_count": 748,
   "metadata": {
    "scrolled": true
   },
   "outputs": [
    {
     "name": "stdout",
     "output_type": "stream",
     "text": [
      "<class 'pandas.core.frame.DataFrame'>\n",
      "RangeIndex: 6284 entries, 0 to 6283\n",
      "Data columns (total 32 columns):\n",
      "id                  6284 non-null int64\n",
      "playerID            6284 non-null object\n",
      "yearID              6284 non-null int64\n",
      "stint               6284 non-null int64\n",
      "teamID              6284 non-null object\n",
      "lgID                6284 non-null object\n",
      "W                   6284 non-null int64\n",
      "L                   6284 non-null int64\n",
      "G                   6284 non-null int64\n",
      "GS                  6284 non-null int64\n",
      "CG                  6284 non-null int64\n",
      "SHO                 6284 non-null int64\n",
      "SV                  6284 non-null int64\n",
      "IPouts              6284 non-null int64\n",
      "H                   6284 non-null int64\n",
      "ER                  6284 non-null int64\n",
      "HR                  6284 non-null int64\n",
      "BB                  6284 non-null int64\n",
      "SO                  6284 non-null int64\n",
      "BAOpp               3831 non-null float64\n",
      "ERA                 6284 non-null float64\n",
      "IBB                 6284 non-null float64\n",
      "WP                  6284 non-null float64\n",
      "HBP                 6284 non-null float64\n",
      "BK                  6284 non-null float64\n",
      "BFP                 6284 non-null float64\n",
      "GF                  6284 non-null float64\n",
      "R                   6284 non-null int64\n",
      "SH                  0 non-null float64\n",
      "SF                  0 non-null float64\n",
      "GIDP                0 non-null float64\n",
      "salary_next_year    6284 non-null float64\n",
      "dtypes: float64(12), int64(17), object(3)\n",
      "memory usage: 1.5+ MB\n"
     ]
    }
   ],
   "source": [
    "train_data.info() \n",
    "# BAOpp 有一半都沒有值, SH、SF、GIDP全部都沒有值\n",
    "#直接 drop掉SH、SF、GIDP"
   ]
  },
  {
   "cell_type": "code",
   "execution_count": 749,
   "metadata": {
    "scrolled": true
   },
   "outputs": [
    {
     "name": "stdout",
     "output_type": "stream",
     "text": [
      "<class 'pandas.core.frame.DataFrame'>\n",
      "RangeIndex: 1109 entries, 0 to 1108\n",
      "Data columns (total 31 columns):\n",
      "id          1109 non-null int64\n",
      "playerID    1109 non-null object\n",
      "yearID      1109 non-null int64\n",
      "stint       1109 non-null int64\n",
      "teamID      1109 non-null object\n",
      "lgID        1109 non-null object\n",
      "W           1109 non-null int64\n",
      "L           1109 non-null int64\n",
      "G           1109 non-null int64\n",
      "GS          1109 non-null int64\n",
      "CG          1109 non-null int64\n",
      "SHO         1109 non-null int64\n",
      "SV          1109 non-null int64\n",
      "IPouts      1109 non-null int64\n",
      "H           1109 non-null int64\n",
      "ER          1109 non-null int64\n",
      "HR          1109 non-null int64\n",
      "BB          1109 non-null int64\n",
      "SO          1109 non-null int64\n",
      "BAOpp       675 non-null float64\n",
      "ERA         1109 non-null float64\n",
      "IBB         1108 non-null float64\n",
      "WP          1108 non-null float64\n",
      "HBP         1108 non-null float64\n",
      "BK          1108 non-null float64\n",
      "BFP         1109 non-null float64\n",
      "GF          1109 non-null float64\n",
      "R           1109 non-null int64\n",
      "SH          0 non-null float64\n",
      "SF          0 non-null float64\n",
      "GIDP        0 non-null float64\n",
      "dtypes: float64(11), int64(17), object(3)\n",
      "memory usage: 268.7+ KB\n"
     ]
    }
   ],
   "source": [
    "test_data.info() #測試集的資料缺失跟訓練集資料分不一致"
   ]
  },
  {
   "cell_type": "code",
   "execution_count": 750,
   "metadata": {},
   "outputs": [
    {
     "data": {
      "text/html": [
       "<div>\n",
       "<style scoped>\n",
       "    .dataframe tbody tr th:only-of-type {\n",
       "        vertical-align: middle;\n",
       "    }\n",
       "\n",
       "    .dataframe tbody tr th {\n",
       "        vertical-align: top;\n",
       "    }\n",
       "\n",
       "    .dataframe thead th {\n",
       "        text-align: right;\n",
       "    }\n",
       "</style>\n",
       "<table border=\"1\" class=\"dataframe\">\n",
       "  <thead>\n",
       "    <tr style=\"text-align: right;\">\n",
       "      <th></th>\n",
       "      <th>id</th>\n",
       "      <th>yearID</th>\n",
       "      <th>stint</th>\n",
       "      <th>W</th>\n",
       "      <th>L</th>\n",
       "      <th>G</th>\n",
       "      <th>GS</th>\n",
       "      <th>CG</th>\n",
       "      <th>SHO</th>\n",
       "      <th>SV</th>\n",
       "      <th>...</th>\n",
       "      <th>WP</th>\n",
       "      <th>HBP</th>\n",
       "      <th>BK</th>\n",
       "      <th>BFP</th>\n",
       "      <th>GF</th>\n",
       "      <th>R</th>\n",
       "      <th>SH</th>\n",
       "      <th>SF</th>\n",
       "      <th>GIDP</th>\n",
       "      <th>salary_next_year</th>\n",
       "    </tr>\n",
       "  </thead>\n",
       "  <tbody>\n",
       "    <tr>\n",
       "      <th>count</th>\n",
       "      <td>6284.000</td>\n",
       "      <td>6284.000</td>\n",
       "      <td>6284.000</td>\n",
       "      <td>6284.000</td>\n",
       "      <td>6284.000</td>\n",
       "      <td>6284.000</td>\n",
       "      <td>6284.000</td>\n",
       "      <td>6284.000</td>\n",
       "      <td>6284.000</td>\n",
       "      <td>6284.000</td>\n",
       "      <td>...</td>\n",
       "      <td>6284.000</td>\n",
       "      <td>6284.000</td>\n",
       "      <td>6284.000</td>\n",
       "      <td>6284.000</td>\n",
       "      <td>6284.000</td>\n",
       "      <td>6284.000</td>\n",
       "      <td>0.000</td>\n",
       "      <td>0.000</td>\n",
       "      <td>0.000</td>\n",
       "      <td>6284.000</td>\n",
       "    </tr>\n",
       "    <tr>\n",
       "      <th>mean</th>\n",
       "      <td>3141.500</td>\n",
       "      <td>1998.681</td>\n",
       "      <td>1.004</td>\n",
       "      <td>6.270</td>\n",
       "      <td>5.840</td>\n",
       "      <td>37.204</td>\n",
       "      <td>12.518</td>\n",
       "      <td>0.960</td>\n",
       "      <td>0.305</td>\n",
       "      <td>3.327</td>\n",
       "      <td>...</td>\n",
       "      <td>3.565</td>\n",
       "      <td>3.382</td>\n",
       "      <td>0.579</td>\n",
       "      <td>452.330</td>\n",
       "      <td>10.065</td>\n",
       "      <td>52.188</td>\n",
       "      <td>nan</td>\n",
       "      <td>nan</td>\n",
       "      <td>nan</td>\n",
       "      <td>2153669.017</td>\n",
       "    </tr>\n",
       "    <tr>\n",
       "      <th>std</th>\n",
       "      <td>1814.179</td>\n",
       "      <td>7.293</td>\n",
       "      <td>0.067</td>\n",
       "      <td>5.082</td>\n",
       "      <td>4.151</td>\n",
       "      <td>19.697</td>\n",
       "      <td>13.538</td>\n",
       "      <td>2.051</td>\n",
       "      <td>0.763</td>\n",
       "      <td>8.768</td>\n",
       "      <td>...</td>\n",
       "      <td>3.201</td>\n",
       "      <td>3.159</td>\n",
       "      <td>1.126</td>\n",
       "      <td>288.615</td>\n",
       "      <td>14.960</td>\n",
       "      <td>34.497</td>\n",
       "      <td>nan</td>\n",
       "      <td>nan</td>\n",
       "      <td>nan</td>\n",
       "      <td>2990284.701</td>\n",
       "    </tr>\n",
       "    <tr>\n",
       "      <th>min</th>\n",
       "      <td>0.000</td>\n",
       "      <td>1985.000</td>\n",
       "      <td>1.000</td>\n",
       "      <td>0.000</td>\n",
       "      <td>0.000</td>\n",
       "      <td>1.000</td>\n",
       "      <td>0.000</td>\n",
       "      <td>0.000</td>\n",
       "      <td>0.000</td>\n",
       "      <td>0.000</td>\n",
       "      <td>...</td>\n",
       "      <td>0.000</td>\n",
       "      <td>0.000</td>\n",
       "      <td>0.000</td>\n",
       "      <td>1.000</td>\n",
       "      <td>0.000</td>\n",
       "      <td>0.000</td>\n",
       "      <td>nan</td>\n",
       "      <td>nan</td>\n",
       "      <td>nan</td>\n",
       "      <td>60000.000</td>\n",
       "    </tr>\n",
       "    <tr>\n",
       "      <th>25%</th>\n",
       "      <td>1570.750</td>\n",
       "      <td>1993.000</td>\n",
       "      <td>1.000</td>\n",
       "      <td>2.000</td>\n",
       "      <td>2.000</td>\n",
       "      <td>24.000</td>\n",
       "      <td>0.000</td>\n",
       "      <td>0.000</td>\n",
       "      <td>0.000</td>\n",
       "      <td>0.000</td>\n",
       "      <td>...</td>\n",
       "      <td>1.000</td>\n",
       "      <td>1.000</td>\n",
       "      <td>0.000</td>\n",
       "      <td>229.000</td>\n",
       "      <td>0.000</td>\n",
       "      <td>24.000</td>\n",
       "      <td>nan</td>\n",
       "      <td>nan</td>\n",
       "      <td>nan</td>\n",
       "      <td>350000.000</td>\n",
       "    </tr>\n",
       "    <tr>\n",
       "      <th>50%</th>\n",
       "      <td>3141.500</td>\n",
       "      <td>1999.000</td>\n",
       "      <td>1.000</td>\n",
       "      <td>5.000</td>\n",
       "      <td>5.000</td>\n",
       "      <td>33.000</td>\n",
       "      <td>6.000</td>\n",
       "      <td>0.000</td>\n",
       "      <td>0.000</td>\n",
       "      <td>0.000</td>\n",
       "      <td>...</td>\n",
       "      <td>3.000</td>\n",
       "      <td>3.000</td>\n",
       "      <td>0.000</td>\n",
       "      <td>349.000</td>\n",
       "      <td>3.000</td>\n",
       "      <td>41.000</td>\n",
       "      <td>nan</td>\n",
       "      <td>nan</td>\n",
       "      <td>nan</td>\n",
       "      <td>875000.000</td>\n",
       "    </tr>\n",
       "    <tr>\n",
       "      <th>75%</th>\n",
       "      <td>4712.250</td>\n",
       "      <td>2005.000</td>\n",
       "      <td>1.000</td>\n",
       "      <td>10.000</td>\n",
       "      <td>9.000</td>\n",
       "      <td>52.000</td>\n",
       "      <td>27.000</td>\n",
       "      <td>1.000</td>\n",
       "      <td>0.000</td>\n",
       "      <td>1.000</td>\n",
       "      <td>...</td>\n",
       "      <td>5.000</td>\n",
       "      <td>5.000</td>\n",
       "      <td>1.000</td>\n",
       "      <td>721.000</td>\n",
       "      <td>14.000</td>\n",
       "      <td>82.000</td>\n",
       "      <td>nan</td>\n",
       "      <td>nan</td>\n",
       "      <td>nan</td>\n",
       "      <td>2788541.500</td>\n",
       "    </tr>\n",
       "    <tr>\n",
       "      <th>max</th>\n",
       "      <td>6283.000</td>\n",
       "      <td>2011.000</td>\n",
       "      <td>2.000</td>\n",
       "      <td>27.000</td>\n",
       "      <td>21.000</td>\n",
       "      <td>94.000</td>\n",
       "      <td>39.000</td>\n",
       "      <td>20.000</td>\n",
       "      <td>10.000</td>\n",
       "      <td>62.000</td>\n",
       "      <td>...</td>\n",
       "      <td>26.000</td>\n",
       "      <td>20.000</td>\n",
       "      <td>16.000</td>\n",
       "      <td>1157.000</td>\n",
       "      <td>76.000</td>\n",
       "      <td>160.000</td>\n",
       "      <td>nan</td>\n",
       "      <td>nan</td>\n",
       "      <td>nan</td>\n",
       "      <td>24285714.000</td>\n",
       "    </tr>\n",
       "  </tbody>\n",
       "</table>\n",
       "<p>8 rows × 29 columns</p>\n",
       "</div>"
      ],
      "text/plain": [
       "            id   yearID    stint        W        L        G       GS       CG  \\\n",
       "count 6284.000 6284.000 6284.000 6284.000 6284.000 6284.000 6284.000 6284.000   \n",
       "mean  3141.500 1998.681    1.004    6.270    5.840   37.204   12.518    0.960   \n",
       "std   1814.179    7.293    0.067    5.082    4.151   19.697   13.538    2.051   \n",
       "min      0.000 1985.000    1.000    0.000    0.000    1.000    0.000    0.000   \n",
       "25%   1570.750 1993.000    1.000    2.000    2.000   24.000    0.000    0.000   \n",
       "50%   3141.500 1999.000    1.000    5.000    5.000   33.000    6.000    0.000   \n",
       "75%   4712.250 2005.000    1.000   10.000    9.000   52.000   27.000    1.000   \n",
       "max   6283.000 2011.000    2.000   27.000   21.000   94.000   39.000   20.000   \n",
       "\n",
       "           SHO       SV        ...              WP      HBP       BK      BFP  \\\n",
       "count 6284.000 6284.000        ...        6284.000 6284.000 6284.000 6284.000   \n",
       "mean     0.305    3.327        ...           3.565    3.382    0.579  452.330   \n",
       "std      0.763    8.768        ...           3.201    3.159    1.126  288.615   \n",
       "min      0.000    0.000        ...           0.000    0.000    0.000    1.000   \n",
       "25%      0.000    0.000        ...           1.000    1.000    0.000  229.000   \n",
       "50%      0.000    0.000        ...           3.000    3.000    0.000  349.000   \n",
       "75%      0.000    1.000        ...           5.000    5.000    1.000  721.000   \n",
       "max     10.000   62.000        ...          26.000   20.000   16.000 1157.000   \n",
       "\n",
       "            GF        R    SH    SF  GIDP  salary_next_year  \n",
       "count 6284.000 6284.000 0.000 0.000 0.000          6284.000  \n",
       "mean    10.065   52.188   nan   nan   nan       2153669.017  \n",
       "std     14.960   34.497   nan   nan   nan       2990284.701  \n",
       "min      0.000    0.000   nan   nan   nan         60000.000  \n",
       "25%      0.000   24.000   nan   nan   nan        350000.000  \n",
       "50%      3.000   41.000   nan   nan   nan        875000.000  \n",
       "75%     14.000   82.000   nan   nan   nan       2788541.500  \n",
       "max     76.000  160.000   nan   nan   nan      24285714.000  \n",
       "\n",
       "[8 rows x 29 columns]"
      ]
     },
     "execution_count": 750,
     "metadata": {},
     "output_type": "execute_result"
    }
   ],
   "source": [
    "train_data.describe()"
   ]
  },
  {
   "cell_type": "code",
   "execution_count": 751,
   "metadata": {},
   "outputs": [
    {
     "data": {
      "text/html": [
       "<div>\n",
       "<style scoped>\n",
       "    .dataframe tbody tr th:only-of-type {\n",
       "        vertical-align: middle;\n",
       "    }\n",
       "\n",
       "    .dataframe tbody tr th {\n",
       "        vertical-align: top;\n",
       "    }\n",
       "\n",
       "    .dataframe thead th {\n",
       "        text-align: right;\n",
       "    }\n",
       "</style>\n",
       "<table border=\"1\" class=\"dataframe\">\n",
       "  <thead>\n",
       "    <tr style=\"text-align: right;\">\n",
       "      <th></th>\n",
       "      <th>playerID</th>\n",
       "      <th>teamID</th>\n",
       "      <th>lgID</th>\n",
       "    </tr>\n",
       "  </thead>\n",
       "  <tbody>\n",
       "    <tr>\n",
       "      <th>count</th>\n",
       "      <td>6284</td>\n",
       "      <td>6284</td>\n",
       "      <td>6284</td>\n",
       "    </tr>\n",
       "    <tr>\n",
       "      <th>unique</th>\n",
       "      <td>1246</td>\n",
       "      <td>34</td>\n",
       "      <td>2</td>\n",
       "    </tr>\n",
       "    <tr>\n",
       "      <th>top</th>\n",
       "      <td>moyerja01</td>\n",
       "      <td>PIT</td>\n",
       "      <td>NL</td>\n",
       "    </tr>\n",
       "    <tr>\n",
       "      <th>freq</th>\n",
       "      <td>22</td>\n",
       "      <td>244</td>\n",
       "      <td>3254</td>\n",
       "    </tr>\n",
       "  </tbody>\n",
       "</table>\n",
       "</div>"
      ],
      "text/plain": [
       "         playerID teamID  lgID\n",
       "count        6284   6284  6284\n",
       "unique       1246     34     2\n",
       "top     moyerja01    PIT    NL\n",
       "freq           22    244  3254"
      ]
     },
     "execution_count": 751,
     "metadata": {},
     "output_type": "execute_result"
    }
   ],
   "source": [
    "train_data.describe(include = 'object')"
   ]
  },
  {
   "cell_type": "markdown",
   "metadata": {},
   "source": [
    "> playerID怎麼處理?"
   ]
  },
  {
   "cell_type": "markdown",
   "metadata": {},
   "source": [
    "## 訓練數據跟測試數據結合"
   ]
  },
  {
   "cell_type": "code",
   "execution_count": 752,
   "metadata": {},
   "outputs": [
    {
     "name": "stdout",
     "output_type": "stream",
     "text": [
      "訓練資料集的維度 (6284, 31)\n",
      "測試資料集的維度 (1109, 30)\n"
     ]
    }
   ],
   "source": [
    "train_ID =  train_data['id']\n",
    "test_ID = test_data['id']\n",
    "\n",
    "train_data.drop(['id'], axis = 1,inplace = True)\n",
    "test_data.drop(['id'], axis = 1, inplace = True)\n",
    "\n",
    "print(\"訓練資料集的維度\",train_data.shape)\n",
    "print(\"測試資料集的維度\",test_data.shape)\n",
    "\n"
   ]
  },
  {
   "cell_type": "markdown",
   "metadata": {},
   "source": [
    "# 探索式數據分析"
   ]
  },
  {
   "cell_type": "code",
   "execution_count": 753,
   "metadata": {},
   "outputs": [
    {
     "name": "stdout",
     "output_type": "stream",
     "text": [
      "\n",
      " mu = 2153669.02 and sigma = 2990046.76\n",
      "\n"
     ]
    },
    {
     "data": {
      "image/png": "[encoded data removed]",
      "text/plain": [
       "<Figure size 432x288 with 1 Axes>"
      ]
     },
     "metadata": {},
     "output_type": "display_data"
    },
    {
     "data": {
      "image/png": "[encoded data removed]",
      "text/plain": [
       "<Figure size 432x288 with 1 Axes>"
      ]
     },
     "metadata": {},
     "output_type": "display_data"
    }
   ],
   "source": [
    "sns.distplot(train_data['salary_next_year'], fit = norm)\n",
    "\n",
    "#擬合正態分布\n",
    "(mu , sigma) = norm.fit(train_data['salary_next_year'])\n",
    "print('\\n mu = {:.2f} and sigma = {:.2f}\\n'.format(mu, sigma))\n",
    "\n",
    "# 繪圖\n",
    "plt.legend(['Normal dist.($\\mu = ${:.2f} and $\\sigma = ${:.2f})'.format(mu,sigma)],loc = 'best')\n",
    "plt.ylabel('Frequency')\n",
    "plt.title('Salary Next Year distribution')\n",
    "\n",
    "#原始數據分布繪圖\n",
    "fig = plt.figure()\n",
    "res = stats.probplot(train_data['salary_next_year'], plot = plt)\n",
    "plt.show()"
   ]
  },
  {
   "cell_type": "markdown",
   "metadata": {},
   "source": [
    "> 此時的正態分布為嚴重右偏態分布，整體峰值向左偏離，並且偏度(skewness)較大，需要對目標值做log轉換，以恢復目標值的正態性。"
   ]
  },
  {
   "cell_type": "code",
   "execution_count": 754,
   "metadata": {},
   "outputs": [
    {
     "name": "stdout",
     "output_type": "stream",
     "text": [
      "\n",
      " mu = 13.79 and sigma = 1.29\n",
      "\n"
     ]
    },
    {
     "data": {
      "image/png": "[encoded data removed]",
      "text/plain": [
       "<Figure size 432x288 with 1 Axes>"
      ]
     },
     "metadata": {},
     "output_type": "display_data"
    },
    {
     "data": {
      "image/png": "[encoded data removed]",
      "text/plain": [
       "<Figure size 432x288 with 1 Axes>"
      ]
     },
     "metadata": {},
     "output_type": "display_data"
    }
   ],
   "source": [
    "#使用log1p函數完成log(1+x)變換\n",
    "train_data['salary_next_year'] = np.log1p(train_data['salary_next_year'])\n",
    "\n",
    "#查看調整後的分布\n",
    "sns.distplot(train_data['salary_next_year'], fit = norm)\n",
    "\n",
    "# 重新擬合\n",
    "(mu, sigma) = norm.fit(train_data['salary_next_year'])\n",
    "print( '\\n mu = {:.2f} and sigma = {:.2f}\\n'.format(mu, sigma))\n",
    "\n",
    "# 重新繪製正态分布\n",
    "plt.legend(['Normal dist. ($\\mu=$ {:.2f} and $\\sigma=$ {:.2f} )'.format(mu, sigma)],\n",
    "            loc='best')\n",
    "plt.ylabel('Frequency')\n",
    "plt.title('Salary Next Year distribution')\n",
    "\n",
    "# 繪製轉變後的分布\n",
    "fig = plt.figure()\n",
    "res = stats.probplot(train_data['salary_next_year'], plot=plt)\n",
    "plt.show()"
   ]
  },
  {
   "cell_type": "markdown",
   "metadata": {},
   "source": [
    "## BAOpp:對手平均打擊率 缺失39%數據"
   ]
  },
  {
   "cell_type": "code",
   "execution_count": 755,
   "metadata": {},
   "outputs": [
    {
     "data": {
      "image/png": "[encoded data removed]",
      "text/plain": [
       "<Figure size 432x288 with 1 Axes>"
      ]
     },
     "metadata": {},
     "output_type": "display_data"
    }
   ],
   "source": [
    "#繪圖\n",
    "fig, ax = plt.subplots()\n",
    "ax.scatter(x = train_data['BAOpp'], y = train_data['salary_next_year'])\n",
    "plt.ylabel('salary_next_year', fontsize = 13)\n",
    "plt.xlabel('BAOpp', fontsize = 13)\n",
    "plt.show()"
   ]
  },
  {
   "cell_type": "markdown",
   "metadata": {},
   "source": [
    "觀看所有資料的"
   ]
  },
  {
   "cell_type": "code",
   "execution_count": 756,
   "metadata": {},
   "outputs": [],
   "source": [
    "# pairplot of numerical variables\n",
    "#sns.pairplot(data=all_data)"
   ]
  },
  {
   "cell_type": "markdown",
   "metadata": {},
   "source": [
    "# 畫出熱力圖比較特徵間的相關性"
   ]
  },
  {
   "cell_type": "code",
   "execution_count": 757,
   "metadata": {},
   "outputs": [],
   "source": [
    "# Required parameter: dataframe ... the reference pandas dataframe\n",
    "# Optional parameters: title ... (string) chart title\n",
    "#                      file  ... (string) path+filename if you want to save image\n",
    "\n",
    "\n",
    "def half_masked_corr_heatmap(dataframe, title=None, file=None):\n",
    "    plt.figure(figsize=(15,15))\n",
    "    sns.set(font_scale=1)\n",
    "\n",
    "    mask = np.zeros_like(dataframe.corr())\n",
    "    mask[np.triu_indices_from(mask)] = True\n",
    "\n",
    "    with sns.axes_style(\"white\"):\n",
    "        sns.heatmap(dataframe.corr(), mask=mask, annot=True, cmap='coolwarm')\n",
    "\n",
    "    if title: plt.title(f'\\n{title}\\n', fontsize=18)\n",
    "    plt.xlabel('')    # optional in case you want an x-axis label\n",
    "    plt.ylabel('')    # optional in case you want a  y-axis label\n",
    "    if file: plt.savefig(file, bbox_inches='tight')\n",
    "    plt.show();\n",
    "    \n",
    "    return"
   ]
  },
  {
   "cell_type": "code",
   "execution_count": 758,
   "metadata": {},
   "outputs": [
    {
     "data": {
      "image/png": "[encoded data removed]",
      "text/plain": [
       "<Figure size 1080x1080 with 2 Axes>"
      ]
     },
     "metadata": {},
     "output_type": "display_data"
    }
   ],
   "source": [
    "half_masked_corr_heatmap(train_data.drop(['SH','SF','GIDP'],axis = 1))"
   ]
  },
  {
   "cell_type": "code",
   "execution_count": 759,
   "metadata": {},
   "outputs": [],
   "source": [
    "# Required parameters: dataframe ... the reference pandas dataframe\n",
    "#                      target ... (string) column name of the target variable\n",
    "\n",
    "# Optional parameters: title ... (string) chart title\n",
    "#                      file  ... (string) path+filename if you want to save image\n",
    "\n",
    "def corr_to_target(dataframe, target, title=None, file=None):\n",
    "    plt.figure(figsize=(4,6))\n",
    "    sns.set(font_scale=1)\n",
    "    \n",
    "    sns.heatmap(dataframe.corr()[[target]].sort_values(target,\n",
    "                                                ascending=False)[1:],\n",
    "                annot=True,\n",
    "                cmap='coolwarm')\n",
    "    \n",
    "    if title: plt.title(f'\\n{title}\\n', fontsize=18)\n",
    "    plt.xlabel('')    # optional in case you want an x-axis label\n",
    "    plt.ylabel('')    # optional in case you want a  y-axis label\n",
    "    if file: plt.savefig(file, bbox_inches='tight')\n",
    "    plt.show();\n",
    "    \n",
    "    return"
   ]
  },
  {
   "cell_type": "code",
   "execution_count": 760,
   "metadata": {
    "scrolled": false
   },
   "outputs": [
    {
     "data": {
      "image/png": "[encoded data removed]",
      "text/plain": [
       "<Figure size 288x432 with 2 Axes>"
      ]
     },
     "metadata": {},
     "output_type": "display_data"
    }
   ],
   "source": [
    "corr_to_target(train_data.drop(['SH','SF','GIDP'],axis = 1), 'salary_next_year') #可以看到薪資跟年代高度相關，以前的薪水跟現在的薪水不一樣"
   ]
  },
  {
   "cell_type": "markdown",
   "metadata": {},
   "source": [
    "### 觀察YearID與薪資的趨勢"
   ]
  },
  {
   "cell_type": "code",
   "execution_count": 761,
   "metadata": {},
   "outputs": [
    {
     "data": {
      "text/plain": [
       "<matplotlib.axes._subplots.AxesSubplot at 0x1b8e8160a90>"
      ]
     },
     "execution_count": 761,
     "metadata": {},
     "output_type": "execute_result"
    },
    {
     "data": {
      "image/png": "[encoded data removed]",
      "text/plain": [
       "<Figure size 1152x576 with 1 Axes>"
      ]
     },
     "metadata": {},
     "output_type": "display_data"
    }
   ],
   "source": [
    "f, ax = plt.subplots(figsize=(16, 8))\n",
    "sns.lineplot(x='yearID', y='salary_next_year', data=train_data,color = 'red') #可發現從1995年以後薪資是一路成長, 且可以用五年用一個單位"
   ]
  },
  {
   "cell_type": "markdown",
   "metadata": {},
   "source": [
    "### 觀察playID 出現的次數 增加個表現的平均值 等等、同時觀察有無名星球員的可能"
   ]
  },
  {
   "cell_type": "code",
   "execution_count": 762,
   "metadata": {
    "scrolled": true
   },
   "outputs": [
    {
     "data": {
      "text/plain": [
       "moyerja01    22\n",
       "glavito02    19\n",
       "clemero02    18\n",
       "oliveda02    18\n",
       "rogerke01    17\n",
       "batismi01    16\n",
       "rhodear01    16\n",
       "timlimi01    16\n",
       "wellsda01    16\n",
       "stantmi02    16\n",
       "mussimi01    15\n",
       "wagnebi02    15\n",
       "francjo01    15\n",
       "tavarju01    15\n",
       "smoltjo01    15\n",
       "gordoto01    15\n",
       "wakefti01    14\n",
       "jonesto02    14\n",
       "wittbo01     14\n",
       "embreal01    14\n",
       "hernaro01    14\n",
       "brownke01    14\n",
       "swindgr01    14\n",
       "hawkila01    14\n",
       "weathda01    14\n",
       "hoffmtr01    14\n",
       "mulhote01    14\n",
       "guthrma01    14\n",
       "johnsra05    14\n",
       "morgami01    13\n",
       "             ..\n",
       "stoddti01     1\n",
       "fistedo01     1\n",
       "cangejo01     1\n",
       "germafr01     1\n",
       "hansegr01     1\n",
       "brazoyh01     1\n",
       "conveji01     1\n",
       "ishiika01     1\n",
       "chacigu01     1\n",
       "santijo03     1\n",
       "roberwi01     1\n",
       "kellesh01     1\n",
       "niesejo01     1\n",
       "boggsmi01     1\n",
       "mutisje01     1\n",
       "nitkocj01     1\n",
       "runyase01     1\n",
       "jamesch03     1\n",
       "holtobr01     1\n",
       "chambjo03     1\n",
       "bronkje01     1\n",
       "eshelva01     1\n",
       "halldr01      1\n",
       "montgst01     1\n",
       "johnsda04     1\n",
       "howelke01     1\n",
       "lorraan01     1\n",
       "ainswku01     1\n",
       "youngcl01     1\n",
       "robergr01     1\n",
       "Name: playerID, Length: 1246, dtype: int64"
      ]
     },
     "execution_count": 762,
     "metadata": {},
     "output_type": "execute_result"
    }
   ],
   "source": [
    "train_data['playerID'].value_counts() #平均薪資、續約次數"
   ]
  },
  {
   "cell_type": "markdown",
   "metadata": {},
   "source": [
    "### 新增選手出現的次數特徵 (訓練集與測試集分開)"
   ]
  },
  {
   "cell_type": "code",
   "execution_count": 763,
   "metadata": {},
   "outputs": [],
   "source": [
    "train_data['playerID_count'] = train_data.groupby('playerID')['playerID'].transform(lambda x:x.count()) "
   ]
  },
  {
   "cell_type": "code",
   "execution_count": 764,
   "metadata": {},
   "outputs": [],
   "source": [
    "text = len(list(set(train_data['playerID'].values).intersection(set(test_data['playerID'].values))))"
   ]
  },
  {
   "cell_type": "code",
   "execution_count": 765,
   "metadata": {},
   "outputs": [
    {
     "name": "stdout",
     "output_type": "stream",
     "text": [
      "訓練集跟測試集 有703個球員重複\n"
     ]
    }
   ],
   "source": [
    "print('訓練集跟測試集 有{}個球員重複'.format(text))"
   ]
  },
  {
   "cell_type": "code",
   "execution_count": 766,
   "metadata": {},
   "outputs": [],
   "source": [
    "test_data['playerID_count'] = test_data.groupby('playerID')['playerID'].transform(lambda x:x.count()) "
   ]
  },
  {
   "cell_type": "markdown",
   "metadata": {},
   "source": [
    "### 看playerID 平均薪資、續約次數的關係"
   ]
  },
  {
   "cell_type": "code",
   "execution_count": 767,
   "metadata": {},
   "outputs": [
    {
     "data": {
      "image/png": "[encoded data removed]",
      "text/plain": [
       "<Figure size 432x288 with 1 Axes>"
      ]
     },
     "metadata": {},
     "output_type": "display_data"
    }
   ],
   "source": [
    "ax = sns.barplot(x=\"playerID_count\", y=\"salary_next_year\",data=train_data) #打越多場是否越有價值 明星球員的價值"
   ]
  },
  {
   "cell_type": "code",
   "execution_count": 768,
   "metadata": {},
   "outputs": [
    {
     "name": "stdout",
     "output_type": "stream",
     "text": [
      "全部數據集的維度 (7393, 31)\n"
     ]
    }
   ],
   "source": [
    "ntrain = train_data.shape[0] \n",
    "ntest = test_data.shape[0] #方便之後 訓練時資料切割\n",
    "y_train = train_data.salary_next_year.values\n",
    "\n",
    "all_data = pd.concat([train_data,test_data], ignore_index=True)\n",
    "all_data.drop(['salary_next_year'],axis = 1, inplace = True)\n",
    "\n",
    "print(\"全部數據集的維度\",all_data.shape)"
   ]
  },
  {
   "cell_type": "markdown",
   "metadata": {},
   "source": [
    "# 資料前處理\n",
    "\n",
    "1. 異常值處理\n",
    "2. 填補缺失值\n",
    "3. 資料轉換\n",
    "4. 特徵選擇\n",
    "5. 資料拆分"
   ]
  },
  {
   "cell_type": "markdown",
   "metadata": {},
   "source": [
    "### 1. 缺失值處理"
   ]
  },
  {
   "cell_type": "code",
   "execution_count": 769,
   "metadata": {
    "scrolled": true
   },
   "outputs": [
    {
     "data": {
      "text/plain": [
       "Text(0.5,1,'Percent missing data by feature')"
      ]
     },
     "execution_count": 769,
     "metadata": {},
     "output_type": "execute_result"
    },
    {
     "data": {
      "image/png": "[encoded data removed]",
      "text/plain": [
       "<Figure size 1080x864 with 1 Axes>"
      ]
     },
     "metadata": {},
     "output_type": "display_data"
    }
   ],
   "source": [
    "all_data_na = (all_data.isnull().sum()/len(all_data)) * 100\n",
    "all_data_na = all_data_na.drop(all_data_na[all_data_na == 0].index).sort_values(ascending = False)\n",
    "missing_data = pd.DataFrame({'Missing Ratio': all_data_na})\n",
    "\n",
    "f, ax = plt.subplots(figsize = (15,12))\n",
    "plt.xticks(rotation = '90',fontsize = 20)\n",
    "plt.yticks(fontsize = 20)\n",
    "sns.barplot(x = all_data_na.index, y = all_data_na)\n",
    "for a,b in enumerate(all_data_na):\n",
    "    plt.text(a, b, '%.4f' % b, ha='center', va= 'bottom',fontsize=20)\n",
    "plt.xlabel('Features', fontsize = 20)\n",
    "plt.ylabel('Percent of missing values', fontsize = 20)\n",
    "plt.title('Percent missing data by feature', fontsize = 20)"
   ]
  },
  {
   "cell_type": "code",
   "execution_count": 770,
   "metadata": {},
   "outputs": [],
   "source": [
    "all_data.drop(['SH','SF','GIDP'], axis = 1, inplace = True) #刪除掉完全沒有值的資料欄位"
   ]
  },
  {
   "cell_type": "code",
   "execution_count": 771,
   "metadata": {},
   "outputs": [],
   "source": [
    "all_data.fillna(all_data['BAOpp'].mean(),inplace = True)"
   ]
  },
  {
   "cell_type": "code",
   "execution_count": 772,
   "metadata": {
    "scrolled": true
   },
   "outputs": [
    {
     "data": {
      "text/plain": [
       "BAOpp             0\n",
       "BB                0\n",
       "BFP               0\n",
       "BK                0\n",
       "CG                0\n",
       "ER                0\n",
       "ERA               0\n",
       "G                 0\n",
       "GF                0\n",
       "GS                0\n",
       "H                 0\n",
       "HBP               0\n",
       "HR                0\n",
       "IBB               0\n",
       "IPouts            0\n",
       "L                 0\n",
       "R                 0\n",
       "SHO               0\n",
       "SO                0\n",
       "SV                0\n",
       "W                 0\n",
       "WP                0\n",
       "lgID              0\n",
       "playerID          0\n",
       "playerID_count    0\n",
       "stint             0\n",
       "teamID            0\n",
       "yearID            0\n",
       "dtype: int64"
      ]
     },
     "execution_count": 772,
     "metadata": {},
     "output_type": "execute_result"
    }
   ],
   "source": [
    "all_data.isnull().sum() #全部填補完畢"
   ]
  },
  {
   "cell_type": "markdown",
   "metadata": {},
   "source": [
    "###  2. Feature Creation - 依球員playerID 建立平均特徵"
   ]
  },
  {
   "cell_type": "markdown",
   "metadata": {},
   "source": [
    "* W:勝場次\n",
    "* L:敗場次\n",
    "* G:出場次數\n",
    "* GS:球員是先發投手的次數\n",
    "* CG:投手獨力投完全場的比賽次數\n",
    "* SHO:投完整場比賽，且沒有失去任何分數的次數\n",
    "* SV:救援成功次數(投手沒有搞砸球隊優勢)\n",
    "* IPouts:投球局數*3\n",
    "* H:被安打數\n",
    "* ER:自責分\n",
    "* HR:被全壘打數\n",
    "* BB:四壞保送次數\n",
    "* SO:三振次數\n",
    "* BAOpp:對手平均打擊率\n",
    "* ERA:防禦率\n",
    "* IBB:四壞球次數\n",
    "* WB:暴投次數\n",
    "* HBP:觸身球次數\n",
    "* BK:投手犯規次數\n",
    "* BFP:單一投手面臨多少打者\n",
    "* GF:完成比賽之次數(記於最後一任投手上)\n",
    "* R:打擊分數總計"
   ]
  },
  {
   "cell_type": "code",
   "execution_count": 773,
   "metadata": {},
   "outputs": [],
   "source": [
    "column = ['W', 'L', 'G', 'GS','CG', 'SHO', 'SV', 'IPouts', 'H', 'ER', 'HR', 'BB', 'SO', 'BAOpp',\n",
    "       'ERA', 'IBB', 'WP', 'HBP', 'BK', 'BFP', 'GF', 'R']"
   ]
  },
  {
   "cell_type": "code",
   "execution_count": 774,
   "metadata": {},
   "outputs": [],
   "source": [
    "#for x in column:\n",
    "#    all_data[x + '_mean'] = all_data.groupby('playerID')[x].transform(lambda x:x.mean()) \n"
   ]
  },
  {
   "cell_type": "code",
   "execution_count": 775,
   "metadata": {
    "scrolled": true
   },
   "outputs": [
    {
     "data": {
      "text/plain": [
       "(6284, 32)"
      ]
     },
     "execution_count": 775,
     "metadata": {},
     "output_type": "execute_result"
    }
   ],
   "source": [
    "train_data.shape #效果不好"
   ]
  },
  {
   "cell_type": "markdown",
   "metadata": {},
   "source": [
    "### 3. 不符合正態，將其做log轉換"
   ]
  },
  {
   "cell_type": "code",
   "execution_count": 776,
   "metadata": {},
   "outputs": [
    {
     "name": "stdout",
     "output_type": "stream",
     "text": [
      "\n",
      " Skew in numerical features: \n",
      "\n"
     ]
    },
    {
     "data": {
      "text/html": [
       "<div>\n",
       "<style scoped>\n",
       "    .dataframe tbody tr th:only-of-type {\n",
       "        vertical-align: middle;\n",
       "    }\n",
       "\n",
       "    .dataframe tbody tr th {\n",
       "        vertical-align: top;\n",
       "    }\n",
       "\n",
       "    .dataframe thead th {\n",
       "        text-align: right;\n",
       "    }\n",
       "</style>\n",
       "<table border=\"1\" class=\"dataframe\">\n",
       "  <thead>\n",
       "    <tr style=\"text-align: right;\">\n",
       "      <th></th>\n",
       "      <th>Skew</th>\n",
       "    </tr>\n",
       "  </thead>\n",
       "  <tbody>\n",
       "    <tr>\n",
       "      <th>ERA</th>\n",
       "      <td>14.679</td>\n",
       "    </tr>\n",
       "    <tr>\n",
       "      <th>stint</th>\n",
       "      <td>13.659</td>\n",
       "    </tr>\n",
       "    <tr>\n",
       "      <th>BK</th>\n",
       "      <td>3.700</td>\n",
       "    </tr>\n",
       "    <tr>\n",
       "      <th>SHO</th>\n",
       "      <td>3.662</td>\n",
       "    </tr>\n",
       "    <tr>\n",
       "      <th>CG</th>\n",
       "      <td>3.253</td>\n",
       "    </tr>\n",
       "  </tbody>\n",
       "</table>\n",
       "</div>"
      ],
      "text/plain": [
       "        Skew\n",
       "ERA   14.679\n",
       "stint 13.659\n",
       "BK     3.700\n",
       "SHO    3.662\n",
       "CG     3.253"
      ]
     },
     "execution_count": 776,
     "metadata": {},
     "output_type": "execute_result"
    }
   ],
   "source": [
    "log_data = all_data.drop(['teamID','yearID'],axis = 1)\n",
    "numeric_feats = log_data.dtypes[log_data.dtypes != 'object'].index\n",
    "\n",
    "#對所有數執行特徵進行skew計算偏度\n",
    "skewed_feats = log_data[numeric_feats].apply(lambda x: skew(x.dropna())).sort_values(ascending = False)\n",
    "print('\\n Skew in numerical features: \\n')\n",
    "skewness = pd.DataFrame({'Skew': skewed_feats})\n",
    "skewness.head()"
   ]
  },
  {
   "cell_type": "code",
   "execution_count": 777,
   "metadata": {},
   "outputs": [
    {
     "name": "stdout",
     "output_type": "stream",
     "text": [
      "總共有24數值型的特徵做轉換\n"
     ]
    }
   ],
   "source": [
    "skewness = skewness[abs(skewness)>0.75]\n",
    "print('總共有{}數值型的特徵做轉換'.format(skewness.shape[0]))\n",
    "\n",
    "from scipy.special import boxcox1p\n",
    "skewed_features = skewness.index\n",
    "lam = 0.15\n",
    "for feat in skewed_features:\n",
    "    all_data[feat] = boxcox1p(all_data[feat],lam)"
   ]
  },
  {
   "cell_type": "markdown",
   "metadata": {},
   "source": [
    "### 4. one-hotencoding "
   ]
  },
  {
   "cell_type": "markdown",
   "metadata": {},
   "source": [
    "#### 年份對下年薪資高度相關，因此對年份進行分桶"
   ]
  },
  {
   "cell_type": "code",
   "execution_count": 778,
   "metadata": {
    "scrolled": true
   },
   "outputs": [],
   "source": [
    "bin=[1984,1990,1995,2000,2005,2010,2013]\n",
    "all_data['yearID'] = pd.cut(all_data['yearID'],bin)"
   ]
  },
  {
   "cell_type": "code",
   "execution_count": 779,
   "metadata": {},
   "outputs": [],
   "source": [
    "yearID = pd.get_dummies(all_data['yearID'],prefix= 'year')#做one-hotecoding\n",
    "all_data = pd.concat([all_data,yearID],axis=1, join_axes=[all_data.index])\n",
    "all_data.drop(['yearID'],axis = 1,inplace = True)"
   ]
  },
  {
   "cell_type": "markdown",
   "metadata": {},
   "source": [
    "#### 對teamID做one-hotencoding"
   ]
  },
  {
   "cell_type": "code",
   "execution_count": 780,
   "metadata": {
    "scrolled": true
   },
   "outputs": [
    {
     "data": {
      "text/plain": [
       "PIT    286\n",
       "TOR    283\n",
       "SLN    277\n",
       "CHN    272\n",
       "NYA    271\n",
       "SDN    269\n",
       "SFN    269\n",
       "NYN    269\n",
       "OAK    269\n",
       "LAN    268\n",
       "PHI    266\n",
       "CLE    264\n",
       "CHA    263\n",
       "BOS    262\n",
       "ATL    261\n",
       "CIN    254\n",
       "TEX    251\n",
       "MIN    249\n",
       "DET    244\n",
       "SEA    241\n",
       "HOU    238\n",
       "BAL    237\n",
       "KCA    223\n",
       "FLO    203\n",
       "COL    201\n",
       "MON    193\n",
       "ARI    128\n",
       "TBA    126\n",
       "MIL    120\n",
       "CAL    120\n",
       "ML4    107\n",
       "ANA     89\n",
       "LAA     72\n",
       "WAS     48\n",
       "Name: teamID, dtype: int64"
      ]
     },
     "execution_count": 780,
     "metadata": {},
     "output_type": "execute_result"
    }
   ],
   "source": [
    "all_data['teamID'].value_counts() #分布平均"
   ]
  },
  {
   "cell_type": "code",
   "execution_count": 781,
   "metadata": {
    "scrolled": true
   },
   "outputs": [],
   "source": [
    "teamID = pd.get_dummies(all_data['teamID'],prefix= 'team_')#做one-hotecoding\n",
    "all_data = pd.concat([all_data,teamID],axis=1, join_axes=[all_data.index])\n",
    "all_data.drop(['teamID'],axis = 1,inplace = True)"
   ]
  },
  {
   "cell_type": "markdown",
   "metadata": {},
   "source": [
    "#### 對lgID做one-hotencoding"
   ]
  },
  {
   "cell_type": "code",
   "execution_count": 782,
   "metadata": {},
   "outputs": [
    {
     "data": {
      "text/plain": [
       "NL    3822\n",
       "AL    3571\n",
       "Name: lgID, dtype: int64"
      ]
     },
     "execution_count": 782,
     "metadata": {},
     "output_type": "execute_result"
    }
   ],
   "source": [
    "all_data['lgID'].value_counts() #分布平均"
   ]
  },
  {
   "cell_type": "code",
   "execution_count": 783,
   "metadata": {},
   "outputs": [],
   "source": [
    "lgID = pd.get_dummies(all_data['lgID'],prefix= 'lgID_')#做one-hotecoding\n",
    "all_data = pd.concat([all_data,lgID],axis=1, join_axes=[all_data.index])\n",
    "all_data.drop(['lgID'],axis = 1,inplace = True)"
   ]
  },
  {
   "cell_type": "markdown",
   "metadata": {},
   "source": [
    "#### 建立WHIP指標  參考資料 https://www.sportsv.net/articles/10241\n",
    "\n",
    "> 算法是保送(BB)+安打(H)/局數(IP)"
   ]
  },
  {
   "cell_type": "code",
   "execution_count": 784,
   "metadata": {},
   "outputs": [],
   "source": [
    "all_data['WHIP'] = (all_data.BB + all_data.H)/ all_data.IPouts"
   ]
  },
  {
   "cell_type": "markdown",
   "metadata": {},
   "source": [
    "#### 建立FIP指標\n",
    ">FIP的公式是：(全壘打(HR)×13+(四壞(BB)+觸身球(HBP))×3-三振(SO)×2/IP)+常數。"
   ]
  },
  {
   "cell_type": "code",
   "execution_count": 785,
   "metadata": {},
   "outputs": [],
   "source": [
    "all_data['FIP'] = (all_data.HR * 13 + (all_data.BB + all_data.HBP) *3 - all_data.SO * (2/all_data.IPouts)) + 3.2"
   ]
  },
  {
   "cell_type": "markdown",
   "metadata": {},
   "source": [
    "### 5. 獲得新的訓練與測試集。至此，特徵工程處理完畢。"
   ]
  },
  {
   "cell_type": "code",
   "execution_count": 786,
   "metadata": {},
   "outputs": [],
   "source": [
    "all_data.drop(['playerID', 'stint'],axis = 1,inplace = True) #暫時先刪除 太稀疏的特徵"
   ]
  },
  {
   "cell_type": "code",
   "execution_count": 787,
   "metadata": {},
   "outputs": [
    {
     "data": {
      "text/plain": [
       "Index(['BAOpp', 'BB', 'BFP', 'BK', 'CG', 'ER', 'ERA', 'G', 'GF', 'GS', 'H',\n",
       "       'HBP', 'HR', 'IBB', 'IPouts', 'L', 'R', 'SHO', 'SO', 'SV', 'W', 'WP',\n",
       "       'playerID_count', 'yearID', 'year_(1984, 1990]', 'year_(1990, 1995]',\n",
       "       'year_(1995, 2000]', 'year_(2000, 2005]', 'year_(2005, 2010]',\n",
       "       'year_(2010, 2013]', 'team__ANA', 'team__ARI', 'team__ATL', 'team__BAL',\n",
       "       'team__BOS', 'team__CAL', 'team__CHA', 'team__CHN', 'team__CIN',\n",
       "       'team__CLE', 'team__COL', 'team__DET', 'team__FLO', 'team__HOU',\n",
       "       'team__KCA', 'team__LAA', 'team__LAN', 'team__MIL', 'team__MIN',\n",
       "       'team__ML4', 'team__MON', 'team__NYA', 'team__NYN', 'team__OAK',\n",
       "       'team__PHI', 'team__PIT', 'team__SDN', 'team__SEA', 'team__SFN',\n",
       "       'team__SLN', 'team__TBA', 'team__TEX', 'team__TOR', 'team__WAS',\n",
       "       'lgID__AL', 'lgID__NL', 'WHIP', 'FIP'],\n",
       "      dtype='object')"
      ]
     },
     "execution_count": 787,
     "metadata": {},
     "output_type": "execute_result"
    }
   ],
   "source": [
    "all_data.columns"
   ]
  },
  {
   "cell_type": "code",
   "execution_count": 788,
   "metadata": {},
   "outputs": [
    {
     "data": {
      "text/html": [
       "<div>\n",
       "<style scoped>\n",
       "    .dataframe tbody tr th:only-of-type {\n",
       "        vertical-align: middle;\n",
       "    }\n",
       "\n",
       "    .dataframe tbody tr th {\n",
       "        vertical-align: top;\n",
       "    }\n",
       "\n",
       "    .dataframe thead th {\n",
       "        text-align: right;\n",
       "    }\n",
       "</style>\n",
       "<table border=\"1\" class=\"dataframe\">\n",
       "  <thead>\n",
       "    <tr style=\"text-align: right;\">\n",
       "      <th></th>\n",
       "      <th>BAOpp</th>\n",
       "      <th>BB</th>\n",
       "      <th>BFP</th>\n",
       "      <th>BK</th>\n",
       "      <th>CG</th>\n",
       "      <th>ER</th>\n",
       "      <th>ERA</th>\n",
       "      <th>G</th>\n",
       "      <th>GF</th>\n",
       "      <th>GS</th>\n",
       "      <th>...</th>\n",
       "      <th>team__SFN</th>\n",
       "      <th>team__SLN</th>\n",
       "      <th>team__TBA</th>\n",
       "      <th>team__TEX</th>\n",
       "      <th>team__TOR</th>\n",
       "      <th>team__WAS</th>\n",
       "      <th>lgID__AL</th>\n",
       "      <th>lgID__NL</th>\n",
       "      <th>WHIP</th>\n",
       "      <th>FIP</th>\n",
       "    </tr>\n",
       "  </thead>\n",
       "  <tbody>\n",
       "    <tr>\n",
       "      <th>count</th>\n",
       "      <td>7393.000</td>\n",
       "      <td>7393.000</td>\n",
       "      <td>7393.000</td>\n",
       "      <td>7393.000</td>\n",
       "      <td>7393.000</td>\n",
       "      <td>7393.000</td>\n",
       "      <td>7393.000</td>\n",
       "      <td>7393.000</td>\n",
       "      <td>7393.000</td>\n",
       "      <td>7393.000</td>\n",
       "      <td>...</td>\n",
       "      <td>7393.000</td>\n",
       "      <td>7393.000</td>\n",
       "      <td>7393.000</td>\n",
       "      <td>7393.000</td>\n",
       "      <td>7393.000</td>\n",
       "      <td>7393.000</td>\n",
       "      <td>7393.000</td>\n",
       "      <td>7393.000</td>\n",
       "      <td>7393.000</td>\n",
       "      <td>7393.000</td>\n",
       "    </tr>\n",
       "    <tr>\n",
       "      <th>mean</th>\n",
       "      <td>0.198</td>\n",
       "      <td>4.542</td>\n",
       "      <td>9.462</td>\n",
       "      <td>0.338</td>\n",
       "      <td>0.437</td>\n",
       "      <td>4.873</td>\n",
       "      <td>1.848</td>\n",
       "      <td>4.600</td>\n",
       "      <td>1.857</td>\n",
       "      <td>2.150</td>\n",
       "      <td>...</td>\n",
       "      <td>0.036</td>\n",
       "      <td>0.037</td>\n",
       "      <td>0.017</td>\n",
       "      <td>0.034</td>\n",
       "      <td>0.038</td>\n",
       "      <td>0.006</td>\n",
       "      <td>0.483</td>\n",
       "      <td>0.517</td>\n",
       "      <td>1.249</td>\n",
       "      <td>54.768</td>\n",
       "    </tr>\n",
       "    <tr>\n",
       "      <th>std</th>\n",
       "      <td>0.067</td>\n",
       "      <td>1.209</td>\n",
       "      <td>1.926</td>\n",
       "      <td>0.536</td>\n",
       "      <td>0.743</td>\n",
       "      <td>1.349</td>\n",
       "      <td>0.404</td>\n",
       "      <td>1.057</td>\n",
       "      <td>1.848</td>\n",
       "      <td>2.010</td>\n",
       "      <td>...</td>\n",
       "      <td>0.187</td>\n",
       "      <td>0.190</td>\n",
       "      <td>0.129</td>\n",
       "      <td>0.181</td>\n",
       "      <td>0.192</td>\n",
       "      <td>0.080</td>\n",
       "      <td>0.500</td>\n",
       "      <td>0.500</td>\n",
       "      <td>0.110</td>\n",
       "      <td>18.822</td>\n",
       "    </tr>\n",
       "    <tr>\n",
       "      <th>min</th>\n",
       "      <td>0.000</td>\n",
       "      <td>0.000</td>\n",
       "      <td>0.730</td>\n",
       "      <td>0.000</td>\n",
       "      <td>0.000</td>\n",
       "      <td>0.000</td>\n",
       "      <td>0.000</td>\n",
       "      <td>0.730</td>\n",
       "      <td>0.000</td>\n",
       "      <td>0.000</td>\n",
       "      <td>...</td>\n",
       "      <td>0.000</td>\n",
       "      <td>0.000</td>\n",
       "      <td>0.000</td>\n",
       "      <td>0.000</td>\n",
       "      <td>0.000</td>\n",
       "      <td>0.000</td>\n",
       "      <td>0.000</td>\n",
       "      <td>0.000</td>\n",
       "      <td>0.000</td>\n",
       "      <td>1.650</td>\n",
       "    </tr>\n",
       "    <tr>\n",
       "      <th>25%</th>\n",
       "      <td>0.199</td>\n",
       "      <td>3.859</td>\n",
       "      <td>8.395</td>\n",
       "      <td>0.000</td>\n",
       "      <td>0.000</td>\n",
       "      <td>3.933</td>\n",
       "      <td>1.622</td>\n",
       "      <td>4.138</td>\n",
       "      <td>0.000</td>\n",
       "      <td>0.000</td>\n",
       "      <td>...</td>\n",
       "      <td>0.000</td>\n",
       "      <td>0.000</td>\n",
       "      <td>0.000</td>\n",
       "      <td>0.000</td>\n",
       "      <td>0.000</td>\n",
       "      <td>0.000</td>\n",
       "      <td>0.000</td>\n",
       "      <td>0.000</td>\n",
       "      <td>1.205</td>\n",
       "      <td>41.834</td>\n",
       "    </tr>\n",
       "    <tr>\n",
       "      <th>50%</th>\n",
       "      <td>0.199</td>\n",
       "      <td>4.597</td>\n",
       "      <td>9.385</td>\n",
       "      <td>0.000</td>\n",
       "      <td>0.000</td>\n",
       "      <td>4.838</td>\n",
       "      <td>1.836</td>\n",
       "      <td>4.648</td>\n",
       "      <td>1.541</td>\n",
       "      <td>2.260</td>\n",
       "      <td>...</td>\n",
       "      <td>0.000</td>\n",
       "      <td>0.000</td>\n",
       "      <td>0.000</td>\n",
       "      <td>0.000</td>\n",
       "      <td>0.000</td>\n",
       "      <td>0.000</td>\n",
       "      <td>0.000</td>\n",
       "      <td>1.000</td>\n",
       "      <td>1.263</td>\n",
       "      <td>54.296</td>\n",
       "    </tr>\n",
       "    <tr>\n",
       "      <th>75%</th>\n",
       "      <td>0.227</td>\n",
       "      <td>5.461</td>\n",
       "      <td>11.219</td>\n",
       "      <td>0.730</td>\n",
       "      <td>0.730</td>\n",
       "      <td>6.099</td>\n",
       "      <td>2.045</td>\n",
       "      <td>5.427</td>\n",
       "      <td>3.341</td>\n",
       "      <td>4.323</td>\n",
       "      <td>...</td>\n",
       "      <td>0.000</td>\n",
       "      <td>0.000</td>\n",
       "      <td>0.000</td>\n",
       "      <td>0.000</td>\n",
       "      <td>0.000</td>\n",
       "      <td>0.000</td>\n",
       "      <td>1.000</td>\n",
       "      <td>1.000</td>\n",
       "      <td>1.310</td>\n",
       "      <td>70.808</td>\n",
       "    </tr>\n",
       "    <tr>\n",
       "      <th>max</th>\n",
       "      <td>0.527</td>\n",
       "      <td>7.511</td>\n",
       "      <td>12.541</td>\n",
       "      <td>3.530</td>\n",
       "      <td>3.859</td>\n",
       "      <td>7.412</td>\n",
       "      <td>6.808</td>\n",
       "      <td>6.533</td>\n",
       "      <td>6.197</td>\n",
       "      <td>4.927</td>\n",
       "      <td>...</td>\n",
       "      <td>1.000</td>\n",
       "      <td>1.000</td>\n",
       "      <td>1.000</td>\n",
       "      <td>1.000</td>\n",
       "      <td>1.000</td>\n",
       "      <td>1.000</td>\n",
       "      <td>1.000</td>\n",
       "      <td>1.000</td>\n",
       "      <td>3.745</td>\n",
       "      <td>97.815</td>\n",
       "    </tr>\n",
       "  </tbody>\n",
       "</table>\n",
       "<p>8 rows × 67 columns</p>\n",
       "</div>"
      ],
      "text/plain": [
       "         BAOpp       BB      BFP       BK       CG       ER      ERA        G  \\\n",
       "count 7393.000 7393.000 7393.000 7393.000 7393.000 7393.000 7393.000 7393.000   \n",
       "mean     0.198    4.542    9.462    0.338    0.437    4.873    1.848    4.600   \n",
       "std      0.067    1.209    1.926    0.536    0.743    1.349    0.404    1.057   \n",
       "min      0.000    0.000    0.730    0.000    0.000    0.000    0.000    0.730   \n",
       "25%      0.199    3.859    8.395    0.000    0.000    3.933    1.622    4.138   \n",
       "50%      0.199    4.597    9.385    0.000    0.000    4.838    1.836    4.648   \n",
       "75%      0.227    5.461   11.219    0.730    0.730    6.099    2.045    5.427   \n",
       "max      0.527    7.511   12.541    3.530    3.859    7.412    6.808    6.533   \n",
       "\n",
       "            GF       GS   ...     team__SFN  team__SLN  team__TBA  team__TEX  \\\n",
       "count 7393.000 7393.000   ...      7393.000   7393.000   7393.000   7393.000   \n",
       "mean     1.857    2.150   ...         0.036      0.037      0.017      0.034   \n",
       "std      1.848    2.010   ...         0.187      0.190      0.129      0.181   \n",
       "min      0.000    0.000   ...         0.000      0.000      0.000      0.000   \n",
       "25%      0.000    0.000   ...         0.000      0.000      0.000      0.000   \n",
       "50%      1.541    2.260   ...         0.000      0.000      0.000      0.000   \n",
       "75%      3.341    4.323   ...         0.000      0.000      0.000      0.000   \n",
       "max      6.197    4.927   ...         1.000      1.000      1.000      1.000   \n",
       "\n",
       "       team__TOR  team__WAS  lgID__AL  lgID__NL     WHIP      FIP  \n",
       "count   7393.000   7393.000  7393.000  7393.000 7393.000 7393.000  \n",
       "mean       0.038      0.006     0.483     0.517    1.249   54.768  \n",
       "std        0.192      0.080     0.500     0.500    0.110   18.822  \n",
       "min        0.000      0.000     0.000     0.000    0.000    1.650  \n",
       "25%        0.000      0.000     0.000     0.000    1.205   41.834  \n",
       "50%        0.000      0.000     0.000     1.000    1.263   54.296  \n",
       "75%        0.000      0.000     1.000     1.000    1.310   70.808  \n",
       "max        1.000      1.000     1.000     1.000    3.745   97.815  \n",
       "\n",
       "[8 rows x 67 columns]"
      ]
     },
     "execution_count": 788,
     "metadata": {},
     "output_type": "execute_result"
    }
   ],
   "source": [
    "all_data.describe()"
   ]
  },
  {
   "cell_type": "code",
   "execution_count": 789,
   "metadata": {},
   "outputs": [],
   "source": [
    "train = all_data[:ntrain]\n",
    "test = all_data[ntrain:]"
   ]
  },
  {
   "cell_type": "markdown",
   "metadata": {},
   "source": [
    "# 模型訓練"
   ]
  },
  {
   "cell_type": "code",
   "execution_count": 790,
   "metadata": {},
   "outputs": [],
   "source": [
    "from sklearn.linear_model import ElasticNet, Lasso, BayesianRidge, LassoLarsIC\n",
    "from sklearn.ensemble import RandomForestRegressor, GradientBoostingRegressor\n",
    "from sklearn.kernel_ridge import KernelRidge\n",
    "from sklearn.pipeline import make_pipeline\n",
    "from sklearn.preprocessing import RobustScaler\n",
    "from sklearn.base import BaseEstimator, TransformerMixin, RegressorMixin, clone\n",
    "from sklearn.model_selection import KFold, cross_val_score, train_test_split\n",
    "from sklearn.metrics import mean_absolute_error\n",
    "import xgboost as xgb\n",
    "import lightgbm as lgb"
   ]
  },
  {
   "cell_type": "code",
   "execution_count": 791,
   "metadata": {},
   "outputs": [],
   "source": [
    "#交叉驗證數\n",
    "n_folds = 5\n",
    "\n",
    "def mae_cv(model):\n",
    "    kf = KFold(n_folds, shuffle=True, random_state=42).get_n_splits(train.values)\n",
    "    mae= np.sqrt(-cross_val_score(model, train.values, y_train, scoring='neg_median_absolute_error'\n",
    "                                   , cv = kf))\n",
    "    return(mae)\n",
    "\n",
    "# def rmse(y, y_pred):\n",
    "#     return np.sqrt(mean_squared_error(np.log(y), y_pred)))"
   ]
  },
  {
   "cell_type": "code",
   "execution_count": 792,
   "metadata": {},
   "outputs": [],
   "source": [
    "model_xgb = xgb.XGBRegressor(colsample_bytree=0.4603, gamma=0.0468, \n",
    "                             learning_rate=0.05, max_depth=3, \n",
    "                             min_child_weight=1.7817, n_estimators=2200,\n",
    "                             reg_alpha=0.4640, reg_lambda=0.8571,\n",
    "                             subsample=0.5213, silent=1,\n",
    "                             random_state =7, nthread = -1)"
   ]
  },
  {
   "cell_type": "code",
   "execution_count": 793,
   "metadata": {},
   "outputs": [
    {
     "ename": "TypeError",
     "evalue": "float() argument must be a string or a number, not 'pandas._libs.interval.Interval'",
     "output_type": "error",
     "traceback": [
      "\u001b[1;31m---------------------------------------------------------------------------\u001b[0m",
      "\u001b[1;31mTypeError\u001b[0m                                 Traceback (most recent call last)",
      "\u001b[1;32m<ipython-input-793-376b1a4f84a6>\u001b[0m in \u001b[0;36m<module>\u001b[1;34m\u001b[0m\n\u001b[1;32m----> 1\u001b[1;33m \u001b[0mscore\u001b[0m \u001b[1;33m=\u001b[0m \u001b[0mmae_cv\u001b[0m\u001b[1;33m(\u001b[0m\u001b[0mmodel_xgb\u001b[0m\u001b[1;33m)\u001b[0m\u001b[1;33m\u001b[0m\u001b[1;33m\u001b[0m\u001b[0m\n\u001b[0m\u001b[0;32m      2\u001b[0m \u001b[0mprint\u001b[0m\u001b[1;33m(\u001b[0m\u001b[1;34m\"Xgboost 得分: {:.4f} ({:.4f})\\n\"\u001b[0m\u001b[1;33m.\u001b[0m\u001b[0mformat\u001b[0m\u001b[1;33m(\u001b[0m\u001b[0mscore\u001b[0m\u001b[1;33m.\u001b[0m\u001b[0mmean\u001b[0m\u001b[1;33m(\u001b[0m\u001b[1;33m)\u001b[0m\u001b[1;33m,\u001b[0m \u001b[0mscore\u001b[0m\u001b[1;33m.\u001b[0m\u001b[0mstd\u001b[0m\u001b[1;33m(\u001b[0m\u001b[1;33m)\u001b[0m\u001b[1;33m)\u001b[0m\u001b[1;33m)\u001b[0m\u001b[1;33m\u001b[0m\u001b[1;33m\u001b[0m\u001b[0m\n",
      "\u001b[1;32m<ipython-input-791-feff3918a0e0>\u001b[0m in \u001b[0;36mmae_cv\u001b[1;34m(model)\u001b[0m\n\u001b[0;32m      5\u001b[0m     \u001b[0mkf\u001b[0m \u001b[1;33m=\u001b[0m \u001b[0mKFold\u001b[0m\u001b[1;33m(\u001b[0m\u001b[0mn_folds\u001b[0m\u001b[1;33m,\u001b[0m \u001b[0mshuffle\u001b[0m\u001b[1;33m=\u001b[0m\u001b[1;32mTrue\u001b[0m\u001b[1;33m,\u001b[0m \u001b[0mrandom_state\u001b[0m\u001b[1;33m=\u001b[0m\u001b[1;36m42\u001b[0m\u001b[1;33m)\u001b[0m\u001b[1;33m.\u001b[0m\u001b[0mget_n_splits\u001b[0m\u001b[1;33m(\u001b[0m\u001b[0mtrain\u001b[0m\u001b[1;33m.\u001b[0m\u001b[0mvalues\u001b[0m\u001b[1;33m)\u001b[0m\u001b[1;33m\u001b[0m\u001b[1;33m\u001b[0m\u001b[0m\n\u001b[0;32m      6\u001b[0m     mae= np.sqrt(-cross_val_score(model, train.values, y_train, scoring='neg_median_absolute_error'\n\u001b[1;32m----> 7\u001b[1;33m                                    , cv = kf))\n\u001b[0m\u001b[0;32m      8\u001b[0m     \u001b[1;32mreturn\u001b[0m\u001b[1;33m(\u001b[0m\u001b[0mmae\u001b[0m\u001b[1;33m)\u001b[0m\u001b[1;33m\u001b[0m\u001b[1;33m\u001b[0m\u001b[0m\n\u001b[0;32m      9\u001b[0m \u001b[1;33m\u001b[0m\u001b[0m\n",
      "\u001b[1;32mC:\\ProgramData\\Anaconda3\\lib\\site-packages\\sklearn\\model_selection\\_validation.py\u001b[0m in \u001b[0;36mcross_val_score\u001b[1;34m(estimator, X, y, groups, scoring, cv, n_jobs, verbose, fit_params, pre_dispatch, error_score)\u001b[0m\n\u001b[0;32m    400\u001b[0m                                 \u001b[0mfit_params\u001b[0m\u001b[1;33m=\u001b[0m\u001b[0mfit_params\u001b[0m\u001b[1;33m,\u001b[0m\u001b[1;33m\u001b[0m\u001b[1;33m\u001b[0m\u001b[0m\n\u001b[0;32m    401\u001b[0m                                 \u001b[0mpre_dispatch\u001b[0m\u001b[1;33m=\u001b[0m\u001b[0mpre_dispatch\u001b[0m\u001b[1;33m,\u001b[0m\u001b[1;33m\u001b[0m\u001b[1;33m\u001b[0m\u001b[0m\n\u001b[1;32m--> 402\u001b[1;33m                                 error_score=error_score)\n\u001b[0m\u001b[0;32m    403\u001b[0m     \u001b[1;32mreturn\u001b[0m \u001b[0mcv_results\u001b[0m\u001b[1;33m[\u001b[0m\u001b[1;34m'test_score'\u001b[0m\u001b[1;33m]\u001b[0m\u001b[1;33m\u001b[0m\u001b[1;33m\u001b[0m\u001b[0m\n\u001b[0;32m    404\u001b[0m \u001b[1;33m\u001b[0m\u001b[0m\n",
      "\u001b[1;32mC:\\ProgramData\\Anaconda3\\lib\\site-packages\\sklearn\\model_selection\\_validation.py\u001b[0m in \u001b[0;36mcross_validate\u001b[1;34m(estimator, X, y, groups, scoring, cv, n_jobs, verbose, fit_params, pre_dispatch, return_train_score, return_estimator, error_score)\u001b[0m\n\u001b[0;32m    238\u001b[0m             \u001b[0mreturn_times\u001b[0m\u001b[1;33m=\u001b[0m\u001b[1;32mTrue\u001b[0m\u001b[1;33m,\u001b[0m \u001b[0mreturn_estimator\u001b[0m\u001b[1;33m=\u001b[0m\u001b[0mreturn_estimator\u001b[0m\u001b[1;33m,\u001b[0m\u001b[1;33m\u001b[0m\u001b[1;33m\u001b[0m\u001b[0m\n\u001b[0;32m    239\u001b[0m             error_score=error_score)\n\u001b[1;32m--> 240\u001b[1;33m         for train, test in cv.split(X, y, groups))\n\u001b[0m\u001b[0;32m    241\u001b[0m \u001b[1;33m\u001b[0m\u001b[0m\n\u001b[0;32m    242\u001b[0m     \u001b[0mzipped_scores\u001b[0m \u001b[1;33m=\u001b[0m \u001b[0mlist\u001b[0m\u001b[1;33m(\u001b[0m\u001b[0mzip\u001b[0m\u001b[1;33m(\u001b[0m\u001b[1;33m*\u001b[0m\u001b[0mscores\u001b[0m\u001b[1;33m)\u001b[0m\u001b[1;33m)\u001b[0m\u001b[1;33m\u001b[0m\u001b[1;33m\u001b[0m\u001b[0m\n",
      "\u001b[1;32mC:\\ProgramData\\Anaconda3\\lib\\site-packages\\sklearn\\externals\\joblib\\parallel.py\u001b[0m in \u001b[0;36m__call__\u001b[1;34m(self, iterable)\u001b[0m\n\u001b[0;32m    915\u001b[0m             \u001b[1;31m# remaining jobs.\u001b[0m\u001b[1;33m\u001b[0m\u001b[1;33m\u001b[0m\u001b[1;33m\u001b[0m\u001b[0m\n\u001b[0;32m    916\u001b[0m             \u001b[0mself\u001b[0m\u001b[1;33m.\u001b[0m\u001b[0m_iterating\u001b[0m \u001b[1;33m=\u001b[0m \u001b[1;32mFalse\u001b[0m\u001b[1;33m\u001b[0m\u001b[1;33m\u001b[0m\u001b[0m\n\u001b[1;32m--> 917\u001b[1;33m             \u001b[1;32mif\u001b[0m \u001b[0mself\u001b[0m\u001b[1;33m.\u001b[0m\u001b[0mdispatch_one_batch\u001b[0m\u001b[1;33m(\u001b[0m\u001b[0miterator\u001b[0m\u001b[1;33m)\u001b[0m\u001b[1;33m:\u001b[0m\u001b[1;33m\u001b[0m\u001b[1;33m\u001b[0m\u001b[0m\n\u001b[0m\u001b[0;32m    918\u001b[0m                 \u001b[0mself\u001b[0m\u001b[1;33m.\u001b[0m\u001b[0m_iterating\u001b[0m \u001b[1;33m=\u001b[0m \u001b[0mself\u001b[0m\u001b[1;33m.\u001b[0m\u001b[0m_original_iterator\u001b[0m \u001b[1;32mis\u001b[0m \u001b[1;32mnot\u001b[0m \u001b[1;32mNone\u001b[0m\u001b[1;33m\u001b[0m\u001b[1;33m\u001b[0m\u001b[0m\n\u001b[0;32m    919\u001b[0m \u001b[1;33m\u001b[0m\u001b[0m\n",
      "\u001b[1;32mC:\\ProgramData\\Anaconda3\\lib\\site-packages\\sklearn\\externals\\joblib\\parallel.py\u001b[0m in \u001b[0;36mdispatch_one_batch\u001b[1;34m(self, iterator)\u001b[0m\n\u001b[0;32m    757\u001b[0m                 \u001b[1;32mreturn\u001b[0m \u001b[1;32mFalse\u001b[0m\u001b[1;33m\u001b[0m\u001b[1;33m\u001b[0m\u001b[0m\n\u001b[0;32m    758\u001b[0m             \u001b[1;32melse\u001b[0m\u001b[1;33m:\u001b[0m\u001b[1;33m\u001b[0m\u001b[1;33m\u001b[0m\u001b[0m\n\u001b[1;32m--> 759\u001b[1;33m                 \u001b[0mself\u001b[0m\u001b[1;33m.\u001b[0m\u001b[0m_dispatch\u001b[0m\u001b[1;33m(\u001b[0m\u001b[0mtasks\u001b[0m\u001b[1;33m)\u001b[0m\u001b[1;33m\u001b[0m\u001b[1;33m\u001b[0m\u001b[0m\n\u001b[0m\u001b[0;32m    760\u001b[0m                 \u001b[1;32mreturn\u001b[0m \u001b[1;32mTrue\u001b[0m\u001b[1;33m\u001b[0m\u001b[1;33m\u001b[0m\u001b[0m\n\u001b[0;32m    761\u001b[0m \u001b[1;33m\u001b[0m\u001b[0m\n",
      "\u001b[1;32mC:\\ProgramData\\Anaconda3\\lib\\site-packages\\sklearn\\externals\\joblib\\parallel.py\u001b[0m in \u001b[0;36m_dispatch\u001b[1;34m(self, batch)\u001b[0m\n\u001b[0;32m    714\u001b[0m         \u001b[1;32mwith\u001b[0m \u001b[0mself\u001b[0m\u001b[1;33m.\u001b[0m\u001b[0m_lock\u001b[0m\u001b[1;33m:\u001b[0m\u001b[1;33m\u001b[0m\u001b[1;33m\u001b[0m\u001b[0m\n\u001b[0;32m    715\u001b[0m             \u001b[0mjob_idx\u001b[0m \u001b[1;33m=\u001b[0m \u001b[0mlen\u001b[0m\u001b[1;33m(\u001b[0m\u001b[0mself\u001b[0m\u001b[1;33m.\u001b[0m\u001b[0m_jobs\u001b[0m\u001b[1;33m)\u001b[0m\u001b[1;33m\u001b[0m\u001b[1;33m\u001b[0m\u001b[0m\n\u001b[1;32m--> 716\u001b[1;33m             \u001b[0mjob\u001b[0m \u001b[1;33m=\u001b[0m \u001b[0mself\u001b[0m\u001b[1;33m.\u001b[0m\u001b[0m_backend\u001b[0m\u001b[1;33m.\u001b[0m\u001b[0mapply_async\u001b[0m\u001b[1;33m(\u001b[0m\u001b[0mbatch\u001b[0m\u001b[1;33m,\u001b[0m \u001b[0mcallback\u001b[0m\u001b[1;33m=\u001b[0m\u001b[0mcb\u001b[0m\u001b[1;33m)\u001b[0m\u001b[1;33m\u001b[0m\u001b[1;33m\u001b[0m\u001b[0m\n\u001b[0m\u001b[0;32m    717\u001b[0m             \u001b[1;31m# A job can complete so quickly than its callback is\u001b[0m\u001b[1;33m\u001b[0m\u001b[1;33m\u001b[0m\u001b[1;33m\u001b[0m\u001b[0m\n\u001b[0;32m    718\u001b[0m             \u001b[1;31m# called before we get here, causing self._jobs to\u001b[0m\u001b[1;33m\u001b[0m\u001b[1;33m\u001b[0m\u001b[1;33m\u001b[0m\u001b[0m\n",
      "\u001b[1;32mC:\\ProgramData\\Anaconda3\\lib\\site-packages\\sklearn\\externals\\joblib\\_parallel_backends.py\u001b[0m in \u001b[0;36mapply_async\u001b[1;34m(self, func, callback)\u001b[0m\n\u001b[0;32m    180\u001b[0m     \u001b[1;32mdef\u001b[0m \u001b[0mapply_async\u001b[0m\u001b[1;33m(\u001b[0m\u001b[0mself\u001b[0m\u001b[1;33m,\u001b[0m \u001b[0mfunc\u001b[0m\u001b[1;33m,\u001b[0m \u001b[0mcallback\u001b[0m\u001b[1;33m=\u001b[0m\u001b[1;32mNone\u001b[0m\u001b[1;33m)\u001b[0m\u001b[1;33m:\u001b[0m\u001b[1;33m\u001b[0m\u001b[1;33m\u001b[0m\u001b[0m\n\u001b[0;32m    181\u001b[0m         \u001b[1;34m\"\"\"Schedule a func to be run\"\"\"\u001b[0m\u001b[1;33m\u001b[0m\u001b[1;33m\u001b[0m\u001b[0m\n\u001b[1;32m--> 182\u001b[1;33m         \u001b[0mresult\u001b[0m \u001b[1;33m=\u001b[0m \u001b[0mImmediateResult\u001b[0m\u001b[1;33m(\u001b[0m\u001b[0mfunc\u001b[0m\u001b[1;33m)\u001b[0m\u001b[1;33m\u001b[0m\u001b[1;33m\u001b[0m\u001b[0m\n\u001b[0m\u001b[0;32m    183\u001b[0m         \u001b[1;32mif\u001b[0m \u001b[0mcallback\u001b[0m\u001b[1;33m:\u001b[0m\u001b[1;33m\u001b[0m\u001b[1;33m\u001b[0m\u001b[0m\n\u001b[0;32m    184\u001b[0m             \u001b[0mcallback\u001b[0m\u001b[1;33m(\u001b[0m\u001b[0mresult\u001b[0m\u001b[1;33m)\u001b[0m\u001b[1;33m\u001b[0m\u001b[1;33m\u001b[0m\u001b[0m\n",
      "\u001b[1;32mC:\\ProgramData\\Anaconda3\\lib\\site-packages\\sklearn\\externals\\joblib\\_parallel_backends.py\u001b[0m in \u001b[0;36m__init__\u001b[1;34m(self, batch)\u001b[0m\n\u001b[0;32m    547\u001b[0m         \u001b[1;31m# Don't delay the application, to avoid keeping the input\u001b[0m\u001b[1;33m\u001b[0m\u001b[1;33m\u001b[0m\u001b[1;33m\u001b[0m\u001b[0m\n\u001b[0;32m    548\u001b[0m         \u001b[1;31m# arguments in memory\u001b[0m\u001b[1;33m\u001b[0m\u001b[1;33m\u001b[0m\u001b[1;33m\u001b[0m\u001b[0m\n\u001b[1;32m--> 549\u001b[1;33m         \u001b[0mself\u001b[0m\u001b[1;33m.\u001b[0m\u001b[0mresults\u001b[0m \u001b[1;33m=\u001b[0m \u001b[0mbatch\u001b[0m\u001b[1;33m(\u001b[0m\u001b[1;33m)\u001b[0m\u001b[1;33m\u001b[0m\u001b[1;33m\u001b[0m\u001b[0m\n\u001b[0m\u001b[0;32m    550\u001b[0m \u001b[1;33m\u001b[0m\u001b[0m\n\u001b[0;32m    551\u001b[0m     \u001b[1;32mdef\u001b[0m \u001b[0mget\u001b[0m\u001b[1;33m(\u001b[0m\u001b[0mself\u001b[0m\u001b[1;33m)\u001b[0m\u001b[1;33m:\u001b[0m\u001b[1;33m\u001b[0m\u001b[1;33m\u001b[0m\u001b[0m\n",
      "\u001b[1;32mC:\\ProgramData\\Anaconda3\\lib\\site-packages\\sklearn\\externals\\joblib\\parallel.py\u001b[0m in \u001b[0;36m__call__\u001b[1;34m(self)\u001b[0m\n\u001b[0;32m    223\u001b[0m         \u001b[1;32mwith\u001b[0m \u001b[0mparallel_backend\u001b[0m\u001b[1;33m(\u001b[0m\u001b[0mself\u001b[0m\u001b[1;33m.\u001b[0m\u001b[0m_backend\u001b[0m\u001b[1;33m,\u001b[0m \u001b[0mn_jobs\u001b[0m\u001b[1;33m=\u001b[0m\u001b[0mself\u001b[0m\u001b[1;33m.\u001b[0m\u001b[0m_n_jobs\u001b[0m\u001b[1;33m)\u001b[0m\u001b[1;33m:\u001b[0m\u001b[1;33m\u001b[0m\u001b[1;33m\u001b[0m\u001b[0m\n\u001b[0;32m    224\u001b[0m             return [func(*args, **kwargs)\n\u001b[1;32m--> 225\u001b[1;33m                     for func, args, kwargs in self.items]\n\u001b[0m\u001b[0;32m    226\u001b[0m \u001b[1;33m\u001b[0m\u001b[0m\n\u001b[0;32m    227\u001b[0m     \u001b[1;32mdef\u001b[0m \u001b[0m__len__\u001b[0m\u001b[1;33m(\u001b[0m\u001b[0mself\u001b[0m\u001b[1;33m)\u001b[0m\u001b[1;33m:\u001b[0m\u001b[1;33m\u001b[0m\u001b[1;33m\u001b[0m\u001b[0m\n",
      "\u001b[1;32mC:\\ProgramData\\Anaconda3\\lib\\site-packages\\sklearn\\externals\\joblib\\parallel.py\u001b[0m in \u001b[0;36m<listcomp>\u001b[1;34m(.0)\u001b[0m\n\u001b[0;32m    223\u001b[0m         \u001b[1;32mwith\u001b[0m \u001b[0mparallel_backend\u001b[0m\u001b[1;33m(\u001b[0m\u001b[0mself\u001b[0m\u001b[1;33m.\u001b[0m\u001b[0m_backend\u001b[0m\u001b[1;33m,\u001b[0m \u001b[0mn_jobs\u001b[0m\u001b[1;33m=\u001b[0m\u001b[0mself\u001b[0m\u001b[1;33m.\u001b[0m\u001b[0m_n_jobs\u001b[0m\u001b[1;33m)\u001b[0m\u001b[1;33m:\u001b[0m\u001b[1;33m\u001b[0m\u001b[1;33m\u001b[0m\u001b[0m\n\u001b[0;32m    224\u001b[0m             return [func(*args, **kwargs)\n\u001b[1;32m--> 225\u001b[1;33m                     for func, args, kwargs in self.items]\n\u001b[0m\u001b[0;32m    226\u001b[0m \u001b[1;33m\u001b[0m\u001b[0m\n\u001b[0;32m    227\u001b[0m     \u001b[1;32mdef\u001b[0m \u001b[0m__len__\u001b[0m\u001b[1;33m(\u001b[0m\u001b[0mself\u001b[0m\u001b[1;33m)\u001b[0m\u001b[1;33m:\u001b[0m\u001b[1;33m\u001b[0m\u001b[1;33m\u001b[0m\u001b[0m\n",
      "\u001b[1;32mC:\\ProgramData\\Anaconda3\\lib\\site-packages\\sklearn\\model_selection\\_validation.py\u001b[0m in \u001b[0;36m_fit_and_score\u001b[1;34m(estimator, X, y, scorer, train, test, verbose, parameters, fit_params, return_train_score, return_parameters, return_n_test_samples, return_times, return_estimator, error_score)\u001b[0m\n\u001b[0;32m    526\u001b[0m             \u001b[0mestimator\u001b[0m\u001b[1;33m.\u001b[0m\u001b[0mfit\u001b[0m\u001b[1;33m(\u001b[0m\u001b[0mX_train\u001b[0m\u001b[1;33m,\u001b[0m \u001b[1;33m**\u001b[0m\u001b[0mfit_params\u001b[0m\u001b[1;33m)\u001b[0m\u001b[1;33m\u001b[0m\u001b[1;33m\u001b[0m\u001b[0m\n\u001b[0;32m    527\u001b[0m         \u001b[1;32melse\u001b[0m\u001b[1;33m:\u001b[0m\u001b[1;33m\u001b[0m\u001b[1;33m\u001b[0m\u001b[0m\n\u001b[1;32m--> 528\u001b[1;33m             \u001b[0mestimator\u001b[0m\u001b[1;33m.\u001b[0m\u001b[0mfit\u001b[0m\u001b[1;33m(\u001b[0m\u001b[0mX_train\u001b[0m\u001b[1;33m,\u001b[0m \u001b[0my_train\u001b[0m\u001b[1;33m,\u001b[0m \u001b[1;33m**\u001b[0m\u001b[0mfit_params\u001b[0m\u001b[1;33m)\u001b[0m\u001b[1;33m\u001b[0m\u001b[1;33m\u001b[0m\u001b[0m\n\u001b[0m\u001b[0;32m    529\u001b[0m \u001b[1;33m\u001b[0m\u001b[0m\n\u001b[0;32m    530\u001b[0m     \u001b[1;32mexcept\u001b[0m \u001b[0mException\u001b[0m \u001b[1;32mas\u001b[0m \u001b[0me\u001b[0m\u001b[1;33m:\u001b[0m\u001b[1;33m\u001b[0m\u001b[1;33m\u001b[0m\u001b[0m\n",
      "\u001b[1;32mC:\\ProgramData\\Anaconda3\\lib\\site-packages\\xgboost\\sklearn.py\u001b[0m in \u001b[0;36mfit\u001b[1;34m(self, X, y, sample_weight, eval_set, eval_metric, early_stopping_rounds, verbose, xgb_model, sample_weight_eval_set, callbacks)\u001b[0m\n\u001b[0;32m    340\u001b[0m                                    missing=self.missing, nthread=self.n_jobs)\n\u001b[0;32m    341\u001b[0m         \u001b[1;32melse\u001b[0m\u001b[1;33m:\u001b[0m\u001b[1;33m\u001b[0m\u001b[1;33m\u001b[0m\u001b[0m\n\u001b[1;32m--> 342\u001b[1;33m             \u001b[0mtrainDmatrix\u001b[0m \u001b[1;33m=\u001b[0m \u001b[0mDMatrix\u001b[0m\u001b[1;33m(\u001b[0m\u001b[0mX\u001b[0m\u001b[1;33m,\u001b[0m \u001b[0mlabel\u001b[0m\u001b[1;33m=\u001b[0m\u001b[0my\u001b[0m\u001b[1;33m,\u001b[0m \u001b[0mmissing\u001b[0m\u001b[1;33m=\u001b[0m\u001b[0mself\u001b[0m\u001b[1;33m.\u001b[0m\u001b[0mmissing\u001b[0m\u001b[1;33m,\u001b[0m \u001b[0mnthread\u001b[0m\u001b[1;33m=\u001b[0m\u001b[0mself\u001b[0m\u001b[1;33m.\u001b[0m\u001b[0mn_jobs\u001b[0m\u001b[1;33m)\u001b[0m\u001b[1;33m\u001b[0m\u001b[1;33m\u001b[0m\u001b[0m\n\u001b[0m\u001b[0;32m    343\u001b[0m \u001b[1;33m\u001b[0m\u001b[0m\n\u001b[0;32m    344\u001b[0m         \u001b[0mevals_result\u001b[0m \u001b[1;33m=\u001b[0m \u001b[1;33m{\u001b[0m\u001b[1;33m}\u001b[0m\u001b[1;33m\u001b[0m\u001b[1;33m\u001b[0m\u001b[0m\n",
      "\u001b[1;32mC:\\ProgramData\\Anaconda3\\lib\\site-packages\\xgboost\\core.py\u001b[0m in \u001b[0;36m__init__\u001b[1;34m(self, data, label, missing, weight, silent, feature_names, feature_types, nthread)\u001b[0m\n\u001b[0;32m    405\u001b[0m             \u001b[0mself\u001b[0m\u001b[1;33m.\u001b[0m\u001b[0m_init_from_csc\u001b[0m\u001b[1;33m(\u001b[0m\u001b[0mdata\u001b[0m\u001b[1;33m)\u001b[0m\u001b[1;33m\u001b[0m\u001b[1;33m\u001b[0m\u001b[0m\n\u001b[0;32m    406\u001b[0m         \u001b[1;32melif\u001b[0m \u001b[0misinstance\u001b[0m\u001b[1;33m(\u001b[0m\u001b[0mdata\u001b[0m\u001b[1;33m,\u001b[0m \u001b[0mnp\u001b[0m\u001b[1;33m.\u001b[0m\u001b[0mndarray\u001b[0m\u001b[1;33m)\u001b[0m\u001b[1;33m:\u001b[0m\u001b[1;33m\u001b[0m\u001b[1;33m\u001b[0m\u001b[0m\n\u001b[1;32m--> 407\u001b[1;33m             \u001b[0mself\u001b[0m\u001b[1;33m.\u001b[0m\u001b[0m_init_from_npy2d\u001b[0m\u001b[1;33m(\u001b[0m\u001b[0mdata\u001b[0m\u001b[1;33m,\u001b[0m \u001b[0mmissing\u001b[0m\u001b[1;33m,\u001b[0m \u001b[0mnthread\u001b[0m\u001b[1;33m)\u001b[0m\u001b[1;33m\u001b[0m\u001b[1;33m\u001b[0m\u001b[0m\n\u001b[0m\u001b[0;32m    408\u001b[0m         \u001b[1;32melif\u001b[0m \u001b[0misinstance\u001b[0m\u001b[1;33m(\u001b[0m\u001b[0mdata\u001b[0m\u001b[1;33m,\u001b[0m \u001b[0mDataTable\u001b[0m\u001b[1;33m)\u001b[0m\u001b[1;33m:\u001b[0m\u001b[1;33m\u001b[0m\u001b[1;33m\u001b[0m\u001b[0m\n\u001b[0;32m    409\u001b[0m             \u001b[0mself\u001b[0m\u001b[1;33m.\u001b[0m\u001b[0m_init_from_dt\u001b[0m\u001b[1;33m(\u001b[0m\u001b[0mdata\u001b[0m\u001b[1;33m,\u001b[0m \u001b[0mnthread\u001b[0m\u001b[1;33m)\u001b[0m\u001b[1;33m\u001b[0m\u001b[1;33m\u001b[0m\u001b[0m\n",
      "\u001b[1;32mC:\\ProgramData\\Anaconda3\\lib\\site-packages\\xgboost\\core.py\u001b[0m in \u001b[0;36m_init_from_npy2d\u001b[1;34m(self, mat, missing, nthread)\u001b[0m\n\u001b[0;32m    477\u001b[0m         \u001b[1;31m# we try to avoid data copies if possible (reshape returns a view when possible\u001b[0m\u001b[1;33m\u001b[0m\u001b[1;33m\u001b[0m\u001b[1;33m\u001b[0m\u001b[0m\n\u001b[0;32m    478\u001b[0m         \u001b[1;31m# and we explicitly tell np.array to try and avoid copying)\u001b[0m\u001b[1;33m\u001b[0m\u001b[1;33m\u001b[0m\u001b[1;33m\u001b[0m\u001b[0m\n\u001b[1;32m--> 479\u001b[1;33m         \u001b[0mdata\u001b[0m \u001b[1;33m=\u001b[0m \u001b[0mnp\u001b[0m\u001b[1;33m.\u001b[0m\u001b[0marray\u001b[0m\u001b[1;33m(\u001b[0m\u001b[0mmat\u001b[0m\u001b[1;33m.\u001b[0m\u001b[0mreshape\u001b[0m\u001b[1;33m(\u001b[0m\u001b[0mmat\u001b[0m\u001b[1;33m.\u001b[0m\u001b[0msize\u001b[0m\u001b[1;33m)\u001b[0m\u001b[1;33m,\u001b[0m \u001b[0mcopy\u001b[0m\u001b[1;33m=\u001b[0m\u001b[1;32mFalse\u001b[0m\u001b[1;33m,\u001b[0m \u001b[0mdtype\u001b[0m\u001b[1;33m=\u001b[0m\u001b[0mnp\u001b[0m\u001b[1;33m.\u001b[0m\u001b[0mfloat32\u001b[0m\u001b[1;33m)\u001b[0m\u001b[1;33m\u001b[0m\u001b[1;33m\u001b[0m\u001b[0m\n\u001b[0m\u001b[0;32m    480\u001b[0m         \u001b[0mself\u001b[0m\u001b[1;33m.\u001b[0m\u001b[0mhandle\u001b[0m \u001b[1;33m=\u001b[0m \u001b[0mctypes\u001b[0m\u001b[1;33m.\u001b[0m\u001b[0mc_void_p\u001b[0m\u001b[1;33m(\u001b[0m\u001b[1;33m)\u001b[0m\u001b[1;33m\u001b[0m\u001b[1;33m\u001b[0m\u001b[0m\n\u001b[0;32m    481\u001b[0m         \u001b[0mmissing\u001b[0m \u001b[1;33m=\u001b[0m \u001b[0mmissing\u001b[0m \u001b[1;32mif\u001b[0m \u001b[0mmissing\u001b[0m \u001b[1;32mis\u001b[0m \u001b[1;32mnot\u001b[0m \u001b[1;32mNone\u001b[0m \u001b[1;32melse\u001b[0m \u001b[0mnp\u001b[0m\u001b[1;33m.\u001b[0m\u001b[0mnan\u001b[0m\u001b[1;33m\u001b[0m\u001b[1;33m\u001b[0m\u001b[0m\n",
      "\u001b[1;31mTypeError\u001b[0m: float() argument must be a string or a number, not 'pandas._libs.interval.Interval'"
     ]
    }
   ],
   "source": [
    "score = mae_cv(model_xgb)\n",
    "print(\"Xgboost 得分: {:.4f} ({:.4f})\\n\".format(score.mean(), score.std()))"
   ]
  },
  {
   "cell_type": "code",
   "execution_count": null,
   "metadata": {},
   "outputs": [],
   "source": [
    "def mae(y, y_pred):\n",
    "    return np.sqrt(mean_absolute_error(y, y_pred))"
   ]
  },
  {
   "cell_type": "code",
   "execution_count": 595,
   "metadata": {},
   "outputs": [
    {
     "name": "stdout",
     "output_type": "stream",
     "text": [
      "0.6581785679375706\n"
     ]
    }
   ],
   "source": [
    "#XGBoost:\n",
    "model_xgb.fit(train.values, y_train)\n",
    "xgb_train_pred = model_xgb.predict(train.values)\n",
    "xgb_pred = np.expm1(model_xgb.predict(test.values))\n",
    "print(mae(y_train, xgb_train_pred))"
   ]
  },
  {
   "cell_type": "code",
   "execution_count": 57,
   "metadata": {},
   "outputs": [],
   "source": [
    "sub = pd.DataFrame()\n",
    "sub['id'] = test_ID\n",
    "sub['salary_next_year'] = xgb_pred\n",
    "sub.to_csv('submission7.csv',index=False)"
   ]
  },
  {
   "cell_type": "code",
   "execution_count": null,
   "metadata": {},
   "outputs": [],
   "source": []
  },
  {
   "cell_type": "code",
   "execution_count": null,
   "metadata": {},
   "outputs": [],
   "source": []
  },
  {
   "cell_type": "markdown",
   "metadata": {},
   "source": [
    "# 模型評估"
   ]
  },
  {
   "cell_type": "markdown",
   "metadata": {},
   "source": [
    "1. LASSO Regression: *該模型對異常值很敏感，所以我們在pipeline上使用sklearn的Robustscaler()方法"
   ]
  },
  {
   "cell_type": "code",
   "execution_count": 99,
   "metadata": {},
   "outputs": [],
   "source": [
    "lasso = make_pipeline(RobustScaler(), Lasso(alpha = 0.0005, random_state = 1))"
   ]
  },
  {
   "cell_type": "markdown",
   "metadata": {},
   "source": [
    "2. Elastic Net Regression: 同樣讓他對異常值具有更好的魯棒性"
   ]
  },
  {
   "cell_type": "code",
   "execution_count": 100,
   "metadata": {},
   "outputs": [],
   "source": [
    "ENet = make_pipeline(RobustScaler(), ElasticNet(alpha = 0.0005, l1_ratio = .9, random_state = 3))"
   ]
  },
  {
   "cell_type": "markdown",
   "metadata": {},
   "source": [
    "3. Kernel Ridge Regression:"
   ]
  },
  {
   "cell_type": "code",
   "execution_count": 101,
   "metadata": {},
   "outputs": [],
   "source": [
    "KRR = KernelRidge(alpha = 0.6, kernel = 'polynomial', degree = 2, coef0 = 2.5)"
   ]
  },
  {
   "cell_type": "markdown",
   "metadata": {},
   "source": [
    "4. Gradient Boosting Regression:\n",
    "    * 由於Huber loss使得他對於異常值具有魯棒性"
   ]
  },
  {
   "cell_type": "code",
   "execution_count": 102,
   "metadata": {},
   "outputs": [],
   "source": [
    "GBoost = GradientBoostingRegressor(n_estimators=3000, learning_rate=0.05,\n",
    "                                   max_depth=4, max_features='sqrt',\n",
    "                                   min_samples_leaf=15, min_samples_split=10, \n",
    "                                   loss='huber', random_state =5)"
   ]
  },
  {
   "cell_type": "markdown",
   "metadata": {},
   "source": [
    "5. XGBoost:"
   ]
  },
  {
   "cell_type": "code",
   "execution_count": 103,
   "metadata": {},
   "outputs": [],
   "source": [
    "model_xgb = xgb.XGBRegressor(colsample_bytree=0.4603, gamma=0.0468, \n",
    "                             learning_rate=0.05, max_depth=3, \n",
    "                             min_child_weight=1.7817, n_estimators=2200,\n",
    "                             reg_alpha=0.4640, reg_lambda=0.8571,\n",
    "                             subsample=0.5213, silent=1,\n",
    "                             random_state =7, nthread = -1)"
   ]
  },
  {
   "cell_type": "markdown",
   "metadata": {},
   "source": [
    "6. LightGBM:"
   ]
  },
  {
   "cell_type": "code",
   "execution_count": 104,
   "metadata": {},
   "outputs": [],
   "source": [
    "model_lgb = lgb.LGBMRegressor(objective='regression',num_leaves=5,\n",
    "                              learning_rate=0.05, n_estimators=720,\n",
    "                              max_bin = 55, bagging_fraction = 0.8,\n",
    "                              bagging_freq = 5, feature_fraction = 0.2319,\n",
    "                              feature_fraction_seed=9, bagging_seed=9,\n",
    "                              min_data_in_leaf =6, min_sum_hessian_in_leaf = 11)"
   ]
  },
  {
   "cell_type": "markdown",
   "metadata": {},
   "source": [
    "來看看各個模型交叉驗證的得分:"
   ]
  },
  {
   "cell_type": "code",
   "execution_count": 105,
   "metadata": {},
   "outputs": [
    {
     "name": "stdout",
     "output_type": "stream",
     "text": [
      "\n",
      "Lasso 得分: 0.8455 (0.0062)\n",
      "\n"
     ]
    }
   ],
   "source": [
    "score = mae_cv(lasso)\n",
    "print(\"\\nLasso 得分: {:.4f} ({:.4f})\\n\".format(score.mean(), score.std()))"
   ]
  },
  {
   "cell_type": "code",
   "execution_count": 106,
   "metadata": {},
   "outputs": [
    {
     "name": "stdout",
     "output_type": "stream",
     "text": [
      "ElasticNet 得分: 0.8447 (0.0065)\n",
      "\n"
     ]
    }
   ],
   "source": [
    "score = mae_cv(ENet)\n",
    "print(\"ElasticNet 得分: {:.4f} ({:.4f})\\n\".format(score.mean(), score.std()))"
   ]
  },
  {
   "cell_type": "code",
   "execution_count": 107,
   "metadata": {},
   "outputs": [
    {
     "name": "stdout",
     "output_type": "stream",
     "text": [
      "Kernel Ridge 得分: 0.8049 (0.0133)\n",
      "\n"
     ]
    }
   ],
   "source": [
    "score = mae_cv(KRR)\n",
    "print(\"Kernel Ridge 得分: {:.4f} ({:.4f})\\n\".format(score.mean(), score.std()))"
   ]
  },
  {
   "cell_type": "code",
   "execution_count": 108,
   "metadata": {},
   "outputs": [
    {
     "name": "stdout",
     "output_type": "stream",
     "text": [
      "Gradient Boosting 得分: 0.7754 (0.0082)\n",
      "\n"
     ]
    }
   ],
   "source": [
    "score = mae_cv(GBoost)\n",
    "print(\"Gradient Boosting 得分: {:.4f} ({:.4f})\\n\".format(score.mean(), score.std()))"
   ]
  },
  {
   "cell_type": "code",
   "execution_count": 109,
   "metadata": {},
   "outputs": [
    {
     "name": "stdout",
     "output_type": "stream",
     "text": [
      "Xgboost 得分: 0.7847 (0.0077)\n",
      "\n"
     ]
    }
   ],
   "source": [
    "score = mae_cv(model_xgb)\n",
    "print(\"Xgboost 得分: {:.4f} ({:.4f})\\n\".format(score.mean(), score.std()))"
   ]
  },
  {
   "cell_type": "code",
   "execution_count": 110,
   "metadata": {},
   "outputs": [
    {
     "name": "stdout",
     "output_type": "stream",
     "text": [
      "LGBM 得分: 0.7844 (0.0123)\n",
      "\n"
     ]
    }
   ],
   "source": [
    "score = mae_cv(model_lgb)\n",
    "print(\"LGBM 得分: {:.4f} ({:.4f})\\n\" .format(score.mean(), score.std()))"
   ]
  },
  {
   "cell_type": "markdown",
   "metadata": {},
   "source": [
    "# 6. 模型融合"
   ]
  },
  {
   "cell_type": "markdown",
   "metadata": {},
   "source": [
    "Stacking模型融合：Average-Stacking\n",
    "簡單的平均基本模型的方法。"
   ]
  },
  {
   "cell_type": "code",
   "execution_count": 111,
   "metadata": {},
   "outputs": [],
   "source": [
    "class AveragingModels(BaseEstimator, RegressorMixin, TransformerMixin):\n",
    "    def __init__(self, models):\n",
    "        self.models = models\n",
    "        \n",
    "    # 用數據擬合所有的模型\n",
    "    def fit(self, X, y):\n",
    "        self.models_ = [clone(x) for x in self.models]\n",
    "        \n",
    "        for model in self.models_:\n",
    "            model.fit(X, y)\n",
    "\n",
    "        return self\n",
    "    \n",
    "    # 對結果做average\n",
    "    def predict(self, X):\n",
    "        predictions = np.column_stack([\n",
    "            model.predict(X) for model in self.models_\n",
    "        ])\n",
    "        return np.mean(predictions, axis=1)   "
   ]
  },
  {
   "cell_type": "code",
   "execution_count": 112,
   "metadata": {},
   "outputs": [
    {
     "name": "stdout",
     "output_type": "stream",
     "text": [
      " 最集成後的模型的得分: 0.8047 (0.0106)\n",
      "\n"
     ]
    }
   ],
   "source": [
    "averaged_models = AveragingModels(models = (ENet, GBoost, KRR, lasso))\n",
    "\n",
    "score = mae_cv(averaged_models)\n",
    "print(\" 最集成後的模型的得分: {:.4f} ({:.4f})\\n\".format(score.mean(), score.std()))"
   ]
  },
  {
   "cell_type": "markdown",
   "metadata": {},
   "source": [
    "Meta-model Stacking： 在這種方法中，我們在平均基礎模型上添加Meta-model，並使用這些基模型的out-of-folds預測來訓練我們的Meta-model。 訓練部分的步驟如下： 1、將整個訓練集分解成兩個不相交的集合（這裡是train和.holdout）。 2、在第一部分（train）上訓練幾個基本模型。 3、在第二個部分（holdout）上測試這些基本模型。 4、使用(3)中的預測（稱為 out-of-fold 預測）作為輸入，並將正確的標籤（目標變量）作為輸出來訓練更高層次的學習模型稱為元模型。 前三個步驟是迭代完成的。例如，如果我們採取5倍的fold，我們首先將訓練數據分成5次。然後我們會做5次迭代。在每次迭代中，我們訓練每個基礎模型4倍，並預測剩餘的fold（holdout fold）。"
   ]
  },
  {
   "cell_type": "code",
   "execution_count": 113,
   "metadata": {},
   "outputs": [],
   "source": [
    "class StackingAveragedModels(BaseEstimator, RegressorMixin, TransformerMixin):\n",
    "    def __init__(self, base_models, meta_model, n_folds=5):\n",
    "        self.base_models = base_models\n",
    "        self.meta_model = meta_model\n",
    "        self.n_folds = n_folds\n",
    "   \n",
    "    # 用數據擬合所有的模型\n",
    "    def fit(self, X, y):\n",
    "        self.base_models_ = [list() for x in self.base_models]\n",
    "        self.meta_model_ = clone(self.meta_model)\n",
    "        kfold = KFold(n_splits=self.n_folds, shuffle=True, random_state=156)\n",
    "        \n",
    "        # 得到元模型，並用元模型對out_of_fold做预估，為學習stacking的第2層做數據準備\n",
    "        out_of_fold_predictions = np.zeros((X.shape[0], len(self.base_models)))\n",
    "        for i, model in enumerate(self.base_models):\n",
    "            for train_index, holdout_index in kfold.split(X, y):\n",
    "                instance = clone(model)\n",
    "                self.base_models_[i].append(instance)\n",
    "                instance.fit(X[train_index], y[train_index])\n",
    "                y_pred = instance.predict(X[holdout_index])\n",
    "                out_of_fold_predictions[holdout_index, i] = y_pred\n",
    "                \n",
    "        # 學習stacking模型\n",
    "        self.meta_model_.fit(out_of_fold_predictions, y)\n",
    "        return self\n",
    "   \n",
    "    # 做stacking预估\n",
    "    def predict(self, X):\n",
    "        meta_features = np.column_stack([\n",
    "            np.column_stack([model.predict(X) for model in base_models]).mean(axis=1)\n",
    "            for base_models in self.base_models_ ])\n",
    "        return self.meta_model_.predict(meta_features)"
   ]
  },
  {
   "cell_type": "code",
   "execution_count": 114,
   "metadata": {},
   "outputs": [
    {
     "name": "stdout",
     "output_type": "stream",
     "text": [
      "Stacking Averaged models score: 0.7825 (0.0126)\n"
     ]
    }
   ],
   "source": [
    "stacked_averaged_models = StackingAveragedModels(base_models = (ENet, GBoost, KRR),\n",
    "                                                 meta_model = lasso)\n",
    "\n",
    "score = mae_cv(stacked_averaged_models)\n",
    "print(\"Stacking Averaged models score: {:.4f} ({:.4f})\".format(score.mean(), score.std()))"
   ]
  },
  {
   "cell_type": "code",
   "execution_count": 115,
   "metadata": {},
   "outputs": [],
   "source": [
    "def mae(y, y_pred):\n",
    "    return np.sqrt(mean_absolute_error(y, y_pred))"
   ]
  },
  {
   "cell_type": "code",
   "execution_count": 116,
   "metadata": {},
   "outputs": [
    {
     "name": "stdout",
     "output_type": "stream",
     "text": [
      "0.7242069681432098\n"
     ]
    }
   ],
   "source": [
    "#StackedRegressor:\n",
    "stacked_averaged_models.fit(train.values, y_train)\n",
    "stacked_train_pred = stacked_averaged_models.predict(train.values)\n",
    "stacked_pred = np.expm1(stacked_averaged_models.predict(test.values))\n",
    "print(mae(y_train, stacked_train_pred))"
   ]
  },
  {
   "cell_type": "code",
   "execution_count": 117,
   "metadata": {},
   "outputs": [
    {
     "name": "stdout",
     "output_type": "stream",
     "text": [
      "0.6994442327767316\n"
     ]
    }
   ],
   "source": [
    "#XGBoost:\n",
    "model_xgb.fit(train.values, y_train)\n",
    "xgb_train_pred = model_xgb.predict(train.values)\n",
    "xgb_pred = np.expm1(model_xgb.predict(test.values))\n",
    "print(mae(y_train, xgb_train_pred))"
   ]
  },
  {
   "cell_type": "code",
   "execution_count": 118,
   "metadata": {},
   "outputs": [
    {
     "name": "stdout",
     "output_type": "stream",
     "text": [
      "0.8093913681898938\n"
     ]
    }
   ],
   "source": [
    "#LightGBM:\n",
    "model_lgb.fit(train, y_train)\n",
    "lgb_train_pred = model_lgb.predict(train)\n",
    "lgb_pred = np.expm1(model_lgb.predict(test.values))\n",
    "print(mae(y_train, lgb_train_pred))"
   ]
  },
  {
   "cell_type": "code",
   "execution_count": 119,
   "metadata": {},
   "outputs": [
    {
     "name": "stdout",
     "output_type": "stream",
     "text": [
      "訓練集上的mae得分:\n",
      "0.7304619204915638\n"
     ]
    }
   ],
   "source": [
    "'''RMSE on the entire Train data when averaging'''\n",
    "\n",
    "print('訓練集上的mae得分:')\n",
    "print(mae(y_train,stacked_train_pred*0.70 +\n",
    "               xgb_train_pred*0.15  + lgb_train_pred*0.15 ))"
   ]
  },
  {
   "cell_type": "markdown",
   "metadata": {},
   "source": [
    "#### 將三者進行融合，然後得到Ensemble prediction："
   ]
  },
  {
   "cell_type": "code",
   "execution_count": 120,
   "metadata": {},
   "outputs": [],
   "source": [
    "ensemble = stacked_pred*0.70 + xgb_pred*0.15 + lgb_pred*0.15"
   ]
  },
  {
   "cell_type": "code",
   "execution_count": 121,
   "metadata": {},
   "outputs": [
    {
     "data": {
      "text/plain": [
       "array([689565.7357542 , 306113.54937255, 333102.26049992, ...,\n",
       "       456032.18446833, 909008.73963556, 136695.86082305])"
      ]
     },
     "execution_count": 121,
     "metadata": {},
     "output_type": "execute_result"
    }
   ],
   "source": [
    "ensemble"
   ]
  },
  {
   "cell_type": "code",
   "execution_count": 122,
   "metadata": {},
   "outputs": [],
   "source": [
    "sub = pd.DataFrame()\n",
    "sub['id'] = test_ID\n",
    "sub['salary_next_year'] = ensemble\n",
    "sub.to_csv('submission5.csv',index=False)"
   ]
  },
  {
   "cell_type": "code",
   "execution_count": null,
   "metadata": {},
   "outputs": [],
   "source": []
  },
  {
   "cell_type": "code",
   "execution_count": null,
   "metadata": {},
   "outputs": [],
   "source": []
  }
 ],
 "metadata": {
  "kernelspec": {
   "display_name": "Python 3",
   "language": "python",
   "name": "python3"
  },
  "language_info": {
   "codemirror_mode": {
    "name": "ipython",
    "version": 3
   },
   "file_extension": ".py",
   "mimetype": "text/x-python",
   "name": "python",
   "nbconvert_exporter": "python",
   "pygments_lexer": "ipython3",
   "version": "3.7.2"
  }
 },
 "nbformat": 4,
 "nbformat_minor": 2
}
