{
 "cells": [
  {
   "cell_type": "markdown",
   "metadata": {},
   "source": [
    "# 場景理解"
   ]
  },
  {
   "cell_type": "code",
   "execution_count": null,
   "metadata": {},
   "outputs": [],
   "source": []
  },
  {
   "cell_type": "markdown",
   "metadata": {},
   "source": [
    "# 資料讀取"
   ]
  },
  {
   "cell_type": "code",
   "execution_count": 520,
   "metadata": {},
   "outputs": [],
   "source": [
    "import numpy as np\n",
    "import pandas as pd\n",
    "%matplotlib inline\n",
    "import matplotlib.pyplot as plt\n",
    "import seaborn as sns\n",
    "color = sns.color_palette()\n",
    "sns.set_style('darkgrid')\n",
    "import warnings\n",
    "def ignore_warn(*args, **kwargs):\n",
    "    pass\n",
    "\n",
    "warnings.warn = ignore_warn\n",
    "\n",
    "from scipy import stats\n",
    "from scipy.stats import norm, skew\n",
    "\n",
    "pd.set_option('display.float_format',lambda x:'{:.3f}'.format(x))"
   ]
  },
  {
   "cell_type": "code",
   "execution_count": 521,
   "metadata": {
    "scrolled": true
   },
   "outputs": [],
   "source": [
    "train_data = pd.read_csv('train.csv')"
   ]
  },
  {
   "cell_type": "code",
   "execution_count": 522,
   "metadata": {},
   "outputs": [],
   "source": [
    "test_data = pd.read_csv('test.csv')"
   ]
  },
  {
   "cell_type": "markdown",
   "metadata": {},
   "source": [
    "# 初步評估資料"
   ]
  },
  {
   "cell_type": "code",
   "execution_count": 523,
   "metadata": {},
   "outputs": [
    {
     "data": {
      "text/html": [
       "<div>\n",
       "<style scoped>\n",
       "    .dataframe tbody tr th:only-of-type {\n",
       "        vertical-align: middle;\n",
       "    }\n",
       "\n",
       "    .dataframe tbody tr th {\n",
       "        vertical-align: top;\n",
       "    }\n",
       "\n",
       "    .dataframe thead th {\n",
       "        text-align: right;\n",
       "    }\n",
       "</style>\n",
       "<table border=\"1\" class=\"dataframe\">\n",
       "  <thead>\n",
       "    <tr style=\"text-align: right;\">\n",
       "      <th></th>\n",
       "      <th>id</th>\n",
       "      <th>playerID</th>\n",
       "      <th>yearID</th>\n",
       "      <th>stint</th>\n",
       "      <th>teamID</th>\n",
       "      <th>lgID</th>\n",
       "      <th>W</th>\n",
       "      <th>L</th>\n",
       "      <th>G</th>\n",
       "      <th>GS</th>\n",
       "      <th>...</th>\n",
       "      <th>WP</th>\n",
       "      <th>HBP</th>\n",
       "      <th>BK</th>\n",
       "      <th>BFP</th>\n",
       "      <th>GF</th>\n",
       "      <th>R</th>\n",
       "      <th>SH</th>\n",
       "      <th>SF</th>\n",
       "      <th>GIDP</th>\n",
       "      <th>salary_next_year</th>\n",
       "    </tr>\n",
       "  </thead>\n",
       "  <tbody>\n",
       "    <tr>\n",
       "      <th>0</th>\n",
       "      <td>0</td>\n",
       "      <td>nelsoge01</td>\n",
       "      <td>1986</td>\n",
       "      <td>1</td>\n",
       "      <td>CHA</td>\n",
       "      <td>AL</td>\n",
       "      <td>6</td>\n",
       "      <td>6</td>\n",
       "      <td>54</td>\n",
       "      <td>1</td>\n",
       "      <td>...</td>\n",
       "      <td>3.000</td>\n",
       "      <td>3.000</td>\n",
       "      <td>0.000</td>\n",
       "      <td>488.000</td>\n",
       "      <td>26.000</td>\n",
       "      <td>52</td>\n",
       "      <td>nan</td>\n",
       "      <td>nan</td>\n",
       "      <td>nan</td>\n",
       "      <td>365000.000</td>\n",
       "    </tr>\n",
       "    <tr>\n",
       "      <th>1</th>\n",
       "      <td>1</td>\n",
       "      <td>moyerja01</td>\n",
       "      <td>1997</td>\n",
       "      <td>1</td>\n",
       "      <td>SEA</td>\n",
       "      <td>AL</td>\n",
       "      <td>17</td>\n",
       "      <td>5</td>\n",
       "      <td>30</td>\n",
       "      <td>30</td>\n",
       "      <td>...</td>\n",
       "      <td>3.000</td>\n",
       "      <td>7.000</td>\n",
       "      <td>0.000</td>\n",
       "      <td>787.000</td>\n",
       "      <td>0.000</td>\n",
       "      <td>82</td>\n",
       "      <td>nan</td>\n",
       "      <td>nan</td>\n",
       "      <td>nan</td>\n",
       "      <td>2000000.000</td>\n",
       "    </tr>\n",
       "    <tr>\n",
       "      <th>2</th>\n",
       "      <td>2</td>\n",
       "      <td>thompbr01</td>\n",
       "      <td>2008</td>\n",
       "      <td>1</td>\n",
       "      <td>SLN</td>\n",
       "      <td>NL</td>\n",
       "      <td>6</td>\n",
       "      <td>3</td>\n",
       "      <td>26</td>\n",
       "      <td>6</td>\n",
       "      <td>...</td>\n",
       "      <td>2.000</td>\n",
       "      <td>3.000</td>\n",
       "      <td>0.000</td>\n",
       "      <td>273.000</td>\n",
       "      <td>10.000</td>\n",
       "      <td>38</td>\n",
       "      <td>nan</td>\n",
       "      <td>nan</td>\n",
       "      <td>nan</td>\n",
       "      <td>650000.000</td>\n",
       "    </tr>\n",
       "    <tr>\n",
       "      <th>3</th>\n",
       "      <td>3</td>\n",
       "      <td>powerte01</td>\n",
       "      <td>1986</td>\n",
       "      <td>1</td>\n",
       "      <td>CIN</td>\n",
       "      <td>NL</td>\n",
       "      <td>10</td>\n",
       "      <td>6</td>\n",
       "      <td>56</td>\n",
       "      <td>10</td>\n",
       "      <td>...</td>\n",
       "      <td>5.000</td>\n",
       "      <td>1.000</td>\n",
       "      <td>1.000</td>\n",
       "      <td>537.000</td>\n",
       "      <td>30.000</td>\n",
       "      <td>59</td>\n",
       "      <td>nan</td>\n",
       "      <td>nan</td>\n",
       "      <td>nan</td>\n",
       "      <td>500000.000</td>\n",
       "    </tr>\n",
       "    <tr>\n",
       "      <th>4</th>\n",
       "      <td>4</td>\n",
       "      <td>osunaan01</td>\n",
       "      <td>2003</td>\n",
       "      <td>1</td>\n",
       "      <td>NYA</td>\n",
       "      <td>AL</td>\n",
       "      <td>2</td>\n",
       "      <td>5</td>\n",
       "      <td>48</td>\n",
       "      <td>0</td>\n",
       "      <td>...</td>\n",
       "      <td>3.000</td>\n",
       "      <td>2.000</td>\n",
       "      <td>0.000</td>\n",
       "      <td>232.000</td>\n",
       "      <td>16.000</td>\n",
       "      <td>22</td>\n",
       "      <td>nan</td>\n",
       "      <td>nan</td>\n",
       "      <td>nan</td>\n",
       "      <td>750000.000</td>\n",
       "    </tr>\n",
       "  </tbody>\n",
       "</table>\n",
       "<p>5 rows × 32 columns</p>\n",
       "</div>"
      ],
      "text/plain": [
       "   id   playerID  yearID  stint teamID lgID   W  L   G  GS        ...         \\\n",
       "0   0  nelsoge01    1986      1    CHA   AL   6  6  54   1        ...          \n",
       "1   1  moyerja01    1997      1    SEA   AL  17  5  30  30        ...          \n",
       "2   2  thompbr01    2008      1    SLN   NL   6  3  26   6        ...          \n",
       "3   3  powerte01    1986      1    CIN   NL  10  6  56  10        ...          \n",
       "4   4  osunaan01    2003      1    NYA   AL   2  5  48   0        ...          \n",
       "\n",
       "     WP   HBP    BK     BFP     GF   R  SH  SF  GIDP  salary_next_year  \n",
       "0 3.000 3.000 0.000 488.000 26.000  52 nan nan   nan        365000.000  \n",
       "1 3.000 7.000 0.000 787.000  0.000  82 nan nan   nan       2000000.000  \n",
       "2 2.000 3.000 0.000 273.000 10.000  38 nan nan   nan        650000.000  \n",
       "3 5.000 1.000 1.000 537.000 30.000  59 nan nan   nan        500000.000  \n",
       "4 3.000 2.000 0.000 232.000 16.000  22 nan nan   nan        750000.000  \n",
       "\n",
       "[5 rows x 32 columns]"
      ]
     },
     "execution_count": 523,
     "metadata": {},
     "output_type": "execute_result"
    }
   ],
   "source": [
    "train_data.head()"
   ]
  },
  {
   "cell_type": "code",
   "execution_count": 524,
   "metadata": {},
   "outputs": [
    {
     "data": {
      "text/html": [
       "<div>\n",
       "<style scoped>\n",
       "    .dataframe tbody tr th:only-of-type {\n",
       "        vertical-align: middle;\n",
       "    }\n",
       "\n",
       "    .dataframe tbody tr th {\n",
       "        vertical-align: top;\n",
       "    }\n",
       "\n",
       "    .dataframe thead th {\n",
       "        text-align: right;\n",
       "    }\n",
       "</style>\n",
       "<table border=\"1\" class=\"dataframe\">\n",
       "  <thead>\n",
       "    <tr style=\"text-align: right;\">\n",
       "      <th></th>\n",
       "      <th>id</th>\n",
       "      <th>playerID</th>\n",
       "      <th>yearID</th>\n",
       "      <th>stint</th>\n",
       "      <th>teamID</th>\n",
       "      <th>lgID</th>\n",
       "      <th>W</th>\n",
       "      <th>L</th>\n",
       "      <th>G</th>\n",
       "      <th>GS</th>\n",
       "      <th>...</th>\n",
       "      <th>IBB</th>\n",
       "      <th>WP</th>\n",
       "      <th>HBP</th>\n",
       "      <th>BK</th>\n",
       "      <th>BFP</th>\n",
       "      <th>GF</th>\n",
       "      <th>R</th>\n",
       "      <th>SH</th>\n",
       "      <th>SF</th>\n",
       "      <th>GIDP</th>\n",
       "    </tr>\n",
       "  </thead>\n",
       "  <tbody>\n",
       "    <tr>\n",
       "      <th>0</th>\n",
       "      <td>6284</td>\n",
       "      <td>cormirh01</td>\n",
       "      <td>2000</td>\n",
       "      <td>1</td>\n",
       "      <td>BOS</td>\n",
       "      <td>AL</td>\n",
       "      <td>3</td>\n",
       "      <td>3</td>\n",
       "      <td>64</td>\n",
       "      <td>0</td>\n",
       "      <td>...</td>\n",
       "      <td>2.000</td>\n",
       "      <td>1.000</td>\n",
       "      <td>0.000</td>\n",
       "      <td>0.000</td>\n",
       "      <td>293.000</td>\n",
       "      <td>12.000</td>\n",
       "      <td>40</td>\n",
       "      <td>nan</td>\n",
       "      <td>nan</td>\n",
       "      <td>nan</td>\n",
       "    </tr>\n",
       "    <tr>\n",
       "      <th>1</th>\n",
       "      <td>6285</td>\n",
       "      <td>reyesde01</td>\n",
       "      <td>2003</td>\n",
       "      <td>1</td>\n",
       "      <td>PIT</td>\n",
       "      <td>NL</td>\n",
       "      <td>0</td>\n",
       "      <td>0</td>\n",
       "      <td>12</td>\n",
       "      <td>0</td>\n",
       "      <td>...</td>\n",
       "      <td>1.000</td>\n",
       "      <td>5.000</td>\n",
       "      <td>0.000</td>\n",
       "      <td>0.000</td>\n",
       "      <td>50.000</td>\n",
       "      <td>4.000</td>\n",
       "      <td>13</td>\n",
       "      <td>nan</td>\n",
       "      <td>nan</td>\n",
       "      <td>nan</td>\n",
       "    </tr>\n",
       "    <tr>\n",
       "      <th>2</th>\n",
       "      <td>6286</td>\n",
       "      <td>runyase01</td>\n",
       "      <td>1999</td>\n",
       "      <td>1</td>\n",
       "      <td>DET</td>\n",
       "      <td>AL</td>\n",
       "      <td>0</td>\n",
       "      <td>1</td>\n",
       "      <td>12</td>\n",
       "      <td>0</td>\n",
       "      <td>...</td>\n",
       "      <td>1.000</td>\n",
       "      <td>2.000</td>\n",
       "      <td>1.000</td>\n",
       "      <td>0.000</td>\n",
       "      <td>45.000</td>\n",
       "      <td>2.000</td>\n",
       "      <td>4</td>\n",
       "      <td>nan</td>\n",
       "      <td>nan</td>\n",
       "      <td>nan</td>\n",
       "    </tr>\n",
       "    <tr>\n",
       "      <th>3</th>\n",
       "      <td>6287</td>\n",
       "      <td>byrdpa01</td>\n",
       "      <td>2002</td>\n",
       "      <td>1</td>\n",
       "      <td>KCA</td>\n",
       "      <td>AL</td>\n",
       "      <td>17</td>\n",
       "      <td>11</td>\n",
       "      <td>33</td>\n",
       "      <td>33</td>\n",
       "      <td>...</td>\n",
       "      <td>1.000</td>\n",
       "      <td>3.000</td>\n",
       "      <td>7.000</td>\n",
       "      <td>1.000</td>\n",
       "      <td>935.000</td>\n",
       "      <td>0.000</td>\n",
       "      <td>111</td>\n",
       "      <td>nan</td>\n",
       "      <td>nan</td>\n",
       "      <td>nan</td>\n",
       "    </tr>\n",
       "    <tr>\n",
       "      <th>4</th>\n",
       "      <td>6288</td>\n",
       "      <td>parkch01</td>\n",
       "      <td>2006</td>\n",
       "      <td>1</td>\n",
       "      <td>SDN</td>\n",
       "      <td>NL</td>\n",
       "      <td>7</td>\n",
       "      <td>7</td>\n",
       "      <td>24</td>\n",
       "      <td>21</td>\n",
       "      <td>...</td>\n",
       "      <td>7.000</td>\n",
       "      <td>5.000</td>\n",
       "      <td>10.000</td>\n",
       "      <td>0.000</td>\n",
       "      <td>606.000</td>\n",
       "      <td>0.000</td>\n",
       "      <td>81</td>\n",
       "      <td>nan</td>\n",
       "      <td>nan</td>\n",
       "      <td>nan</td>\n",
       "    </tr>\n",
       "  </tbody>\n",
       "</table>\n",
       "<p>5 rows × 31 columns</p>\n",
       "</div>"
      ],
      "text/plain": [
       "     id   playerID  yearID  stint teamID lgID   W   L   G  GS  ...    IBB  \\\n",
       "0  6284  cormirh01    2000      1    BOS   AL   3   3  64   0  ...  2.000   \n",
       "1  6285  reyesde01    2003      1    PIT   NL   0   0  12   0  ...  1.000   \n",
       "2  6286  runyase01    1999      1    DET   AL   0   1  12   0  ...  1.000   \n",
       "3  6287   byrdpa01    2002      1    KCA   AL  17  11  33  33  ...  1.000   \n",
       "4  6288   parkch01    2006      1    SDN   NL   7   7  24  21  ...  7.000   \n",
       "\n",
       "     WP    HBP    BK     BFP     GF    R  SH  SF  GIDP  \n",
       "0 1.000  0.000 0.000 293.000 12.000   40 nan nan   nan  \n",
       "1 5.000  0.000 0.000  50.000  4.000   13 nan nan   nan  \n",
       "2 2.000  1.000 0.000  45.000  2.000    4 nan nan   nan  \n",
       "3 3.000  7.000 1.000 935.000  0.000  111 nan nan   nan  \n",
       "4 5.000 10.000 0.000 606.000  0.000   81 nan nan   nan  \n",
       "\n",
       "[5 rows x 31 columns]"
      ]
     },
     "execution_count": 524,
     "metadata": {},
     "output_type": "execute_result"
    }
   ],
   "source": [
    "test_data.head()"
   ]
  },
  {
   "cell_type": "code",
   "execution_count": 525,
   "metadata": {},
   "outputs": [
    {
     "data": {
      "text/plain": [
       "(6284, 32)"
      ]
     },
     "execution_count": 525,
     "metadata": {},
     "output_type": "execute_result"
    }
   ],
   "source": [
    "train_data.shape"
   ]
  },
  {
   "cell_type": "code",
   "execution_count": 526,
   "metadata": {},
   "outputs": [
    {
     "data": {
      "text/plain": [
       "(1109, 31)"
      ]
     },
     "execution_count": 526,
     "metadata": {},
     "output_type": "execute_result"
    }
   ],
   "source": [
    "test_data.shape"
   ]
  },
  {
   "cell_type": "code",
   "execution_count": 527,
   "metadata": {
    "scrolled": true
   },
   "outputs": [
    {
     "name": "stdout",
     "output_type": "stream",
     "text": [
      "<class 'pandas.core.frame.DataFrame'>\n",
      "RangeIndex: 6284 entries, 0 to 6283\n",
      "Data columns (total 32 columns):\n",
      "id                  6284 non-null int64\n",
      "playerID            6284 non-null object\n",
      "yearID              6284 non-null int64\n",
      "stint               6284 non-null int64\n",
      "teamID              6284 non-null object\n",
      "lgID                6284 non-null object\n",
      "W                   6284 non-null int64\n",
      "L                   6284 non-null int64\n",
      "G                   6284 non-null int64\n",
      "GS                  6284 non-null int64\n",
      "CG                  6284 non-null int64\n",
      "SHO                 6284 non-null int64\n",
      "SV                  6284 non-null int64\n",
      "IPouts              6284 non-null int64\n",
      "H                   6284 non-null int64\n",
      "ER                  6284 non-null int64\n",
      "HR                  6284 non-null int64\n",
      "BB                  6284 non-null int64\n",
      "SO                  6284 non-null int64\n",
      "BAOpp               3831 non-null float64\n",
      "ERA                 6284 non-null float64\n",
      "IBB                 6284 non-null float64\n",
      "WP                  6284 non-null float64\n",
      "HBP                 6284 non-null float64\n",
      "BK                  6284 non-null float64\n",
      "BFP                 6284 non-null float64\n",
      "GF                  6284 non-null float64\n",
      "R                   6284 non-null int64\n",
      "SH                  0 non-null float64\n",
      "SF                  0 non-null float64\n",
      "GIDP                0 non-null float64\n",
      "salary_next_year    6284 non-null float64\n",
      "dtypes: float64(12), int64(17), object(3)\n",
      "memory usage: 1.5+ MB\n"
     ]
    }
   ],
   "source": [
    "train_data.info() \n",
    "# BAOpp 有一半都沒有值, SH、SF、GIDP全部都沒有值\n",
    "#直接 drop掉SH、SF、GIDP"
   ]
  },
  {
   "cell_type": "code",
   "execution_count": 528,
   "metadata": {
    "scrolled": true
   },
   "outputs": [
    {
     "name": "stdout",
     "output_type": "stream",
     "text": [
      "<class 'pandas.core.frame.DataFrame'>\n",
      "RangeIndex: 1109 entries, 0 to 1108\n",
      "Data columns (total 31 columns):\n",
      "id          1109 non-null int64\n",
      "playerID    1109 non-null object\n",
      "yearID      1109 non-null int64\n",
      "stint       1109 non-null int64\n",
      "teamID      1109 non-null object\n",
      "lgID        1109 non-null object\n",
      "W           1109 non-null int64\n",
      "L           1109 non-null int64\n",
      "G           1109 non-null int64\n",
      "GS          1109 non-null int64\n",
      "CG          1109 non-null int64\n",
      "SHO         1109 non-null int64\n",
      "SV          1109 non-null int64\n",
      "IPouts      1109 non-null int64\n",
      "H           1109 non-null int64\n",
      "ER          1109 non-null int64\n",
      "HR          1109 non-null int64\n",
      "BB          1109 non-null int64\n",
      "SO          1109 non-null int64\n",
      "BAOpp       675 non-null float64\n",
      "ERA         1109 non-null float64\n",
      "IBB         1108 non-null float64\n",
      "WP          1108 non-null float64\n",
      "HBP         1108 non-null float64\n",
      "BK          1108 non-null float64\n",
      "BFP         1109 non-null float64\n",
      "GF          1109 non-null float64\n",
      "R           1109 non-null int64\n",
      "SH          0 non-null float64\n",
      "SF          0 non-null float64\n",
      "GIDP        0 non-null float64\n",
      "dtypes: float64(11), int64(17), object(3)\n",
      "memory usage: 268.7+ KB\n"
     ]
    }
   ],
   "source": [
    "test_data.info() #測試集的資料缺失跟訓練集資料分不一致"
   ]
  },
  {
   "cell_type": "code",
   "execution_count": 529,
   "metadata": {},
   "outputs": [
    {
     "data": {
      "text/html": [
       "<div>\n",
       "<style scoped>\n",
       "    .dataframe tbody tr th:only-of-type {\n",
       "        vertical-align: middle;\n",
       "    }\n",
       "\n",
       "    .dataframe tbody tr th {\n",
       "        vertical-align: top;\n",
       "    }\n",
       "\n",
       "    .dataframe thead th {\n",
       "        text-align: right;\n",
       "    }\n",
       "</style>\n",
       "<table border=\"1\" class=\"dataframe\">\n",
       "  <thead>\n",
       "    <tr style=\"text-align: right;\">\n",
       "      <th></th>\n",
       "      <th>id</th>\n",
       "      <th>yearID</th>\n",
       "      <th>stint</th>\n",
       "      <th>W</th>\n",
       "      <th>L</th>\n",
       "      <th>G</th>\n",
       "      <th>GS</th>\n",
       "      <th>CG</th>\n",
       "      <th>SHO</th>\n",
       "      <th>SV</th>\n",
       "      <th>...</th>\n",
       "      <th>WP</th>\n",
       "      <th>HBP</th>\n",
       "      <th>BK</th>\n",
       "      <th>BFP</th>\n",
       "      <th>GF</th>\n",
       "      <th>R</th>\n",
       "      <th>SH</th>\n",
       "      <th>SF</th>\n",
       "      <th>GIDP</th>\n",
       "      <th>salary_next_year</th>\n",
       "    </tr>\n",
       "  </thead>\n",
       "  <tbody>\n",
       "    <tr>\n",
       "      <th>count</th>\n",
       "      <td>6284.000</td>\n",
       "      <td>6284.000</td>\n",
       "      <td>6284.000</td>\n",
       "      <td>6284.000</td>\n",
       "      <td>6284.000</td>\n",
       "      <td>6284.000</td>\n",
       "      <td>6284.000</td>\n",
       "      <td>6284.000</td>\n",
       "      <td>6284.000</td>\n",
       "      <td>6284.000</td>\n",
       "      <td>...</td>\n",
       "      <td>6284.000</td>\n",
       "      <td>6284.000</td>\n",
       "      <td>6284.000</td>\n",
       "      <td>6284.000</td>\n",
       "      <td>6284.000</td>\n",
       "      <td>6284.000</td>\n",
       "      <td>0.000</td>\n",
       "      <td>0.000</td>\n",
       "      <td>0.000</td>\n",
       "      <td>6284.000</td>\n",
       "    </tr>\n",
       "    <tr>\n",
       "      <th>mean</th>\n",
       "      <td>3141.500</td>\n",
       "      <td>1998.681</td>\n",
       "      <td>1.004</td>\n",
       "      <td>6.270</td>\n",
       "      <td>5.840</td>\n",
       "      <td>37.204</td>\n",
       "      <td>12.518</td>\n",
       "      <td>0.960</td>\n",
       "      <td>0.305</td>\n",
       "      <td>3.327</td>\n",
       "      <td>...</td>\n",
       "      <td>3.565</td>\n",
       "      <td>3.382</td>\n",
       "      <td>0.579</td>\n",
       "      <td>452.330</td>\n",
       "      <td>10.065</td>\n",
       "      <td>52.188</td>\n",
       "      <td>nan</td>\n",
       "      <td>nan</td>\n",
       "      <td>nan</td>\n",
       "      <td>2153669.017</td>\n",
       "    </tr>\n",
       "    <tr>\n",
       "      <th>std</th>\n",
       "      <td>1814.179</td>\n",
       "      <td>7.293</td>\n",
       "      <td>0.067</td>\n",
       "      <td>5.082</td>\n",
       "      <td>4.151</td>\n",
       "      <td>19.697</td>\n",
       "      <td>13.538</td>\n",
       "      <td>2.051</td>\n",
       "      <td>0.763</td>\n",
       "      <td>8.768</td>\n",
       "      <td>...</td>\n",
       "      <td>3.201</td>\n",
       "      <td>3.159</td>\n",
       "      <td>1.126</td>\n",
       "      <td>288.615</td>\n",
       "      <td>14.960</td>\n",
       "      <td>34.497</td>\n",
       "      <td>nan</td>\n",
       "      <td>nan</td>\n",
       "      <td>nan</td>\n",
       "      <td>2990284.701</td>\n",
       "    </tr>\n",
       "    <tr>\n",
       "      <th>min</th>\n",
       "      <td>0.000</td>\n",
       "      <td>1985.000</td>\n",
       "      <td>1.000</td>\n",
       "      <td>0.000</td>\n",
       "      <td>0.000</td>\n",
       "      <td>1.000</td>\n",
       "      <td>0.000</td>\n",
       "      <td>0.000</td>\n",
       "      <td>0.000</td>\n",
       "      <td>0.000</td>\n",
       "      <td>...</td>\n",
       "      <td>0.000</td>\n",
       "      <td>0.000</td>\n",
       "      <td>0.000</td>\n",
       "      <td>1.000</td>\n",
       "      <td>0.000</td>\n",
       "      <td>0.000</td>\n",
       "      <td>nan</td>\n",
       "      <td>nan</td>\n",
       "      <td>nan</td>\n",
       "      <td>60000.000</td>\n",
       "    </tr>\n",
       "    <tr>\n",
       "      <th>25%</th>\n",
       "      <td>1570.750</td>\n",
       "      <td>1993.000</td>\n",
       "      <td>1.000</td>\n",
       "      <td>2.000</td>\n",
       "      <td>2.000</td>\n",
       "      <td>24.000</td>\n",
       "      <td>0.000</td>\n",
       "      <td>0.000</td>\n",
       "      <td>0.000</td>\n",
       "      <td>0.000</td>\n",
       "      <td>...</td>\n",
       "      <td>1.000</td>\n",
       "      <td>1.000</td>\n",
       "      <td>0.000</td>\n",
       "      <td>229.000</td>\n",
       "      <td>0.000</td>\n",
       "      <td>24.000</td>\n",
       "      <td>nan</td>\n",
       "      <td>nan</td>\n",
       "      <td>nan</td>\n",
       "      <td>350000.000</td>\n",
       "    </tr>\n",
       "    <tr>\n",
       "      <th>50%</th>\n",
       "      <td>3141.500</td>\n",
       "      <td>1999.000</td>\n",
       "      <td>1.000</td>\n",
       "      <td>5.000</td>\n",
       "      <td>5.000</td>\n",
       "      <td>33.000</td>\n",
       "      <td>6.000</td>\n",
       "      <td>0.000</td>\n",
       "      <td>0.000</td>\n",
       "      <td>0.000</td>\n",
       "      <td>...</td>\n",
       "      <td>3.000</td>\n",
       "      <td>3.000</td>\n",
       "      <td>0.000</td>\n",
       "      <td>349.000</td>\n",
       "      <td>3.000</td>\n",
       "      <td>41.000</td>\n",
       "      <td>nan</td>\n",
       "      <td>nan</td>\n",
       "      <td>nan</td>\n",
       "      <td>875000.000</td>\n",
       "    </tr>\n",
       "    <tr>\n",
       "      <th>75%</th>\n",
       "      <td>4712.250</td>\n",
       "      <td>2005.000</td>\n",
       "      <td>1.000</td>\n",
       "      <td>10.000</td>\n",
       "      <td>9.000</td>\n",
       "      <td>52.000</td>\n",
       "      <td>27.000</td>\n",
       "      <td>1.000</td>\n",
       "      <td>0.000</td>\n",
       "      <td>1.000</td>\n",
       "      <td>...</td>\n",
       "      <td>5.000</td>\n",
       "      <td>5.000</td>\n",
       "      <td>1.000</td>\n",
       "      <td>721.000</td>\n",
       "      <td>14.000</td>\n",
       "      <td>82.000</td>\n",
       "      <td>nan</td>\n",
       "      <td>nan</td>\n",
       "      <td>nan</td>\n",
       "      <td>2788541.500</td>\n",
       "    </tr>\n",
       "    <tr>\n",
       "      <th>max</th>\n",
       "      <td>6283.000</td>\n",
       "      <td>2011.000</td>\n",
       "      <td>2.000</td>\n",
       "      <td>27.000</td>\n",
       "      <td>21.000</td>\n",
       "      <td>94.000</td>\n",
       "      <td>39.000</td>\n",
       "      <td>20.000</td>\n",
       "      <td>10.000</td>\n",
       "      <td>62.000</td>\n",
       "      <td>...</td>\n",
       "      <td>26.000</td>\n",
       "      <td>20.000</td>\n",
       "      <td>16.000</td>\n",
       "      <td>1157.000</td>\n",
       "      <td>76.000</td>\n",
       "      <td>160.000</td>\n",
       "      <td>nan</td>\n",
       "      <td>nan</td>\n",
       "      <td>nan</td>\n",
       "      <td>24285714.000</td>\n",
       "    </tr>\n",
       "  </tbody>\n",
       "</table>\n",
       "<p>8 rows × 29 columns</p>\n",
       "</div>"
      ],
      "text/plain": [
       "            id   yearID    stint        W        L        G       GS       CG  \\\n",
       "count 6284.000 6284.000 6284.000 6284.000 6284.000 6284.000 6284.000 6284.000   \n",
       "mean  3141.500 1998.681    1.004    6.270    5.840   37.204   12.518    0.960   \n",
       "std   1814.179    7.293    0.067    5.082    4.151   19.697   13.538    2.051   \n",
       "min      0.000 1985.000    1.000    0.000    0.000    1.000    0.000    0.000   \n",
       "25%   1570.750 1993.000    1.000    2.000    2.000   24.000    0.000    0.000   \n",
       "50%   3141.500 1999.000    1.000    5.000    5.000   33.000    6.000    0.000   \n",
       "75%   4712.250 2005.000    1.000   10.000    9.000   52.000   27.000    1.000   \n",
       "max   6283.000 2011.000    2.000   27.000   21.000   94.000   39.000   20.000   \n",
       "\n",
       "           SHO       SV        ...              WP      HBP       BK      BFP  \\\n",
       "count 6284.000 6284.000        ...        6284.000 6284.000 6284.000 6284.000   \n",
       "mean     0.305    3.327        ...           3.565    3.382    0.579  452.330   \n",
       "std      0.763    8.768        ...           3.201    3.159    1.126  288.615   \n",
       "min      0.000    0.000        ...           0.000    0.000    0.000    1.000   \n",
       "25%      0.000    0.000        ...           1.000    1.000    0.000  229.000   \n",
       "50%      0.000    0.000        ...           3.000    3.000    0.000  349.000   \n",
       "75%      0.000    1.000        ...           5.000    5.000    1.000  721.000   \n",
       "max     10.000   62.000        ...          26.000   20.000   16.000 1157.000   \n",
       "\n",
       "            GF        R    SH    SF  GIDP  salary_next_year  \n",
       "count 6284.000 6284.000 0.000 0.000 0.000          6284.000  \n",
       "mean    10.065   52.188   nan   nan   nan       2153669.017  \n",
       "std     14.960   34.497   nan   nan   nan       2990284.701  \n",
       "min      0.000    0.000   nan   nan   nan         60000.000  \n",
       "25%      0.000   24.000   nan   nan   nan        350000.000  \n",
       "50%      3.000   41.000   nan   nan   nan        875000.000  \n",
       "75%     14.000   82.000   nan   nan   nan       2788541.500  \n",
       "max     76.000  160.000   nan   nan   nan      24285714.000  \n",
       "\n",
       "[8 rows x 29 columns]"
      ]
     },
     "execution_count": 529,
     "metadata": {},
     "output_type": "execute_result"
    }
   ],
   "source": [
    "train_data.describe()"
   ]
  },
  {
   "cell_type": "code",
   "execution_count": 530,
   "metadata": {},
   "outputs": [
    {
     "data": {
      "text/html": [
       "<div>\n",
       "<style scoped>\n",
       "    .dataframe tbody tr th:only-of-type {\n",
       "        vertical-align: middle;\n",
       "    }\n",
       "\n",
       "    .dataframe tbody tr th {\n",
       "        vertical-align: top;\n",
       "    }\n",
       "\n",
       "    .dataframe thead th {\n",
       "        text-align: right;\n",
       "    }\n",
       "</style>\n",
       "<table border=\"1\" class=\"dataframe\">\n",
       "  <thead>\n",
       "    <tr style=\"text-align: right;\">\n",
       "      <th></th>\n",
       "      <th>playerID</th>\n",
       "      <th>teamID</th>\n",
       "      <th>lgID</th>\n",
       "    </tr>\n",
       "  </thead>\n",
       "  <tbody>\n",
       "    <tr>\n",
       "      <th>count</th>\n",
       "      <td>6284</td>\n",
       "      <td>6284</td>\n",
       "      <td>6284</td>\n",
       "    </tr>\n",
       "    <tr>\n",
       "      <th>unique</th>\n",
       "      <td>1246</td>\n",
       "      <td>34</td>\n",
       "      <td>2</td>\n",
       "    </tr>\n",
       "    <tr>\n",
       "      <th>top</th>\n",
       "      <td>moyerja01</td>\n",
       "      <td>PIT</td>\n",
       "      <td>NL</td>\n",
       "    </tr>\n",
       "    <tr>\n",
       "      <th>freq</th>\n",
       "      <td>22</td>\n",
       "      <td>244</td>\n",
       "      <td>3254</td>\n",
       "    </tr>\n",
       "  </tbody>\n",
       "</table>\n",
       "</div>"
      ],
      "text/plain": [
       "         playerID teamID  lgID\n",
       "count        6284   6284  6284\n",
       "unique       1246     34     2\n",
       "top     moyerja01    PIT    NL\n",
       "freq           22    244  3254"
      ]
     },
     "execution_count": 530,
     "metadata": {},
     "output_type": "execute_result"
    }
   ],
   "source": [
    "train_data.describe(include = 'object')"
   ]
  },
  {
   "cell_type": "markdown",
   "metadata": {},
   "source": [
    "> playerID怎麼處理?"
   ]
  },
  {
   "cell_type": "markdown",
   "metadata": {},
   "source": [
    "## 訓練數據跟測試數據結合"
   ]
  },
  {
   "cell_type": "code",
   "execution_count": 531,
   "metadata": {},
   "outputs": [
    {
     "name": "stdout",
     "output_type": "stream",
     "text": [
      "訓練資料集的維度 (6284, 31)\n",
      "測試資料集的維度 (1109, 30)\n"
     ]
    }
   ],
   "source": [
    "train_ID =  train_data['id']\n",
    "test_ID = test_data['id']\n",
    "\n",
    "train_data.drop(['id'], axis = 1,inplace = True)\n",
    "test_data.drop(['id'], axis = 1, inplace = True)\n",
    "\n",
    "print(\"訓練資料集的維度\",train_data.shape)\n",
    "print(\"測試資料集的維度\",test_data.shape)"
   ]
  },
  {
   "cell_type": "code",
   "execution_count": 532,
   "metadata": {},
   "outputs": [
    {
     "name": "stdout",
     "output_type": "stream",
     "text": [
      "全部數據集的維度 (7393, 30)\n"
     ]
    }
   ],
   "source": [
    "ntrain = train_data.shape[0] \n",
    "ntest = test_data.shape[0] #方便之後 訓練時資料切割\n",
    "target = train_data.salary_next_year.values\n",
    "\n",
    "all_data = pd.concat([train_data,test_data], ignore_index=True)\n",
    "all_data.drop(['salary_next_year'],axis = 1, inplace = True)\n",
    "\n",
    "print(\"全部數據集的維度\",all_data.shape)"
   ]
  },
  {
   "cell_type": "markdown",
   "metadata": {},
   "source": [
    "# 探索式數據分析"
   ]
  },
  {
   "cell_type": "markdown",
   "metadata": {},
   "source": [
    "### 前30名薪資球員"
   ]
  },
  {
   "cell_type": "markdown",
   "metadata": {},
   "source": [
    "### 將下一年的薪資 做 log 轉移"
   ]
  },
  {
   "cell_type": "code",
   "execution_count": 533,
   "metadata": {},
   "outputs": [
    {
     "name": "stdout",
     "output_type": "stream",
     "text": [
      "\n",
      " mu = 2153669.02 and sigma = 2990046.76\n",
      "\n"
     ]
    },
    {
     "name": "stderr",
     "output_type": "stream",
     "text": [
      "C:\\Users\\autolab2\\Anaconda3\\lib\\site-packages\\scipy\\stats\\stats.py:1713: FutureWarning: Using a non-tuple sequence for multidimensional indexing is deprecated; use `arr[tuple(seq)]` instead of `arr[seq]`. In the future this will be interpreted as an array index, `arr[np.array(seq)]`, which will result either in an error or a different result.\n",
      "  return np.add.reduce(sorted[indexer] * weights, axis=axis) / sumval\n"
     ]
    },
    {
     "data": {
      "image/png": "[encoded data removed]",
      "text/plain": [
       "<Figure size 432x288 with 1 Axes>"
      ]
     },
     "metadata": {},
     "output_type": "display_data"
    },
    {
     "data": {
      "image/png": "[encoded data removed]",
      "text/plain": [
       "<Figure size 432x288 with 1 Axes>"
      ]
     },
     "metadata": {},
     "output_type": "display_data"
    }
   ],
   "source": [
    "sns.distplot(train_data['salary_next_year'], fit = norm)\n",
    "\n",
    "#擬合正態分布\n",
    "(mu , sigma) = norm.fit(train_data['salary_next_year'])\n",
    "print('\\n mu = {:.2f} and sigma = {:.2f}\\n'.format(mu, sigma))\n",
    "\n",
    "# 繪圖\n",
    "plt.legend(['Normal dist.($\\mu = ${:.2f} and $\\sigma = ${:.2f})'.format(mu,sigma)],loc = 'best')\n",
    "plt.ylabel('Frequency')\n",
    "plt.title('Salary Next Year distribution')\n",
    "\n",
    "#原始數據分布繪圖\n",
    "fig = plt.figure()\n",
    "res = stats.probplot(train_data['salary_next_year'], plot = plt)\n",
    "plt.show()"
   ]
  },
  {
   "cell_type": "markdown",
   "metadata": {},
   "source": [
    "> 此時的正態分布為嚴重右偏態分布，整體峰值向左偏離，並且偏度(skewness)較大，需要對目標值做log轉換，以恢復目標值的正態性。"
   ]
  },
  {
   "cell_type": "code",
   "execution_count": 534,
   "metadata": {},
   "outputs": [
    {
     "name": "stdout",
     "output_type": "stream",
     "text": [
      "\n",
      " mu = 13.79 and sigma = 1.29\n",
      "\n"
     ]
    },
    {
     "data": {
      "image/png": "[encoded data removed]",
      "text/plain": [
       "<Figure size 432x288 with 1 Axes>"
      ]
     },
     "metadata": {},
     "output_type": "display_data"
    },
    {
     "data": {
      "image/png": "[encoded data removed]",
      "text/plain": [
       "<Figure size 432x288 with 1 Axes>"
      ]
     },
     "metadata": {},
     "output_type": "display_data"
    }
   ],
   "source": [
    "#使用log1p函數完成log(1+x)變換\n",
    "train_data['salary_next_year'] = np.log1p(train_data['salary_next_year'])\n",
    "\n",
    "#查看調整後的分布\n",
    "sns.distplot(train_data['salary_next_year'], fit = norm)\n",
    "\n",
    "# 重新擬合\n",
    "(mu, sigma) = norm.fit(train_data['salary_next_year'])\n",
    "print( '\\n mu = {:.2f} and sigma = {:.2f}\\n'.format(mu, sigma))\n",
    "\n",
    "# 重新繪製正态分布\n",
    "plt.legend(['Normal dist. ($\\mu=$ {:.2f} and $\\sigma=$ {:.2f} )'.format(mu, sigma)],\n",
    "            loc='best')\n",
    "plt.ylabel('Frequency')\n",
    "plt.title('Salary Next Year distribution')\n",
    "\n",
    "# 繪製轉變後的分布\n",
    "fig = plt.figure()\n",
    "res = stats.probplot(train_data['salary_next_year'], plot=plt)\n",
    "plt.show()"
   ]
  },
  {
   "cell_type": "markdown",
   "metadata": {},
   "source": [
    "## BAOpp:對手平均打擊率 缺失39%數據"
   ]
  },
  {
   "cell_type": "code",
   "execution_count": 535,
   "metadata": {},
   "outputs": [
    {
     "data": {
      "image/png": "[encoded data removed]",
      "text/plain": [
       "<Figure size 432x288 with 1 Axes>"
      ]
     },
     "metadata": {},
     "output_type": "display_data"
    }
   ],
   "source": [
    "#繪圖\n",
    "fig, ax = plt.subplots()\n",
    "ax.scatter(x = train_data['BAOpp'], y = train_data['salary_next_year'])\n",
    "plt.ylabel('salary_next_year', fontsize = 13)\n",
    "plt.xlabel('BAOpp', fontsize = 13)\n",
    "plt.show()"
   ]
  },
  {
   "cell_type": "markdown",
   "metadata": {},
   "source": [
    "觀看所有資料的"
   ]
  },
  {
   "cell_type": "code",
   "execution_count": 536,
   "metadata": {},
   "outputs": [],
   "source": [
    "# pairplot of numerical variables\n",
    "#sns.pairplot(data=all_data)"
   ]
  },
  {
   "cell_type": "markdown",
   "metadata": {},
   "source": [
    "# 畫出熱力圖比較特徵間的相關性"
   ]
  },
  {
   "cell_type": "code",
   "execution_count": 537,
   "metadata": {},
   "outputs": [],
   "source": [
    "# Required parameter: dataframe ... the reference pandas dataframe\n",
    "# Optional parameters: title ... (string) chart title\n",
    "#                      file  ... (string) path+filename if you want to save image\n",
    "\n",
    "\n",
    "def half_masked_corr_heatmap(dataframe, title=None, file=None):\n",
    "    plt.figure(figsize=(15,15))\n",
    "    sns.set(font_scale=1)\n",
    "\n",
    "    mask = np.zeros_like(dataframe.corr())\n",
    "    mask[np.triu_indices_from(mask)] = True\n",
    "\n",
    "    with sns.axes_style(\"white\"):\n",
    "        sns.heatmap(dataframe.corr(), mask=mask, annot=True, cmap='coolwarm')\n",
    "\n",
    "    if title: plt.title(f'\\n{title}\\n', fontsize=18)\n",
    "    plt.xlabel('')    # optional in case you want an x-axis label\n",
    "    plt.ylabel('')    # optional in case you want a  y-axis label\n",
    "    if file: plt.savefig(file, bbox_inches='tight')\n",
    "    plt.show();\n",
    "    \n",
    "    return"
   ]
  },
  {
   "cell_type": "code",
   "execution_count": 538,
   "metadata": {},
   "outputs": [
    {
     "data": {
      "image/png": "[encoded data removed]",
      "text/plain": [
       "<Figure size 1080x1080 with 2 Axes>"
      ]
     },
     "metadata": {},
     "output_type": "display_data"
    }
   ],
   "source": [
    "half_masked_corr_heatmap(train_data.drop(['SH','SF','GIDP'],axis = 1))"
   ]
  },
  {
   "cell_type": "code",
   "execution_count": 539,
   "metadata": {},
   "outputs": [],
   "source": [
    "# Required parameters: dataframe ... the reference pandas dataframe\n",
    "#                      target ... (string) column name of the target variable\n",
    "\n",
    "# Optional parameters: title ... (string) chart title\n",
    "#                      file  ... (string) path+filename if you want to save image\n",
    "\n",
    "def corr_to_target(dataframe, target, title=None, file=None):\n",
    "    plt.figure(figsize=(4,6))\n",
    "    sns.set(font_scale=1)\n",
    "    \n",
    "    sns.heatmap(dataframe.corr()[[target]].sort_values(target,\n",
    "                                                ascending=False)[1:],\n",
    "                annot=True,\n",
    "                cmap='coolwarm')\n",
    "    \n",
    "    if title: plt.title(f'\\n{title}\\n', fontsize=18)\n",
    "    plt.xlabel('')    # optional in case you want an x-axis label\n",
    "    plt.ylabel('')    # optional in case you want a  y-axis label\n",
    "    if file: plt.savefig(file, bbox_inches='tight')\n",
    "    plt.show();\n",
    "    \n",
    "    return"
   ]
  },
  {
   "cell_type": "code",
   "execution_count": 540,
   "metadata": {
    "scrolled": false
   },
   "outputs": [
    {
     "data": {
      "image/png": "[encoded data removed]",
      "text/plain": [
       "<Figure size 288x432 with 2 Axes>"
      ]
     },
     "metadata": {},
     "output_type": "display_data"
    }
   ],
   "source": [
    "corr_to_target(train_data.drop(['SH','SF','GIDP'],axis = 1), 'salary_next_year') #可以看到薪資跟年代高度相關，以前的薪水跟現在的薪水不一樣"
   ]
  },
  {
   "cell_type": "markdown",
   "metadata": {},
   "source": [
    "### 觀察YearID與薪資的趨勢"
   ]
  },
  {
   "cell_type": "markdown",
   "metadata": {},
   "source": [
    "> 1994年聽說罷工所以停止舉辦冠軍賽 感覺與這有關"
   ]
  },
  {
   "cell_type": "code",
   "execution_count": 541,
   "metadata": {},
   "outputs": [
    {
     "data": {
      "text/plain": [
       "<matplotlib.axes._subplots.AxesSubplot at 0x23e16553cc0>"
      ]
     },
     "execution_count": 541,
     "metadata": {},
     "output_type": "execute_result"
    },
    {
     "data": {
      "image/png": "[encoded data removed]",
      "text/plain": [
       "<Figure size 1152x576 with 1 Axes>"
      ]
     },
     "metadata": {},
     "output_type": "display_data"
    }
   ],
   "source": [
    "f, ax = plt.subplots(figsize=(16, 8))\n",
    "sns.lineplot(x='yearID', y='salary_next_year', data=train_data,color = 'red') #可發現從1995年以後薪資是一路成長, 且可以用五年用一個單位"
   ]
  },
  {
   "cell_type": "markdown",
   "metadata": {},
   "source": [
    "### 觀察playID 出現的次數 增加個表現的平均值 等等、同時觀察有無名星球員的可能"
   ]
  },
  {
   "cell_type": "code",
   "execution_count": 542,
   "metadata": {
    "scrolled": true
   },
   "outputs": [
    {
     "data": {
      "text/plain": [
       "moyerja01    22\n",
       "glavito02    19\n",
       "oliveda02    18\n",
       "clemero02    18\n",
       "rogerke01    17\n",
       "rhodear01    16\n",
       "wellsda01    16\n",
       "stantmi02    16\n",
       "timlimi01    16\n",
       "batismi01    16\n",
       "francjo01    15\n",
       "tavarju01    15\n",
       "mussimi01    15\n",
       "wagnebi02    15\n",
       "gordoto01    15\n",
       "smoltjo01    15\n",
       "wakefti01    14\n",
       "wittbo01     14\n",
       "swindgr01    14\n",
       "johnsra05    14\n",
       "embreal01    14\n",
       "mulhote01    14\n",
       "brownke01    14\n",
       "hawkila01    14\n",
       "hernaro01    14\n",
       "guthrma01    14\n",
       "hoffmtr01    14\n",
       "jonesto02    14\n",
       "weathda01    14\n",
       "leiteal01    13\n",
       "             ..\n",
       "arredjo01     1\n",
       "menhapa01     1\n",
       "cangejo01     1\n",
       "chrismi02     1\n",
       "conveji01     1\n",
       "johnsda04     1\n",
       "eshelva01     1\n",
       "wrighwe01     1\n",
       "bronkje01     1\n",
       "mercahe01     1\n",
       "hudsolu01     1\n",
       "prinzbr01     1\n",
       "holtobr01     1\n",
       "caudibi01     1\n",
       "rosebr01      1\n",
       "dresery01     1\n",
       "brazoyh01     1\n",
       "happja01      1\n",
       "cornena01     1\n",
       "ainswku01     1\n",
       "wainhda01     1\n",
       "boggsmi01     1\n",
       "nolteer01     1\n",
       "benneje01     1\n",
       "rogeres01     1\n",
       "kerfech01     1\n",
       "nitkocj01     1\n",
       "ottoda01      1\n",
       "baileco01     1\n",
       "rowlary01     1\n",
       "Name: playerID, Length: 1246, dtype: int64"
      ]
     },
     "execution_count": 542,
     "metadata": {},
     "output_type": "execute_result"
    }
   ],
   "source": [
    "train_data['playerID'].value_counts() #平均薪資、續約次數"
   ]
  },
  {
   "cell_type": "markdown",
   "metadata": {},
   "source": [
    "### 新增選手出現的次數特徵 (訓練集與測試集分開) v2 效果不好 有overfitting的效果"
   ]
  },
  {
   "cell_type": "code",
   "execution_count": 543,
   "metadata": {},
   "outputs": [],
   "source": [
    "#train_data['playerID_count'] = train_data.groupby('playerID')['playerID'].transform(lambda x:x.count())\n",
    "#text = len(list(set(train_data['playerID'].values).intersection(set(test_data['playerID'].values))))\n",
    "#print('訓練集跟測試集 有{}個球員重複'.format(text))\n",
    "#test_data['playerID_count'] = test_data.groupby('playerID')['playerID'].transform(lambda x:x.count()) "
   ]
  },
  {
   "cell_type": "markdown",
   "metadata": {},
   "source": [
    "### 計算年資(資歷)"
   ]
  },
  {
   "cell_type": "markdown",
   "metadata": {},
   "source": [
    "#### 先看一下出現最多次的投手 資歷跟薪水如何"
   ]
  },
  {
   "cell_type": "code",
   "execution_count": 544,
   "metadata": {
    "scrolled": true
   },
   "outputs": [],
   "source": [
    "moyerja01 = train_data.loc[train_data['playerID'] == 'moyerja01',:].copy()"
   ]
  },
  {
   "cell_type": "code",
   "execution_count": 545,
   "metadata": {
    "scrolled": true
   },
   "outputs": [
    {
     "data": {
      "text/plain": [
       "<matplotlib.axes._subplots.AxesSubplot at 0x23e167d5d30>"
      ]
     },
     "execution_count": 545,
     "metadata": {},
     "output_type": "execute_result"
    },
    {
     "data": {
      "image/png": "[encoded data removed]",
      "text/plain": [
       "<Figure size 1152x576 with 1 Axes>"
      ]
     },
     "metadata": {},
     "output_type": "display_data"
    }
   ],
   "source": [
    "f, ax = plt.subplots(figsize=(16, 8)) #會發現年資整體是 隨年資成長, 但最後一年會大幅下降\n",
    "sns.lineplot(x='yearID', y='salary_next_year', data=moyerja01,color = 'red') #可發現從1995年以後薪資是一路成長, 且可以用五年用一個單位"
   ]
  },
  {
   "cell_type": "code",
   "execution_count": 546,
   "metadata": {},
   "outputs": [
    {
     "data": {
      "text/html": [
       "<div>\n",
       "<style scoped>\n",
       "    .dataframe tbody tr th:only-of-type {\n",
       "        vertical-align: middle;\n",
       "    }\n",
       "\n",
       "    .dataframe tbody tr th {\n",
       "        vertical-align: top;\n",
       "    }\n",
       "\n",
       "    .dataframe thead th {\n",
       "        text-align: right;\n",
       "    }\n",
       "</style>\n",
       "<table border=\"1\" class=\"dataframe\">\n",
       "  <thead>\n",
       "    <tr style=\"text-align: right;\">\n",
       "      <th></th>\n",
       "      <th>playerID</th>\n",
       "      <th>yearID</th>\n",
       "      <th>stint</th>\n",
       "      <th>teamID</th>\n",
       "      <th>lgID</th>\n",
       "      <th>W</th>\n",
       "      <th>L</th>\n",
       "      <th>G</th>\n",
       "      <th>GS</th>\n",
       "      <th>CG</th>\n",
       "      <th>...</th>\n",
       "      <th>WP</th>\n",
       "      <th>HBP</th>\n",
       "      <th>BK</th>\n",
       "      <th>BFP</th>\n",
       "      <th>GF</th>\n",
       "      <th>R</th>\n",
       "      <th>SH</th>\n",
       "      <th>SF</th>\n",
       "      <th>GIDP</th>\n",
       "      <th>salary_next_year</th>\n",
       "    </tr>\n",
       "  </thead>\n",
       "  <tbody>\n",
       "    <tr>\n",
       "      <th>0</th>\n",
       "      <td>nelsoge01</td>\n",
       "      <td>1986</td>\n",
       "      <td>1</td>\n",
       "      <td>CHA</td>\n",
       "      <td>AL</td>\n",
       "      <td>6</td>\n",
       "      <td>6</td>\n",
       "      <td>54</td>\n",
       "      <td>1</td>\n",
       "      <td>0</td>\n",
       "      <td>...</td>\n",
       "      <td>3.000</td>\n",
       "      <td>3.000</td>\n",
       "      <td>0.000</td>\n",
       "      <td>488.000</td>\n",
       "      <td>26.000</td>\n",
       "      <td>52</td>\n",
       "      <td>nan</td>\n",
       "      <td>nan</td>\n",
       "      <td>nan</td>\n",
       "      <td>12.808</td>\n",
       "    </tr>\n",
       "    <tr>\n",
       "      <th>1</th>\n",
       "      <td>moyerja01</td>\n",
       "      <td>1997</td>\n",
       "      <td>1</td>\n",
       "      <td>SEA</td>\n",
       "      <td>AL</td>\n",
       "      <td>17</td>\n",
       "      <td>5</td>\n",
       "      <td>30</td>\n",
       "      <td>30</td>\n",
       "      <td>2</td>\n",
       "      <td>...</td>\n",
       "      <td>3.000</td>\n",
       "      <td>7.000</td>\n",
       "      <td>0.000</td>\n",
       "      <td>787.000</td>\n",
       "      <td>0.000</td>\n",
       "      <td>82</td>\n",
       "      <td>nan</td>\n",
       "      <td>nan</td>\n",
       "      <td>nan</td>\n",
       "      <td>14.509</td>\n",
       "    </tr>\n",
       "    <tr>\n",
       "      <th>2</th>\n",
       "      <td>thompbr01</td>\n",
       "      <td>2008</td>\n",
       "      <td>1</td>\n",
       "      <td>SLN</td>\n",
       "      <td>NL</td>\n",
       "      <td>6</td>\n",
       "      <td>3</td>\n",
       "      <td>26</td>\n",
       "      <td>6</td>\n",
       "      <td>0</td>\n",
       "      <td>...</td>\n",
       "      <td>2.000</td>\n",
       "      <td>3.000</td>\n",
       "      <td>0.000</td>\n",
       "      <td>273.000</td>\n",
       "      <td>10.000</td>\n",
       "      <td>38</td>\n",
       "      <td>nan</td>\n",
       "      <td>nan</td>\n",
       "      <td>nan</td>\n",
       "      <td>13.385</td>\n",
       "    </tr>\n",
       "    <tr>\n",
       "      <th>3</th>\n",
       "      <td>powerte01</td>\n",
       "      <td>1986</td>\n",
       "      <td>1</td>\n",
       "      <td>CIN</td>\n",
       "      <td>NL</td>\n",
       "      <td>10</td>\n",
       "      <td>6</td>\n",
       "      <td>56</td>\n",
       "      <td>10</td>\n",
       "      <td>0</td>\n",
       "      <td>...</td>\n",
       "      <td>5.000</td>\n",
       "      <td>1.000</td>\n",
       "      <td>1.000</td>\n",
       "      <td>537.000</td>\n",
       "      <td>30.000</td>\n",
       "      <td>59</td>\n",
       "      <td>nan</td>\n",
       "      <td>nan</td>\n",
       "      <td>nan</td>\n",
       "      <td>13.122</td>\n",
       "    </tr>\n",
       "    <tr>\n",
       "      <th>4</th>\n",
       "      <td>osunaan01</td>\n",
       "      <td>2003</td>\n",
       "      <td>1</td>\n",
       "      <td>NYA</td>\n",
       "      <td>AL</td>\n",
       "      <td>2</td>\n",
       "      <td>5</td>\n",
       "      <td>48</td>\n",
       "      <td>0</td>\n",
       "      <td>0</td>\n",
       "      <td>...</td>\n",
       "      <td>3.000</td>\n",
       "      <td>2.000</td>\n",
       "      <td>0.000</td>\n",
       "      <td>232.000</td>\n",
       "      <td>16.000</td>\n",
       "      <td>22</td>\n",
       "      <td>nan</td>\n",
       "      <td>nan</td>\n",
       "      <td>nan</td>\n",
       "      <td>13.528</td>\n",
       "    </tr>\n",
       "  </tbody>\n",
       "</table>\n",
       "<p>5 rows × 31 columns</p>\n",
       "</div>"
      ],
      "text/plain": [
       "    playerID  yearID  stint teamID lgID   W  L   G  GS  CG        ...         \\\n",
       "0  nelsoge01    1986      1    CHA   AL   6  6  54   1   0        ...          \n",
       "1  moyerja01    1997      1    SEA   AL  17  5  30  30   2        ...          \n",
       "2  thompbr01    2008      1    SLN   NL   6  3  26   6   0        ...          \n",
       "3  powerte01    1986      1    CIN   NL  10  6  56  10   0        ...          \n",
       "4  osunaan01    2003      1    NYA   AL   2  5  48   0   0        ...          \n",
       "\n",
       "     WP   HBP    BK     BFP     GF   R  SH  SF  GIDP  salary_next_year  \n",
       "0 3.000 3.000 0.000 488.000 26.000  52 nan nan   nan            12.808  \n",
       "1 3.000 7.000 0.000 787.000  0.000  82 nan nan   nan            14.509  \n",
       "2 2.000 3.000 0.000 273.000 10.000  38 nan nan   nan            13.385  \n",
       "3 5.000 1.000 1.000 537.000 30.000  59 nan nan   nan            13.122  \n",
       "4 3.000 2.000 0.000 232.000 16.000  22 nan nan   nan            13.528  \n",
       "\n",
       "[5 rows x 31 columns]"
      ]
     },
     "execution_count": 546,
     "metadata": {},
     "output_type": "execute_result"
    }
   ],
   "source": [
    "train_data.head()"
   ]
  },
  {
   "cell_type": "markdown",
   "metadata": {},
   "source": [
    "### 看playerID 平均薪資、續約次數的關係"
   ]
  },
  {
   "cell_type": "code",
   "execution_count": 547,
   "metadata": {},
   "outputs": [],
   "source": [
    "#train_data['Seniority'] = train_data.groupby('playerID')['yearID'].transform(lambda x: x - x.min())"
   ]
  },
  {
   "cell_type": "code",
   "execution_count": 548,
   "metadata": {
    "scrolled": true
   },
   "outputs": [],
   "source": [
    "#ax = sns.barplot(x=\"Seniority\", y=\"salary_next_year\",data=train_data) #打越多場是否越有價值 明星球員的價值"
   ]
  },
  {
   "cell_type": "code",
   "execution_count": 549,
   "metadata": {},
   "outputs": [],
   "source": [
    "#train_data['Seniority'] = train_data.groupby('playerID')['yearID'].transform(lambda x: x - x.min()+1)\n",
    "#test_data['Seniority'] = test_data.groupby('playerID')['yearID'].transform(lambda x: x - x.min()+1)"
   ]
  },
  {
   "cell_type": "markdown",
   "metadata": {},
   "source": [
    "### 什麼樣的情況下, 球團更願意加薪水? - \n",
    "1. 判斷是否為當年的冠軍隊伍\n",
    "2. 誰是明星球員, 他們的分布如何\n",
    "3. 今年的表現決定明年的結果(加熱薪資特徵)"
   ]
  },
  {
   "cell_type": "code",
   "execution_count": 550,
   "metadata": {
    "scrolled": true
   },
   "outputs": [
    {
     "data": {
      "text/plain": [
       "PIT    244\n",
       "SLN    244\n",
       "TOR    237\n",
       "NYA    235\n",
       "SFN    233\n",
       "LAN    231\n",
       "NYN    230\n",
       "CHA    227\n",
       "CLE    225\n",
       "PHI    225\n",
       "CHN    224\n",
       "SDN    224\n",
       "OAK    223\n",
       "ATL    222\n",
       "BOS    220\n",
       "MIN    217\n",
       "TEX    215\n",
       "CIN    209\n",
       "DET    207\n",
       "HOU    204\n",
       "BAL    201\n",
       "SEA    197\n",
       "KCA    190\n",
       "FLO    175\n",
       "COL    172\n",
       "MON    164\n",
       "MIL    106\n",
       "ARI    104\n",
       "TBA    103\n",
       "CAL     98\n",
       "ML4     90\n",
       "ANA     76\n",
       "LAA     69\n",
       "WAS     43\n",
       "Name: teamID, dtype: int64"
      ]
     },
     "execution_count": 550,
     "metadata": {},
     "output_type": "execute_result"
    }
   ],
   "source": [
    "train_data['teamID'].value_counts()"
   ]
  },
  {
   "cell_type": "code",
   "execution_count": 551,
   "metadata": {},
   "outputs": [],
   "source": [
    "champion = pd.read_csv('champion.csv')"
   ]
  },
  {
   "cell_type": "code",
   "execution_count": 552,
   "metadata": {
    "scrolled": true
   },
   "outputs": [
    {
     "data": {
      "text/html": [
       "<div>\n",
       "<style scoped>\n",
       "    .dataframe tbody tr th:only-of-type {\n",
       "        vertical-align: middle;\n",
       "    }\n",
       "\n",
       "    .dataframe tbody tr th {\n",
       "        vertical-align: top;\n",
       "    }\n",
       "\n",
       "    .dataframe thead th {\n",
       "        text-align: right;\n",
       "    }\n",
       "</style>\n",
       "<table border=\"1\" class=\"dataframe\">\n",
       "  <thead>\n",
       "    <tr style=\"text-align: right;\">\n",
       "      <th></th>\n",
       "      <th>yearID</th>\n",
       "      <th>teamID</th>\n",
       "      <th>Champion</th>\n",
       "    </tr>\n",
       "  </thead>\n",
       "  <tbody>\n",
       "    <tr>\n",
       "      <th>0</th>\n",
       "      <td>1985</td>\n",
       "      <td>KCA</td>\n",
       "      <td>1</td>\n",
       "    </tr>\n",
       "    <tr>\n",
       "      <th>1</th>\n",
       "      <td>1986</td>\n",
       "      <td>BOS</td>\n",
       "      <td>1</td>\n",
       "    </tr>\n",
       "    <tr>\n",
       "      <th>2</th>\n",
       "      <td>1987</td>\n",
       "      <td>MIN</td>\n",
       "      <td>1</td>\n",
       "    </tr>\n",
       "    <tr>\n",
       "      <th>3</th>\n",
       "      <td>1988</td>\n",
       "      <td>OAK</td>\n",
       "      <td>1</td>\n",
       "    </tr>\n",
       "    <tr>\n",
       "      <th>4</th>\n",
       "      <td>1989</td>\n",
       "      <td>OAK</td>\n",
       "      <td>2</td>\n",
       "    </tr>\n",
       "    <tr>\n",
       "      <th>5</th>\n",
       "      <td>1990</td>\n",
       "      <td>OAK</td>\n",
       "      <td>3</td>\n",
       "    </tr>\n",
       "    <tr>\n",
       "      <th>6</th>\n",
       "      <td>1991</td>\n",
       "      <td>MIN</td>\n",
       "      <td>1</td>\n",
       "    </tr>\n",
       "    <tr>\n",
       "      <th>7</th>\n",
       "      <td>1992</td>\n",
       "      <td>TOR</td>\n",
       "      <td>1</td>\n",
       "    </tr>\n",
       "    <tr>\n",
       "      <th>8</th>\n",
       "      <td>1993</td>\n",
       "      <td>TOR</td>\n",
       "      <td>2</td>\n",
       "    </tr>\n",
       "    <tr>\n",
       "      <th>9</th>\n",
       "      <td>1995</td>\n",
       "      <td>CLE</td>\n",
       "      <td>1</td>\n",
       "    </tr>\n",
       "    <tr>\n",
       "      <th>10</th>\n",
       "      <td>1996</td>\n",
       "      <td>NYA</td>\n",
       "      <td>1</td>\n",
       "    </tr>\n",
       "    <tr>\n",
       "      <th>11</th>\n",
       "      <td>1997</td>\n",
       "      <td>CLE</td>\n",
       "      <td>1</td>\n",
       "    </tr>\n",
       "    <tr>\n",
       "      <th>12</th>\n",
       "      <td>1998</td>\n",
       "      <td>NYA</td>\n",
       "      <td>1</td>\n",
       "    </tr>\n",
       "    <tr>\n",
       "      <th>13</th>\n",
       "      <td>1999</td>\n",
       "      <td>NYA</td>\n",
       "      <td>2</td>\n",
       "    </tr>\n",
       "    <tr>\n",
       "      <th>14</th>\n",
       "      <td>2000</td>\n",
       "      <td>NYA</td>\n",
       "      <td>3</td>\n",
       "    </tr>\n",
       "    <tr>\n",
       "      <th>15</th>\n",
       "      <td>2001</td>\n",
       "      <td>NYA</td>\n",
       "      <td>4</td>\n",
       "    </tr>\n",
       "    <tr>\n",
       "      <th>16</th>\n",
       "      <td>2002</td>\n",
       "      <td>ANA</td>\n",
       "      <td>1</td>\n",
       "    </tr>\n",
       "    <tr>\n",
       "      <th>17</th>\n",
       "      <td>2003</td>\n",
       "      <td>NYA</td>\n",
       "      <td>1</td>\n",
       "    </tr>\n",
       "    <tr>\n",
       "      <th>18</th>\n",
       "      <td>2004</td>\n",
       "      <td>BOS</td>\n",
       "      <td>1</td>\n",
       "    </tr>\n",
       "    <tr>\n",
       "      <th>19</th>\n",
       "      <td>2005</td>\n",
       "      <td>CHA</td>\n",
       "      <td>1</td>\n",
       "    </tr>\n",
       "    <tr>\n",
       "      <th>20</th>\n",
       "      <td>2006</td>\n",
       "      <td>DET</td>\n",
       "      <td>1</td>\n",
       "    </tr>\n",
       "    <tr>\n",
       "      <th>21</th>\n",
       "      <td>2007</td>\n",
       "      <td>BOS</td>\n",
       "      <td>1</td>\n",
       "    </tr>\n",
       "    <tr>\n",
       "      <th>22</th>\n",
       "      <td>2008</td>\n",
       "      <td>TBA</td>\n",
       "      <td>1</td>\n",
       "    </tr>\n",
       "    <tr>\n",
       "      <th>23</th>\n",
       "      <td>2009</td>\n",
       "      <td>NYA</td>\n",
       "      <td>1</td>\n",
       "    </tr>\n",
       "    <tr>\n",
       "      <th>24</th>\n",
       "      <td>2010</td>\n",
       "      <td>TEX</td>\n",
       "      <td>1</td>\n",
       "    </tr>\n",
       "    <tr>\n",
       "      <th>25</th>\n",
       "      <td>2011</td>\n",
       "      <td>TEX</td>\n",
       "      <td>2</td>\n",
       "    </tr>\n",
       "    <tr>\n",
       "      <th>26</th>\n",
       "      <td>2012</td>\n",
       "      <td>NYA</td>\n",
       "      <td>1</td>\n",
       "    </tr>\n",
       "  </tbody>\n",
       "</table>\n",
       "</div>"
      ],
      "text/plain": [
       "    yearID teamID  Champion\n",
       "0     1985    KCA         1\n",
       "1     1986    BOS         1\n",
       "2     1987    MIN         1\n",
       "3     1988    OAK         1\n",
       "4     1989    OAK         2\n",
       "5     1990    OAK         3\n",
       "6     1991    MIN         1\n",
       "7     1992    TOR         1\n",
       "8     1993    TOR         2\n",
       "9     1995    CLE         1\n",
       "10    1996    NYA         1\n",
       "11    1997    CLE         1\n",
       "12    1998    NYA         1\n",
       "13    1999    NYA         2\n",
       "14    2000    NYA         3\n",
       "15    2001    NYA         4\n",
       "16    2002    ANA         1\n",
       "17    2003    NYA         1\n",
       "18    2004    BOS         1\n",
       "19    2005    CHA         1\n",
       "20    2006    DET         1\n",
       "21    2007    BOS         1\n",
       "22    2008    TBA         1\n",
       "23    2009    NYA         1\n",
       "24    2010    TEX         1\n",
       "25    2011    TEX         2\n",
       "26    2012    NYA         1"
      ]
     },
     "execution_count": 552,
     "metadata": {},
     "output_type": "execute_result"
    }
   ],
   "source": [
    "champion"
   ]
  },
  {
   "cell_type": "code",
   "execution_count": 553,
   "metadata": {},
   "outputs": [
    {
     "data": {
      "text/html": [
       "<div>\n",
       "<style scoped>\n",
       "    .dataframe tbody tr th:only-of-type {\n",
       "        vertical-align: middle;\n",
       "    }\n",
       "\n",
       "    .dataframe tbody tr th {\n",
       "        vertical-align: top;\n",
       "    }\n",
       "\n",
       "    .dataframe thead th {\n",
       "        text-align: right;\n",
       "    }\n",
       "</style>\n",
       "<table border=\"1\" class=\"dataframe\">\n",
       "  <thead>\n",
       "    <tr style=\"text-align: right;\">\n",
       "      <th></th>\n",
       "      <th>BAOpp</th>\n",
       "      <th>BB</th>\n",
       "      <th>BFP</th>\n",
       "      <th>BK</th>\n",
       "      <th>CG</th>\n",
       "      <th>ER</th>\n",
       "      <th>ERA</th>\n",
       "      <th>G</th>\n",
       "      <th>GF</th>\n",
       "      <th>GIDP</th>\n",
       "      <th>...</th>\n",
       "      <th>SHO</th>\n",
       "      <th>SO</th>\n",
       "      <th>SV</th>\n",
       "      <th>W</th>\n",
       "      <th>WP</th>\n",
       "      <th>lgID</th>\n",
       "      <th>playerID</th>\n",
       "      <th>stint</th>\n",
       "      <th>teamID</th>\n",
       "      <th>yearID</th>\n",
       "    </tr>\n",
       "  </thead>\n",
       "  <tbody>\n",
       "    <tr>\n",
       "      <th>345</th>\n",
       "      <td>0.280</td>\n",
       "      <td>16</td>\n",
       "      <td>532.000</td>\n",
       "      <td>0.000</td>\n",
       "      <td>0</td>\n",
       "      <td>34</td>\n",
       "      <td>2.370</td>\n",
       "      <td>84</td>\n",
       "      <td>76.000</td>\n",
       "      <td>nan</td>\n",
       "      <td>...</td>\n",
       "      <td>0</td>\n",
       "      <td>54</td>\n",
       "      <td>37</td>\n",
       "      <td>8</td>\n",
       "      <td>0.000</td>\n",
       "      <td>AL</td>\n",
       "      <td>quiseda01</td>\n",
       "      <td>1</td>\n",
       "      <td>KCA</td>\n",
       "      <td>1985</td>\n",
       "    </tr>\n",
       "    <tr>\n",
       "      <th>640</th>\n",
       "      <td>0.260</td>\n",
       "      <td>76</td>\n",
       "      <td>893.000</td>\n",
       "      <td>2.000</td>\n",
       "      <td>4</td>\n",
       "      <td>79</td>\n",
       "      <td>3.420</td>\n",
       "      <td>32</td>\n",
       "      <td>0.000</td>\n",
       "      <td>nan</td>\n",
       "      <td>...</td>\n",
       "      <td>3</td>\n",
       "      <td>114</td>\n",
       "      <td>0</td>\n",
       "      <td>14</td>\n",
       "      <td>4.000</td>\n",
       "      <td>AL</td>\n",
       "      <td>jacksda02</td>\n",
       "      <td>1</td>\n",
       "      <td>KCA</td>\n",
       "      <td>1985</td>\n",
       "    </tr>\n",
       "    <tr>\n",
       "      <th>751</th>\n",
       "      <td>0.260</td>\n",
       "      <td>59</td>\n",
       "      <td>885.000</td>\n",
       "      <td>1.000</td>\n",
       "      <td>5</td>\n",
       "      <td>99</td>\n",
       "      <td>4.330</td>\n",
       "      <td>33</td>\n",
       "      <td>0.000</td>\n",
       "      <td>nan</td>\n",
       "      <td>...</td>\n",
       "      <td>2</td>\n",
       "      <td>122</td>\n",
       "      <td>0</td>\n",
       "      <td>10</td>\n",
       "      <td>9.000</td>\n",
       "      <td>AL</td>\n",
       "      <td>blackbu02</td>\n",
       "      <td>1</td>\n",
       "      <td>KCA</td>\n",
       "      <td>1985</td>\n",
       "    </tr>\n",
       "    <tr>\n",
       "      <th>2427</th>\n",
       "      <td>0.240</td>\n",
       "      <td>68</td>\n",
       "      <td>983.000</td>\n",
       "      <td>3.000</td>\n",
       "      <td>8</td>\n",
       "      <td>71</td>\n",
       "      <td>2.690</td>\n",
       "      <td>33</td>\n",
       "      <td>0.000</td>\n",
       "      <td>nan</td>\n",
       "      <td>...</td>\n",
       "      <td>3</td>\n",
       "      <td>108</td>\n",
       "      <td>0</td>\n",
       "      <td>17</td>\n",
       "      <td>4.000</td>\n",
       "      <td>AL</td>\n",
       "      <td>leibrch01</td>\n",
       "      <td>1</td>\n",
       "      <td>KCA</td>\n",
       "      <td>1985</td>\n",
       "    </tr>\n",
       "    <tr>\n",
       "      <th>6473</th>\n",
       "      <td>0.230</td>\n",
       "      <td>77</td>\n",
       "      <td>760.000</td>\n",
       "      <td>0.000</td>\n",
       "      <td>0</td>\n",
       "      <td>80</td>\n",
       "      <td>4.060</td>\n",
       "      <td>29</td>\n",
       "      <td>0.000</td>\n",
       "      <td>nan</td>\n",
       "      <td>...</td>\n",
       "      <td>0</td>\n",
       "      <td>99</td>\n",
       "      <td>0</td>\n",
       "      <td>14</td>\n",
       "      <td>12.000</td>\n",
       "      <td>AL</td>\n",
       "      <td>gubicma01</td>\n",
       "      <td>1</td>\n",
       "      <td>KCA</td>\n",
       "      <td>1985</td>\n",
       "    </tr>\n",
       "    <tr>\n",
       "      <th>6971</th>\n",
       "      <td>0.240</td>\n",
       "      <td>38</td>\n",
       "      <td>931.000</td>\n",
       "      <td>3.000</td>\n",
       "      <td>10</td>\n",
       "      <td>75</td>\n",
       "      <td>2.870</td>\n",
       "      <td>32</td>\n",
       "      <td>0.000</td>\n",
       "      <td>nan</td>\n",
       "      <td>...</td>\n",
       "      <td>1</td>\n",
       "      <td>158</td>\n",
       "      <td>0</td>\n",
       "      <td>20</td>\n",
       "      <td>1.000</td>\n",
       "      <td>AL</td>\n",
       "      <td>saberbr01</td>\n",
       "      <td>1</td>\n",
       "      <td>KCA</td>\n",
       "      <td>1985</td>\n",
       "    </tr>\n",
       "  </tbody>\n",
       "</table>\n",
       "<p>6 rows × 30 columns</p>\n",
       "</div>"
      ],
      "text/plain": [
       "      BAOpp  BB     BFP    BK  CG  ER   ERA   G     GF  GIDP   ...    SHO  \\\n",
       "345   0.280  16 532.000 0.000   0  34 2.370  84 76.000   nan   ...      0   \n",
       "640   0.260  76 893.000 2.000   4  79 3.420  32  0.000   nan   ...      3   \n",
       "751   0.260  59 885.000 1.000   5  99 4.330  33  0.000   nan   ...      2   \n",
       "2427  0.240  68 983.000 3.000   8  71 2.690  33  0.000   nan   ...      3   \n",
       "6473  0.230  77 760.000 0.000   0  80 4.060  29  0.000   nan   ...      0   \n",
       "6971  0.240  38 931.000 3.000  10  75 2.870  32  0.000   nan   ...      1   \n",
       "\n",
       "       SO  SV   W     WP  lgID   playerID  stint  teamID  yearID  \n",
       "345    54  37   8  0.000    AL  quiseda01      1     KCA    1985  \n",
       "640   114   0  14  4.000    AL  jacksda02      1     KCA    1985  \n",
       "751   122   0  10  9.000    AL  blackbu02      1     KCA    1985  \n",
       "2427  108   0  17  4.000    AL  leibrch01      1     KCA    1985  \n",
       "6473   99   0  14 12.000    AL  gubicma01      1     KCA    1985  \n",
       "6971  158   0  20  1.000    AL  saberbr01      1     KCA    1985  \n",
       "\n",
       "[6 rows x 30 columns]"
      ]
     },
     "execution_count": 553,
     "metadata": {},
     "output_type": "execute_result"
    }
   ],
   "source": [
    "all_data.loc[(all_data['yearID'] == 1985) & (all_data['teamID'] == 'KCA'),:]"
   ]
  },
  {
   "cell_type": "code",
   "execution_count": 554,
   "metadata": {
    "scrolled": true
   },
   "outputs": [
    {
     "data": {
      "text/html": [
       "<div>\n",
       "<style scoped>\n",
       "    .dataframe tbody tr th:only-of-type {\n",
       "        vertical-align: middle;\n",
       "    }\n",
       "\n",
       "    .dataframe tbody tr th {\n",
       "        vertical-align: top;\n",
       "    }\n",
       "\n",
       "    .dataframe thead th {\n",
       "        text-align: right;\n",
       "    }\n",
       "</style>\n",
       "<table border=\"1\" class=\"dataframe\">\n",
       "  <thead>\n",
       "    <tr style=\"text-align: right;\">\n",
       "      <th></th>\n",
       "      <th>BAOpp</th>\n",
       "      <th>BB</th>\n",
       "      <th>BFP</th>\n",
       "      <th>BK</th>\n",
       "      <th>CG</th>\n",
       "      <th>ER</th>\n",
       "      <th>ERA</th>\n",
       "      <th>G</th>\n",
       "      <th>GF</th>\n",
       "      <th>GIDP</th>\n",
       "      <th>...</th>\n",
       "      <th>SHO</th>\n",
       "      <th>SO</th>\n",
       "      <th>SV</th>\n",
       "      <th>W</th>\n",
       "      <th>WP</th>\n",
       "      <th>lgID</th>\n",
       "      <th>playerID</th>\n",
       "      <th>stint</th>\n",
       "      <th>teamID</th>\n",
       "      <th>yearID</th>\n",
       "    </tr>\n",
       "  </thead>\n",
       "  <tbody>\n",
       "    <tr>\n",
       "      <th>0</th>\n",
       "      <td>0.270</td>\n",
       "      <td>41</td>\n",
       "      <td>488.000</td>\n",
       "      <td>0.000</td>\n",
       "      <td>0</td>\n",
       "      <td>49</td>\n",
       "      <td>3.850</td>\n",
       "      <td>54</td>\n",
       "      <td>26.000</td>\n",
       "      <td>nan</td>\n",
       "      <td>...</td>\n",
       "      <td>0</td>\n",
       "      <td>70</td>\n",
       "      <td>6</td>\n",
       "      <td>6</td>\n",
       "      <td>3.000</td>\n",
       "      <td>AL</td>\n",
       "      <td>nelsoge01</td>\n",
       "      <td>1</td>\n",
       "      <td>CHA</td>\n",
       "      <td>1986</td>\n",
       "    </tr>\n",
       "    <tr>\n",
       "      <th>1</th>\n",
       "      <td>0.250</td>\n",
       "      <td>43</td>\n",
       "      <td>787.000</td>\n",
       "      <td>0.000</td>\n",
       "      <td>2</td>\n",
       "      <td>81</td>\n",
       "      <td>3.860</td>\n",
       "      <td>30</td>\n",
       "      <td>0.000</td>\n",
       "      <td>nan</td>\n",
       "      <td>...</td>\n",
       "      <td>0</td>\n",
       "      <td>113</td>\n",
       "      <td>0</td>\n",
       "      <td>17</td>\n",
       "      <td>3.000</td>\n",
       "      <td>AL</td>\n",
       "      <td>moyerja01</td>\n",
       "      <td>1</td>\n",
       "      <td>SEA</td>\n",
       "      <td>1997</td>\n",
       "    </tr>\n",
       "    <tr>\n",
       "      <th>2</th>\n",
       "      <td>nan</td>\n",
       "      <td>19</td>\n",
       "      <td>273.000</td>\n",
       "      <td>0.000</td>\n",
       "      <td>0</td>\n",
       "      <td>37</td>\n",
       "      <td>5.150</td>\n",
       "      <td>26</td>\n",
       "      <td>10.000</td>\n",
       "      <td>nan</td>\n",
       "      <td>...</td>\n",
       "      <td>0</td>\n",
       "      <td>32</td>\n",
       "      <td>0</td>\n",
       "      <td>6</td>\n",
       "      <td>2.000</td>\n",
       "      <td>NL</td>\n",
       "      <td>thompbr01</td>\n",
       "      <td>1</td>\n",
       "      <td>SLN</td>\n",
       "      <td>2008</td>\n",
       "    </tr>\n",
       "    <tr>\n",
       "      <th>3</th>\n",
       "      <td>0.240</td>\n",
       "      <td>52</td>\n",
       "      <td>537.000</td>\n",
       "      <td>1.000</td>\n",
       "      <td>0</td>\n",
       "      <td>53</td>\n",
       "      <td>3.700</td>\n",
       "      <td>56</td>\n",
       "      <td>30.000</td>\n",
       "      <td>nan</td>\n",
       "      <td>...</td>\n",
       "      <td>0</td>\n",
       "      <td>95</td>\n",
       "      <td>1</td>\n",
       "      <td>10</td>\n",
       "      <td>5.000</td>\n",
       "      <td>NL</td>\n",
       "      <td>powerte01</td>\n",
       "      <td>1</td>\n",
       "      <td>CIN</td>\n",
       "      <td>1986</td>\n",
       "    </tr>\n",
       "    <tr>\n",
       "      <th>4</th>\n",
       "      <td>0.280</td>\n",
       "      <td>20</td>\n",
       "      <td>232.000</td>\n",
       "      <td>0.000</td>\n",
       "      <td>0</td>\n",
       "      <td>21</td>\n",
       "      <td>3.730</td>\n",
       "      <td>48</td>\n",
       "      <td>16.000</td>\n",
       "      <td>nan</td>\n",
       "      <td>...</td>\n",
       "      <td>0</td>\n",
       "      <td>47</td>\n",
       "      <td>0</td>\n",
       "      <td>2</td>\n",
       "      <td>3.000</td>\n",
       "      <td>AL</td>\n",
       "      <td>osunaan01</td>\n",
       "      <td>1</td>\n",
       "      <td>NYA</td>\n",
       "      <td>2003</td>\n",
       "    </tr>\n",
       "  </tbody>\n",
       "</table>\n",
       "<p>5 rows × 30 columns</p>\n",
       "</div>"
      ],
      "text/plain": [
       "   BAOpp  BB     BFP    BK  CG  ER   ERA   G     GF  GIDP   ...    SHO   SO  \\\n",
       "0  0.270  41 488.000 0.000   0  49 3.850  54 26.000   nan   ...      0   70   \n",
       "1  0.250  43 787.000 0.000   2  81 3.860  30  0.000   nan   ...      0  113   \n",
       "2    nan  19 273.000 0.000   0  37 5.150  26 10.000   nan   ...      0   32   \n",
       "3  0.240  52 537.000 1.000   0  53 3.700  56 30.000   nan   ...      0   95   \n",
       "4  0.280  20 232.000 0.000   0  21 3.730  48 16.000   nan   ...      0   47   \n",
       "\n",
       "   SV   W    WP  lgID   playerID  stint  teamID  yearID  \n",
       "0   6   6 3.000    AL  nelsoge01      1     CHA    1986  \n",
       "1   0  17 3.000    AL  moyerja01      1     SEA    1997  \n",
       "2   0   6 2.000    NL  thompbr01      1     SLN    2008  \n",
       "3   1  10 5.000    NL  powerte01      1     CIN    1986  \n",
       "4   0   2 3.000    AL  osunaan01      1     NYA    2003  \n",
       "\n",
       "[5 rows x 30 columns]"
      ]
     },
     "execution_count": 554,
     "metadata": {},
     "output_type": "execute_result"
    }
   ],
   "source": [
    "all_data.head()"
   ]
  },
  {
   "cell_type": "markdown",
   "metadata": {},
   "source": [
    "### 看一下資歷跟年薪的關係 並創建特徵"
   ]
  },
  {
   "cell_type": "code",
   "execution_count": 555,
   "metadata": {},
   "outputs": [],
   "source": [
    "all_data['Seniority'] = all_data.groupby('playerID')['yearID'].transform(lambda x: x - x.min()+1)"
   ]
  },
  {
   "cell_type": "code",
   "execution_count": 556,
   "metadata": {},
   "outputs": [],
   "source": [
    "train1 = all_data[:ntrain]\n",
    "train1['target'] = train_data['salary_next_year']"
   ]
  },
  {
   "cell_type": "code",
   "execution_count": 557,
   "metadata": {},
   "outputs": [
    {
     "data": {
      "text/plain": [
       "<matplotlib.axes._subplots.AxesSubplot at 0x23e16544ba8>"
      ]
     },
     "execution_count": 557,
     "metadata": {},
     "output_type": "execute_result"
    },
    {
     "data": {
      "image/png": "[encoded data removed]",
      "text/plain": [
       "<Figure size 1152x576 with 1 Axes>"
      ]
     },
     "metadata": {},
     "output_type": "display_data"
    }
   ],
   "source": [
    "f, ax = plt.subplots(figsize=(16, 8)) #會發現年資整體是 隨年資成長, 但最後一年會大幅下降\n",
    "sns.lineplot(x='Seniority', y='target', data=train1,color = 'green') #可發現從1995年以後薪資是一路成長, 且可以用五年用一個單位"
   ]
  },
  {
   "cell_type": "markdown",
   "metadata": {},
   "source": [
    "1. 考慮到13-15為一桶\n",
    "2. 0-11 為一桶\n",
    "3. 11-13為一桶\n",
    "4. 15 - 17.5為一桶\n",
    "5. 17.5 - 25為一桶"
   ]
  },
  {
   "cell_type": "code",
   "execution_count": 558,
   "metadata": {
    "scrolled": true
   },
   "outputs": [],
   "source": [
    "bin=[0,6,11,16,17,20,24,26]\n",
    "all_data['Seniority'] = pd.cut(all_data['Seniority'],bin)"
   ]
  },
  {
   "cell_type": "code",
   "execution_count": 559,
   "metadata": {},
   "outputs": [],
   "source": [
    "all_data['Seniority'] =all_data['Seniority'].astype('str')"
   ]
  },
  {
   "cell_type": "code",
   "execution_count": 560,
   "metadata": {},
   "outputs": [
    {
     "data": {
      "text/plain": [
       "(0, 6]      5260\n",
       "(6, 11]     1647\n",
       "(11, 16]     420\n",
       "(17, 20]      35\n",
       "(16, 17]      25\n",
       "(20, 24]       5\n",
       "(24, 26]       1\n",
       "Name: Seniority, dtype: int64"
      ]
     },
     "execution_count": 560,
     "metadata": {},
     "output_type": "execute_result"
    }
   ],
   "source": [
    "all_data['Seniority'].value_counts()"
   ]
  },
  {
   "cell_type": "code",
   "execution_count": 561,
   "metadata": {
    "scrolled": true
   },
   "outputs": [],
   "source": [
    "all_data['Seniority'] = all_data['Seniority'].apply(lambda x : 4 if x  == '(0, 6]' else x)\n",
    "all_data['Seniority'] = all_data['Seniority'].apply(lambda x : 2 if x  == '(6, 11]' else x)\n",
    "all_data['Seniority'] = all_data['Seniority'].apply(lambda x : 1 if x  == '(11, 16]' else x)\n",
    "all_data['Seniority'] = all_data['Seniority'].apply(lambda x : -1 if x  == '(17, 20]' else x)\n",
    "all_data['Seniority'] = all_data['Seniority'].apply(lambda x : 2 if x  == '(16, 17]' else x)\n",
    "all_data['Seniority'] = all_data['Seniority'].apply(lambda x : 3 if x  == '(20, 24]' else x)\n",
    "all_data['Seniority'] = all_data['Seniority'].apply(lambda x : -1 if x  == '(24, 26]' else x)"
   ]
  },
  {
   "cell_type": "code",
   "execution_count": 562,
   "metadata": {},
   "outputs": [
    {
     "data": {
      "text/plain": [
       " 4    5260\n",
       " 2    1672\n",
       " 1     420\n",
       "-1      36\n",
       " 3       5\n",
       "Name: Seniority, dtype: int64"
      ]
     },
     "execution_count": 562,
     "metadata": {},
     "output_type": "execute_result"
    }
   ],
   "source": [
    "all_data['Seniority'].value_counts()"
   ]
  },
  {
   "cell_type": "markdown",
   "metadata": {},
   "source": [
    "# 資料前處理\n",
    "\n",
    "1. 異常值處理\n",
    "2. 填補缺失值\n",
    "3. 資料轉換\n",
    "4. 特徵選擇\n",
    "5. 資料拆分"
   ]
  },
  {
   "cell_type": "markdown",
   "metadata": {},
   "source": [
    "### 1. 缺失值處理"
   ]
  },
  {
   "cell_type": "code",
   "execution_count": 563,
   "metadata": {
    "scrolled": true
   },
   "outputs": [
    {
     "data": {
      "text/plain": [
       "Text(0.5, 1.0, 'Percent missing data by feature')"
      ]
     },
     "execution_count": 563,
     "metadata": {},
     "output_type": "execute_result"
    },
    {
     "data": {
      "image/png": "[encoded data removed]",
      "text/plain": [
       "<Figure size 1080x864 with 1 Axes>"
      ]
     },
     "metadata": {},
     "output_type": "display_data"
    }
   ],
   "source": [
    "all_data_na = (all_data.isnull().sum()/len(all_data)) * 100\n",
    "all_data_na = all_data_na.drop(all_data_na[all_data_na == 0].index).sort_values(ascending = False)\n",
    "missing_data = pd.DataFrame({'Missing Ratio': all_data_na})\n",
    "\n",
    "f, ax = plt.subplots(figsize = (15,12))\n",
    "plt.xticks(rotation = '90',fontsize = 20)\n",
    "plt.yticks(fontsize = 20)\n",
    "sns.barplot(x = all_data_na.index, y = all_data_na)\n",
    "for a,b in enumerate(all_data_na):\n",
    "    plt.text(a, b, '%.4f' % b, ha='center', va= 'bottom',fontsize=20)\n",
    "plt.xlabel('Features', fontsize = 20)\n",
    "plt.ylabel('Percent of missing values', fontsize = 20)\n",
    "plt.title('Percent missing data by feature', fontsize = 20)"
   ]
  },
  {
   "cell_type": "code",
   "execution_count": 564,
   "metadata": {},
   "outputs": [],
   "source": [
    "all_data.drop(['SH','SF','GIDP'], axis = 1, inplace = True) #刪除掉完全沒有值的資料欄位"
   ]
  },
  {
   "cell_type": "code",
   "execution_count": 565,
   "metadata": {},
   "outputs": [],
   "source": [
    "#all_data.fillna(all_data['BAOpp'].mean(),inplace = True)"
   ]
  },
  {
   "cell_type": "code",
   "execution_count": 566,
   "metadata": {},
   "outputs": [
    {
     "data": {
      "image/png": "[encoded data removed]",
      "text/plain": [
       "<Figure size 288x432 with 2 Axes>"
      ]
     },
     "metadata": {},
     "output_type": "display_data"
    }
   ],
   "source": [
    "corr_to_target(train_data[~train_data['BAOpp'].isnull()].drop(['SH','SF','GIDP'],axis = 1), 'BAOpp') #可以看到薪資跟年代高度相關，以前的薪水跟現在的薪水不一樣"
   ]
  },
  {
   "cell_type": "markdown",
   "metadata": {},
   "source": [
    "### 用LinearRegression 填補缺失值"
   ]
  },
  {
   "cell_type": "code",
   "execution_count": 567,
   "metadata": {
    "scrolled": false
   },
   "outputs": [],
   "source": [
    "from sklearn.linear_model import LinearRegression\n",
    "linreg = LinearRegression()\n",
    "data = all_data[['ERA','yearID','G','SO','GF','BB','SV','BAOpp']]\n",
    "#Step-1: Split the dataset that contains the missing values and no missing values are test and train respectively.\n",
    "x_train = data[data['BAOpp'].notnull()].drop(columns='BAOpp')\n",
    "y_train = data[data['BAOpp'].notnull()]['BAOpp']\n",
    "x_test = data[data['BAOpp'].isnull()].drop(columns='BAOpp')\n",
    "y_test = data[data['BAOpp'].isnull()]['BAOpp']\n",
    "#Step-2: Train the machine learning algorithm\n",
    "linreg.fit(x_train, y_train)\n",
    "#Step-3: Predict the missing values in the attribute of the test data.\n",
    "predicted = linreg.predict(x_test)\n",
    "#Step-4: Let’s obtain the complete dataset by combining with the target attribute.\n",
    "all_data.BAOpp[all_data.BAOpp.isnull()] = predicted\n"
   ]
  },
  {
   "cell_type": "code",
   "execution_count": 568,
   "metadata": {},
   "outputs": [
    {
     "name": "stdout",
     "output_type": "stream",
     "text": [
      "<class 'pandas.core.frame.DataFrame'>\n",
      "RangeIndex: 7393 entries, 0 to 7392\n",
      "Data columns (total 28 columns):\n",
      "BAOpp        7393 non-null float64\n",
      "BB           7393 non-null int64\n",
      "BFP          7393 non-null float64\n",
      "BK           7393 non-null float64\n",
      "CG           7393 non-null int64\n",
      "ER           7393 non-null int64\n",
      "ERA          7393 non-null float64\n",
      "G            7393 non-null int64\n",
      "GF           7393 non-null float64\n",
      "GS           7393 non-null int64\n",
      "H            7393 non-null int64\n",
      "HBP          7393 non-null float64\n",
      "HR           7393 non-null int64\n",
      "IBB          7393 non-null float64\n",
      "IPouts       7393 non-null int64\n",
      "L            7393 non-null int64\n",
      "R            7393 non-null int64\n",
      "SHO          7393 non-null int64\n",
      "SO           7393 non-null int64\n",
      "SV           7393 non-null int64\n",
      "W            7393 non-null int64\n",
      "WP           7393 non-null float64\n",
      "lgID         7393 non-null object\n",
      "playerID     7393 non-null object\n",
      "stint        7393 non-null int64\n",
      "teamID       7393 non-null object\n",
      "yearID       7393 non-null int64\n",
      "Seniority    7393 non-null int64\n",
      "dtypes: float64(8), int64(17), object(3)\n",
      "memory usage: 1.6+ MB\n"
     ]
    }
   ],
   "source": [
    "all_data = all_data.fillna(0)\n",
    "all_data.info()"
   ]
  },
  {
   "cell_type": "markdown",
   "metadata": {},
   "source": [
    "# 可再改進"
   ]
  },
  {
   "cell_type": "code",
   "execution_count": 569,
   "metadata": {},
   "outputs": [],
   "source": [
    "all_data['WP'].fillna(value=all_data['WP'].mean(), inplace=True)\n",
    "all_data['IBB'].fillna(value=all_data['IBB'].mean(), inplace=True)\n",
    "all_data['HBP'].fillna(value=all_data['HBP'].mean(), inplace=True)\n",
    "all_data['BK'].fillna(value=all_data['BK'].mean(), inplace=True)  "
   ]
  },
  {
   "cell_type": "markdown",
   "metadata": {},
   "source": [
    "###  2. Feature Creation - 依球員playerID 建立平均特徵"
   ]
  },
  {
   "cell_type": "markdown",
   "metadata": {},
   "source": [
    "* W:勝場次\n",
    "* L:敗場次\n",
    "* G:出場次數\n",
    "* GS:球員是先發投手的次數\n",
    "* CG:投手獨力投完全場的比賽次數\n",
    "* SHO:投完整場比賽，且沒有失去任何分數的次數\n",
    "* SV:救援成功次數(投手沒有搞砸球隊優勢)\n",
    "* IPouts:投球局數*3\n",
    "* H:被安打數\n",
    "* ER:自責分\n",
    "* HR:被全壘打數\n",
    "* BB:四壞保送次數\n",
    "* SO:三振次數\n",
    "* BAOpp:對手平均打擊率\n",
    "* ERA:防禦率\n",
    "* IBB:四壞球次數\n",
    "* WB:暴投次數\n",
    "* HBP:觸身球次數\n",
    "* BK:投手犯規次數\n",
    "* BFP:單一投手面臨多少打者\n",
    "* GF:完成比賽之次數(記於最後一任投手上)\n",
    "* R:打擊分數總計"
   ]
  },
  {
   "cell_type": "code",
   "execution_count": 570,
   "metadata": {},
   "outputs": [],
   "source": [
    "column = ['W', 'L', 'G', 'GS','CG', 'SHO', 'SV', 'IPouts', 'H', 'ER', 'HR', 'BB', 'SO', 'BAOpp',\n",
    "       'ERA', 'IBB', 'WP', 'HBP', 'BK', 'BFP', 'GF', 'R']"
   ]
  },
  {
   "cell_type": "code",
   "execution_count": 571,
   "metadata": {},
   "outputs": [],
   "source": [
    "for x in column:\n",
    "    all_data[x + '_mean'] = all_data.groupby('playerID')[x].transform(lambda x:x.mean()) "
   ]
  },
  {
   "cell_type": "code",
   "execution_count": 572,
   "metadata": {
    "scrolled": true
   },
   "outputs": [
    {
     "data": {
      "text/plain": [
       "(6284, 31)"
      ]
     },
     "execution_count": 572,
     "metadata": {},
     "output_type": "execute_result"
    }
   ],
   "source": [
    "train_data.shape #效果不好"
   ]
  },
  {
   "cell_type": "markdown",
   "metadata": {},
   "source": [
    "### 將前一年的表現減去後一年的表現"
   ]
  },
  {
   "cell_type": "code",
   "execution_count": 573,
   "metadata": {
    "scrolled": true
   },
   "outputs": [],
   "source": [
    "all_data = all_data.sort_values(by = 'yearID')"
   ]
  },
  {
   "cell_type": "code",
   "execution_count": 574,
   "metadata": {
    "scrolled": true
   },
   "outputs": [],
   "source": [
    "for x in column:\n",
    "    all_data[x + '_diff_last_year'] = all_data.groupby('playerID')[x].apply(lambda i:i.diff(1)).fillna(0)"
   ]
  },
  {
   "cell_type": "code",
   "execution_count": 575,
   "metadata": {
    "scrolled": true
   },
   "outputs": [],
   "source": [
    "all_data = all_data.sort_index()"
   ]
  },
  {
   "cell_type": "markdown",
   "metadata": {},
   "source": [
    "### 加入薪資特徵"
   ]
  },
  {
   "cell_type": "code",
   "execution_count": 576,
   "metadata": {},
   "outputs": [
    {
     "data": {
      "text/plain": [
       "6284"
      ]
     },
     "execution_count": 576,
     "metadata": {},
     "output_type": "execute_result"
    }
   ],
   "source": [
    "train_data['playerID'].count()"
   ]
  },
  {
   "cell_type": "code",
   "execution_count": 577,
   "metadata": {
    "scrolled": true
   },
   "outputs": [],
   "source": [
    "train_data['salary_mean'] = train_data.groupby('playerID')['salary_next_year'].transform(lambda i :i.mean())\n",
    "train_data['salary_max'] = train_data.groupby('playerID')['salary_next_year'].transform(lambda i :i.max())\n",
    "train_data['salary_min'] = train_data.groupby('playerID')['salary_next_year'].transform(lambda i :i.min())\n",
    "train_data['salary_std'] = train_data.groupby('playerID')['salary_next_year'].transform(lambda i :i.std())"
   ]
  },
  {
   "cell_type": "code",
   "execution_count": 584,
   "metadata": {
    "scrolled": true
   },
   "outputs": [
    {
     "data": {
      "text/html": [
       "<div>\n",
       "<style scoped>\n",
       "    .dataframe tbody tr th:only-of-type {\n",
       "        vertical-align: middle;\n",
       "    }\n",
       "\n",
       "    .dataframe tbody tr th {\n",
       "        vertical-align: top;\n",
       "    }\n",
       "\n",
       "    .dataframe thead th {\n",
       "        text-align: right;\n",
       "    }\n",
       "</style>\n",
       "<table border=\"1\" class=\"dataframe\">\n",
       "  <thead>\n",
       "    <tr style=\"text-align: right;\">\n",
       "      <th></th>\n",
       "      <th>salary_mean</th>\n",
       "      <th>playerID</th>\n",
       "    </tr>\n",
       "  </thead>\n",
       "  <tbody>\n",
       "    <tr>\n",
       "      <th>0</th>\n",
       "      <td>13.268</td>\n",
       "      <td>nelsoge01</td>\n",
       "    </tr>\n",
       "    <tr>\n",
       "      <th>1</th>\n",
       "      <td>14.252</td>\n",
       "      <td>moyerja01</td>\n",
       "    </tr>\n",
       "    <tr>\n",
       "      <th>2</th>\n",
       "      <td>13.073</td>\n",
       "      <td>thompbr01</td>\n",
       "    </tr>\n",
       "    <tr>\n",
       "      <th>3</th>\n",
       "      <td>12.811</td>\n",
       "      <td>powerte01</td>\n",
       "    </tr>\n",
       "    <tr>\n",
       "      <th>4</th>\n",
       "      <td>13.707</td>\n",
       "      <td>osunaan01</td>\n",
       "    </tr>\n",
       "    <tr>\n",
       "      <th>5</th>\n",
       "      <td>13.977</td>\n",
       "      <td>mulhote01</td>\n",
       "    </tr>\n",
       "    <tr>\n",
       "      <th>6</th>\n",
       "      <td>14.974</td>\n",
       "      <td>wolfra02</td>\n",
       "    </tr>\n",
       "    <tr>\n",
       "      <th>7</th>\n",
       "      <td>14.066</td>\n",
       "      <td>rojasme01</td>\n",
       "    </tr>\n",
       "    <tr>\n",
       "      <th>8</th>\n",
       "      <td>14.631</td>\n",
       "      <td>marquja01</td>\n",
       "    </tr>\n",
       "    <tr>\n",
       "      <th>9</th>\n",
       "      <td>14.309</td>\n",
       "      <td>pelfrmi01</td>\n",
       "    </tr>\n",
       "    <tr>\n",
       "      <th>11</th>\n",
       "      <td>13.718</td>\n",
       "      <td>masseni01</td>\n",
       "    </tr>\n",
       "    <tr>\n",
       "      <th>12</th>\n",
       "      <td>12.402</td>\n",
       "      <td>bailesc01</td>\n",
       "    </tr>\n",
       "    <tr>\n",
       "      <th>13</th>\n",
       "      <td>14.184</td>\n",
       "      <td>oliveda02</td>\n",
       "    </tr>\n",
       "    <tr>\n",
       "      <th>14</th>\n",
       "      <td>15.578</td>\n",
       "      <td>brownke01</td>\n",
       "    </tr>\n",
       "    <tr>\n",
       "      <th>15</th>\n",
       "      <td>14.542</td>\n",
       "      <td>loaizes01</td>\n",
       "    </tr>\n",
       "    <tr>\n",
       "      <th>16</th>\n",
       "      <td>14.179</td>\n",
       "      <td>harvebr01</td>\n",
       "    </tr>\n",
       "    <tr>\n",
       "      <th>17</th>\n",
       "      <td>13.451</td>\n",
       "      <td>elartsc01</td>\n",
       "    </tr>\n",
       "    <tr>\n",
       "      <th>18</th>\n",
       "      <td>12.533</td>\n",
       "      <td>bulliji01</td>\n",
       "    </tr>\n",
       "    <tr>\n",
       "      <th>19</th>\n",
       "      <td>14.411</td>\n",
       "      <td>tomkobr01</td>\n",
       "    </tr>\n",
       "    <tr>\n",
       "      <th>20</th>\n",
       "      <td>14.619</td>\n",
       "      <td>saberbr01</td>\n",
       "    </tr>\n",
       "    <tr>\n",
       "      <th>21</th>\n",
       "      <td>13.305</td>\n",
       "      <td>gaudich01</td>\n",
       "    </tr>\n",
       "    <tr>\n",
       "      <th>22</th>\n",
       "      <td>15.026</td>\n",
       "      <td>wagnebi02</td>\n",
       "    </tr>\n",
       "    <tr>\n",
       "      <th>23</th>\n",
       "      <td>13.793</td>\n",
       "      <td>morgami01</td>\n",
       "    </tr>\n",
       "    <tr>\n",
       "      <th>24</th>\n",
       "      <td>14.425</td>\n",
       "      <td>ericksc01</td>\n",
       "    </tr>\n",
       "    <tr>\n",
       "      <th>25</th>\n",
       "      <td>13.496</td>\n",
       "      <td>mintogr01</td>\n",
       "    </tr>\n",
       "    <tr>\n",
       "      <th>26</th>\n",
       "      <td>11.793</td>\n",
       "      <td>bertomi01</td>\n",
       "    </tr>\n",
       "    <tr>\n",
       "      <th>27</th>\n",
       "      <td>13.867</td>\n",
       "      <td>righeda01</td>\n",
       "    </tr>\n",
       "    <tr>\n",
       "      <th>28</th>\n",
       "      <td>13.201</td>\n",
       "      <td>crimch01</td>\n",
       "    </tr>\n",
       "    <tr>\n",
       "      <th>29</th>\n",
       "      <td>13.363</td>\n",
       "      <td>plunker01</td>\n",
       "    </tr>\n",
       "    <tr>\n",
       "      <th>30</th>\n",
       "      <td>14.363</td>\n",
       "      <td>fasseje01</td>\n",
       "    </tr>\n",
       "    <tr>\n",
       "      <th>...</th>\n",
       "      <td>...</td>\n",
       "      <td>...</td>\n",
       "    </tr>\n",
       "    <tr>\n",
       "      <th>4917</th>\n",
       "      <td>13.383</td>\n",
       "      <td>pintore01</td>\n",
       "    </tr>\n",
       "    <tr>\n",
       "      <th>4918</th>\n",
       "      <td>11.661</td>\n",
       "      <td>bronkje01</td>\n",
       "    </tr>\n",
       "    <tr>\n",
       "      <th>4954</th>\n",
       "      <td>11.898</td>\n",
       "      <td>pennibr01</td>\n",
       "    </tr>\n",
       "    <tr>\n",
       "      <th>4956</th>\n",
       "      <td>12.075</td>\n",
       "      <td>krivdri01</td>\n",
       "    </tr>\n",
       "    <tr>\n",
       "      <th>5041</th>\n",
       "      <td>13.984</td>\n",
       "      <td>sotoma01</td>\n",
       "    </tr>\n",
       "    <tr>\n",
       "      <th>5092</th>\n",
       "      <td>12.980</td>\n",
       "      <td>parnebo01</td>\n",
       "    </tr>\n",
       "    <tr>\n",
       "      <th>5095</th>\n",
       "      <td>14.835</td>\n",
       "      <td>balfogr01</td>\n",
       "    </tr>\n",
       "    <tr>\n",
       "      <th>5136</th>\n",
       "      <td>12.142</td>\n",
       "      <td>brandma01</td>\n",
       "    </tr>\n",
       "    <tr>\n",
       "      <th>5139</th>\n",
       "      <td>13.034</td>\n",
       "      <td>kenneia01</td>\n",
       "    </tr>\n",
       "    <tr>\n",
       "      <th>5140</th>\n",
       "      <td>12.139</td>\n",
       "      <td>ballaje01</td>\n",
       "    </tr>\n",
       "    <tr>\n",
       "      <th>5210</th>\n",
       "      <td>13.175</td>\n",
       "      <td>stewasc01</td>\n",
       "    </tr>\n",
       "    <tr>\n",
       "      <th>5256</th>\n",
       "      <td>13.134</td>\n",
       "      <td>boggsmi01</td>\n",
       "    </tr>\n",
       "    <tr>\n",
       "      <th>5317</th>\n",
       "      <td>12.449</td>\n",
       "      <td>mercahe01</td>\n",
       "    </tr>\n",
       "    <tr>\n",
       "      <th>5406</th>\n",
       "      <td>14.710</td>\n",
       "      <td>mortoch02</td>\n",
       "    </tr>\n",
       "    <tr>\n",
       "      <th>5415</th>\n",
       "      <td>12.664</td>\n",
       "      <td>fikacje01</td>\n",
       "    </tr>\n",
       "    <tr>\n",
       "      <th>5478</th>\n",
       "      <td>12.697</td>\n",
       "      <td>cruzne01</td>\n",
       "    </tr>\n",
       "    <tr>\n",
       "      <th>5532</th>\n",
       "      <td>12.489</td>\n",
       "      <td>suzukma01</td>\n",
       "    </tr>\n",
       "    <tr>\n",
       "      <th>5631</th>\n",
       "      <td>12.313</td>\n",
       "      <td>dunnemi01</td>\n",
       "    </tr>\n",
       "    <tr>\n",
       "      <th>5671</th>\n",
       "      <td>13.137</td>\n",
       "      <td>kensilo01</td>\n",
       "    </tr>\n",
       "    <tr>\n",
       "      <th>5701</th>\n",
       "      <td>12.920</td>\n",
       "      <td>troncra01</td>\n",
       "    </tr>\n",
       "    <tr>\n",
       "      <th>5722</th>\n",
       "      <td>11.958</td>\n",
       "      <td>chrismi02</td>\n",
       "    </tr>\n",
       "    <tr>\n",
       "      <th>5730</th>\n",
       "      <td>13.098</td>\n",
       "      <td>chambjo03</td>\n",
       "    </tr>\n",
       "    <tr>\n",
       "      <th>5738</th>\n",
       "      <td>11.813</td>\n",
       "      <td>erickjo01</td>\n",
       "    </tr>\n",
       "    <tr>\n",
       "      <th>5752</th>\n",
       "      <td>12.887</td>\n",
       "      <td>chacigu01</td>\n",
       "    </tr>\n",
       "    <tr>\n",
       "      <th>5776</th>\n",
       "      <td>12.854</td>\n",
       "      <td>mcgafan01</td>\n",
       "    </tr>\n",
       "    <tr>\n",
       "      <th>5785</th>\n",
       "      <td>11.897</td>\n",
       "      <td>johnsda05</td>\n",
       "    </tr>\n",
       "    <tr>\n",
       "      <th>5823</th>\n",
       "      <td>12.672</td>\n",
       "      <td>longbi01</td>\n",
       "    </tr>\n",
       "    <tr>\n",
       "      <th>6117</th>\n",
       "      <td>12.487</td>\n",
       "      <td>nippeal01</td>\n",
       "    </tr>\n",
       "    <tr>\n",
       "      <th>6150</th>\n",
       "      <td>12.953</td>\n",
       "      <td>hudsolu01</td>\n",
       "    </tr>\n",
       "    <tr>\n",
       "      <th>6254</th>\n",
       "      <td>12.112</td>\n",
       "      <td>eshelva01</td>\n",
       "    </tr>\n",
       "  </tbody>\n",
       "</table>\n",
       "<p>1246 rows × 2 columns</p>\n",
       "</div>"
      ],
      "text/plain": [
       "      salary_mean   playerID\n",
       "0          13.268  nelsoge01\n",
       "1          14.252  moyerja01\n",
       "2          13.073  thompbr01\n",
       "3          12.811  powerte01\n",
       "4          13.707  osunaan01\n",
       "5          13.977  mulhote01\n",
       "6          14.974   wolfra02\n",
       "7          14.066  rojasme01\n",
       "8          14.631  marquja01\n",
       "9          14.309  pelfrmi01\n",
       "11         13.718  masseni01\n",
       "12         12.402  bailesc01\n",
       "13         14.184  oliveda02\n",
       "14         15.578  brownke01\n",
       "15         14.542  loaizes01\n",
       "16         14.179  harvebr01\n",
       "17         13.451  elartsc01\n",
       "18         12.533  bulliji01\n",
       "19         14.411  tomkobr01\n",
       "20         14.619  saberbr01\n",
       "21         13.305  gaudich01\n",
       "22         15.026  wagnebi02\n",
       "23         13.793  morgami01\n",
       "24         14.425  ericksc01\n",
       "25         13.496  mintogr01\n",
       "26         11.793  bertomi01\n",
       "27         13.867  righeda01\n",
       "28         13.201   crimch01\n",
       "29         13.363  plunker01\n",
       "30         14.363  fasseje01\n",
       "...           ...        ...\n",
       "4917       13.383  pintore01\n",
       "4918       11.661  bronkje01\n",
       "4954       11.898  pennibr01\n",
       "4956       12.075  krivdri01\n",
       "5041       13.984   sotoma01\n",
       "5092       12.980  parnebo01\n",
       "5095       14.835  balfogr01\n",
       "5136       12.142  brandma01\n",
       "5139       13.034  kenneia01\n",
       "5140       12.139  ballaje01\n",
       "5210       13.175  stewasc01\n",
       "5256       13.134  boggsmi01\n",
       "5317       12.449  mercahe01\n",
       "5406       14.710  mortoch02\n",
       "5415       12.664  fikacje01\n",
       "5478       12.697   cruzne01\n",
       "5532       12.489  suzukma01\n",
       "5631       12.313  dunnemi01\n",
       "5671       13.137  kensilo01\n",
       "5701       12.920  troncra01\n",
       "5722       11.958  chrismi02\n",
       "5730       13.098  chambjo03\n",
       "5738       11.813  erickjo01\n",
       "5752       12.887  chacigu01\n",
       "5776       12.854  mcgafan01\n",
       "5785       11.897  johnsda05\n",
       "5823       12.672   longbi01\n",
       "6117       12.487  nippeal01\n",
       "6150       12.953  hudsolu01\n",
       "6254       12.112  eshelva01\n",
       "\n",
       "[1246 rows x 2 columns]"
      ]
     },
     "execution_count": 584,
     "metadata": {},
     "output_type": "execute_result"
    }
   ],
   "source": [
    "train_data.groupby('playerID')[['salary_mean','playerID']].apply(lambda i : i).drop_duplicates()"
   ]
  },
  {
   "cell_type": "code",
   "execution_count": null,
   "metadata": {},
   "outputs": [],
   "source": [
    "if "
   ]
  },
  {
   "cell_type": "code",
   "execution_count": null,
   "metadata": {},
   "outputs": [],
   "source": [
    "test_data['salart_mean'] = "
   ]
  },
  {
   "cell_type": "code",
   "execution_count": null,
   "metadata": {},
   "outputs": [],
   "source": [
    "test_data['salart_max'] = \n",
    "test_data['salart_min'] =\n",
    "test_data['salart_std'] = "
   ]
  },
  {
   "cell_type": "code",
   "execution_count": null,
   "metadata": {},
   "outputs": [],
   "source": []
  },
  {
   "cell_type": "markdown",
   "metadata": {},
   "source": [
    "### 投手指標"
   ]
  },
  {
   "cell_type": "markdown",
   "metadata": {},
   "source": [
    "#### 建立WHIP指標  參考資料 https://www.sportsv.net/articles/10241\n",
    "\n",
    "> 算法是保送(BB)+安打(H)/局數(IP)"
   ]
  },
  {
   "cell_type": "code",
   "execution_count": 475,
   "metadata": {},
   "outputs": [],
   "source": [
    "all_data['WHIP'] = (all_data.BB + all_data.H)/ (all_data.IPouts/3)"
   ]
  },
  {
   "cell_type": "markdown",
   "metadata": {},
   "source": [
    "#### 建立DICE指標\n",
    ">DICE = 3 + (3*(BB + HBP) + 13*HR - 2*K) / IP"
   ]
  },
  {
   "cell_type": "code",
   "execution_count": 476,
   "metadata": {},
   "outputs": [],
   "source": [
    "all_data['DICE'] = 3 + (3*(all_data.BB + all_data.HBP) + all_data.HR * 13 - 2 * all_data.BB)/(all_data.IPouts/3)"
   ]
  },
  {
   "cell_type": "markdown",
   "metadata": {},
   "source": [
    "#### 建立SO_9指標\n",
    "> 公式很簡單：SO/IP×9，這個定義是「投手每投九局能取得多少三振」。"
   ]
  },
  {
   "cell_type": "code",
   "execution_count": 477,
   "metadata": {},
   "outputs": [],
   "source": [
    "all_data['SO_9'] = all_data.SO / (all_data.IPouts*3)"
   ]
  },
  {
   "cell_type": "markdown",
   "metadata": {},
   "source": [
    "#### 建立BB_9指標\n",
    "> 算法為：(BB+HBP)/IP×9"
   ]
  },
  {
   "cell_type": "code",
   "execution_count": 478,
   "metadata": {},
   "outputs": [],
   "source": [
    "all_data['BB_9'] = (all_data.BB + all_data.HBP) /  (all_data.IPouts*3)"
   ]
  },
  {
   "cell_type": "markdown",
   "metadata": {},
   "source": [
    "### 3. 不符合正態，將其做log轉換"
   ]
  },
  {
   "cell_type": "code",
   "execution_count": 479,
   "metadata": {},
   "outputs": [
    {
     "name": "stdout",
     "output_type": "stream",
     "text": [
      "\n",
      " Skew in numerical features: \n",
      "\n"
     ]
    },
    {
     "data": {
      "text/html": [
       "<div>\n",
       "<style scoped>\n",
       "    .dataframe tbody tr th:only-of-type {\n",
       "        vertical-align: middle;\n",
       "    }\n",
       "\n",
       "    .dataframe tbody tr th {\n",
       "        vertical-align: top;\n",
       "    }\n",
       "\n",
       "    .dataframe thead th {\n",
       "        text-align: right;\n",
       "    }\n",
       "</style>\n",
       "<table border=\"1\" class=\"dataframe\">\n",
       "  <thead>\n",
       "    <tr style=\"text-align: right;\">\n",
       "      <th></th>\n",
       "      <th>Skew</th>\n",
       "    </tr>\n",
       "  </thead>\n",
       "  <tbody>\n",
       "    <tr>\n",
       "      <th>ERA</th>\n",
       "      <td>14.679</td>\n",
       "    </tr>\n",
       "    <tr>\n",
       "      <th>BK</th>\n",
       "      <td>3.700</td>\n",
       "    </tr>\n",
       "    <tr>\n",
       "      <th>SHO</th>\n",
       "      <td>3.662</td>\n",
       "    </tr>\n",
       "    <tr>\n",
       "      <th>CG</th>\n",
       "      <td>3.253</td>\n",
       "    </tr>\n",
       "    <tr>\n",
       "      <th>SV</th>\n",
       "      <td>3.220</td>\n",
       "    </tr>\n",
       "  </tbody>\n",
       "</table>\n",
       "</div>"
      ],
      "text/plain": [
       "      Skew\n",
       "ERA 14.679\n",
       "BK   3.700\n",
       "SHO  3.662\n",
       "CG   3.253\n",
       "SV   3.220"
      ]
     },
     "execution_count": 479,
     "metadata": {},
     "output_type": "execute_result"
    }
   ],
   "source": [
    "log_data = all_data[column]\n",
    "numeric_feats = log_data.dtypes[log_data.dtypes != 'object'].index\n",
    "\n",
    "#對所有數執行特徵進行skew計算偏度\n",
    "skewed_feats = log_data[numeric_feats].apply(lambda x: skew(x.dropna())).sort_values(ascending = False)\n",
    "print('\\n Skew in numerical features: \\n')\n",
    "skewness = pd.DataFrame({'Skew': skewed_feats})\n",
    "skewness.head()"
   ]
  },
  {
   "cell_type": "code",
   "execution_count": 480,
   "metadata": {},
   "outputs": [
    {
     "name": "stdout",
     "output_type": "stream",
     "text": [
      "總共有22數值型的特徵做轉換\n"
     ]
    }
   ],
   "source": [
    "skewness = skewness[abs(skewness)>0.75]\n",
    "print('總共有{}數值型的特徵做轉換'.format(skewness.shape[0]))\n",
    "\n",
    "from scipy.special import boxcox1p\n",
    "skewed_features = skewness.index\n",
    "lam = 0.15\n",
    "for feat in skewed_features:\n",
    "    all_data[feat] = boxcox1p(all_data[feat],lam)"
   ]
  },
  {
   "cell_type": "markdown",
   "metadata": {},
   "source": [
    "### 4. one-hotencoding "
   ]
  },
  {
   "cell_type": "markdown",
   "metadata": {},
   "source": [
    "#### 年份對下年薪資高度相關，因此對年份進行分桶"
   ]
  },
  {
   "cell_type": "code",
   "execution_count": 481,
   "metadata": {
    "scrolled": true
   },
   "outputs": [],
   "source": [
    "bin=[1984,1990,1995,2000,2005,2010,2013]\n",
    "all_data['yearID'] = pd.cut(all_data['yearID'],bin)"
   ]
  },
  {
   "cell_type": "code",
   "execution_count": 482,
   "metadata": {},
   "outputs": [],
   "source": [
    "from sklearn.preprocessing import LabelEncoder\n",
    "lbl = LabelEncoder()\n",
    "lbl.fit(list(all_data['yearID'].values))\n",
    "all_data['yearID'] = lbl.transform(list(all_data['yearID'].values))"
   ]
  },
  {
   "cell_type": "markdown",
   "metadata": {},
   "source": [
    "#### 對teamID做one-hotencoding"
   ]
  },
  {
   "cell_type": "code",
   "execution_count": 483,
   "metadata": {
    "scrolled": true
   },
   "outputs": [
    {
     "data": {
      "text/plain": [
       "PIT    286\n",
       "TOR    283\n",
       "SLN    277\n",
       "CHN    272\n",
       "NYA    271\n",
       "SFN    269\n",
       "SDN    269\n",
       "OAK    269\n",
       "NYN    269\n",
       "LAN    268\n",
       "PHI    266\n",
       "CLE    264\n",
       "CHA    263\n",
       "BOS    262\n",
       "ATL    261\n",
       "CIN    254\n",
       "TEX    251\n",
       "MIN    249\n",
       "DET    244\n",
       "SEA    241\n",
       "HOU    238\n",
       "BAL    237\n",
       "KCA    223\n",
       "FLO    203\n",
       "COL    201\n",
       "MON    193\n",
       "ARI    128\n",
       "TBA    126\n",
       "MIL    120\n",
       "CAL    120\n",
       "ML4    107\n",
       "ANA     89\n",
       "LAA     72\n",
       "WAS     48\n",
       "Name: teamID, dtype: int64"
      ]
     },
     "execution_count": 483,
     "metadata": {},
     "output_type": "execute_result"
    }
   ],
   "source": [
    "all_data['teamID'].value_counts() #分布平均"
   ]
  },
  {
   "cell_type": "code",
   "execution_count": 484,
   "metadata": {
    "scrolled": true
   },
   "outputs": [],
   "source": [
    "teamID = pd.get_dummies(all_data['teamID'],prefix= 'team_')#做one-hotecoding\n",
    "all_data = pd.concat([all_data,teamID],axis=1, join_axes=[all_data.index])\n",
    "all_data.drop(['teamID'],axis = 1,inplace = True)"
   ]
  },
  {
   "cell_type": "markdown",
   "metadata": {},
   "source": [
    "#### 對lgID做one-hotencoding"
   ]
  },
  {
   "cell_type": "code",
   "execution_count": 485,
   "metadata": {},
   "outputs": [
    {
     "data": {
      "text/plain": [
       "NL    3822\n",
       "AL    3571\n",
       "Name: lgID, dtype: int64"
      ]
     },
     "execution_count": 485,
     "metadata": {},
     "output_type": "execute_result"
    }
   ],
   "source": [
    "all_data['lgID'].value_counts() #分布平均"
   ]
  },
  {
   "cell_type": "code",
   "execution_count": 486,
   "metadata": {},
   "outputs": [],
   "source": [
    "lgID = pd.get_dummies(all_data['lgID'],prefix= 'lgID_')#做one-hotecoding\n",
    "all_data = pd.concat([all_data,lgID],axis=1, join_axes=[all_data.index])\n",
    "all_data.drop(['lgID'],axis = 1,inplace = True)"
   ]
  },
  {
   "cell_type": "markdown",
   "metadata": {},
   "source": [
    "### 5. 獲得新的訓練與測試集。至此，特徵工程處理完畢。"
   ]
  },
  {
   "cell_type": "code",
   "execution_count": 487,
   "metadata": {},
   "outputs": [],
   "source": [
    "all_data.drop(['playerID', 'stint'],axis = 1,inplace = True) #暫時先刪除 太稀疏的特徵"
   ]
  },
  {
   "cell_type": "code",
   "execution_count": 488,
   "metadata": {},
   "outputs": [
    {
     "data": {
      "text/plain": [
       "Index(['BAOpp', 'BB', 'BFP', 'BK', 'CG', 'ER', 'ERA', 'G', 'GF', 'GS',\n",
       "       ...\n",
       "       'team__SDN', 'team__SEA', 'team__SFN', 'team__SLN', 'team__TBA',\n",
       "       'team__TEX', 'team__TOR', 'team__WAS', 'lgID__AL', 'lgID__NL'],\n",
       "      dtype='object', length=108)"
      ]
     },
     "execution_count": 488,
     "metadata": {},
     "output_type": "execute_result"
    }
   ],
   "source": [
    "all_data.columns"
   ]
  },
  {
   "cell_type": "markdown",
   "metadata": {},
   "source": [
    "# 模型訓練"
   ]
  },
  {
   "cell_type": "code",
   "execution_count": 489,
   "metadata": {},
   "outputs": [],
   "source": [
    "from sklearn.linear_model import ElasticNet, Lasso, BayesianRidge, LassoLarsIC\n",
    "from sklearn.ensemble import RandomForestRegressor, GradientBoostingRegressor\n",
    "from sklearn.kernel_ridge import KernelRidge\n",
    "from sklearn.pipeline import make_pipeline\n",
    "from sklearn.preprocessing import RobustScaler,StandardScaler\n",
    "from sklearn.base import BaseEstimator, TransformerMixin, RegressorMixin, clone\n",
    "from sklearn.model_selection import KFold, cross_val_score, train_test_split\n",
    "from sklearn.metrics import mean_absolute_error\n",
    "import xgboost as xgb\n",
    "import lightgbm as lgb"
   ]
  },
  {
   "cell_type": "code",
   "execution_count": 490,
   "metadata": {},
   "outputs": [],
   "source": [
    "train = all_data[:ntrain]\n",
    "test = all_data[ntrain:]"
   ]
  },
  {
   "cell_type": "code",
   "execution_count": 491,
   "metadata": {},
   "outputs": [],
   "source": [
    "scaler = StandardScaler()\n",
    "train = scaler.fit_transform(train)\n",
    "test = scaler.fit_transform(test)"
   ]
  },
  {
   "cell_type": "code",
   "execution_count": 492,
   "metadata": {},
   "outputs": [],
   "source": [
    "#交叉驗證數\n",
    "n_folds = 5\n",
    "\n",
    "def mae_cv(model):\n",
    "    kf = KFold(n_folds, shuffle=True, random_state=42).get_n_splits(train)\n",
    "    mae= -cross_val_score(model, train, target, scoring=\"neg_mean_absolute_error\"\n",
    "                                   , cv = kf)\n",
    "    return(mae)\n",
    "\n",
    "# def rmse(y, y_pred):\n",
    "#     return np.sqrt(mean_squared_error(np.log(y), y_pred)))"
   ]
  },
  {
   "cell_type": "markdown",
   "metadata": {},
   "source": [
    "# 模型評估"
   ]
  },
  {
   "cell_type": "markdown",
   "metadata": {},
   "source": [
    "1. LASSO Regression: *該模型對異常值很敏感，所以我們在pipeline上使用sklearn的Robustscaler()方法"
   ]
  },
  {
   "cell_type": "code",
   "execution_count": 493,
   "metadata": {},
   "outputs": [],
   "source": [
    "lasso = make_pipeline(RobustScaler(), Lasso(alpha = 0.0005, random_state = 1))"
   ]
  },
  {
   "cell_type": "markdown",
   "metadata": {},
   "source": [
    "2. Elastic Net Regression: 同樣讓他對異常值具有更好的魯棒性"
   ]
  },
  {
   "cell_type": "code",
   "execution_count": 494,
   "metadata": {},
   "outputs": [],
   "source": [
    "ENet = make_pipeline(RobustScaler(), ElasticNet(alpha = 0.0005, l1_ratio = .9, random_state = 3))"
   ]
  },
  {
   "cell_type": "markdown",
   "metadata": {},
   "source": [
    "3. Kernel Ridge Regression:"
   ]
  },
  {
   "cell_type": "code",
   "execution_count": 495,
   "metadata": {},
   "outputs": [],
   "source": [
    "KRR = KernelRidge(alpha = 0.6, kernel = 'polynomial', degree = 2, coef0 = 2.5)"
   ]
  },
  {
   "cell_type": "markdown",
   "metadata": {},
   "source": [
    "4. Gradient Boosting Regression:\n",
    "    * 由於Huber loss使得他對於異常值具有魯棒性"
   ]
  },
  {
   "cell_type": "code",
   "execution_count": 496,
   "metadata": {},
   "outputs": [],
   "source": [
    "GBoost = GradientBoostingRegressor(n_estimators=3000, learning_rate=0.05,\n",
    "                                   max_depth=4, max_features='sqrt',\n",
    "                                   min_samples_leaf=15, min_samples_split=10, \n",
    "                                   loss='huber', random_state =5)"
   ]
  },
  {
   "cell_type": "markdown",
   "metadata": {},
   "source": [
    "5. XGBoost:"
   ]
  },
  {
   "cell_type": "code",
   "execution_count": 497,
   "metadata": {},
   "outputs": [],
   "source": [
    "model_xgb = xgb.XGBRegressor(colsample_bytree=0.4603, gamma=0.0468, \n",
    "                             learning_rate=0.05, max_depth=3, \n",
    "                             min_child_weight=1.7817, n_estimators=2200,\n",
    "                             reg_alpha=0.4640, reg_lambda=0.8571,\n",
    "                             subsample=0.5213, silent=1,\n",
    "                             random_state =7, nthread = -1)"
   ]
  },
  {
   "cell_type": "markdown",
   "metadata": {},
   "source": [
    "6. LightGBM:"
   ]
  },
  {
   "cell_type": "code",
   "execution_count": 498,
   "metadata": {},
   "outputs": [],
   "source": [
    "model_lgb = lgb.LGBMRegressor(objective='regression',num_leaves=5,\n",
    "                              learning_rate=0.05, n_estimators=720,\n",
    "                              max_bin = 55, bagging_fraction = 0.8,\n",
    "                              bagging_freq = 5, feature_fraction = 0.2319,\n",
    "                              feature_fraction_seed=9, bagging_seed=9,\n",
    "                              min_data_in_leaf =6, min_sum_hessian_in_leaf = 11)"
   ]
  },
  {
   "cell_type": "markdown",
   "metadata": {},
   "source": [
    "來看看各個模型交叉驗證的得分:"
   ]
  },
  {
   "cell_type": "code",
   "execution_count": 499,
   "metadata": {},
   "outputs": [
    {
     "name": "stdout",
     "output_type": "stream",
     "text": [
      "\n",
      "Lasso 得分: 0.6469 (0.0083)\n",
      "\n"
     ]
    }
   ],
   "source": [
    "score = mae_cv(lasso) # 0.7723 (0.0098)\n",
    "print(\"\\nLasso 得分: {:.4f} ({:.4f})\\n\".format(score.mean(), score.std()))"
   ]
  },
  {
   "cell_type": "code",
   "execution_count": 500,
   "metadata": {},
   "outputs": [
    {
     "name": "stdout",
     "output_type": "stream",
     "text": [
      "ElasticNet 得分: 0.6469 (0.0083)\n",
      "\n"
     ]
    }
   ],
   "source": [
    "score = mae_cv(ENet)  # 0.7723 (0.0097)\n",
    "print(\"ElasticNet 得分: {:.4f} ({:.4f})\\n\".format(score.mean(), score.std()))"
   ]
  },
  {
   "cell_type": "code",
   "execution_count": 501,
   "metadata": {},
   "outputs": [
    {
     "name": "stdout",
     "output_type": "stream",
     "text": [
      "Kernel Ridge 得分: 0.6040 (0.0130)\n",
      "\n"
     ]
    }
   ],
   "source": [
    "score = mae_cv(KRR) #0.7389 (0.0122)\n",
    "print(\"Kernel Ridge 得分: {:.4f} ({:.4f})\\n\".format(score.mean(), score.std()))"
   ]
  },
  {
   "cell_type": "code",
   "execution_count": 502,
   "metadata": {},
   "outputs": [
    {
     "ename": "KeyboardInterrupt",
     "evalue": "",
     "output_type": "error",
     "traceback": [
      "\u001b[1;31m---------------------------------------------------------------------------\u001b[0m",
      "\u001b[1;31mKeyboardInterrupt\u001b[0m                         Traceback (most recent call last)",
      "\u001b[1;32m<ipython-input-502-90ed7108f43f>\u001b[0m in \u001b[0;36m<module>\u001b[1;34m\u001b[0m\n\u001b[1;32m----> 1\u001b[1;33m \u001b[0mscore\u001b[0m \u001b[1;33m=\u001b[0m \u001b[0mmae_cv\u001b[0m\u001b[1;33m(\u001b[0m\u001b[0mGBoost\u001b[0m\u001b[1;33m)\u001b[0m \u001b[1;31m#  0.7310 (0.0137)\u001b[0m\u001b[1;33m\u001b[0m\u001b[1;33m\u001b[0m\u001b[0m\n\u001b[0m\u001b[0;32m      2\u001b[0m \u001b[0mprint\u001b[0m\u001b[1;33m(\u001b[0m\u001b[1;34m\"Gradient Boosting 得分: {:.4f} ({:.4f})\\n\"\u001b[0m\u001b[1;33m.\u001b[0m\u001b[0mformat\u001b[0m\u001b[1;33m(\u001b[0m\u001b[0mscore\u001b[0m\u001b[1;33m.\u001b[0m\u001b[0mmean\u001b[0m\u001b[1;33m(\u001b[0m\u001b[1;33m)\u001b[0m\u001b[1;33m,\u001b[0m \u001b[0mscore\u001b[0m\u001b[1;33m.\u001b[0m\u001b[0mstd\u001b[0m\u001b[1;33m(\u001b[0m\u001b[1;33m)\u001b[0m\u001b[1;33m)\u001b[0m\u001b[1;33m)\u001b[0m\u001b[1;33m\u001b[0m\u001b[1;33m\u001b[0m\u001b[0m\n",
      "\u001b[1;32m<ipython-input-492-c442328e6169>\u001b[0m in \u001b[0;36mmae_cv\u001b[1;34m(model)\u001b[0m\n\u001b[0;32m      5\u001b[0m     \u001b[0mkf\u001b[0m \u001b[1;33m=\u001b[0m \u001b[0mKFold\u001b[0m\u001b[1;33m(\u001b[0m\u001b[0mn_folds\u001b[0m\u001b[1;33m,\u001b[0m \u001b[0mshuffle\u001b[0m\u001b[1;33m=\u001b[0m\u001b[1;32mTrue\u001b[0m\u001b[1;33m,\u001b[0m \u001b[0mrandom_state\u001b[0m\u001b[1;33m=\u001b[0m\u001b[1;36m42\u001b[0m\u001b[1;33m)\u001b[0m\u001b[1;33m.\u001b[0m\u001b[0mget_n_splits\u001b[0m\u001b[1;33m(\u001b[0m\u001b[0mtrain\u001b[0m\u001b[1;33m)\u001b[0m\u001b[1;33m\u001b[0m\u001b[1;33m\u001b[0m\u001b[0m\n\u001b[0;32m      6\u001b[0m     mae= -cross_val_score(model, train, target, scoring=\"neg_mean_absolute_error\"\n\u001b[1;32m----> 7\u001b[1;33m                                    , cv = kf)\n\u001b[0m\u001b[0;32m      8\u001b[0m     \u001b[1;32mreturn\u001b[0m\u001b[1;33m(\u001b[0m\u001b[0mmae\u001b[0m\u001b[1;33m)\u001b[0m\u001b[1;33m\u001b[0m\u001b[1;33m\u001b[0m\u001b[0m\n\u001b[0;32m      9\u001b[0m \u001b[1;33m\u001b[0m\u001b[0m\n",
      "\u001b[1;32m~\\Anaconda3\\lib\\site-packages\\sklearn\\model_selection\\_validation.py\u001b[0m in \u001b[0;36mcross_val_score\u001b[1;34m(estimator, X, y, groups, scoring, cv, n_jobs, verbose, fit_params, pre_dispatch, error_score)\u001b[0m\n\u001b[0;32m    389\u001b[0m                                 \u001b[0mfit_params\u001b[0m\u001b[1;33m=\u001b[0m\u001b[0mfit_params\u001b[0m\u001b[1;33m,\u001b[0m\u001b[1;33m\u001b[0m\u001b[1;33m\u001b[0m\u001b[0m\n\u001b[0;32m    390\u001b[0m                                 \u001b[0mpre_dispatch\u001b[0m\u001b[1;33m=\u001b[0m\u001b[0mpre_dispatch\u001b[0m\u001b[1;33m,\u001b[0m\u001b[1;33m\u001b[0m\u001b[1;33m\u001b[0m\u001b[0m\n\u001b[1;32m--> 391\u001b[1;33m                                 error_score=error_score)\n\u001b[0m\u001b[0;32m    392\u001b[0m     \u001b[1;32mreturn\u001b[0m \u001b[0mcv_results\u001b[0m\u001b[1;33m[\u001b[0m\u001b[1;34m'test_score'\u001b[0m\u001b[1;33m]\u001b[0m\u001b[1;33m\u001b[0m\u001b[1;33m\u001b[0m\u001b[0m\n\u001b[0;32m    393\u001b[0m \u001b[1;33m\u001b[0m\u001b[0m\n",
      "\u001b[1;32m~\\Anaconda3\\lib\\site-packages\\sklearn\\model_selection\\_validation.py\u001b[0m in \u001b[0;36mcross_validate\u001b[1;34m(estimator, X, y, groups, scoring, cv, n_jobs, verbose, fit_params, pre_dispatch, return_train_score, return_estimator, error_score)\u001b[0m\n\u001b[0;32m    230\u001b[0m             \u001b[0mreturn_times\u001b[0m\u001b[1;33m=\u001b[0m\u001b[1;32mTrue\u001b[0m\u001b[1;33m,\u001b[0m \u001b[0mreturn_estimator\u001b[0m\u001b[1;33m=\u001b[0m\u001b[0mreturn_estimator\u001b[0m\u001b[1;33m,\u001b[0m\u001b[1;33m\u001b[0m\u001b[1;33m\u001b[0m\u001b[0m\n\u001b[0;32m    231\u001b[0m             error_score=error_score)\n\u001b[1;32m--> 232\u001b[1;33m         for train, test in cv.split(X, y, groups))\n\u001b[0m\u001b[0;32m    233\u001b[0m \u001b[1;33m\u001b[0m\u001b[0m\n\u001b[0;32m    234\u001b[0m     \u001b[0mzipped_scores\u001b[0m \u001b[1;33m=\u001b[0m \u001b[0mlist\u001b[0m\u001b[1;33m(\u001b[0m\u001b[0mzip\u001b[0m\u001b[1;33m(\u001b[0m\u001b[1;33m*\u001b[0m\u001b[0mscores\u001b[0m\u001b[1;33m)\u001b[0m\u001b[1;33m)\u001b[0m\u001b[1;33m\u001b[0m\u001b[1;33m\u001b[0m\u001b[0m\n",
      "\u001b[1;32m~\\Anaconda3\\lib\\site-packages\\joblib\\parallel.py\u001b[0m in \u001b[0;36m__call__\u001b[1;34m(self, iterable)\u001b[0m\n\u001b[0;32m   1001\u001b[0m             \u001b[1;31m# remaining jobs.\u001b[0m\u001b[1;33m\u001b[0m\u001b[1;33m\u001b[0m\u001b[1;33m\u001b[0m\u001b[0m\n\u001b[0;32m   1002\u001b[0m             \u001b[0mself\u001b[0m\u001b[1;33m.\u001b[0m\u001b[0m_iterating\u001b[0m \u001b[1;33m=\u001b[0m \u001b[1;32mFalse\u001b[0m\u001b[1;33m\u001b[0m\u001b[1;33m\u001b[0m\u001b[0m\n\u001b[1;32m-> 1003\u001b[1;33m             \u001b[1;32mif\u001b[0m \u001b[0mself\u001b[0m\u001b[1;33m.\u001b[0m\u001b[0mdispatch_one_batch\u001b[0m\u001b[1;33m(\u001b[0m\u001b[0miterator\u001b[0m\u001b[1;33m)\u001b[0m\u001b[1;33m:\u001b[0m\u001b[1;33m\u001b[0m\u001b[1;33m\u001b[0m\u001b[0m\n\u001b[0m\u001b[0;32m   1004\u001b[0m                 \u001b[0mself\u001b[0m\u001b[1;33m.\u001b[0m\u001b[0m_iterating\u001b[0m \u001b[1;33m=\u001b[0m \u001b[0mself\u001b[0m\u001b[1;33m.\u001b[0m\u001b[0m_original_iterator\u001b[0m \u001b[1;32mis\u001b[0m \u001b[1;32mnot\u001b[0m \u001b[1;32mNone\u001b[0m\u001b[1;33m\u001b[0m\u001b[1;33m\u001b[0m\u001b[0m\n\u001b[0;32m   1005\u001b[0m \u001b[1;33m\u001b[0m\u001b[0m\n",
      "\u001b[1;32m~\\Anaconda3\\lib\\site-packages\\joblib\\parallel.py\u001b[0m in \u001b[0;36mdispatch_one_batch\u001b[1;34m(self, iterator)\u001b[0m\n\u001b[0;32m    832\u001b[0m                 \u001b[1;32mreturn\u001b[0m \u001b[1;32mFalse\u001b[0m\u001b[1;33m\u001b[0m\u001b[1;33m\u001b[0m\u001b[0m\n\u001b[0;32m    833\u001b[0m             \u001b[1;32melse\u001b[0m\u001b[1;33m:\u001b[0m\u001b[1;33m\u001b[0m\u001b[1;33m\u001b[0m\u001b[0m\n\u001b[1;32m--> 834\u001b[1;33m                 \u001b[0mself\u001b[0m\u001b[1;33m.\u001b[0m\u001b[0m_dispatch\u001b[0m\u001b[1;33m(\u001b[0m\u001b[0mtasks\u001b[0m\u001b[1;33m)\u001b[0m\u001b[1;33m\u001b[0m\u001b[1;33m\u001b[0m\u001b[0m\n\u001b[0m\u001b[0;32m    835\u001b[0m                 \u001b[1;32mreturn\u001b[0m \u001b[1;32mTrue\u001b[0m\u001b[1;33m\u001b[0m\u001b[1;33m\u001b[0m\u001b[0m\n\u001b[0;32m    836\u001b[0m \u001b[1;33m\u001b[0m\u001b[0m\n",
      "\u001b[1;32m~\\Anaconda3\\lib\\site-packages\\joblib\\parallel.py\u001b[0m in \u001b[0;36m_dispatch\u001b[1;34m(self, batch)\u001b[0m\n\u001b[0;32m    751\u001b[0m         \u001b[1;32mwith\u001b[0m \u001b[0mself\u001b[0m\u001b[1;33m.\u001b[0m\u001b[0m_lock\u001b[0m\u001b[1;33m:\u001b[0m\u001b[1;33m\u001b[0m\u001b[1;33m\u001b[0m\u001b[0m\n\u001b[0;32m    752\u001b[0m             \u001b[0mjob_idx\u001b[0m \u001b[1;33m=\u001b[0m \u001b[0mlen\u001b[0m\u001b[1;33m(\u001b[0m\u001b[0mself\u001b[0m\u001b[1;33m.\u001b[0m\u001b[0m_jobs\u001b[0m\u001b[1;33m)\u001b[0m\u001b[1;33m\u001b[0m\u001b[1;33m\u001b[0m\u001b[0m\n\u001b[1;32m--> 753\u001b[1;33m             \u001b[0mjob\u001b[0m \u001b[1;33m=\u001b[0m \u001b[0mself\u001b[0m\u001b[1;33m.\u001b[0m\u001b[0m_backend\u001b[0m\u001b[1;33m.\u001b[0m\u001b[0mapply_async\u001b[0m\u001b[1;33m(\u001b[0m\u001b[0mbatch\u001b[0m\u001b[1;33m,\u001b[0m \u001b[0mcallback\u001b[0m\u001b[1;33m=\u001b[0m\u001b[0mcb\u001b[0m\u001b[1;33m)\u001b[0m\u001b[1;33m\u001b[0m\u001b[1;33m\u001b[0m\u001b[0m\n\u001b[0m\u001b[0;32m    754\u001b[0m             \u001b[1;31m# A job can complete so quickly than its callback is\u001b[0m\u001b[1;33m\u001b[0m\u001b[1;33m\u001b[0m\u001b[1;33m\u001b[0m\u001b[0m\n\u001b[0;32m    755\u001b[0m             \u001b[1;31m# called before we get here, causing self._jobs to\u001b[0m\u001b[1;33m\u001b[0m\u001b[1;33m\u001b[0m\u001b[1;33m\u001b[0m\u001b[0m\n",
      "\u001b[1;32m~\\Anaconda3\\lib\\site-packages\\joblib\\_parallel_backends.py\u001b[0m in \u001b[0;36mapply_async\u001b[1;34m(self, func, callback)\u001b[0m\n\u001b[0;32m    199\u001b[0m     \u001b[1;32mdef\u001b[0m \u001b[0mapply_async\u001b[0m\u001b[1;33m(\u001b[0m\u001b[0mself\u001b[0m\u001b[1;33m,\u001b[0m \u001b[0mfunc\u001b[0m\u001b[1;33m,\u001b[0m \u001b[0mcallback\u001b[0m\u001b[1;33m=\u001b[0m\u001b[1;32mNone\u001b[0m\u001b[1;33m)\u001b[0m\u001b[1;33m:\u001b[0m\u001b[1;33m\u001b[0m\u001b[1;33m\u001b[0m\u001b[0m\n\u001b[0;32m    200\u001b[0m         \u001b[1;34m\"\"\"Schedule a func to be run\"\"\"\u001b[0m\u001b[1;33m\u001b[0m\u001b[1;33m\u001b[0m\u001b[0m\n\u001b[1;32m--> 201\u001b[1;33m         \u001b[0mresult\u001b[0m \u001b[1;33m=\u001b[0m \u001b[0mImmediateResult\u001b[0m\u001b[1;33m(\u001b[0m\u001b[0mfunc\u001b[0m\u001b[1;33m)\u001b[0m\u001b[1;33m\u001b[0m\u001b[1;33m\u001b[0m\u001b[0m\n\u001b[0m\u001b[0;32m    202\u001b[0m         \u001b[1;32mif\u001b[0m \u001b[0mcallback\u001b[0m\u001b[1;33m:\u001b[0m\u001b[1;33m\u001b[0m\u001b[1;33m\u001b[0m\u001b[0m\n\u001b[0;32m    203\u001b[0m             \u001b[0mcallback\u001b[0m\u001b[1;33m(\u001b[0m\u001b[0mresult\u001b[0m\u001b[1;33m)\u001b[0m\u001b[1;33m\u001b[0m\u001b[1;33m\u001b[0m\u001b[0m\n",
      "\u001b[1;32m~\\Anaconda3\\lib\\site-packages\\joblib\\_parallel_backends.py\u001b[0m in \u001b[0;36m__init__\u001b[1;34m(self, batch)\u001b[0m\n\u001b[0;32m    580\u001b[0m         \u001b[1;31m# Don't delay the application, to avoid keeping the input\u001b[0m\u001b[1;33m\u001b[0m\u001b[1;33m\u001b[0m\u001b[1;33m\u001b[0m\u001b[0m\n\u001b[0;32m    581\u001b[0m         \u001b[1;31m# arguments in memory\u001b[0m\u001b[1;33m\u001b[0m\u001b[1;33m\u001b[0m\u001b[1;33m\u001b[0m\u001b[0m\n\u001b[1;32m--> 582\u001b[1;33m         \u001b[0mself\u001b[0m\u001b[1;33m.\u001b[0m\u001b[0mresults\u001b[0m \u001b[1;33m=\u001b[0m \u001b[0mbatch\u001b[0m\u001b[1;33m(\u001b[0m\u001b[1;33m)\u001b[0m\u001b[1;33m\u001b[0m\u001b[1;33m\u001b[0m\u001b[0m\n\u001b[0m\u001b[0;32m    583\u001b[0m \u001b[1;33m\u001b[0m\u001b[0m\n\u001b[0;32m    584\u001b[0m     \u001b[1;32mdef\u001b[0m \u001b[0mget\u001b[0m\u001b[1;33m(\u001b[0m\u001b[0mself\u001b[0m\u001b[1;33m)\u001b[0m\u001b[1;33m:\u001b[0m\u001b[1;33m\u001b[0m\u001b[1;33m\u001b[0m\u001b[0m\n",
      "\u001b[1;32m~\\Anaconda3\\lib\\site-packages\\joblib\\parallel.py\u001b[0m in \u001b[0;36m__call__\u001b[1;34m(self)\u001b[0m\n\u001b[0;32m    254\u001b[0m         \u001b[1;32mwith\u001b[0m \u001b[0mparallel_backend\u001b[0m\u001b[1;33m(\u001b[0m\u001b[0mself\u001b[0m\u001b[1;33m.\u001b[0m\u001b[0m_backend\u001b[0m\u001b[1;33m,\u001b[0m \u001b[0mn_jobs\u001b[0m\u001b[1;33m=\u001b[0m\u001b[0mself\u001b[0m\u001b[1;33m.\u001b[0m\u001b[0m_n_jobs\u001b[0m\u001b[1;33m)\u001b[0m\u001b[1;33m:\u001b[0m\u001b[1;33m\u001b[0m\u001b[1;33m\u001b[0m\u001b[0m\n\u001b[0;32m    255\u001b[0m             return [func(*args, **kwargs)\n\u001b[1;32m--> 256\u001b[1;33m                     for func, args, kwargs in self.items]\n\u001b[0m\u001b[0;32m    257\u001b[0m \u001b[1;33m\u001b[0m\u001b[0m\n\u001b[0;32m    258\u001b[0m     \u001b[1;32mdef\u001b[0m \u001b[0m__len__\u001b[0m\u001b[1;33m(\u001b[0m\u001b[0mself\u001b[0m\u001b[1;33m)\u001b[0m\u001b[1;33m:\u001b[0m\u001b[1;33m\u001b[0m\u001b[1;33m\u001b[0m\u001b[0m\n",
      "\u001b[1;32m~\\Anaconda3\\lib\\site-packages\\joblib\\parallel.py\u001b[0m in \u001b[0;36m<listcomp>\u001b[1;34m(.0)\u001b[0m\n\u001b[0;32m    254\u001b[0m         \u001b[1;32mwith\u001b[0m \u001b[0mparallel_backend\u001b[0m\u001b[1;33m(\u001b[0m\u001b[0mself\u001b[0m\u001b[1;33m.\u001b[0m\u001b[0m_backend\u001b[0m\u001b[1;33m,\u001b[0m \u001b[0mn_jobs\u001b[0m\u001b[1;33m=\u001b[0m\u001b[0mself\u001b[0m\u001b[1;33m.\u001b[0m\u001b[0m_n_jobs\u001b[0m\u001b[1;33m)\u001b[0m\u001b[1;33m:\u001b[0m\u001b[1;33m\u001b[0m\u001b[1;33m\u001b[0m\u001b[0m\n\u001b[0;32m    255\u001b[0m             return [func(*args, **kwargs)\n\u001b[1;32m--> 256\u001b[1;33m                     for func, args, kwargs in self.items]\n\u001b[0m\u001b[0;32m    257\u001b[0m \u001b[1;33m\u001b[0m\u001b[0m\n\u001b[0;32m    258\u001b[0m     \u001b[1;32mdef\u001b[0m \u001b[0m__len__\u001b[0m\u001b[1;33m(\u001b[0m\u001b[0mself\u001b[0m\u001b[1;33m)\u001b[0m\u001b[1;33m:\u001b[0m\u001b[1;33m\u001b[0m\u001b[1;33m\u001b[0m\u001b[0m\n",
      "\u001b[1;32m~\\Anaconda3\\lib\\site-packages\\sklearn\\model_selection\\_validation.py\u001b[0m in \u001b[0;36m_fit_and_score\u001b[1;34m(estimator, X, y, scorer, train, test, verbose, parameters, fit_params, return_train_score, return_parameters, return_n_test_samples, return_times, return_estimator, error_score)\u001b[0m\n\u001b[0;32m    514\u001b[0m             \u001b[0mestimator\u001b[0m\u001b[1;33m.\u001b[0m\u001b[0mfit\u001b[0m\u001b[1;33m(\u001b[0m\u001b[0mX_train\u001b[0m\u001b[1;33m,\u001b[0m \u001b[1;33m**\u001b[0m\u001b[0mfit_params\u001b[0m\u001b[1;33m)\u001b[0m\u001b[1;33m\u001b[0m\u001b[1;33m\u001b[0m\u001b[0m\n\u001b[0;32m    515\u001b[0m         \u001b[1;32melse\u001b[0m\u001b[1;33m:\u001b[0m\u001b[1;33m\u001b[0m\u001b[1;33m\u001b[0m\u001b[0m\n\u001b[1;32m--> 516\u001b[1;33m             \u001b[0mestimator\u001b[0m\u001b[1;33m.\u001b[0m\u001b[0mfit\u001b[0m\u001b[1;33m(\u001b[0m\u001b[0mX_train\u001b[0m\u001b[1;33m,\u001b[0m \u001b[0my_train\u001b[0m\u001b[1;33m,\u001b[0m \u001b[1;33m**\u001b[0m\u001b[0mfit_params\u001b[0m\u001b[1;33m)\u001b[0m\u001b[1;33m\u001b[0m\u001b[1;33m\u001b[0m\u001b[0m\n\u001b[0m\u001b[0;32m    517\u001b[0m \u001b[1;33m\u001b[0m\u001b[0m\n\u001b[0;32m    518\u001b[0m     \u001b[1;32mexcept\u001b[0m \u001b[0mException\u001b[0m \u001b[1;32mas\u001b[0m \u001b[0me\u001b[0m\u001b[1;33m:\u001b[0m\u001b[1;33m\u001b[0m\u001b[1;33m\u001b[0m\u001b[0m\n",
      "\u001b[1;32m~\\Anaconda3\\lib\\site-packages\\sklearn\\ensemble\\gradient_boosting.py\u001b[0m in \u001b[0;36mfit\u001b[1;34m(self, X, y, sample_weight, monitor)\u001b[0m\n\u001b[0;32m   1544\u001b[0m         n_stages = self._fit_stages(\n\u001b[0;32m   1545\u001b[0m             \u001b[0mX\u001b[0m\u001b[1;33m,\u001b[0m \u001b[0my\u001b[0m\u001b[1;33m,\u001b[0m \u001b[0mraw_predictions\u001b[0m\u001b[1;33m,\u001b[0m \u001b[0msample_weight\u001b[0m\u001b[1;33m,\u001b[0m \u001b[0mself\u001b[0m\u001b[1;33m.\u001b[0m\u001b[0m_rng\u001b[0m\u001b[1;33m,\u001b[0m \u001b[0mX_val\u001b[0m\u001b[1;33m,\u001b[0m \u001b[0my_val\u001b[0m\u001b[1;33m,\u001b[0m\u001b[1;33m\u001b[0m\u001b[1;33m\u001b[0m\u001b[0m\n\u001b[1;32m-> 1546\u001b[1;33m             sample_weight_val, begin_at_stage, monitor, X_idx_sorted)\n\u001b[0m\u001b[0;32m   1547\u001b[0m \u001b[1;33m\u001b[0m\u001b[0m\n\u001b[0;32m   1548\u001b[0m         \u001b[1;31m# change shape of arrays after fit (early-stopping or additional ests)\u001b[0m\u001b[1;33m\u001b[0m\u001b[1;33m\u001b[0m\u001b[1;33m\u001b[0m\u001b[0m\n",
      "\u001b[1;32m~\\Anaconda3\\lib\\site-packages\\sklearn\\ensemble\\gradient_boosting.py\u001b[0m in \u001b[0;36m_fit_stages\u001b[1;34m(self, X, y, raw_predictions, sample_weight, random_state, X_val, y_val, sample_weight_val, begin_at_stage, monitor, X_idx_sorted)\u001b[0m\n\u001b[0;32m   1608\u001b[0m             raw_predictions = self._fit_stage(\n\u001b[0;32m   1609\u001b[0m                 \u001b[0mi\u001b[0m\u001b[1;33m,\u001b[0m \u001b[0mX\u001b[0m\u001b[1;33m,\u001b[0m \u001b[0my\u001b[0m\u001b[1;33m,\u001b[0m \u001b[0mraw_predictions\u001b[0m\u001b[1;33m,\u001b[0m \u001b[0msample_weight\u001b[0m\u001b[1;33m,\u001b[0m \u001b[0msample_mask\u001b[0m\u001b[1;33m,\u001b[0m\u001b[1;33m\u001b[0m\u001b[1;33m\u001b[0m\u001b[0m\n\u001b[1;32m-> 1610\u001b[1;33m                 random_state, X_idx_sorted, X_csc, X_csr)\n\u001b[0m\u001b[0;32m   1611\u001b[0m \u001b[1;33m\u001b[0m\u001b[0m\n\u001b[0;32m   1612\u001b[0m             \u001b[1;31m# track deviance (= loss)\u001b[0m\u001b[1;33m\u001b[0m\u001b[1;33m\u001b[0m\u001b[1;33m\u001b[0m\u001b[0m\n",
      "\u001b[1;32m~\\Anaconda3\\lib\\site-packages\\sklearn\\ensemble\\gradient_boosting.py\u001b[0m in \u001b[0;36m_fit_stage\u001b[1;34m(self, i, X, y, raw_predictions, sample_weight, sample_mask, random_state, X_idx_sorted, X_csc, X_csr)\u001b[0m\n\u001b[0;32m   1247\u001b[0m             loss.update_terminal_regions(\n\u001b[0;32m   1248\u001b[0m                 \u001b[0mtree\u001b[0m\u001b[1;33m.\u001b[0m\u001b[0mtree_\u001b[0m\u001b[1;33m,\u001b[0m \u001b[0mX\u001b[0m\u001b[1;33m,\u001b[0m \u001b[0my\u001b[0m\u001b[1;33m,\u001b[0m \u001b[0mresidual\u001b[0m\u001b[1;33m,\u001b[0m \u001b[0mraw_predictions\u001b[0m\u001b[1;33m,\u001b[0m \u001b[0msample_weight\u001b[0m\u001b[1;33m,\u001b[0m\u001b[1;33m\u001b[0m\u001b[1;33m\u001b[0m\u001b[0m\n\u001b[1;32m-> 1249\u001b[1;33m                 sample_mask, learning_rate=self.learning_rate, k=k)\n\u001b[0m\u001b[0;32m   1250\u001b[0m \u001b[1;33m\u001b[0m\u001b[0m\n\u001b[0;32m   1251\u001b[0m             \u001b[1;31m# add tree to ensemble\u001b[0m\u001b[1;33m\u001b[0m\u001b[1;33m\u001b[0m\u001b[1;33m\u001b[0m\u001b[0m\n",
      "\u001b[1;32m~\\Anaconda3\\lib\\site-packages\\sklearn\\ensemble\\_gb_losses.py\u001b[0m in \u001b[0;36mupdate_terminal_regions\u001b[1;34m(self, tree, X, y, residual, raw_predictions, sample_weight, sample_mask, learning_rate, k)\u001b[0m\n\u001b[0;32m    103\u001b[0m         \"\"\"\n\u001b[0;32m    104\u001b[0m         \u001b[1;31m# compute leaf for each sample in ``X``.\u001b[0m\u001b[1;33m\u001b[0m\u001b[1;33m\u001b[0m\u001b[1;33m\u001b[0m\u001b[0m\n\u001b[1;32m--> 105\u001b[1;33m         \u001b[0mterminal_regions\u001b[0m \u001b[1;33m=\u001b[0m \u001b[0mtree\u001b[0m\u001b[1;33m.\u001b[0m\u001b[0mapply\u001b[0m\u001b[1;33m(\u001b[0m\u001b[0mX\u001b[0m\u001b[1;33m)\u001b[0m\u001b[1;33m\u001b[0m\u001b[1;33m\u001b[0m\u001b[0m\n\u001b[0m\u001b[0;32m    106\u001b[0m \u001b[1;33m\u001b[0m\u001b[0m\n\u001b[0;32m    107\u001b[0m         \u001b[1;31m# mask all which are not in sample mask.\u001b[0m\u001b[1;33m\u001b[0m\u001b[1;33m\u001b[0m\u001b[1;33m\u001b[0m\u001b[0m\n",
      "\u001b[1;31mKeyboardInterrupt\u001b[0m: "
     ]
    }
   ],
   "source": [
    "score = mae_cv(GBoost) #  0.7310 (0.0137)\n",
    "print(\"Gradient Boosting 得分: {:.4f} ({:.4f})\\n\".format(score.mean(), score.std()))"
   ]
  },
  {
   "cell_type": "code",
   "execution_count": null,
   "metadata": {},
   "outputs": [],
   "source": [
    "score = mae_cv(model_xgb) #0.7312 (0.0166)\n",
    "print(\"Xgboost 得分: {:.4f} ({:.4f})\\n\".format(score.mean(), score.std()))"
   ]
  },
  {
   "cell_type": "code",
   "execution_count": null,
   "metadata": {},
   "outputs": [],
   "source": [
    "score = mae_cv(model_lgb) #  0.7258 (0.0139)\n",
    "print(\"LGBM 得分: {:.4f} ({:.4f})\\n\" .format(score.mean(), score.std()))"
   ]
  },
  {
   "cell_type": "markdown",
   "metadata": {},
   "source": [
    "# 6. 模型融合"
   ]
  },
  {
   "cell_type": "markdown",
   "metadata": {},
   "source": [
    "Stacking模型融合：Average-Stacking\n",
    "簡單的平均基本模型的方法。"
   ]
  },
  {
   "cell_type": "code",
   "execution_count": null,
   "metadata": {},
   "outputs": [],
   "source": [
    "class AveragingModels(BaseEstimator, RegressorMixin, TransformerMixin):\n",
    "    def __init__(self, models):\n",
    "        self.models = models\n",
    "        \n",
    "    # 用數據擬合所有的模型\n",
    "    def fit(self, X, y):\n",
    "        self.models_ = [clone(x) for x in self.models]\n",
    "        \n",
    "        for model in self.models_:\n",
    "            model.fit(X, y)\n",
    "\n",
    "        return self\n",
    "    \n",
    "    # 對結果做average\n",
    "    def predict(self, X):\n",
    "        predictions = np.column_stack([\n",
    "            model.predict(X) for model in self.models_\n",
    "        ])\n",
    "        return np.mean(predictions, axis=1)   "
   ]
  },
  {
   "cell_type": "code",
   "execution_count": null,
   "metadata": {},
   "outputs": [],
   "source": [
    "averaged_models = AveragingModels(models = (ENet, GBoost, KRR, lasso))\n",
    "\n",
    "score = mae_cv(averaged_models)\n",
    "print(\" 最集成後的模型的得分: {:.4f} ({:.4f})\\n\".format(score.mean(), score.std()))"
   ]
  },
  {
   "cell_type": "markdown",
   "metadata": {},
   "source": [
    "Meta-model Stacking： 在這種方法中，我們在平均基礎模型上添加Meta-model，並使用這些基模型的out-of-folds預測來訓練我們的Meta-model。 訓練部分的步驟如下： 1、將整個訓練集分解成兩個不相交的集合（這裡是train和.holdout）。 2、在第一部分（train）上訓練幾個基本模型。 3、在第二個部分（holdout）上測試這些基本模型。 4、使用(3)中的預測（稱為 out-of-fold 預測）作為輸入，並將正確的標籤（目標變量）作為輸出來訓練更高層次的學習模型稱為元模型。 前三個步驟是迭代完成的。例如，如果我們採取5倍的fold，我們首先將訓練數據分成5次。然後我們會做5次迭代。在每次迭代中，我們訓練每個基礎模型4倍，並預測剩餘的fold（holdout fold）。"
   ]
  },
  {
   "cell_type": "code",
   "execution_count": null,
   "metadata": {},
   "outputs": [],
   "source": [
    "class StackingAveragedModels(BaseEstimator, RegressorMixin, TransformerMixin):\n",
    "    def __init__(self, base_models, meta_model, n_folds=5):\n",
    "        self.base_models = base_models\n",
    "        self.meta_model = meta_model\n",
    "        self.n_folds = n_folds\n",
    "   \n",
    "    # 用數據擬合所有的模型\n",
    "    def fit(self, X, y):\n",
    "        self.base_models_ = [list() for x in self.base_models]\n",
    "        self.meta_model_ = clone(self.meta_model)\n",
    "        kfold = KFold(n_splits=self.n_folds, shuffle=True, random_state=156)\n",
    "        \n",
    "        # 得到元模型，並用元模型對out_of_fold做预估，為學習stacking的第2層做數據準備\n",
    "        out_of_fold_predictions = np.zeros((X.shape[0], len(self.base_models)))\n",
    "        for i, model in enumerate(self.base_models):\n",
    "            for train_index, holdout_index in kfold.split(X, y):\n",
    "                instance = clone(model)\n",
    "                self.base_models_[i].append(instance)\n",
    "                instance.fit(X[train_index], y[train_index])\n",
    "                y_pred = instance.predict(X[holdout_index])\n",
    "                out_of_fold_predictions[holdout_index, i] = y_pred\n",
    "                \n",
    "        # 學習stacking模型\n",
    "        self.meta_model_.fit(out_of_fold_predictions, y)\n",
    "        return self\n",
    "   \n",
    "    # 做stacking预估\n",
    "    def predict(self, X):\n",
    "        meta_features = np.column_stack([\n",
    "            np.column_stack([model.predict(X) for model in base_models]).mean(axis=1)\n",
    "            for base_models in self.base_models_ ])\n",
    "        return self.meta_model_.predict(meta_features)"
   ]
  },
  {
   "cell_type": "code",
   "execution_count": null,
   "metadata": {},
   "outputs": [],
   "source": [
    "stacked_averaged_models = StackingAveragedModels(base_models = (ENet, GBoost, KRR),\n",
    "                                                 meta_model = lasso)\n",
    "\n",
    "score = mae_cv(stacked_averaged_models)\n",
    "print(\"Stacking Averaged models score: {:.4f} ({:.4f})\".format(score.mean(), score.std()))"
   ]
  },
  {
   "cell_type": "code",
   "execution_count": null,
   "metadata": {},
   "outputs": [],
   "source": [
    "def mae(y, y_pred):\n",
    "    return np.sqrt(mean_absolute_error(y, y_pred))"
   ]
  },
  {
   "cell_type": "code",
   "execution_count": null,
   "metadata": {},
   "outputs": [],
   "source": [
    "#StackedRegressor:\n",
    "stacked_averaged_models.fit(train, target)\n",
    "stacked_train_pred = stacked_averaged_models.predict(train)\n",
    "stacked_pred = np.expm1(stacked_averaged_models.predict(test))\n",
    "print(mae(target, stacked_train_pred))"
   ]
  },
  {
   "cell_type": "code",
   "execution_count": null,
   "metadata": {},
   "outputs": [],
   "source": [
    "#XGBoost:\n",
    "model_xgb.fit(train, target)\n",
    "xgb_train_pred = model_xgb.predict(train)\n",
    "xgb_pred = np.expm1(model_xgb.predict(test))\n",
    "print(mae(target, xgb_train_pred))"
   ]
  },
  {
   "cell_type": "code",
   "execution_count": null,
   "metadata": {},
   "outputs": [],
   "source": [
    "#LightGBM:\n",
    "model_lgb.fit(train, target)\n",
    "lgb_train_pred = model_lgb.predict(train)\n",
    "lgb_pred = np.expm1(model_lgb.predict(test))\n",
    "print(mae(target, lgb_train_pred))"
   ]
  },
  {
   "cell_type": "code",
   "execution_count": null,
   "metadata": {},
   "outputs": [],
   "source": [
    "'''RMSE on the entire Train data when averaging'''\n",
    "\n",
    "print('訓練集上的mae得分:')\n",
    "print(mae(target,stacked_train_pred*0.70 +\n",
    "               xgb_train_pred*0.15  + lgb_train_pred*0.15 ))"
   ]
  },
  {
   "cell_type": "markdown",
   "metadata": {},
   "source": [
    "#### 將三者進行融合，然後得到Ensemble prediction："
   ]
  },
  {
   "cell_type": "code",
   "execution_count": null,
   "metadata": {},
   "outputs": [],
   "source": [
    "ensemble = stacked_pred*0.70 + xgb_pred*0.15 + lgb_pred*0.15"
   ]
  },
  {
   "cell_type": "code",
   "execution_count": null,
   "metadata": {},
   "outputs": [],
   "source": [
    "ensemble.shape"
   ]
  },
  {
   "cell_type": "code",
   "execution_count": null,
   "metadata": {},
   "outputs": [],
   "source": [
    "test_ID.shape"
   ]
  },
  {
   "cell_type": "code",
   "execution_count": null,
   "metadata": {},
   "outputs": [],
   "source": [
    "sub = pd.DataFrame()\n",
    "\n",
    "sub['id'] = test_ID\n",
    "sub['salary_next_year'] = ensemble\n",
    "sub.to_csv('submission12.csv',index=False)"
   ]
  },
  {
   "cell_type": "code",
   "execution_count": null,
   "metadata": {},
   "outputs": [],
   "source": []
  }
 ],
 "metadata": {
  "kernelspec": {
   "display_name": "Python 3",
   "language": "python",
   "name": "python3"
  },
  "language_info": {
   "codemirror_mode": {
    "name": "ipython",
    "version": 3
   },
   "file_extension": ".py",
   "mimetype": "text/x-python",
   "name": "python",
   "nbconvert_exporter": "python",
   "pygments_lexer": "ipython3",
   "version": "3.7.1"
  }
 },
 "nbformat": 4,
 "nbformat_minor": 2
}
