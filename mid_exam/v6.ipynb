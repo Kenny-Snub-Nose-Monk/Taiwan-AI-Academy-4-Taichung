{
 "cells": [
  {
   "cell_type": "markdown",
   "metadata": {},
   "source": [
    "# 場景理解"
   ]
  },
  {
   "cell_type": "code",
   "execution_count": null,
   "metadata": {},
   "outputs": [],
   "source": []
  },
  {
   "cell_type": "markdown",
   "metadata": {},
   "source": [
    "# 資料讀取"
   ]
  },
  {
   "cell_type": "code",
   "execution_count": 124,
   "metadata": {},
   "outputs": [],
   "source": [
    "import numpy as np\n",
    "import pandas as pd\n",
    "%matplotlib inline\n",
    "import matplotlib.pyplot as plt\n",
    "import seaborn as sns\n",
    "color = sns.color_palette()\n",
    "sns.set_style('darkgrid')\n",
    "import warnings\n",
    "def ignore_warn(*args, **kwargs):\n",
    "    pass\n",
    "\n",
    "warnings.warn = ignore_warn\n",
    "\n",
    "from scipy import stats\n",
    "from scipy.stats import norm, skew\n",
    "\n",
    "pd.set_option('display.float_format',lambda x:'{:.3f}'.format(x))"
   ]
  },
  {
   "cell_type": "code",
   "execution_count": 125,
   "metadata": {
    "scrolled": true
   },
   "outputs": [],
   "source": [
    "train_data = pd.read_csv('train.csv')"
   ]
  },
  {
   "cell_type": "code",
   "execution_count": 126,
   "metadata": {},
   "outputs": [],
   "source": [
    "test_data = pd.read_csv('test.csv')"
   ]
  },
  {
   "cell_type": "markdown",
   "metadata": {},
   "source": [
    "# 初步評估資料"
   ]
  },
  {
   "cell_type": "code",
   "execution_count": 127,
   "metadata": {},
   "outputs": [
    {
     "data": {
      "text/html": [
       "<div>\n",
       "<style scoped>\n",
       "    .dataframe tbody tr th:only-of-type {\n",
       "        vertical-align: middle;\n",
       "    }\n",
       "\n",
       "    .dataframe tbody tr th {\n",
       "        vertical-align: top;\n",
       "    }\n",
       "\n",
       "    .dataframe thead th {\n",
       "        text-align: right;\n",
       "    }\n",
       "</style>\n",
       "<table border=\"1\" class=\"dataframe\">\n",
       "  <thead>\n",
       "    <tr style=\"text-align: right;\">\n",
       "      <th></th>\n",
       "      <th>id</th>\n",
       "      <th>playerID</th>\n",
       "      <th>yearID</th>\n",
       "      <th>stint</th>\n",
       "      <th>teamID</th>\n",
       "      <th>lgID</th>\n",
       "      <th>W</th>\n",
       "      <th>L</th>\n",
       "      <th>G</th>\n",
       "      <th>GS</th>\n",
       "      <th>...</th>\n",
       "      <th>WP</th>\n",
       "      <th>HBP</th>\n",
       "      <th>BK</th>\n",
       "      <th>BFP</th>\n",
       "      <th>GF</th>\n",
       "      <th>R</th>\n",
       "      <th>SH</th>\n",
       "      <th>SF</th>\n",
       "      <th>GIDP</th>\n",
       "      <th>salary_next_year</th>\n",
       "    </tr>\n",
       "  </thead>\n",
       "  <tbody>\n",
       "    <tr>\n",
       "      <th>0</th>\n",
       "      <td>0</td>\n",
       "      <td>nelsoge01</td>\n",
       "      <td>1986</td>\n",
       "      <td>1</td>\n",
       "      <td>CHA</td>\n",
       "      <td>AL</td>\n",
       "      <td>6</td>\n",
       "      <td>6</td>\n",
       "      <td>54</td>\n",
       "      <td>1</td>\n",
       "      <td>...</td>\n",
       "      <td>3.000</td>\n",
       "      <td>3.000</td>\n",
       "      <td>0.000</td>\n",
       "      <td>488.000</td>\n",
       "      <td>26.000</td>\n",
       "      <td>52</td>\n",
       "      <td>nan</td>\n",
       "      <td>nan</td>\n",
       "      <td>nan</td>\n",
       "      <td>365000.000</td>\n",
       "    </tr>\n",
       "    <tr>\n",
       "      <th>1</th>\n",
       "      <td>1</td>\n",
       "      <td>moyerja01</td>\n",
       "      <td>1997</td>\n",
       "      <td>1</td>\n",
       "      <td>SEA</td>\n",
       "      <td>AL</td>\n",
       "      <td>17</td>\n",
       "      <td>5</td>\n",
       "      <td>30</td>\n",
       "      <td>30</td>\n",
       "      <td>...</td>\n",
       "      <td>3.000</td>\n",
       "      <td>7.000</td>\n",
       "      <td>0.000</td>\n",
       "      <td>787.000</td>\n",
       "      <td>0.000</td>\n",
       "      <td>82</td>\n",
       "      <td>nan</td>\n",
       "      <td>nan</td>\n",
       "      <td>nan</td>\n",
       "      <td>2000000.000</td>\n",
       "    </tr>\n",
       "    <tr>\n",
       "      <th>2</th>\n",
       "      <td>2</td>\n",
       "      <td>thompbr01</td>\n",
       "      <td>2008</td>\n",
       "      <td>1</td>\n",
       "      <td>SLN</td>\n",
       "      <td>NL</td>\n",
       "      <td>6</td>\n",
       "      <td>3</td>\n",
       "      <td>26</td>\n",
       "      <td>6</td>\n",
       "      <td>...</td>\n",
       "      <td>2.000</td>\n",
       "      <td>3.000</td>\n",
       "      <td>0.000</td>\n",
       "      <td>273.000</td>\n",
       "      <td>10.000</td>\n",
       "      <td>38</td>\n",
       "      <td>nan</td>\n",
       "      <td>nan</td>\n",
       "      <td>nan</td>\n",
       "      <td>650000.000</td>\n",
       "    </tr>\n",
       "    <tr>\n",
       "      <th>3</th>\n",
       "      <td>3</td>\n",
       "      <td>powerte01</td>\n",
       "      <td>1986</td>\n",
       "      <td>1</td>\n",
       "      <td>CIN</td>\n",
       "      <td>NL</td>\n",
       "      <td>10</td>\n",
       "      <td>6</td>\n",
       "      <td>56</td>\n",
       "      <td>10</td>\n",
       "      <td>...</td>\n",
       "      <td>5.000</td>\n",
       "      <td>1.000</td>\n",
       "      <td>1.000</td>\n",
       "      <td>537.000</td>\n",
       "      <td>30.000</td>\n",
       "      <td>59</td>\n",
       "      <td>nan</td>\n",
       "      <td>nan</td>\n",
       "      <td>nan</td>\n",
       "      <td>500000.000</td>\n",
       "    </tr>\n",
       "    <tr>\n",
       "      <th>4</th>\n",
       "      <td>4</td>\n",
       "      <td>osunaan01</td>\n",
       "      <td>2003</td>\n",
       "      <td>1</td>\n",
       "      <td>NYA</td>\n",
       "      <td>AL</td>\n",
       "      <td>2</td>\n",
       "      <td>5</td>\n",
       "      <td>48</td>\n",
       "      <td>0</td>\n",
       "      <td>...</td>\n",
       "      <td>3.000</td>\n",
       "      <td>2.000</td>\n",
       "      <td>0.000</td>\n",
       "      <td>232.000</td>\n",
       "      <td>16.000</td>\n",
       "      <td>22</td>\n",
       "      <td>nan</td>\n",
       "      <td>nan</td>\n",
       "      <td>nan</td>\n",
       "      <td>750000.000</td>\n",
       "    </tr>\n",
       "  </tbody>\n",
       "</table>\n",
       "<p>5 rows × 32 columns</p>\n",
       "</div>"
      ],
      "text/plain": [
       "   id   playerID  yearID  stint teamID lgID   W  L   G  GS        ...         \\\n",
       "0   0  nelsoge01    1986      1    CHA   AL   6  6  54   1        ...          \n",
       "1   1  moyerja01    1997      1    SEA   AL  17  5  30  30        ...          \n",
       "2   2  thompbr01    2008      1    SLN   NL   6  3  26   6        ...          \n",
       "3   3  powerte01    1986      1    CIN   NL  10  6  56  10        ...          \n",
       "4   4  osunaan01    2003      1    NYA   AL   2  5  48   0        ...          \n",
       "\n",
       "     WP   HBP    BK     BFP     GF   R  SH  SF  GIDP  salary_next_year  \n",
       "0 3.000 3.000 0.000 488.000 26.000  52 nan nan   nan        365000.000  \n",
       "1 3.000 7.000 0.000 787.000  0.000  82 nan nan   nan       2000000.000  \n",
       "2 2.000 3.000 0.000 273.000 10.000  38 nan nan   nan        650000.000  \n",
       "3 5.000 1.000 1.000 537.000 30.000  59 nan nan   nan        500000.000  \n",
       "4 3.000 2.000 0.000 232.000 16.000  22 nan nan   nan        750000.000  \n",
       "\n",
       "[5 rows x 32 columns]"
      ]
     },
     "execution_count": 127,
     "metadata": {},
     "output_type": "execute_result"
    }
   ],
   "source": [
    "train_data.head()"
   ]
  },
  {
   "cell_type": "code",
   "execution_count": 128,
   "metadata": {},
   "outputs": [
    {
     "data": {
      "text/html": [
       "<div>\n",
       "<style scoped>\n",
       "    .dataframe tbody tr th:only-of-type {\n",
       "        vertical-align: middle;\n",
       "    }\n",
       "\n",
       "    .dataframe tbody tr th {\n",
       "        vertical-align: top;\n",
       "    }\n",
       "\n",
       "    .dataframe thead th {\n",
       "        text-align: right;\n",
       "    }\n",
       "</style>\n",
       "<table border=\"1\" class=\"dataframe\">\n",
       "  <thead>\n",
       "    <tr style=\"text-align: right;\">\n",
       "      <th></th>\n",
       "      <th>id</th>\n",
       "      <th>playerID</th>\n",
       "      <th>yearID</th>\n",
       "      <th>stint</th>\n",
       "      <th>teamID</th>\n",
       "      <th>lgID</th>\n",
       "      <th>W</th>\n",
       "      <th>L</th>\n",
       "      <th>G</th>\n",
       "      <th>GS</th>\n",
       "      <th>...</th>\n",
       "      <th>IBB</th>\n",
       "      <th>WP</th>\n",
       "      <th>HBP</th>\n",
       "      <th>BK</th>\n",
       "      <th>BFP</th>\n",
       "      <th>GF</th>\n",
       "      <th>R</th>\n",
       "      <th>SH</th>\n",
       "      <th>SF</th>\n",
       "      <th>GIDP</th>\n",
       "    </tr>\n",
       "  </thead>\n",
       "  <tbody>\n",
       "    <tr>\n",
       "      <th>0</th>\n",
       "      <td>6284</td>\n",
       "      <td>cormirh01</td>\n",
       "      <td>2000</td>\n",
       "      <td>1</td>\n",
       "      <td>BOS</td>\n",
       "      <td>AL</td>\n",
       "      <td>3</td>\n",
       "      <td>3</td>\n",
       "      <td>64</td>\n",
       "      <td>0</td>\n",
       "      <td>...</td>\n",
       "      <td>2.000</td>\n",
       "      <td>1.000</td>\n",
       "      <td>0.000</td>\n",
       "      <td>0.000</td>\n",
       "      <td>293.000</td>\n",
       "      <td>12.000</td>\n",
       "      <td>40</td>\n",
       "      <td>nan</td>\n",
       "      <td>nan</td>\n",
       "      <td>nan</td>\n",
       "    </tr>\n",
       "    <tr>\n",
       "      <th>1</th>\n",
       "      <td>6285</td>\n",
       "      <td>reyesde01</td>\n",
       "      <td>2003</td>\n",
       "      <td>1</td>\n",
       "      <td>PIT</td>\n",
       "      <td>NL</td>\n",
       "      <td>0</td>\n",
       "      <td>0</td>\n",
       "      <td>12</td>\n",
       "      <td>0</td>\n",
       "      <td>...</td>\n",
       "      <td>1.000</td>\n",
       "      <td>5.000</td>\n",
       "      <td>0.000</td>\n",
       "      <td>0.000</td>\n",
       "      <td>50.000</td>\n",
       "      <td>4.000</td>\n",
       "      <td>13</td>\n",
       "      <td>nan</td>\n",
       "      <td>nan</td>\n",
       "      <td>nan</td>\n",
       "    </tr>\n",
       "    <tr>\n",
       "      <th>2</th>\n",
       "      <td>6286</td>\n",
       "      <td>runyase01</td>\n",
       "      <td>1999</td>\n",
       "      <td>1</td>\n",
       "      <td>DET</td>\n",
       "      <td>AL</td>\n",
       "      <td>0</td>\n",
       "      <td>1</td>\n",
       "      <td>12</td>\n",
       "      <td>0</td>\n",
       "      <td>...</td>\n",
       "      <td>1.000</td>\n",
       "      <td>2.000</td>\n",
       "      <td>1.000</td>\n",
       "      <td>0.000</td>\n",
       "      <td>45.000</td>\n",
       "      <td>2.000</td>\n",
       "      <td>4</td>\n",
       "      <td>nan</td>\n",
       "      <td>nan</td>\n",
       "      <td>nan</td>\n",
       "    </tr>\n",
       "    <tr>\n",
       "      <th>3</th>\n",
       "      <td>6287</td>\n",
       "      <td>byrdpa01</td>\n",
       "      <td>2002</td>\n",
       "      <td>1</td>\n",
       "      <td>KCA</td>\n",
       "      <td>AL</td>\n",
       "      <td>17</td>\n",
       "      <td>11</td>\n",
       "      <td>33</td>\n",
       "      <td>33</td>\n",
       "      <td>...</td>\n",
       "      <td>1.000</td>\n",
       "      <td>3.000</td>\n",
       "      <td>7.000</td>\n",
       "      <td>1.000</td>\n",
       "      <td>935.000</td>\n",
       "      <td>0.000</td>\n",
       "      <td>111</td>\n",
       "      <td>nan</td>\n",
       "      <td>nan</td>\n",
       "      <td>nan</td>\n",
       "    </tr>\n",
       "    <tr>\n",
       "      <th>4</th>\n",
       "      <td>6288</td>\n",
       "      <td>parkch01</td>\n",
       "      <td>2006</td>\n",
       "      <td>1</td>\n",
       "      <td>SDN</td>\n",
       "      <td>NL</td>\n",
       "      <td>7</td>\n",
       "      <td>7</td>\n",
       "      <td>24</td>\n",
       "      <td>21</td>\n",
       "      <td>...</td>\n",
       "      <td>7.000</td>\n",
       "      <td>5.000</td>\n",
       "      <td>10.000</td>\n",
       "      <td>0.000</td>\n",
       "      <td>606.000</td>\n",
       "      <td>0.000</td>\n",
       "      <td>81</td>\n",
       "      <td>nan</td>\n",
       "      <td>nan</td>\n",
       "      <td>nan</td>\n",
       "    </tr>\n",
       "  </tbody>\n",
       "</table>\n",
       "<p>5 rows × 31 columns</p>\n",
       "</div>"
      ],
      "text/plain": [
       "     id   playerID  yearID  stint teamID lgID   W   L   G  GS  ...    IBB  \\\n",
       "0  6284  cormirh01    2000      1    BOS   AL   3   3  64   0  ...  2.000   \n",
       "1  6285  reyesde01    2003      1    PIT   NL   0   0  12   0  ...  1.000   \n",
       "2  6286  runyase01    1999      1    DET   AL   0   1  12   0  ...  1.000   \n",
       "3  6287   byrdpa01    2002      1    KCA   AL  17  11  33  33  ...  1.000   \n",
       "4  6288   parkch01    2006      1    SDN   NL   7   7  24  21  ...  7.000   \n",
       "\n",
       "     WP    HBP    BK     BFP     GF    R  SH  SF  GIDP  \n",
       "0 1.000  0.000 0.000 293.000 12.000   40 nan nan   nan  \n",
       "1 5.000  0.000 0.000  50.000  4.000   13 nan nan   nan  \n",
       "2 2.000  1.000 0.000  45.000  2.000    4 nan nan   nan  \n",
       "3 3.000  7.000 1.000 935.000  0.000  111 nan nan   nan  \n",
       "4 5.000 10.000 0.000 606.000  0.000   81 nan nan   nan  \n",
       "\n",
       "[5 rows x 31 columns]"
      ]
     },
     "execution_count": 128,
     "metadata": {},
     "output_type": "execute_result"
    }
   ],
   "source": [
    "test_data.head()"
   ]
  },
  {
   "cell_type": "code",
   "execution_count": 129,
   "metadata": {},
   "outputs": [
    {
     "data": {
      "text/plain": [
       "(6284, 32)"
      ]
     },
     "execution_count": 129,
     "metadata": {},
     "output_type": "execute_result"
    }
   ],
   "source": [
    "train_data.shape"
   ]
  },
  {
   "cell_type": "code",
   "execution_count": 130,
   "metadata": {},
   "outputs": [
    {
     "data": {
      "text/plain": [
       "(1109, 31)"
      ]
     },
     "execution_count": 130,
     "metadata": {},
     "output_type": "execute_result"
    }
   ],
   "source": [
    "test_data.shape"
   ]
  },
  {
   "cell_type": "code",
   "execution_count": 131,
   "metadata": {
    "scrolled": true
   },
   "outputs": [
    {
     "name": "stdout",
     "output_type": "stream",
     "text": [
      "<class 'pandas.core.frame.DataFrame'>\n",
      "RangeIndex: 6284 entries, 0 to 6283\n",
      "Data columns (total 32 columns):\n",
      "id                  6284 non-null int64\n",
      "playerID            6284 non-null object\n",
      "yearID              6284 non-null int64\n",
      "stint               6284 non-null int64\n",
      "teamID              6284 non-null object\n",
      "lgID                6284 non-null object\n",
      "W                   6284 non-null int64\n",
      "L                   6284 non-null int64\n",
      "G                   6284 non-null int64\n",
      "GS                  6284 non-null int64\n",
      "CG                  6284 non-null int64\n",
      "SHO                 6284 non-null int64\n",
      "SV                  6284 non-null int64\n",
      "IPouts              6284 non-null int64\n",
      "H                   6284 non-null int64\n",
      "ER                  6284 non-null int64\n",
      "HR                  6284 non-null int64\n",
      "BB                  6284 non-null int64\n",
      "SO                  6284 non-null int64\n",
      "BAOpp               3831 non-null float64\n",
      "ERA                 6284 non-null float64\n",
      "IBB                 6284 non-null float64\n",
      "WP                  6284 non-null float64\n",
      "HBP                 6284 non-null float64\n",
      "BK                  6284 non-null float64\n",
      "BFP                 6284 non-null float64\n",
      "GF                  6284 non-null float64\n",
      "R                   6284 non-null int64\n",
      "SH                  0 non-null float64\n",
      "SF                  0 non-null float64\n",
      "GIDP                0 non-null float64\n",
      "salary_next_year    6284 non-null float64\n",
      "dtypes: float64(12), int64(17), object(3)\n",
      "memory usage: 1.5+ MB\n"
     ]
    }
   ],
   "source": [
    "train_data.info() \n",
    "# BAOpp 有一半都沒有值, SH、SF、GIDP全部都沒有值\n",
    "#直接 drop掉SH、SF、GIDP"
   ]
  },
  {
   "cell_type": "code",
   "execution_count": 132,
   "metadata": {
    "scrolled": true
   },
   "outputs": [
    {
     "name": "stdout",
     "output_type": "stream",
     "text": [
      "<class 'pandas.core.frame.DataFrame'>\n",
      "RangeIndex: 1109 entries, 0 to 1108\n",
      "Data columns (total 31 columns):\n",
      "id          1109 non-null int64\n",
      "playerID    1109 non-null object\n",
      "yearID      1109 non-null int64\n",
      "stint       1109 non-null int64\n",
      "teamID      1109 non-null object\n",
      "lgID        1109 non-null object\n",
      "W           1109 non-null int64\n",
      "L           1109 non-null int64\n",
      "G           1109 non-null int64\n",
      "GS          1109 non-null int64\n",
      "CG          1109 non-null int64\n",
      "SHO         1109 non-null int64\n",
      "SV          1109 non-null int64\n",
      "IPouts      1109 non-null int64\n",
      "H           1109 non-null int64\n",
      "ER          1109 non-null int64\n",
      "HR          1109 non-null int64\n",
      "BB          1109 non-null int64\n",
      "SO          1109 non-null int64\n",
      "BAOpp       675 non-null float64\n",
      "ERA         1109 non-null float64\n",
      "IBB         1108 non-null float64\n",
      "WP          1108 non-null float64\n",
      "HBP         1108 non-null float64\n",
      "BK          1108 non-null float64\n",
      "BFP         1109 non-null float64\n",
      "GF          1109 non-null float64\n",
      "R           1109 non-null int64\n",
      "SH          0 non-null float64\n",
      "SF          0 non-null float64\n",
      "GIDP        0 non-null float64\n",
      "dtypes: float64(11), int64(17), object(3)\n",
      "memory usage: 268.7+ KB\n"
     ]
    }
   ],
   "source": [
    "test_data.info() #測試集的資料缺失跟訓練集資料分不一致"
   ]
  },
  {
   "cell_type": "code",
   "execution_count": 133,
   "metadata": {},
   "outputs": [
    {
     "data": {
      "text/html": [
       "<div>\n",
       "<style scoped>\n",
       "    .dataframe tbody tr th:only-of-type {\n",
       "        vertical-align: middle;\n",
       "    }\n",
       "\n",
       "    .dataframe tbody tr th {\n",
       "        vertical-align: top;\n",
       "    }\n",
       "\n",
       "    .dataframe thead th {\n",
       "        text-align: right;\n",
       "    }\n",
       "</style>\n",
       "<table border=\"1\" class=\"dataframe\">\n",
       "  <thead>\n",
       "    <tr style=\"text-align: right;\">\n",
       "      <th></th>\n",
       "      <th>id</th>\n",
       "      <th>yearID</th>\n",
       "      <th>stint</th>\n",
       "      <th>W</th>\n",
       "      <th>L</th>\n",
       "      <th>G</th>\n",
       "      <th>GS</th>\n",
       "      <th>CG</th>\n",
       "      <th>SHO</th>\n",
       "      <th>SV</th>\n",
       "      <th>...</th>\n",
       "      <th>WP</th>\n",
       "      <th>HBP</th>\n",
       "      <th>BK</th>\n",
       "      <th>BFP</th>\n",
       "      <th>GF</th>\n",
       "      <th>R</th>\n",
       "      <th>SH</th>\n",
       "      <th>SF</th>\n",
       "      <th>GIDP</th>\n",
       "      <th>salary_next_year</th>\n",
       "    </tr>\n",
       "  </thead>\n",
       "  <tbody>\n",
       "    <tr>\n",
       "      <th>count</th>\n",
       "      <td>6284.000</td>\n",
       "      <td>6284.000</td>\n",
       "      <td>6284.000</td>\n",
       "      <td>6284.000</td>\n",
       "      <td>6284.000</td>\n",
       "      <td>6284.000</td>\n",
       "      <td>6284.000</td>\n",
       "      <td>6284.000</td>\n",
       "      <td>6284.000</td>\n",
       "      <td>6284.000</td>\n",
       "      <td>...</td>\n",
       "      <td>6284.000</td>\n",
       "      <td>6284.000</td>\n",
       "      <td>6284.000</td>\n",
       "      <td>6284.000</td>\n",
       "      <td>6284.000</td>\n",
       "      <td>6284.000</td>\n",
       "      <td>0.000</td>\n",
       "      <td>0.000</td>\n",
       "      <td>0.000</td>\n",
       "      <td>6284.000</td>\n",
       "    </tr>\n",
       "    <tr>\n",
       "      <th>mean</th>\n",
       "      <td>3141.500</td>\n",
       "      <td>1998.681</td>\n",
       "      <td>1.004</td>\n",
       "      <td>6.270</td>\n",
       "      <td>5.840</td>\n",
       "      <td>37.204</td>\n",
       "      <td>12.518</td>\n",
       "      <td>0.960</td>\n",
       "      <td>0.305</td>\n",
       "      <td>3.327</td>\n",
       "      <td>...</td>\n",
       "      <td>3.565</td>\n",
       "      <td>3.382</td>\n",
       "      <td>0.579</td>\n",
       "      <td>452.330</td>\n",
       "      <td>10.065</td>\n",
       "      <td>52.188</td>\n",
       "      <td>nan</td>\n",
       "      <td>nan</td>\n",
       "      <td>nan</td>\n",
       "      <td>2153669.017</td>\n",
       "    </tr>\n",
       "    <tr>\n",
       "      <th>std</th>\n",
       "      <td>1814.179</td>\n",
       "      <td>7.293</td>\n",
       "      <td>0.067</td>\n",
       "      <td>5.082</td>\n",
       "      <td>4.151</td>\n",
       "      <td>19.697</td>\n",
       "      <td>13.538</td>\n",
       "      <td>2.051</td>\n",
       "      <td>0.763</td>\n",
       "      <td>8.768</td>\n",
       "      <td>...</td>\n",
       "      <td>3.201</td>\n",
       "      <td>3.159</td>\n",
       "      <td>1.126</td>\n",
       "      <td>288.615</td>\n",
       "      <td>14.960</td>\n",
       "      <td>34.497</td>\n",
       "      <td>nan</td>\n",
       "      <td>nan</td>\n",
       "      <td>nan</td>\n",
       "      <td>2990284.701</td>\n",
       "    </tr>\n",
       "    <tr>\n",
       "      <th>min</th>\n",
       "      <td>0.000</td>\n",
       "      <td>1985.000</td>\n",
       "      <td>1.000</td>\n",
       "      <td>0.000</td>\n",
       "      <td>0.000</td>\n",
       "      <td>1.000</td>\n",
       "      <td>0.000</td>\n",
       "      <td>0.000</td>\n",
       "      <td>0.000</td>\n",
       "      <td>0.000</td>\n",
       "      <td>...</td>\n",
       "      <td>0.000</td>\n",
       "      <td>0.000</td>\n",
       "      <td>0.000</td>\n",
       "      <td>1.000</td>\n",
       "      <td>0.000</td>\n",
       "      <td>0.000</td>\n",
       "      <td>nan</td>\n",
       "      <td>nan</td>\n",
       "      <td>nan</td>\n",
       "      <td>60000.000</td>\n",
       "    </tr>\n",
       "    <tr>\n",
       "      <th>25%</th>\n",
       "      <td>1570.750</td>\n",
       "      <td>1993.000</td>\n",
       "      <td>1.000</td>\n",
       "      <td>2.000</td>\n",
       "      <td>2.000</td>\n",
       "      <td>24.000</td>\n",
       "      <td>0.000</td>\n",
       "      <td>0.000</td>\n",
       "      <td>0.000</td>\n",
       "      <td>0.000</td>\n",
       "      <td>...</td>\n",
       "      <td>1.000</td>\n",
       "      <td>1.000</td>\n",
       "      <td>0.000</td>\n",
       "      <td>229.000</td>\n",
       "      <td>0.000</td>\n",
       "      <td>24.000</td>\n",
       "      <td>nan</td>\n",
       "      <td>nan</td>\n",
       "      <td>nan</td>\n",
       "      <td>350000.000</td>\n",
       "    </tr>\n",
       "    <tr>\n",
       "      <th>50%</th>\n",
       "      <td>3141.500</td>\n",
       "      <td>1999.000</td>\n",
       "      <td>1.000</td>\n",
       "      <td>5.000</td>\n",
       "      <td>5.000</td>\n",
       "      <td>33.000</td>\n",
       "      <td>6.000</td>\n",
       "      <td>0.000</td>\n",
       "      <td>0.000</td>\n",
       "      <td>0.000</td>\n",
       "      <td>...</td>\n",
       "      <td>3.000</td>\n",
       "      <td>3.000</td>\n",
       "      <td>0.000</td>\n",
       "      <td>349.000</td>\n",
       "      <td>3.000</td>\n",
       "      <td>41.000</td>\n",
       "      <td>nan</td>\n",
       "      <td>nan</td>\n",
       "      <td>nan</td>\n",
       "      <td>875000.000</td>\n",
       "    </tr>\n",
       "    <tr>\n",
       "      <th>75%</th>\n",
       "      <td>4712.250</td>\n",
       "      <td>2005.000</td>\n",
       "      <td>1.000</td>\n",
       "      <td>10.000</td>\n",
       "      <td>9.000</td>\n",
       "      <td>52.000</td>\n",
       "      <td>27.000</td>\n",
       "      <td>1.000</td>\n",
       "      <td>0.000</td>\n",
       "      <td>1.000</td>\n",
       "      <td>...</td>\n",
       "      <td>5.000</td>\n",
       "      <td>5.000</td>\n",
       "      <td>1.000</td>\n",
       "      <td>721.000</td>\n",
       "      <td>14.000</td>\n",
       "      <td>82.000</td>\n",
       "      <td>nan</td>\n",
       "      <td>nan</td>\n",
       "      <td>nan</td>\n",
       "      <td>2788541.500</td>\n",
       "    </tr>\n",
       "    <tr>\n",
       "      <th>max</th>\n",
       "      <td>6283.000</td>\n",
       "      <td>2011.000</td>\n",
       "      <td>2.000</td>\n",
       "      <td>27.000</td>\n",
       "      <td>21.000</td>\n",
       "      <td>94.000</td>\n",
       "      <td>39.000</td>\n",
       "      <td>20.000</td>\n",
       "      <td>10.000</td>\n",
       "      <td>62.000</td>\n",
       "      <td>...</td>\n",
       "      <td>26.000</td>\n",
       "      <td>20.000</td>\n",
       "      <td>16.000</td>\n",
       "      <td>1157.000</td>\n",
       "      <td>76.000</td>\n",
       "      <td>160.000</td>\n",
       "      <td>nan</td>\n",
       "      <td>nan</td>\n",
       "      <td>nan</td>\n",
       "      <td>24285714.000</td>\n",
       "    </tr>\n",
       "  </tbody>\n",
       "</table>\n",
       "<p>8 rows × 29 columns</p>\n",
       "</div>"
      ],
      "text/plain": [
       "            id   yearID    stint        W        L        G       GS       CG  \\\n",
       "count 6284.000 6284.000 6284.000 6284.000 6284.000 6284.000 6284.000 6284.000   \n",
       "mean  3141.500 1998.681    1.004    6.270    5.840   37.204   12.518    0.960   \n",
       "std   1814.179    7.293    0.067    5.082    4.151   19.697   13.538    2.051   \n",
       "min      0.000 1985.000    1.000    0.000    0.000    1.000    0.000    0.000   \n",
       "25%   1570.750 1993.000    1.000    2.000    2.000   24.000    0.000    0.000   \n",
       "50%   3141.500 1999.000    1.000    5.000    5.000   33.000    6.000    0.000   \n",
       "75%   4712.250 2005.000    1.000   10.000    9.000   52.000   27.000    1.000   \n",
       "max   6283.000 2011.000    2.000   27.000   21.000   94.000   39.000   20.000   \n",
       "\n",
       "           SHO       SV        ...              WP      HBP       BK      BFP  \\\n",
       "count 6284.000 6284.000        ...        6284.000 6284.000 6284.000 6284.000   \n",
       "mean     0.305    3.327        ...           3.565    3.382    0.579  452.330   \n",
       "std      0.763    8.768        ...           3.201    3.159    1.126  288.615   \n",
       "min      0.000    0.000        ...           0.000    0.000    0.000    1.000   \n",
       "25%      0.000    0.000        ...           1.000    1.000    0.000  229.000   \n",
       "50%      0.000    0.000        ...           3.000    3.000    0.000  349.000   \n",
       "75%      0.000    1.000        ...           5.000    5.000    1.000  721.000   \n",
       "max     10.000   62.000        ...          26.000   20.000   16.000 1157.000   \n",
       "\n",
       "            GF        R    SH    SF  GIDP  salary_next_year  \n",
       "count 6284.000 6284.000 0.000 0.000 0.000          6284.000  \n",
       "mean    10.065   52.188   nan   nan   nan       2153669.017  \n",
       "std     14.960   34.497   nan   nan   nan       2990284.701  \n",
       "min      0.000    0.000   nan   nan   nan         60000.000  \n",
       "25%      0.000   24.000   nan   nan   nan        350000.000  \n",
       "50%      3.000   41.000   nan   nan   nan        875000.000  \n",
       "75%     14.000   82.000   nan   nan   nan       2788541.500  \n",
       "max     76.000  160.000   nan   nan   nan      24285714.000  \n",
       "\n",
       "[8 rows x 29 columns]"
      ]
     },
     "execution_count": 133,
     "metadata": {},
     "output_type": "execute_result"
    }
   ],
   "source": [
    "train_data.describe()"
   ]
  },
  {
   "cell_type": "code",
   "execution_count": 134,
   "metadata": {},
   "outputs": [
    {
     "data": {
      "text/html": [
       "<div>\n",
       "<style scoped>\n",
       "    .dataframe tbody tr th:only-of-type {\n",
       "        vertical-align: middle;\n",
       "    }\n",
       "\n",
       "    .dataframe tbody tr th {\n",
       "        vertical-align: top;\n",
       "    }\n",
       "\n",
       "    .dataframe thead th {\n",
       "        text-align: right;\n",
       "    }\n",
       "</style>\n",
       "<table border=\"1\" class=\"dataframe\">\n",
       "  <thead>\n",
       "    <tr style=\"text-align: right;\">\n",
       "      <th></th>\n",
       "      <th>playerID</th>\n",
       "      <th>teamID</th>\n",
       "      <th>lgID</th>\n",
       "    </tr>\n",
       "  </thead>\n",
       "  <tbody>\n",
       "    <tr>\n",
       "      <th>count</th>\n",
       "      <td>6284</td>\n",
       "      <td>6284</td>\n",
       "      <td>6284</td>\n",
       "    </tr>\n",
       "    <tr>\n",
       "      <th>unique</th>\n",
       "      <td>1246</td>\n",
       "      <td>34</td>\n",
       "      <td>2</td>\n",
       "    </tr>\n",
       "    <tr>\n",
       "      <th>top</th>\n",
       "      <td>moyerja01</td>\n",
       "      <td>PIT</td>\n",
       "      <td>NL</td>\n",
       "    </tr>\n",
       "    <tr>\n",
       "      <th>freq</th>\n",
       "      <td>22</td>\n",
       "      <td>244</td>\n",
       "      <td>3254</td>\n",
       "    </tr>\n",
       "  </tbody>\n",
       "</table>\n",
       "</div>"
      ],
      "text/plain": [
       "         playerID teamID  lgID\n",
       "count        6284   6284  6284\n",
       "unique       1246     34     2\n",
       "top     moyerja01    PIT    NL\n",
       "freq           22    244  3254"
      ]
     },
     "execution_count": 134,
     "metadata": {},
     "output_type": "execute_result"
    }
   ],
   "source": [
    "train_data.describe(include = 'object')"
   ]
  },
  {
   "cell_type": "markdown",
   "metadata": {},
   "source": [
    "> playerID怎麼處理?"
   ]
  },
  {
   "cell_type": "markdown",
   "metadata": {},
   "source": [
    "## 訓練數據跟測試數據結合"
   ]
  },
  {
   "cell_type": "code",
   "execution_count": 135,
   "metadata": {},
   "outputs": [
    {
     "name": "stdout",
     "output_type": "stream",
     "text": [
      "訓練資料集的維度 (6284, 31)\n",
      "測試資料集的維度 (1109, 30)\n"
     ]
    }
   ],
   "source": [
    "train_ID =  train_data['id']\n",
    "test_ID = test_data['id']\n",
    "\n",
    "train_data.drop(['id'], axis = 1,inplace = True)\n",
    "test_data.drop(['id'], axis = 1, inplace = True)\n",
    "\n",
    "print(\"訓練資料集的維度\",train_data.shape)\n",
    "print(\"測試資料集的維度\",test_data.shape)"
   ]
  },
  {
   "cell_type": "markdown",
   "metadata": {},
   "source": [
    "# 探索式數據分析"
   ]
  },
  {
   "cell_type": "markdown",
   "metadata": {},
   "source": [
    "### 前30名薪資球員"
   ]
  },
  {
   "cell_type": "markdown",
   "metadata": {},
   "source": [
    "### 將下一年的薪資 做 log 轉移"
   ]
  },
  {
   "cell_type": "code",
   "execution_count": 136,
   "metadata": {},
   "outputs": [
    {
     "name": "stdout",
     "output_type": "stream",
     "text": [
      "\n",
      " mu = 2153669.02 and sigma = 2990046.76\n",
      "\n"
     ]
    },
    {
     "name": "stderr",
     "output_type": "stream",
     "text": [
      "C:\\Users\\autolab2\\Anaconda3\\lib\\site-packages\\scipy\\stats\\stats.py:1713: FutureWarning: Using a non-tuple sequence for multidimensional indexing is deprecated; use `arr[tuple(seq)]` instead of `arr[seq]`. In the future this will be interpreted as an array index, `arr[np.array(seq)]`, which will result either in an error or a different result.\n",
      "  return np.add.reduce(sorted[indexer] * weights, axis=axis) / sumval\n"
     ]
    },
    {
     "data": {
      "image/png": "[encoded data removed]",
      "text/plain": [
       "<Figure size 432x288 with 1 Axes>"
      ]
     },
     "metadata": {},
     "output_type": "display_data"
    },
    {
     "data": {
      "image/png": "[encoded data removed]",
      "text/plain": [
       "<Figure size 432x288 with 1 Axes>"
      ]
     },
     "metadata": {},
     "output_type": "display_data"
    }
   ],
   "source": [
    "sns.distplot(train_data['salary_next_year'], fit = norm)\n",
    "\n",
    "#擬合正態分布\n",
    "(mu , sigma) = norm.fit(train_data['salary_next_year'])\n",
    "print('\\n mu = {:.2f} and sigma = {:.2f}\\n'.format(mu, sigma))\n",
    "\n",
    "# 繪圖\n",
    "plt.legend(['Normal dist.($\\mu = ${:.2f} and $\\sigma = ${:.2f})'.format(mu,sigma)],loc = 'best')\n",
    "plt.ylabel('Frequency')\n",
    "plt.title('Salary Next Year distribution')\n",
    "\n",
    "#原始數據分布繪圖\n",
    "fig = plt.figure()\n",
    "res = stats.probplot(train_data['salary_next_year'], plot = plt)\n",
    "plt.show()"
   ]
  },
  {
   "cell_type": "markdown",
   "metadata": {},
   "source": [
    "> 此時的正態分布為嚴重右偏態分布，整體峰值向左偏離，並且偏度(skewness)較大，需要對目標值做log轉換，以恢復目標值的正態性。"
   ]
  },
  {
   "cell_type": "code",
   "execution_count": 137,
   "metadata": {},
   "outputs": [
    {
     "name": "stdout",
     "output_type": "stream",
     "text": [
      "\n",
      " mu = 13.79 and sigma = 1.29\n",
      "\n"
     ]
    },
    {
     "data": {
      "image/png": "[encoded data removed]",
      "text/plain": [
       "<Figure size 432x288 with 1 Axes>"
      ]
     },
     "metadata": {},
     "output_type": "display_data"
    },
    {
     "data": {
      "image/png": "[encoded data removed]",
      "text/plain": [
       "<Figure size 432x288 with 1 Axes>"
      ]
     },
     "metadata": {},
     "output_type": "display_data"
    }
   ],
   "source": [
    "#使用log1p函數完成log(1+x)變換\n",
    "train_data['salary_next_year'] = np.log1p(train_data['salary_next_year'])\n",
    "\n",
    "#查看調整後的分布\n",
    "sns.distplot(train_data['salary_next_year'], fit = norm)\n",
    "\n",
    "# 重新擬合\n",
    "(mu, sigma) = norm.fit(train_data['salary_next_year'])\n",
    "print( '\\n mu = {:.2f} and sigma = {:.2f}\\n'.format(mu, sigma))\n",
    "\n",
    "# 重新繪製正态分布\n",
    "plt.legend(['Normal dist. ($\\mu=$ {:.2f} and $\\sigma=$ {:.2f} )'.format(mu, sigma)],\n",
    "            loc='best')\n",
    "plt.ylabel('Frequency')\n",
    "plt.title('Salary Next Year distribution')\n",
    "\n",
    "# 繪製轉變後的分布\n",
    "fig = plt.figure()\n",
    "res = stats.probplot(train_data['salary_next_year'], plot=plt)\n",
    "plt.show()"
   ]
  },
  {
   "cell_type": "markdown",
   "metadata": {},
   "source": [
    "## BAOpp:對手平均打擊率 缺失39%數據"
   ]
  },
  {
   "cell_type": "code",
   "execution_count": 138,
   "metadata": {},
   "outputs": [
    {
     "data": {
      "image/png": "[encoded data removed]",
      "text/plain": [
       "<Figure size 432x288 with 1 Axes>"
      ]
     },
     "metadata": {},
     "output_type": "display_data"
    }
   ],
   "source": [
    "#繪圖\n",
    "fig, ax = plt.subplots()\n",
    "ax.scatter(x = train_data['BAOpp'], y = train_data['salary_next_year'])\n",
    "plt.ylabel('salary_next_year', fontsize = 13)\n",
    "plt.xlabel('BAOpp', fontsize = 13)\n",
    "plt.show()"
   ]
  },
  {
   "cell_type": "markdown",
   "metadata": {},
   "source": [
    "觀看所有資料的"
   ]
  },
  {
   "cell_type": "code",
   "execution_count": 139,
   "metadata": {},
   "outputs": [],
   "source": [
    "# pairplot of numerical variables\n",
    "#sns.pairplot(data=all_data)"
   ]
  },
  {
   "cell_type": "markdown",
   "metadata": {},
   "source": [
    "# 畫出熱力圖比較特徵間的相關性"
   ]
  },
  {
   "cell_type": "code",
   "execution_count": 140,
   "metadata": {},
   "outputs": [],
   "source": [
    "# Required parameter: dataframe ... the reference pandas dataframe\n",
    "# Optional parameters: title ... (string) chart title\n",
    "#                      file  ... (string) path+filename if you want to save image\n",
    "\n",
    "\n",
    "def half_masked_corr_heatmap(dataframe, title=None, file=None):\n",
    "    plt.figure(figsize=(15,15))\n",
    "    sns.set(font_scale=1)\n",
    "\n",
    "    mask = np.zeros_like(dataframe.corr())\n",
    "    mask[np.triu_indices_from(mask)] = True\n",
    "\n",
    "    with sns.axes_style(\"white\"):\n",
    "        sns.heatmap(dataframe.corr(), mask=mask, annot=True, cmap='coolwarm')\n",
    "\n",
    "    if title: plt.title(f'\\n{title}\\n', fontsize=18)\n",
    "    plt.xlabel('')    # optional in case you want an x-axis label\n",
    "    plt.ylabel('')    # optional in case you want a  y-axis label\n",
    "    if file: plt.savefig(file, bbox_inches='tight')\n",
    "    plt.show();\n",
    "    \n",
    "    return"
   ]
  },
  {
   "cell_type": "code",
   "execution_count": 141,
   "metadata": {},
   "outputs": [
    {
     "data": {
      "image/png": "[encoded data removed]",
      "text/plain": [
       "<Figure size 1080x1080 with 2 Axes>"
      ]
     },
     "metadata": {},
     "output_type": "display_data"
    }
   ],
   "source": [
    "half_masked_corr_heatmap(train_data.drop(['SH','SF','GIDP'],axis = 1))"
   ]
  },
  {
   "cell_type": "code",
   "execution_count": 142,
   "metadata": {},
   "outputs": [],
   "source": [
    "# Required parameters: dataframe ... the reference pandas dataframe\n",
    "#                      target ... (string) column name of the target variable\n",
    "\n",
    "# Optional parameters: title ... (string) chart title\n",
    "#                      file  ... (string) path+filename if you want to save image\n",
    "\n",
    "def corr_to_target(dataframe, target, title=None, file=None):\n",
    "    plt.figure(figsize=(4,6))\n",
    "    sns.set(font_scale=1)\n",
    "    \n",
    "    sns.heatmap(dataframe.corr()[[target]].sort_values(target,\n",
    "                                                ascending=False)[1:],\n",
    "                annot=True,\n",
    "                cmap='coolwarm')\n",
    "    \n",
    "    if title: plt.title(f'\\n{title}\\n', fontsize=18)\n",
    "    plt.xlabel('')    # optional in case you want an x-axis label\n",
    "    plt.ylabel('')    # optional in case you want a  y-axis label\n",
    "    if file: plt.savefig(file, bbox_inches='tight')\n",
    "    plt.show();\n",
    "    \n",
    "    return"
   ]
  },
  {
   "cell_type": "code",
   "execution_count": 143,
   "metadata": {
    "scrolled": false
   },
   "outputs": [
    {
     "data": {
      "image/png": "[encoded data removed]",
      "text/plain": [
       "<Figure size 288x432 with 2 Axes>"
      ]
     },
     "metadata": {},
     "output_type": "display_data"
    }
   ],
   "source": [
    "corr_to_target(train_data.drop(['SH','SF','GIDP'],axis = 1), 'salary_next_year') #可以看到薪資跟年代高度相關，以前的薪水跟現在的薪水不一樣"
   ]
  },
  {
   "cell_type": "markdown",
   "metadata": {},
   "source": [
    "### 觀察YearID與薪資的趨勢"
   ]
  },
  {
   "cell_type": "markdown",
   "metadata": {},
   "source": [
    "> 1994年聽說罷工所以停止舉辦冠軍賽 感覺與這有關"
   ]
  },
  {
   "cell_type": "code",
   "execution_count": 144,
   "metadata": {},
   "outputs": [
    {
     "data": {
      "text/plain": [
       "<matplotlib.axes._subplots.AxesSubplot at 0x25c71edb860>"
      ]
     },
     "execution_count": 144,
     "metadata": {},
     "output_type": "execute_result"
    },
    {
     "data": {
      "image/png": "[encoded data removed]",
      "text/plain": [
       "<Figure size 1152x576 with 1 Axes>"
      ]
     },
     "metadata": {},
     "output_type": "display_data"
    }
   ],
   "source": [
    "f, ax = plt.subplots(figsize=(16, 8))\n",
    "sns.lineplot(x='yearID', y='salary_next_year', data=train_data,color = 'red') #可發現從1995年以後薪資是一路成長, 且可以用五年用一個單位"
   ]
  },
  {
   "cell_type": "markdown",
   "metadata": {},
   "source": [
    "### 觀察playID 出現的次數 增加個表現的平均值 等等、同時觀察有無名星球員的可能"
   ]
  },
  {
   "cell_type": "code",
   "execution_count": 145,
   "metadata": {
    "scrolled": true
   },
   "outputs": [
    {
     "data": {
      "text/plain": [
       "moyerja01    22\n",
       "glavito02    19\n",
       "oliveda02    18\n",
       "clemero02    18\n",
       "rogerke01    17\n",
       "wellsda01    16\n",
       "batismi01    16\n",
       "rhodear01    16\n",
       "timlimi01    16\n",
       "stantmi02    16\n",
       "tavarju01    15\n",
       "wagnebi02    15\n",
       "mussimi01    15\n",
       "francjo01    15\n",
       "smoltjo01    15\n",
       "gordoto01    15\n",
       "hoffmtr01    14\n",
       "hawkila01    14\n",
       "wittbo01     14\n",
       "jonesto02    14\n",
       "weathda01    14\n",
       "johnsra05    14\n",
       "hernaro01    14\n",
       "swindgr01    14\n",
       "mulhote01    14\n",
       "guthrma01    14\n",
       "brownke01    14\n",
       "wakefti01    14\n",
       "embreal01    14\n",
       "oroscje01    13\n",
       "             ..\n",
       "ishiika01     1\n",
       "dresery01     1\n",
       "youngcl01     1\n",
       "kerfech01     1\n",
       "rzepcma01     1\n",
       "mutisje01     1\n",
       "prinzbr01     1\n",
       "dunnemi01     1\n",
       "chambjo03     1\n",
       "wrighwe01     1\n",
       "johnsda04     1\n",
       "evelada01     1\n",
       "borkoda01     1\n",
       "caudibi01     1\n",
       "roberwi01     1\n",
       "powelro01     1\n",
       "baileco01     1\n",
       "perryry01     1\n",
       "nippeal01     1\n",
       "ottoda01      1\n",
       "wainhda01     1\n",
       "halldr01      1\n",
       "hansegr01     1\n",
       "ainswku01     1\n",
       "chacigu01     1\n",
       "germafr01     1\n",
       "conveji01     1\n",
       "medlekr01     1\n",
       "cangejo01     1\n",
       "mercahe01     1\n",
       "Name: playerID, Length: 1246, dtype: int64"
      ]
     },
     "execution_count": 145,
     "metadata": {},
     "output_type": "execute_result"
    }
   ],
   "source": [
    "train_data['playerID'].value_counts() #平均薪資、續約次數"
   ]
  },
  {
   "cell_type": "markdown",
   "metadata": {},
   "source": [
    "### 新增選手出現的次數特徵 (訓練集與測試集分開) v2 效果不好 有overfitting的效果"
   ]
  },
  {
   "cell_type": "code",
   "execution_count": 146,
   "metadata": {},
   "outputs": [],
   "source": [
    "#train_data['playerID_count'] = train_data.groupby('playerID')['playerID'].transform(lambda x:x.count())\n",
    "#text = len(list(set(train_data['playerID'].values).intersection(set(test_data['playerID'].values))))\n",
    "#print('訓練集跟測試集 有{}個球員重複'.format(text))\n",
    "#test_data['playerID_count'] = test_data.groupby('playerID')['playerID'].transform(lambda x:x.count()) "
   ]
  },
  {
   "cell_type": "markdown",
   "metadata": {},
   "source": [
    "### 計算年資(資歷)"
   ]
  },
  {
   "cell_type": "markdown",
   "metadata": {},
   "source": [
    "#### 先看一下出現最多次的投手 資歷跟薪水如何"
   ]
  },
  {
   "cell_type": "code",
   "execution_count": 147,
   "metadata": {
    "scrolled": true
   },
   "outputs": [],
   "source": [
    "moyerja01 = train_data.loc[train_data['playerID'] == 'moyerja01',:].copy()"
   ]
  },
  {
   "cell_type": "code",
   "execution_count": 148,
   "metadata": {
    "scrolled": true
   },
   "outputs": [
    {
     "data": {
      "text/plain": [
       "<matplotlib.axes._subplots.AxesSubplot at 0x25c723f10b8>"
      ]
     },
     "execution_count": 148,
     "metadata": {},
     "output_type": "execute_result"
    },
    {
     "data": {
      "image/png": "[encoded data removed]",
      "text/plain": [
       "<Figure size 1152x576 with 1 Axes>"
      ]
     },
     "metadata": {},
     "output_type": "display_data"
    }
   ],
   "source": [
    "f, ax = plt.subplots(figsize=(16, 8)) #會發現年資整體是 隨年資成長, 但最後一年會大幅下降\n",
    "sns.lineplot(x='yearID', y='salary_next_year', data=moyerja01,color = 'red') #可發現從1995年以後薪資是一路成長, 且可以用五年用一個單位"
   ]
  },
  {
   "cell_type": "code",
   "execution_count": 149,
   "metadata": {},
   "outputs": [
    {
     "data": {
      "text/html": [
       "<div>\n",
       "<style scoped>\n",
       "    .dataframe tbody tr th:only-of-type {\n",
       "        vertical-align: middle;\n",
       "    }\n",
       "\n",
       "    .dataframe tbody tr th {\n",
       "        vertical-align: top;\n",
       "    }\n",
       "\n",
       "    .dataframe thead th {\n",
       "        text-align: right;\n",
       "    }\n",
       "</style>\n",
       "<table border=\"1\" class=\"dataframe\">\n",
       "  <thead>\n",
       "    <tr style=\"text-align: right;\">\n",
       "      <th></th>\n",
       "      <th>playerID</th>\n",
       "      <th>yearID</th>\n",
       "      <th>stint</th>\n",
       "      <th>teamID</th>\n",
       "      <th>lgID</th>\n",
       "      <th>W</th>\n",
       "      <th>L</th>\n",
       "      <th>G</th>\n",
       "      <th>GS</th>\n",
       "      <th>CG</th>\n",
       "      <th>...</th>\n",
       "      <th>WP</th>\n",
       "      <th>HBP</th>\n",
       "      <th>BK</th>\n",
       "      <th>BFP</th>\n",
       "      <th>GF</th>\n",
       "      <th>R</th>\n",
       "      <th>SH</th>\n",
       "      <th>SF</th>\n",
       "      <th>GIDP</th>\n",
       "      <th>salary_next_year</th>\n",
       "    </tr>\n",
       "  </thead>\n",
       "  <tbody>\n",
       "    <tr>\n",
       "      <th>0</th>\n",
       "      <td>nelsoge01</td>\n",
       "      <td>1986</td>\n",
       "      <td>1</td>\n",
       "      <td>CHA</td>\n",
       "      <td>AL</td>\n",
       "      <td>6</td>\n",
       "      <td>6</td>\n",
       "      <td>54</td>\n",
       "      <td>1</td>\n",
       "      <td>0</td>\n",
       "      <td>...</td>\n",
       "      <td>3.000</td>\n",
       "      <td>3.000</td>\n",
       "      <td>0.000</td>\n",
       "      <td>488.000</td>\n",
       "      <td>26.000</td>\n",
       "      <td>52</td>\n",
       "      <td>nan</td>\n",
       "      <td>nan</td>\n",
       "      <td>nan</td>\n",
       "      <td>12.808</td>\n",
       "    </tr>\n",
       "    <tr>\n",
       "      <th>1</th>\n",
       "      <td>moyerja01</td>\n",
       "      <td>1997</td>\n",
       "      <td>1</td>\n",
       "      <td>SEA</td>\n",
       "      <td>AL</td>\n",
       "      <td>17</td>\n",
       "      <td>5</td>\n",
       "      <td>30</td>\n",
       "      <td>30</td>\n",
       "      <td>2</td>\n",
       "      <td>...</td>\n",
       "      <td>3.000</td>\n",
       "      <td>7.000</td>\n",
       "      <td>0.000</td>\n",
       "      <td>787.000</td>\n",
       "      <td>0.000</td>\n",
       "      <td>82</td>\n",
       "      <td>nan</td>\n",
       "      <td>nan</td>\n",
       "      <td>nan</td>\n",
       "      <td>14.509</td>\n",
       "    </tr>\n",
       "    <tr>\n",
       "      <th>2</th>\n",
       "      <td>thompbr01</td>\n",
       "      <td>2008</td>\n",
       "      <td>1</td>\n",
       "      <td>SLN</td>\n",
       "      <td>NL</td>\n",
       "      <td>6</td>\n",
       "      <td>3</td>\n",
       "      <td>26</td>\n",
       "      <td>6</td>\n",
       "      <td>0</td>\n",
       "      <td>...</td>\n",
       "      <td>2.000</td>\n",
       "      <td>3.000</td>\n",
       "      <td>0.000</td>\n",
       "      <td>273.000</td>\n",
       "      <td>10.000</td>\n",
       "      <td>38</td>\n",
       "      <td>nan</td>\n",
       "      <td>nan</td>\n",
       "      <td>nan</td>\n",
       "      <td>13.385</td>\n",
       "    </tr>\n",
       "    <tr>\n",
       "      <th>3</th>\n",
       "      <td>powerte01</td>\n",
       "      <td>1986</td>\n",
       "      <td>1</td>\n",
       "      <td>CIN</td>\n",
       "      <td>NL</td>\n",
       "      <td>10</td>\n",
       "      <td>6</td>\n",
       "      <td>56</td>\n",
       "      <td>10</td>\n",
       "      <td>0</td>\n",
       "      <td>...</td>\n",
       "      <td>5.000</td>\n",
       "      <td>1.000</td>\n",
       "      <td>1.000</td>\n",
       "      <td>537.000</td>\n",
       "      <td>30.000</td>\n",
       "      <td>59</td>\n",
       "      <td>nan</td>\n",
       "      <td>nan</td>\n",
       "      <td>nan</td>\n",
       "      <td>13.122</td>\n",
       "    </tr>\n",
       "    <tr>\n",
       "      <th>4</th>\n",
       "      <td>osunaan01</td>\n",
       "      <td>2003</td>\n",
       "      <td>1</td>\n",
       "      <td>NYA</td>\n",
       "      <td>AL</td>\n",
       "      <td>2</td>\n",
       "      <td>5</td>\n",
       "      <td>48</td>\n",
       "      <td>0</td>\n",
       "      <td>0</td>\n",
       "      <td>...</td>\n",
       "      <td>3.000</td>\n",
       "      <td>2.000</td>\n",
       "      <td>0.000</td>\n",
       "      <td>232.000</td>\n",
       "      <td>16.000</td>\n",
       "      <td>22</td>\n",
       "      <td>nan</td>\n",
       "      <td>nan</td>\n",
       "      <td>nan</td>\n",
       "      <td>13.528</td>\n",
       "    </tr>\n",
       "  </tbody>\n",
       "</table>\n",
       "<p>5 rows × 31 columns</p>\n",
       "</div>"
      ],
      "text/plain": [
       "    playerID  yearID  stint teamID lgID   W  L   G  GS  CG        ...         \\\n",
       "0  nelsoge01    1986      1    CHA   AL   6  6  54   1   0        ...          \n",
       "1  moyerja01    1997      1    SEA   AL  17  5  30  30   2        ...          \n",
       "2  thompbr01    2008      1    SLN   NL   6  3  26   6   0        ...          \n",
       "3  powerte01    1986      1    CIN   NL  10  6  56  10   0        ...          \n",
       "4  osunaan01    2003      1    NYA   AL   2  5  48   0   0        ...          \n",
       "\n",
       "     WP   HBP    BK     BFP     GF   R  SH  SF  GIDP  salary_next_year  \n",
       "0 3.000 3.000 0.000 488.000 26.000  52 nan nan   nan            12.808  \n",
       "1 3.000 7.000 0.000 787.000  0.000  82 nan nan   nan            14.509  \n",
       "2 2.000 3.000 0.000 273.000 10.000  38 nan nan   nan            13.385  \n",
       "3 5.000 1.000 1.000 537.000 30.000  59 nan nan   nan            13.122  \n",
       "4 3.000 2.000 0.000 232.000 16.000  22 nan nan   nan            13.528  \n",
       "\n",
       "[5 rows x 31 columns]"
      ]
     },
     "execution_count": 149,
     "metadata": {},
     "output_type": "execute_result"
    }
   ],
   "source": [
    "train_data.head()"
   ]
  },
  {
   "cell_type": "markdown",
   "metadata": {},
   "source": [
    "### 看playerID 平均薪資、續約次數的關係"
   ]
  },
  {
   "cell_type": "code",
   "execution_count": 150,
   "metadata": {},
   "outputs": [],
   "source": [
    "#train_data['Seniority'] = train_data.groupby('playerID')['yearID'].transform(lambda x: x - x.min())"
   ]
  },
  {
   "cell_type": "code",
   "execution_count": 151,
   "metadata": {
    "scrolled": true
   },
   "outputs": [],
   "source": [
    "#ax = sns.barplot(x=\"Seniority\", y=\"salary_next_year\",data=train_data) #打越多場是否越有價值 明星球員的價值"
   ]
  },
  {
   "cell_type": "code",
   "execution_count": 152,
   "metadata": {},
   "outputs": [],
   "source": [
    "#train_data['Seniority'] = train_data.groupby('playerID')['yearID'].transform(lambda x: x - x.min()+1)\n",
    "#test_data['Seniority'] = test_data.groupby('playerID')['yearID'].transform(lambda x: x - x.min()+1)"
   ]
  },
  {
   "cell_type": "markdown",
   "metadata": {},
   "source": [
    "### 加入薪資特徵"
   ]
  },
  {
   "cell_type": "code",
   "execution_count": 153,
   "metadata": {},
   "outputs": [
    {
     "data": {
      "text/plain": [
       "\"train_data['salary_mean'] = train_data.groupby('playerID')['salary_next_year'].transform(lambda i :i.mean())\\ntrain_data['salary_max'] = train_data.groupby('playerID')['salary_next_year'].transform(lambda i :i.max())\\ntrain_data['salary_min'] = train_data.groupby('playerID')['salary_next_year'].transform(lambda i :i.min())\\ntrain_data['salary_std'] = train_data.groupby('playerID')['salary_next_year'].transform(lambda i :i.std())\\n\\nsalary_mean = train_data.groupby('playerID')[['playerID','salary_mean']].apply(lambda i : i).drop_duplicates()\\nsalary_max = train_data.groupby('playerID')[['playerID','salary_max']].apply(lambda i : i).drop_duplicates()\\nsalary_min = train_data.groupby('playerID')[['playerID','salary_min']].apply(lambda i : i).drop_duplicates()\\nsalary_std = train_data.groupby('playerID')[['playerID','salary_std']].apply(lambda i : i).drop_duplicates()\\n\\ntest_data['salary_mean'] = test_data['playerID'].map(dict(salary_mean.values))\\ntest_data['salary_max'] = test_data['playerID'].map(dict(salary_max.values))\\ntest_data['salary_min'] = test_data['playerID'].map(dict(salary_min.values))\\ntest_data['salary_std'] = test_data['playerID'].map(dict(salary_std.values))\""
      ]
     },
     "execution_count": 153,
     "metadata": {},
     "output_type": "execute_result"
    }
   ],
   "source": [
    "'''train_data['salary_mean'] = train_data.groupby('playerID')['salary_next_year'].transform(lambda i :i.mean())\n",
    "train_data['salary_max'] = train_data.groupby('playerID')['salary_next_year'].transform(lambda i :i.max())\n",
    "train_data['salary_min'] = train_data.groupby('playerID')['salary_next_year'].transform(lambda i :i.min())\n",
    "train_data['salary_std'] = train_data.groupby('playerID')['salary_next_year'].transform(lambda i :i.std())\n",
    "\n",
    "salary_mean = train_data.groupby('playerID')[['playerID','salary_mean']].apply(lambda i : i).drop_duplicates()\n",
    "salary_max = train_data.groupby('playerID')[['playerID','salary_max']].apply(lambda i : i).drop_duplicates()\n",
    "salary_min = train_data.groupby('playerID')[['playerID','salary_min']].apply(lambda i : i).drop_duplicates()\n",
    "salary_std = train_data.groupby('playerID')[['playerID','salary_std']].apply(lambda i : i).drop_duplicates()\n",
    "\n",
    "test_data['salary_mean'] = test_data['playerID'].map(dict(salary_mean.values))\n",
    "test_data['salary_max'] = test_data['playerID'].map(dict(salary_max.values))\n",
    "test_data['salary_min'] = test_data['playerID'].map(dict(salary_min.values))\n",
    "test_data['salary_std'] = test_data['playerID'].map(dict(salary_std.values))'''"
   ]
  },
  {
   "cell_type": "code",
   "execution_count": 154,
   "metadata": {},
   "outputs": [],
   "source": [
    "train_data = train_data.sort_values(by = 'yearID')\n",
    "\n",
    "train_data['salary_diff'] = train_data.groupby('playerID')['salary_next_year'].apply(lambda i:i.diff(1)).fillna(0)\n",
    "\n",
    "train_data = train_data.sort_index()"
   ]
  },
  {
   "cell_type": "code",
   "execution_count": 219,
   "metadata": {
    "scrolled": true
   },
   "outputs": [
    {
     "data": {
      "text/html": [
       "<div>\n",
       "<style scoped>\n",
       "    .dataframe tbody tr th:only-of-type {\n",
       "        vertical-align: middle;\n",
       "    }\n",
       "\n",
       "    .dataframe tbody tr th {\n",
       "        vertical-align: top;\n",
       "    }\n",
       "\n",
       "    .dataframe thead th {\n",
       "        text-align: right;\n",
       "    }\n",
       "</style>\n",
       "<table border=\"1\" class=\"dataframe\">\n",
       "  <thead>\n",
       "    <tr style=\"text-align: right;\">\n",
       "      <th></th>\n",
       "      <th>playerID</th>\n",
       "      <th>salary_diff</th>\n",
       "    </tr>\n",
       "  </thead>\n",
       "  <tbody>\n",
       "    <tr>\n",
       "      <th>0</th>\n",
       "      <td>nelsoge01</td>\n",
       "      <td>0.419</td>\n",
       "    </tr>\n",
       "    <tr>\n",
       "      <th>1</th>\n",
       "      <td>moyerja01</td>\n",
       "      <td>0.886</td>\n",
       "    </tr>\n",
       "    <tr>\n",
       "      <th>2</th>\n",
       "      <td>thompbr01</td>\n",
       "      <td>0.451</td>\n",
       "    </tr>\n",
       "    <tr>\n",
       "      <th>3</th>\n",
       "      <td>powerte01</td>\n",
       "      <td>0.000</td>\n",
       "    </tr>\n",
       "    <tr>\n",
       "      <th>4</th>\n",
       "      <td>osunaan01</td>\n",
       "      <td>-1.163</td>\n",
       "    </tr>\n",
       "    <tr>\n",
       "      <th>5</th>\n",
       "      <td>mulhote01</td>\n",
       "      <td>-1.386</td>\n",
       "    </tr>\n",
       "    <tr>\n",
       "      <th>6</th>\n",
       "      <td>wolfra02</td>\n",
       "      <td>0.415</td>\n",
       "    </tr>\n",
       "    <tr>\n",
       "      <th>7</th>\n",
       "      <td>rojasme01</td>\n",
       "      <td>0.817</td>\n",
       "    </tr>\n",
       "    <tr>\n",
       "      <th>8</th>\n",
       "      <td>marquja01</td>\n",
       "      <td>-0.081</td>\n",
       "    </tr>\n",
       "    <tr>\n",
       "      <th>9</th>\n",
       "      <td>pelfrmi01</td>\n",
       "      <td>2.061</td>\n",
       "    </tr>\n",
       "    <tr>\n",
       "      <th>10</th>\n",
       "      <td>moyerja01</td>\n",
       "      <td>0.167</td>\n",
       "    </tr>\n",
       "    <tr>\n",
       "      <th>11</th>\n",
       "      <td>masseni01</td>\n",
       "      <td>0.000</td>\n",
       "    </tr>\n",
       "    <tr>\n",
       "      <th>12</th>\n",
       "      <td>bailesc01</td>\n",
       "      <td>0.336</td>\n",
       "    </tr>\n",
       "    <tr>\n",
       "      <th>13</th>\n",
       "      <td>oliveda02</td>\n",
       "      <td>0.288</td>\n",
       "    </tr>\n",
       "    <tr>\n",
       "      <th>14</th>\n",
       "      <td>brownke01</td>\n",
       "      <td>0.000</td>\n",
       "    </tr>\n",
       "    <tr>\n",
       "      <th>15</th>\n",
       "      <td>loaizes01</td>\n",
       "      <td>0.000</td>\n",
       "    </tr>\n",
       "    <tr>\n",
       "      <th>16</th>\n",
       "      <td>harvebr01</td>\n",
       "      <td>1.100</td>\n",
       "    </tr>\n",
       "    <tr>\n",
       "      <th>17</th>\n",
       "      <td>elartsc01</td>\n",
       "      <td>1.549</td>\n",
       "    </tr>\n",
       "    <tr>\n",
       "      <th>18</th>\n",
       "      <td>bulliji01</td>\n",
       "      <td>-0.272</td>\n",
       "    </tr>\n",
       "    <tr>\n",
       "      <th>19</th>\n",
       "      <td>tomkobr01</td>\n",
       "      <td>-0.312</td>\n",
       "    </tr>\n",
       "    <tr>\n",
       "      <th>20</th>\n",
       "      <td>saberbr01</td>\n",
       "      <td>0.438</td>\n",
       "    </tr>\n",
       "    <tr>\n",
       "      <th>21</th>\n",
       "      <td>gaudich01</td>\n",
       "      <td>-0.405</td>\n",
       "    </tr>\n",
       "    <tr>\n",
       "      <th>22</th>\n",
       "      <td>wagnebi02</td>\n",
       "      <td>0.000</td>\n",
       "    </tr>\n",
       "    <tr>\n",
       "      <th>23</th>\n",
       "      <td>morgami01</td>\n",
       "      <td>0.000</td>\n",
       "    </tr>\n",
       "    <tr>\n",
       "      <th>24</th>\n",
       "      <td>ericksc01</td>\n",
       "      <td>-0.288</td>\n",
       "    </tr>\n",
       "    <tr>\n",
       "      <th>25</th>\n",
       "      <td>mintogr01</td>\n",
       "      <td>0.000</td>\n",
       "    </tr>\n",
       "    <tr>\n",
       "      <th>26</th>\n",
       "      <td>bertomi01</td>\n",
       "      <td>0.000</td>\n",
       "    </tr>\n",
       "    <tr>\n",
       "      <th>27</th>\n",
       "      <td>righeda01</td>\n",
       "      <td>-3.469</td>\n",
       "    </tr>\n",
       "    <tr>\n",
       "      <th>28</th>\n",
       "      <td>crimch01</td>\n",
       "      <td>1.552</td>\n",
       "    </tr>\n",
       "    <tr>\n",
       "      <th>29</th>\n",
       "      <td>plunker01</td>\n",
       "      <td>0.949</td>\n",
       "    </tr>\n",
       "    <tr>\n",
       "      <th>...</th>\n",
       "      <td>...</td>\n",
       "      <td>...</td>\n",
       "    </tr>\n",
       "    <tr>\n",
       "      <th>6250</th>\n",
       "      <td>whitema02</td>\n",
       "      <td>-0.791</td>\n",
       "    </tr>\n",
       "    <tr>\n",
       "      <th>6251</th>\n",
       "      <td>brantje01</td>\n",
       "      <td>0.154</td>\n",
       "    </tr>\n",
       "    <tr>\n",
       "      <th>6252</th>\n",
       "      <td>millean01</td>\n",
       "      <td>-0.543</td>\n",
       "    </tr>\n",
       "    <tr>\n",
       "      <th>6253</th>\n",
       "      <td>jonesto02</td>\n",
       "      <td>0.788</td>\n",
       "    </tr>\n",
       "    <tr>\n",
       "      <th>6254</th>\n",
       "      <td>eshelva01</td>\n",
       "      <td>0.000</td>\n",
       "    </tr>\n",
       "    <tr>\n",
       "      <th>6255</th>\n",
       "      <td>cordefr01</td>\n",
       "      <td>0.661</td>\n",
       "    </tr>\n",
       "    <tr>\n",
       "      <th>6256</th>\n",
       "      <td>leachte01</td>\n",
       "      <td>1.026</td>\n",
       "    </tr>\n",
       "    <tr>\n",
       "      <th>6257</th>\n",
       "      <td>candejo01</td>\n",
       "      <td>-0.470</td>\n",
       "    </tr>\n",
       "    <tr>\n",
       "      <th>6258</th>\n",
       "      <td>saitota01</td>\n",
       "      <td>-0.288</td>\n",
       "    </tr>\n",
       "    <tr>\n",
       "      <th>6259</th>\n",
       "      <td>potelo01</td>\n",
       "      <td>0.171</td>\n",
       "    </tr>\n",
       "    <tr>\n",
       "      <th>6262</th>\n",
       "      <td>tomkobr01</td>\n",
       "      <td>1.565</td>\n",
       "    </tr>\n",
       "    <tr>\n",
       "      <th>6263</th>\n",
       "      <td>myersbr01</td>\n",
       "      <td>0.342</td>\n",
       "    </tr>\n",
       "    <tr>\n",
       "      <th>6264</th>\n",
       "      <td>wendetu01</td>\n",
       "      <td>0.078</td>\n",
       "    </tr>\n",
       "    <tr>\n",
       "      <th>6265</th>\n",
       "      <td>leskacu01</td>\n",
       "      <td>0.649</td>\n",
       "    </tr>\n",
       "    <tr>\n",
       "      <th>6266</th>\n",
       "      <td>calerki01</td>\n",
       "      <td>-0.470</td>\n",
       "    </tr>\n",
       "    <tr>\n",
       "      <th>6267</th>\n",
       "      <td>dreifda01</td>\n",
       "      <td>1.136</td>\n",
       "    </tr>\n",
       "    <tr>\n",
       "      <th>6268</th>\n",
       "      <td>bohanbr01</td>\n",
       "      <td>0.288</td>\n",
       "    </tr>\n",
       "    <tr>\n",
       "      <th>6269</th>\n",
       "      <td>johnsra05</td>\n",
       "      <td>-0.543</td>\n",
       "    </tr>\n",
       "    <tr>\n",
       "      <th>6270</th>\n",
       "      <td>ramirra02</td>\n",
       "      <td>0.474</td>\n",
       "    </tr>\n",
       "    <tr>\n",
       "      <th>6272</th>\n",
       "      <td>perezol01</td>\n",
       "      <td>0.202</td>\n",
       "    </tr>\n",
       "    <tr>\n",
       "      <th>6273</th>\n",
       "      <td>timlimi01</td>\n",
       "      <td>0.716</td>\n",
       "    </tr>\n",
       "    <tr>\n",
       "      <th>6274</th>\n",
       "      <td>ayalalu01</td>\n",
       "      <td>0.134</td>\n",
       "    </tr>\n",
       "    <tr>\n",
       "      <th>6275</th>\n",
       "      <td>millwke01</td>\n",
       "      <td>0.053</td>\n",
       "    </tr>\n",
       "    <tr>\n",
       "      <th>6276</th>\n",
       "      <td>brunebr01</td>\n",
       "      <td>0.606</td>\n",
       "    </tr>\n",
       "    <tr>\n",
       "      <th>6277</th>\n",
       "      <td>carrahe01</td>\n",
       "      <td>0.143</td>\n",
       "    </tr>\n",
       "    <tr>\n",
       "      <th>6278</th>\n",
       "      <td>maddugr01</td>\n",
       "      <td>0.267</td>\n",
       "    </tr>\n",
       "    <tr>\n",
       "      <th>6280</th>\n",
       "      <td>robinje01</td>\n",
       "      <td>0.000</td>\n",
       "    </tr>\n",
       "    <tr>\n",
       "      <th>6281</th>\n",
       "      <td>benesan01</td>\n",
       "      <td>0.000</td>\n",
       "    </tr>\n",
       "    <tr>\n",
       "      <th>6282</th>\n",
       "      <td>janssca01</td>\n",
       "      <td>0.000</td>\n",
       "    </tr>\n",
       "    <tr>\n",
       "      <th>6283</th>\n",
       "      <td>escobke01</td>\n",
       "      <td>0.288</td>\n",
       "    </tr>\n",
       "  </tbody>\n",
       "</table>\n",
       "<p>5985 rows × 2 columns</p>\n",
       "</div>"
      ],
      "text/plain": [
       "       playerID  salary_diff\n",
       "0     nelsoge01        0.419\n",
       "1     moyerja01        0.886\n",
       "2     thompbr01        0.451\n",
       "3     powerte01        0.000\n",
       "4     osunaan01       -1.163\n",
       "5     mulhote01       -1.386\n",
       "6      wolfra02        0.415\n",
       "7     rojasme01        0.817\n",
       "8     marquja01       -0.081\n",
       "9     pelfrmi01        2.061\n",
       "10    moyerja01        0.167\n",
       "11    masseni01        0.000\n",
       "12    bailesc01        0.336\n",
       "13    oliveda02        0.288\n",
       "14    brownke01        0.000\n",
       "15    loaizes01        0.000\n",
       "16    harvebr01        1.100\n",
       "17    elartsc01        1.549\n",
       "18    bulliji01       -0.272\n",
       "19    tomkobr01       -0.312\n",
       "20    saberbr01        0.438\n",
       "21    gaudich01       -0.405\n",
       "22    wagnebi02        0.000\n",
       "23    morgami01        0.000\n",
       "24    ericksc01       -0.288\n",
       "25    mintogr01        0.000\n",
       "26    bertomi01        0.000\n",
       "27    righeda01       -3.469\n",
       "28     crimch01        1.552\n",
       "29    plunker01        0.949\n",
       "...         ...          ...\n",
       "6250  whitema02       -0.791\n",
       "6251  brantje01        0.154\n",
       "6252  millean01       -0.543\n",
       "6253  jonesto02        0.788\n",
       "6254  eshelva01        0.000\n",
       "6255  cordefr01        0.661\n",
       "6256  leachte01        1.026\n",
       "6257  candejo01       -0.470\n",
       "6258  saitota01       -0.288\n",
       "6259   potelo01        0.171\n",
       "6262  tomkobr01        1.565\n",
       "6263  myersbr01        0.342\n",
       "6264  wendetu01        0.078\n",
       "6265  leskacu01        0.649\n",
       "6266  calerki01       -0.470\n",
       "6267  dreifda01        1.136\n",
       "6268  bohanbr01        0.288\n",
       "6269  johnsra05       -0.543\n",
       "6270  ramirra02        0.474\n",
       "6272  perezol01        0.202\n",
       "6273  timlimi01        0.716\n",
       "6274  ayalalu01        0.134\n",
       "6275  millwke01        0.053\n",
       "6276  brunebr01        0.606\n",
       "6277  carrahe01        0.143\n",
       "6278  maddugr01        0.267\n",
       "6280  robinje01        0.000\n",
       "6281  benesan01        0.000\n",
       "6282  janssca01        0.000\n",
       "6283  escobke01        0.288\n",
       "\n",
       "[5985 rows x 2 columns]"
      ]
     },
     "execution_count": 219,
     "metadata": {},
     "output_type": "execute_result"
    }
   ],
   "source": [
    "salary_diff"
   ]
  },
  {
   "cell_type": "code",
   "execution_count": 220,
   "metadata": {
    "scrolled": true
   },
   "outputs": [
    {
     "data": {
      "text/plain": [
       "0       0.100\n",
       "1       0.365\n",
       "2       0.000\n",
       "3       1.772\n",
       "4      -0.363\n",
       "5      -0.144\n",
       "6       0.624\n",
       "7       0.234\n",
       "8       0.000\n",
       "9       0.000\n",
       "10      0.809\n",
       "11      0.087\n",
       "12     -0.262\n",
       "13      1.822\n",
       "14      0.542\n",
       "15      0.807\n",
       "16      2.439\n",
       "17      0.916\n",
       "18      0.000\n",
       "19      0.539\n",
       "20      1.253\n",
       "21      0.539\n",
       "22      0.843\n",
       "23      1.190\n",
       "24      0.529\n",
       "25      1.546\n",
       "26     -0.105\n",
       "27     -0.470\n",
       "28      0.847\n",
       "29      0.114\n",
       "        ...  \n",
       "1079    0.000\n",
       "1080    0.684\n",
       "1081    0.163\n",
       "1082    1.314\n",
       "1083    0.000\n",
       "1084    0.981\n",
       "1085    0.356\n",
       "1086    0.296\n",
       "1087    0.302\n",
       "1088    1.219\n",
       "1089    0.267\n",
       "1090   -0.652\n",
       "1091   -1.658\n",
       "1092    1.822\n",
       "1093    0.000\n",
       "1094    0.109\n",
       "1095    1.338\n",
       "1096    0.485\n",
       "1097    0.796\n",
       "1098   -0.033\n",
       "1099    0.000\n",
       "1100   -0.109\n",
       "1101   -0.543\n",
       "1102    0.000\n",
       "1103    0.170\n",
       "1104   -0.416\n",
       "1105    0.668\n",
       "1106    1.010\n",
       "1107    0.000\n",
       "1108    0.547\n",
       "Name: playerID, Length: 1109, dtype: float64"
      ]
     },
     "execution_count": 220,
     "metadata": {},
     "output_type": "execute_result"
    }
   ],
   "source": [
    "test_data['playerID'].map(dict(salary_diff.values))"
   ]
  },
  {
   "cell_type": "code",
   "execution_count": 155,
   "metadata": {},
   "outputs": [],
   "source": [
    "salary_diff = train_data.groupby('playerID')[['playerID','salary_diff']].apply(lambda i : i).drop_duplicates()\n",
    "\n",
    "test_data['salary_diff'] = test_data['playerID'].map(dict(salary_diff.values))"
   ]
  },
  {
   "cell_type": "markdown",
   "metadata": {},
   "source": [
    "### 結合資料"
   ]
  },
  {
   "cell_type": "code",
   "execution_count": 156,
   "metadata": {},
   "outputs": [
    {
     "name": "stdout",
     "output_type": "stream",
     "text": [
      "全部數據集的維度 (7393, 31)\n"
     ]
    }
   ],
   "source": [
    "ntrain = train_data.shape[0] \n",
    "ntest = test_data.shape[0] #方便之後 訓練時資料切割\n",
    "target = train_data.salary_next_year.values\n",
    "\n",
    "all_data = pd.concat([train_data,test_data], ignore_index=True)\n",
    "all_data.drop(['salary_next_year'],axis = 1, inplace = True)\n",
    "\n",
    "print(\"全部數據集的維度\",all_data.shape)"
   ]
  },
  {
   "cell_type": "markdown",
   "metadata": {},
   "source": [
    "### 什麼樣的情況下, 球團更願意加薪水? - \n",
    "1. 判斷是否為當年的冠軍隊伍\n",
    "2. 誰是明星球員, 他們的分布如何\n",
    "3. 今年的表現決定明年的結果(加熱薪資特徵)"
   ]
  },
  {
   "cell_type": "code",
   "execution_count": 157,
   "metadata": {
    "scrolled": true
   },
   "outputs": [
    {
     "data": {
      "text/plain": [
       "PIT    244\n",
       "SLN    244\n",
       "TOR    237\n",
       "NYA    235\n",
       "SFN    233\n",
       "LAN    231\n",
       "NYN    230\n",
       "CHA    227\n",
       "PHI    225\n",
       "CLE    225\n",
       "SDN    224\n",
       "CHN    224\n",
       "OAK    223\n",
       "ATL    222\n",
       "BOS    220\n",
       "MIN    217\n",
       "TEX    215\n",
       "CIN    209\n",
       "DET    207\n",
       "HOU    204\n",
       "BAL    201\n",
       "SEA    197\n",
       "KCA    190\n",
       "FLO    175\n",
       "COL    172\n",
       "MON    164\n",
       "MIL    106\n",
       "ARI    104\n",
       "TBA    103\n",
       "CAL     98\n",
       "ML4     90\n",
       "ANA     76\n",
       "LAA     69\n",
       "WAS     43\n",
       "Name: teamID, dtype: int64"
      ]
     },
     "execution_count": 157,
     "metadata": {},
     "output_type": "execute_result"
    }
   ],
   "source": [
    "train_data['teamID'].value_counts()"
   ]
  },
  {
   "cell_type": "code",
   "execution_count": 158,
   "metadata": {},
   "outputs": [],
   "source": [
    "champion = pd.read_csv('champion.csv')"
   ]
  },
  {
   "cell_type": "code",
   "execution_count": 159,
   "metadata": {
    "scrolled": true
   },
   "outputs": [
    {
     "data": {
      "text/html": [
       "<div>\n",
       "<style scoped>\n",
       "    .dataframe tbody tr th:only-of-type {\n",
       "        vertical-align: middle;\n",
       "    }\n",
       "\n",
       "    .dataframe tbody tr th {\n",
       "        vertical-align: top;\n",
       "    }\n",
       "\n",
       "    .dataframe thead th {\n",
       "        text-align: right;\n",
       "    }\n",
       "</style>\n",
       "<table border=\"1\" class=\"dataframe\">\n",
       "  <thead>\n",
       "    <tr style=\"text-align: right;\">\n",
       "      <th></th>\n",
       "      <th>yearID</th>\n",
       "      <th>teamID</th>\n",
       "      <th>Champion</th>\n",
       "    </tr>\n",
       "  </thead>\n",
       "  <tbody>\n",
       "    <tr>\n",
       "      <th>0</th>\n",
       "      <td>1985</td>\n",
       "      <td>KCA</td>\n",
       "      <td>1</td>\n",
       "    </tr>\n",
       "    <tr>\n",
       "      <th>1</th>\n",
       "      <td>1986</td>\n",
       "      <td>BOS</td>\n",
       "      <td>1</td>\n",
       "    </tr>\n",
       "    <tr>\n",
       "      <th>2</th>\n",
       "      <td>1987</td>\n",
       "      <td>MIN</td>\n",
       "      <td>1</td>\n",
       "    </tr>\n",
       "    <tr>\n",
       "      <th>3</th>\n",
       "      <td>1988</td>\n",
       "      <td>OAK</td>\n",
       "      <td>1</td>\n",
       "    </tr>\n",
       "    <tr>\n",
       "      <th>4</th>\n",
       "      <td>1989</td>\n",
       "      <td>OAK</td>\n",
       "      <td>2</td>\n",
       "    </tr>\n",
       "    <tr>\n",
       "      <th>5</th>\n",
       "      <td>1990</td>\n",
       "      <td>OAK</td>\n",
       "      <td>3</td>\n",
       "    </tr>\n",
       "    <tr>\n",
       "      <th>6</th>\n",
       "      <td>1991</td>\n",
       "      <td>MIN</td>\n",
       "      <td>1</td>\n",
       "    </tr>\n",
       "    <tr>\n",
       "      <th>7</th>\n",
       "      <td>1992</td>\n",
       "      <td>TOR</td>\n",
       "      <td>1</td>\n",
       "    </tr>\n",
       "    <tr>\n",
       "      <th>8</th>\n",
       "      <td>1993</td>\n",
       "      <td>TOR</td>\n",
       "      <td>2</td>\n",
       "    </tr>\n",
       "    <tr>\n",
       "      <th>9</th>\n",
       "      <td>1995</td>\n",
       "      <td>CLE</td>\n",
       "      <td>1</td>\n",
       "    </tr>\n",
       "    <tr>\n",
       "      <th>10</th>\n",
       "      <td>1996</td>\n",
       "      <td>NYA</td>\n",
       "      <td>1</td>\n",
       "    </tr>\n",
       "    <tr>\n",
       "      <th>11</th>\n",
       "      <td>1997</td>\n",
       "      <td>CLE</td>\n",
       "      <td>1</td>\n",
       "    </tr>\n",
       "    <tr>\n",
       "      <th>12</th>\n",
       "      <td>1998</td>\n",
       "      <td>NYA</td>\n",
       "      <td>1</td>\n",
       "    </tr>\n",
       "    <tr>\n",
       "      <th>13</th>\n",
       "      <td>1999</td>\n",
       "      <td>NYA</td>\n",
       "      <td>2</td>\n",
       "    </tr>\n",
       "    <tr>\n",
       "      <th>14</th>\n",
       "      <td>2000</td>\n",
       "      <td>NYA</td>\n",
       "      <td>3</td>\n",
       "    </tr>\n",
       "    <tr>\n",
       "      <th>15</th>\n",
       "      <td>2001</td>\n",
       "      <td>NYA</td>\n",
       "      <td>4</td>\n",
       "    </tr>\n",
       "    <tr>\n",
       "      <th>16</th>\n",
       "      <td>2002</td>\n",
       "      <td>ANA</td>\n",
       "      <td>1</td>\n",
       "    </tr>\n",
       "    <tr>\n",
       "      <th>17</th>\n",
       "      <td>2003</td>\n",
       "      <td>NYA</td>\n",
       "      <td>1</td>\n",
       "    </tr>\n",
       "    <tr>\n",
       "      <th>18</th>\n",
       "      <td>2004</td>\n",
       "      <td>BOS</td>\n",
       "      <td>1</td>\n",
       "    </tr>\n",
       "    <tr>\n",
       "      <th>19</th>\n",
       "      <td>2005</td>\n",
       "      <td>CHA</td>\n",
       "      <td>1</td>\n",
       "    </tr>\n",
       "    <tr>\n",
       "      <th>20</th>\n",
       "      <td>2006</td>\n",
       "      <td>DET</td>\n",
       "      <td>1</td>\n",
       "    </tr>\n",
       "    <tr>\n",
       "      <th>21</th>\n",
       "      <td>2007</td>\n",
       "      <td>BOS</td>\n",
       "      <td>1</td>\n",
       "    </tr>\n",
       "    <tr>\n",
       "      <th>22</th>\n",
       "      <td>2008</td>\n",
       "      <td>TBA</td>\n",
       "      <td>1</td>\n",
       "    </tr>\n",
       "    <tr>\n",
       "      <th>23</th>\n",
       "      <td>2009</td>\n",
       "      <td>NYA</td>\n",
       "      <td>1</td>\n",
       "    </tr>\n",
       "    <tr>\n",
       "      <th>24</th>\n",
       "      <td>2010</td>\n",
       "      <td>TEX</td>\n",
       "      <td>1</td>\n",
       "    </tr>\n",
       "    <tr>\n",
       "      <th>25</th>\n",
       "      <td>2011</td>\n",
       "      <td>TEX</td>\n",
       "      <td>2</td>\n",
       "    </tr>\n",
       "    <tr>\n",
       "      <th>26</th>\n",
       "      <td>2012</td>\n",
       "      <td>NYA</td>\n",
       "      <td>1</td>\n",
       "    </tr>\n",
       "  </tbody>\n",
       "</table>\n",
       "</div>"
      ],
      "text/plain": [
       "    yearID teamID  Champion\n",
       "0     1985    KCA         1\n",
       "1     1986    BOS         1\n",
       "2     1987    MIN         1\n",
       "3     1988    OAK         1\n",
       "4     1989    OAK         2\n",
       "5     1990    OAK         3\n",
       "6     1991    MIN         1\n",
       "7     1992    TOR         1\n",
       "8     1993    TOR         2\n",
       "9     1995    CLE         1\n",
       "10    1996    NYA         1\n",
       "11    1997    CLE         1\n",
       "12    1998    NYA         1\n",
       "13    1999    NYA         2\n",
       "14    2000    NYA         3\n",
       "15    2001    NYA         4\n",
       "16    2002    ANA         1\n",
       "17    2003    NYA         1\n",
       "18    2004    BOS         1\n",
       "19    2005    CHA         1\n",
       "20    2006    DET         1\n",
       "21    2007    BOS         1\n",
       "22    2008    TBA         1\n",
       "23    2009    NYA         1\n",
       "24    2010    TEX         1\n",
       "25    2011    TEX         2\n",
       "26    2012    NYA         1"
      ]
     },
     "execution_count": 159,
     "metadata": {},
     "output_type": "execute_result"
    }
   ],
   "source": [
    "champion"
   ]
  },
  {
   "cell_type": "code",
   "execution_count": 160,
   "metadata": {},
   "outputs": [
    {
     "data": {
      "text/html": [
       "<div>\n",
       "<style scoped>\n",
       "    .dataframe tbody tr th:only-of-type {\n",
       "        vertical-align: middle;\n",
       "    }\n",
       "\n",
       "    .dataframe tbody tr th {\n",
       "        vertical-align: top;\n",
       "    }\n",
       "\n",
       "    .dataframe thead th {\n",
       "        text-align: right;\n",
       "    }\n",
       "</style>\n",
       "<table border=\"1\" class=\"dataframe\">\n",
       "  <thead>\n",
       "    <tr style=\"text-align: right;\">\n",
       "      <th></th>\n",
       "      <th>BAOpp</th>\n",
       "      <th>BB</th>\n",
       "      <th>BFP</th>\n",
       "      <th>BK</th>\n",
       "      <th>CG</th>\n",
       "      <th>ER</th>\n",
       "      <th>ERA</th>\n",
       "      <th>G</th>\n",
       "      <th>GF</th>\n",
       "      <th>GIDP</th>\n",
       "      <th>...</th>\n",
       "      <th>SO</th>\n",
       "      <th>SV</th>\n",
       "      <th>W</th>\n",
       "      <th>WP</th>\n",
       "      <th>lgID</th>\n",
       "      <th>playerID</th>\n",
       "      <th>salary_diff</th>\n",
       "      <th>stint</th>\n",
       "      <th>teamID</th>\n",
       "      <th>yearID</th>\n",
       "    </tr>\n",
       "  </thead>\n",
       "  <tbody>\n",
       "    <tr>\n",
       "      <th>345</th>\n",
       "      <td>0.280</td>\n",
       "      <td>16</td>\n",
       "      <td>532.000</td>\n",
       "      <td>0.000</td>\n",
       "      <td>0</td>\n",
       "      <td>34</td>\n",
       "      <td>2.370</td>\n",
       "      <td>84</td>\n",
       "      <td>76.000</td>\n",
       "      <td>nan</td>\n",
       "      <td>...</td>\n",
       "      <td>54</td>\n",
       "      <td>37</td>\n",
       "      <td>8</td>\n",
       "      <td>0.000</td>\n",
       "      <td>AL</td>\n",
       "      <td>quiseda01</td>\n",
       "      <td>0.000</td>\n",
       "      <td>1</td>\n",
       "      <td>KCA</td>\n",
       "      <td>1985</td>\n",
       "    </tr>\n",
       "    <tr>\n",
       "      <th>640</th>\n",
       "      <td>0.260</td>\n",
       "      <td>76</td>\n",
       "      <td>893.000</td>\n",
       "      <td>2.000</td>\n",
       "      <td>4</td>\n",
       "      <td>79</td>\n",
       "      <td>3.420</td>\n",
       "      <td>32</td>\n",
       "      <td>0.000</td>\n",
       "      <td>nan</td>\n",
       "      <td>...</td>\n",
       "      <td>114</td>\n",
       "      <td>0</td>\n",
       "      <td>14</td>\n",
       "      <td>4.000</td>\n",
       "      <td>AL</td>\n",
       "      <td>jacksda02</td>\n",
       "      <td>0.000</td>\n",
       "      <td>1</td>\n",
       "      <td>KCA</td>\n",
       "      <td>1985</td>\n",
       "    </tr>\n",
       "    <tr>\n",
       "      <th>751</th>\n",
       "      <td>0.260</td>\n",
       "      <td>59</td>\n",
       "      <td>885.000</td>\n",
       "      <td>1.000</td>\n",
       "      <td>5</td>\n",
       "      <td>99</td>\n",
       "      <td>4.330</td>\n",
       "      <td>33</td>\n",
       "      <td>0.000</td>\n",
       "      <td>nan</td>\n",
       "      <td>...</td>\n",
       "      <td>122</td>\n",
       "      <td>0</td>\n",
       "      <td>10</td>\n",
       "      <td>9.000</td>\n",
       "      <td>AL</td>\n",
       "      <td>blackbu02</td>\n",
       "      <td>0.000</td>\n",
       "      <td>1</td>\n",
       "      <td>KCA</td>\n",
       "      <td>1985</td>\n",
       "    </tr>\n",
       "    <tr>\n",
       "      <th>2427</th>\n",
       "      <td>0.240</td>\n",
       "      <td>68</td>\n",
       "      <td>983.000</td>\n",
       "      <td>3.000</td>\n",
       "      <td>8</td>\n",
       "      <td>71</td>\n",
       "      <td>2.690</td>\n",
       "      <td>33</td>\n",
       "      <td>0.000</td>\n",
       "      <td>nan</td>\n",
       "      <td>...</td>\n",
       "      <td>108</td>\n",
       "      <td>0</td>\n",
       "      <td>17</td>\n",
       "      <td>4.000</td>\n",
       "      <td>AL</td>\n",
       "      <td>leibrch01</td>\n",
       "      <td>0.000</td>\n",
       "      <td>1</td>\n",
       "      <td>KCA</td>\n",
       "      <td>1985</td>\n",
       "    </tr>\n",
       "    <tr>\n",
       "      <th>6473</th>\n",
       "      <td>0.230</td>\n",
       "      <td>77</td>\n",
       "      <td>760.000</td>\n",
       "      <td>0.000</td>\n",
       "      <td>0</td>\n",
       "      <td>80</td>\n",
       "      <td>4.060</td>\n",
       "      <td>29</td>\n",
       "      <td>0.000</td>\n",
       "      <td>nan</td>\n",
       "      <td>...</td>\n",
       "      <td>99</td>\n",
       "      <td>0</td>\n",
       "      <td>14</td>\n",
       "      <td>12.000</td>\n",
       "      <td>AL</td>\n",
       "      <td>gubicma01</td>\n",
       "      <td>-0.511</td>\n",
       "      <td>1</td>\n",
       "      <td>KCA</td>\n",
       "      <td>1985</td>\n",
       "    </tr>\n",
       "    <tr>\n",
       "      <th>6971</th>\n",
       "      <td>0.240</td>\n",
       "      <td>38</td>\n",
       "      <td>931.000</td>\n",
       "      <td>3.000</td>\n",
       "      <td>10</td>\n",
       "      <td>75</td>\n",
       "      <td>2.870</td>\n",
       "      <td>32</td>\n",
       "      <td>0.000</td>\n",
       "      <td>nan</td>\n",
       "      <td>...</td>\n",
       "      <td>158</td>\n",
       "      <td>0</td>\n",
       "      <td>20</td>\n",
       "      <td>1.000</td>\n",
       "      <td>AL</td>\n",
       "      <td>saberbr01</td>\n",
       "      <td>0.180</td>\n",
       "      <td>1</td>\n",
       "      <td>KCA</td>\n",
       "      <td>1985</td>\n",
       "    </tr>\n",
       "  </tbody>\n",
       "</table>\n",
       "<p>6 rows × 31 columns</p>\n",
       "</div>"
      ],
      "text/plain": [
       "      BAOpp  BB     BFP    BK  CG  ER   ERA   G     GF  GIDP   ...     SO  SV  \\\n",
       "345   0.280  16 532.000 0.000   0  34 2.370  84 76.000   nan   ...     54  37   \n",
       "640   0.260  76 893.000 2.000   4  79 3.420  32  0.000   nan   ...    114   0   \n",
       "751   0.260  59 885.000 1.000   5  99 4.330  33  0.000   nan   ...    122   0   \n",
       "2427  0.240  68 983.000 3.000   8  71 2.690  33  0.000   nan   ...    108   0   \n",
       "6473  0.230  77 760.000 0.000   0  80 4.060  29  0.000   nan   ...     99   0   \n",
       "6971  0.240  38 931.000 3.000  10  75 2.870  32  0.000   nan   ...    158   0   \n",
       "\n",
       "       W     WP  lgID   playerID  salary_diff  stint  teamID  yearID  \n",
       "345    8  0.000    AL  quiseda01        0.000      1     KCA    1985  \n",
       "640   14  4.000    AL  jacksda02        0.000      1     KCA    1985  \n",
       "751   10  9.000    AL  blackbu02        0.000      1     KCA    1985  \n",
       "2427  17  4.000    AL  leibrch01        0.000      1     KCA    1985  \n",
       "6473  14 12.000    AL  gubicma01       -0.511      1     KCA    1985  \n",
       "6971  20  1.000    AL  saberbr01        0.180      1     KCA    1985  \n",
       "\n",
       "[6 rows x 31 columns]"
      ]
     },
     "execution_count": 160,
     "metadata": {},
     "output_type": "execute_result"
    }
   ],
   "source": [
    "all_data.loc[(all_data['yearID'] == 1985) & (all_data['teamID'] == 'KCA'),:]"
   ]
  },
  {
   "cell_type": "code",
   "execution_count": 161,
   "metadata": {
    "scrolled": true
   },
   "outputs": [
    {
     "data": {
      "text/html": [
       "<div>\n",
       "<style scoped>\n",
       "    .dataframe tbody tr th:only-of-type {\n",
       "        vertical-align: middle;\n",
       "    }\n",
       "\n",
       "    .dataframe tbody tr th {\n",
       "        vertical-align: top;\n",
       "    }\n",
       "\n",
       "    .dataframe thead th {\n",
       "        text-align: right;\n",
       "    }\n",
       "</style>\n",
       "<table border=\"1\" class=\"dataframe\">\n",
       "  <thead>\n",
       "    <tr style=\"text-align: right;\">\n",
       "      <th></th>\n",
       "      <th>BAOpp</th>\n",
       "      <th>BB</th>\n",
       "      <th>BFP</th>\n",
       "      <th>BK</th>\n",
       "      <th>CG</th>\n",
       "      <th>ER</th>\n",
       "      <th>ERA</th>\n",
       "      <th>G</th>\n",
       "      <th>GF</th>\n",
       "      <th>GIDP</th>\n",
       "      <th>...</th>\n",
       "      <th>SO</th>\n",
       "      <th>SV</th>\n",
       "      <th>W</th>\n",
       "      <th>WP</th>\n",
       "      <th>lgID</th>\n",
       "      <th>playerID</th>\n",
       "      <th>salary_diff</th>\n",
       "      <th>stint</th>\n",
       "      <th>teamID</th>\n",
       "      <th>yearID</th>\n",
       "    </tr>\n",
       "  </thead>\n",
       "  <tbody>\n",
       "    <tr>\n",
       "      <th>0</th>\n",
       "      <td>0.270</td>\n",
       "      <td>41</td>\n",
       "      <td>488.000</td>\n",
       "      <td>0.000</td>\n",
       "      <td>0</td>\n",
       "      <td>49</td>\n",
       "      <td>3.850</td>\n",
       "      <td>54</td>\n",
       "      <td>26.000</td>\n",
       "      <td>nan</td>\n",
       "      <td>...</td>\n",
       "      <td>70</td>\n",
       "      <td>6</td>\n",
       "      <td>6</td>\n",
       "      <td>3.000</td>\n",
       "      <td>AL</td>\n",
       "      <td>nelsoge01</td>\n",
       "      <td>0.419</td>\n",
       "      <td>1</td>\n",
       "      <td>CHA</td>\n",
       "      <td>1986</td>\n",
       "    </tr>\n",
       "    <tr>\n",
       "      <th>1</th>\n",
       "      <td>0.250</td>\n",
       "      <td>43</td>\n",
       "      <td>787.000</td>\n",
       "      <td>0.000</td>\n",
       "      <td>2</td>\n",
       "      <td>81</td>\n",
       "      <td>3.860</td>\n",
       "      <td>30</td>\n",
       "      <td>0.000</td>\n",
       "      <td>nan</td>\n",
       "      <td>...</td>\n",
       "      <td>113</td>\n",
       "      <td>0</td>\n",
       "      <td>17</td>\n",
       "      <td>3.000</td>\n",
       "      <td>AL</td>\n",
       "      <td>moyerja01</td>\n",
       "      <td>0.886</td>\n",
       "      <td>1</td>\n",
       "      <td>SEA</td>\n",
       "      <td>1997</td>\n",
       "    </tr>\n",
       "    <tr>\n",
       "      <th>2</th>\n",
       "      <td>nan</td>\n",
       "      <td>19</td>\n",
       "      <td>273.000</td>\n",
       "      <td>0.000</td>\n",
       "      <td>0</td>\n",
       "      <td>37</td>\n",
       "      <td>5.150</td>\n",
       "      <td>26</td>\n",
       "      <td>10.000</td>\n",
       "      <td>nan</td>\n",
       "      <td>...</td>\n",
       "      <td>32</td>\n",
       "      <td>0</td>\n",
       "      <td>6</td>\n",
       "      <td>2.000</td>\n",
       "      <td>NL</td>\n",
       "      <td>thompbr01</td>\n",
       "      <td>0.451</td>\n",
       "      <td>1</td>\n",
       "      <td>SLN</td>\n",
       "      <td>2008</td>\n",
       "    </tr>\n",
       "    <tr>\n",
       "      <th>3</th>\n",
       "      <td>0.240</td>\n",
       "      <td>52</td>\n",
       "      <td>537.000</td>\n",
       "      <td>1.000</td>\n",
       "      <td>0</td>\n",
       "      <td>53</td>\n",
       "      <td>3.700</td>\n",
       "      <td>56</td>\n",
       "      <td>30.000</td>\n",
       "      <td>nan</td>\n",
       "      <td>...</td>\n",
       "      <td>95</td>\n",
       "      <td>1</td>\n",
       "      <td>10</td>\n",
       "      <td>5.000</td>\n",
       "      <td>NL</td>\n",
       "      <td>powerte01</td>\n",
       "      <td>0.000</td>\n",
       "      <td>1</td>\n",
       "      <td>CIN</td>\n",
       "      <td>1986</td>\n",
       "    </tr>\n",
       "    <tr>\n",
       "      <th>4</th>\n",
       "      <td>0.280</td>\n",
       "      <td>20</td>\n",
       "      <td>232.000</td>\n",
       "      <td>0.000</td>\n",
       "      <td>0</td>\n",
       "      <td>21</td>\n",
       "      <td>3.730</td>\n",
       "      <td>48</td>\n",
       "      <td>16.000</td>\n",
       "      <td>nan</td>\n",
       "      <td>...</td>\n",
       "      <td>47</td>\n",
       "      <td>0</td>\n",
       "      <td>2</td>\n",
       "      <td>3.000</td>\n",
       "      <td>AL</td>\n",
       "      <td>osunaan01</td>\n",
       "      <td>-1.163</td>\n",
       "      <td>1</td>\n",
       "      <td>NYA</td>\n",
       "      <td>2003</td>\n",
       "    </tr>\n",
       "  </tbody>\n",
       "</table>\n",
       "<p>5 rows × 31 columns</p>\n",
       "</div>"
      ],
      "text/plain": [
       "   BAOpp  BB     BFP    BK  CG  ER   ERA   G     GF  GIDP   ...     SO  SV  \\\n",
       "0  0.270  41 488.000 0.000   0  49 3.850  54 26.000   nan   ...     70   6   \n",
       "1  0.250  43 787.000 0.000   2  81 3.860  30  0.000   nan   ...    113   0   \n",
       "2    nan  19 273.000 0.000   0  37 5.150  26 10.000   nan   ...     32   0   \n",
       "3  0.240  52 537.000 1.000   0  53 3.700  56 30.000   nan   ...     95   1   \n",
       "4  0.280  20 232.000 0.000   0  21 3.730  48 16.000   nan   ...     47   0   \n",
       "\n",
       "    W    WP  lgID   playerID  salary_diff  stint  teamID  yearID  \n",
       "0   6 3.000    AL  nelsoge01        0.419      1     CHA    1986  \n",
       "1  17 3.000    AL  moyerja01        0.886      1     SEA    1997  \n",
       "2   6 2.000    NL  thompbr01        0.451      1     SLN    2008  \n",
       "3  10 5.000    NL  powerte01        0.000      1     CIN    1986  \n",
       "4   2 3.000    AL  osunaan01       -1.163      1     NYA    2003  \n",
       "\n",
       "[5 rows x 31 columns]"
      ]
     },
     "execution_count": 161,
     "metadata": {},
     "output_type": "execute_result"
    }
   ],
   "source": [
    "all_data.head()"
   ]
  },
  {
   "cell_type": "markdown",
   "metadata": {},
   "source": [
    "### 看一下資歷跟年薪的關係 並創建特徵"
   ]
  },
  {
   "cell_type": "code",
   "execution_count": 162,
   "metadata": {},
   "outputs": [],
   "source": [
    "all_data['Seniority'] = all_data.groupby('playerID')['yearID'].transform(lambda x: x - x.min()+1)"
   ]
  },
  {
   "cell_type": "code",
   "execution_count": 163,
   "metadata": {},
   "outputs": [],
   "source": [
    "train1 = all_data[:ntrain]\n",
    "train1['target'] = train_data['salary_next_year']"
   ]
  },
  {
   "cell_type": "code",
   "execution_count": 164,
   "metadata": {},
   "outputs": [
    {
     "data": {
      "text/plain": [
       "<matplotlib.axes._subplots.AxesSubplot at 0x25c716b57b8>"
      ]
     },
     "execution_count": 164,
     "metadata": {},
     "output_type": "execute_result"
    },
    {
     "data": {
      "image/png": "[encoded data removed]",
      "text/plain": [
       "<Figure size 1152x576 with 1 Axes>"
      ]
     },
     "metadata": {},
     "output_type": "display_data"
    }
   ],
   "source": [
    "f, ax = plt.subplots(figsize=(16, 8)) #會發現年資整體是 隨年資成長, 但最後一年會大幅下降\n",
    "sns.lineplot(x='Seniority', y='target', data=train1,color = 'green') #可發現從1995年以後薪資是一路成長, 且可以用五年用一個單位"
   ]
  },
  {
   "cell_type": "markdown",
   "metadata": {},
   "source": [
    "1. 考慮到13-15為一桶\n",
    "2. 0-11 為一桶\n",
    "3. 11-13為一桶\n",
    "4. 15 - 17.5為一桶\n",
    "5. 17.5 - 25為一桶"
   ]
  },
  {
   "cell_type": "code",
   "execution_count": 165,
   "metadata": {
    "scrolled": true
   },
   "outputs": [],
   "source": [
    "bin=[0,6,11,16,17,20,24,26]\n",
    "all_data['Seniority'] = pd.cut(all_data['Seniority'],bin)"
   ]
  },
  {
   "cell_type": "code",
   "execution_count": 166,
   "metadata": {},
   "outputs": [],
   "source": [
    "all_data['Seniority'] =all_data['Seniority'].astype('str')"
   ]
  },
  {
   "cell_type": "code",
   "execution_count": 167,
   "metadata": {},
   "outputs": [
    {
     "data": {
      "text/plain": [
       "(0, 6]      5260\n",
       "(6, 11]     1647\n",
       "(11, 16]     420\n",
       "(17, 20]      35\n",
       "(16, 17]      25\n",
       "(20, 24]       5\n",
       "(24, 26]       1\n",
       "Name: Seniority, dtype: int64"
      ]
     },
     "execution_count": 167,
     "metadata": {},
     "output_type": "execute_result"
    }
   ],
   "source": [
    "all_data['Seniority'].value_counts()"
   ]
  },
  {
   "cell_type": "code",
   "execution_count": 168,
   "metadata": {
    "scrolled": true
   },
   "outputs": [],
   "source": [
    "all_data['Seniority'] = all_data['Seniority'].apply(lambda x : 4 if x  == '(0, 6]' else x)\n",
    "all_data['Seniority'] = all_data['Seniority'].apply(lambda x : 2 if x  == '(6, 11]' else x)\n",
    "all_data['Seniority'] = all_data['Seniority'].apply(lambda x : 1 if x  == '(11, 16]' else x)\n",
    "all_data['Seniority'] = all_data['Seniority'].apply(lambda x : -1 if x  == '(17, 20]' else x)\n",
    "all_data['Seniority'] = all_data['Seniority'].apply(lambda x : 2 if x  == '(16, 17]' else x)\n",
    "all_data['Seniority'] = all_data['Seniority'].apply(lambda x : 3 if x  == '(20, 24]' else x)\n",
    "all_data['Seniority'] = all_data['Seniority'].apply(lambda x : -1 if x  == '(24, 26]' else x)"
   ]
  },
  {
   "cell_type": "code",
   "execution_count": 169,
   "metadata": {},
   "outputs": [
    {
     "data": {
      "text/plain": [
       " 4    5260\n",
       " 2    1672\n",
       " 1     420\n",
       "-1      36\n",
       " 3       5\n",
       "Name: Seniority, dtype: int64"
      ]
     },
     "execution_count": 169,
     "metadata": {},
     "output_type": "execute_result"
    }
   ],
   "source": [
    "all_data['Seniority'].value_counts()"
   ]
  },
  {
   "cell_type": "markdown",
   "metadata": {},
   "source": [
    "# 資料前處理\n",
    "\n",
    "1. 異常值處理\n",
    "2. 填補缺失值\n",
    "3. 資料轉換\n",
    "4. 特徵選擇\n",
    "5. 資料拆分"
   ]
  },
  {
   "cell_type": "markdown",
   "metadata": {},
   "source": [
    "### 1. 缺失值處理"
   ]
  },
  {
   "cell_type": "code",
   "execution_count": 170,
   "metadata": {
    "scrolled": true
   },
   "outputs": [
    {
     "data": {
      "text/plain": [
       "Text(0.5, 1.0, 'Percent missing data by feature')"
      ]
     },
     "execution_count": 170,
     "metadata": {},
     "output_type": "execute_result"
    },
    {
     "data": {
      "image/png": "[encoded data removed]",
      "text/plain": [
       "<Figure size 1080x864 with 1 Axes>"
      ]
     },
     "metadata": {},
     "output_type": "display_data"
    }
   ],
   "source": [
    "all_data_na = (all_data.isnull().sum()/len(all_data)) * 100\n",
    "all_data_na = all_data_na.drop(all_data_na[all_data_na == 0].index).sort_values(ascending = False)\n",
    "missing_data = pd.DataFrame({'Missing Ratio': all_data_na})\n",
    "\n",
    "f, ax = plt.subplots(figsize = (15,12))\n",
    "plt.xticks(rotation = '90',fontsize = 20)\n",
    "plt.yticks(fontsize = 20)\n",
    "sns.barplot(x = all_data_na.index, y = all_data_na)\n",
    "for a,b in enumerate(all_data_na):\n",
    "    plt.text(a, b, '%.4f' % b, ha='center', va= 'bottom',fontsize=20)\n",
    "plt.xlabel('Features', fontsize = 20)\n",
    "plt.ylabel('Percent of missing values', fontsize = 20)\n",
    "plt.title('Percent missing data by feature', fontsize = 20)"
   ]
  },
  {
   "cell_type": "code",
   "execution_count": 171,
   "metadata": {},
   "outputs": [],
   "source": [
    "all_data.drop(['SH','SF','GIDP'], axis = 1, inplace = True) #刪除掉完全沒有值的資料欄位"
   ]
  },
  {
   "cell_type": "code",
   "execution_count": 172,
   "metadata": {},
   "outputs": [],
   "source": [
    "#all_data.fillna(all_data['BAOpp'].mean(),inplace = True)"
   ]
  },
  {
   "cell_type": "code",
   "execution_count": 173,
   "metadata": {},
   "outputs": [
    {
     "data": {
      "image/png": "[encoded data removed]",
      "text/plain": [
       "<Figure size 288x432 with 2 Axes>"
      ]
     },
     "metadata": {},
     "output_type": "display_data"
    }
   ],
   "source": [
    "corr_to_target(train_data[~train_data['BAOpp'].isnull()].drop(['SH','SF','GIDP'],axis = 1), 'BAOpp') #可以看到薪資跟年代高度相關，以前的薪水跟現在的薪水不一樣"
   ]
  },
  {
   "cell_type": "markdown",
   "metadata": {},
   "source": [
    "### 用LinearRegression 填補缺失值"
   ]
  },
  {
   "cell_type": "code",
   "execution_count": 174,
   "metadata": {
    "scrolled": false
   },
   "outputs": [],
   "source": [
    "from sklearn.linear_model import LinearRegression\n",
    "linreg = LinearRegression()\n",
    "data = all_data[['ERA','yearID','G','SO','GF','BB','SV','BAOpp']]\n",
    "#Step-1: Split the dataset that contains the missing values and no missing values are test and train respectively.\n",
    "x_train = data[data['BAOpp'].notnull()].drop(columns='BAOpp')\n",
    "y_train = data[data['BAOpp'].notnull()]['BAOpp']\n",
    "x_test = data[data['BAOpp'].isnull()].drop(columns='BAOpp')\n",
    "y_test = data[data['BAOpp'].isnull()]['BAOpp']\n",
    "#Step-2: Train the machine learning algorithm\n",
    "linreg.fit(x_train, y_train)\n",
    "#Step-3: Predict the missing values in the attribute of the test data.\n",
    "predicted = linreg.predict(x_test)\n",
    "#Step-4: Let’s obtain the complete dataset by combining with the target attribute.\n",
    "all_data.BAOpp[all_data.BAOpp.isnull()] = predicted\n"
   ]
  },
  {
   "cell_type": "code",
   "execution_count": 175,
   "metadata": {},
   "outputs": [
    {
     "name": "stdout",
     "output_type": "stream",
     "text": [
      "<class 'pandas.core.frame.DataFrame'>\n",
      "RangeIndex: 7393 entries, 0 to 7392\n",
      "Data columns (total 29 columns):\n",
      "BAOpp          7393 non-null float64\n",
      "BB             7393 non-null int64\n",
      "BFP            7393 non-null float64\n",
      "BK             7393 non-null float64\n",
      "CG             7393 non-null int64\n",
      "ER             7393 non-null int64\n",
      "ERA            7393 non-null float64\n",
      "G              7393 non-null int64\n",
      "GF             7393 non-null float64\n",
      "GS             7393 non-null int64\n",
      "H              7393 non-null int64\n",
      "HBP            7393 non-null float64\n",
      "HR             7393 non-null int64\n",
      "IBB            7393 non-null float64\n",
      "IPouts         7393 non-null int64\n",
      "L              7393 non-null int64\n",
      "R              7393 non-null int64\n",
      "SHO            7393 non-null int64\n",
      "SO             7393 non-null int64\n",
      "SV             7393 non-null int64\n",
      "W              7393 non-null int64\n",
      "WP             7393 non-null float64\n",
      "lgID           7393 non-null object\n",
      "playerID       7393 non-null object\n",
      "salary_diff    7393 non-null float64\n",
      "stint          7393 non-null int64\n",
      "teamID         7393 non-null object\n",
      "yearID         7393 non-null int64\n",
      "Seniority      7393 non-null int64\n",
      "dtypes: float64(9), int64(17), object(3)\n",
      "memory usage: 1.6+ MB\n"
     ]
    }
   ],
   "source": [
    "all_data = all_data.fillna(0)\n",
    "all_data.info()"
   ]
  },
  {
   "cell_type": "markdown",
   "metadata": {},
   "source": [
    "# 可再改進"
   ]
  },
  {
   "cell_type": "code",
   "execution_count": 176,
   "metadata": {},
   "outputs": [],
   "source": [
    "all_data['WP'].fillna(value=all_data['WP'].mean(), inplace=True)\n",
    "all_data['IBB'].fillna(value=all_data['IBB'].mean(), inplace=True)\n",
    "all_data['HBP'].fillna(value=all_data['HBP'].mean(), inplace=True)\n",
    "all_data['BK'].fillna(value=all_data['BK'].mean(), inplace=True)  "
   ]
  },
  {
   "cell_type": "markdown",
   "metadata": {},
   "source": [
    "###  2. Feature Creation"
   ]
  },
  {
   "cell_type": "markdown",
   "metadata": {},
   "source": [
    "* W:勝場次\n",
    "* L:敗場次\n",
    "* G:出場次數\n",
    "* GS:球員是先發投手的次數\n",
    "* CG:投手獨力投完全場的比賽次數\n",
    "* SHO:投完整場比賽，且沒有失去任何分數的次數\n",
    "* SV:救援成功次數(投手沒有搞砸球隊優勢)\n",
    "* IPouts:投球局數*3\n",
    "* H:被安打數\n",
    "* ER:自責分\n",
    "* HR:被全壘打數\n",
    "* BB:四壞保送次數\n",
    "* SO:三振次數\n",
    "* BAOpp:對手平均打擊率\n",
    "* ERA:防禦率\n",
    "* IBB:四壞球次數\n",
    "* WB:暴投次數\n",
    "* HBP:觸身球次數\n",
    "* BK:投手犯規次數\n",
    "* BFP:單一投手面臨多少打者\n",
    "* GF:完成比賽之次數(記於最後一任投手上)\n",
    "* R:打擊分數總計"
   ]
  },
  {
   "cell_type": "markdown",
   "metadata": {},
   "source": [
    "### 投手指標\n",
    "#### 建立WHIP指標  參考資料 https://www.sportsv.net/articles/10241\n",
    "\n",
    "> 算法是保送(BB)+安打(H)/局數(IP)"
   ]
  },
  {
   "cell_type": "code",
   "execution_count": 177,
   "metadata": {},
   "outputs": [],
   "source": [
    "all_data['WHIP'] = (all_data.BB + all_data.H)/ (all_data.IPouts/3)"
   ]
  },
  {
   "cell_type": "markdown",
   "metadata": {},
   "source": [
    "#### 建立DICE指標\n",
    ">DICE = 3 + (3*(BB + HBP) + 13*HR - 2*K) / IP"
   ]
  },
  {
   "cell_type": "code",
   "execution_count": 178,
   "metadata": {},
   "outputs": [],
   "source": [
    "all_data['DICE'] = 3 + (3*(all_data.BB + all_data.HBP) + all_data.HR * 13 - 2 * all_data.BB)/(all_data.IPouts/3)"
   ]
  },
  {
   "cell_type": "markdown",
   "metadata": {},
   "source": [
    "#### 建立SO_9指標\n",
    "> 公式很簡單：SO/IP×9，這個定義是「投手每投九局能取得多少三振」。"
   ]
  },
  {
   "cell_type": "code",
   "execution_count": 179,
   "metadata": {},
   "outputs": [],
   "source": [
    "all_data['SO_9'] = all_data.SO / (all_data.IPouts*3)"
   ]
  },
  {
   "cell_type": "markdown",
   "metadata": {},
   "source": [
    "#### 建立BB_9指標\n",
    "> 算法為：(BB+HBP)/IP×9"
   ]
  },
  {
   "cell_type": "code",
   "execution_count": 180,
   "metadata": {},
   "outputs": [],
   "source": [
    "all_data['BB_9'] = (all_data.BB + all_data.HBP) /  (all_data.IPouts*3)"
   ]
  },
  {
   "cell_type": "code",
   "execution_count": 181,
   "metadata": {},
   "outputs": [],
   "source": [
    "column = ['W', 'L', 'G', 'GS','CG', 'SHO', 'SV', 'IPouts', 'H', 'ER', 'HR', 'BB', 'SO', 'BAOpp',\n",
    "       'ERA', 'IBB', 'WP', 'HBP', 'BK', 'BFP', 'GF', 'R','WHIP', 'DICE', 'SO_9',\n",
    "       'BB_9']"
   ]
  },
  {
   "cell_type": "code",
   "execution_count": 182,
   "metadata": {},
   "outputs": [],
   "source": [
    "for x in column:\n",
    "    all_data[x + '_mean'] = all_data.groupby('playerID')[x].transform(lambda x:x.mean()) "
   ]
  },
  {
   "cell_type": "code",
   "execution_count": 183,
   "metadata": {
    "scrolled": true
   },
   "outputs": [
    {
     "data": {
      "text/plain": [
       "(6284, 32)"
      ]
     },
     "execution_count": 183,
     "metadata": {},
     "output_type": "execute_result"
    }
   ],
   "source": [
    "train_data.shape #效果不好"
   ]
  },
  {
   "cell_type": "markdown",
   "metadata": {},
   "source": [
    "### 將前一年的表現減去後一年的表現"
   ]
  },
  {
   "cell_type": "code",
   "execution_count": 184,
   "metadata": {
    "scrolled": true
   },
   "outputs": [],
   "source": [
    "all_data = all_data.sort_values(by = 'yearID')"
   ]
  },
  {
   "cell_type": "code",
   "execution_count": 185,
   "metadata": {
    "scrolled": true
   },
   "outputs": [],
   "source": [
    "for x in column:\n",
    "    all_data[x + '_diff_last_year'] = all_data.groupby('playerID')[x].apply(lambda i:i.diff(1)).fillna(0)"
   ]
  },
  {
   "cell_type": "code",
   "execution_count": 186,
   "metadata": {
    "scrolled": true
   },
   "outputs": [],
   "source": [
    "all_data = all_data.sort_index()"
   ]
  },
  {
   "cell_type": "code",
   "execution_count": 187,
   "metadata": {
    "scrolled": true
   },
   "outputs": [
    {
     "name": "stdout",
     "output_type": "stream",
     "text": [
      "<class 'pandas.core.frame.DataFrame'>\n",
      "Int64Index: 7393 entries, 0 to 7392\n",
      "Data columns (total 85 columns):\n",
      "BAOpp                    7393 non-null float64\n",
      "BB                       7393 non-null int64\n",
      "BFP                      7393 non-null float64\n",
      "BK                       7393 non-null float64\n",
      "CG                       7393 non-null int64\n",
      "ER                       7393 non-null int64\n",
      "ERA                      7393 non-null float64\n",
      "G                        7393 non-null int64\n",
      "GF                       7393 non-null float64\n",
      "GS                       7393 non-null int64\n",
      "H                        7393 non-null int64\n",
      "HBP                      7393 non-null float64\n",
      "HR                       7393 non-null int64\n",
      "IBB                      7393 non-null float64\n",
      "IPouts                   7393 non-null int64\n",
      "L                        7393 non-null int64\n",
      "R                        7393 non-null int64\n",
      "SHO                      7393 non-null int64\n",
      "SO                       7393 non-null int64\n",
      "SV                       7393 non-null int64\n",
      "W                        7393 non-null int64\n",
      "WP                       7393 non-null float64\n",
      "lgID                     7393 non-null object\n",
      "playerID                 7393 non-null object\n",
      "salary_diff              7393 non-null float64\n",
      "stint                    7393 non-null int64\n",
      "teamID                   7393 non-null object\n",
      "yearID                   7393 non-null int64\n",
      "Seniority                7393 non-null int64\n",
      "WHIP                     7393 non-null float64\n",
      "DICE                     7393 non-null float64\n",
      "SO_9                     7393 non-null float64\n",
      "BB_9                     7393 non-null float64\n",
      "W_mean                   7393 non-null float64\n",
      "L_mean                   7393 non-null float64\n",
      "G_mean                   7393 non-null float64\n",
      "GS_mean                  7393 non-null float64\n",
      "CG_mean                  7393 non-null float64\n",
      "SHO_mean                 7393 non-null float64\n",
      "SV_mean                  7393 non-null float64\n",
      "IPouts_mean              7393 non-null float64\n",
      "H_mean                   7393 non-null float64\n",
      "ER_mean                  7393 non-null float64\n",
      "HR_mean                  7393 non-null float64\n",
      "BB_mean                  7393 non-null float64\n",
      "SO_mean                  7393 non-null float64\n",
      "BAOpp_mean               7393 non-null float64\n",
      "ERA_mean                 7393 non-null float64\n",
      "IBB_mean                 7393 non-null float64\n",
      "WP_mean                  7393 non-null float64\n",
      "HBP_mean                 7393 non-null float64\n",
      "BK_mean                  7393 non-null float64\n",
      "BFP_mean                 7393 non-null float64\n",
      "GF_mean                  7393 non-null float64\n",
      "R_mean                   7393 non-null float64\n",
      "WHIP_mean                7393 non-null float64\n",
      "DICE_mean                7393 non-null float64\n",
      "SO_9_mean                7393 non-null float64\n",
      "BB_9_mean                7393 non-null float64\n",
      "W_diff_last_year         7393 non-null float64\n",
      "L_diff_last_year         7393 non-null float64\n",
      "G_diff_last_year         7393 non-null float64\n",
      "GS_diff_last_year        7393 non-null float64\n",
      "CG_diff_last_year        7393 non-null float64\n",
      "SHO_diff_last_year       7393 non-null float64\n",
      "SV_diff_last_year        7393 non-null float64\n",
      "IPouts_diff_last_year    7393 non-null float64\n",
      "H_diff_last_year         7393 non-null float64\n",
      "ER_diff_last_year        7393 non-null float64\n",
      "HR_diff_last_year        7393 non-null float64\n",
      "BB_diff_last_year        7393 non-null float64\n",
      "SO_diff_last_year        7393 non-null float64\n",
      "BAOpp_diff_last_year     7393 non-null float64\n",
      "ERA_diff_last_year       7393 non-null float64\n",
      "IBB_diff_last_year       7393 non-null float64\n",
      "WP_diff_last_year        7393 non-null float64\n",
      "HBP_diff_last_year       7393 non-null float64\n",
      "BK_diff_last_year        7393 non-null float64\n",
      "BFP_diff_last_year       7393 non-null float64\n",
      "GF_diff_last_year        7393 non-null float64\n",
      "R_diff_last_year         7393 non-null float64\n",
      "WHIP_diff_last_year      7393 non-null float64\n",
      "DICE_diff_last_year      7393 non-null float64\n",
      "SO_9_diff_last_year      7393 non-null float64\n",
      "BB_9_diff_last_year      7393 non-null float64\n",
      "dtypes: float64(65), int64(17), object(3)\n",
      "memory usage: 4.9+ MB\n"
     ]
    }
   ],
   "source": [
    "all_data.info()"
   ]
  },
  {
   "cell_type": "markdown",
   "metadata": {},
   "source": [
    "### 3. 不符合正態，將其做log轉換"
   ]
  },
  {
   "cell_type": "code",
   "execution_count": 188,
   "metadata": {},
   "outputs": [],
   "source": [
    "col2 = ['W', 'L', 'G', 'GS','CG', 'SHO', 'SV', 'IPouts', 'H', 'ER', 'HR', 'BB', 'SO', 'BAOpp',\n",
    "       'ERA', 'IBB', 'WP', 'HBP', 'BK', 'BFP', 'GF', 'R','Seniority', 'W_mean',\n",
    "       'L_mean', 'G_mean', 'GS_mean', 'CG_mean', 'SHO_mean', 'SV_mean',\n",
    "       'IPouts_mean', 'H_mean', 'ER_mean', 'HR_mean', 'BB_mean', 'SO_mean',\n",
    "       'BAOpp_mean', 'ERA_mean', 'IBB_mean', 'WP_mean', 'HBP_mean', 'BK_mean',\n",
    "       'BFP_mean', 'GF_mean', 'R_mean', 'WHIP', 'DICE', 'SO_9',\n",
    "       'BB_9']"
   ]
  },
  {
   "cell_type": "code",
   "execution_count": 189,
   "metadata": {},
   "outputs": [
    {
     "name": "stdout",
     "output_type": "stream",
     "text": [
      "\n",
      " Skew in numerical features: \n",
      "\n"
     ]
    },
    {
     "data": {
      "text/html": [
       "<div>\n",
       "<style scoped>\n",
       "    .dataframe tbody tr th:only-of-type {\n",
       "        vertical-align: middle;\n",
       "    }\n",
       "\n",
       "    .dataframe tbody tr th {\n",
       "        vertical-align: top;\n",
       "    }\n",
       "\n",
       "    .dataframe thead th {\n",
       "        text-align: right;\n",
       "    }\n",
       "</style>\n",
       "<table border=\"1\" class=\"dataframe\">\n",
       "  <thead>\n",
       "    <tr style=\"text-align: right;\">\n",
       "      <th></th>\n",
       "      <th>Skew</th>\n",
       "    </tr>\n",
       "  </thead>\n",
       "  <tbody>\n",
       "    <tr>\n",
       "      <th>ERA</th>\n",
       "      <td>14.679</td>\n",
       "    </tr>\n",
       "    <tr>\n",
       "      <th>BB_9</th>\n",
       "      <td>12.468</td>\n",
       "    </tr>\n",
       "    <tr>\n",
       "      <th>WHIP</th>\n",
       "      <td>10.957</td>\n",
       "    </tr>\n",
       "    <tr>\n",
       "      <th>ERA_mean</th>\n",
       "      <td>5.931</td>\n",
       "    </tr>\n",
       "    <tr>\n",
       "      <th>DICE</th>\n",
       "      <td>5.249</td>\n",
       "    </tr>\n",
       "  </tbody>\n",
       "</table>\n",
       "</div>"
      ],
      "text/plain": [
       "           Skew\n",
       "ERA      14.679\n",
       "BB_9     12.468\n",
       "WHIP     10.957\n",
       "ERA_mean  5.931\n",
       "DICE      5.249"
      ]
     },
     "execution_count": 189,
     "metadata": {},
     "output_type": "execute_result"
    }
   ],
   "source": [
    "log_data = all_data[col2]\n",
    "numeric_feats = log_data.dtypes[log_data.dtypes != 'object'].index\n",
    "\n",
    "#對所有數執行特徵進行skew計算偏度\n",
    "skewed_feats = log_data[numeric_feats].apply(lambda x: skew(x.dropna())).sort_values(ascending = False)\n",
    "print('\\n Skew in numerical features: \\n')\n",
    "skewness = pd.DataFrame({'Skew': skewed_feats})\n",
    "skewness.head()"
   ]
  },
  {
   "cell_type": "code",
   "execution_count": 190,
   "metadata": {},
   "outputs": [
    {
     "name": "stdout",
     "output_type": "stream",
     "text": [
      "總共有49數值型的特徵做轉換\n"
     ]
    }
   ],
   "source": [
    "skewness = skewness[abs(skewness)>0.75]\n",
    "print('總共有{}數值型的特徵做轉換'.format(skewness.shape[0]))\n",
    "\n",
    "from scipy.special import boxcox1p\n",
    "skewed_features = skewness.index\n",
    "lam = 0.15\n",
    "for feat in skewed_features:\n",
    "    all_data[feat] = boxcox1p(all_data[feat],lam)"
   ]
  },
  {
   "cell_type": "markdown",
   "metadata": {},
   "source": [
    "### 4. one-hotencoding "
   ]
  },
  {
   "cell_type": "markdown",
   "metadata": {},
   "source": [
    "#### 年份對下年薪資高度相關，因此對年份進行分桶"
   ]
  },
  {
   "cell_type": "code",
   "execution_count": 191,
   "metadata": {
    "scrolled": true
   },
   "outputs": [],
   "source": [
    "bin=[1984,1990,1995,2000,2005,2010,2013]\n",
    "all_data['yearID'] = pd.cut(all_data['yearID'],bin)"
   ]
  },
  {
   "cell_type": "code",
   "execution_count": 192,
   "metadata": {},
   "outputs": [],
   "source": [
    "from sklearn.preprocessing import LabelEncoder\n",
    "lbl = LabelEncoder()\n",
    "lbl.fit(list(all_data['yearID'].values))\n",
    "all_data['yearID'] = lbl.transform(list(all_data['yearID'].values))"
   ]
  },
  {
   "cell_type": "markdown",
   "metadata": {},
   "source": [
    "#### 對teamID做one-hotencoding"
   ]
  },
  {
   "cell_type": "code",
   "execution_count": 193,
   "metadata": {
    "scrolled": true
   },
   "outputs": [
    {
     "data": {
      "text/plain": [
       "PIT    286\n",
       "TOR    283\n",
       "SLN    277\n",
       "CHN    272\n",
       "NYA    271\n",
       "NYN    269\n",
       "SDN    269\n",
       "OAK    269\n",
       "SFN    269\n",
       "LAN    268\n",
       "PHI    266\n",
       "CLE    264\n",
       "CHA    263\n",
       "BOS    262\n",
       "ATL    261\n",
       "CIN    254\n",
       "TEX    251\n",
       "MIN    249\n",
       "DET    244\n",
       "SEA    241\n",
       "HOU    238\n",
       "BAL    237\n",
       "KCA    223\n",
       "FLO    203\n",
       "COL    201\n",
       "MON    193\n",
       "ARI    128\n",
       "TBA    126\n",
       "CAL    120\n",
       "MIL    120\n",
       "ML4    107\n",
       "ANA     89\n",
       "LAA     72\n",
       "WAS     48\n",
       "Name: teamID, dtype: int64"
      ]
     },
     "execution_count": 193,
     "metadata": {},
     "output_type": "execute_result"
    }
   ],
   "source": [
    "all_data['teamID'].value_counts() #分布平均"
   ]
  },
  {
   "cell_type": "code",
   "execution_count": 194,
   "metadata": {
    "scrolled": true
   },
   "outputs": [],
   "source": [
    "teamID = pd.get_dummies(all_data['teamID'],prefix= 'team_')#做one-hotecoding\n",
    "all_data = pd.concat([all_data,teamID],axis=1, join_axes=[all_data.index])\n",
    "all_data.drop(['teamID'],axis = 1,inplace = True)"
   ]
  },
  {
   "cell_type": "markdown",
   "metadata": {},
   "source": [
    "#### 對lgID做one-hotencoding"
   ]
  },
  {
   "cell_type": "code",
   "execution_count": 195,
   "metadata": {},
   "outputs": [
    {
     "data": {
      "text/plain": [
       "NL    3822\n",
       "AL    3571\n",
       "Name: lgID, dtype: int64"
      ]
     },
     "execution_count": 195,
     "metadata": {},
     "output_type": "execute_result"
    }
   ],
   "source": [
    "all_data['lgID'].value_counts() #分布平均"
   ]
  },
  {
   "cell_type": "code",
   "execution_count": 196,
   "metadata": {},
   "outputs": [],
   "source": [
    "lgID = pd.get_dummies(all_data['lgID'],prefix= 'lgID_')#做one-hotecoding\n",
    "all_data = pd.concat([all_data,lgID],axis=1, join_axes=[all_data.index])\n",
    "all_data.drop(['lgID'],axis = 1,inplace = True)"
   ]
  },
  {
   "cell_type": "markdown",
   "metadata": {},
   "source": [
    "### 5. 獲得新的訓練與測試集。至此，特徵工程處理完畢。"
   ]
  },
  {
   "cell_type": "code",
   "execution_count": 197,
   "metadata": {},
   "outputs": [],
   "source": [
    "all_data.drop(['playerID', 'stint'],axis = 1,inplace = True) #暫時先刪除 太稀疏的特徵"
   ]
  },
  {
   "cell_type": "code",
   "execution_count": 198,
   "metadata": {},
   "outputs": [
    {
     "data": {
      "text/plain": [
       "Index(['BAOpp', 'BB', 'BFP', 'BK', 'CG', 'ER', 'ERA', 'G', 'GF', 'GS',\n",
       "       ...\n",
       "       'team__SDN', 'team__SEA', 'team__SFN', 'team__SLN', 'team__TBA',\n",
       "       'team__TEX', 'team__TOR', 'team__WAS', 'lgID__AL', 'lgID__NL'],\n",
       "      dtype='object', length=117)"
      ]
     },
     "execution_count": 198,
     "metadata": {},
     "output_type": "execute_result"
    }
   ],
   "source": [
    "all_data.columns"
   ]
  },
  {
   "cell_type": "markdown",
   "metadata": {},
   "source": [
    "# 模型訓練"
   ]
  },
  {
   "cell_type": "code",
   "execution_count": 199,
   "metadata": {},
   "outputs": [],
   "source": [
    "from sklearn.linear_model import ElasticNet, Lasso, BayesianRidge, LassoLarsIC\n",
    "from sklearn.ensemble import RandomForestRegressor, GradientBoostingRegressor\n",
    "from sklearn.kernel_ridge import KernelRidge\n",
    "from sklearn.pipeline import make_pipeline\n",
    "from sklearn.preprocessing import RobustScaler,StandardScaler\n",
    "from sklearn.base import BaseEstimator, TransformerMixin, RegressorMixin, clone\n",
    "from sklearn.model_selection import KFold, cross_val_score, train_test_split\n",
    "from sklearn.metrics import mean_absolute_error\n",
    "import xgboost as xgb\n",
    "import lightgbm as lgb"
   ]
  },
  {
   "cell_type": "code",
   "execution_count": 200,
   "metadata": {},
   "outputs": [],
   "source": [
    "train = all_data[:ntrain]\n",
    "test = all_data[ntrain:]"
   ]
  },
  {
   "cell_type": "code",
   "execution_count": 201,
   "metadata": {},
   "outputs": [],
   "source": [
    "scaler = StandardScaler()\n",
    "train = scaler.fit_transform(train)\n",
    "test = scaler.fit_transform(test)"
   ]
  },
  {
   "cell_type": "code",
   "execution_count": 202,
   "metadata": {},
   "outputs": [],
   "source": [
    "#交叉驗證數\n",
    "n_folds = 5\n",
    "\n",
    "def mae_cv(model):\n",
    "    kf = KFold(n_folds, shuffle=True, random_state=42).get_n_splits(train)\n",
    "    mae= -cross_val_score(model, train, target, scoring=\"neg_mean_absolute_error\"\n",
    "                                   , cv = kf)\n",
    "    return(mae)\n",
    "\n",
    "# def rmse(y, y_pred):\n",
    "#     return np.sqrt(mean_squared_error(np.log(y), y_pred)))"
   ]
  },
  {
   "cell_type": "markdown",
   "metadata": {},
   "source": [
    "# 模型評估"
   ]
  },
  {
   "cell_type": "markdown",
   "metadata": {},
   "source": [
    "1. LASSO Regression: *該模型對異常值很敏感，所以我們在pipeline上使用sklearn的Robustscaler()方法"
   ]
  },
  {
   "cell_type": "code",
   "execution_count": 203,
   "metadata": {},
   "outputs": [],
   "source": [
    "lasso = make_pipeline(RobustScaler(), Lasso(alpha = 0.0005, random_state = 1))"
   ]
  },
  {
   "cell_type": "markdown",
   "metadata": {},
   "source": [
    "2. Elastic Net Regression: 同樣讓他對異常值具有更好的魯棒性"
   ]
  },
  {
   "cell_type": "code",
   "execution_count": 204,
   "metadata": {},
   "outputs": [],
   "source": [
    "ENet = make_pipeline(RobustScaler(), ElasticNet(alpha = 0.0005, l1_ratio = .9, random_state = 3))"
   ]
  },
  {
   "cell_type": "markdown",
   "metadata": {},
   "source": [
    "3. Kernel Ridge Regression:"
   ]
  },
  {
   "cell_type": "code",
   "execution_count": 205,
   "metadata": {},
   "outputs": [],
   "source": [
    "KRR = KernelRidge(alpha = 0.6, kernel = 'polynomial', degree = 2, coef0 = 2.5)"
   ]
  },
  {
   "cell_type": "markdown",
   "metadata": {},
   "source": [
    "4. Gradient Boosting Regression:\n",
    "    * 由於Huber loss使得他對於異常值具有魯棒性"
   ]
  },
  {
   "cell_type": "code",
   "execution_count": 206,
   "metadata": {},
   "outputs": [],
   "source": [
    "GBoost = GradientBoostingRegressor(n_estimators=3000, learning_rate=0.05,\n",
    "                                   max_depth=4, max_features='sqrt',\n",
    "                                   min_samples_leaf=15, min_samples_split=10, \n",
    "                                   loss='huber', random_state =5)"
   ]
  },
  {
   "cell_type": "markdown",
   "metadata": {},
   "source": [
    "5. XGBoost:"
   ]
  },
  {
   "cell_type": "code",
   "execution_count": 207,
   "metadata": {},
   "outputs": [],
   "source": [
    "xgb.XGBRegressor(colsample_bytree=0.4603, gamma=0.0468, \n",
    "                             learning_rate=0.05, max_depth=3, \n",
    "                             min_child_weight=1.7817, n_estimators=2200,\n",
    "                             reg_alpha=0.4640, reg_lambda=0.8571,\n",
    "                             subsample=0.5213, silent=1,\n",
    "                             random_state =7, nthread = -1)"
   ]
  },
  {
   "cell_type": "markdown",
   "metadata": {},
   "source": [
    "6. LightGBM:"
   ]
  },
  {
   "cell_type": "code",
   "execution_count": 208,
   "metadata": {},
   "outputs": [],
   "source": [
    "model_lgb = lgb.LGBMRegressor(objective='regression',num_leaves=5,\n",
    "                              learning_rate=0.05, n_estimators=720,\n",
    "                              max_bin = 55, bagging_fraction = 0.8,\n",
    "                              bagging_freq = 5, feature_fraction = 0.2319,\n",
    "                              feature_fraction_seed=9, bagging_seed=9,\n",
    "                              min_data_in_leaf =6, min_sum_hessian_in_leaf = 11)"
   ]
  },
  {
   "cell_type": "markdown",
   "metadata": {},
   "source": [
    "來看看各個模型交叉驗證的得分:"
   ]
  },
  {
   "cell_type": "code",
   "execution_count": 209,
   "metadata": {},
   "outputs": [
    {
     "name": "stdout",
     "output_type": "stream",
     "text": [
      "\n",
      "Lasso 得分: 0.6345 (0.0139)\n",
      "\n"
     ]
    }
   ],
   "source": [
    "score = mae_cv(lasso) #Lasso 得分: 0.6469 (0.0083)\n",
    "print(\"\\nLasso 得分: {:.4f} ({:.4f})\\n\".format(score.mean(), score.std()))"
   ]
  },
  {
   "cell_type": "code",
   "execution_count": 210,
   "metadata": {},
   "outputs": [
    {
     "name": "stdout",
     "output_type": "stream",
     "text": [
      "ElasticNet 得分: 0.6344 (0.0140)\n",
      "\n"
     ]
    }
   ],
   "source": [
    "score = mae_cv(ENet)  # ElasticNet 得分: 0.6469 (0.0083)\n",
    "print(\"ElasticNet 得分: {:.4f} ({:.4f})\\n\".format(score.mean(), score.std()))"
   ]
  },
  {
   "cell_type": "code",
   "execution_count": 211,
   "metadata": {},
   "outputs": [
    {
     "name": "stdout",
     "output_type": "stream",
     "text": [
      "Kernel Ridge 得分: 0.5586 (0.0164)\n",
      "\n"
     ]
    }
   ],
   "source": [
    "score = mae_cv(KRR) #Kernel Ridge 得分: 0.6040 (0.0130)\n",
    "print(\"Kernel Ridge 得分: {:.4f} ({:.4f})\\n\".format(score.mean(), score.std()))"
   ]
  },
  {
   "cell_type": "code",
   "execution_count": 212,
   "metadata": {},
   "outputs": [
    {
     "name": "stdout",
     "output_type": "stream",
     "text": [
      "Gradient Boosting 得分: 0.4605 (0.0075)\n",
      "\n"
     ]
    }
   ],
   "source": [
    "score = mae_cv(GBoost) #  0.7310 (0.0137)\n",
    "print(\"Gradient Boosting 得分: {:.4f} ({:.4f})\\n\".format(score.mean(), score.std()))"
   ]
  },
  {
   "cell_type": "code",
   "execution_count": 213,
   "metadata": {},
   "outputs": [
    {
     "name": "stdout",
     "output_type": "stream",
     "text": [
      "Xgboost 得分: 0.4697 (0.0108)\n",
      "\n"
     ]
    }
   ],
   "source": [
    "score = mae_cv(model_xgb) #0.7312 (0.0166)\n",
    "print(\"Xgboost 得分: {:.4f} ({:.4f})\\n\".format(score.mean(), score.std()))"
   ]
  },
  {
   "cell_type": "code",
   "execution_count": 214,
   "metadata": {},
   "outputs": [
    {
     "name": "stdout",
     "output_type": "stream",
     "text": [
      "LGBM 得分: 0.4845 (0.0063)\n",
      "\n"
     ]
    }
   ],
   "source": [
    "score = mae_cv(model_lgb) #  0.7258 (0.0139)\n",
    "print(\"LGBM 得分: {:.4f} ({:.4f})\\n\" .format(score.mean(), score.std()))"
   ]
  },
  {
   "cell_type": "markdown",
   "metadata": {},
   "source": [
    "# 6. 模型融合"
   ]
  },
  {
   "cell_type": "markdown",
   "metadata": {},
   "source": [
    "Stacking模型融合：Average-Stacking\n",
    "簡單的平均基本模型的方法。"
   ]
  },
  {
   "cell_type": "code",
   "execution_count": 215,
   "metadata": {},
   "outputs": [],
   "source": [
    "class AveragingModels(BaseEstimator, RegressorMixin, TransformerMixin):\n",
    "    def __init__(self, models):\n",
    "        self.models = models\n",
    "        \n",
    "    # 用數據擬合所有的模型\n",
    "    def fit(self, X, y):\n",
    "        self.models_ = [clone(x) for x in self.models]\n",
    "        \n",
    "        for model in self.models_:\n",
    "            model.fit(X, y)\n",
    "\n",
    "        return self\n",
    "    \n",
    "    # 對結果做average\n",
    "    def predict(self, X):\n",
    "        predictions = np.column_stack([\n",
    "            model.predict(X) for model in self.models_\n",
    "        ])\n",
    "        return np.mean(predictions, axis=1)   "
   ]
  },
  {
   "cell_type": "code",
   "execution_count": 216,
   "metadata": {},
   "outputs": [
    {
     "name": "stdout",
     "output_type": "stream",
     "text": [
      " 最集成後的模型的得分: 0.5365 (0.0117)\n",
      "\n"
     ]
    }
   ],
   "source": [
    "averaged_models = AveragingModels(models = (ENet, GBoost, KRR, lasso))\n",
    "\n",
    "score = mae_cv(averaged_models)\n",
    "print(\" 最集成後的模型的得分: {:.4f} ({:.4f})\\n\".format(score.mean(), score.std()))"
   ]
  },
  {
   "cell_type": "markdown",
   "metadata": {},
   "source": [
    "Meta-model Stacking： 在這種方法中，我們在平均基礎模型上添加Meta-model，並使用這些基模型的out-of-folds預測來訓練我們的Meta-model。 訓練部分的步驟如下： 1、將整個訓練集分解成兩個不相交的集合（這裡是train和.holdout）。 2、在第一部分（train）上訓練幾個基本模型。 3、在第二個部分（holdout）上測試這些基本模型。 4、使用(3)中的預測（稱為 out-of-fold 預測）作為輸入，並將正確的標籤（目標變量）作為輸出來訓練更高層次的學習模型稱為元模型。 前三個步驟是迭代完成的。例如，如果我們採取5倍的fold，我們首先將訓練數據分成5次。然後我們會做5次迭代。在每次迭代中，我們訓練每個基礎模型4倍，並預測剩餘的fold（holdout fold）。"
   ]
  },
  {
   "cell_type": "code",
   "execution_count": 217,
   "metadata": {},
   "outputs": [],
   "source": [
    "class StackingAveragedModels(BaseEstimator, RegressorMixin, TransformerMixin):\n",
    "    def __init__(self, base_models, meta_model, n_folds=5):\n",
    "        self.base_models = base_models\n",
    "        self.meta_model = meta_model\n",
    "        self.n_folds = n_folds\n",
    "   \n",
    "    # 用數據擬合所有的模型\n",
    "    def fit(self, X, y):\n",
    "        self.base_models_ = [list() for x in self.base_models]\n",
    "        self.meta_model_ = clone(self.meta_model)\n",
    "        kfold = KFold(n_splits=self.n_folds, shuffle=True, random_state=156)\n",
    "        \n",
    "        # 得到元模型，並用元模型對out_of_fold做预估，為學習stacking的第2層做數據準備\n",
    "        out_of_fold_predictions = np.zeros((X.shape[0], len(self.base_models)))\n",
    "        for i, model in enumerate(self.base_models):\n",
    "            for train_index, holdout_index in kfold.split(X, y):\n",
    "                instance = clone(model)\n",
    "                self.base_models_[i].append(instance)\n",
    "                instance.fit(X[train_index], y[train_index])\n",
    "                y_pred = instance.predict(X[holdout_index])\n",
    "                out_of_fold_predictions[holdout_index, i] = y_pred\n",
    "                \n",
    "        # 學習stacking模型\n",
    "        self.meta_model_.fit(out_of_fold_predictions, y)\n",
    "        return self\n",
    "   \n",
    "    # 做stacking预估\n",
    "    def predict(self, X):\n",
    "        meta_features = np.column_stack([\n",
    "            np.column_stack([model.predict(X) for model in base_models]).mean(axis=1)\n",
    "            for base_models in self.base_models_ ])\n",
    "        return self.meta_model_.predict(meta_features)"
   ]
  },
  {
   "cell_type": "code",
   "execution_count": 218,
   "metadata": {},
   "outputs": [
    {
     "ename": "KeyboardInterrupt",
     "evalue": "",
     "output_type": "error",
     "traceback": [
      "\u001b[1;31m---------------------------------------------------------------------------\u001b[0m",
      "\u001b[1;31mKeyboardInterrupt\u001b[0m                         Traceback (most recent call last)",
      "\u001b[1;32m<ipython-input-218-e40e1d74aead>\u001b[0m in \u001b[0;36m<module>\u001b[1;34m\u001b[0m\n\u001b[0;32m      2\u001b[0m                                                  meta_model = lasso)\n\u001b[0;32m      3\u001b[0m \u001b[1;33m\u001b[0m\u001b[0m\n\u001b[1;32m----> 4\u001b[1;33m \u001b[0mscore\u001b[0m \u001b[1;33m=\u001b[0m \u001b[0mmae_cv\u001b[0m\u001b[1;33m(\u001b[0m\u001b[0mstacked_averaged_models\u001b[0m\u001b[1;33m)\u001b[0m\u001b[1;33m\u001b[0m\u001b[1;33m\u001b[0m\u001b[0m\n\u001b[0m\u001b[0;32m      5\u001b[0m \u001b[0mprint\u001b[0m\u001b[1;33m(\u001b[0m\u001b[1;34m\"Stacking Averaged models score: {:.4f} ({:.4f})\"\u001b[0m\u001b[1;33m.\u001b[0m\u001b[0mformat\u001b[0m\u001b[1;33m(\u001b[0m\u001b[0mscore\u001b[0m\u001b[1;33m.\u001b[0m\u001b[0mmean\u001b[0m\u001b[1;33m(\u001b[0m\u001b[1;33m)\u001b[0m\u001b[1;33m,\u001b[0m \u001b[0mscore\u001b[0m\u001b[1;33m.\u001b[0m\u001b[0mstd\u001b[0m\u001b[1;33m(\u001b[0m\u001b[1;33m)\u001b[0m\u001b[1;33m)\u001b[0m\u001b[1;33m)\u001b[0m\u001b[1;33m\u001b[0m\u001b[1;33m\u001b[0m\u001b[0m\n",
      "\u001b[1;32m<ipython-input-202-c442328e6169>\u001b[0m in \u001b[0;36mmae_cv\u001b[1;34m(model)\u001b[0m\n\u001b[0;32m      5\u001b[0m     \u001b[0mkf\u001b[0m \u001b[1;33m=\u001b[0m \u001b[0mKFold\u001b[0m\u001b[1;33m(\u001b[0m\u001b[0mn_folds\u001b[0m\u001b[1;33m,\u001b[0m \u001b[0mshuffle\u001b[0m\u001b[1;33m=\u001b[0m\u001b[1;32mTrue\u001b[0m\u001b[1;33m,\u001b[0m \u001b[0mrandom_state\u001b[0m\u001b[1;33m=\u001b[0m\u001b[1;36m42\u001b[0m\u001b[1;33m)\u001b[0m\u001b[1;33m.\u001b[0m\u001b[0mget_n_splits\u001b[0m\u001b[1;33m(\u001b[0m\u001b[0mtrain\u001b[0m\u001b[1;33m)\u001b[0m\u001b[1;33m\u001b[0m\u001b[1;33m\u001b[0m\u001b[0m\n\u001b[0;32m      6\u001b[0m     mae= -cross_val_score(model, train, target, scoring=\"neg_mean_absolute_error\"\n\u001b[1;32m----> 7\u001b[1;33m                                    , cv = kf)\n\u001b[0m\u001b[0;32m      8\u001b[0m     \u001b[1;32mreturn\u001b[0m\u001b[1;33m(\u001b[0m\u001b[0mmae\u001b[0m\u001b[1;33m)\u001b[0m\u001b[1;33m\u001b[0m\u001b[1;33m\u001b[0m\u001b[0m\n\u001b[0;32m      9\u001b[0m \u001b[1;33m\u001b[0m\u001b[0m\n",
      "\u001b[1;32m~\\Anaconda3\\lib\\site-packages\\sklearn\\model_selection\\_validation.py\u001b[0m in \u001b[0;36mcross_val_score\u001b[1;34m(estimator, X, y, groups, scoring, cv, n_jobs, verbose, fit_params, pre_dispatch, error_score)\u001b[0m\n\u001b[0;32m    389\u001b[0m                                 \u001b[0mfit_params\u001b[0m\u001b[1;33m=\u001b[0m\u001b[0mfit_params\u001b[0m\u001b[1;33m,\u001b[0m\u001b[1;33m\u001b[0m\u001b[1;33m\u001b[0m\u001b[0m\n\u001b[0;32m    390\u001b[0m                                 \u001b[0mpre_dispatch\u001b[0m\u001b[1;33m=\u001b[0m\u001b[0mpre_dispatch\u001b[0m\u001b[1;33m,\u001b[0m\u001b[1;33m\u001b[0m\u001b[1;33m\u001b[0m\u001b[0m\n\u001b[1;32m--> 391\u001b[1;33m                                 error_score=error_score)\n\u001b[0m\u001b[0;32m    392\u001b[0m     \u001b[1;32mreturn\u001b[0m \u001b[0mcv_results\u001b[0m\u001b[1;33m[\u001b[0m\u001b[1;34m'test_score'\u001b[0m\u001b[1;33m]\u001b[0m\u001b[1;33m\u001b[0m\u001b[1;33m\u001b[0m\u001b[0m\n\u001b[0;32m    393\u001b[0m \u001b[1;33m\u001b[0m\u001b[0m\n",
      "\u001b[1;32m~\\Anaconda3\\lib\\site-packages\\sklearn\\model_selection\\_validation.py\u001b[0m in \u001b[0;36mcross_validate\u001b[1;34m(estimator, X, y, groups, scoring, cv, n_jobs, verbose, fit_params, pre_dispatch, return_train_score, return_estimator, error_score)\u001b[0m\n\u001b[0;32m    230\u001b[0m             \u001b[0mreturn_times\u001b[0m\u001b[1;33m=\u001b[0m\u001b[1;32mTrue\u001b[0m\u001b[1;33m,\u001b[0m \u001b[0mreturn_estimator\u001b[0m\u001b[1;33m=\u001b[0m\u001b[0mreturn_estimator\u001b[0m\u001b[1;33m,\u001b[0m\u001b[1;33m\u001b[0m\u001b[1;33m\u001b[0m\u001b[0m\n\u001b[0;32m    231\u001b[0m             error_score=error_score)\n\u001b[1;32m--> 232\u001b[1;33m         for train, test in cv.split(X, y, groups))\n\u001b[0m\u001b[0;32m    233\u001b[0m \u001b[1;33m\u001b[0m\u001b[0m\n\u001b[0;32m    234\u001b[0m     \u001b[0mzipped_scores\u001b[0m \u001b[1;33m=\u001b[0m \u001b[0mlist\u001b[0m\u001b[1;33m(\u001b[0m\u001b[0mzip\u001b[0m\u001b[1;33m(\u001b[0m\u001b[1;33m*\u001b[0m\u001b[0mscores\u001b[0m\u001b[1;33m)\u001b[0m\u001b[1;33m)\u001b[0m\u001b[1;33m\u001b[0m\u001b[1;33m\u001b[0m\u001b[0m\n",
      "\u001b[1;32m~\\Anaconda3\\lib\\site-packages\\joblib\\parallel.py\u001b[0m in \u001b[0;36m__call__\u001b[1;34m(self, iterable)\u001b[0m\n\u001b[0;32m   1004\u001b[0m                 \u001b[0mself\u001b[0m\u001b[1;33m.\u001b[0m\u001b[0m_iterating\u001b[0m \u001b[1;33m=\u001b[0m \u001b[0mself\u001b[0m\u001b[1;33m.\u001b[0m\u001b[0m_original_iterator\u001b[0m \u001b[1;32mis\u001b[0m \u001b[1;32mnot\u001b[0m \u001b[1;32mNone\u001b[0m\u001b[1;33m\u001b[0m\u001b[1;33m\u001b[0m\u001b[0m\n\u001b[0;32m   1005\u001b[0m \u001b[1;33m\u001b[0m\u001b[0m\n\u001b[1;32m-> 1006\u001b[1;33m             \u001b[1;32mwhile\u001b[0m \u001b[0mself\u001b[0m\u001b[1;33m.\u001b[0m\u001b[0mdispatch_one_batch\u001b[0m\u001b[1;33m(\u001b[0m\u001b[0miterator\u001b[0m\u001b[1;33m)\u001b[0m\u001b[1;33m:\u001b[0m\u001b[1;33m\u001b[0m\u001b[1;33m\u001b[0m\u001b[0m\n\u001b[0m\u001b[0;32m   1007\u001b[0m                 \u001b[1;32mpass\u001b[0m\u001b[1;33m\u001b[0m\u001b[1;33m\u001b[0m\u001b[0m\n\u001b[0;32m   1008\u001b[0m \u001b[1;33m\u001b[0m\u001b[0m\n",
      "\u001b[1;32m~\\Anaconda3\\lib\\site-packages\\joblib\\parallel.py\u001b[0m in \u001b[0;36mdispatch_one_batch\u001b[1;34m(self, iterator)\u001b[0m\n\u001b[0;32m    832\u001b[0m                 \u001b[1;32mreturn\u001b[0m \u001b[1;32mFalse\u001b[0m\u001b[1;33m\u001b[0m\u001b[1;33m\u001b[0m\u001b[0m\n\u001b[0;32m    833\u001b[0m             \u001b[1;32melse\u001b[0m\u001b[1;33m:\u001b[0m\u001b[1;33m\u001b[0m\u001b[1;33m\u001b[0m\u001b[0m\n\u001b[1;32m--> 834\u001b[1;33m                 \u001b[0mself\u001b[0m\u001b[1;33m.\u001b[0m\u001b[0m_dispatch\u001b[0m\u001b[1;33m(\u001b[0m\u001b[0mtasks\u001b[0m\u001b[1;33m)\u001b[0m\u001b[1;33m\u001b[0m\u001b[1;33m\u001b[0m\u001b[0m\n\u001b[0m\u001b[0;32m    835\u001b[0m                 \u001b[1;32mreturn\u001b[0m \u001b[1;32mTrue\u001b[0m\u001b[1;33m\u001b[0m\u001b[1;33m\u001b[0m\u001b[0m\n\u001b[0;32m    836\u001b[0m \u001b[1;33m\u001b[0m\u001b[0m\n",
      "\u001b[1;32m~\\Anaconda3\\lib\\site-packages\\joblib\\parallel.py\u001b[0m in \u001b[0;36m_dispatch\u001b[1;34m(self, batch)\u001b[0m\n\u001b[0;32m    751\u001b[0m         \u001b[1;32mwith\u001b[0m \u001b[0mself\u001b[0m\u001b[1;33m.\u001b[0m\u001b[0m_lock\u001b[0m\u001b[1;33m:\u001b[0m\u001b[1;33m\u001b[0m\u001b[1;33m\u001b[0m\u001b[0m\n\u001b[0;32m    752\u001b[0m             \u001b[0mjob_idx\u001b[0m \u001b[1;33m=\u001b[0m \u001b[0mlen\u001b[0m\u001b[1;33m(\u001b[0m\u001b[0mself\u001b[0m\u001b[1;33m.\u001b[0m\u001b[0m_jobs\u001b[0m\u001b[1;33m)\u001b[0m\u001b[1;33m\u001b[0m\u001b[1;33m\u001b[0m\u001b[0m\n\u001b[1;32m--> 753\u001b[1;33m             \u001b[0mjob\u001b[0m \u001b[1;33m=\u001b[0m \u001b[0mself\u001b[0m\u001b[1;33m.\u001b[0m\u001b[0m_backend\u001b[0m\u001b[1;33m.\u001b[0m\u001b[0mapply_async\u001b[0m\u001b[1;33m(\u001b[0m\u001b[0mbatch\u001b[0m\u001b[1;33m,\u001b[0m \u001b[0mcallback\u001b[0m\u001b[1;33m=\u001b[0m\u001b[0mcb\u001b[0m\u001b[1;33m)\u001b[0m\u001b[1;33m\u001b[0m\u001b[1;33m\u001b[0m\u001b[0m\n\u001b[0m\u001b[0;32m    754\u001b[0m             \u001b[1;31m# A job can complete so quickly than its callback is\u001b[0m\u001b[1;33m\u001b[0m\u001b[1;33m\u001b[0m\u001b[1;33m\u001b[0m\u001b[0m\n\u001b[0;32m    755\u001b[0m             \u001b[1;31m# called before we get here, causing self._jobs to\u001b[0m\u001b[1;33m\u001b[0m\u001b[1;33m\u001b[0m\u001b[1;33m\u001b[0m\u001b[0m\n",
      "\u001b[1;32m~\\Anaconda3\\lib\\site-packages\\joblib\\_parallel_backends.py\u001b[0m in \u001b[0;36mapply_async\u001b[1;34m(self, func, callback)\u001b[0m\n\u001b[0;32m    199\u001b[0m     \u001b[1;32mdef\u001b[0m \u001b[0mapply_async\u001b[0m\u001b[1;33m(\u001b[0m\u001b[0mself\u001b[0m\u001b[1;33m,\u001b[0m \u001b[0mfunc\u001b[0m\u001b[1;33m,\u001b[0m \u001b[0mcallback\u001b[0m\u001b[1;33m=\u001b[0m\u001b[1;32mNone\u001b[0m\u001b[1;33m)\u001b[0m\u001b[1;33m:\u001b[0m\u001b[1;33m\u001b[0m\u001b[1;33m\u001b[0m\u001b[0m\n\u001b[0;32m    200\u001b[0m         \u001b[1;34m\"\"\"Schedule a func to be run\"\"\"\u001b[0m\u001b[1;33m\u001b[0m\u001b[1;33m\u001b[0m\u001b[0m\n\u001b[1;32m--> 201\u001b[1;33m         \u001b[0mresult\u001b[0m \u001b[1;33m=\u001b[0m \u001b[0mImmediateResult\u001b[0m\u001b[1;33m(\u001b[0m\u001b[0mfunc\u001b[0m\u001b[1;33m)\u001b[0m\u001b[1;33m\u001b[0m\u001b[1;33m\u001b[0m\u001b[0m\n\u001b[0m\u001b[0;32m    202\u001b[0m         \u001b[1;32mif\u001b[0m \u001b[0mcallback\u001b[0m\u001b[1;33m:\u001b[0m\u001b[1;33m\u001b[0m\u001b[1;33m\u001b[0m\u001b[0m\n\u001b[0;32m    203\u001b[0m             \u001b[0mcallback\u001b[0m\u001b[1;33m(\u001b[0m\u001b[0mresult\u001b[0m\u001b[1;33m)\u001b[0m\u001b[1;33m\u001b[0m\u001b[1;33m\u001b[0m\u001b[0m\n",
      "\u001b[1;32m~\\Anaconda3\\lib\\site-packages\\joblib\\_parallel_backends.py\u001b[0m in \u001b[0;36m__init__\u001b[1;34m(self, batch)\u001b[0m\n\u001b[0;32m    580\u001b[0m         \u001b[1;31m# Don't delay the application, to avoid keeping the input\u001b[0m\u001b[1;33m\u001b[0m\u001b[1;33m\u001b[0m\u001b[1;33m\u001b[0m\u001b[0m\n\u001b[0;32m    581\u001b[0m         \u001b[1;31m# arguments in memory\u001b[0m\u001b[1;33m\u001b[0m\u001b[1;33m\u001b[0m\u001b[1;33m\u001b[0m\u001b[0m\n\u001b[1;32m--> 582\u001b[1;33m         \u001b[0mself\u001b[0m\u001b[1;33m.\u001b[0m\u001b[0mresults\u001b[0m \u001b[1;33m=\u001b[0m \u001b[0mbatch\u001b[0m\u001b[1;33m(\u001b[0m\u001b[1;33m)\u001b[0m\u001b[1;33m\u001b[0m\u001b[1;33m\u001b[0m\u001b[0m\n\u001b[0m\u001b[0;32m    583\u001b[0m \u001b[1;33m\u001b[0m\u001b[0m\n\u001b[0;32m    584\u001b[0m     \u001b[1;32mdef\u001b[0m \u001b[0mget\u001b[0m\u001b[1;33m(\u001b[0m\u001b[0mself\u001b[0m\u001b[1;33m)\u001b[0m\u001b[1;33m:\u001b[0m\u001b[1;33m\u001b[0m\u001b[1;33m\u001b[0m\u001b[0m\n",
      "\u001b[1;32m~\\Anaconda3\\lib\\site-packages\\joblib\\parallel.py\u001b[0m in \u001b[0;36m__call__\u001b[1;34m(self)\u001b[0m\n\u001b[0;32m    254\u001b[0m         \u001b[1;32mwith\u001b[0m \u001b[0mparallel_backend\u001b[0m\u001b[1;33m(\u001b[0m\u001b[0mself\u001b[0m\u001b[1;33m.\u001b[0m\u001b[0m_backend\u001b[0m\u001b[1;33m,\u001b[0m \u001b[0mn_jobs\u001b[0m\u001b[1;33m=\u001b[0m\u001b[0mself\u001b[0m\u001b[1;33m.\u001b[0m\u001b[0m_n_jobs\u001b[0m\u001b[1;33m)\u001b[0m\u001b[1;33m:\u001b[0m\u001b[1;33m\u001b[0m\u001b[1;33m\u001b[0m\u001b[0m\n\u001b[0;32m    255\u001b[0m             return [func(*args, **kwargs)\n\u001b[1;32m--> 256\u001b[1;33m                     for func, args, kwargs in self.items]\n\u001b[0m\u001b[0;32m    257\u001b[0m \u001b[1;33m\u001b[0m\u001b[0m\n\u001b[0;32m    258\u001b[0m     \u001b[1;32mdef\u001b[0m \u001b[0m__len__\u001b[0m\u001b[1;33m(\u001b[0m\u001b[0mself\u001b[0m\u001b[1;33m)\u001b[0m\u001b[1;33m:\u001b[0m\u001b[1;33m\u001b[0m\u001b[1;33m\u001b[0m\u001b[0m\n",
      "\u001b[1;32m~\\Anaconda3\\lib\\site-packages\\joblib\\parallel.py\u001b[0m in \u001b[0;36m<listcomp>\u001b[1;34m(.0)\u001b[0m\n\u001b[0;32m    254\u001b[0m         \u001b[1;32mwith\u001b[0m \u001b[0mparallel_backend\u001b[0m\u001b[1;33m(\u001b[0m\u001b[0mself\u001b[0m\u001b[1;33m.\u001b[0m\u001b[0m_backend\u001b[0m\u001b[1;33m,\u001b[0m \u001b[0mn_jobs\u001b[0m\u001b[1;33m=\u001b[0m\u001b[0mself\u001b[0m\u001b[1;33m.\u001b[0m\u001b[0m_n_jobs\u001b[0m\u001b[1;33m)\u001b[0m\u001b[1;33m:\u001b[0m\u001b[1;33m\u001b[0m\u001b[1;33m\u001b[0m\u001b[0m\n\u001b[0;32m    255\u001b[0m             return [func(*args, **kwargs)\n\u001b[1;32m--> 256\u001b[1;33m                     for func, args, kwargs in self.items]\n\u001b[0m\u001b[0;32m    257\u001b[0m \u001b[1;33m\u001b[0m\u001b[0m\n\u001b[0;32m    258\u001b[0m     \u001b[1;32mdef\u001b[0m \u001b[0m__len__\u001b[0m\u001b[1;33m(\u001b[0m\u001b[0mself\u001b[0m\u001b[1;33m)\u001b[0m\u001b[1;33m:\u001b[0m\u001b[1;33m\u001b[0m\u001b[1;33m\u001b[0m\u001b[0m\n",
      "\u001b[1;32m~\\Anaconda3\\lib\\site-packages\\sklearn\\model_selection\\_validation.py\u001b[0m in \u001b[0;36m_fit_and_score\u001b[1;34m(estimator, X, y, scorer, train, test, verbose, parameters, fit_params, return_train_score, return_parameters, return_n_test_samples, return_times, return_estimator, error_score)\u001b[0m\n\u001b[0;32m    514\u001b[0m             \u001b[0mestimator\u001b[0m\u001b[1;33m.\u001b[0m\u001b[0mfit\u001b[0m\u001b[1;33m(\u001b[0m\u001b[0mX_train\u001b[0m\u001b[1;33m,\u001b[0m \u001b[1;33m**\u001b[0m\u001b[0mfit_params\u001b[0m\u001b[1;33m)\u001b[0m\u001b[1;33m\u001b[0m\u001b[1;33m\u001b[0m\u001b[0m\n\u001b[0;32m    515\u001b[0m         \u001b[1;32melse\u001b[0m\u001b[1;33m:\u001b[0m\u001b[1;33m\u001b[0m\u001b[1;33m\u001b[0m\u001b[0m\n\u001b[1;32m--> 516\u001b[1;33m             \u001b[0mestimator\u001b[0m\u001b[1;33m.\u001b[0m\u001b[0mfit\u001b[0m\u001b[1;33m(\u001b[0m\u001b[0mX_train\u001b[0m\u001b[1;33m,\u001b[0m \u001b[0my_train\u001b[0m\u001b[1;33m,\u001b[0m \u001b[1;33m**\u001b[0m\u001b[0mfit_params\u001b[0m\u001b[1;33m)\u001b[0m\u001b[1;33m\u001b[0m\u001b[1;33m\u001b[0m\u001b[0m\n\u001b[0m\u001b[0;32m    517\u001b[0m \u001b[1;33m\u001b[0m\u001b[0m\n\u001b[0;32m    518\u001b[0m     \u001b[1;32mexcept\u001b[0m \u001b[0mException\u001b[0m \u001b[1;32mas\u001b[0m \u001b[0me\u001b[0m\u001b[1;33m:\u001b[0m\u001b[1;33m\u001b[0m\u001b[1;33m\u001b[0m\u001b[0m\n",
      "\u001b[1;32m<ipython-input-217-bdcc813450e2>\u001b[0m in \u001b[0;36mfit\u001b[1;34m(self, X, y)\u001b[0m\n\u001b[0;32m     17\u001b[0m                 \u001b[0minstance\u001b[0m \u001b[1;33m=\u001b[0m \u001b[0mclone\u001b[0m\u001b[1;33m(\u001b[0m\u001b[0mmodel\u001b[0m\u001b[1;33m)\u001b[0m\u001b[1;33m\u001b[0m\u001b[1;33m\u001b[0m\u001b[0m\n\u001b[0;32m     18\u001b[0m                 \u001b[0mself\u001b[0m\u001b[1;33m.\u001b[0m\u001b[0mbase_models_\u001b[0m\u001b[1;33m[\u001b[0m\u001b[0mi\u001b[0m\u001b[1;33m]\u001b[0m\u001b[1;33m.\u001b[0m\u001b[0mappend\u001b[0m\u001b[1;33m(\u001b[0m\u001b[0minstance\u001b[0m\u001b[1;33m)\u001b[0m\u001b[1;33m\u001b[0m\u001b[1;33m\u001b[0m\u001b[0m\n\u001b[1;32m---> 19\u001b[1;33m                 \u001b[0minstance\u001b[0m\u001b[1;33m.\u001b[0m\u001b[0mfit\u001b[0m\u001b[1;33m(\u001b[0m\u001b[0mX\u001b[0m\u001b[1;33m[\u001b[0m\u001b[0mtrain_index\u001b[0m\u001b[1;33m]\u001b[0m\u001b[1;33m,\u001b[0m \u001b[0my\u001b[0m\u001b[1;33m[\u001b[0m\u001b[0mtrain_index\u001b[0m\u001b[1;33m]\u001b[0m\u001b[1;33m)\u001b[0m\u001b[1;33m\u001b[0m\u001b[1;33m\u001b[0m\u001b[0m\n\u001b[0m\u001b[0;32m     20\u001b[0m                 \u001b[0my_pred\u001b[0m \u001b[1;33m=\u001b[0m \u001b[0minstance\u001b[0m\u001b[1;33m.\u001b[0m\u001b[0mpredict\u001b[0m\u001b[1;33m(\u001b[0m\u001b[0mX\u001b[0m\u001b[1;33m[\u001b[0m\u001b[0mholdout_index\u001b[0m\u001b[1;33m]\u001b[0m\u001b[1;33m)\u001b[0m\u001b[1;33m\u001b[0m\u001b[1;33m\u001b[0m\u001b[0m\n\u001b[0;32m     21\u001b[0m                 \u001b[0mout_of_fold_predictions\u001b[0m\u001b[1;33m[\u001b[0m\u001b[0mholdout_index\u001b[0m\u001b[1;33m,\u001b[0m \u001b[0mi\u001b[0m\u001b[1;33m]\u001b[0m \u001b[1;33m=\u001b[0m \u001b[0my_pred\u001b[0m\u001b[1;33m\u001b[0m\u001b[1;33m\u001b[0m\u001b[0m\n",
      "\u001b[1;32m~\\Anaconda3\\lib\\site-packages\\sklearn\\ensemble\\gradient_boosting.py\u001b[0m in \u001b[0;36mfit\u001b[1;34m(self, X, y, sample_weight, monitor)\u001b[0m\n\u001b[0;32m   1544\u001b[0m         n_stages = self._fit_stages(\n\u001b[0;32m   1545\u001b[0m             \u001b[0mX\u001b[0m\u001b[1;33m,\u001b[0m \u001b[0my\u001b[0m\u001b[1;33m,\u001b[0m \u001b[0mraw_predictions\u001b[0m\u001b[1;33m,\u001b[0m \u001b[0msample_weight\u001b[0m\u001b[1;33m,\u001b[0m \u001b[0mself\u001b[0m\u001b[1;33m.\u001b[0m\u001b[0m_rng\u001b[0m\u001b[1;33m,\u001b[0m \u001b[0mX_val\u001b[0m\u001b[1;33m,\u001b[0m \u001b[0my_val\u001b[0m\u001b[1;33m,\u001b[0m\u001b[1;33m\u001b[0m\u001b[1;33m\u001b[0m\u001b[0m\n\u001b[1;32m-> 1546\u001b[1;33m             sample_weight_val, begin_at_stage, monitor, X_idx_sorted)\n\u001b[0m\u001b[0;32m   1547\u001b[0m \u001b[1;33m\u001b[0m\u001b[0m\n\u001b[0;32m   1548\u001b[0m         \u001b[1;31m# change shape of arrays after fit (early-stopping or additional ests)\u001b[0m\u001b[1;33m\u001b[0m\u001b[1;33m\u001b[0m\u001b[1;33m\u001b[0m\u001b[0m\n",
      "\u001b[1;32m~\\Anaconda3\\lib\\site-packages\\sklearn\\ensemble\\gradient_boosting.py\u001b[0m in \u001b[0;36m_fit_stages\u001b[1;34m(self, X, y, raw_predictions, sample_weight, random_state, X_val, y_val, sample_weight_val, begin_at_stage, monitor, X_idx_sorted)\u001b[0m\n\u001b[0;32m   1608\u001b[0m             raw_predictions = self._fit_stage(\n\u001b[0;32m   1609\u001b[0m                 \u001b[0mi\u001b[0m\u001b[1;33m,\u001b[0m \u001b[0mX\u001b[0m\u001b[1;33m,\u001b[0m \u001b[0my\u001b[0m\u001b[1;33m,\u001b[0m \u001b[0mraw_predictions\u001b[0m\u001b[1;33m,\u001b[0m \u001b[0msample_weight\u001b[0m\u001b[1;33m,\u001b[0m \u001b[0msample_mask\u001b[0m\u001b[1;33m,\u001b[0m\u001b[1;33m\u001b[0m\u001b[1;33m\u001b[0m\u001b[0m\n\u001b[1;32m-> 1610\u001b[1;33m                 random_state, X_idx_sorted, X_csc, X_csr)\n\u001b[0m\u001b[0;32m   1611\u001b[0m \u001b[1;33m\u001b[0m\u001b[0m\n\u001b[0;32m   1612\u001b[0m             \u001b[1;31m# track deviance (= loss)\u001b[0m\u001b[1;33m\u001b[0m\u001b[1;33m\u001b[0m\u001b[1;33m\u001b[0m\u001b[0m\n",
      "\u001b[1;32m~\\Anaconda3\\lib\\site-packages\\sklearn\\ensemble\\gradient_boosting.py\u001b[0m in \u001b[0;36m_fit_stage\u001b[1;34m(self, i, X, y, raw_predictions, sample_weight, sample_mask, random_state, X_idx_sorted, X_csc, X_csr)\u001b[0m\n\u001b[0;32m   1247\u001b[0m             loss.update_terminal_regions(\n\u001b[0;32m   1248\u001b[0m                 \u001b[0mtree\u001b[0m\u001b[1;33m.\u001b[0m\u001b[0mtree_\u001b[0m\u001b[1;33m,\u001b[0m \u001b[0mX\u001b[0m\u001b[1;33m,\u001b[0m \u001b[0my\u001b[0m\u001b[1;33m,\u001b[0m \u001b[0mresidual\u001b[0m\u001b[1;33m,\u001b[0m \u001b[0mraw_predictions\u001b[0m\u001b[1;33m,\u001b[0m \u001b[0msample_weight\u001b[0m\u001b[1;33m,\u001b[0m\u001b[1;33m\u001b[0m\u001b[1;33m\u001b[0m\u001b[0m\n\u001b[1;32m-> 1249\u001b[1;33m                 sample_mask, learning_rate=self.learning_rate, k=k)\n\u001b[0m\u001b[0;32m   1250\u001b[0m \u001b[1;33m\u001b[0m\u001b[0m\n\u001b[0;32m   1251\u001b[0m             \u001b[1;31m# add tree to ensemble\u001b[0m\u001b[1;33m\u001b[0m\u001b[1;33m\u001b[0m\u001b[1;33m\u001b[0m\u001b[0m\n",
      "\u001b[1;32m~\\Anaconda3\\lib\\site-packages\\sklearn\\ensemble\\_gb_losses.py\u001b[0m in \u001b[0;36mupdate_terminal_regions\u001b[1;34m(self, tree, X, y, residual, raw_predictions, sample_weight, sample_mask, learning_rate, k)\u001b[0m\n\u001b[0;32m    113\u001b[0m             self._update_terminal_region(tree, masked_terminal_regions,\n\u001b[0;32m    114\u001b[0m                                          \u001b[0mleaf\u001b[0m\u001b[1;33m,\u001b[0m \u001b[0mX\u001b[0m\u001b[1;33m,\u001b[0m \u001b[0my\u001b[0m\u001b[1;33m,\u001b[0m \u001b[0mresidual\u001b[0m\u001b[1;33m,\u001b[0m\u001b[1;33m\u001b[0m\u001b[1;33m\u001b[0m\u001b[0m\n\u001b[1;32m--> 115\u001b[1;33m                                          raw_predictions[:, k], sample_weight)\n\u001b[0m\u001b[0;32m    116\u001b[0m \u001b[1;33m\u001b[0m\u001b[0m\n\u001b[0;32m    117\u001b[0m         \u001b[1;31m# update predictions (both in-bag and out-of-bag)\u001b[0m\u001b[1;33m\u001b[0m\u001b[1;33m\u001b[0m\u001b[1;33m\u001b[0m\u001b[0m\n",
      "\u001b[1;32m~\\Anaconda3\\lib\\site-packages\\sklearn\\ensemble\\_gb_losses.py\u001b[0m in \u001b[0;36m_update_terminal_region\u001b[1;34m(self, tree, terminal_regions, leaf, X, y, residual, raw_predictions, sample_weight)\u001b[0m\n\u001b[0;32m    421\u001b[0m     def _update_terminal_region(self, tree, terminal_regions, leaf, X, y,\n\u001b[0;32m    422\u001b[0m                                 residual, raw_predictions, sample_weight):\n\u001b[1;32m--> 423\u001b[1;33m         \u001b[0mterminal_region\u001b[0m \u001b[1;33m=\u001b[0m \u001b[0mnp\u001b[0m\u001b[1;33m.\u001b[0m\u001b[0mwhere\u001b[0m\u001b[1;33m(\u001b[0m\u001b[0mterminal_regions\u001b[0m \u001b[1;33m==\u001b[0m \u001b[0mleaf\u001b[0m\u001b[1;33m)\u001b[0m\u001b[1;33m[\u001b[0m\u001b[1;36m0\u001b[0m\u001b[1;33m]\u001b[0m\u001b[1;33m\u001b[0m\u001b[1;33m\u001b[0m\u001b[0m\n\u001b[0m\u001b[0;32m    424\u001b[0m         \u001b[0msample_weight\u001b[0m \u001b[1;33m=\u001b[0m \u001b[0msample_weight\u001b[0m\u001b[1;33m.\u001b[0m\u001b[0mtake\u001b[0m\u001b[1;33m(\u001b[0m\u001b[0mterminal_region\u001b[0m\u001b[1;33m,\u001b[0m \u001b[0maxis\u001b[0m\u001b[1;33m=\u001b[0m\u001b[1;36m0\u001b[0m\u001b[1;33m)\u001b[0m\u001b[1;33m\u001b[0m\u001b[1;33m\u001b[0m\u001b[0m\n\u001b[0;32m    425\u001b[0m         \u001b[0mgamma\u001b[0m \u001b[1;33m=\u001b[0m \u001b[0mself\u001b[0m\u001b[1;33m.\u001b[0m\u001b[0mgamma\u001b[0m\u001b[1;33m\u001b[0m\u001b[1;33m\u001b[0m\u001b[0m\n",
      "\u001b[1;31mKeyboardInterrupt\u001b[0m: "
     ]
    }
   ],
   "source": [
    "stacked_averaged_models = StackingAveragedModels(base_models = (ENet, GBoost, KRR),\n",
    "                                                 meta_model = lasso)\n",
    "\n",
    "score = mae_cv(stacked_averaged_models)\n",
    "print(\"Stacking Averaged models score: {:.4f} ({:.4f})\".format(score.mean(), score.std()))"
   ]
  },
  {
   "cell_type": "code",
   "execution_count": null,
   "metadata": {},
   "outputs": [],
   "source": [
    "def mae(y, y_pred):\n",
    "    return np.sqrt(mean_absolute_error(y, y_pred))"
   ]
  },
  {
   "cell_type": "code",
   "execution_count": null,
   "metadata": {},
   "outputs": [],
   "source": [
    "#StackedRegressor:\n",
    "stacked_averaged_models.fit(train, target)\n",
    "stacked_train_pred = stacked_averaged_models.predict(train)\n",
    "stacked_pred = np.expm1(stacked_averaged_models.predict(test))\n",
    "print(mae(target, stacked_train_pred))"
   ]
  },
  {
   "cell_type": "code",
   "execution_count": null,
   "metadata": {},
   "outputs": [],
   "source": [
    "#XGBoost:\n",
    "model_xgb.fit(train, target)\n",
    "xgb_train_pred = model_xgb.predict(train)\n",
    "xgb_pred = np.expm1(model_xgb.predict(test))\n",
    "print(mae(target, xgb_train_pred))"
   ]
  },
  {
   "cell_type": "code",
   "execution_count": null,
   "metadata": {},
   "outputs": [],
   "source": [
    "#LightGBM:\n",
    "model_lgb.fit(train, target)\n",
    "lgb_train_pred = model_lgb.predict(train)\n",
    "lgb_pred = np.expm1(model_lgb.predict(test))\n",
    "print(mae(target, lgb_train_pred))"
   ]
  },
  {
   "cell_type": "code",
   "execution_count": null,
   "metadata": {},
   "outputs": [],
   "source": [
    "'''RMSE on the entire Train data when averaging'''\n",
    "\n",
    "print('訓練集上的mae得分:')\n",
    "print(mae(target,stacked_train_pred*0.70 +\n",
    "               xgb_train_pred*0.15  + lgb_train_pred*0.15 ))"
   ]
  },
  {
   "cell_type": "markdown",
   "metadata": {},
   "source": [
    "#### 將三者進行融合，然後得到Ensemble prediction："
   ]
  },
  {
   "cell_type": "code",
   "execution_count": null,
   "metadata": {},
   "outputs": [],
   "source": [
    "ensemble = stacked_pred*0.70 + xgb_pred*0.15 + lgb_pred*0.15"
   ]
  },
  {
   "cell_type": "code",
   "execution_count": null,
   "metadata": {},
   "outputs": [],
   "source": [
    "ensemble.shape"
   ]
  },
  {
   "cell_type": "code",
   "execution_count": null,
   "metadata": {},
   "outputs": [],
   "source": [
    "test_ID.shape"
   ]
  },
  {
   "cell_type": "code",
   "execution_count": null,
   "metadata": {},
   "outputs": [],
   "source": [
    "sub = pd.DataFrame()\n",
    "\n",
    "sub['id'] = test_ID\n",
    "sub['salary_next_year'] = ensemble\n",
    "sub.to_csv('submission14.csv',index=False)"
   ]
  },
  {
   "cell_type": "code",
   "execution_count": null,
   "metadata": {},
   "outputs": [],
   "source": []
  }
 ],
 "metadata": {
  "kernelspec": {
   "display_name": "Python 3",
   "language": "python",
   "name": "python3"
  },
  "language_info": {
   "codemirror_mode": {
    "name": "ipython",
    "version": 3
   },
   "file_extension": ".py",
   "mimetype": "text/x-python",
   "name": "python",
   "nbconvert_exporter": "python",
   "pygments_lexer": "ipython3",
   "version": "3.7.1"
  }
 },
 "nbformat": 4,
 "nbformat_minor": 2
}
