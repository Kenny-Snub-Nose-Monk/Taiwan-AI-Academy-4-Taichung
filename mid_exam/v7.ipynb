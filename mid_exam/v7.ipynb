{
 "cells": [
  {
   "cell_type": "code",
   "execution_count": 175,
   "metadata": {},
   "outputs": [],
   "source": [
    "import numpy as np\n",
    "import pandas as pd\n",
    "%matplotlib inline\n",
    "import matplotlib.pyplot as plt\n",
    "import seaborn as sns\n",
    "color = sns.color_palette()\n",
    "sns.set_style('darkgrid')\n",
    "import warnings\n",
    "def ignore_warn(*args, **kwargs):\n",
    "    pass\n",
    "\n",
    "warnings.warn = ignore_warn\n",
    "\n",
    "from scipy import stats\n",
    "from scipy.stats import norm, skew\n",
    "\n",
    "pd.set_option('display.float_format',lambda x:'{:.3f}'.format(x))"
   ]
  },
  {
   "cell_type": "code",
   "execution_count": 176,
   "metadata": {},
   "outputs": [],
   "source": [
    "train_data = pd.read_csv('train.csv')\n",
    "test_data = pd.read_csv('test.csv')"
   ]
  },
  {
   "cell_type": "code",
   "execution_count": 177,
   "metadata": {},
   "outputs": [
    {
     "name": "stdout",
     "output_type": "stream",
     "text": [
      "訓練資料集的維度 (6284, 31)\n",
      "測試資料集的維度 (1109, 30)\n"
     ]
    }
   ],
   "source": [
    "train_ID =  train_data['id']\n",
    "test_ID = test_data['id']\n",
    "\n",
    "train_data.drop(['id'], axis = 1,inplace = True)\n",
    "test_data.drop(['id'], axis = 1, inplace = True)\n",
    "\n",
    "print(\"訓練資料集的維度\",train_data.shape)\n",
    "print(\"測試資料集的維度\",test_data.shape)"
   ]
  },
  {
   "cell_type": "code",
   "execution_count": 178,
   "metadata": {},
   "outputs": [
    {
     "name": "stdout",
     "output_type": "stream",
     "text": [
      "全部數據集的維度 (7393, 31)\n"
     ]
    }
   ],
   "source": [
    "ntrain = train_data.shape[0] \n",
    "ntest = test_data.shape[0] #方便之後 訓練時資料切割\n",
    "y_train = train_data.salary_next_year.values\n",
    "\n",
    "all_data = pd.concat([train_data,test_data], ignore_index=True)\n",
    "#all_data.drop(['salary_next_year'],axis = 1, inplace = True)\n",
    "\n",
    "print(\"全部數據集的維度\",all_data.shape)"
   ]
  },
  {
   "cell_type": "markdown",
   "metadata": {},
   "source": [
    "# 以下一年的salary 當作feature"
   ]
  },
  {
   "cell_type": "code",
   "execution_count": 179,
   "metadata": {},
   "outputs": [],
   "source": [
    "all_data = all_data.sort_values(by = 'yearID')"
   ]
  },
  {
   "cell_type": "code",
   "execution_count": 180,
   "metadata": {
    "scrolled": true
   },
   "outputs": [],
   "source": [
    "all_data['last_year_salary'] = all_data.groupby('playerID')['salary_next_year'].apply(lambda i:i.shift(1)).fillna(method='ffill')\n",
    "all_data['last_year_salary'] = all_data['last_year_salary'].fillna(method='bfill')"
   ]
  },
  {
   "cell_type": "code",
   "execution_count": 181,
   "metadata": {},
   "outputs": [
    {
     "data": {
      "text/html": [
       "<div>\n",
       "<style scoped>\n",
       "    .dataframe tbody tr th:only-of-type {\n",
       "        vertical-align: middle;\n",
       "    }\n",
       "\n",
       "    .dataframe tbody tr th {\n",
       "        vertical-align: top;\n",
       "    }\n",
       "\n",
       "    .dataframe thead th {\n",
       "        text-align: right;\n",
       "    }\n",
       "</style>\n",
       "<table border=\"1\" class=\"dataframe\">\n",
       "  <thead>\n",
       "    <tr style=\"text-align: right;\">\n",
       "      <th></th>\n",
       "      <th>last_year_salary</th>\n",
       "      <th>salary_next_year</th>\n",
       "    </tr>\n",
       "  </thead>\n",
       "  <tbody>\n",
       "    <tr>\n",
       "      <th>5308</th>\n",
       "      <td>350000.000</td>\n",
       "      <td>662500.000</td>\n",
       "    </tr>\n",
       "    <tr>\n",
       "      <th>530</th>\n",
       "      <td>662500.000</td>\n",
       "      <td>662500.000</td>\n",
       "    </tr>\n",
       "    <tr>\n",
       "      <th>1022</th>\n",
       "      <td>662500.000</td>\n",
       "      <td>1100000.000</td>\n",
       "    </tr>\n",
       "    <tr>\n",
       "      <th>6947</th>\n",
       "      <td>1100000.000</td>\n",
       "      <td>nan</td>\n",
       "    </tr>\n",
       "    <tr>\n",
       "      <th>3679</th>\n",
       "      <td>377500.000</td>\n",
       "      <td>1100000.000</td>\n",
       "    </tr>\n",
       "    <tr>\n",
       "      <th>3453</th>\n",
       "      <td>1100000.000</td>\n",
       "      <td>1900000.000</td>\n",
       "    </tr>\n",
       "    <tr>\n",
       "      <th>2364</th>\n",
       "      <td>1900000.000</td>\n",
       "      <td>1700000.000</td>\n",
       "    </tr>\n",
       "    <tr>\n",
       "      <th>1178</th>\n",
       "      <td>1700000.000</td>\n",
       "      <td>1500000.000</td>\n",
       "    </tr>\n",
       "  </tbody>\n",
       "</table>\n",
       "</div>"
      ],
      "text/plain": [
       "      last_year_salary  salary_next_year\n",
       "5308        350000.000        662500.000\n",
       "530         662500.000        662500.000\n",
       "1022        662500.000       1100000.000\n",
       "6947       1100000.000               nan\n",
       "3679        377500.000       1100000.000\n",
       "3453       1100000.000       1900000.000\n",
       "2364       1900000.000       1700000.000\n",
       "1178       1700000.000       1500000.000"
      ]
     },
     "execution_count": 181,
     "metadata": {},
     "output_type": "execute_result"
    }
   ],
   "source": [
    "all_data[['last_year_salary','salary_next_year']].loc[all_data['playerID'] == 'tananfr01']"
   ]
  },
  {
   "cell_type": "code",
   "execution_count": 182,
   "metadata": {},
   "outputs": [],
   "source": [
    "all_data['salary_diff'] = all_data.groupby('playerID')['salary_next_year'].apply(lambda i:i.diff(1)).fillna(method= 'ffill')\n",
    "all_data['salary_diff'] = all_data['salary_diff'].fillna(method='bfill')"
   ]
  },
  {
   "cell_type": "code",
   "execution_count": 183,
   "metadata": {},
   "outputs": [],
   "source": [
    "all_data = all_data.sort_index()"
   ]
  },
  {
   "cell_type": "code",
   "execution_count": 184,
   "metadata": {},
   "outputs": [],
   "source": [
    "#all_data.drop(['salary_next_year'],axis = 1, inplace = True)"
   ]
  },
  {
   "cell_type": "markdown",
   "metadata": {},
   "source": [
    "# 補年資的特徵"
   ]
  },
  {
   "cell_type": "code",
   "execution_count": 185,
   "metadata": {},
   "outputs": [],
   "source": [
    "all_data['Seniority'] = all_data.groupby('playerID')['yearID'].transform(lambda x: x - x.min()+1)"
   ]
  },
  {
   "cell_type": "code",
   "execution_count": 186,
   "metadata": {},
   "outputs": [],
   "source": [
    "bin=[0,6,11,16,17,20,24,26]\n",
    "all_data['Seniority'] = pd.cut(all_data['Seniority'],bin)"
   ]
  },
  {
   "cell_type": "code",
   "execution_count": 187,
   "metadata": {},
   "outputs": [],
   "source": [
    "all_data['Seniority'] =all_data['Seniority'].astype('str')"
   ]
  },
  {
   "cell_type": "code",
   "execution_count": 188,
   "metadata": {},
   "outputs": [
    {
     "data": {
      "text/plain": [
       "(0, 6]      5260\n",
       "(6, 11]     1647\n",
       "(11, 16]     420\n",
       "(17, 20]      35\n",
       "(16, 17]      25\n",
       "(20, 24]       5\n",
       "(24, 26]       1\n",
       "Name: Seniority, dtype: int64"
      ]
     },
     "execution_count": 188,
     "metadata": {},
     "output_type": "execute_result"
    }
   ],
   "source": [
    "all_data['Seniority'].value_counts()"
   ]
  },
  {
   "cell_type": "code",
   "execution_count": 189,
   "metadata": {},
   "outputs": [],
   "source": [
    "all_data['Seniority'] = all_data['Seniority'].apply(lambda x : 4 if x  == '(0, 6]' else x)\n",
    "all_data['Seniority'] = all_data['Seniority'].apply(lambda x : 2 if x  == '(6, 11]' else x)\n",
    "all_data['Seniority'] = all_data['Seniority'].apply(lambda x : 1 if x  == '(11, 16]' else x)\n",
    "all_data['Seniority'] = all_data['Seniority'].apply(lambda x : -1 if x  == '(17, 20]' else x)\n",
    "all_data['Seniority'] = all_data['Seniority'].apply(lambda x : 2 if x  == '(16, 17]' else x)\n",
    "all_data['Seniority'] = all_data['Seniority'].apply(lambda x : 3 if x  == '(20, 24]' else x)\n",
    "all_data['Seniority'] = all_data['Seniority'].apply(lambda x : -1 if x  == '(24, 26]' else x)"
   ]
  },
  {
   "cell_type": "markdown",
   "metadata": {},
   "source": [
    "# 將年份轉變為1985為1 以此後推"
   ]
  },
  {
   "cell_type": "code",
   "execution_count": 190,
   "metadata": {},
   "outputs": [],
   "source": [
    "all_data['player_age'] = all_data['yearID'] - 1984"
   ]
  },
  {
   "cell_type": "markdown",
   "metadata": {},
   "source": [
    "# one-hotencoding"
   ]
  },
  {
   "cell_type": "code",
   "execution_count": 191,
   "metadata": {},
   "outputs": [],
   "source": [
    "lgID = pd.get_dummies(all_data['lgID'],prefix= 'lgID_')#做one-hotecoding\n",
    "all_data = pd.concat([all_data,lgID],axis=1, join_axes=[all_data.index])\n",
    "all_data.drop(['lgID'],axis = 1,inplace = True)\n",
    "\n",
    "teamID = pd.get_dummies(all_data['teamID'],prefix= 'team_')#做one-hotecoding\n",
    "all_data = pd.concat([all_data,teamID],axis=1, join_axes=[all_data.index])\n",
    "all_data.drop(['teamID'],axis = 1,inplace = True)"
   ]
  },
  {
   "cell_type": "markdown",
   "metadata": {},
   "source": [
    "# 訓練模型"
   ]
  },
  {
   "cell_type": "code",
   "execution_count": 192,
   "metadata": {},
   "outputs": [],
   "source": [
    "all_data.drop(['SH','SF','GIDP','stint'], axis = 1, inplace = True) #刪除掉完全沒有值的資料欄位"
   ]
  },
  {
   "cell_type": "markdown",
   "metadata": {},
   "source": [
    "# 填補缺失值"
   ]
  },
  {
   "cell_type": "code",
   "execution_count": 193,
   "metadata": {},
   "outputs": [],
   "source": [
    "all_data['WP'].fillna(value=all_data['WP'].mean(), inplace=True)\n",
    "all_data['IBB'].fillna(value=all_data['IBB'].mean(), inplace=True)\n",
    "all_data['HBP'].fillna(value=all_data['HBP'].mean(), inplace=True)\n",
    "all_data['BK'].fillna(value=all_data['BK'].mean(), inplace=True)  "
   ]
  },
  {
   "cell_type": "code",
   "execution_count": 194,
   "metadata": {},
   "outputs": [],
   "source": [
    "all_data['BAOpp'].fillna(0,inplace = True)"
   ]
  },
  {
   "cell_type": "code",
   "execution_count": 195,
   "metadata": {
    "scrolled": true
   },
   "outputs": [
    {
     "name": "stdout",
     "output_type": "stream",
     "text": [
      "<class 'pandas.core.frame.DataFrame'>\n",
      "Int64Index: 7393 entries, 0 to 7392\n",
      "Data columns (total 65 columns):\n",
      "BAOpp               7393 non-null float64\n",
      "BB                  7393 non-null int64\n",
      "BFP                 7393 non-null float64\n",
      "BK                  7393 non-null float64\n",
      "CG                  7393 non-null int64\n",
      "ER                  7393 non-null int64\n",
      "ERA                 7393 non-null float64\n",
      "G                   7393 non-null int64\n",
      "GF                  7393 non-null float64\n",
      "GS                  7393 non-null int64\n",
      "H                   7393 non-null int64\n",
      "HBP                 7393 non-null float64\n",
      "HR                  7393 non-null int64\n",
      "IBB                 7393 non-null float64\n",
      "IPouts              7393 non-null int64\n",
      "L                   7393 non-null int64\n",
      "R                   7393 non-null int64\n",
      "SHO                 7393 non-null int64\n",
      "SO                  7393 non-null int64\n",
      "SV                  7393 non-null int64\n",
      "W                   7393 non-null int64\n",
      "WP                  7393 non-null float64\n",
      "playerID            7393 non-null object\n",
      "salary_next_year    6284 non-null float64\n",
      "yearID              7393 non-null int64\n",
      "last_year_salary    7393 non-null float64\n",
      "salary_diff         7393 non-null float64\n",
      "Seniority           7393 non-null int64\n",
      "player_age          7393 non-null int64\n",
      "lgID__AL            7393 non-null uint8\n",
      "lgID__NL            7393 non-null uint8\n",
      "team__ANA           7393 non-null uint8\n",
      "team__ARI           7393 non-null uint8\n",
      "team__ATL           7393 non-null uint8\n",
      "team__BAL           7393 non-null uint8\n",
      "team__BOS           7393 non-null uint8\n",
      "team__CAL           7393 non-null uint8\n",
      "team__CHA           7393 non-null uint8\n",
      "team__CHN           7393 non-null uint8\n",
      "team__CIN           7393 non-null uint8\n",
      "team__CLE           7393 non-null uint8\n",
      "team__COL           7393 non-null uint8\n",
      "team__DET           7393 non-null uint8\n",
      "team__FLO           7393 non-null uint8\n",
      "team__HOU           7393 non-null uint8\n",
      "team__KCA           7393 non-null uint8\n",
      "team__LAA           7393 non-null uint8\n",
      "team__LAN           7393 non-null uint8\n",
      "team__MIL           7393 non-null uint8\n",
      "team__MIN           7393 non-null uint8\n",
      "team__ML4           7393 non-null uint8\n",
      "team__MON           7393 non-null uint8\n",
      "team__NYA           7393 non-null uint8\n",
      "team__NYN           7393 non-null uint8\n",
      "team__OAK           7393 non-null uint8\n",
      "team__PHI           7393 non-null uint8\n",
      "team__PIT           7393 non-null uint8\n",
      "team__SDN           7393 non-null uint8\n",
      "team__SEA           7393 non-null uint8\n",
      "team__SFN           7393 non-null uint8\n",
      "team__SLN           7393 non-null uint8\n",
      "team__TBA           7393 non-null uint8\n",
      "team__TEX           7393 non-null uint8\n",
      "team__TOR           7393 non-null uint8\n",
      "team__WAS           7393 non-null uint8\n",
      "dtypes: float64(11), int64(17), object(1), uint8(36)\n",
      "memory usage: 1.9+ MB\n"
     ]
    }
   ],
   "source": [
    "all_data.info()"
   ]
  },
  {
   "cell_type": "code",
   "execution_count": 196,
   "metadata": {},
   "outputs": [
    {
     "data": {
      "text/plain": [
       "Index(['BAOpp', 'BB', 'BFP', 'BK', 'CG', 'ER', 'ERA', 'G', 'GF', 'GS', 'H',\n",
       "       'HBP', 'HR', 'IBB', 'IPouts', 'L', 'R', 'SHO', 'SO', 'SV', 'W', 'WP',\n",
       "       'playerID', 'salary_next_year', 'yearID', 'last_year_salary',\n",
       "       'salary_diff', 'Seniority', 'player_age', 'lgID__AL', 'lgID__NL',\n",
       "       'team__ANA', 'team__ARI', 'team__ATL', 'team__BAL', 'team__BOS',\n",
       "       'team__CAL', 'team__CHA', 'team__CHN', 'team__CIN', 'team__CLE',\n",
       "       'team__COL', 'team__DET', 'team__FLO', 'team__HOU', 'team__KCA',\n",
       "       'team__LAA', 'team__LAN', 'team__MIL', 'team__MIN', 'team__ML4',\n",
       "       'team__MON', 'team__NYA', 'team__NYN', 'team__OAK', 'team__PHI',\n",
       "       'team__PIT', 'team__SDN', 'team__SEA', 'team__SFN', 'team__SLN',\n",
       "       'team__TBA', 'team__TEX', 'team__TOR', 'team__WAS'],\n",
       "      dtype='object')"
      ]
     },
     "execution_count": 196,
     "metadata": {},
     "output_type": "execute_result"
    }
   ],
   "source": [
    "all_data.columns"
   ]
  },
  {
   "cell_type": "code",
   "execution_count": 197,
   "metadata": {},
   "outputs": [],
   "source": [
    "#all_data.drop(['salary_next_year'],axis =1, inplace = True)"
   ]
  },
  {
   "cell_type": "code",
   "execution_count": 198,
   "metadata": {},
   "outputs": [],
   "source": [
    "all_data.drop(['playerID'],axis =1,inplace = True)"
   ]
  },
  {
   "cell_type": "code",
   "execution_count": 199,
   "metadata": {},
   "outputs": [],
   "source": [
    "train = all_data[:ntrain]\n",
    "test = all_data[ntrain:]"
   ]
  },
  {
   "cell_type": "markdown",
   "metadata": {},
   "source": [
    "# 訓練模型"
   ]
  },
  {
   "cell_type": "code",
   "execution_count": 203,
   "metadata": {},
   "outputs": [
    {
     "ename": "RuntimeError",
     "evalue": "context has already been set",
     "output_type": "error",
     "traceback": [
      "\u001b[1;31m---------------------------------------------------------------------------\u001b[0m",
      "\u001b[1;31mRuntimeError\u001b[0m                              Traceback (most recent call last)",
      "\u001b[1;32m<ipython-input-203-e9dd76b36771>\u001b[0m in \u001b[0;36m<module>\u001b[1;34m\u001b[0m\n\u001b[0;32m      7\u001b[0m         raise ImportError(\"Unable to import multiprocessing.set_start_method.\"\n\u001b[0;32m      8\u001b[0m                           \" This example only runs on Python 3.4\")\n\u001b[1;32m----> 9\u001b[1;33m     \u001b[0mset_start_method\u001b[0m\u001b[1;33m(\u001b[0m\u001b[1;34m\"forkserver\"\u001b[0m\u001b[1;33m)\u001b[0m\u001b[1;33m\u001b[0m\u001b[1;33m\u001b[0m\u001b[0m\n\u001b[0m\u001b[0;32m     10\u001b[0m \u001b[1;33m\u001b[0m\u001b[0m\n\u001b[0;32m     11\u001b[0m \u001b[1;33m\u001b[0m\u001b[0m\n",
      "\u001b[1;32m~\\Anaconda3\\lib\\multiprocessing\\context.py\u001b[0m in \u001b[0;36mset_start_method\u001b[1;34m(self, method, force)\u001b[0m\n\u001b[0;32m    240\u001b[0m     \u001b[1;32mdef\u001b[0m \u001b[0mset_start_method\u001b[0m\u001b[1;33m(\u001b[0m\u001b[0mself\u001b[0m\u001b[1;33m,\u001b[0m \u001b[0mmethod\u001b[0m\u001b[1;33m,\u001b[0m \u001b[0mforce\u001b[0m\u001b[1;33m=\u001b[0m\u001b[1;32mFalse\u001b[0m\u001b[1;33m)\u001b[0m\u001b[1;33m:\u001b[0m\u001b[1;33m\u001b[0m\u001b[1;33m\u001b[0m\u001b[0m\n\u001b[0;32m    241\u001b[0m         \u001b[1;32mif\u001b[0m \u001b[0mself\u001b[0m\u001b[1;33m.\u001b[0m\u001b[0m_actual_context\u001b[0m \u001b[1;32mis\u001b[0m \u001b[1;32mnot\u001b[0m \u001b[1;32mNone\u001b[0m \u001b[1;32mand\u001b[0m \u001b[1;32mnot\u001b[0m \u001b[0mforce\u001b[0m\u001b[1;33m:\u001b[0m\u001b[1;33m\u001b[0m\u001b[1;33m\u001b[0m\u001b[0m\n\u001b[1;32m--> 242\u001b[1;33m             \u001b[1;32mraise\u001b[0m \u001b[0mRuntimeError\u001b[0m\u001b[1;33m(\u001b[0m\u001b[1;34m'context has already been set'\u001b[0m\u001b[1;33m)\u001b[0m\u001b[1;33m\u001b[0m\u001b[1;33m\u001b[0m\u001b[0m\n\u001b[0m\u001b[0;32m    243\u001b[0m         \u001b[1;32mif\u001b[0m \u001b[0mmethod\u001b[0m \u001b[1;32mis\u001b[0m \u001b[1;32mNone\u001b[0m \u001b[1;32mand\u001b[0m \u001b[0mforce\u001b[0m\u001b[1;33m:\u001b[0m\u001b[1;33m\u001b[0m\u001b[1;33m\u001b[0m\u001b[0m\n\u001b[0;32m    244\u001b[0m             \u001b[0mself\u001b[0m\u001b[1;33m.\u001b[0m\u001b[0m_actual_context\u001b[0m \u001b[1;33m=\u001b[0m \u001b[1;32mNone\u001b[0m\u001b[1;33m\u001b[0m\u001b[1;33m\u001b[0m\u001b[0m\n",
      "\u001b[1;31mRuntimeError\u001b[0m: context has already been set"
     ]
    }
   ],
   "source": [
    "import os\n",
    "\n",
    "if __name__ == \"__main__\":\n",
    "    try:\n",
    "        from multiprocessing import set_start_method\n",
    "    except ImportError:\n",
    "        raise ImportError(\"Unable to import multiprocessing.set_start_method.\"\n",
    "                          \" This example only runs on Python 3.4\")\n",
    "    set_start_method(\"forkserver\")\n",
    "\n",
    "\n",
    "\n",
    "    rng = np.random.RandomState(31337)\n",
    "\n",
    "    print(\"Parallel Parameter optimization\")\n",
    "\n",
    "\n",
    "    os.environ[\"OMP_NUM_THREADS\"] = \"2\"  # or to whatever you want\n",
    "\n",
    "    xgb_model = xgb.XGBRegressor()\n",
    "    clf = GridSearchCV(xgb_model, parameters = {'colsample_bytree':[0.4603], #when use hyperthread, xgboost may become slower\n",
    "              'gamma':[0.0468],\n",
    "              'learning_rate': [.03, 0.05, .07], #so called `eta` value\n",
    "              'max_depth': [3,5, 6, 7],\n",
    "              'min_child_weight': [1.7817,2,4],\n",
    "              'reg_alpha' : [0.4640],\n",
    "              'silent': [1,2],\n",
    "              'subsample': [0.5213,0.7,8],\n",
    "              'colsample_bytree': [0.7],\n",
    "              'random_state' : [7],\n",
    "              'nthread' :[-1],\n",
    "              'n_estimators': [250,500,100]}, verbose=1,\n",
    "                       n_jobs=2)\n",
    "    clf.fit(train, y_train)\n",
    "    print(clf.best_score_)\n",
    "    print(clf.best_params_)"
   ]
  },
  {
   "cell_type": "code",
   "execution_count": null,
   "metadata": {},
   "outputs": [],
   "source": []
  }
 ],
 "metadata": {
  "kernelspec": {
   "display_name": "Python 3",
   "language": "python",
   "name": "python3"
  },
  "language_info": {
   "codemirror_mode": {
    "name": "ipython",
    "version": 3
   },
   "file_extension": ".py",
   "mimetype": "text/x-python",
   "name": "python",
   "nbconvert_exporter": "python",
   "pygments_lexer": "ipython3",
   "version": "3.7.1"
  }
 },
 "nbformat": 4,
 "nbformat_minor": 2
}
