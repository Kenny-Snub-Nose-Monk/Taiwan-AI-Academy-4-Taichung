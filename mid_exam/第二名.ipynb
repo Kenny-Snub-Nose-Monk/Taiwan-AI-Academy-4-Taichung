{
 "cells": [
  {
   "cell_type": "markdown",
   "metadata": {},
   "source": [
    "# Kaggle Midterm \n",
    "## - Prediction of Baseball Player Salary from Lahman Baseball Databank\n",
    "#### - By Tricia"
   ]
  },
  {
   "cell_type": "markdown",
   "metadata": {},
   "source": [
    "## 1. Import libraries and load Data"
   ]
  },
  {
   "cell_type": "code",
   "execution_count": 1,
   "metadata": {},
   "outputs": [],
   "source": [
    "import pandas as pd\n",
    "import numpy as np\n",
    "import seaborn as sns\n",
    "import matplotlib.pyplot as plt"
   ]
  },
  {
   "cell_type": "code",
   "execution_count": 2,
   "metadata": {},
   "outputs": [
    {
     "name": "stdout",
     "output_type": "stream",
     "text": [
      "(6284, 32)\n",
      "(1109, 31)\n"
     ]
    },
    {
     "data": {
      "text/html": [
       "<div>\n",
       "<style scoped>\n",
       "    .dataframe tbody tr th:only-of-type {\n",
       "        vertical-align: middle;\n",
       "    }\n",
       "\n",
       "    .dataframe tbody tr th {\n",
       "        vertical-align: top;\n",
       "    }\n",
       "\n",
       "    .dataframe thead th {\n",
       "        text-align: right;\n",
       "    }\n",
       "</style>\n",
       "<table border=\"1\" class=\"dataframe\">\n",
       "  <thead>\n",
       "    <tr style=\"text-align: right;\">\n",
       "      <th></th>\n",
       "      <th>id</th>\n",
       "      <th>playerID</th>\n",
       "      <th>yearID</th>\n",
       "      <th>stint</th>\n",
       "      <th>teamID</th>\n",
       "      <th>lgID</th>\n",
       "      <th>W</th>\n",
       "      <th>L</th>\n",
       "      <th>G</th>\n",
       "      <th>GS</th>\n",
       "      <th>...</th>\n",
       "      <th>WP</th>\n",
       "      <th>HBP</th>\n",
       "      <th>BK</th>\n",
       "      <th>BFP</th>\n",
       "      <th>GF</th>\n",
       "      <th>R</th>\n",
       "      <th>SH</th>\n",
       "      <th>SF</th>\n",
       "      <th>GIDP</th>\n",
       "      <th>salary_next_year</th>\n",
       "    </tr>\n",
       "  </thead>\n",
       "  <tbody>\n",
       "    <tr>\n",
       "      <th>0</th>\n",
       "      <td>0</td>\n",
       "      <td>nelsoge01</td>\n",
       "      <td>1986</td>\n",
       "      <td>1</td>\n",
       "      <td>CHA</td>\n",
       "      <td>AL</td>\n",
       "      <td>6</td>\n",
       "      <td>6</td>\n",
       "      <td>54</td>\n",
       "      <td>1</td>\n",
       "      <td>...</td>\n",
       "      <td>3.0</td>\n",
       "      <td>3.0</td>\n",
       "      <td>0.0</td>\n",
       "      <td>488.0</td>\n",
       "      <td>26.0</td>\n",
       "      <td>52</td>\n",
       "      <td>NaN</td>\n",
       "      <td>NaN</td>\n",
       "      <td>NaN</td>\n",
       "      <td>365000.0</td>\n",
       "    </tr>\n",
       "    <tr>\n",
       "      <th>1</th>\n",
       "      <td>1</td>\n",
       "      <td>moyerja01</td>\n",
       "      <td>1997</td>\n",
       "      <td>1</td>\n",
       "      <td>SEA</td>\n",
       "      <td>AL</td>\n",
       "      <td>17</td>\n",
       "      <td>5</td>\n",
       "      <td>30</td>\n",
       "      <td>30</td>\n",
       "      <td>...</td>\n",
       "      <td>3.0</td>\n",
       "      <td>7.0</td>\n",
       "      <td>0.0</td>\n",
       "      <td>787.0</td>\n",
       "      <td>0.0</td>\n",
       "      <td>82</td>\n",
       "      <td>NaN</td>\n",
       "      <td>NaN</td>\n",
       "      <td>NaN</td>\n",
       "      <td>2000000.0</td>\n",
       "    </tr>\n",
       "    <tr>\n",
       "      <th>2</th>\n",
       "      <td>2</td>\n",
       "      <td>thompbr01</td>\n",
       "      <td>2008</td>\n",
       "      <td>1</td>\n",
       "      <td>SLN</td>\n",
       "      <td>NL</td>\n",
       "      <td>6</td>\n",
       "      <td>3</td>\n",
       "      <td>26</td>\n",
       "      <td>6</td>\n",
       "      <td>...</td>\n",
       "      <td>2.0</td>\n",
       "      <td>3.0</td>\n",
       "      <td>0.0</td>\n",
       "      <td>273.0</td>\n",
       "      <td>10.0</td>\n",
       "      <td>38</td>\n",
       "      <td>NaN</td>\n",
       "      <td>NaN</td>\n",
       "      <td>NaN</td>\n",
       "      <td>650000.0</td>\n",
       "    </tr>\n",
       "    <tr>\n",
       "      <th>3</th>\n",
       "      <td>3</td>\n",
       "      <td>powerte01</td>\n",
       "      <td>1986</td>\n",
       "      <td>1</td>\n",
       "      <td>CIN</td>\n",
       "      <td>NL</td>\n",
       "      <td>10</td>\n",
       "      <td>6</td>\n",
       "      <td>56</td>\n",
       "      <td>10</td>\n",
       "      <td>...</td>\n",
       "      <td>5.0</td>\n",
       "      <td>1.0</td>\n",
       "      <td>1.0</td>\n",
       "      <td>537.0</td>\n",
       "      <td>30.0</td>\n",
       "      <td>59</td>\n",
       "      <td>NaN</td>\n",
       "      <td>NaN</td>\n",
       "      <td>NaN</td>\n",
       "      <td>500000.0</td>\n",
       "    </tr>\n",
       "    <tr>\n",
       "      <th>4</th>\n",
       "      <td>4</td>\n",
       "      <td>osunaan01</td>\n",
       "      <td>2003</td>\n",
       "      <td>1</td>\n",
       "      <td>NYA</td>\n",
       "      <td>AL</td>\n",
       "      <td>2</td>\n",
       "      <td>5</td>\n",
       "      <td>48</td>\n",
       "      <td>0</td>\n",
       "      <td>...</td>\n",
       "      <td>3.0</td>\n",
       "      <td>2.0</td>\n",
       "      <td>0.0</td>\n",
       "      <td>232.0</td>\n",
       "      <td>16.0</td>\n",
       "      <td>22</td>\n",
       "      <td>NaN</td>\n",
       "      <td>NaN</td>\n",
       "      <td>NaN</td>\n",
       "      <td>750000.0</td>\n",
       "    </tr>\n",
       "  </tbody>\n",
       "</table>\n",
       "<p>5 rows × 32 columns</p>\n",
       "</div>"
      ],
      "text/plain": [
       "   id   playerID  yearID  stint teamID lgID   W  L   G  GS        ...         \\\n",
       "0   0  nelsoge01    1986      1    CHA   AL   6  6  54   1        ...          \n",
       "1   1  moyerja01    1997      1    SEA   AL  17  5  30  30        ...          \n",
       "2   2  thompbr01    2008      1    SLN   NL   6  3  26   6        ...          \n",
       "3   3  powerte01    1986      1    CIN   NL  10  6  56  10        ...          \n",
       "4   4  osunaan01    2003      1    NYA   AL   2  5  48   0        ...          \n",
       "\n",
       "    WP  HBP   BK    BFP    GF   R  SH  SF  GIDP  salary_next_year  \n",
       "0  3.0  3.0  0.0  488.0  26.0  52 NaN NaN   NaN          365000.0  \n",
       "1  3.0  7.0  0.0  787.0   0.0  82 NaN NaN   NaN         2000000.0  \n",
       "2  2.0  3.0  0.0  273.0  10.0  38 NaN NaN   NaN          650000.0  \n",
       "3  5.0  1.0  1.0  537.0  30.0  59 NaN NaN   NaN          500000.0  \n",
       "4  3.0  2.0  0.0  232.0  16.0  22 NaN NaN   NaN          750000.0  \n",
       "\n",
       "[5 rows x 32 columns]"
      ]
     },
     "execution_count": 2,
     "metadata": {},
     "output_type": "execute_result"
    }
   ],
   "source": [
    "#read data\n",
    "train=pd.read_csv(\"data/train.csv\")\n",
    "test=pd.read_csv(\"data/test.csv\")\n",
    "print(train.shape)\n",
    "print(test.shape)\n",
    "train.head()"
   ]
  },
  {
   "cell_type": "markdown",
   "metadata": {},
   "source": [
    "### Check salary stat and distribution"
   ]
  },
  {
   "cell_type": "code",
   "execution_count": 3,
   "metadata": {},
   "outputs": [
    {
     "name": "stdout",
     "output_type": "stream",
     "text": [
      "count    6.284000e+03\n",
      "mean     2.153669e+06\n",
      "std      2.990285e+06\n",
      "min      6.000000e+04\n",
      "25%      3.500000e+05\n",
      "50%      8.750000e+05\n",
      "75%      2.788542e+06\n",
      "max      2.428571e+07\n",
      "Name: salary_next_year, dtype: float64\n"
     ]
    },
    {
     "data": {
      "image/png": "[encoded data removed]",
      "text/plain": [
       "<Figure size 1008x432 with 1 Axes>"
      ]
     },
     "metadata": {
      "needs_background": "light"
     },
     "output_type": "display_data"
    }
   ],
   "source": [
    " print(train.salary_next_year.describe())\n",
    "#plot salary\n",
    "plt.figure(figsize=(14, 6))\n",
    "plt.hist(train.salary_next_year, bins=100)\n",
    "plt.title(\"Salary Next Year\")\n",
    "#add lines\n",
    "#mean, median\n",
    "mean=train.salary_next_year.mean()\n",
    "median=train.salary_next_year.median()\n",
    "std=train.salary_next_year.std()\n",
    "plt.axvline(mean, color='red', linestyle='dashed', linewidth=1)\n",
    "plt.axvline(median, color='green', linestyle='dashed', linewidth=1)\n",
    "plt.axvline(mean+0.5*std, color='black', linestyle='dashed', linewidth=1)\n",
    "#label\n",
    "min_ylim, max_ylim = plt.ylim()\n",
    "plt.text(mean*1.1, max_ylim*0.7, 'Mean: {:.2f}'.format(mean))\n",
    "plt.text(median*1.1, max_ylim*0.5, 'Median: {:.2f}'.format(median))\n",
    "plt.text((mean+0.5*std)*1.1, max_ylim*0.9, 'Mean+0.5std: {:.2f}'.format(mean+0.5*std))\n",
    "plt.show()\n"
   ]
  },
  {
   "cell_type": "code",
   "execution_count": 4,
   "metadata": {},
   "outputs": [
    {
     "data": {
      "text/plain": [
       "Index(['halldr01', 'rosebr01', 'nitkocj01', 'brandma01', 'evelada01',\n",
       "       'lorraan01', 'arredjo01', 'brazoyh01', 'rzepcma01', 'niesejo01',\n",
       "       'youngcl01', 'erickjo01', 'dresery01', 'nolteer01', 'nieveju01',\n",
       "       'boggsmi01', 'wainhda01', 'conveji01', 'hunteto02', 'nippeal01',\n",
       "       'powelro01', 'medlekr01', 'ottoda01', 'hansegr01', 'baileco01',\n",
       "       'roberwi01', 'menhapa01', 'eshelva01', 'borkoda01', 'bannibr01',\n",
       "       'kellesh01', 'chambjo03', 'chacigu01', 'fikacje01', 'cornena01',\n",
       "       'mutisje01', 'mercahe01', 'prinzbr01', 'fistedo01', 'rowlary01',\n",
       "       'arochre01', 'cangejo01', 'robergr01', 'johnsda04', 'chrismi02',\n",
       "       'mortoch02', 'jamesch03', 'caudibi01', 'campbmi01', 'stoddti01',\n",
       "       'santijo03', 'ainswku01', 'montgst01', 'rogeres01', 'benneje01',\n",
       "       'howelke01', 'wrighwe01', 'perryry01', 'parnebo01', 'bronkje01',\n",
       "       'ishiika01', 'kerfech01', 'dunnemi01', 'runyase01', 'easteja01',\n",
       "       'hudsolu01', 'holtobr01', 'happja01', 'germafr01'],\n",
       "      dtype='object')"
      ]
     },
     "execution_count": 4,
     "metadata": {},
     "output_type": "execute_result"
    }
   ],
   "source": [
    "#only one record\n",
    "only_one=train.playerID.value_counts()[train.playerID.value_counts()==1].keys()\n",
    "only_one"
   ]
  },
  {
   "cell_type": "code",
   "execution_count": 5,
   "metadata": {},
   "outputs": [
    {
     "name": "stderr",
     "output_type": "stream",
     "text": [
      "/opt/conda/lib/python3.6/site-packages/ipykernel_launcher.py:2: FutureWarning: Sorting because non-concatenation axis is not aligned. A future version\n",
      "of pandas will change to not sort by default.\n",
      "\n",
      "To accept the future behavior, pass 'sort=False'.\n",
      "\n",
      "To retain the current behavior and silence the warning, pass 'sort=True'.\n",
      "\n",
      "  \n"
     ]
    },
    {
     "data": {
      "text/plain": [
       "Index(['BAOpp', 'BB', 'BFP', 'BK', 'CG', 'ER', 'ERA', 'G', 'GF', 'GIDP', 'GS',\n",
       "       'H', 'HBP', 'HR', 'IBB', 'IPouts', 'L', 'R', 'SF', 'SH', 'SHO', 'SO',\n",
       "       'SV', 'W', 'WP', 'id', 'lgID', 'playerID', 'salary_next_year', 'stint',\n",
       "       'teamID', 'yearID'],\n",
       "      dtype='object')"
      ]
     },
     "execution_count": 5,
     "metadata": {},
     "output_type": "execute_result"
    }
   ],
   "source": [
    "#combine data\n",
    "dat_all=pd.concat((train, test))\n",
    "dat_all.keys()"
   ]
  },
  {
   "cell_type": "markdown",
   "metadata": {},
   "source": [
    "#### Dataset information\n",
    "##### 欄位意義:\n",
    "- playerID:球員編號\n",
    "- yearID:年份\n",
    "- stint:球員在一季中出場的順序 \n",
    "- teamID:隊伍編號 \n",
    "- lgID:\b美聯(AL)或國聯(NL) \n",
    "- salary_next_year:明年合約的薪水\n",
    "- W:勝場次\n",
    "- L:敗場次\n",
    "- G:出場次數\n",
    "- GS:球員是先發投手的次數\n",
    "- CG:投手獨力投完全場的比賽次數\n",
    "- SHO:投完整場比賽，且沒有失去任何分數的次數\n",
    "- SV:救援成功次數(投手沒有搞砸球隊優勢)\n",
    "- IPouts:投球局數*3\n",
    "- H:被安打數\n",
    "- ER:自責分\n",
    "- HR:被全壘打數\n",
    "- BB:四壞保送次數\n",
    "- SO:三振次數\n",
    "- BAOpp:對手平均打擊率\n",
    "- ERA:防禦率\n",
    "- IBB:四壞球次數\n",
    "- WB:暴投次數\n",
    "- HBP:觸身球次數\n",
    "- BK:投手犯規次數\n",
    "- BFP:單一投手面臨多少打者\n",
    "- GF:完成比賽之次數(記於最後一任投手上)\n",
    "- R:打擊分數總計\n",
    "- SH:犧牲觸擊次數\n",
    "- SF:飛犧牲打次數\n",
    "- GIDP:雙殺打次數"
   ]
  },
  {
   "cell_type": "code",
   "execution_count": 6,
   "metadata": {},
   "outputs": [
    {
     "data": {
      "text/html": [
       "<div>\n",
       "<style scoped>\n",
       "    .dataframe tbody tr th:only-of-type {\n",
       "        vertical-align: middle;\n",
       "    }\n",
       "\n",
       "    .dataframe tbody tr th {\n",
       "        vertical-align: top;\n",
       "    }\n",
       "\n",
       "    .dataframe thead th {\n",
       "        text-align: right;\n",
       "    }\n",
       "</style>\n",
       "<table border=\"1\" class=\"dataframe\">\n",
       "  <thead>\n",
       "    <tr style=\"text-align: right;\">\n",
       "      <th></th>\n",
       "      <th>BAOpp</th>\n",
       "      <th>BB</th>\n",
       "      <th>BFP</th>\n",
       "      <th>BK</th>\n",
       "      <th>CG</th>\n",
       "      <th>ER</th>\n",
       "      <th>ERA</th>\n",
       "      <th>G</th>\n",
       "      <th>GF</th>\n",
       "      <th>GIDP</th>\n",
       "      <th>...</th>\n",
       "      <th>lgID</th>\n",
       "      <th>playerID</th>\n",
       "      <th>salary_next_year</th>\n",
       "      <th>stint</th>\n",
       "      <th>teamID</th>\n",
       "      <th>yearID</th>\n",
       "      <th>sal_prev</th>\n",
       "      <th>sal_prev2</th>\n",
       "      <th>sal_after</th>\n",
       "      <th>sal_after2</th>\n",
       "    </tr>\n",
       "  </thead>\n",
       "  <tbody>\n",
       "    <tr>\n",
       "      <th>966</th>\n",
       "      <td>0.41</td>\n",
       "      <td>10</td>\n",
       "      <td>61.0</td>\n",
       "      <td>0.0</td>\n",
       "      <td>0</td>\n",
       "      <td>8</td>\n",
       "      <td>6.75</td>\n",
       "      <td>11</td>\n",
       "      <td>5.0</td>\n",
       "      <td>NaN</td>\n",
       "      <td>...</td>\n",
       "      <td>NL</td>\n",
       "      <td>aardsda01</td>\n",
       "      <td>387500.0</td>\n",
       "      <td>1</td>\n",
       "      <td>SFN</td>\n",
       "      <td>2004</td>\n",
       "      <td>NaN</td>\n",
       "      <td>NaN</td>\n",
       "      <td>NaN</td>\n",
       "      <td>419000.0</td>\n",
       "    </tr>\n",
       "    <tr>\n",
       "      <th>335</th>\n",
       "      <td>NaN</td>\n",
       "      <td>17</td>\n",
       "      <td>151.0</td>\n",
       "      <td>0.0</td>\n",
       "      <td>0</td>\n",
       "      <td>23</td>\n",
       "      <td>6.40</td>\n",
       "      <td>25</td>\n",
       "      <td>7.0</td>\n",
       "      <td>NaN</td>\n",
       "      <td>...</td>\n",
       "      <td>AL</td>\n",
       "      <td>aardsda01</td>\n",
       "      <td>NaN</td>\n",
       "      <td>1</td>\n",
       "      <td>CHA</td>\n",
       "      <td>2007</td>\n",
       "      <td>387500.0</td>\n",
       "      <td>NaN</td>\n",
       "      <td>419000.0</td>\n",
       "      <td>2750000.0</td>\n",
       "    </tr>\n",
       "    <tr>\n",
       "      <th>2542</th>\n",
       "      <td>NaN</td>\n",
       "      <td>35</td>\n",
       "      <td>228.0</td>\n",
       "      <td>0.0</td>\n",
       "      <td>0</td>\n",
       "      <td>30</td>\n",
       "      <td>5.55</td>\n",
       "      <td>47</td>\n",
       "      <td>7.0</td>\n",
       "      <td>NaN</td>\n",
       "      <td>...</td>\n",
       "      <td>AL</td>\n",
       "      <td>aardsda01</td>\n",
       "      <td>419000.0</td>\n",
       "      <td>1</td>\n",
       "      <td>BOS</td>\n",
       "      <td>2008</td>\n",
       "      <td>NaN</td>\n",
       "      <td>387500.0</td>\n",
       "      <td>2750000.0</td>\n",
       "      <td>500000.0</td>\n",
       "    </tr>\n",
       "    <tr>\n",
       "      <th>4047</th>\n",
       "      <td>NaN</td>\n",
       "      <td>34</td>\n",
       "      <td>296.0</td>\n",
       "      <td>0.0</td>\n",
       "      <td>0</td>\n",
       "      <td>20</td>\n",
       "      <td>2.52</td>\n",
       "      <td>73</td>\n",
       "      <td>53.0</td>\n",
       "      <td>NaN</td>\n",
       "      <td>...</td>\n",
       "      <td>AL</td>\n",
       "      <td>aardsda01</td>\n",
       "      <td>2750000.0</td>\n",
       "      <td>1</td>\n",
       "      <td>SEA</td>\n",
       "      <td>2009</td>\n",
       "      <td>419000.0</td>\n",
       "      <td>NaN</td>\n",
       "      <td>500000.0</td>\n",
       "      <td>NaN</td>\n",
       "    </tr>\n",
       "    <tr>\n",
       "      <th>1364</th>\n",
       "      <td>NaN</td>\n",
       "      <td>25</td>\n",
       "      <td>202.0</td>\n",
       "      <td>0.0</td>\n",
       "      <td>0</td>\n",
       "      <td>19</td>\n",
       "      <td>3.44</td>\n",
       "      <td>53</td>\n",
       "      <td>43.0</td>\n",
       "      <td>NaN</td>\n",
       "      <td>...</td>\n",
       "      <td>AL</td>\n",
       "      <td>aardsda01</td>\n",
       "      <td>500000.0</td>\n",
       "      <td>1</td>\n",
       "      <td>SEA</td>\n",
       "      <td>2010</td>\n",
       "      <td>2750000.0</td>\n",
       "      <td>419000.0</td>\n",
       "      <td>NaN</td>\n",
       "      <td>NaN</td>\n",
       "    </tr>\n",
       "    <tr>\n",
       "      <th>623</th>\n",
       "      <td>0.23</td>\n",
       "      <td>28</td>\n",
       "      <td>337.0</td>\n",
       "      <td>0.0</td>\n",
       "      <td>0</td>\n",
       "      <td>27</td>\n",
       "      <td>2.98</td>\n",
       "      <td>66</td>\n",
       "      <td>58.0</td>\n",
       "      <td>NaN</td>\n",
       "      <td>...</td>\n",
       "      <td>AL</td>\n",
       "      <td>aasedo01</td>\n",
       "      <td>625000.0</td>\n",
       "      <td>1</td>\n",
       "      <td>BAL</td>\n",
       "      <td>1986</td>\n",
       "      <td>NaN</td>\n",
       "      <td>NaN</td>\n",
       "      <td>675000.0</td>\n",
       "      <td>NaN</td>\n",
       "    </tr>\n",
       "    <tr>\n",
       "      <th>1393</th>\n",
       "      <td>0.27</td>\n",
       "      <td>4</td>\n",
       "      <td>33.0</td>\n",
       "      <td>0.0</td>\n",
       "      <td>0</td>\n",
       "      <td>2</td>\n",
       "      <td>2.25</td>\n",
       "      <td>7</td>\n",
       "      <td>6.0</td>\n",
       "      <td>NaN</td>\n",
       "      <td>...</td>\n",
       "      <td>AL</td>\n",
       "      <td>aasedo01</td>\n",
       "      <td>675000.0</td>\n",
       "      <td>1</td>\n",
       "      <td>BAL</td>\n",
       "      <td>1987</td>\n",
       "      <td>625000.0</td>\n",
       "      <td>NaN</td>\n",
       "      <td>NaN</td>\n",
       "      <td>NaN</td>\n",
       "    </tr>\n",
       "    <tr>\n",
       "      <th>711</th>\n",
       "      <td>0.24</td>\n",
       "      <td>37</td>\n",
       "      <td>209.0</td>\n",
       "      <td>0.0</td>\n",
       "      <td>0</td>\n",
       "      <td>21</td>\n",
       "      <td>4.05</td>\n",
       "      <td>35</td>\n",
       "      <td>16.0</td>\n",
       "      <td>NaN</td>\n",
       "      <td>...</td>\n",
       "      <td>AL</td>\n",
       "      <td>aasedo01</td>\n",
       "      <td>NaN</td>\n",
       "      <td>1</td>\n",
       "      <td>BAL</td>\n",
       "      <td>1988</td>\n",
       "      <td>675000.0</td>\n",
       "      <td>625000.0</td>\n",
       "      <td>NaN</td>\n",
       "      <td>NaN</td>\n",
       "    </tr>\n",
       "    <tr>\n",
       "      <th>2324</th>\n",
       "      <td>0.27</td>\n",
       "      <td>74</td>\n",
       "      <td>788.0</td>\n",
       "      <td>2.0</td>\n",
       "      <td>4</td>\n",
       "      <td>79</td>\n",
       "      <td>3.92</td>\n",
       "      <td>29</td>\n",
       "      <td>0.0</td>\n",
       "      <td>NaN</td>\n",
       "      <td>...</td>\n",
       "      <td>AL</td>\n",
       "      <td>abbotji01</td>\n",
       "      <td>185000.0</td>\n",
       "      <td>1</td>\n",
       "      <td>CAL</td>\n",
       "      <td>1989</td>\n",
       "      <td>NaN</td>\n",
       "      <td>NaN</td>\n",
       "      <td>NaN</td>\n",
       "      <td>1850000.0</td>\n",
       "    </tr>\n",
       "    <tr>\n",
       "      <th>317</th>\n",
       "      <td>0.29</td>\n",
       "      <td>72</td>\n",
       "      <td>925.0</td>\n",
       "      <td>3.0</td>\n",
       "      <td>4</td>\n",
       "      <td>106</td>\n",
       "      <td>4.51</td>\n",
       "      <td>33</td>\n",
       "      <td>0.0</td>\n",
       "      <td>NaN</td>\n",
       "      <td>...</td>\n",
       "      <td>AL</td>\n",
       "      <td>abbotji01</td>\n",
       "      <td>NaN</td>\n",
       "      <td>1</td>\n",
       "      <td>CAL</td>\n",
       "      <td>1990</td>\n",
       "      <td>185000.0</td>\n",
       "      <td>NaN</td>\n",
       "      <td>1850000.0</td>\n",
       "      <td>2350000.0</td>\n",
       "    </tr>\n",
       "    <tr>\n",
       "      <th>715</th>\n",
       "      <td>0.24</td>\n",
       "      <td>73</td>\n",
       "      <td>1002.0</td>\n",
       "      <td>4.0</td>\n",
       "      <td>5</td>\n",
       "      <td>78</td>\n",
       "      <td>2.89</td>\n",
       "      <td>34</td>\n",
       "      <td>0.0</td>\n",
       "      <td>NaN</td>\n",
       "      <td>...</td>\n",
       "      <td>AL</td>\n",
       "      <td>abbotji01</td>\n",
       "      <td>1850000.0</td>\n",
       "      <td>1</td>\n",
       "      <td>CAL</td>\n",
       "      <td>1991</td>\n",
       "      <td>NaN</td>\n",
       "      <td>185000.0</td>\n",
       "      <td>2350000.0</td>\n",
       "      <td>2775000.0</td>\n",
       "    </tr>\n",
       "    <tr>\n",
       "      <th>50</th>\n",
       "      <td>0.26</td>\n",
       "      <td>68</td>\n",
       "      <td>874.0</td>\n",
       "      <td>0.0</td>\n",
       "      <td>7</td>\n",
       "      <td>65</td>\n",
       "      <td>2.77</td>\n",
       "      <td>29</td>\n",
       "      <td>0.0</td>\n",
       "      <td>NaN</td>\n",
       "      <td>...</td>\n",
       "      <td>AL</td>\n",
       "      <td>abbotji01</td>\n",
       "      <td>2350000.0</td>\n",
       "      <td>1</td>\n",
       "      <td>CAL</td>\n",
       "      <td>1992</td>\n",
       "      <td>1850000.0</td>\n",
       "      <td>NaN</td>\n",
       "      <td>2775000.0</td>\n",
       "      <td>2775000.0</td>\n",
       "    </tr>\n",
       "    <tr>\n",
       "      <th>4519</th>\n",
       "      <td>0.27</td>\n",
       "      <td>73</td>\n",
       "      <td>906.0</td>\n",
       "      <td>0.0</td>\n",
       "      <td>4</td>\n",
       "      <td>104</td>\n",
       "      <td>4.37</td>\n",
       "      <td>32</td>\n",
       "      <td>0.0</td>\n",
       "      <td>NaN</td>\n",
       "      <td>...</td>\n",
       "      <td>AL</td>\n",
       "      <td>abbotji01</td>\n",
       "      <td>2775000.0</td>\n",
       "      <td>1</td>\n",
       "      <td>NYA</td>\n",
       "      <td>1993</td>\n",
       "      <td>2350000.0</td>\n",
       "      <td>1850000.0</td>\n",
       "      <td>2775000.0</td>\n",
       "      <td>2200000.0</td>\n",
       "    </tr>\n",
       "    <tr>\n",
       "      <th>2133</th>\n",
       "      <td>0.25</td>\n",
       "      <td>64</td>\n",
       "      <td>692.0</td>\n",
       "      <td>1.0</td>\n",
       "      <td>2</td>\n",
       "      <td>81</td>\n",
       "      <td>4.55</td>\n",
       "      <td>24</td>\n",
       "      <td>0.0</td>\n",
       "      <td>NaN</td>\n",
       "      <td>...</td>\n",
       "      <td>AL</td>\n",
       "      <td>abbotji01</td>\n",
       "      <td>2775000.0</td>\n",
       "      <td>1</td>\n",
       "      <td>NYA</td>\n",
       "      <td>1994</td>\n",
       "      <td>2775000.0</td>\n",
       "      <td>2350000.0</td>\n",
       "      <td>2200000.0</td>\n",
       "      <td>400000.0</td>\n",
       "    </tr>\n",
       "    <tr>\n",
       "      <th>5441</th>\n",
       "      <td>0.26</td>\n",
       "      <td>35</td>\n",
       "      <td>474.0</td>\n",
       "      <td>0.0</td>\n",
       "      <td>3</td>\n",
       "      <td>42</td>\n",
       "      <td>3.36</td>\n",
       "      <td>17</td>\n",
       "      <td>0.0</td>\n",
       "      <td>NaN</td>\n",
       "      <td>...</td>\n",
       "      <td>AL</td>\n",
       "      <td>abbotji01</td>\n",
       "      <td>2200000.0</td>\n",
       "      <td>1</td>\n",
       "      <td>CHA</td>\n",
       "      <td>1995</td>\n",
       "      <td>2775000.0</td>\n",
       "      <td>2775000.0</td>\n",
       "      <td>400000.0</td>\n",
       "      <td>NaN</td>\n",
       "    </tr>\n",
       "    <tr>\n",
       "      <th>2652</th>\n",
       "      <td>0.26</td>\n",
       "      <td>78</td>\n",
       "      <td>654.0</td>\n",
       "      <td>1.0</td>\n",
       "      <td>1</td>\n",
       "      <td>118</td>\n",
       "      <td>7.48</td>\n",
       "      <td>27</td>\n",
       "      <td>2.0</td>\n",
       "      <td>NaN</td>\n",
       "      <td>...</td>\n",
       "      <td>AL</td>\n",
       "      <td>abbotji01</td>\n",
       "      <td>400000.0</td>\n",
       "      <td>1</td>\n",
       "      <td>CAL</td>\n",
       "      <td>1996</td>\n",
       "      <td>2200000.0</td>\n",
       "      <td>2775000.0</td>\n",
       "      <td>NaN</td>\n",
       "      <td>NaN</td>\n",
       "    </tr>\n",
       "    <tr>\n",
       "      <th>5612</th>\n",
       "      <td>0.28</td>\n",
       "      <td>28</td>\n",
       "      <td>162.0</td>\n",
       "      <td>0.0</td>\n",
       "      <td>0</td>\n",
       "      <td>23</td>\n",
       "      <td>5.97</td>\n",
       "      <td>7</td>\n",
       "      <td>0.0</td>\n",
       "      <td>NaN</td>\n",
       "      <td>...</td>\n",
       "      <td>AL</td>\n",
       "      <td>abbotpa01</td>\n",
       "      <td>126000.0</td>\n",
       "      <td>1</td>\n",
       "      <td>MIN</td>\n",
       "      <td>1990</td>\n",
       "      <td>NaN</td>\n",
       "      <td>NaN</td>\n",
       "      <td>235000.0</td>\n",
       "      <td>285000.0</td>\n",
       "    </tr>\n",
       "    <tr>\n",
       "      <th>3187</th>\n",
       "      <td>0.27</td>\n",
       "      <td>5</td>\n",
       "      <td>50.0</td>\n",
       "      <td>0.0</td>\n",
       "      <td>0</td>\n",
       "      <td>4</td>\n",
       "      <td>3.27</td>\n",
       "      <td>6</td>\n",
       "      <td>5.0</td>\n",
       "      <td>NaN</td>\n",
       "      <td>...</td>\n",
       "      <td>AL</td>\n",
       "      <td>abbotpa01</td>\n",
       "      <td>235000.0</td>\n",
       "      <td>1</td>\n",
       "      <td>MIN</td>\n",
       "      <td>1992</td>\n",
       "      <td>126000.0</td>\n",
       "      <td>NaN</td>\n",
       "      <td>285000.0</td>\n",
       "      <td>1700000.0</td>\n",
       "    </tr>\n",
       "    <tr>\n",
       "      <th>1527</th>\n",
       "      <td>0.00</td>\n",
       "      <td>32</td>\n",
       "      <td>298.0</td>\n",
       "      <td>0.0</td>\n",
       "      <td>0</td>\n",
       "      <td>25</td>\n",
       "      <td>3.10</td>\n",
       "      <td>25</td>\n",
       "      <td>8.0</td>\n",
       "      <td>NaN</td>\n",
       "      <td>...</td>\n",
       "      <td>AL</td>\n",
       "      <td>abbotpa01</td>\n",
       "      <td>285000.0</td>\n",
       "      <td>1</td>\n",
       "      <td>SEA</td>\n",
       "      <td>1999</td>\n",
       "      <td>235000.0</td>\n",
       "      <td>126000.0</td>\n",
       "      <td>1700000.0</td>\n",
       "      <td>3425000.0</td>\n",
       "    </tr>\n",
       "    <tr>\n",
       "      <th>3472</th>\n",
       "      <td>0.00</td>\n",
       "      <td>80</td>\n",
       "      <td>766.0</td>\n",
       "      <td>0.0</td>\n",
       "      <td>0</td>\n",
       "      <td>84</td>\n",
       "      <td>4.22</td>\n",
       "      <td>35</td>\n",
       "      <td>2.0</td>\n",
       "      <td>NaN</td>\n",
       "      <td>...</td>\n",
       "      <td>AL</td>\n",
       "      <td>abbotpa01</td>\n",
       "      <td>1700000.0</td>\n",
       "      <td>1</td>\n",
       "      <td>SEA</td>\n",
       "      <td>2000</td>\n",
       "      <td>285000.0</td>\n",
       "      <td>235000.0</td>\n",
       "      <td>3425000.0</td>\n",
       "      <td>600000.0</td>\n",
       "    </tr>\n",
       "    <tr>\n",
       "      <th>3363</th>\n",
       "      <td>NaN</td>\n",
       "      <td>87</td>\n",
       "      <td>710.0</td>\n",
       "      <td>0.0</td>\n",
       "      <td>1</td>\n",
       "      <td>77</td>\n",
       "      <td>4.25</td>\n",
       "      <td>28</td>\n",
       "      <td>0.0</td>\n",
       "      <td>NaN</td>\n",
       "      <td>...</td>\n",
       "      <td>AL</td>\n",
       "      <td>abbotpa01</td>\n",
       "      <td>3425000.0</td>\n",
       "      <td>1</td>\n",
       "      <td>SEA</td>\n",
       "      <td>2001</td>\n",
       "      <td>1700000.0</td>\n",
       "      <td>285000.0</td>\n",
       "      <td>600000.0</td>\n",
       "      <td>NaN</td>\n",
       "    </tr>\n",
       "    <tr>\n",
       "      <th>5539</th>\n",
       "      <td>NaN</td>\n",
       "      <td>20</td>\n",
       "      <td>137.0</td>\n",
       "      <td>0.0</td>\n",
       "      <td>0</td>\n",
       "      <td>35</td>\n",
       "      <td>11.96</td>\n",
       "      <td>7</td>\n",
       "      <td>1.0</td>\n",
       "      <td>NaN</td>\n",
       "      <td>...</td>\n",
       "      <td>AL</td>\n",
       "      <td>abbotpa01</td>\n",
       "      <td>600000.0</td>\n",
       "      <td>1</td>\n",
       "      <td>SEA</td>\n",
       "      <td>2002</td>\n",
       "      <td>3425000.0</td>\n",
       "      <td>1700000.0</td>\n",
       "      <td>NaN</td>\n",
       "      <td>NaN</td>\n",
       "    </tr>\n",
       "    <tr>\n",
       "      <th>5423</th>\n",
       "      <td>NaN</td>\n",
       "      <td>11</td>\n",
       "      <td>170.0</td>\n",
       "      <td>0.0</td>\n",
       "      <td>0</td>\n",
       "      <td>22</td>\n",
       "      <td>4.91</td>\n",
       "      <td>38</td>\n",
       "      <td>16.0</td>\n",
       "      <td>NaN</td>\n",
       "      <td>...</td>\n",
       "      <td>NL</td>\n",
       "      <td>accarje01</td>\n",
       "      <td>392200.0</td>\n",
       "      <td>1</td>\n",
       "      <td>SFN</td>\n",
       "      <td>2006</td>\n",
       "      <td>NaN</td>\n",
       "      <td>NaN</td>\n",
       "      <td>NaN</td>\n",
       "      <td>1080000.0</td>\n",
       "    </tr>\n",
       "    <tr>\n",
       "      <th>322</th>\n",
       "      <td>NaN</td>\n",
       "      <td>24</td>\n",
       "      <td>275.0</td>\n",
       "      <td>1.0</td>\n",
       "      <td>0</td>\n",
       "      <td>16</td>\n",
       "      <td>2.14</td>\n",
       "      <td>64</td>\n",
       "      <td>48.0</td>\n",
       "      <td>NaN</td>\n",
       "      <td>...</td>\n",
       "      <td>AL</td>\n",
       "      <td>accarje01</td>\n",
       "      <td>NaN</td>\n",
       "      <td>1</td>\n",
       "      <td>TOR</td>\n",
       "      <td>2007</td>\n",
       "      <td>392200.0</td>\n",
       "      <td>NaN</td>\n",
       "      <td>1080000.0</td>\n",
       "      <td>1080000.0</td>\n",
       "    </tr>\n",
       "    <tr>\n",
       "      <th>4903</th>\n",
       "      <td>NaN</td>\n",
       "      <td>4</td>\n",
       "      <td>56.0</td>\n",
       "      <td>0.0</td>\n",
       "      <td>0</td>\n",
       "      <td>9</td>\n",
       "      <td>6.57</td>\n",
       "      <td>16</td>\n",
       "      <td>6.0</td>\n",
       "      <td>NaN</td>\n",
       "      <td>...</td>\n",
       "      <td>AL</td>\n",
       "      <td>accarje01</td>\n",
       "      <td>1080000.0</td>\n",
       "      <td>1</td>\n",
       "      <td>TOR</td>\n",
       "      <td>2008</td>\n",
       "      <td>NaN</td>\n",
       "      <td>392200.0</td>\n",
       "      <td>1080000.0</td>\n",
       "      <td>NaN</td>\n",
       "    </tr>\n",
       "    <tr>\n",
       "      <th>2562</th>\n",
       "      <td>NaN</td>\n",
       "      <td>3</td>\n",
       "      <td>34.0</td>\n",
       "      <td>0.0</td>\n",
       "      <td>0</td>\n",
       "      <td>6</td>\n",
       "      <td>8.10</td>\n",
       "      <td>5</td>\n",
       "      <td>2.0</td>\n",
       "      <td>NaN</td>\n",
       "      <td>...</td>\n",
       "      <td>AL</td>\n",
       "      <td>accarje01</td>\n",
       "      <td>1080000.0</td>\n",
       "      <td>1</td>\n",
       "      <td>TOR</td>\n",
       "      <td>2010</td>\n",
       "      <td>1080000.0</td>\n",
       "      <td>NaN</td>\n",
       "      <td>NaN</td>\n",
       "      <td>NaN</td>\n",
       "    </tr>\n",
       "    <tr>\n",
       "      <th>2138</th>\n",
       "      <td>0.30</td>\n",
       "      <td>20</td>\n",
       "      <td>291.0</td>\n",
       "      <td>1.0</td>\n",
       "      <td>0</td>\n",
       "      <td>47</td>\n",
       "      <td>6.44</td>\n",
       "      <td>17</td>\n",
       "      <td>0.0</td>\n",
       "      <td>NaN</td>\n",
       "      <td>...</td>\n",
       "      <td>NL</td>\n",
       "      <td>aceveju01</td>\n",
       "      <td>200000.0</td>\n",
       "      <td>1</td>\n",
       "      <td>COL</td>\n",
       "      <td>1995</td>\n",
       "      <td>NaN</td>\n",
       "      <td>NaN</td>\n",
       "      <td>475000.0</td>\n",
       "      <td>612500.0</td>\n",
       "    </tr>\n",
       "    <tr>\n",
       "      <th>1169</th>\n",
       "      <td>NaN</td>\n",
       "      <td>29</td>\n",
       "      <td>394.0</td>\n",
       "      <td>0.0</td>\n",
       "      <td>0</td>\n",
       "      <td>28</td>\n",
       "      <td>2.56</td>\n",
       "      <td>50</td>\n",
       "      <td>29.0</td>\n",
       "      <td>NaN</td>\n",
       "      <td>...</td>\n",
       "      <td>NL</td>\n",
       "      <td>aceveju01</td>\n",
       "      <td>475000.0</td>\n",
       "      <td>1</td>\n",
       "      <td>SLN</td>\n",
       "      <td>1998</td>\n",
       "      <td>200000.0</td>\n",
       "      <td>NaN</td>\n",
       "      <td>612500.0</td>\n",
       "      <td>850000.0</td>\n",
       "    </tr>\n",
       "    <tr>\n",
       "      <th>3714</th>\n",
       "      <td>0.00</td>\n",
       "      <td>48</td>\n",
       "      <td>457.0</td>\n",
       "      <td>0.0</td>\n",
       "      <td>0</td>\n",
       "      <td>67</td>\n",
       "      <td>5.89</td>\n",
       "      <td>50</td>\n",
       "      <td>21.0</td>\n",
       "      <td>NaN</td>\n",
       "      <td>...</td>\n",
       "      <td>NL</td>\n",
       "      <td>aceveju01</td>\n",
       "      <td>612500.0</td>\n",
       "      <td>1</td>\n",
       "      <td>SLN</td>\n",
       "      <td>1999</td>\n",
       "      <td>475000.0</td>\n",
       "      <td>200000.0</td>\n",
       "      <td>850000.0</td>\n",
       "      <td>900000.0</td>\n",
       "    </tr>\n",
       "    <tr>\n",
       "      <th>2914</th>\n",
       "      <td>0.00</td>\n",
       "      <td>31</td>\n",
       "      <td>347.0</td>\n",
       "      <td>2.0</td>\n",
       "      <td>0</td>\n",
       "      <td>35</td>\n",
       "      <td>3.81</td>\n",
       "      <td>62</td>\n",
       "      <td>18.0</td>\n",
       "      <td>NaN</td>\n",
       "      <td>...</td>\n",
       "      <td>NL</td>\n",
       "      <td>aceveju01</td>\n",
       "      <td>850000.0</td>\n",
       "      <td>1</td>\n",
       "      <td>MIL</td>\n",
       "      <td>2000</td>\n",
       "      <td>612500.0</td>\n",
       "      <td>475000.0</td>\n",
       "      <td>900000.0</td>\n",
       "      <td>NaN</td>\n",
       "    </tr>\n",
       "    <tr>\n",
       "      <th>...</th>\n",
       "      <td>...</td>\n",
       "      <td>...</td>\n",
       "      <td>...</td>\n",
       "      <td>...</td>\n",
       "      <td>...</td>\n",
       "      <td>...</td>\n",
       "      <td>...</td>\n",
       "      <td>...</td>\n",
       "      <td>...</td>\n",
       "      <td>...</td>\n",
       "      <td>...</td>\n",
       "      <td>...</td>\n",
       "      <td>...</td>\n",
       "      <td>...</td>\n",
       "      <td>...</td>\n",
       "      <td>...</td>\n",
       "      <td>...</td>\n",
       "      <td>...</td>\n",
       "      <td>...</td>\n",
       "      <td>...</td>\n",
       "      <td>...</td>\n",
       "    </tr>\n",
       "    <tr>\n",
       "      <th>4866</th>\n",
       "      <td>NaN</td>\n",
       "      <td>101</td>\n",
       "      <td>925.0</td>\n",
       "      <td>0.0</td>\n",
       "      <td>1</td>\n",
       "      <td>95</td>\n",
       "      <td>3.95</td>\n",
       "      <td>34</td>\n",
       "      <td>0.0</td>\n",
       "      <td>NaN</td>\n",
       "      <td>...</td>\n",
       "      <td>NL</td>\n",
       "      <td>zambrca01</td>\n",
       "      <td>16000000.0</td>\n",
       "      <td>1</td>\n",
       "      <td>CHN</td>\n",
       "      <td>2007</td>\n",
       "      <td>12400000.0</td>\n",
       "      <td>6500000.0</td>\n",
       "      <td>NaN</td>\n",
       "      <td>18875000.0</td>\n",
       "    </tr>\n",
       "    <tr>\n",
       "      <th>254</th>\n",
       "      <td>NaN</td>\n",
       "      <td>72</td>\n",
       "      <td>796.0</td>\n",
       "      <td>0.0</td>\n",
       "      <td>1</td>\n",
       "      <td>82</td>\n",
       "      <td>3.91</td>\n",
       "      <td>30</td>\n",
       "      <td>0.0</td>\n",
       "      <td>NaN</td>\n",
       "      <td>...</td>\n",
       "      <td>NL</td>\n",
       "      <td>zambrca01</td>\n",
       "      <td>NaN</td>\n",
       "      <td>1</td>\n",
       "      <td>CHN</td>\n",
       "      <td>2008</td>\n",
       "      <td>16000000.0</td>\n",
       "      <td>12400000.0</td>\n",
       "      <td>18875000.0</td>\n",
       "      <td>18875000.0</td>\n",
       "    </tr>\n",
       "    <tr>\n",
       "      <th>6054</th>\n",
       "      <td>NaN</td>\n",
       "      <td>78</td>\n",
       "      <td>733.0</td>\n",
       "      <td>0.0</td>\n",
       "      <td>1</td>\n",
       "      <td>71</td>\n",
       "      <td>3.77</td>\n",
       "      <td>28</td>\n",
       "      <td>0.0</td>\n",
       "      <td>NaN</td>\n",
       "      <td>...</td>\n",
       "      <td>NL</td>\n",
       "      <td>zambrca01</td>\n",
       "      <td>18875000.0</td>\n",
       "      <td>1</td>\n",
       "      <td>CHN</td>\n",
       "      <td>2009</td>\n",
       "      <td>NaN</td>\n",
       "      <td>16000000.0</td>\n",
       "      <td>18875000.0</td>\n",
       "      <td>19000000.0</td>\n",
       "    </tr>\n",
       "    <tr>\n",
       "      <th>3178</th>\n",
       "      <td>NaN</td>\n",
       "      <td>69</td>\n",
       "      <td>571.0</td>\n",
       "      <td>1.0</td>\n",
       "      <td>0</td>\n",
       "      <td>48</td>\n",
       "      <td>3.33</td>\n",
       "      <td>36</td>\n",
       "      <td>2.0</td>\n",
       "      <td>NaN</td>\n",
       "      <td>...</td>\n",
       "      <td>NL</td>\n",
       "      <td>zambrca01</td>\n",
       "      <td>18875000.0</td>\n",
       "      <td>1</td>\n",
       "      <td>CHN</td>\n",
       "      <td>2010</td>\n",
       "      <td>18875000.0</td>\n",
       "      <td>NaN</td>\n",
       "      <td>19000000.0</td>\n",
       "      <td>NaN</td>\n",
       "    </tr>\n",
       "    <tr>\n",
       "      <th>5158</th>\n",
       "      <td>NaN</td>\n",
       "      <td>56</td>\n",
       "      <td>634.0</td>\n",
       "      <td>0.0</td>\n",
       "      <td>0</td>\n",
       "      <td>78</td>\n",
       "      <td>4.82</td>\n",
       "      <td>24</td>\n",
       "      <td>0.0</td>\n",
       "      <td>NaN</td>\n",
       "      <td>...</td>\n",
       "      <td>NL</td>\n",
       "      <td>zambrca01</td>\n",
       "      <td>19000000.0</td>\n",
       "      <td>1</td>\n",
       "      <td>CHN</td>\n",
       "      <td>2011</td>\n",
       "      <td>18875000.0</td>\n",
       "      <td>18875000.0</td>\n",
       "      <td>NaN</td>\n",
       "      <td>NaN</td>\n",
       "    </tr>\n",
       "    <tr>\n",
       "      <th>2658</th>\n",
       "      <td>NaN</td>\n",
       "      <td>68</td>\n",
       "      <td>519.0</td>\n",
       "      <td>0.0</td>\n",
       "      <td>0</td>\n",
       "      <td>70</td>\n",
       "      <td>5.53</td>\n",
       "      <td>42</td>\n",
       "      <td>11.0</td>\n",
       "      <td>NaN</td>\n",
       "      <td>...</td>\n",
       "      <td>AL</td>\n",
       "      <td>zambrvi01</td>\n",
       "      <td>300000.0</td>\n",
       "      <td>1</td>\n",
       "      <td>TBA</td>\n",
       "      <td>2002</td>\n",
       "      <td>NaN</td>\n",
       "      <td>NaN</td>\n",
       "      <td>325000.0</td>\n",
       "      <td>2100000.0</td>\n",
       "    </tr>\n",
       "    <tr>\n",
       "      <th>2089</th>\n",
       "      <td>0.23</td>\n",
       "      <td>106</td>\n",
       "      <td>836.0</td>\n",
       "      <td>3.0</td>\n",
       "      <td>1</td>\n",
       "      <td>88</td>\n",
       "      <td>4.21</td>\n",
       "      <td>34</td>\n",
       "      <td>2.0</td>\n",
       "      <td>NaN</td>\n",
       "      <td>...</td>\n",
       "      <td>AL</td>\n",
       "      <td>zambrvi01</td>\n",
       "      <td>325000.0</td>\n",
       "      <td>1</td>\n",
       "      <td>TBA</td>\n",
       "      <td>2003</td>\n",
       "      <td>300000.0</td>\n",
       "      <td>NaN</td>\n",
       "      <td>2100000.0</td>\n",
       "      <td>3000000.0</td>\n",
       "    </tr>\n",
       "    <tr>\n",
       "      <th>5889</th>\n",
       "      <td>0.23</td>\n",
       "      <td>96</td>\n",
       "      <td>588.0</td>\n",
       "      <td>0.0</td>\n",
       "      <td>0</td>\n",
       "      <td>63</td>\n",
       "      <td>4.43</td>\n",
       "      <td>23</td>\n",
       "      <td>0.0</td>\n",
       "      <td>NaN</td>\n",
       "      <td>...</td>\n",
       "      <td>AL</td>\n",
       "      <td>zambrvi01</td>\n",
       "      <td>2100000.0</td>\n",
       "      <td>1</td>\n",
       "      <td>TBA</td>\n",
       "      <td>2004</td>\n",
       "      <td>325000.0</td>\n",
       "      <td>300000.0</td>\n",
       "      <td>3000000.0</td>\n",
       "      <td>NaN</td>\n",
       "    </tr>\n",
       "    <tr>\n",
       "      <th>3423</th>\n",
       "      <td>NaN</td>\n",
       "      <td>77</td>\n",
       "      <td>748.0</td>\n",
       "      <td>2.0</td>\n",
       "      <td>0</td>\n",
       "      <td>77</td>\n",
       "      <td>4.17</td>\n",
       "      <td>31</td>\n",
       "      <td>2.0</td>\n",
       "      <td>NaN</td>\n",
       "      <td>...</td>\n",
       "      <td>NL</td>\n",
       "      <td>zambrvi01</td>\n",
       "      <td>3000000.0</td>\n",
       "      <td>1</td>\n",
       "      <td>NYN</td>\n",
       "      <td>2005</td>\n",
       "      <td>2100000.0</td>\n",
       "      <td>325000.0</td>\n",
       "      <td>NaN</td>\n",
       "      <td>NaN</td>\n",
       "    </tr>\n",
       "    <tr>\n",
       "      <th>455</th>\n",
       "      <td>NaN</td>\n",
       "      <td>11</td>\n",
       "      <td>97.0</td>\n",
       "      <td>0.0</td>\n",
       "      <td>0</td>\n",
       "      <td>16</td>\n",
       "      <td>6.75</td>\n",
       "      <td>5</td>\n",
       "      <td>0.0</td>\n",
       "      <td>NaN</td>\n",
       "      <td>...</td>\n",
       "      <td>NL</td>\n",
       "      <td>zambrvi01</td>\n",
       "      <td>NaN</td>\n",
       "      <td>1</td>\n",
       "      <td>NYN</td>\n",
       "      <td>2006</td>\n",
       "      <td>3000000.0</td>\n",
       "      <td>2100000.0</td>\n",
       "      <td>NaN</td>\n",
       "      <td>NaN</td>\n",
       "    </tr>\n",
       "    <tr>\n",
       "      <th>1904</th>\n",
       "      <td>NaN</td>\n",
       "      <td>28</td>\n",
       "      <td>313.0</td>\n",
       "      <td>0.0</td>\n",
       "      <td>0</td>\n",
       "      <td>25</td>\n",
       "      <td>3.07</td>\n",
       "      <td>69</td>\n",
       "      <td>23.0</td>\n",
       "      <td>NaN</td>\n",
       "      <td>...</td>\n",
       "      <td>AL</td>\n",
       "      <td>zieglbr01</td>\n",
       "      <td>410000.0</td>\n",
       "      <td>1</td>\n",
       "      <td>OAK</td>\n",
       "      <td>2009</td>\n",
       "      <td>NaN</td>\n",
       "      <td>NaN</td>\n",
       "      <td>1250000.0</td>\n",
       "      <td>1795000.0</td>\n",
       "    </tr>\n",
       "    <tr>\n",
       "      <th>4221</th>\n",
       "      <td>NaN</td>\n",
       "      <td>28</td>\n",
       "      <td>257.0</td>\n",
       "      <td>1.0</td>\n",
       "      <td>0</td>\n",
       "      <td>22</td>\n",
       "      <td>3.26</td>\n",
       "      <td>64</td>\n",
       "      <td>12.0</td>\n",
       "      <td>NaN</td>\n",
       "      <td>...</td>\n",
       "      <td>AL</td>\n",
       "      <td>zieglbr01</td>\n",
       "      <td>1250000.0</td>\n",
       "      <td>1</td>\n",
       "      <td>OAK</td>\n",
       "      <td>2010</td>\n",
       "      <td>410000.0</td>\n",
       "      <td>NaN</td>\n",
       "      <td>1795000.0</td>\n",
       "      <td>NaN</td>\n",
       "    </tr>\n",
       "    <tr>\n",
       "      <th>1455</th>\n",
       "      <td>NaN</td>\n",
       "      <td>13</td>\n",
       "      <td>160.0</td>\n",
       "      <td>0.0</td>\n",
       "      <td>0</td>\n",
       "      <td>10</td>\n",
       "      <td>2.39</td>\n",
       "      <td>43</td>\n",
       "      <td>12.0</td>\n",
       "      <td>NaN</td>\n",
       "      <td>...</td>\n",
       "      <td>AL</td>\n",
       "      <td>zieglbr01</td>\n",
       "      <td>1795000.0</td>\n",
       "      <td>1</td>\n",
       "      <td>OAK</td>\n",
       "      <td>2011</td>\n",
       "      <td>1250000.0</td>\n",
       "      <td>410000.0</td>\n",
       "      <td>NaN</td>\n",
       "      <td>NaN</td>\n",
       "    </tr>\n",
       "    <tr>\n",
       "      <th>4701</th>\n",
       "      <td>0.00</td>\n",
       "      <td>23</td>\n",
       "      <td>336.0</td>\n",
       "      <td>0.0</td>\n",
       "      <td>0</td>\n",
       "      <td>23</td>\n",
       "      <td>2.36</td>\n",
       "      <td>65</td>\n",
       "      <td>14.0</td>\n",
       "      <td>NaN</td>\n",
       "      <td>...</td>\n",
       "      <td>AL</td>\n",
       "      <td>zimmeje02</td>\n",
       "      <td>250000.0</td>\n",
       "      <td>1</td>\n",
       "      <td>TEX</td>\n",
       "      <td>1999</td>\n",
       "      <td>NaN</td>\n",
       "      <td>NaN</td>\n",
       "      <td>307500.0</td>\n",
       "      <td>NaN</td>\n",
       "    </tr>\n",
       "    <tr>\n",
       "      <th>4318</th>\n",
       "      <td>0.00</td>\n",
       "      <td>34</td>\n",
       "      <td>323.0</td>\n",
       "      <td>3.0</td>\n",
       "      <td>0</td>\n",
       "      <td>41</td>\n",
       "      <td>5.30</td>\n",
       "      <td>65</td>\n",
       "      <td>17.0</td>\n",
       "      <td>NaN</td>\n",
       "      <td>...</td>\n",
       "      <td>AL</td>\n",
       "      <td>zimmeje02</td>\n",
       "      <td>307500.0</td>\n",
       "      <td>1</td>\n",
       "      <td>TEX</td>\n",
       "      <td>2000</td>\n",
       "      <td>250000.0</td>\n",
       "      <td>NaN</td>\n",
       "      <td>NaN</td>\n",
       "      <td>NaN</td>\n",
       "    </tr>\n",
       "    <tr>\n",
       "      <th>3271</th>\n",
       "      <td>NaN</td>\n",
       "      <td>80</td>\n",
       "      <td>902.0</td>\n",
       "      <td>1.0</td>\n",
       "      <td>3</td>\n",
       "      <td>83</td>\n",
       "      <td>3.49</td>\n",
       "      <td>35</td>\n",
       "      <td>0.0</td>\n",
       "      <td>NaN</td>\n",
       "      <td>...</td>\n",
       "      <td>AL</td>\n",
       "      <td>zitoba01</td>\n",
       "      <td>295000.0</td>\n",
       "      <td>1</td>\n",
       "      <td>OAK</td>\n",
       "      <td>2001</td>\n",
       "      <td>NaN</td>\n",
       "      <td>NaN</td>\n",
       "      <td>1000000.0</td>\n",
       "      <td>3000000.0</td>\n",
       "    </tr>\n",
       "    <tr>\n",
       "      <th>1335</th>\n",
       "      <td>NaN</td>\n",
       "      <td>78</td>\n",
       "      <td>939.0</td>\n",
       "      <td>1.0</td>\n",
       "      <td>1</td>\n",
       "      <td>70</td>\n",
       "      <td>2.75</td>\n",
       "      <td>35</td>\n",
       "      <td>0.0</td>\n",
       "      <td>NaN</td>\n",
       "      <td>...</td>\n",
       "      <td>AL</td>\n",
       "      <td>zitoba01</td>\n",
       "      <td>1000000.0</td>\n",
       "      <td>1</td>\n",
       "      <td>OAK</td>\n",
       "      <td>2002</td>\n",
       "      <td>295000.0</td>\n",
       "      <td>NaN</td>\n",
       "      <td>3000000.0</td>\n",
       "      <td>5600000.0</td>\n",
       "    </tr>\n",
       "    <tr>\n",
       "      <th>1329</th>\n",
       "      <td>0.21</td>\n",
       "      <td>88</td>\n",
       "      <td>957.0</td>\n",
       "      <td>0.0</td>\n",
       "      <td>4</td>\n",
       "      <td>85</td>\n",
       "      <td>3.30</td>\n",
       "      <td>35</td>\n",
       "      <td>0.0</td>\n",
       "      <td>NaN</td>\n",
       "      <td>...</td>\n",
       "      <td>AL</td>\n",
       "      <td>zitoba01</td>\n",
       "      <td>3000000.0</td>\n",
       "      <td>1</td>\n",
       "      <td>OAK</td>\n",
       "      <td>2003</td>\n",
       "      <td>1000000.0</td>\n",
       "      <td>295000.0</td>\n",
       "      <td>5600000.0</td>\n",
       "      <td>7900000.0</td>\n",
       "    </tr>\n",
       "    <tr>\n",
       "      <th>6188</th>\n",
       "      <td>0.26</td>\n",
       "      <td>81</td>\n",
       "      <td>926.0</td>\n",
       "      <td>1.0</td>\n",
       "      <td>0</td>\n",
       "      <td>106</td>\n",
       "      <td>4.48</td>\n",
       "      <td>34</td>\n",
       "      <td>0.0</td>\n",
       "      <td>NaN</td>\n",
       "      <td>...</td>\n",
       "      <td>AL</td>\n",
       "      <td>zitoba01</td>\n",
       "      <td>5600000.0</td>\n",
       "      <td>1</td>\n",
       "      <td>OAK</td>\n",
       "      <td>2004</td>\n",
       "      <td>3000000.0</td>\n",
       "      <td>1000000.0</td>\n",
       "      <td>7900000.0</td>\n",
       "      <td>10000000.0</td>\n",
       "    </tr>\n",
       "    <tr>\n",
       "      <th>3422</th>\n",
       "      <td>NaN</td>\n",
       "      <td>89</td>\n",
       "      <td>953.0</td>\n",
       "      <td>0.0</td>\n",
       "      <td>0</td>\n",
       "      <td>98</td>\n",
       "      <td>3.86</td>\n",
       "      <td>35</td>\n",
       "      <td>0.0</td>\n",
       "      <td>NaN</td>\n",
       "      <td>...</td>\n",
       "      <td>AL</td>\n",
       "      <td>zitoba01</td>\n",
       "      <td>7900000.0</td>\n",
       "      <td>1</td>\n",
       "      <td>OAK</td>\n",
       "      <td>2005</td>\n",
       "      <td>5600000.0</td>\n",
       "      <td>3000000.0</td>\n",
       "      <td>10000000.0</td>\n",
       "      <td>14500000.0</td>\n",
       "    </tr>\n",
       "    <tr>\n",
       "      <th>465</th>\n",
       "      <td>NaN</td>\n",
       "      <td>99</td>\n",
       "      <td>945.0</td>\n",
       "      <td>2.0</td>\n",
       "      <td>0</td>\n",
       "      <td>94</td>\n",
       "      <td>3.83</td>\n",
       "      <td>34</td>\n",
       "      <td>0.0</td>\n",
       "      <td>NaN</td>\n",
       "      <td>...</td>\n",
       "      <td>AL</td>\n",
       "      <td>zitoba01</td>\n",
       "      <td>10000000.0</td>\n",
       "      <td>1</td>\n",
       "      <td>OAK</td>\n",
       "      <td>2006</td>\n",
       "      <td>7900000.0</td>\n",
       "      <td>5600000.0</td>\n",
       "      <td>14500000.0</td>\n",
       "      <td>18500000.0</td>\n",
       "    </tr>\n",
       "    <tr>\n",
       "      <th>5657</th>\n",
       "      <td>NaN</td>\n",
       "      <td>83</td>\n",
       "      <td>850.0</td>\n",
       "      <td>0.0</td>\n",
       "      <td>0</td>\n",
       "      <td>99</td>\n",
       "      <td>4.53</td>\n",
       "      <td>34</td>\n",
       "      <td>0.0</td>\n",
       "      <td>NaN</td>\n",
       "      <td>...</td>\n",
       "      <td>NL</td>\n",
       "      <td>zitoba01</td>\n",
       "      <td>14500000.0</td>\n",
       "      <td>1</td>\n",
       "      <td>SFN</td>\n",
       "      <td>2007</td>\n",
       "      <td>10000000.0</td>\n",
       "      <td>7900000.0</td>\n",
       "      <td>18500000.0</td>\n",
       "      <td>NaN</td>\n",
       "    </tr>\n",
       "    <tr>\n",
       "      <th>719</th>\n",
       "      <td>NaN</td>\n",
       "      <td>102</td>\n",
       "      <td>818.0</td>\n",
       "      <td>0.0</td>\n",
       "      <td>0</td>\n",
       "      <td>103</td>\n",
       "      <td>5.15</td>\n",
       "      <td>32</td>\n",
       "      <td>0.0</td>\n",
       "      <td>NaN</td>\n",
       "      <td>...</td>\n",
       "      <td>NL</td>\n",
       "      <td>zitoba01</td>\n",
       "      <td>18500000.0</td>\n",
       "      <td>1</td>\n",
       "      <td>SFN</td>\n",
       "      <td>2008</td>\n",
       "      <td>14500000.0</td>\n",
       "      <td>10000000.0</td>\n",
       "      <td>NaN</td>\n",
       "      <td>NaN</td>\n",
       "    </tr>\n",
       "    <tr>\n",
       "      <th>668</th>\n",
       "      <td>NaN</td>\n",
       "      <td>81</td>\n",
       "      <td>818.0</td>\n",
       "      <td>2.0</td>\n",
       "      <td>1</td>\n",
       "      <td>86</td>\n",
       "      <td>4.03</td>\n",
       "      <td>33</td>\n",
       "      <td>0.0</td>\n",
       "      <td>NaN</td>\n",
       "      <td>...</td>\n",
       "      <td>NL</td>\n",
       "      <td>zitoba01</td>\n",
       "      <td>NaN</td>\n",
       "      <td>1</td>\n",
       "      <td>SFN</td>\n",
       "      <td>2009</td>\n",
       "      <td>18500000.0</td>\n",
       "      <td>14500000.0</td>\n",
       "      <td>NaN</td>\n",
       "      <td>19000000.0</td>\n",
       "    </tr>\n",
       "    <tr>\n",
       "      <th>6</th>\n",
       "      <td>NaN</td>\n",
       "      <td>84</td>\n",
       "      <td>848.0</td>\n",
       "      <td>0.0</td>\n",
       "      <td>1</td>\n",
       "      <td>92</td>\n",
       "      <td>4.15</td>\n",
       "      <td>34</td>\n",
       "      <td>1.0</td>\n",
       "      <td>NaN</td>\n",
       "      <td>...</td>\n",
       "      <td>NL</td>\n",
       "      <td>zitoba01</td>\n",
       "      <td>NaN</td>\n",
       "      <td>1</td>\n",
       "      <td>SFN</td>\n",
       "      <td>2010</td>\n",
       "      <td>NaN</td>\n",
       "      <td>18500000.0</td>\n",
       "      <td>19000000.0</td>\n",
       "      <td>NaN</td>\n",
       "    </tr>\n",
       "    <tr>\n",
       "      <th>6172</th>\n",
       "      <td>NaN</td>\n",
       "      <td>24</td>\n",
       "      <td>225.0</td>\n",
       "      <td>0.0</td>\n",
       "      <td>0</td>\n",
       "      <td>35</td>\n",
       "      <td>5.87</td>\n",
       "      <td>13</td>\n",
       "      <td>3.0</td>\n",
       "      <td>NaN</td>\n",
       "      <td>...</td>\n",
       "      <td>NL</td>\n",
       "      <td>zitoba01</td>\n",
       "      <td>19000000.0</td>\n",
       "      <td>1</td>\n",
       "      <td>SFN</td>\n",
       "      <td>2011</td>\n",
       "      <td>NaN</td>\n",
       "      <td>NaN</td>\n",
       "      <td>NaN</td>\n",
       "      <td>NaN</td>\n",
       "    </tr>\n",
       "    <tr>\n",
       "      <th>3416</th>\n",
       "      <td>NaN</td>\n",
       "      <td>42</td>\n",
       "      <td>350.0</td>\n",
       "      <td>0.0</td>\n",
       "      <td>0</td>\n",
       "      <td>18</td>\n",
       "      <td>1.94</td>\n",
       "      <td>62</td>\n",
       "      <td>12.0</td>\n",
       "      <td>NaN</td>\n",
       "      <td>...</td>\n",
       "      <td>AL</td>\n",
       "      <td>zumayjo01</td>\n",
       "      <td>410000.0</td>\n",
       "      <td>1</td>\n",
       "      <td>DET</td>\n",
       "      <td>2006</td>\n",
       "      <td>NaN</td>\n",
       "      <td>NaN</td>\n",
       "      <td>420000.0</td>\n",
       "      <td>NaN</td>\n",
       "    </tr>\n",
       "    <tr>\n",
       "      <th>2367</th>\n",
       "      <td>NaN</td>\n",
       "      <td>17</td>\n",
       "      <td>142.0</td>\n",
       "      <td>0.0</td>\n",
       "      <td>0</td>\n",
       "      <td>16</td>\n",
       "      <td>4.28</td>\n",
       "      <td>28</td>\n",
       "      <td>7.0</td>\n",
       "      <td>NaN</td>\n",
       "      <td>...</td>\n",
       "      <td>AL</td>\n",
       "      <td>zumayjo01</td>\n",
       "      <td>420000.0</td>\n",
       "      <td>1</td>\n",
       "      <td>DET</td>\n",
       "      <td>2007</td>\n",
       "      <td>410000.0</td>\n",
       "      <td>NaN</td>\n",
       "      <td>NaN</td>\n",
       "      <td>915000.0</td>\n",
       "    </tr>\n",
       "    <tr>\n",
       "      <th>429</th>\n",
       "      <td>NaN</td>\n",
       "      <td>22</td>\n",
       "      <td>114.0</td>\n",
       "      <td>0.0</td>\n",
       "      <td>0</td>\n",
       "      <td>9</td>\n",
       "      <td>3.47</td>\n",
       "      <td>21</td>\n",
       "      <td>5.0</td>\n",
       "      <td>NaN</td>\n",
       "      <td>...</td>\n",
       "      <td>AL</td>\n",
       "      <td>zumayjo01</td>\n",
       "      <td>NaN</td>\n",
       "      <td>1</td>\n",
       "      <td>DET</td>\n",
       "      <td>2008</td>\n",
       "      <td>420000.0</td>\n",
       "      <td>410000.0</td>\n",
       "      <td>915000.0</td>\n",
       "      <td>NaN</td>\n",
       "    </tr>\n",
       "    <tr>\n",
       "      <th>5511</th>\n",
       "      <td>NaN</td>\n",
       "      <td>22</td>\n",
       "      <td>149.0</td>\n",
       "      <td>0.0</td>\n",
       "      <td>0</td>\n",
       "      <td>17</td>\n",
       "      <td>4.94</td>\n",
       "      <td>29</td>\n",
       "      <td>5.0</td>\n",
       "      <td>NaN</td>\n",
       "      <td>...</td>\n",
       "      <td>AL</td>\n",
       "      <td>zumayjo01</td>\n",
       "      <td>915000.0</td>\n",
       "      <td>1</td>\n",
       "      <td>DET</td>\n",
       "      <td>2009</td>\n",
       "      <td>NaN</td>\n",
       "      <td>420000.0</td>\n",
       "      <td>NaN</td>\n",
       "      <td>NaN</td>\n",
       "    </tr>\n",
       "  </tbody>\n",
       "</table>\n",
       "<p>7393 rows × 36 columns</p>\n",
       "</div>"
      ],
      "text/plain": [
       "      BAOpp   BB     BFP   BK  CG   ER    ERA   G    GF  GIDP     ...      \\\n",
       "966    0.41   10    61.0  0.0   0    8   6.75  11   5.0   NaN     ...       \n",
       "335     NaN   17   151.0  0.0   0   23   6.40  25   7.0   NaN     ...       \n",
       "2542    NaN   35   228.0  0.0   0   30   5.55  47   7.0   NaN     ...       \n",
       "4047    NaN   34   296.0  0.0   0   20   2.52  73  53.0   NaN     ...       \n",
       "1364    NaN   25   202.0  0.0   0   19   3.44  53  43.0   NaN     ...       \n",
       "623    0.23   28   337.0  0.0   0   27   2.98  66  58.0   NaN     ...       \n",
       "1393   0.27    4    33.0  0.0   0    2   2.25   7   6.0   NaN     ...       \n",
       "711    0.24   37   209.0  0.0   0   21   4.05  35  16.0   NaN     ...       \n",
       "2324   0.27   74   788.0  2.0   4   79   3.92  29   0.0   NaN     ...       \n",
       "317    0.29   72   925.0  3.0   4  106   4.51  33   0.0   NaN     ...       \n",
       "715    0.24   73  1002.0  4.0   5   78   2.89  34   0.0   NaN     ...       \n",
       "50     0.26   68   874.0  0.0   7   65   2.77  29   0.0   NaN     ...       \n",
       "4519   0.27   73   906.0  0.0   4  104   4.37  32   0.0   NaN     ...       \n",
       "2133   0.25   64   692.0  1.0   2   81   4.55  24   0.0   NaN     ...       \n",
       "5441   0.26   35   474.0  0.0   3   42   3.36  17   0.0   NaN     ...       \n",
       "2652   0.26   78   654.0  1.0   1  118   7.48  27   2.0   NaN     ...       \n",
       "5612   0.28   28   162.0  0.0   0   23   5.97   7   0.0   NaN     ...       \n",
       "3187   0.27    5    50.0  0.0   0    4   3.27   6   5.0   NaN     ...       \n",
       "1527   0.00   32   298.0  0.0   0   25   3.10  25   8.0   NaN     ...       \n",
       "3472   0.00   80   766.0  0.0   0   84   4.22  35   2.0   NaN     ...       \n",
       "3363    NaN   87   710.0  0.0   1   77   4.25  28   0.0   NaN     ...       \n",
       "5539    NaN   20   137.0  0.0   0   35  11.96   7   1.0   NaN     ...       \n",
       "5423    NaN   11   170.0  0.0   0   22   4.91  38  16.0   NaN     ...       \n",
       "322     NaN   24   275.0  1.0   0   16   2.14  64  48.0   NaN     ...       \n",
       "4903    NaN    4    56.0  0.0   0    9   6.57  16   6.0   NaN     ...       \n",
       "2562    NaN    3    34.0  0.0   0    6   8.10   5   2.0   NaN     ...       \n",
       "2138   0.30   20   291.0  1.0   0   47   6.44  17   0.0   NaN     ...       \n",
       "1169    NaN   29   394.0  0.0   0   28   2.56  50  29.0   NaN     ...       \n",
       "3714   0.00   48   457.0  0.0   0   67   5.89  50  21.0   NaN     ...       \n",
       "2914   0.00   31   347.0  2.0   0   35   3.81  62  18.0   NaN     ...       \n",
       "...     ...  ...     ...  ...  ..  ...    ...  ..   ...   ...     ...       \n",
       "4866    NaN  101   925.0  0.0   1   95   3.95  34   0.0   NaN     ...       \n",
       "254     NaN   72   796.0  0.0   1   82   3.91  30   0.0   NaN     ...       \n",
       "6054    NaN   78   733.0  0.0   1   71   3.77  28   0.0   NaN     ...       \n",
       "3178    NaN   69   571.0  1.0   0   48   3.33  36   2.0   NaN     ...       \n",
       "5158    NaN   56   634.0  0.0   0   78   4.82  24   0.0   NaN     ...       \n",
       "2658    NaN   68   519.0  0.0   0   70   5.53  42  11.0   NaN     ...       \n",
       "2089   0.23  106   836.0  3.0   1   88   4.21  34   2.0   NaN     ...       \n",
       "5889   0.23   96   588.0  0.0   0   63   4.43  23   0.0   NaN     ...       \n",
       "3423    NaN   77   748.0  2.0   0   77   4.17  31   2.0   NaN     ...       \n",
       "455     NaN   11    97.0  0.0   0   16   6.75   5   0.0   NaN     ...       \n",
       "1904    NaN   28   313.0  0.0   0   25   3.07  69  23.0   NaN     ...       \n",
       "4221    NaN   28   257.0  1.0   0   22   3.26  64  12.0   NaN     ...       \n",
       "1455    NaN   13   160.0  0.0   0   10   2.39  43  12.0   NaN     ...       \n",
       "4701   0.00   23   336.0  0.0   0   23   2.36  65  14.0   NaN     ...       \n",
       "4318   0.00   34   323.0  3.0   0   41   5.30  65  17.0   NaN     ...       \n",
       "3271    NaN   80   902.0  1.0   3   83   3.49  35   0.0   NaN     ...       \n",
       "1335    NaN   78   939.0  1.0   1   70   2.75  35   0.0   NaN     ...       \n",
       "1329   0.21   88   957.0  0.0   4   85   3.30  35   0.0   NaN     ...       \n",
       "6188   0.26   81   926.0  1.0   0  106   4.48  34   0.0   NaN     ...       \n",
       "3422    NaN   89   953.0  0.0   0   98   3.86  35   0.0   NaN     ...       \n",
       "465     NaN   99   945.0  2.0   0   94   3.83  34   0.0   NaN     ...       \n",
       "5657    NaN   83   850.0  0.0   0   99   4.53  34   0.0   NaN     ...       \n",
       "719     NaN  102   818.0  0.0   0  103   5.15  32   0.0   NaN     ...       \n",
       "668     NaN   81   818.0  2.0   1   86   4.03  33   0.0   NaN     ...       \n",
       "6       NaN   84   848.0  0.0   1   92   4.15  34   1.0   NaN     ...       \n",
       "6172    NaN   24   225.0  0.0   0   35   5.87  13   3.0   NaN     ...       \n",
       "3416    NaN   42   350.0  0.0   0   18   1.94  62  12.0   NaN     ...       \n",
       "2367    NaN   17   142.0  0.0   0   16   4.28  28   7.0   NaN     ...       \n",
       "429     NaN   22   114.0  0.0   0    9   3.47  21   5.0   NaN     ...       \n",
       "5511    NaN   22   149.0  0.0   0   17   4.94  29   5.0   NaN     ...       \n",
       "\n",
       "      lgID   playerID  salary_next_year  stint  teamID  yearID    sal_prev  \\\n",
       "966     NL  aardsda01          387500.0      1     SFN    2004         NaN   \n",
       "335     AL  aardsda01               NaN      1     CHA    2007    387500.0   \n",
       "2542    AL  aardsda01          419000.0      1     BOS    2008         NaN   \n",
       "4047    AL  aardsda01         2750000.0      1     SEA    2009    419000.0   \n",
       "1364    AL  aardsda01          500000.0      1     SEA    2010   2750000.0   \n",
       "623     AL   aasedo01          625000.0      1     BAL    1986         NaN   \n",
       "1393    AL   aasedo01          675000.0      1     BAL    1987    625000.0   \n",
       "711     AL   aasedo01               NaN      1     BAL    1988    675000.0   \n",
       "2324    AL  abbotji01          185000.0      1     CAL    1989         NaN   \n",
       "317     AL  abbotji01               NaN      1     CAL    1990    185000.0   \n",
       "715     AL  abbotji01         1850000.0      1     CAL    1991         NaN   \n",
       "50      AL  abbotji01         2350000.0      1     CAL    1992   1850000.0   \n",
       "4519    AL  abbotji01         2775000.0      1     NYA    1993   2350000.0   \n",
       "2133    AL  abbotji01         2775000.0      1     NYA    1994   2775000.0   \n",
       "5441    AL  abbotji01         2200000.0      1     CHA    1995   2775000.0   \n",
       "2652    AL  abbotji01          400000.0      1     CAL    1996   2200000.0   \n",
       "5612    AL  abbotpa01          126000.0      1     MIN    1990         NaN   \n",
       "3187    AL  abbotpa01          235000.0      1     MIN    1992    126000.0   \n",
       "1527    AL  abbotpa01          285000.0      1     SEA    1999    235000.0   \n",
       "3472    AL  abbotpa01         1700000.0      1     SEA    2000    285000.0   \n",
       "3363    AL  abbotpa01         3425000.0      1     SEA    2001   1700000.0   \n",
       "5539    AL  abbotpa01          600000.0      1     SEA    2002   3425000.0   \n",
       "5423    NL  accarje01          392200.0      1     SFN    2006         NaN   \n",
       "322     AL  accarje01               NaN      1     TOR    2007    392200.0   \n",
       "4903    AL  accarje01         1080000.0      1     TOR    2008         NaN   \n",
       "2562    AL  accarje01         1080000.0      1     TOR    2010   1080000.0   \n",
       "2138    NL  aceveju01          200000.0      1     COL    1995         NaN   \n",
       "1169    NL  aceveju01          475000.0      1     SLN    1998    200000.0   \n",
       "3714    NL  aceveju01          612500.0      1     SLN    1999    475000.0   \n",
       "2914    NL  aceveju01          850000.0      1     MIL    2000    612500.0   \n",
       "...    ...        ...               ...    ...     ...     ...         ...   \n",
       "4866    NL  zambrca01        16000000.0      1     CHN    2007  12400000.0   \n",
       "254     NL  zambrca01               NaN      1     CHN    2008  16000000.0   \n",
       "6054    NL  zambrca01        18875000.0      1     CHN    2009         NaN   \n",
       "3178    NL  zambrca01        18875000.0      1     CHN    2010  18875000.0   \n",
       "5158    NL  zambrca01        19000000.0      1     CHN    2011  18875000.0   \n",
       "2658    AL  zambrvi01          300000.0      1     TBA    2002         NaN   \n",
       "2089    AL  zambrvi01          325000.0      1     TBA    2003    300000.0   \n",
       "5889    AL  zambrvi01         2100000.0      1     TBA    2004    325000.0   \n",
       "3423    NL  zambrvi01         3000000.0      1     NYN    2005   2100000.0   \n",
       "455     NL  zambrvi01               NaN      1     NYN    2006   3000000.0   \n",
       "1904    AL  zieglbr01          410000.0      1     OAK    2009         NaN   \n",
       "4221    AL  zieglbr01         1250000.0      1     OAK    2010    410000.0   \n",
       "1455    AL  zieglbr01         1795000.0      1     OAK    2011   1250000.0   \n",
       "4701    AL  zimmeje02          250000.0      1     TEX    1999         NaN   \n",
       "4318    AL  zimmeje02          307500.0      1     TEX    2000    250000.0   \n",
       "3271    AL   zitoba01          295000.0      1     OAK    2001         NaN   \n",
       "1335    AL   zitoba01         1000000.0      1     OAK    2002    295000.0   \n",
       "1329    AL   zitoba01         3000000.0      1     OAK    2003   1000000.0   \n",
       "6188    AL   zitoba01         5600000.0      1     OAK    2004   3000000.0   \n",
       "3422    AL   zitoba01         7900000.0      1     OAK    2005   5600000.0   \n",
       "465     AL   zitoba01        10000000.0      1     OAK    2006   7900000.0   \n",
       "5657    NL   zitoba01        14500000.0      1     SFN    2007  10000000.0   \n",
       "719     NL   zitoba01        18500000.0      1     SFN    2008  14500000.0   \n",
       "668     NL   zitoba01               NaN      1     SFN    2009  18500000.0   \n",
       "6       NL   zitoba01               NaN      1     SFN    2010         NaN   \n",
       "6172    NL   zitoba01        19000000.0      1     SFN    2011         NaN   \n",
       "3416    AL  zumayjo01          410000.0      1     DET    2006         NaN   \n",
       "2367    AL  zumayjo01          420000.0      1     DET    2007    410000.0   \n",
       "429     AL  zumayjo01               NaN      1     DET    2008    420000.0   \n",
       "5511    AL  zumayjo01          915000.0      1     DET    2009         NaN   \n",
       "\n",
       "       sal_prev2   sal_after  sal_after2  \n",
       "966          NaN         NaN    419000.0  \n",
       "335          NaN    419000.0   2750000.0  \n",
       "2542    387500.0   2750000.0    500000.0  \n",
       "4047         NaN    500000.0         NaN  \n",
       "1364    419000.0         NaN         NaN  \n",
       "623          NaN    675000.0         NaN  \n",
       "1393         NaN         NaN         NaN  \n",
       "711     625000.0         NaN         NaN  \n",
       "2324         NaN         NaN   1850000.0  \n",
       "317          NaN   1850000.0   2350000.0  \n",
       "715     185000.0   2350000.0   2775000.0  \n",
       "50           NaN   2775000.0   2775000.0  \n",
       "4519   1850000.0   2775000.0   2200000.0  \n",
       "2133   2350000.0   2200000.0    400000.0  \n",
       "5441   2775000.0    400000.0         NaN  \n",
       "2652   2775000.0         NaN         NaN  \n",
       "5612         NaN    235000.0    285000.0  \n",
       "3187         NaN    285000.0   1700000.0  \n",
       "1527    126000.0   1700000.0   3425000.0  \n",
       "3472    235000.0   3425000.0    600000.0  \n",
       "3363    285000.0    600000.0         NaN  \n",
       "5539   1700000.0         NaN         NaN  \n",
       "5423         NaN         NaN   1080000.0  \n",
       "322          NaN   1080000.0   1080000.0  \n",
       "4903    392200.0   1080000.0         NaN  \n",
       "2562         NaN         NaN         NaN  \n",
       "2138         NaN    475000.0    612500.0  \n",
       "1169         NaN    612500.0    850000.0  \n",
       "3714    200000.0    850000.0    900000.0  \n",
       "2914    475000.0    900000.0         NaN  \n",
       "...          ...         ...         ...  \n",
       "4866   6500000.0         NaN  18875000.0  \n",
       "254   12400000.0  18875000.0  18875000.0  \n",
       "6054  16000000.0  18875000.0  19000000.0  \n",
       "3178         NaN  19000000.0         NaN  \n",
       "5158  18875000.0         NaN         NaN  \n",
       "2658         NaN    325000.0   2100000.0  \n",
       "2089         NaN   2100000.0   3000000.0  \n",
       "5889    300000.0   3000000.0         NaN  \n",
       "3423    325000.0         NaN         NaN  \n",
       "455    2100000.0         NaN         NaN  \n",
       "1904         NaN   1250000.0   1795000.0  \n",
       "4221         NaN   1795000.0         NaN  \n",
       "1455    410000.0         NaN         NaN  \n",
       "4701         NaN    307500.0         NaN  \n",
       "4318         NaN         NaN         NaN  \n",
       "3271         NaN   1000000.0   3000000.0  \n",
       "1335         NaN   3000000.0   5600000.0  \n",
       "1329    295000.0   5600000.0   7900000.0  \n",
       "6188   1000000.0   7900000.0  10000000.0  \n",
       "3422   3000000.0  10000000.0  14500000.0  \n",
       "465    5600000.0  14500000.0  18500000.0  \n",
       "5657   7900000.0  18500000.0         NaN  \n",
       "719   10000000.0         NaN         NaN  \n",
       "668   14500000.0         NaN  19000000.0  \n",
       "6     18500000.0  19000000.0         NaN  \n",
       "6172         NaN         NaN         NaN  \n",
       "3416         NaN    420000.0         NaN  \n",
       "2367         NaN         NaN    915000.0  \n",
       "429     410000.0    915000.0         NaN  \n",
       "5511    420000.0         NaN         NaN  \n",
       "\n",
       "[7393 rows x 36 columns]"
      ]
     },
     "execution_count": 6,
     "metadata": {},
     "output_type": "execute_result"
    }
   ],
   "source": [
    "### add salary from previous and next year\n",
    "dat_all=dat_all.sort_values(by=['playerID','yearID']).copy()\n",
    "\n",
    "dat_all['sal_prev']=dat_all.groupby('playerID')['salary_next_year'].shift(1)\n",
    "dat_all['sal_prev2']=dat_all.groupby('playerID')['salary_next_year'].shift(2)\n",
    "\n",
    "dat_all['sal_after']=dat_all.groupby('playerID')['salary_next_year'].shift(-1)\n",
    "dat_all['sal_after2']=dat_all.groupby('playerID')['salary_next_year'].shift(-2)\n",
    "\n",
    "\n",
    "\n",
    "#dat_all[['playerID','yearID', 'sal_prev2','sal_prev', 'salary_next_year', 'sal_after', 'sal_after2']].head()\n",
    "dat_all"
   ]
  },
  {
   "cell_type": "markdown",
   "metadata": {},
   "source": [
    "## 2. EDA"
   ]
  },
  {
   "cell_type": "markdown",
   "metadata": {},
   "source": [
    "### 2-1 Check missing values"
   ]
  },
  {
   "cell_type": "code",
   "execution_count": 7,
   "metadata": {},
   "outputs": [
    {
     "data": {
      "text/plain": [
       "BAOpp               2887\n",
       "BB                     0\n",
       "BFP                    0\n",
       "BK                     1\n",
       "CG                     0\n",
       "ER                     0\n",
       "ERA                    0\n",
       "G                      0\n",
       "GF                     0\n",
       "GIDP                7393\n",
       "GS                     0\n",
       "H                      0\n",
       "HBP                    1\n",
       "HR                     0\n",
       "IBB                    1\n",
       "IPouts                 0\n",
       "L                      0\n",
       "R                      0\n",
       "SF                  7393\n",
       "SH                  7393\n",
       "SHO                    0\n",
       "SO                     0\n",
       "SV                     0\n",
       "W                      0\n",
       "WP                     1\n",
       "id                     0\n",
       "lgID                   0\n",
       "playerID               0\n",
       "salary_next_year    1109\n",
       "stint                  0\n",
       "teamID                 0\n",
       "yearID                 0\n",
       "sal_prev            2165\n",
       "sal_prev2           3230\n",
       "sal_after           2181\n",
       "sal_after2          3224\n",
       "dtype: int64"
      ]
     },
     "execution_count": 7,
     "metadata": {},
     "output_type": "execute_result"
    }
   ],
   "source": [
    "dat_all.isna().sum()"
   ]
  },
  {
   "cell_type": "markdown",
   "metadata": {},
   "source": [
    "### 2-2 Remove **SH**, **SF** and **GIDF** which contain all nan values.\n"
   ]
  },
  {
   "cell_type": "code",
   "execution_count": 8,
   "metadata": {},
   "outputs": [
    {
     "data": {
      "text/plain": [
       "BAOpp               float64\n",
       "BB                    int64\n",
       "BFP                 float64\n",
       "BK                  float64\n",
       "CG                    int64\n",
       "ER                    int64\n",
       "ERA                 float64\n",
       "G                     int64\n",
       "GF                  float64\n",
       "GIDP                float64\n",
       "GS                    int64\n",
       "H                     int64\n",
       "HBP                 float64\n",
       "HR                    int64\n",
       "IBB                 float64\n",
       "IPouts                int64\n",
       "L                     int64\n",
       "R                     int64\n",
       "SF                  float64\n",
       "SH                  float64\n",
       "SHO                   int64\n",
       "SO                    int64\n",
       "SV                    int64\n",
       "W                     int64\n",
       "WP                  float64\n",
       "id                    int64\n",
       "lgID                 object\n",
       "playerID             object\n",
       "salary_next_year    float64\n",
       "stint                 int64\n",
       "teamID               object\n",
       "yearID                int64\n",
       "sal_prev            float64\n",
       "sal_prev2           float64\n",
       "sal_after           float64\n",
       "sal_after2          float64\n",
       "dtype: object"
      ]
     },
     "execution_count": 8,
     "metadata": {},
     "output_type": "execute_result"
    }
   ],
   "source": [
    "#check data type\n",
    "dat_all.dtypes"
   ]
  },
  {
   "cell_type": "code",
   "execution_count": 9,
   "metadata": {},
   "outputs": [],
   "source": [
    "dat_all.drop(columns=[\"SH\", \"SF\",\"GIDP\"], inplace=True)\n"
   ]
  },
  {
   "cell_type": "markdown",
   "metadata": {},
   "source": [
    "### 2-3 Check record per player"
   ]
  },
  {
   "cell_type": "code",
   "execution_count": 10,
   "metadata": {},
   "outputs": [
    {
     "name": "stdout",
     "output_type": "stream",
     "text": [
      "Index(['BAOpp', 'BB', 'BFP', 'BK', 'CG', 'ER', 'ERA', 'G', 'GF', 'GS', 'H',\n",
      "       'HBP', 'HR', 'IBB', 'IPouts', 'L', 'R', 'SHO', 'SO', 'SV', 'W', 'WP',\n",
      "       'id', 'lgID', 'playerID', 'salary_next_year', 'stint', 'teamID',\n",
      "       'yearID', 'sal_prev', 'sal_prev2', 'sal_after', 'sal_after2'],\n",
      "      dtype='object')\n",
      "<class 'pandas.core.indexes.base.Index'>\n"
     ]
    }
   ],
   "source": [
    "colnames=dat_all.keys()\n",
    "print(colnames)\n",
    "print(type(colnames))\n",
    "\n"
   ]
  },
  {
   "cell_type": "markdown",
   "metadata": {},
   "source": [
    "### 2-4 Plot numeric columns"
   ]
  },
  {
   "cell_type": "code",
   "execution_count": 11,
   "metadata": {},
   "outputs": [
    {
     "name": "stdout",
     "output_type": "stream",
     "text": [
      "['lgID', 'playerID', 'teamID', 'yearID']\n"
     ]
    }
   ],
   "source": [
    "#check ID counts\n",
    "lst_id=lst=[k for k in colnames if \"ID\" in k]\n",
    "print(lst_id)\n"
   ]
  },
  {
   "cell_type": "code",
   "execution_count": 12,
   "metadata": {},
   "outputs": [
    {
     "data": {
      "text/plain": [
       "2     216\n",
       "3     213\n",
       "4     153\n",
       "5     135\n",
       "7      92\n",
       "6      90\n",
       "9      76\n",
       "8      72\n",
       "10     50\n",
       "11     36\n",
       "13     31\n",
       "12     28\n",
       "14     16\n",
       "16     13\n",
       "15      9\n",
       "17      9\n",
       "19      5\n",
       "20      3\n",
       "18      2\n",
       "21      1\n",
       "24      1\n",
       "Name: playerID, dtype: int64"
      ]
     },
     "execution_count": 12,
     "metadata": {},
     "output_type": "execute_result"
    }
   ],
   "source": [
    "#record per playerID\n",
    "player_ct=pd.DataFrame(dat_all[lst_id[1]].value_counts())\n",
    "player_ct.index.name = 'ID'\n",
    "player_ct.reset_index(inplace=True)\n",
    "player_ct.rename(columns={'ID':'playerID', 'playerID':'record_counts'}, inplace=True)\n",
    "#player_ct\n",
    "dat_all[lst_id[1]].value_counts().value_counts()\n",
    "\n"
   ]
  },
  {
   "cell_type": "code",
   "execution_count": 13,
   "metadata": {},
   "outputs": [
    {
     "name": "stdout",
     "output_type": "stream",
     "text": [
      "['BAOpp', 'BB', 'BFP', 'BK', 'CG', 'ER', 'ERA', 'G', 'GF', 'GS', 'H', 'HBP', 'HR', 'IBB', 'IPouts', 'L', 'R', 'SHO', 'SO', 'SV', 'W', 'WP', 'salary_next_year', 'stint', 'sal_prev', 'sal_prev2', 'sal_after', 'sal_after2']\n"
     ]
    },
    {
     "data": {
      "image/png": "[encoded data removed]",
      "text/plain": [
       "<Figure size 432x288 with 1 Axes>"
      ]
     },
     "metadata": {
      "needs_background": "light"
     },
     "output_type": "display_data"
    },
    {
     "data": {
      "image/png": "[encoded data removed]",
      "text/plain": [
       "<Figure size 432x288 with 1 Axes>"
      ]
     },
     "metadata": {
      "needs_background": "light"
     },
     "output_type": "display_data"
    },
    {
     "data": {
      "image/png": "[encoded data removed]",
      "text/plain": [
       "<Figure size 432x288 with 1 Axes>"
      ]
     },
     "metadata": {
      "needs_background": "light"
     },
     "output_type": "display_data"
    },
    {
     "data": {
      "image/png": "[encoded data removed]",
      "text/plain": [
       "<Figure size 432x288 with 1 Axes>"
      ]
     },
     "metadata": {
      "needs_background": "light"
     },
     "output_type": "display_data"
    },
    {
     "data": {
      "image/png": "[encoded data removed]",
      "text/plain": [
       "<Figure size 432x288 with 1 Axes>"
      ]
     },
     "metadata": {
      "needs_background": "light"
     },
     "output_type": "display_data"
    },
    {
     "data": {
      "image/png": "[encoded data removed]",
      "text/plain": [
       "<Figure size 432x288 with 1 Axes>"
      ]
     },
     "metadata": {
      "needs_background": "light"
     },
     "output_type": "display_data"
    },
    {
     "data": {
      "image/png": "[encoded data removed]",
      "text/plain": [
       "<Figure size 432x288 with 1 Axes>"
      ]
     },
     "metadata": {
      "needs_background": "light"
     },
     "output_type": "display_data"
    },
    {
     "data": {
      "image/png": "[encoded data removed]",
      "text/plain": [
       "<Figure size 432x288 with 1 Axes>"
      ]
     },
     "metadata": {
      "needs_background": "light"
     },
     "output_type": "display_data"
    },
    {
     "data": {
      "image/png": "[encoded data removed]",
      "text/plain": [
       "<Figure size 432x288 with 1 Axes>"
      ]
     },
     "metadata": {
      "needs_background": "light"
     },
     "output_type": "display_data"
    },
    {
     "data": {
      "image/png": "[encoded data removed]",
      "text/plain": [
       "<Figure size 432x288 with 1 Axes>"
      ]
     },
     "metadata": {
      "needs_background": "light"
     },
     "output_type": "display_data"
    },
    {
     "data": {
      "image/png": "[encoded data removed]",
      "text/plain": [
       "<Figure size 432x288 with 1 Axes>"
      ]
     },
     "metadata": {
      "needs_background": "light"
     },
     "output_type": "display_data"
    },
    {
     "data": {
      "image/png": "[encoded data removed]",
      "text/plain": [
       "<Figure size 432x288 with 1 Axes>"
      ]
     },
     "metadata": {
      "needs_background": "light"
     },
     "output_type": "display_data"
    },
    {
     "data": {
      "image/png": "[encoded data removed]",
      "text/plain": [
       "<Figure size 432x288 with 1 Axes>"
      ]
     },
     "metadata": {
      "needs_background": "light"
     },
     "output_type": "display_data"
    },
    {
     "data": {
      "image/png": "[encoded data removed]",
      "text/plain": [
       "<Figure size 432x288 with 1 Axes>"
      ]
     },
     "metadata": {
      "needs_background": "light"
     },
     "output_type": "display_data"
    },
    {
     "data": {
      "image/png": "[encoded data removed]",
      "text/plain": [
       "<Figure size 432x288 with 1 Axes>"
      ]
     },
     "metadata": {
      "needs_background": "light"
     },
     "output_type": "display_data"
    },
    {
     "data": {
      "image/png": "[encoded data removed]",
      "text/plain": [
       "<Figure size 432x288 with 1 Axes>"
      ]
     },
     "metadata": {
      "needs_background": "light"
     },
     "output_type": "display_data"
    },
    {
     "data": {
      "image/png": "[encoded data removed]",
      "text/plain": [
       "<Figure size 432x288 with 1 Axes>"
      ]
     },
     "metadata": {
      "needs_background": "light"
     },
     "output_type": "display_data"
    },
    {
     "data": {
      "image/png": "[encoded data removed]",
      "text/plain": [
       "<Figure size 432x288 with 1 Axes>"
      ]
     },
     "metadata": {
      "needs_background": "light"
     },
     "output_type": "display_data"
    },
    {
     "data": {
      "image/png": "[encoded data removed]",
      "text/plain": [
       "<Figure size 432x288 with 1 Axes>"
      ]
     },
     "metadata": {
      "needs_background": "light"
     },
     "output_type": "display_data"
    },
    {
     "data": {
      "image/png": "[encoded data removed]",
      "text/plain": [
       "<Figure size 432x288 with 1 Axes>"
      ]
     },
     "metadata": {
      "needs_background": "light"
     },
     "output_type": "display_data"
    },
    {
     "data": {
      "image/png": "[encoded data removed]",
      "text/plain": [
       "<Figure size 432x288 with 1 Axes>"
      ]
     },
     "metadata": {
      "needs_background": "light"
     },
     "output_type": "display_data"
    },
    {
     "data": {
      "image/png": "[encoded data removed]",
      "text/plain": [
       "<Figure size 432x288 with 1 Axes>"
      ]
     },
     "metadata": {
      "needs_background": "light"
     },
     "output_type": "display_data"
    },
    {
     "data": {
      "image/png": "[encoded data removed]",
      "text/plain": [
       "<Figure size 432x288 with 1 Axes>"
      ]
     },
     "metadata": {
      "needs_background": "light"
     },
     "output_type": "display_data"
    },
    {
     "data": {
      "image/png": "[encoded data removed]",
      "text/plain": [
       "<Figure size 432x288 with 1 Axes>"
      ]
     },
     "metadata": {
      "needs_background": "light"
     },
     "output_type": "display_data"
    },
    {
     "data": {
      "image/png": "[encoded data removed]",
      "text/plain": [
       "<Figure size 432x288 with 1 Axes>"
      ]
     },
     "metadata": {
      "needs_background": "light"
     },
     "output_type": "display_data"
    },
    {
     "data": {
      "image/png": "[encoded data removed]",
      "text/plain": [
       "<Figure size 432x288 with 1 Axes>"
      ]
     },
     "metadata": {
      "needs_background": "light"
     },
     "output_type": "display_data"
    },
    {
     "data": {
      "image/png": "[encoded data removed]",
      "text/plain": [
       "<Figure size 432x288 with 1 Axes>"
      ]
     },
     "metadata": {
      "needs_background": "light"
     },
     "output_type": "display_data"
    },
    {
     "data": {
      "image/png": "[encoded data removed]",
      "text/plain": [
       "<Figure size 432x288 with 1 Axes>"
      ]
     },
     "metadata": {
      "needs_background": "light"
     },
     "output_type": "display_data"
    }
   ],
   "source": [
    "##remove ID columns before plotting\n",
    "lst=[k for k in colnames if \"ID\" not in k]\n",
    "lst=[k for k in lst if \"id\" not in k]\n",
    "print(lst)\n",
    "\n",
    "for i in lst :\n",
    "    dat=dat_all[i].dropna()\n",
    "    plt.hist(dat, bins=20)\n",
    "    plt.title(i)\n",
    "    plt.show()\n",
    "    "
   ]
  },
  {
   "cell_type": "markdown",
   "metadata": {},
   "source": [
    "## 3. Feature Engineering"
   ]
  },
  {
   "cell_type": "code",
   "execution_count": 14,
   "metadata": {},
   "outputs": [],
   "source": [
    "#### Combine train and test data for feature engineering\n",
    "x_all=dat_all.drop(columns=(\"salary_next_year\")).copy()\n",
    "y_all=dat_all.salary_next_year.copy()\n",
    "\n",
    "#transform y to log(y) \n",
    "#y_all=np.log1p(y_all)"
   ]
  },
  {
   "cell_type": "markdown",
   "metadata": {},
   "source": [
    "### 3-1 Label top and bottom players"
   ]
  },
  {
   "cell_type": "code",
   "execution_count": 15,
   "metadata": {},
   "outputs": [
    {
     "name": "stdout",
     "output_type": "stream",
     "text": [
      "Labeled Top 8 th Players\n",
      "and 338 th Players afterwards\n"
     ]
    }
   ],
   "source": [
    "#Select playerID with top12 salaries\n",
    "top_players=dat_all.nlargest(12, 'salary_next_year').playerID.unique()\n",
    "\n",
    "#select playerID with bottom 500 salaries\n",
    "bottom_players=dat_all.nsmallest(500, 'salary_next_year').playerID.unique()   #way more bottom players than top ones\n",
    "bottom_players\n",
    "\n",
    "#label top and bottom players\n",
    "x_all['top_players']=np.where(x_all['playerID'].isin(top_players),1,0)\n",
    "x_all['bottom_players']=np.where(x_all['playerID'].isin(bottom_players),1,0)\n",
    "\n",
    "print('Labeled Top', len(top_players), 'th Players')\n",
    "print('and', len(bottom_players), 'th Players afterwards')"
   ]
  },
  {
   "cell_type": "markdown",
   "metadata": {},
   "source": [
    "#### plot salary trends"
   ]
  },
  {
   "cell_type": "code",
   "execution_count": 16,
   "metadata": {},
   "outputs": [
    {
     "data": {
      "text/plain": [
       "<Figure size 960x480 with 0 Axes>"
      ]
     },
     "metadata": {},
     "output_type": "display_data"
    },
    {
     "data": {
      "image/png": "[encoded data removed]",
      "text/plain": [
       "<Figure size 432x288 with 1 Axes>"
      ]
     },
     "metadata": {
      "needs_background": "light"
     },
     "output_type": "display_data"
    },
    {
     "data": {
      "text/plain": [
       "<Figure size 960x480 with 0 Axes>"
      ]
     },
     "metadata": {},
     "output_type": "display_data"
    },
    {
     "data": {
      "image/png": "[encoded data removed]",
      "text/plain": [
       "<Figure size 432x288 with 1 Axes>"
      ]
     },
     "metadata": {
      "needs_background": "light"
     },
     "output_type": "display_data"
    }
   ],
   "source": [
    "#top players\n",
    "subset = dat_all.loc[dat_all['playerID']==top_players[4],:].sort_values(by=['yearID'])\n",
    "plt.figure(figsize=(12, 6), dpi=80)\n",
    "subset.groupby('playerID').plot(x='yearID', y='salary_next_year', legend=True)\n",
    "plt.title('One of the top players')\n",
    "plt.show()\n",
    "\n",
    "#top players\n",
    "subset = dat_all.loc[dat_all['playerID']==bottom_players[4],:].sort_values(by=['yearID'])\n",
    "plt.figure(figsize=(12, 6), dpi=80)\n",
    "subset.groupby('playerID').plot(x='yearID', y='salary_next_year', legend=True)\n",
    "plt.title('One of the bottom players')\n",
    "plt.show()\n",
    "\n"
   ]
  },
  {
   "cell_type": "markdown",
   "metadata": {},
   "source": [
    "### 3-2 Add **Total years** and types of contract terms"
   ]
  },
  {
   "cell_type": "code",
   "execution_count": 17,
   "metadata": {},
   "outputs": [],
   "source": [
    "##total years\n",
    "x_all['total_years']=x_all.groupby('playerID')['yearID'].transform('nunique')\n",
    "\n",
    "#terms (short, medium, long)\n",
    "def func(df):\n",
    "    if df['total_years'] <= 4 :\n",
    "        return 'short'\n",
    "    if 5< df['total_years'] <= 10:\n",
    "        return 'medium'\n",
    "    else:\n",
    "        return 'long'\n",
    "\n",
    "x_all['terms'] = x_all.apply(func, axis='columns')\n"
   ]
  },
  {
   "cell_type": "markdown",
   "metadata": {},
   "source": [
    "### 3-3 Add other new features"
   ]
  },
  {
   "cell_type": "code",
   "execution_count": 18,
   "metadata": {},
   "outputs": [],
   "source": [
    "# Turn BAOpp into binary variable\n",
    "x_all['BAOpp_type']=np.where(x_all['BAOpp']>0, 1, 0)\n",
    "\n",
    "#Winnine percentage(WPCT)\n",
    "x_all['WPCT']=x_all.W/(x_all.W+x_all.L)\n",
    "x_all.WPCT.fillna(0, inplace=True)\n",
    "## WPCT previous year\n",
    "x_all['WPCT_prev']=x_all.groupby('playerID',)['WPCT'].shift(1)\n",
    "x_all['WPCT_prev2']=x_all.groupby('playerID',)['WPCT'].shift(2)\n",
    "x_all['WPCT_prev3']=x_all.groupby('playerID',)['WPCT'].shift(3)\n",
    "x_all['WPCT_after']=x_all.groupby('playerID',)['WPCT'].shift(-1)\n",
    "x_all['WPCT_after2']=x_all.groupby('playerID',)['WPCT'].shift(-2)\n",
    "\n",
    "##Home runs\n",
    "x_all['HR_prev']=x_all.groupby('playerID',)['HR'].shift(1)\n",
    "x_all['HR_prev2']=x_all.groupby('playerID',)['HR'].shift(2)\n",
    "x_all['HR_prev3']=x_all.groupby('playerID',)['HR'].shift(3)\n",
    "x_all['HR_after']=x_all.groupby('playerID',)['HR'].shift(-1)\n",
    "x_all['HR_after2']=x_all.groupby('playerID',)['HR'].shift(-2)\n",
    "\n",
    "#WHIP是Walks Plus Hits per Inning Pitched的縮寫，意思是「投手每投一局會讓多少人上壘」，算法是保送(BB)+安打(H)/局數(IP)\n",
    "x_all['WHIP']=(x_all.BB+x_all.H)/x_all.IPouts/3\n",
    "x_all['WHIP_prev']=x_all.groupby('playerID',)['WHIP'].shift(1)\n",
    "x_all['WHIP_prev2']=x_all.groupby('playerID',)['WHIP'].shift(2)\n",
    "x_all['WHIP_prev3']=x_all.groupby('playerID',)['WHIP'].shift(3)\n",
    "x_all['WHIP_after']=x_all.groupby('playerID',)['WHIP'].shift(-1)\n",
    "x_all['WHIP_after2']=x_all.groupby('playerID',)['WHIP'].shift(-2)\n",
    "\n",
    "##all walks \n",
    "x_all['walks_G']=(x_all.BB+x_all.IBB)/x_all.G\n",
    "\n",
    "## rookie_year in league\n",
    "x_all['nth_year']=x_all.groupby('playerID')['yearID'].rank(\"dense\", ascending=False) #nth year\n",
    "x_all['rookie']=np.where(x_all['nth_year']==1, 1, 0)\n",
    "\n",
    "##saves, shoutouts and wins by IP\n",
    "x_all['positive_ind']=(x_all.SV+x_all.SO+x_all.W)/x_all.IPouts/3\n",
    "\n",
    "\n",
    "#x_all"
   ]
  },
  {
   "cell_type": "code",
   "execution_count": 19,
   "metadata": {},
   "outputs": [
    {
     "data": {
      "image/png": "[encoded data removed]",
      "text/plain": [
       "<Figure size 432x288 with 1 Axes>"
      ]
     },
     "metadata": {
      "needs_background": "light"
     },
     "output_type": "display_data"
    },
    {
     "data": {
      "image/png": "[encoded data removed]",
      "text/plain": [
       "<Figure size 432x288 with 1 Axes>"
      ]
     },
     "metadata": {
      "needs_background": "light"
     },
     "output_type": "display_data"
    },
    {
     "data": {
      "image/png": "[encoded data removed]",
      "text/plain": [
       "<Figure size 432x288 with 1 Axes>"
      ]
     },
     "metadata": {
      "needs_background": "light"
     },
     "output_type": "display_data"
    },
    {
     "data": {
      "image/png": "[encoded data removed]",
      "text/plain": [
       "<Figure size 432x288 with 1 Axes>"
      ]
     },
     "metadata": {
      "needs_background": "light"
     },
     "output_type": "display_data"
    },
    {
     "data": {
      "text/plain": [
       "<matplotlib.axes._subplots.AxesSubplot at 0x7eff39ebbb00>"
      ]
     },
     "execution_count": 19,
     "metadata": {},
     "output_type": "execute_result"
    },
    {
     "data": {
      "image/png": "[encoded data removed]",
      "text/plain": [
       "<Figure size 432x288 with 1 Axes>"
      ]
     },
     "metadata": {
      "needs_background": "light"
     },
     "output_type": "display_data"
    }
   ],
   "source": [
    "#Plot new features\n",
    "x_all.WPCT.hist(bins=30)\n",
    "plt.show()\n",
    "x_all.WHIP.hist(bins=30)\n",
    "plt.show()\n",
    "#x_all.walks.hist(bins=30)\n",
    "#plt.show()\n",
    "x_all.walks_G.hist(bins=30)\n",
    "plt.show()\n",
    "test.yearID.hist()\n",
    "plt.show()\n",
    "x_all.total_years.hist(bins=20)\n"
   ]
  },
  {
   "cell_type": "markdown",
   "metadata": {},
   "source": [
    "### 3-4 Label encoding"
   ]
  },
  {
   "cell_type": "code",
   "execution_count": 20,
   "metadata": {},
   "outputs": [
    {
     "name": "stdout",
     "output_type": "stream",
     "text": [
      "<class 'pandas.core.frame.DataFrame'>\n",
      "Int64Index: 7393 entries, 966 to 5511\n",
      "Data columns (total 58 columns):\n",
      "BAOpp             4506 non-null float64\n",
      "BB                7393 non-null int64\n",
      "BFP               7393 non-null float64\n",
      "BK                7392 non-null float64\n",
      "CG                7393 non-null int64\n",
      "ER                7393 non-null int64\n",
      "ERA               7393 non-null float64\n",
      "G                 7393 non-null int64\n",
      "GF                7393 non-null float64\n",
      "GS                7393 non-null int64\n",
      "H                 7393 non-null int64\n",
      "HBP               7392 non-null float64\n",
      "HR                7393 non-null int64\n",
      "IBB               7392 non-null float64\n",
      "IPouts            7393 non-null int64\n",
      "L                 7393 non-null int64\n",
      "R                 7393 non-null int64\n",
      "SHO               7393 non-null int64\n",
      "SO                7393 non-null int64\n",
      "SV                7393 non-null int64\n",
      "W                 7393 non-null int64\n",
      "WP                7392 non-null float64\n",
      "id                7393 non-null int64\n",
      "lgID              7393 non-null int64\n",
      "playerID          7393 non-null int64\n",
      "stint             7393 non-null int64\n",
      "teamID            7393 non-null int64\n",
      "yearID            7393 non-null int64\n",
      "sal_prev          5228 non-null float64\n",
      "sal_prev2         4163 non-null float64\n",
      "sal_after         5212 non-null float64\n",
      "sal_after2        4169 non-null float64\n",
      "top_players       7393 non-null int64\n",
      "bottom_players    7393 non-null int64\n",
      "total_years       7393 non-null int64\n",
      "terms             7393 non-null int64\n",
      "BAOpp_type        7393 non-null int64\n",
      "WPCT              7393 non-null float64\n",
      "WPCT_prev         6142 non-null float64\n",
      "WPCT_prev2        4891 non-null float64\n",
      "WPCT_prev3        3856 non-null float64\n",
      "WPCT_after        6142 non-null float64\n",
      "WPCT_after2       4891 non-null float64\n",
      "HR_prev           6142 non-null float64\n",
      "HR_prev2          4891 non-null float64\n",
      "HR_prev3          3856 non-null float64\n",
      "HR_after          6142 non-null float64\n",
      "HR_after2         4891 non-null float64\n",
      "WHIP              7393 non-null float64\n",
      "WHIP_prev         6142 non-null float64\n",
      "WHIP_prev2        4891 non-null float64\n",
      "WHIP_prev3        3856 non-null float64\n",
      "WHIP_after        6142 non-null float64\n",
      "WHIP_after2       4891 non-null float64\n",
      "walks_G           7392 non-null float64\n",
      "nth_year          7393 non-null float64\n",
      "rookie            7393 non-null int64\n",
      "positive_ind      7393 non-null float64\n",
      "dtypes: float64(32), int64(26)\n",
      "memory usage: 3.3 MB\n"
     ]
    }
   ],
   "source": [
    "#label encoding\n",
    "from sklearn import preprocessing  #import class preprocessing from sklearn\n",
    "LE=preprocessing.LabelEncoder()\n",
    "# label encoding for all object columns\n",
    "for col in x_all.select_dtypes(\"object\").columns :\n",
    "    LE=preprocessing.LabelEncoder()\n",
    "    x_all[col]=LE.fit_transform(x_all[col])\n",
    "\n",
    "x_all.info()"
   ]
  },
  {
   "cell_type": "markdown",
   "metadata": {},
   "source": [
    "#### One hot encoding (最後沒用)"
   ]
  },
  {
   "cell_type": "code",
   "execution_count": 21,
   "metadata": {},
   "outputs": [],
   "source": [
    "def one_hot_encoding(dat, columns_one_hot):\n",
    "    return pd.get_dummies(dat, columns=columns_one_hot)\n",
    "\n",
    "columns_one_hot=['yearID']\n",
    "x_all_one_hot=one_hot_encoding(x_all, columns_one_hot)\n",
    "#x_all_one_hot.info()"
   ]
  },
  {
   "cell_type": "markdown",
   "metadata": {},
   "source": [
    "## 4. Modeling"
   ]
  },
  {
   "cell_type": "markdown",
   "metadata": {},
   "source": [
    "### 4-1 Prepare data list "
   ]
  },
  {
   "cell_type": "code",
   "execution_count": 22,
   "metadata": {},
   "outputs": [],
   "source": [
    "dat=x_all\n",
    "#dat=x_all_one_hot\n",
    "test_processed = dat[y_all.isna()]   #testing data 沒有y\n",
    "train_processed = dat[~y_all.isna()] # not= '~' "
   ]
  },
  {
   "cell_type": "code",
   "execution_count": 23,
   "metadata": {},
   "outputs": [
    {
     "name": "stdout",
     "output_type": "stream",
     "text": [
      "(1109, 58)\n",
      "(6284, 58)\n"
     ]
    }
   ],
   "source": [
    "print(test_processed.shape)\n",
    "print(train_processed.shape)"
   ]
  },
  {
   "cell_type": "code",
   "execution_count": 24,
   "metadata": {},
   "outputs": [
    {
     "name": "stdout",
     "output_type": "stream",
     "text": [
      "Index(['CG', 'ER', 'ERA', 'G', 'GF', 'GS', 'HR', 'IBB', 'IPouts', 'SHO', 'SO',\n",
      "       'SV', 'WP', 'lgID', 'playerID', 'teamID', 'yearID', 'sal_prev',\n",
      "       'sal_prev2', 'sal_after', 'sal_after2', 'top_players', 'bottom_players',\n",
      "       'total_years', 'terms', 'BAOpp_type', 'WPCT', 'WPCT_prev', 'WPCT_prev2',\n",
      "       'WPCT_prev3', 'WPCT_after', 'WPCT_after2', 'HR_prev', 'HR_prev2',\n",
      "       'HR_prev3', 'HR_after', 'HR_after2', 'WHIP', 'WHIP_prev', 'WHIP_prev2',\n",
      "       'WHIP_prev3', 'WHIP_after', 'WHIP_after2', 'walks_G', 'rookie'],\n",
      "      dtype='object')\n"
     ]
    }
   ],
   "source": [
    "from sklearn.model_selection import train_test_split\n",
    "drop_cols=[\"id\", \"W\", 'L',\"BAOpp\",'BFP','BK','BB', 'H', 'HBP', 'R', 'stint', 'positive_ind', 'nth_year'] #columns to remove\n",
    "#drop_cols=[\"id\"] \n",
    "train_cols = train_processed.drop(columns=drop_cols).columns   \n",
    "print(train_cols)\n",
    "x_train, x_test, y_train, y_test = train_test_split(train_processed[train_cols], \n",
    "                                                    y_all[~y_all.isna()], \n",
    "                                                    test_size=0.3, random_state=100)\n",
    "#x_train.sort_values(by=['playerID','yearID'])"
   ]
  },
  {
   "cell_type": "markdown",
   "metadata": {},
   "source": [
    "### 4-2 Modeling"
   ]
  },
  {
   "cell_type": "markdown",
   "metadata": {},
   "source": [
    "#### LGBM Regressor"
   ]
  },
  {
   "cell_type": "code",
   "execution_count": 25,
   "metadata": {},
   "outputs": [],
   "source": [
    "import lightgbm as lgb\n",
    "model=lgb.LGBMRegressor(learning_rate=0.05\n",
    "                        , n_estimators=200, random_state=3000, reg_lambda=1.8)\n",
    "model.fit(x_train, y_train, early_stopping_rounds=4, eval_set=[(x_test, y_test)], verbose=False)\n",
    "y_pred = model.predict(x_test)"
   ]
  },
  {
   "cell_type": "markdown",
   "metadata": {},
   "source": [
    "### 4-5 Model evaluation"
   ]
  },
  {
   "cell_type": "code",
   "execution_count": 26,
   "metadata": {},
   "outputs": [
    {
     "data": {
      "text/html": [
       "<div>\n",
       "<style scoped>\n",
       "    .dataframe tbody tr th:only-of-type {\n",
       "        vertical-align: middle;\n",
       "    }\n",
       "\n",
       "    .dataframe tbody tr th {\n",
       "        vertical-align: top;\n",
       "    }\n",
       "\n",
       "    .dataframe thead th {\n",
       "        text-align: right;\n",
       "    }\n",
       "</style>\n",
       "<table border=\"1\" class=\"dataframe\">\n",
       "  <thead>\n",
       "    <tr style=\"text-align: right;\">\n",
       "      <th></th>\n",
       "      <th>Actual</th>\n",
       "      <th>Predicted</th>\n",
       "    </tr>\n",
       "  </thead>\n",
       "  <tbody>\n",
       "    <tr>\n",
       "      <th>5247</th>\n",
       "      <td>245000.0</td>\n",
       "      <td>2.612510e+05</td>\n",
       "    </tr>\n",
       "    <tr>\n",
       "      <th>5684</th>\n",
       "      <td>3633333.0</td>\n",
       "      <td>3.347426e+06</td>\n",
       "    </tr>\n",
       "    <tr>\n",
       "      <th>4338</th>\n",
       "      <td>90000.0</td>\n",
       "      <td>1.433156e+05</td>\n",
       "    </tr>\n",
       "    <tr>\n",
       "      <th>2189</th>\n",
       "      <td>475000.0</td>\n",
       "      <td>1.051060e+06</td>\n",
       "    </tr>\n",
       "    <tr>\n",
       "      <th>4210</th>\n",
       "      <td>800000.0</td>\n",
       "      <td>7.885729e+05</td>\n",
       "    </tr>\n",
       "  </tbody>\n",
       "</table>\n",
       "</div>"
      ],
      "text/plain": [
       "         Actual     Predicted\n",
       "5247   245000.0  2.612510e+05\n",
       "5684  3633333.0  3.347426e+06\n",
       "4338    90000.0  1.433156e+05\n",
       "2189   475000.0  1.051060e+06\n",
       "4210   800000.0  7.885729e+05"
      ]
     },
     "execution_count": 26,
     "metadata": {},
     "output_type": "execute_result"
    }
   ],
   "source": [
    "#transform back\n",
    "#y_test=np.expm1(y_test)\n",
    "#y_pred=np.expm1(y_pred)\n",
    "\n",
    "df=pd.DataFrame({'Actual':y_test, 'Predicted':y_pred})\n",
    "df.head()"
   ]
  },
  {
   "cell_type": "markdown",
   "metadata": {},
   "source": [
    "#### MAE"
   ]
  },
  {
   "cell_type": "code",
   "execution_count": 27,
   "metadata": {},
   "outputs": [
    {
     "name": "stdout",
     "output_type": "stream",
     "text": [
      "Mean Absolute Error: 584154.7587730235\n"
     ]
    }
   ],
   "source": [
    "from sklearn import metrics\n",
    "print('Mean Absolute Error:', metrics.mean_absolute_error(y_test, y_pred))\n",
    "#print('Mean Squared Error:', metrics.mean_squared_error(y_test, y_pred))\n",
    "#print('Root Mean Squared Error:', np.sqrt(metrics.mean_squared_error(y_test, y_pred)))"
   ]
  },
  {
   "cell_type": "markdown",
   "metadata": {},
   "source": [
    "#### Kfolds CV (optional)"
   ]
  },
  {
   "cell_type": "code",
   "execution_count": 27,
   "metadata": {},
   "outputs": [
    {
     "name": "stderr",
     "output_type": "stream",
     "text": [
      "/opt/conda/lib/python3.6/site-packages/sklearn/model_selection/_split.py:657: Warning: The least populated class in y has only 1 members, which is too few. The minimum number of members in any class cannot be less than n_splits=40.\n",
      "  % (min_groups, self.n_splits)), Warning)\n"
     ]
    },
    {
     "name": "stdout",
     "output_type": "stream",
     "text": [
      "K-fold CV average score: 619496.39\n"
     ]
    }
   ],
   "source": [
    "#from sklearn.model_selection import StratifiedKFold\n",
    "#from sklearn.model_selection import cross_val_score\n",
    "#kfold = StratifiedKFold(n_splits=40, random_state=7)\n",
    "#scores = cross_val_score(model, x_train, y_train, cv=kfold, scoring='neg_mean_absolute_error')\n",
    "#print(\"K-fold CV average score: %.2f\" % -scores.mean())\n"
   ]
  },
  {
   "cell_type": "markdown",
   "metadata": {},
   "source": [
    "#### Plot actual vs. predicted values"
   ]
  },
  {
   "cell_type": "code",
   "execution_count": 28,
   "metadata": {},
   "outputs": [
    {
     "data": {
      "image/png": "[encoded data removed]",
      "text/plain": [
       "<Figure size 1200x640 with 1 Axes>"
      ]
     },
     "metadata": {
      "needs_background": "light"
     },
     "output_type": "display_data"
    }
   ],
   "source": [
    "x_ax = range(len(y_test))\n",
    "plt.figure(figsize=(15, 8), dpi=80)\n",
    "plt.scatter(x_ax, y_test, s=10, color=\"blue\", label=\"original\")\n",
    "plt.plot(x_ax, y_pred, lw=0.8, color=\"red\", label=\"predicted\")\n",
    "plt.legend()\n",
    "plt.show()"
   ]
  },
  {
   "cell_type": "markdown",
   "metadata": {},
   "source": [
    "### Feature Importance"
   ]
  },
  {
   "cell_type": "code",
   "execution_count": 29,
   "metadata": {},
   "outputs": [
    {
     "data": {
      "text/plain": [
       "<matplotlib.axes._subplots.AxesSubplot at 0x7eff3a18eac8>"
      ]
     },
     "execution_count": 29,
     "metadata": {},
     "output_type": "execute_result"
    },
    {
     "data": {
      "image/png": "[encoded data removed]",
      "text/plain": [
       "<Figure size 1152x1152 with 1 Axes>"
      ]
     },
     "metadata": {
      "needs_background": "light"
     },
     "output_type": "display_data"
    }
   ],
   "source": [
    "from lightgbm import plot_importance\n",
    "plot_importance(model, height=2,figsize=(16, 16))"
   ]
  },
  {
   "cell_type": "markdown",
   "metadata": {},
   "source": [
    "#### Hyperparameter tuning: Randomized Search Cross Validation (didn't work well)"
   ]
  },
  {
   "cell_type": "code",
   "execution_count": null,
   "metadata": {},
   "outputs": [
    {
     "name": "stdout",
     "output_type": "stream",
     "text": [
      "Fitting 20 folds for each of 10 candidates, totalling 200 fits\n"
     ]
    }
   ],
   "source": [
    "from sklearn.model_selection import RandomizedSearchCV\n",
    "params = {\n",
    " 'boosting_type' : ['gbdt', 'goss'],\n",
    " 'n_estimators': [int(x) for x in np.linspace(start = 100, stop = 3000, num = 50)],\n",
    " 'learning_rate' : [float(x) for x in np.linspace(start = 0.05042, stop = 0.05049, num = 50)],\n",
    " 'loss' : ['linear', 'square', 'exponential'],\n",
    " 'reg_lambda' : [float(x) for x in np.linspace(start = 1.86, stop = 1.89, num = 50)],\n",
    " 'random_state' : [int(x) for x in np.linspace(start = 50, stop = 3000, num = 30)]\n",
    " }\n",
    "\n",
    "#score = make_scorer(metrics.mean_absolute_error)\n",
    "\n",
    "randomsearch = RandomizedSearchCV(model, params, cv=20, verbose=1, return_train_score=True)\n",
    "randomsearch.fit(x_train, y_train, early_stopping_rounds=4, eval_set=[(x_test, y_test)], verbose=False)"
   ]
  },
  {
   "cell_type": "code",
   "execution_count": null,
   "metadata": {},
   "outputs": [],
   "source": [
    "### fit model with best parameters\n",
    "best=randomsearch.best_params_\n",
    "print(best)\n",
    "model_best=lgb.LGBMRegressor(reg_lambda= best['reg_lambda'], \n",
    "                             random_state= best['random_state'], \n",
    "                             n_estimators= best['n_estimators'], \n",
    "                             loss= best['loss'], \n",
    "                             learning_rate= best['learning_rate'], \n",
    "                             boosting_type= best['boosting_type'])\n",
    "#dart doesn't take early_stopping_rounds\n",
    "if best['boosting_type']=='dart':\n",
    "    early_stopping_rounds='None'\n",
    "else:\n",
    "    early_stopping_rounds=4\n",
    "\n",
    "#fit model    \n",
    "model_best.fit(x_train, y_train, \n",
    "               early_stopping_rounds=early_stopping_rounds, \n",
    "               eval_set=[(x_test, y_test)], \n",
    "               verbose=False)\n",
    "y_pred_best = model_best.predict(x_test)\n",
    "print('Best Random Searched Score:', randomsearch.best_score_)\n",
    "print('Mean Absolute Error Best:', metrics.mean_absolute_error(y_test, y_pred_best))"
   ]
  },
  {
   "cell_type": "markdown",
   "metadata": {},
   "source": [
    "### 5. Submission"
   ]
  },
  {
   "cell_type": "code",
   "execution_count": 34,
   "metadata": {},
   "outputs": [],
   "source": [
    "dat=test_processed.drop(columns=drop_cols)\n",
    "#dat.fillna(0, inplace=True)\n",
    "y_pred=model.predict(dat)\n",
    "#y_pred=mode_best.predict(dat)  #use model_best after hyperparameter tuning\n",
    "#y_pred\n"
   ]
  },
  {
   "cell_type": "code",
   "execution_count": 35,
   "metadata": {},
   "outputs": [
    {
     "name": "stderr",
     "output_type": "stream",
     "text": [
      "/opt/conda/lib/python3.7/site-packages/ipykernel_launcher.py:2: SettingWithCopyWarning: \n",
      "A value is trying to be set on a copy of a slice from a DataFrame.\n",
      "Try using .loc[row_indexer,col_indexer] = value instead\n",
      "\n",
      "See the caveats in the documentation: http://pandas.pydata.org/pandas-docs/stable/indexing.html#indexing-view-versus-copy\n",
      "  \n"
     ]
    }
   ],
   "source": [
    "#把y_pred加回原本的testing data\n",
    "test_processed['salary_next_year']=y_pred\n",
    "#test_processed['salary_next_year']=np.expm1(y_pred)   #if log transformed"
   ]
  },
  {
   "cell_type": "code",
   "execution_count": 36,
   "metadata": {},
   "outputs": [
    {
     "data": {
      "text/plain": [
       "(1109, 2)"
      ]
     },
     "execution_count": 36,
     "metadata": {},
     "output_type": "execute_result"
    }
   ],
   "source": [
    "submit=pd.read_csv(\"data/submission_example.csv\")\n",
    "#submit.head()\n",
    "submit.shape\n"
   ]
  },
  {
   "cell_type": "code",
   "execution_count": 37,
   "metadata": {},
   "outputs": [
    {
     "data": {
      "text/html": [
       "<div>\n",
       "<style scoped>\n",
       "    .dataframe tbody tr th:only-of-type {\n",
       "        vertical-align: middle;\n",
       "    }\n",
       "\n",
       "    .dataframe tbody tr th {\n",
       "        vertical-align: top;\n",
       "    }\n",
       "\n",
       "    .dataframe thead th {\n",
       "        text-align: right;\n",
       "    }\n",
       "</style>\n",
       "<table border=\"1\" class=\"dataframe\">\n",
       "  <thead>\n",
       "    <tr style=\"text-align: right;\">\n",
       "      <th></th>\n",
       "      <th>id</th>\n",
       "      <th>salary_next_year</th>\n",
       "    </tr>\n",
       "  </thead>\n",
       "  <tbody>\n",
       "    <tr>\n",
       "      <th>0</th>\n",
       "      <td>6284</td>\n",
       "      <td>2385944</td>\n",
       "    </tr>\n",
       "    <tr>\n",
       "      <th>1</th>\n",
       "      <td>6285</td>\n",
       "      <td>603448</td>\n",
       "    </tr>\n",
       "    <tr>\n",
       "      <th>2</th>\n",
       "      <td>6286</td>\n",
       "      <td>414056</td>\n",
       "    </tr>\n",
       "    <tr>\n",
       "      <th>3</th>\n",
       "      <td>6287</td>\n",
       "      <td>3563497</td>\n",
       "    </tr>\n",
       "    <tr>\n",
       "      <th>4</th>\n",
       "      <td>6288</td>\n",
       "      <td>13050163</td>\n",
       "    </tr>\n",
       "  </tbody>\n",
       "</table>\n",
       "</div>"
      ],
      "text/plain": [
       "     id  salary_next_year\n",
       "0  6284           2385944\n",
       "1  6285            603448\n",
       "2  6286            414056\n",
       "3  6287           3563497\n",
       "4  6288          13050163"
      ]
     },
     "execution_count": 37,
     "metadata": {},
     "output_type": "execute_result"
    }
   ],
   "source": [
    "#merge y_pred back to testing set by ID\n",
    "submit = submit.drop(columns=['salary_next_year']).merge(test_processed[['id','salary_next_year']]\n",
    "                                                 ,on='id'\n",
    "                                                 ,how='left').astype('int')\n",
    "submit.head()"
   ]
  },
  {
   "cell_type": "code",
   "execution_count": 1277,
   "metadata": {},
   "outputs": [],
   "source": [
    "submit.to_csv('submit_22.csv', index=False)"
   ]
  },
  {
   "cell_type": "markdown",
   "metadata": {},
   "source": [
    "## Edit notes"
   ]
  },
  {
   "cell_type": "markdown",
   "metadata": {},
   "source": [
    "- Drop columns with less importance"
   ]
  },
  {
   "cell_type": "code",
   "execution_count": null,
   "metadata": {},
   "outputs": [],
   "source": []
  }
 ],
 "metadata": {
  "kernelspec": {
   "display_name": "Python 3",
   "language": "python",
   "name": "python3"
  },
  "language_info": {
   "codemirror_mode": {
    "name": "ipython",
    "version": 3
   },
   "file_extension": ".py",
   "mimetype": "text/x-python",
   "name": "python",
   "nbconvert_exporter": "python",
   "pygments_lexer": "ipython3",
   "version": "3.6.6"
  }
 },
 "nbformat": 4,
 "nbformat_minor": 4
}
